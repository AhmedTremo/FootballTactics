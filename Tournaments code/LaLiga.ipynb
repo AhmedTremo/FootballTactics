{
  "nbformat": 4,
  "nbformat_minor": 0,
  "metadata": {
    "colab": {
      "name": "bachelor",
      "provenance": [],
      "collapsed_sections": []
    },
    "kernelspec": {
      "name": "python3",
      "display_name": "Python 3"
    }
  },
  "cells": [
    {
      "cell_type": "code",
      "metadata": {
        "id": "IVXVZBtR7K9D",
        "colab": {
          "base_uri": "https://localhost:8080/",
          "height": 51
        },
        "outputId": "ee14d445-8352-4b3b-ab00-1abdf91b9736"
      },
      "source": [
        "import pandas as pd\n",
        "from pandas.io.json import json_normalize\n",
        "import json\n",
        "competitions = pd.read_json(\"/content/drive/My Drive/bachelor data/teams.json\")\n",
        "with open('/content/drive/My Drive/bachelor data/events/events_Spain.json') as f:\n",
        "    d = json.load(f)\n",
        "eventsSpain = pd.read_json('/content/drive/My Drive/bachelor data/events/events_Spain.json')\n",
        "matchesSpain = pd.read_json(\"/content/drive/My Drive/bachelor data/matches/matches_Spain.json\")\n",
        "players = pd.read_json(\"/content/drive/My Drive/bachelor data/players.json\")\n",
        "tagsName = pd.read_csv(\"/content/drive/My Drive/bachelor data/tags2name.csv\")\n",
        "teams = pd.read_json(\"/content/drive/My Drive/bachelor data/teams.json\")\n",
        "tags = json_normalize(data=d, record_path='tags', meta=['id'], record_prefix='_')"
      ],
      "execution_count": null,
      "outputs": [
        {
          "output_type": "stream",
          "text": [
            "/usr/local/lib/python3.6/dist-packages/ipykernel_launcher.py:12: FutureWarning: pandas.io.json.json_normalize is deprecated, use pandas.json_normalize instead\n",
            "  if sys.path[0] == '':\n"
          ],
          "name": "stderr"
        }
      ]
    },
    {
      "cell_type": "code",
      "metadata": {
        "id": "Q1uCgYxTfnTS",
        "colab": {
          "base_uri": "https://localhost:8080/",
          "height": 111
        },
        "outputId": "4f04ff00-631a-4116-b222-821670184236"
      },
      "source": [
        "teams[teams['city'] == 'Madrid']"
      ],
      "execution_count": null,
      "outputs": [
        {
          "output_type": "execute_result",
          "data": {
            "text/html": [
              "<div>\n",
              "<style scoped>\n",
              "    .dataframe tbody tr th:only-of-type {\n",
              "        vertical-align: middle;\n",
              "    }\n",
              "\n",
              "    .dataframe tbody tr th {\n",
              "        vertical-align: top;\n",
              "    }\n",
              "\n",
              "    .dataframe thead th {\n",
              "        text-align: right;\n",
              "    }\n",
              "</style>\n",
              "<table border=\"1\" class=\"dataframe\">\n",
              "  <thead>\n",
              "    <tr style=\"text-align: right;\">\n",
              "      <th></th>\n",
              "      <th>city</th>\n",
              "      <th>name</th>\n",
              "      <th>wyId</th>\n",
              "      <th>officialName</th>\n",
              "      <th>area</th>\n",
              "      <th>type</th>\n",
              "    </tr>\n",
              "  </thead>\n",
              "  <tbody>\n",
              "    <tr>\n",
              "      <th>10</th>\n",
              "      <td>Madrid</td>\n",
              "      <td>Atl\\u00e9tico Madrid</td>\n",
              "      <td>679</td>\n",
              "      <td>Club Atl\\u00e9tico de Madrid</td>\n",
              "      <td>{'name': 'Spain', 'id': '724', 'alpha3code': '...</td>\n",
              "      <td>club</td>\n",
              "    </tr>\n",
              "    <tr>\n",
              "      <th>14</th>\n",
              "      <td>Madrid</td>\n",
              "      <td>Real Madrid</td>\n",
              "      <td>675</td>\n",
              "      <td>Real Madrid Club de F\\u00fatbol</td>\n",
              "      <td>{'name': 'Spain', 'id': '724', 'alpha3code': '...</td>\n",
              "      <td>club</td>\n",
              "    </tr>\n",
              "  </tbody>\n",
              "</table>\n",
              "</div>"
            ],
            "text/plain": [
              "      city  ...  type\n",
              "10  Madrid  ...  club\n",
              "14  Madrid  ...  club\n",
              "\n",
              "[2 rows x 6 columns]"
            ]
          },
          "metadata": {
            "tags": []
          },
          "execution_count": 2
        }
      ]
    },
    {
      "cell_type": "code",
      "metadata": {
        "id": "rYIwYhcwvLz7",
        "colab": {
          "base_uri": "https://localhost:8080/",
          "height": 185
        },
        "outputId": "839bd2bc-238c-4d94-d746-6a459b716ab6"
      },
      "source": [
        "result = pd.merge(players,\n",
        "                 eventsSpain,\n",
        "                 left_on=['wyId'],\n",
        "                 right_on=['playerId'])\n",
        "playerEvents = result[['shortName', 'role', 'currentTeamId', 'teamId', 'playerId', 'eventId', 'eventName', 'eventSec', 'subEventId', 'subEventName', 'positions', 'matchId', 'matchPeriod', 'tags', 'id']]\n",
        "playerEvents.head(1)"
      ],
      "execution_count": null,
      "outputs": [
        {
          "output_type": "execute_result",
          "data": {
            "text/html": [
              "<div>\n",
              "<style scoped>\n",
              "    .dataframe tbody tr th:only-of-type {\n",
              "        vertical-align: middle;\n",
              "    }\n",
              "\n",
              "    .dataframe tbody tr th {\n",
              "        vertical-align: top;\n",
              "    }\n",
              "\n",
              "    .dataframe thead th {\n",
              "        text-align: right;\n",
              "    }\n",
              "</style>\n",
              "<table border=\"1\" class=\"dataframe\">\n",
              "  <thead>\n",
              "    <tr style=\"text-align: right;\">\n",
              "      <th></th>\n",
              "      <th>shortName</th>\n",
              "      <th>role</th>\n",
              "      <th>currentTeamId</th>\n",
              "      <th>teamId</th>\n",
              "      <th>playerId</th>\n",
              "      <th>eventId</th>\n",
              "      <th>eventName</th>\n",
              "      <th>eventSec</th>\n",
              "      <th>subEventId</th>\n",
              "      <th>subEventName</th>\n",
              "      <th>positions</th>\n",
              "      <th>matchId</th>\n",
              "      <th>matchPeriod</th>\n",
              "      <th>tags</th>\n",
              "      <th>id</th>\n",
              "    </tr>\n",
              "  </thead>\n",
              "  <tbody>\n",
              "    <tr>\n",
              "      <th>0</th>\n",
              "      <td>A. N'Diaye</td>\n",
              "      <td>{'code2': 'MD', 'code3': 'MID', 'name': 'Midfi...</td>\n",
              "      <td>683</td>\n",
              "      <td>682</td>\n",
              "      <td>32793</td>\n",
              "      <td>1</td>\n",
              "      <td>Duel</td>\n",
              "      <td>2161.34542</td>\n",
              "      <td>13</td>\n",
              "      <td>Ground loose ball duel</td>\n",
              "      <td>[{'y': 70, 'x': 7}, {'y': 71, 'x': 8}]</td>\n",
              "      <td>2565548</td>\n",
              "      <td>2H</td>\n",
              "      <td>[{'id': 1601}, {'id': 701}, {'id': 1802}]</td>\n",
              "      <td>180865812</td>\n",
              "    </tr>\n",
              "  </tbody>\n",
              "</table>\n",
              "</div>"
            ],
            "text/plain": [
              "    shortName  ...         id\n",
              "0  A. N'Diaye  ...  180865812\n",
              "\n",
              "[1 rows x 15 columns]"
            ]
          },
          "metadata": {
            "tags": []
          },
          "execution_count": 3
        }
      ]
    },
    {
      "cell_type": "code",
      "metadata": {
        "id": "TdhdCuDIxn_2",
        "colab": {
          "base_uri": "https://localhost:8080/",
          "height": 185
        },
        "outputId": "0c840655-400f-4c4b-fcd6-8e9681bd68c9"
      },
      "source": [
        "result2 = pd.merge(playerEvents,\n",
        "                   matchesSpain,\n",
        "                   left_on=['matchId'],\n",
        "                   right_on=['wyId'])\n",
        "playerEventsMatches = result2[['shortName', 'role', 'currentTeamId','teamId', 'playerId', 'eventId', 'eventName', 'eventSec', 'subEventId', 'subEventName', 'positions', 'tags', 'id', 'matchId', 'matchPeriod', 'gameweek']]\n",
        "playerEventsMatches.head(1)"
      ],
      "execution_count": null,
      "outputs": [
        {
          "output_type": "execute_result",
          "data": {
            "text/html": [
              "<div>\n",
              "<style scoped>\n",
              "    .dataframe tbody tr th:only-of-type {\n",
              "        vertical-align: middle;\n",
              "    }\n",
              "\n",
              "    .dataframe tbody tr th {\n",
              "        vertical-align: top;\n",
              "    }\n",
              "\n",
              "    .dataframe thead th {\n",
              "        text-align: right;\n",
              "    }\n",
              "</style>\n",
              "<table border=\"1\" class=\"dataframe\">\n",
              "  <thead>\n",
              "    <tr style=\"text-align: right;\">\n",
              "      <th></th>\n",
              "      <th>shortName</th>\n",
              "      <th>role</th>\n",
              "      <th>currentTeamId</th>\n",
              "      <th>teamId</th>\n",
              "      <th>playerId</th>\n",
              "      <th>eventId</th>\n",
              "      <th>eventName</th>\n",
              "      <th>eventSec</th>\n",
              "      <th>subEventId</th>\n",
              "      <th>subEventName</th>\n",
              "      <th>positions</th>\n",
              "      <th>tags</th>\n",
              "      <th>id</th>\n",
              "      <th>matchId</th>\n",
              "      <th>matchPeriod</th>\n",
              "      <th>gameweek</th>\n",
              "    </tr>\n",
              "  </thead>\n",
              "  <tbody>\n",
              "    <tr>\n",
              "      <th>0</th>\n",
              "      <td>A. N'Diaye</td>\n",
              "      <td>{'code2': 'MD', 'code3': 'MID', 'name': 'Midfi...</td>\n",
              "      <td>683</td>\n",
              "      <td>682</td>\n",
              "      <td>32793</td>\n",
              "      <td>1</td>\n",
              "      <td>Duel</td>\n",
              "      <td>2161.34542</td>\n",
              "      <td>13</td>\n",
              "      <td>Ground loose ball duel</td>\n",
              "      <td>[{'y': 70, 'x': 7}, {'y': 71, 'x': 8}]</td>\n",
              "      <td>[{'id': 1601}, {'id': 701}, {'id': 1802}]</td>\n",
              "      <td>180865812</td>\n",
              "      <td>2565548</td>\n",
              "      <td>2H</td>\n",
              "      <td>1</td>\n",
              "    </tr>\n",
              "  </tbody>\n",
              "</table>\n",
              "</div>"
            ],
            "text/plain": [
              "    shortName  ... gameweek\n",
              "0  A. N'Diaye  ...        1\n",
              "\n",
              "[1 rows x 16 columns]"
            ]
          },
          "metadata": {
            "tags": []
          },
          "execution_count": 4
        }
      ]
    },
    {
      "cell_type": "code",
      "metadata": {
        "id": "ZNf4V0FAu6QZ",
        "colab": {
          "base_uri": "https://localhost:8080/",
          "height": 185
        },
        "outputId": "424258cd-c888-4a88-dec3-53f981bbcc3b"
      },
      "source": [
        "playerPassMatches = pd.merge(playerEventsMatches,\n",
        "                                     tags,\n",
        "                                     on='id')\n",
        "playerSuccessfulPassMatches = playerPassMatches[(playerPassMatches['_id'] == 1801) & (playerPassMatches['eventName'] == 'Pass')]\n",
        "playerSuccessfulPassMatches.head(1)"
      ],
      "execution_count": null,
      "outputs": [
        {
          "output_type": "execute_result",
          "data": {
            "text/html": [
              "<div>\n",
              "<style scoped>\n",
              "    .dataframe tbody tr th:only-of-type {\n",
              "        vertical-align: middle;\n",
              "    }\n",
              "\n",
              "    .dataframe tbody tr th {\n",
              "        vertical-align: top;\n",
              "    }\n",
              "\n",
              "    .dataframe thead th {\n",
              "        text-align: right;\n",
              "    }\n",
              "</style>\n",
              "<table border=\"1\" class=\"dataframe\">\n",
              "  <thead>\n",
              "    <tr style=\"text-align: right;\">\n",
              "      <th></th>\n",
              "      <th>shortName</th>\n",
              "      <th>role</th>\n",
              "      <th>currentTeamId</th>\n",
              "      <th>teamId</th>\n",
              "      <th>playerId</th>\n",
              "      <th>eventId</th>\n",
              "      <th>eventName</th>\n",
              "      <th>eventSec</th>\n",
              "      <th>subEventId</th>\n",
              "      <th>subEventName</th>\n",
              "      <th>positions</th>\n",
              "      <th>tags</th>\n",
              "      <th>id</th>\n",
              "      <th>matchId</th>\n",
              "      <th>matchPeriod</th>\n",
              "      <th>gameweek</th>\n",
              "      <th>_id</th>\n",
              "    </tr>\n",
              "  </thead>\n",
              "  <tbody>\n",
              "    <tr>\n",
              "      <th>3</th>\n",
              "      <td>A. N'Diaye</td>\n",
              "      <td>{'code2': 'MD', 'code3': 'MID', 'name': 'Midfi...</td>\n",
              "      <td>683</td>\n",
              "      <td>682</td>\n",
              "      <td>32793</td>\n",
              "      <td>8</td>\n",
              "      <td>Pass</td>\n",
              "      <td>2220.191895</td>\n",
              "      <td>85</td>\n",
              "      <td>Simple pass</td>\n",
              "      <td>[{'y': 59, 'x': 42}, {'y': 47, 'x': 13}]</td>\n",
              "      <td>[{'id': 1801}]</td>\n",
              "      <td>180865823</td>\n",
              "      <td>2565548</td>\n",
              "      <td>2H</td>\n",
              "      <td>1</td>\n",
              "      <td>1801</td>\n",
              "    </tr>\n",
              "  </tbody>\n",
              "</table>\n",
              "</div>"
            ],
            "text/plain": [
              "    shortName  ...   _id\n",
              "3  A. N'Diaye  ...  1801\n",
              "\n",
              "[1 rows x 17 columns]"
            ]
          },
          "metadata": {
            "tags": []
          },
          "execution_count": 5
        }
      ]
    },
    {
      "cell_type": "code",
      "metadata": {
        "id": "5Bw9gwjoP9p_",
        "colab": {
          "base_uri": "https://localhost:8080/",
          "height": 185
        },
        "outputId": "5719ae4a-abeb-48d2-cdc1-88db7f0d14e1"
      },
      "source": [
        "playerPassMatch = playerPassMatches.loc[(playerPassMatches['matchId'] == 2565830) & (playerPassMatches['eventName'] == 'Pass') & (playerPassMatches['teamId'] == 676)]\n",
        "playerPassMatch.head(1)"
      ],
      "execution_count": null,
      "outputs": [
        {
          "output_type": "execute_result",
          "data": {
            "text/html": [
              "<div>\n",
              "<style scoped>\n",
              "    .dataframe tbody tr th:only-of-type {\n",
              "        vertical-align: middle;\n",
              "    }\n",
              "\n",
              "    .dataframe tbody tr th {\n",
              "        vertical-align: top;\n",
              "    }\n",
              "\n",
              "    .dataframe thead th {\n",
              "        text-align: right;\n",
              "    }\n",
              "</style>\n",
              "<table border=\"1\" class=\"dataframe\">\n",
              "  <thead>\n",
              "    <tr style=\"text-align: right;\">\n",
              "      <th></th>\n",
              "      <th>shortName</th>\n",
              "      <th>role</th>\n",
              "      <th>currentTeamId</th>\n",
              "      <th>teamId</th>\n",
              "      <th>playerId</th>\n",
              "      <th>eventId</th>\n",
              "      <th>eventName</th>\n",
              "      <th>eventSec</th>\n",
              "      <th>subEventId</th>\n",
              "      <th>subEventName</th>\n",
              "      <th>positions</th>\n",
              "      <th>tags</th>\n",
              "      <th>id</th>\n",
              "      <th>matchId</th>\n",
              "      <th>matchPeriod</th>\n",
              "      <th>gameweek</th>\n",
              "      <th>_id</th>\n",
              "    </tr>\n",
              "  </thead>\n",
              "  <tbody>\n",
              "    <tr>\n",
              "      <th>356183</th>\n",
              "      <td>Jordi Alba</td>\n",
              "      <td>{'code2': 'DF', 'code3': 'DEF', 'name': 'Defen...</td>\n",
              "      <td>676</td>\n",
              "      <td>676</td>\n",
              "      <td>3269</td>\n",
              "      <td>8</td>\n",
              "      <td>Pass</td>\n",
              "      <td>118.476911</td>\n",
              "      <td>85</td>\n",
              "      <td>Simple pass</td>\n",
              "      <td>[{'y': 49, 'x': 47}, {'y': 65, 'x': 35}]</td>\n",
              "      <td>[{'id': 1801}]</td>\n",
              "      <td>235246338</td>\n",
              "      <td>2565830</td>\n",
              "      <td>1H</td>\n",
              "      <td>29</td>\n",
              "      <td>1801</td>\n",
              "    </tr>\n",
              "  </tbody>\n",
              "</table>\n",
              "</div>"
            ],
            "text/plain": [
              "         shortName  ...   _id\n",
              "356183  Jordi Alba  ...  1801\n",
              "\n",
              "[1 rows x 17 columns]"
            ]
          },
          "metadata": {
            "tags": []
          },
          "execution_count": 6
        }
      ]
    },
    {
      "cell_type": "code",
      "metadata": {
        "id": "W2Rx76xrzpaz",
        "colab": {
          "base_uri": "https://localhost:8080/",
          "height": 185
        },
        "outputId": "5d83eb25-24bd-4d37-d2ab-a3f9ecf3eb86"
      },
      "source": [
        "playerSuccessfulPassMatch = playerSuccessfulPassMatches.loc[(playerSuccessfulPassMatches['matchId'] == 2565830) & (playerSuccessfulPassMatches['teamId'] == 676)]\n",
        "playerSuccessfulPassMatch.head(1)"
      ],
      "execution_count": null,
      "outputs": [
        {
          "output_type": "execute_result",
          "data": {
            "text/html": [
              "<div>\n",
              "<style scoped>\n",
              "    .dataframe tbody tr th:only-of-type {\n",
              "        vertical-align: middle;\n",
              "    }\n",
              "\n",
              "    .dataframe tbody tr th {\n",
              "        vertical-align: top;\n",
              "    }\n",
              "\n",
              "    .dataframe thead th {\n",
              "        text-align: right;\n",
              "    }\n",
              "</style>\n",
              "<table border=\"1\" class=\"dataframe\">\n",
              "  <thead>\n",
              "    <tr style=\"text-align: right;\">\n",
              "      <th></th>\n",
              "      <th>shortName</th>\n",
              "      <th>role</th>\n",
              "      <th>currentTeamId</th>\n",
              "      <th>teamId</th>\n",
              "      <th>playerId</th>\n",
              "      <th>eventId</th>\n",
              "      <th>eventName</th>\n",
              "      <th>eventSec</th>\n",
              "      <th>subEventId</th>\n",
              "      <th>subEventName</th>\n",
              "      <th>positions</th>\n",
              "      <th>tags</th>\n",
              "      <th>id</th>\n",
              "      <th>matchId</th>\n",
              "      <th>matchPeriod</th>\n",
              "      <th>gameweek</th>\n",
              "      <th>_id</th>\n",
              "    </tr>\n",
              "  </thead>\n",
              "  <tbody>\n",
              "    <tr>\n",
              "      <th>356183</th>\n",
              "      <td>Jordi Alba</td>\n",
              "      <td>{'code2': 'DF', 'code3': 'DEF', 'name': 'Defen...</td>\n",
              "      <td>676</td>\n",
              "      <td>676</td>\n",
              "      <td>3269</td>\n",
              "      <td>8</td>\n",
              "      <td>Pass</td>\n",
              "      <td>118.476911</td>\n",
              "      <td>85</td>\n",
              "      <td>Simple pass</td>\n",
              "      <td>[{'y': 49, 'x': 47}, {'y': 65, 'x': 35}]</td>\n",
              "      <td>[{'id': 1801}]</td>\n",
              "      <td>235246338</td>\n",
              "      <td>2565830</td>\n",
              "      <td>1H</td>\n",
              "      <td>29</td>\n",
              "      <td>1801</td>\n",
              "    </tr>\n",
              "  </tbody>\n",
              "</table>\n",
              "</div>"
            ],
            "text/plain": [
              "         shortName  ...   _id\n",
              "356183  Jordi Alba  ...  1801\n",
              "\n",
              "[1 rows x 17 columns]"
            ]
          },
          "metadata": {
            "tags": []
          },
          "execution_count": 7
        }
      ]
    },
    {
      "cell_type": "code",
      "metadata": {
        "id": "uPQ7Ltr0QWFK",
        "colab": {
          "base_uri": "https://localhost:8080/",
          "height": 80
        },
        "outputId": "59ddd299-e424-44d7-af99-2aaf3375c5c1"
      },
      "source": [
        "playerIdPasses = playerPassMatch['playerId'].value_counts().rename_axis('playerId').to_frame('passes')\n",
        "playerIdPasses.reset_index(level=0, inplace=True)\n",
        "playerIdPasses.head(1)"
      ],
      "execution_count": null,
      "outputs": [
        {
          "output_type": "execute_result",
          "data": {
            "text/html": [
              "<div>\n",
              "<style scoped>\n",
              "    .dataframe tbody tr th:only-of-type {\n",
              "        vertical-align: middle;\n",
              "    }\n",
              "\n",
              "    .dataframe tbody tr th {\n",
              "        vertical-align: top;\n",
              "    }\n",
              "\n",
              "    .dataframe thead th {\n",
              "        text-align: right;\n",
              "    }\n",
              "</style>\n",
              "<table border=\"1\" class=\"dataframe\">\n",
              "  <thead>\n",
              "    <tr style=\"text-align: right;\">\n",
              "      <th></th>\n",
              "      <th>playerId</th>\n",
              "      <th>passes</th>\n",
              "    </tr>\n",
              "  </thead>\n",
              "  <tbody>\n",
              "    <tr>\n",
              "      <th>0</th>\n",
              "      <td>25397</td>\n",
              "      <td>86</td>\n",
              "    </tr>\n",
              "  </tbody>\n",
              "</table>\n",
              "</div>"
            ],
            "text/plain": [
              "   playerId  passes\n",
              "0     25397      86"
            ]
          },
          "metadata": {
            "tags": []
          },
          "execution_count": 8
        }
      ]
    },
    {
      "cell_type": "code",
      "metadata": {
        "id": "N_5zvnrfWxS1",
        "colab": {
          "base_uri": "https://localhost:8080/",
          "height": 80
        },
        "outputId": "cabc8d76-e2bb-4859-9fa3-bfd6ac6004e2"
      },
      "source": [
        "playerIdPasses = playerSuccessfulPassMatch['playerId'].value_counts().rename_axis('playerId').to_frame('passes')\n",
        "playerIdPasses.reset_index(level=0, inplace=True)\n",
        "playerIdPasses.head(1)"
      ],
      "execution_count": null,
      "outputs": [
        {
          "output_type": "execute_result",
          "data": {
            "text/html": [
              "<div>\n",
              "<style scoped>\n",
              "    .dataframe tbody tr th:only-of-type {\n",
              "        vertical-align: middle;\n",
              "    }\n",
              "\n",
              "    .dataframe tbody tr th {\n",
              "        vertical-align: top;\n",
              "    }\n",
              "\n",
              "    .dataframe thead th {\n",
              "        text-align: right;\n",
              "    }\n",
              "</style>\n",
              "<table border=\"1\" class=\"dataframe\">\n",
              "  <thead>\n",
              "    <tr style=\"text-align: right;\">\n",
              "      <th></th>\n",
              "      <th>playerId</th>\n",
              "      <th>passes</th>\n",
              "    </tr>\n",
              "  </thead>\n",
              "  <tbody>\n",
              "    <tr>\n",
              "      <th>0</th>\n",
              "      <td>25397</td>\n",
              "      <td>72</td>\n",
              "    </tr>\n",
              "  </tbody>\n",
              "</table>\n",
              "</div>"
            ],
            "text/plain": [
              "   playerId  passes\n",
              "0     25397      72"
            ]
          },
          "metadata": {
            "tags": []
          },
          "execution_count": 9
        }
      ]
    },
    {
      "cell_type": "code",
      "metadata": {
        "id": "Nw70kBIGKFEu",
        "colab": {
          "base_uri": "https://localhost:8080/",
          "height": 80
        },
        "outputId": "9ad251c5-b3d0-42d1-bd27-e1c334366fbf"
      },
      "source": [
        "playerIdNamesPassesMerge = pd.merge(playerIdPasses,\n",
        "                               players,\n",
        "                               left_on='playerId',\n",
        "                               right_on='wyId')\n",
        "playerIdNamesPassesRoles = playerIdNamesPassesMerge[['playerId', 'shortName', 'passes', 'role']]\n",
        "playerIdNamesPassesRoles.head(1)"
      ],
      "execution_count": null,
      "outputs": [
        {
          "output_type": "execute_result",
          "data": {
            "text/html": [
              "<div>\n",
              "<style scoped>\n",
              "    .dataframe tbody tr th:only-of-type {\n",
              "        vertical-align: middle;\n",
              "    }\n",
              "\n",
              "    .dataframe tbody tr th {\n",
              "        vertical-align: top;\n",
              "    }\n",
              "\n",
              "    .dataframe thead th {\n",
              "        text-align: right;\n",
              "    }\n",
              "</style>\n",
              "<table border=\"1\" class=\"dataframe\">\n",
              "  <thead>\n",
              "    <tr style=\"text-align: right;\">\n",
              "      <th></th>\n",
              "      <th>playerId</th>\n",
              "      <th>shortName</th>\n",
              "      <th>passes</th>\n",
              "      <th>role</th>\n",
              "    </tr>\n",
              "  </thead>\n",
              "  <tbody>\n",
              "    <tr>\n",
              "      <th>0</th>\n",
              "      <td>25397</td>\n",
              "      <td>S. Umtiti</td>\n",
              "      <td>72</td>\n",
              "      <td>{'code2': 'DF', 'code3': 'DEF', 'name': 'Defen...</td>\n",
              "    </tr>\n",
              "  </tbody>\n",
              "</table>\n",
              "</div>"
            ],
            "text/plain": [
              "   playerId  ...                                               role\n",
              "0     25397  ...  {'code2': 'DF', 'code3': 'DEF', 'name': 'Defen...\n",
              "\n",
              "[1 rows x 4 columns]"
            ]
          },
          "metadata": {
            "tags": []
          },
          "execution_count": 10
        }
      ]
    },
    {
      "cell_type": "code",
      "metadata": {
        "id": "f5t3VzSQyydE",
        "colab": {
          "base_uri": "https://localhost:8080/",
          "height": 80
        },
        "outputId": "94e95e97-d0e8-4a54-8442-f360e83dab42"
      },
      "source": [
        "matchesSpainDataId = matchesSpain[['wyId', 'teamsData']]\n",
        "matchesSpainDataId.head(1)"
      ],
      "execution_count": null,
      "outputs": [
        {
          "output_type": "execute_result",
          "data": {
            "text/html": [
              "<div>\n",
              "<style scoped>\n",
              "    .dataframe tbody tr th:only-of-type {\n",
              "        vertical-align: middle;\n",
              "    }\n",
              "\n",
              "    .dataframe tbody tr th {\n",
              "        vertical-align: top;\n",
              "    }\n",
              "\n",
              "    .dataframe thead th {\n",
              "        text-align: right;\n",
              "    }\n",
              "</style>\n",
              "<table border=\"1\" class=\"dataframe\">\n",
              "  <thead>\n",
              "    <tr style=\"text-align: right;\">\n",
              "      <th></th>\n",
              "      <th>wyId</th>\n",
              "      <th>teamsData</th>\n",
              "    </tr>\n",
              "  </thead>\n",
              "  <tbody>\n",
              "    <tr>\n",
              "      <th>0</th>\n",
              "      <td>2565922</td>\n",
              "      <td>{'676': {'scoreET': 0, 'coachId': 92894, 'side...</td>\n",
              "    </tr>\n",
              "  </tbody>\n",
              "</table>\n",
              "</div>"
            ],
            "text/plain": [
              "      wyId                                          teamsData\n",
              "0  2565922  {'676': {'scoreET': 0, 'coachId': 92894, 'side..."
            ]
          },
          "metadata": {
            "tags": []
          },
          "execution_count": 11
        }
      ]
    },
    {
      "cell_type": "code",
      "metadata": {
        "id": "DN8JsyC-uC9I",
        "colab": {
          "base_uri": "https://localhost:8080/",
          "height": 80
        },
        "outputId": "b192e9c1-8636-4edb-93d5-62598578bd4a"
      },
      "source": [
        "myMatch = matchesSpainDataId.loc[matchesSpainDataId['wyId'] == 2565830]\n",
        "myMatch.head(1)"
      ],
      "execution_count": null,
      "outputs": [
        {
          "output_type": "execute_result",
          "data": {
            "text/html": [
              "<div>\n",
              "<style scoped>\n",
              "    .dataframe tbody tr th:only-of-type {\n",
              "        vertical-align: middle;\n",
              "    }\n",
              "\n",
              "    .dataframe tbody tr th {\n",
              "        vertical-align: top;\n",
              "    }\n",
              "\n",
              "    .dataframe thead th {\n",
              "        text-align: right;\n",
              "    }\n",
              "</style>\n",
              "<table border=\"1\" class=\"dataframe\">\n",
              "  <thead>\n",
              "    <tr style=\"text-align: right;\">\n",
              "      <th></th>\n",
              "      <th>wyId</th>\n",
              "      <th>teamsData</th>\n",
              "    </tr>\n",
              "  </thead>\n",
              "  <tbody>\n",
              "    <tr>\n",
              "      <th>93</th>\n",
              "      <td>2565830</td>\n",
              "      <td>{'676': {'scoreET': 0, 'coachId': 92894, 'side...</td>\n",
              "    </tr>\n",
              "  </tbody>\n",
              "</table>\n",
              "</div>"
            ],
            "text/plain": [
              "       wyId                                          teamsData\n",
              "93  2565830  {'676': {'scoreET': 0, 'coachId': 92894, 'side..."
            ]
          },
          "metadata": {
            "tags": []
          },
          "execution_count": 12
        }
      ]
    },
    {
      "cell_type": "code",
      "metadata": {
        "id": "YgYr8xkBNEiy",
        "colab": {
          "base_uri": "https://localhost:8080/",
          "height": 176
        },
        "outputId": "8fe9eda8-9662-420c-e75f-86f0258b9bb4"
      },
      "source": [
        "json_normalize(myMatch['teamsData'][93]['676']['formation']['substitutions'])"
      ],
      "execution_count": null,
      "outputs": [
        {
          "output_type": "stream",
          "text": [
            "/usr/local/lib/python3.6/dist-packages/ipykernel_launcher.py:1: FutureWarning: pandas.io.json.json_normalize is deprecated, use pandas.json_normalize instead\n",
            "  \"\"\"Entry point for launching an IPython kernel.\n"
          ],
          "name": "stderr"
        },
        {
          "output_type": "execute_result",
          "data": {
            "text/html": [
              "<div>\n",
              "<style scoped>\n",
              "    .dataframe tbody tr th:only-of-type {\n",
              "        vertical-align: middle;\n",
              "    }\n",
              "\n",
              "    .dataframe tbody tr th {\n",
              "        vertical-align: top;\n",
              "    }\n",
              "\n",
              "    .dataframe thead th {\n",
              "        text-align: right;\n",
              "    }\n",
              "</style>\n",
              "<table border=\"1\" class=\"dataframe\">\n",
              "  <thead>\n",
              "    <tr style=\"text-align: right;\">\n",
              "      <th></th>\n",
              "      <th>playerIn</th>\n",
              "      <th>playerOut</th>\n",
              "      <th>minute</th>\n",
              "    </tr>\n",
              "  </thead>\n",
              "  <tbody>\n",
              "    <tr>\n",
              "      <th>0</th>\n",
              "      <td>3353</td>\n",
              "      <td>286390</td>\n",
              "      <td>64</td>\n",
              "    </tr>\n",
              "    <tr>\n",
              "      <th>1</th>\n",
              "      <td>4256</td>\n",
              "      <td>3291</td>\n",
              "      <td>74</td>\n",
              "    </tr>\n",
              "    <tr>\n",
              "      <th>2</th>\n",
              "      <td>211885</td>\n",
              "      <td>3802</td>\n",
              "      <td>85</td>\n",
              "    </tr>\n",
              "  </tbody>\n",
              "</table>\n",
              "</div>"
            ],
            "text/plain": [
              "   playerIn  playerOut  minute\n",
              "0      3353     286390      64\n",
              "1      4256       3291      74\n",
              "2    211885       3802      85"
            ]
          },
          "metadata": {
            "tags": []
          },
          "execution_count": 13
        }
      ]
    },
    {
      "cell_type": "code",
      "metadata": {
        "id": "RUC-CFJbYjOw",
        "colab": {
          "base_uri": "https://localhost:8080/",
          "height": 85
        },
        "outputId": "267a7e2f-442f-4fe0-ebef-1b60d614232c"
      },
      "source": [
        "teamLineupId = json_normalize(myMatch['teamsData'][93]['676']['formation']['lineup'])['playerId']\n",
        "teamLineupId.head(1)"
      ],
      "execution_count": null,
      "outputs": [
        {
          "output_type": "stream",
          "text": [
            "/usr/local/lib/python3.6/dist-packages/ipykernel_launcher.py:1: FutureWarning: pandas.io.json.json_normalize is deprecated, use pandas.json_normalize instead\n",
            "  \"\"\"Entry point for launching an IPython kernel.\n"
          ],
          "name": "stderr"
        },
        {
          "output_type": "execute_result",
          "data": {
            "text/plain": [
              "0    286390\n",
              "Name: playerId, dtype: int64"
            ]
          },
          "metadata": {
            "tags": []
          },
          "execution_count": 14
        }
      ]
    },
    {
      "cell_type": "code",
      "metadata": {
        "id": "E3aWyby7cuAh",
        "colab": {
          "base_uri": "https://localhost:8080/",
          "height": 185
        },
        "outputId": "f224e023-bd0b-4811-ee99-7752b31eeb7c"
      },
      "source": [
        "players[players['wyId'] == 3353]"
      ],
      "execution_count": null,
      "outputs": [
        {
          "output_type": "execute_result",
          "data": {
            "text/html": [
              "<div>\n",
              "<style scoped>\n",
              "    .dataframe tbody tr th:only-of-type {\n",
              "        vertical-align: middle;\n",
              "    }\n",
              "\n",
              "    .dataframe tbody tr th {\n",
              "        vertical-align: top;\n",
              "    }\n",
              "\n",
              "    .dataframe thead th {\n",
              "        text-align: right;\n",
              "    }\n",
              "</style>\n",
              "<table border=\"1\" class=\"dataframe\">\n",
              "  <thead>\n",
              "    <tr style=\"text-align: right;\">\n",
              "      <th></th>\n",
              "      <th>passportArea</th>\n",
              "      <th>weight</th>\n",
              "      <th>firstName</th>\n",
              "      <th>middleName</th>\n",
              "      <th>lastName</th>\n",
              "      <th>currentTeamId</th>\n",
              "      <th>birthDate</th>\n",
              "      <th>height</th>\n",
              "      <th>role</th>\n",
              "      <th>birthArea</th>\n",
              "      <th>wyId</th>\n",
              "      <th>foot</th>\n",
              "      <th>shortName</th>\n",
              "      <th>currentNationalTeamId</th>\n",
              "    </tr>\n",
              "  </thead>\n",
              "  <tbody>\n",
              "    <tr>\n",
              "      <th>203</th>\n",
              "      <td>{'name': 'Spain', 'id': '724', 'alpha3code': '...</td>\n",
              "      <td>68</td>\n",
              "      <td>Andr\\u00e9s</td>\n",
              "      <td></td>\n",
              "      <td>Iniesta Luj\\u00e1n</td>\n",
              "      <td>12804</td>\n",
              "      <td>1984-05-11</td>\n",
              "      <td>171</td>\n",
              "      <td>{'code2': 'MD', 'code3': 'MID', 'name': 'Midfi...</td>\n",
              "      <td>{'name': 'Spain', 'id': '724', 'alpha3code': '...</td>\n",
              "      <td>3353</td>\n",
              "      <td>right</td>\n",
              "      <td>Iniesta</td>\n",
              "      <td>1598</td>\n",
              "    </tr>\n",
              "  </tbody>\n",
              "</table>\n",
              "</div>"
            ],
            "text/plain": [
              "                                          passportArea  ...  currentNationalTeamId\n",
              "203  {'name': 'Spain', 'id': '724', 'alpha3code': '...  ...                   1598\n",
              "\n",
              "[1 rows x 14 columns]"
            ]
          },
          "metadata": {
            "tags": []
          },
          "execution_count": 15
        }
      ]
    },
    {
      "cell_type": "code",
      "metadata": {
        "id": "B2SJcDz7Y2Cf",
        "colab": {
          "base_uri": "https://localhost:8080/",
          "height": 80
        },
        "outputId": "9ee4ae03-429a-4dcb-df73-85ccea773718"
      },
      "source": [
        "team = pd.merge(teamLineupId,\n",
        "         playerIdNamesPassesRoles,\n",
        "         on='playerId')\n",
        "team.head(1)"
      ],
      "execution_count": null,
      "outputs": [
        {
          "output_type": "execute_result",
          "data": {
            "text/html": [
              "<div>\n",
              "<style scoped>\n",
              "    .dataframe tbody tr th:only-of-type {\n",
              "        vertical-align: middle;\n",
              "    }\n",
              "\n",
              "    .dataframe tbody tr th {\n",
              "        vertical-align: top;\n",
              "    }\n",
              "\n",
              "    .dataframe thead th {\n",
              "        text-align: right;\n",
              "    }\n",
              "</style>\n",
              "<table border=\"1\" class=\"dataframe\">\n",
              "  <thead>\n",
              "    <tr style=\"text-align: right;\">\n",
              "      <th></th>\n",
              "      <th>playerId</th>\n",
              "      <th>shortName</th>\n",
              "      <th>passes</th>\n",
              "      <th>role</th>\n",
              "    </tr>\n",
              "  </thead>\n",
              "  <tbody>\n",
              "    <tr>\n",
              "      <th>0</th>\n",
              "      <td>286390</td>\n",
              "      <td>O. Demb\\u00e9l\\u00e9</td>\n",
              "      <td>18</td>\n",
              "      <td>{'code2': 'FW', 'code3': 'FWD', 'name': 'Forwa...</td>\n",
              "    </tr>\n",
              "  </tbody>\n",
              "</table>\n",
              "</div>"
            ],
            "text/plain": [
              "   playerId  ...                                               role\n",
              "0    286390  ...  {'code2': 'FW', 'code3': 'FWD', 'name': 'Forwa...\n",
              "\n",
              "[1 rows x 4 columns]"
            ]
          },
          "metadata": {
            "tags": []
          },
          "execution_count": 16
        }
      ]
    },
    {
      "cell_type": "code",
      "metadata": {
        "id": "x0_WNUKULQ42",
        "colab": {
          "base_uri": "https://localhost:8080/",
          "height": 114
        },
        "outputId": "0ebb1863-56b3-4f41-83e0-22fa5670026a"
      },
      "source": [
        "teamLineup = json_normalize(matchesSpain.loc[0, :]['teamsData']['676']['formation']['lineup'])\n",
        "teamLineup.head(1)"
      ],
      "execution_count": null,
      "outputs": [
        {
          "output_type": "stream",
          "text": [
            "/usr/local/lib/python3.6/dist-packages/ipykernel_launcher.py:1: FutureWarning: pandas.io.json.json_normalize is deprecated, use pandas.json_normalize instead\n",
            "  \"\"\"Entry point for launching an IPython kernel.\n"
          ],
          "name": "stderr"
        },
        {
          "output_type": "execute_result",
          "data": {
            "text/html": [
              "<div>\n",
              "<style scoped>\n",
              "    .dataframe tbody tr th:only-of-type {\n",
              "        vertical-align: middle;\n",
              "    }\n",
              "\n",
              "    .dataframe tbody tr th {\n",
              "        vertical-align: top;\n",
              "    }\n",
              "\n",
              "    .dataframe thead th {\n",
              "        text-align: right;\n",
              "    }\n",
              "</style>\n",
              "<table border=\"1\" class=\"dataframe\">\n",
              "  <thead>\n",
              "    <tr style=\"text-align: right;\">\n",
              "      <th></th>\n",
              "      <th>playerId</th>\n",
              "      <th>ownGoals</th>\n",
              "      <th>redCards</th>\n",
              "      <th>goals</th>\n",
              "      <th>yellowCards</th>\n",
              "    </tr>\n",
              "  </thead>\n",
              "  <tbody>\n",
              "    <tr>\n",
              "      <th>0</th>\n",
              "      <td>286390</td>\n",
              "      <td>0</td>\n",
              "      <td>0</td>\n",
              "      <td>null</td>\n",
              "      <td>0</td>\n",
              "    </tr>\n",
              "  </tbody>\n",
              "</table>\n",
              "</div>"
            ],
            "text/plain": [
              "   playerId ownGoals redCards goals yellowCards\n",
              "0    286390        0        0  null           0"
            ]
          },
          "metadata": {
            "tags": []
          },
          "execution_count": 17
        }
      ]
    },
    {
      "cell_type": "code",
      "metadata": {
        "id": "7ocmt9f2MUhY",
        "colab": {
          "base_uri": "https://localhost:8080/",
          "height": 80
        },
        "outputId": "c8632185-08a5-48dc-acd2-7b83d7c37dce"
      },
      "source": [
        "eventsSpain[['playerId', 'positions', 'matchId', 'id']].head(1)"
      ],
      "execution_count": null,
      "outputs": [
        {
          "output_type": "execute_result",
          "data": {
            "text/html": [
              "<div>\n",
              "<style scoped>\n",
              "    .dataframe tbody tr th:only-of-type {\n",
              "        vertical-align: middle;\n",
              "    }\n",
              "\n",
              "    .dataframe tbody tr th {\n",
              "        vertical-align: top;\n",
              "    }\n",
              "\n",
              "    .dataframe thead th {\n",
              "        text-align: right;\n",
              "    }\n",
              "</style>\n",
              "<table border=\"1\" class=\"dataframe\">\n",
              "  <thead>\n",
              "    <tr style=\"text-align: right;\">\n",
              "      <th></th>\n",
              "      <th>playerId</th>\n",
              "      <th>positions</th>\n",
              "      <th>matchId</th>\n",
              "      <th>id</th>\n",
              "    </tr>\n",
              "  </thead>\n",
              "  <tbody>\n",
              "    <tr>\n",
              "      <th>0</th>\n",
              "      <td>3542</td>\n",
              "      <td>[{'y': 61, 'x': 37}, {'y': 50, 'x': 50}]</td>\n",
              "      <td>2565548</td>\n",
              "      <td>180864419</td>\n",
              "    </tr>\n",
              "  </tbody>\n",
              "</table>\n",
              "</div>"
            ],
            "text/plain": [
              "   playerId                                 positions  matchId         id\n",
              "0      3542  [{'y': 61, 'x': 37}, {'y': 50, 'x': 50}]  2565548  180864419"
            ]
          },
          "metadata": {
            "tags": []
          },
          "execution_count": 18
        }
      ]
    },
    {
      "cell_type": "code",
      "metadata": {
        "id": "ZwHnWbk3Edfa"
      },
      "source": [
        "def playerAveragePositions (playerId, matchId):\n",
        "    player = players[players['wyId'] == playerId]\n",
        "    playerEvents = pd.merge(eventsSpain,\n",
        "            player,\n",
        "            left_on = 'playerId',\n",
        "            right_on = 'wyId')\n",
        "    playerEventsMatch = playerEvents[playerEvents['matchId'] == matchId]\n",
        "    playerEventsMatchPositionsJson = playerEventsMatch['positions'].sum()\n",
        "    del playerEventsMatchPositionsJson[1::2]\n",
        "    playerEventsMatchPositions = json_normalize(playerEventsMatchPositionsJson)\n",
        "    playerEventsMatchPositionsAverage = playerEventsMatchPositions.mean(axis = 0, skipna = True) \n",
        "    playerAveragePositions = pd.DataFrame()\n",
        "    playerAveragePositionsDataframe = playerAveragePositions.append(playerEventsMatchPositionsAverage, ignore_index=True)\n",
        "    playerIdSeries = pd.Series([playerId])\n",
        "    playerAveragePositionsDataframePlayerId = pd.concat([playerAveragePositionsDataframe, pd.DataFrame(playerIdSeries)], axis=1)\n",
        "    playerAveragePositionsDataframePlayerId.rename(columns = {0:'playerId'}, inplace = True) \n",
        "    return playerAveragePositionsDataframePlayerId\n"
      ],
      "execution_count": null,
      "outputs": []
    },
    {
      "cell_type": "code",
      "metadata": {
        "id": "YWuuHQbZRDPQ",
        "colab": {
          "base_uri": "https://localhost:8080/",
          "height": 51
        },
        "outputId": "265a8b50-ca72-4e5f-8afd-f7eaad8ef187"
      },
      "source": [
        "playerIdSeries = pd.Series([15])\n",
        "playerIdSeries.rename(\"playerId\")"
      ],
      "execution_count": null,
      "outputs": [
        {
          "output_type": "execute_result",
          "data": {
            "text/plain": [
              "0    15\n",
              "Name: playerId, dtype: int64"
            ]
          },
          "metadata": {
            "tags": []
          },
          "execution_count": 20
        }
      ]
    },
    {
      "cell_type": "code",
      "metadata": {
        "id": "7nIyHpqOgtHX",
        "colab": {
          "base_uri": "https://localhost:8080/",
          "height": 114
        },
        "outputId": "6c0fcbe0-80a7-4156-c59e-4e675531c169"
      },
      "source": [
        "def playerAveragePositions2 (playerId, matchId):\n",
        "    player = players[players['wyId'] == playerId]\n",
        "    playerEvents = pd.merge(eventsSpain,\n",
        "            player,\n",
        "            left_on = 'playerId',\n",
        "            right_on = 'wyId')\n",
        "    playerEventsMatch = playerEvents[playerEvents['matchId'] == matchId]\n",
        "    playerEventsMatchJson = playerEventsMatch['positions'].sum()\n",
        "    del playerEventsMatchJson[1::2]\n",
        "    playerEventsMatchPositions = json_normalize(playerEventsMatchJson) \n",
        "    return playerEventsMatchPositions\n",
        "\n",
        "playerAveragePositions2(15008, 2565830).head(1)"
      ],
      "execution_count": null,
      "outputs": [
        {
          "output_type": "stream",
          "text": [
            "/usr/local/lib/python3.6/dist-packages/ipykernel_launcher.py:10: FutureWarning: pandas.io.json.json_normalize is deprecated, use pandas.json_normalize instead\n",
            "  # Remove the CWD from sys.path while we load stuff.\n"
          ],
          "name": "stderr"
        },
        {
          "output_type": "execute_result",
          "data": {
            "text/html": [
              "<div>\n",
              "<style scoped>\n",
              "    .dataframe tbody tr th:only-of-type {\n",
              "        vertical-align: middle;\n",
              "    }\n",
              "\n",
              "    .dataframe tbody tr th {\n",
              "        vertical-align: top;\n",
              "    }\n",
              "\n",
              "    .dataframe thead th {\n",
              "        text-align: right;\n",
              "    }\n",
              "</style>\n",
              "<table border=\"1\" class=\"dataframe\">\n",
              "  <thead>\n",
              "    <tr style=\"text-align: right;\">\n",
              "      <th></th>\n",
              "      <th>y</th>\n",
              "      <th>x</th>\n",
              "    </tr>\n",
              "  </thead>\n",
              "  <tbody>\n",
              "    <tr>\n",
              "      <th>0</th>\n",
              "      <td>68</td>\n",
              "      <td>7</td>\n",
              "    </tr>\n",
              "  </tbody>\n",
              "</table>\n",
              "</div>"
            ],
            "text/plain": [
              "    y  x\n",
              "0  68  7"
            ]
          },
          "metadata": {
            "tags": []
          },
          "execution_count": 21
        }
      ]
    },
    {
      "cell_type": "code",
      "metadata": {
        "id": "H4kVPRglQKvK",
        "colab": {
          "base_uri": "https://localhost:8080/",
          "height": 114
        },
        "outputId": "5106ad21-12dd-47d6-f1ad-b9c5377bb3fb"
      },
      "source": [
        "terStegenPositions = playerAveragePositions(15008, 2565830)\n",
        "terStegenPositions"
      ],
      "execution_count": null,
      "outputs": [
        {
          "output_type": "stream",
          "text": [
            "/usr/local/lib/python3.6/dist-packages/ipykernel_launcher.py:10: FutureWarning: pandas.io.json.json_normalize is deprecated, use pandas.json_normalize instead\n",
            "  # Remove the CWD from sys.path while we load stuff.\n"
          ],
          "name": "stderr"
        },
        {
          "output_type": "execute_result",
          "data": {
            "text/html": [
              "<div>\n",
              "<style scoped>\n",
              "    .dataframe tbody tr th:only-of-type {\n",
              "        vertical-align: middle;\n",
              "    }\n",
              "\n",
              "    .dataframe tbody tr th {\n",
              "        vertical-align: top;\n",
              "    }\n",
              "\n",
              "    .dataframe thead th {\n",
              "        text-align: right;\n",
              "    }\n",
              "</style>\n",
              "<table border=\"1\" class=\"dataframe\">\n",
              "  <thead>\n",
              "    <tr style=\"text-align: right;\">\n",
              "      <th></th>\n",
              "      <th>x</th>\n",
              "      <th>y</th>\n",
              "      <th>playerId</th>\n",
              "    </tr>\n",
              "  </thead>\n",
              "  <tbody>\n",
              "    <tr>\n",
              "      <th>0</th>\n",
              "      <td>6.836364</td>\n",
              "      <td>40.0</td>\n",
              "      <td>15008</td>\n",
              "    </tr>\n",
              "  </tbody>\n",
              "</table>\n",
              "</div>"
            ],
            "text/plain": [
              "          x     y  playerId\n",
              "0  6.836364  40.0     15008"
            ]
          },
          "metadata": {
            "tags": []
          },
          "execution_count": 22
        }
      ]
    },
    {
      "cell_type": "code",
      "metadata": {
        "id": "ywoMp-PQF1Ux",
        "colab": {
          "base_uri": "https://localhost:8080/",
          "height": 145
        },
        "outputId": "584d370e-765b-4ce6-d320-55bc05198ad4"
      },
      "source": [
        "albaPositions = playerAveragePositions(3269, 2565830)\n",
        "albaTerStegen = pd.concat([albaPositions, terStegenPositions], axis=0)\n",
        "albaTerStegen"
      ],
      "execution_count": null,
      "outputs": [
        {
          "output_type": "stream",
          "text": [
            "/usr/local/lib/python3.6/dist-packages/ipykernel_launcher.py:10: FutureWarning: pandas.io.json.json_normalize is deprecated, use pandas.json_normalize instead\n",
            "  # Remove the CWD from sys.path while we load stuff.\n"
          ],
          "name": "stderr"
        },
        {
          "output_type": "execute_result",
          "data": {
            "text/html": [
              "<div>\n",
              "<style scoped>\n",
              "    .dataframe tbody tr th:only-of-type {\n",
              "        vertical-align: middle;\n",
              "    }\n",
              "\n",
              "    .dataframe tbody tr th {\n",
              "        vertical-align: top;\n",
              "    }\n",
              "\n",
              "    .dataframe thead th {\n",
              "        text-align: right;\n",
              "    }\n",
              "</style>\n",
              "<table border=\"1\" class=\"dataframe\">\n",
              "  <thead>\n",
              "    <tr style=\"text-align: right;\">\n",
              "      <th></th>\n",
              "      <th>x</th>\n",
              "      <th>y</th>\n",
              "      <th>playerId</th>\n",
              "    </tr>\n",
              "  </thead>\n",
              "  <tbody>\n",
              "    <tr>\n",
              "      <th>0</th>\n",
              "      <td>40.021978</td>\n",
              "      <td>18.021978</td>\n",
              "      <td>3269</td>\n",
              "    </tr>\n",
              "    <tr>\n",
              "      <th>0</th>\n",
              "      <td>6.836364</td>\n",
              "      <td>40.000000</td>\n",
              "      <td>15008</td>\n",
              "    </tr>\n",
              "  </tbody>\n",
              "</table>\n",
              "</div>"
            ],
            "text/plain": [
              "           x          y  playerId\n",
              "0  40.021978  18.021978      3269\n",
              "0   6.836364  40.000000     15008"
            ]
          },
          "metadata": {
            "tags": []
          },
          "execution_count": 23
        }
      ]
    },
    {
      "cell_type": "code",
      "metadata": {
        "id": "WY35DEA5ESKz",
        "colab": {
          "base_uri": "https://localhost:8080/",
          "height": 176
        },
        "outputId": "c430edf7-155b-4d93-992f-742045db085d"
      },
      "source": [
        "piquePositions = playerAveragePositions(3341, 2565830)\n",
        "piqueAlbaTerStegen = pd.concat([piquePositions, albaTerStegen], axis=0)\n",
        "piqueAlbaTerStegen"
      ],
      "execution_count": null,
      "outputs": [
        {
          "output_type": "stream",
          "text": [
            "/usr/local/lib/python3.6/dist-packages/ipykernel_launcher.py:10: FutureWarning: pandas.io.json.json_normalize is deprecated, use pandas.json_normalize instead\n",
            "  # Remove the CWD from sys.path while we load stuff.\n"
          ],
          "name": "stderr"
        },
        {
          "output_type": "execute_result",
          "data": {
            "text/html": [
              "<div>\n",
              "<style scoped>\n",
              "    .dataframe tbody tr th:only-of-type {\n",
              "        vertical-align: middle;\n",
              "    }\n",
              "\n",
              "    .dataframe tbody tr th {\n",
              "        vertical-align: top;\n",
              "    }\n",
              "\n",
              "    .dataframe thead th {\n",
              "        text-align: right;\n",
              "    }\n",
              "</style>\n",
              "<table border=\"1\" class=\"dataframe\">\n",
              "  <thead>\n",
              "    <tr style=\"text-align: right;\">\n",
              "      <th></th>\n",
              "      <th>x</th>\n",
              "      <th>y</th>\n",
              "      <th>playerId</th>\n",
              "    </tr>\n",
              "  </thead>\n",
              "  <tbody>\n",
              "    <tr>\n",
              "      <th>0</th>\n",
              "      <td>26.684783</td>\n",
              "      <td>69.195652</td>\n",
              "      <td>3341</td>\n",
              "    </tr>\n",
              "    <tr>\n",
              "      <th>0</th>\n",
              "      <td>40.021978</td>\n",
              "      <td>18.021978</td>\n",
              "      <td>3269</td>\n",
              "    </tr>\n",
              "    <tr>\n",
              "      <th>0</th>\n",
              "      <td>6.836364</td>\n",
              "      <td>40.000000</td>\n",
              "      <td>15008</td>\n",
              "    </tr>\n",
              "  </tbody>\n",
              "</table>\n",
              "</div>"
            ],
            "text/plain": [
              "           x          y  playerId\n",
              "0  26.684783  69.195652      3341\n",
              "0  40.021978  18.021978      3269\n",
              "0   6.836364  40.000000     15008"
            ]
          },
          "metadata": {
            "tags": []
          },
          "execution_count": 24
        }
      ]
    },
    {
      "cell_type": "code",
      "metadata": {
        "id": "26jaRXdFFUIs",
        "colab": {
          "base_uri": "https://localhost:8080/",
          "height": 207
        },
        "outputId": "aff2cbc7-c4bd-4f52-9a7a-c3f19c025d15"
      },
      "source": [
        "umtitiPositions = playerAveragePositions(25397, 2565830)\n",
        "umtitiPiqueAlbaTerStegen = pd.concat([umtitiPositions, piqueAlbaTerStegen], axis=0)\n",
        "umtitiPiqueAlbaTerStegen"
      ],
      "execution_count": null,
      "outputs": [
        {
          "output_type": "stream",
          "text": [
            "/usr/local/lib/python3.6/dist-packages/ipykernel_launcher.py:10: FutureWarning: pandas.io.json.json_normalize is deprecated, use pandas.json_normalize instead\n",
            "  # Remove the CWD from sys.path while we load stuff.\n"
          ],
          "name": "stderr"
        },
        {
          "output_type": "execute_result",
          "data": {
            "text/html": [
              "<div>\n",
              "<style scoped>\n",
              "    .dataframe tbody tr th:only-of-type {\n",
              "        vertical-align: middle;\n",
              "    }\n",
              "\n",
              "    .dataframe tbody tr th {\n",
              "        vertical-align: top;\n",
              "    }\n",
              "\n",
              "    .dataframe thead th {\n",
              "        text-align: right;\n",
              "    }\n",
              "</style>\n",
              "<table border=\"1\" class=\"dataframe\">\n",
              "  <thead>\n",
              "    <tr style=\"text-align: right;\">\n",
              "      <th></th>\n",
              "      <th>x</th>\n",
              "      <th>y</th>\n",
              "      <th>playerId</th>\n",
              "    </tr>\n",
              "  </thead>\n",
              "  <tbody>\n",
              "    <tr>\n",
              "      <th>0</th>\n",
              "      <td>26.299065</td>\n",
              "      <td>25.448598</td>\n",
              "      <td>25397</td>\n",
              "    </tr>\n",
              "    <tr>\n",
              "      <th>0</th>\n",
              "      <td>26.684783</td>\n",
              "      <td>69.195652</td>\n",
              "      <td>3341</td>\n",
              "    </tr>\n",
              "    <tr>\n",
              "      <th>0</th>\n",
              "      <td>40.021978</td>\n",
              "      <td>18.021978</td>\n",
              "      <td>3269</td>\n",
              "    </tr>\n",
              "    <tr>\n",
              "      <th>0</th>\n",
              "      <td>6.836364</td>\n",
              "      <td>40.000000</td>\n",
              "      <td>15008</td>\n",
              "    </tr>\n",
              "  </tbody>\n",
              "</table>\n",
              "</div>"
            ],
            "text/plain": [
              "           x          y  playerId\n",
              "0  26.299065  25.448598     25397\n",
              "0  26.684783  69.195652      3341\n",
              "0  40.021978  18.021978      3269\n",
              "0   6.836364  40.000000     15008"
            ]
          },
          "metadata": {
            "tags": []
          },
          "execution_count": 25
        }
      ]
    },
    {
      "cell_type": "code",
      "metadata": {
        "id": "zkxDvWxxPBVq",
        "colab": {
          "base_uri": "https://localhost:8080/",
          "height": 238
        },
        "outputId": "ea828f14-d208-4333-be54-c9cb101209ac"
      },
      "source": [
        "robertoPositions = playerAveragePositions(3347, 2565830)\n",
        "robertoUmtitiPiqueAlbaTerStegen = pd.concat([robertoPositions, umtitiPiqueAlbaTerStegen], axis=0)\n",
        "robertoUmtitiPiqueAlbaTerStegen"
      ],
      "execution_count": null,
      "outputs": [
        {
          "output_type": "stream",
          "text": [
            "/usr/local/lib/python3.6/dist-packages/ipykernel_launcher.py:10: FutureWarning: pandas.io.json.json_normalize is deprecated, use pandas.json_normalize instead\n",
            "  # Remove the CWD from sys.path while we load stuff.\n"
          ],
          "name": "stderr"
        },
        {
          "output_type": "execute_result",
          "data": {
            "text/html": [
              "<div>\n",
              "<style scoped>\n",
              "    .dataframe tbody tr th:only-of-type {\n",
              "        vertical-align: middle;\n",
              "    }\n",
              "\n",
              "    .dataframe tbody tr th {\n",
              "        vertical-align: top;\n",
              "    }\n",
              "\n",
              "    .dataframe thead th {\n",
              "        text-align: right;\n",
              "    }\n",
              "</style>\n",
              "<table border=\"1\" class=\"dataframe\">\n",
              "  <thead>\n",
              "    <tr style=\"text-align: right;\">\n",
              "      <th></th>\n",
              "      <th>x</th>\n",
              "      <th>y</th>\n",
              "      <th>playerId</th>\n",
              "    </tr>\n",
              "  </thead>\n",
              "  <tbody>\n",
              "    <tr>\n",
              "      <th>0</th>\n",
              "      <td>40.768421</td>\n",
              "      <td>83.789474</td>\n",
              "      <td>3347</td>\n",
              "    </tr>\n",
              "    <tr>\n",
              "      <th>0</th>\n",
              "      <td>26.299065</td>\n",
              "      <td>25.448598</td>\n",
              "      <td>25397</td>\n",
              "    </tr>\n",
              "    <tr>\n",
              "      <th>0</th>\n",
              "      <td>26.684783</td>\n",
              "      <td>69.195652</td>\n",
              "      <td>3341</td>\n",
              "    </tr>\n",
              "    <tr>\n",
              "      <th>0</th>\n",
              "      <td>40.021978</td>\n",
              "      <td>18.021978</td>\n",
              "      <td>3269</td>\n",
              "    </tr>\n",
              "    <tr>\n",
              "      <th>0</th>\n",
              "      <td>6.836364</td>\n",
              "      <td>40.000000</td>\n",
              "      <td>15008</td>\n",
              "    </tr>\n",
              "  </tbody>\n",
              "</table>\n",
              "</div>"
            ],
            "text/plain": [
              "           x          y  playerId\n",
              "0  40.768421  83.789474      3347\n",
              "0  26.299065  25.448598     25397\n",
              "0  26.684783  69.195652      3341\n",
              "0  40.021978  18.021978      3269\n",
              "0   6.836364  40.000000     15008"
            ]
          },
          "metadata": {
            "tags": []
          },
          "execution_count": 26
        }
      ]
    },
    {
      "cell_type": "code",
      "metadata": {
        "id": "0Bn64FcTQKgx",
        "colab": {
          "base_uri": "https://localhost:8080/",
          "height": 269
        },
        "outputId": "775f6899-ceac-44dd-d40a-0d7f90dcf872"
      },
      "source": [
        "paulinhoPositions = playerAveragePositions(40550, 2565830)\n",
        "paulinhoRobertoUmtitiPiqueAlbaTerStegen = pd.concat([paulinhoPositions, robertoUmtitiPiqueAlbaTerStegen], axis=0)\n",
        "paulinhoRobertoUmtitiPiqueAlbaTerStegen"
      ],
      "execution_count": null,
      "outputs": [
        {
          "output_type": "stream",
          "text": [
            "/usr/local/lib/python3.6/dist-packages/ipykernel_launcher.py:10: FutureWarning: pandas.io.json.json_normalize is deprecated, use pandas.json_normalize instead\n",
            "  # Remove the CWD from sys.path while we load stuff.\n"
          ],
          "name": "stderr"
        },
        {
          "output_type": "execute_result",
          "data": {
            "text/html": [
              "<div>\n",
              "<style scoped>\n",
              "    .dataframe tbody tr th:only-of-type {\n",
              "        vertical-align: middle;\n",
              "    }\n",
              "\n",
              "    .dataframe tbody tr th {\n",
              "        vertical-align: top;\n",
              "    }\n",
              "\n",
              "    .dataframe thead th {\n",
              "        text-align: right;\n",
              "    }\n",
              "</style>\n",
              "<table border=\"1\" class=\"dataframe\">\n",
              "  <thead>\n",
              "    <tr style=\"text-align: right;\">\n",
              "      <th></th>\n",
              "      <th>x</th>\n",
              "      <th>y</th>\n",
              "      <th>playerId</th>\n",
              "    </tr>\n",
              "  </thead>\n",
              "  <tbody>\n",
              "    <tr>\n",
              "      <th>0</th>\n",
              "      <td>48.380282</td>\n",
              "      <td>56.000000</td>\n",
              "      <td>40550</td>\n",
              "    </tr>\n",
              "    <tr>\n",
              "      <th>0</th>\n",
              "      <td>40.768421</td>\n",
              "      <td>83.789474</td>\n",
              "      <td>3347</td>\n",
              "    </tr>\n",
              "    <tr>\n",
              "      <th>0</th>\n",
              "      <td>26.299065</td>\n",
              "      <td>25.448598</td>\n",
              "      <td>25397</td>\n",
              "    </tr>\n",
              "    <tr>\n",
              "      <th>0</th>\n",
              "      <td>26.684783</td>\n",
              "      <td>69.195652</td>\n",
              "      <td>3341</td>\n",
              "    </tr>\n",
              "    <tr>\n",
              "      <th>0</th>\n",
              "      <td>40.021978</td>\n",
              "      <td>18.021978</td>\n",
              "      <td>3269</td>\n",
              "    </tr>\n",
              "    <tr>\n",
              "      <th>0</th>\n",
              "      <td>6.836364</td>\n",
              "      <td>40.000000</td>\n",
              "      <td>15008</td>\n",
              "    </tr>\n",
              "  </tbody>\n",
              "</table>\n",
              "</div>"
            ],
            "text/plain": [
              "           x          y  playerId\n",
              "0  48.380282  56.000000     40550\n",
              "0  40.768421  83.789474      3347\n",
              "0  26.299065  25.448598     25397\n",
              "0  26.684783  69.195652      3341\n",
              "0  40.021978  18.021978      3269\n",
              "0   6.836364  40.000000     15008"
            ]
          },
          "metadata": {
            "tags": []
          },
          "execution_count": 27
        }
      ]
    },
    {
      "cell_type": "code",
      "metadata": {
        "id": "FR14ir2QPCrn",
        "colab": {
          "base_uri": "https://localhost:8080/",
          "height": 300
        },
        "outputId": "6570b3e9-d1df-4844-de70-1743514eabf4"
      },
      "source": [
        "rakititicPositions = playerAveragePositions(3476, 2565830)\n",
        "rakititicPaulinhoRobertoUmtitiPiqueAlbaTerStegen = pd.concat([rakititicPositions, paulinhoRobertoUmtitiPiqueAlbaTerStegen], axis=0)\n",
        "rakititicPaulinhoRobertoUmtitiPiqueAlbaTerStegen"
      ],
      "execution_count": null,
      "outputs": [
        {
          "output_type": "stream",
          "text": [
            "/usr/local/lib/python3.6/dist-packages/ipykernel_launcher.py:10: FutureWarning: pandas.io.json.json_normalize is deprecated, use pandas.json_normalize instead\n",
            "  # Remove the CWD from sys.path while we load stuff.\n"
          ],
          "name": "stderr"
        },
        {
          "output_type": "execute_result",
          "data": {
            "text/html": [
              "<div>\n",
              "<style scoped>\n",
              "    .dataframe tbody tr th:only-of-type {\n",
              "        vertical-align: middle;\n",
              "    }\n",
              "\n",
              "    .dataframe tbody tr th {\n",
              "        vertical-align: top;\n",
              "    }\n",
              "\n",
              "    .dataframe thead th {\n",
              "        text-align: right;\n",
              "    }\n",
              "</style>\n",
              "<table border=\"1\" class=\"dataframe\">\n",
              "  <thead>\n",
              "    <tr style=\"text-align: right;\">\n",
              "      <th></th>\n",
              "      <th>x</th>\n",
              "      <th>y</th>\n",
              "      <th>playerId</th>\n",
              "    </tr>\n",
              "  </thead>\n",
              "  <tbody>\n",
              "    <tr>\n",
              "      <th>0</th>\n",
              "      <td>37.155340</td>\n",
              "      <td>43.291262</td>\n",
              "      <td>3476</td>\n",
              "    </tr>\n",
              "    <tr>\n",
              "      <th>0</th>\n",
              "      <td>48.380282</td>\n",
              "      <td>56.000000</td>\n",
              "      <td>40550</td>\n",
              "    </tr>\n",
              "    <tr>\n",
              "      <th>0</th>\n",
              "      <td>40.768421</td>\n",
              "      <td>83.789474</td>\n",
              "      <td>3347</td>\n",
              "    </tr>\n",
              "    <tr>\n",
              "      <th>0</th>\n",
              "      <td>26.299065</td>\n",
              "      <td>25.448598</td>\n",
              "      <td>25397</td>\n",
              "    </tr>\n",
              "    <tr>\n",
              "      <th>0</th>\n",
              "      <td>26.684783</td>\n",
              "      <td>69.195652</td>\n",
              "      <td>3341</td>\n",
              "    </tr>\n",
              "    <tr>\n",
              "      <th>0</th>\n",
              "      <td>40.021978</td>\n",
              "      <td>18.021978</td>\n",
              "      <td>3269</td>\n",
              "    </tr>\n",
              "    <tr>\n",
              "      <th>0</th>\n",
              "      <td>6.836364</td>\n",
              "      <td>40.000000</td>\n",
              "      <td>15008</td>\n",
              "    </tr>\n",
              "  </tbody>\n",
              "</table>\n",
              "</div>"
            ],
            "text/plain": [
              "           x          y  playerId\n",
              "0  37.155340  43.291262      3476\n",
              "0  48.380282  56.000000     40550\n",
              "0  40.768421  83.789474      3347\n",
              "0  26.299065  25.448598     25397\n",
              "0  26.684783  69.195652      3341\n",
              "0  40.021978  18.021978      3269\n",
              "0   6.836364  40.000000     15008"
            ]
          },
          "metadata": {
            "tags": []
          },
          "execution_count": 28
        }
      ]
    },
    {
      "cell_type": "code",
      "metadata": {
        "id": "KZEIymSyQKVm",
        "colab": {
          "base_uri": "https://localhost:8080/",
          "height": 331
        },
        "outputId": "e3320925-289e-4c2c-cc8f-c72a59f77412"
      },
      "source": [
        "coutinhoPositions = playerAveragePositions(3802, 2565830)\n",
        "coutinhoRakititicPaulinhoRobertoUmtitiPiqueAlbaTerStegen = pd.concat([coutinhoPositions, rakititicPaulinhoRobertoUmtitiPiqueAlbaTerStegen], axis=0)\n",
        "coutinhoRakititicPaulinhoRobertoUmtitiPiqueAlbaTerStegen"
      ],
      "execution_count": null,
      "outputs": [
        {
          "output_type": "stream",
          "text": [
            "/usr/local/lib/python3.6/dist-packages/ipykernel_launcher.py:10: FutureWarning: pandas.io.json.json_normalize is deprecated, use pandas.json_normalize instead\n",
            "  # Remove the CWD from sys.path while we load stuff.\n"
          ],
          "name": "stderr"
        },
        {
          "output_type": "execute_result",
          "data": {
            "text/html": [
              "<div>\n",
              "<style scoped>\n",
              "    .dataframe tbody tr th:only-of-type {\n",
              "        vertical-align: middle;\n",
              "    }\n",
              "\n",
              "    .dataframe tbody tr th {\n",
              "        vertical-align: top;\n",
              "    }\n",
              "\n",
              "    .dataframe thead th {\n",
              "        text-align: right;\n",
              "    }\n",
              "</style>\n",
              "<table border=\"1\" class=\"dataframe\">\n",
              "  <thead>\n",
              "    <tr style=\"text-align: right;\">\n",
              "      <th></th>\n",
              "      <th>x</th>\n",
              "      <th>y</th>\n",
              "      <th>playerId</th>\n",
              "    </tr>\n",
              "  </thead>\n",
              "  <tbody>\n",
              "    <tr>\n",
              "      <th>0</th>\n",
              "      <td>60.828125</td>\n",
              "      <td>26.453125</td>\n",
              "      <td>3802</td>\n",
              "    </tr>\n",
              "    <tr>\n",
              "      <th>0</th>\n",
              "      <td>37.155340</td>\n",
              "      <td>43.291262</td>\n",
              "      <td>3476</td>\n",
              "    </tr>\n",
              "    <tr>\n",
              "      <th>0</th>\n",
              "      <td>48.380282</td>\n",
              "      <td>56.000000</td>\n",
              "      <td>40550</td>\n",
              "    </tr>\n",
              "    <tr>\n",
              "      <th>0</th>\n",
              "      <td>40.768421</td>\n",
              "      <td>83.789474</td>\n",
              "      <td>3347</td>\n",
              "    </tr>\n",
              "    <tr>\n",
              "      <th>0</th>\n",
              "      <td>26.299065</td>\n",
              "      <td>25.448598</td>\n",
              "      <td>25397</td>\n",
              "    </tr>\n",
              "    <tr>\n",
              "      <th>0</th>\n",
              "      <td>26.684783</td>\n",
              "      <td>69.195652</td>\n",
              "      <td>3341</td>\n",
              "    </tr>\n",
              "    <tr>\n",
              "      <th>0</th>\n",
              "      <td>40.021978</td>\n",
              "      <td>18.021978</td>\n",
              "      <td>3269</td>\n",
              "    </tr>\n",
              "    <tr>\n",
              "      <th>0</th>\n",
              "      <td>6.836364</td>\n",
              "      <td>40.000000</td>\n",
              "      <td>15008</td>\n",
              "    </tr>\n",
              "  </tbody>\n",
              "</table>\n",
              "</div>"
            ],
            "text/plain": [
              "           x          y  playerId\n",
              "0  60.828125  26.453125      3802\n",
              "0  37.155340  43.291262      3476\n",
              "0  48.380282  56.000000     40550\n",
              "0  40.768421  83.789474      3347\n",
              "0  26.299065  25.448598     25397\n",
              "0  26.684783  69.195652      3341\n",
              "0  40.021978  18.021978      3269\n",
              "0   6.836364  40.000000     15008"
            ]
          },
          "metadata": {
            "tags": []
          },
          "execution_count": 29
        }
      ]
    },
    {
      "cell_type": "code",
      "metadata": {
        "id": "MKoRt5dlPB7V",
        "colab": {
          "base_uri": "https://localhost:8080/",
          "height": 362
        },
        "outputId": "285bea8f-39c8-44dd-e713-9d08ff8ffc81"
      },
      "source": [
        "alcacerPositions = playerAveragePositions(3291, 2565830)\n",
        "alcacerCoutinhoRakititicPaulinhoRobertoUmtitiPiqueAlbaTerStegen = pd.concat([alcacerPositions, coutinhoRakititicPaulinhoRobertoUmtitiPiqueAlbaTerStegen], axis=0)\n",
        "alcacerCoutinhoRakititicPaulinhoRobertoUmtitiPiqueAlbaTerStegen"
      ],
      "execution_count": null,
      "outputs": [
        {
          "output_type": "stream",
          "text": [
            "/usr/local/lib/python3.6/dist-packages/ipykernel_launcher.py:10: FutureWarning: pandas.io.json.json_normalize is deprecated, use pandas.json_normalize instead\n",
            "  # Remove the CWD from sys.path while we load stuff.\n"
          ],
          "name": "stderr"
        },
        {
          "output_type": "execute_result",
          "data": {
            "text/html": [
              "<div>\n",
              "<style scoped>\n",
              "    .dataframe tbody tr th:only-of-type {\n",
              "        vertical-align: middle;\n",
              "    }\n",
              "\n",
              "    .dataframe tbody tr th {\n",
              "        vertical-align: top;\n",
              "    }\n",
              "\n",
              "    .dataframe thead th {\n",
              "        text-align: right;\n",
              "    }\n",
              "</style>\n",
              "<table border=\"1\" class=\"dataframe\">\n",
              "  <thead>\n",
              "    <tr style=\"text-align: right;\">\n",
              "      <th></th>\n",
              "      <th>x</th>\n",
              "      <th>y</th>\n",
              "      <th>playerId</th>\n",
              "    </tr>\n",
              "  </thead>\n",
              "  <tbody>\n",
              "    <tr>\n",
              "      <th>0</th>\n",
              "      <td>55.157895</td>\n",
              "      <td>47.815789</td>\n",
              "      <td>3291</td>\n",
              "    </tr>\n",
              "    <tr>\n",
              "      <th>0</th>\n",
              "      <td>60.828125</td>\n",
              "      <td>26.453125</td>\n",
              "      <td>3802</td>\n",
              "    </tr>\n",
              "    <tr>\n",
              "      <th>0</th>\n",
              "      <td>37.155340</td>\n",
              "      <td>43.291262</td>\n",
              "      <td>3476</td>\n",
              "    </tr>\n",
              "    <tr>\n",
              "      <th>0</th>\n",
              "      <td>48.380282</td>\n",
              "      <td>56.000000</td>\n",
              "      <td>40550</td>\n",
              "    </tr>\n",
              "    <tr>\n",
              "      <th>0</th>\n",
              "      <td>40.768421</td>\n",
              "      <td>83.789474</td>\n",
              "      <td>3347</td>\n",
              "    </tr>\n",
              "    <tr>\n",
              "      <th>0</th>\n",
              "      <td>26.299065</td>\n",
              "      <td>25.448598</td>\n",
              "      <td>25397</td>\n",
              "    </tr>\n",
              "    <tr>\n",
              "      <th>0</th>\n",
              "      <td>26.684783</td>\n",
              "      <td>69.195652</td>\n",
              "      <td>3341</td>\n",
              "    </tr>\n",
              "    <tr>\n",
              "      <th>0</th>\n",
              "      <td>40.021978</td>\n",
              "      <td>18.021978</td>\n",
              "      <td>3269</td>\n",
              "    </tr>\n",
              "    <tr>\n",
              "      <th>0</th>\n",
              "      <td>6.836364</td>\n",
              "      <td>40.000000</td>\n",
              "      <td>15008</td>\n",
              "    </tr>\n",
              "  </tbody>\n",
              "</table>\n",
              "</div>"
            ],
            "text/plain": [
              "           x          y  playerId\n",
              "0  55.157895  47.815789      3291\n",
              "0  60.828125  26.453125      3802\n",
              "0  37.155340  43.291262      3476\n",
              "0  48.380282  56.000000     40550\n",
              "0  40.768421  83.789474      3347\n",
              "0  26.299065  25.448598     25397\n",
              "0  26.684783  69.195652      3341\n",
              "0  40.021978  18.021978      3269\n",
              "0   6.836364  40.000000     15008"
            ]
          },
          "metadata": {
            "tags": []
          },
          "execution_count": 30
        }
      ]
    },
    {
      "cell_type": "code",
      "metadata": {
        "id": "Xm7907b5PCTq",
        "colab": {
          "base_uri": "https://localhost:8080/",
          "height": 393
        },
        "outputId": "5b77486d-fb8f-48dd-dfa1-68190d4ca676"
      },
      "source": [
        "messiPositions = playerAveragePositions(3359, 2565830)\n",
        "messiAlcacerCoutinhoRakititicPaulinhoRobertoUmtitiPiqueAlbaTerStegen = pd.concat([messiPositions, alcacerCoutinhoRakititicPaulinhoRobertoUmtitiPiqueAlbaTerStegen], axis=0)\n",
        "messiAlcacerCoutinhoRakititicPaulinhoRobertoUmtitiPiqueAlbaTerStegen"
      ],
      "execution_count": null,
      "outputs": [
        {
          "output_type": "stream",
          "text": [
            "/usr/local/lib/python3.6/dist-packages/ipykernel_launcher.py:10: FutureWarning: pandas.io.json.json_normalize is deprecated, use pandas.json_normalize instead\n",
            "  # Remove the CWD from sys.path while we load stuff.\n"
          ],
          "name": "stderr"
        },
        {
          "output_type": "execute_result",
          "data": {
            "text/html": [
              "<div>\n",
              "<style scoped>\n",
              "    .dataframe tbody tr th:only-of-type {\n",
              "        vertical-align: middle;\n",
              "    }\n",
              "\n",
              "    .dataframe tbody tr th {\n",
              "        vertical-align: top;\n",
              "    }\n",
              "\n",
              "    .dataframe thead th {\n",
              "        text-align: right;\n",
              "    }\n",
              "</style>\n",
              "<table border=\"1\" class=\"dataframe\">\n",
              "  <thead>\n",
              "    <tr style=\"text-align: right;\">\n",
              "      <th></th>\n",
              "      <th>x</th>\n",
              "      <th>y</th>\n",
              "      <th>playerId</th>\n",
              "    </tr>\n",
              "  </thead>\n",
              "  <tbody>\n",
              "    <tr>\n",
              "      <th>0</th>\n",
              "      <td>63.762500</td>\n",
              "      <td>57.412500</td>\n",
              "      <td>3359</td>\n",
              "    </tr>\n",
              "    <tr>\n",
              "      <th>0</th>\n",
              "      <td>55.157895</td>\n",
              "      <td>47.815789</td>\n",
              "      <td>3291</td>\n",
              "    </tr>\n",
              "    <tr>\n",
              "      <th>0</th>\n",
              "      <td>60.828125</td>\n",
              "      <td>26.453125</td>\n",
              "      <td>3802</td>\n",
              "    </tr>\n",
              "    <tr>\n",
              "      <th>0</th>\n",
              "      <td>37.155340</td>\n",
              "      <td>43.291262</td>\n",
              "      <td>3476</td>\n",
              "    </tr>\n",
              "    <tr>\n",
              "      <th>0</th>\n",
              "      <td>48.380282</td>\n",
              "      <td>56.000000</td>\n",
              "      <td>40550</td>\n",
              "    </tr>\n",
              "    <tr>\n",
              "      <th>0</th>\n",
              "      <td>40.768421</td>\n",
              "      <td>83.789474</td>\n",
              "      <td>3347</td>\n",
              "    </tr>\n",
              "    <tr>\n",
              "      <th>0</th>\n",
              "      <td>26.299065</td>\n",
              "      <td>25.448598</td>\n",
              "      <td>25397</td>\n",
              "    </tr>\n",
              "    <tr>\n",
              "      <th>0</th>\n",
              "      <td>26.684783</td>\n",
              "      <td>69.195652</td>\n",
              "      <td>3341</td>\n",
              "    </tr>\n",
              "    <tr>\n",
              "      <th>0</th>\n",
              "      <td>40.021978</td>\n",
              "      <td>18.021978</td>\n",
              "      <td>3269</td>\n",
              "    </tr>\n",
              "    <tr>\n",
              "      <th>0</th>\n",
              "      <td>6.836364</td>\n",
              "      <td>40.000000</td>\n",
              "      <td>15008</td>\n",
              "    </tr>\n",
              "  </tbody>\n",
              "</table>\n",
              "</div>"
            ],
            "text/plain": [
              "           x          y  playerId\n",
              "0  63.762500  57.412500      3359\n",
              "0  55.157895  47.815789      3291\n",
              "0  60.828125  26.453125      3802\n",
              "0  37.155340  43.291262      3476\n",
              "0  48.380282  56.000000     40550\n",
              "0  40.768421  83.789474      3347\n",
              "0  26.299065  25.448598     25397\n",
              "0  26.684783  69.195652      3341\n",
              "0  40.021978  18.021978      3269\n",
              "0   6.836364  40.000000     15008"
            ]
          },
          "metadata": {
            "tags": []
          },
          "execution_count": 31
        }
      ]
    },
    {
      "cell_type": "code",
      "metadata": {
        "id": "-3_dvzNSQKDV",
        "colab": {
          "base_uri": "https://localhost:8080/",
          "height": 424
        },
        "outputId": "911d64bb-d96d-4344-d6fa-c7286d57acc4"
      },
      "source": [
        "dembelePositions = playerAveragePositions(286390, 2565830)\n",
        "dembeleMessiAlcacerCoutinhoRakititicPaulinhoRobertoUmtitiPiqueAlbaTerStegen = pd.concat([dembelePositions, messiAlcacerCoutinhoRakititicPaulinhoRobertoUmtitiPiqueAlbaTerStegen], axis=0)\n",
        "dembeleMessiAlcacerCoutinhoRakititicPaulinhoRobertoUmtitiPiqueAlbaTerStegen"
      ],
      "execution_count": null,
      "outputs": [
        {
          "output_type": "stream",
          "text": [
            "/usr/local/lib/python3.6/dist-packages/ipykernel_launcher.py:10: FutureWarning: pandas.io.json.json_normalize is deprecated, use pandas.json_normalize instead\n",
            "  # Remove the CWD from sys.path while we load stuff.\n"
          ],
          "name": "stderr"
        },
        {
          "output_type": "execute_result",
          "data": {
            "text/html": [
              "<div>\n",
              "<style scoped>\n",
              "    .dataframe tbody tr th:only-of-type {\n",
              "        vertical-align: middle;\n",
              "    }\n",
              "\n",
              "    .dataframe tbody tr th {\n",
              "        vertical-align: top;\n",
              "    }\n",
              "\n",
              "    .dataframe thead th {\n",
              "        text-align: right;\n",
              "    }\n",
              "</style>\n",
              "<table border=\"1\" class=\"dataframe\">\n",
              "  <thead>\n",
              "    <tr style=\"text-align: right;\">\n",
              "      <th></th>\n",
              "      <th>x</th>\n",
              "      <th>y</th>\n",
              "      <th>playerId</th>\n",
              "    </tr>\n",
              "  </thead>\n",
              "  <tbody>\n",
              "    <tr>\n",
              "      <th>0</th>\n",
              "      <td>67.055556</td>\n",
              "      <td>79.111111</td>\n",
              "      <td>286390</td>\n",
              "    </tr>\n",
              "    <tr>\n",
              "      <th>0</th>\n",
              "      <td>63.762500</td>\n",
              "      <td>57.412500</td>\n",
              "      <td>3359</td>\n",
              "    </tr>\n",
              "    <tr>\n",
              "      <th>0</th>\n",
              "      <td>55.157895</td>\n",
              "      <td>47.815789</td>\n",
              "      <td>3291</td>\n",
              "    </tr>\n",
              "    <tr>\n",
              "      <th>0</th>\n",
              "      <td>60.828125</td>\n",
              "      <td>26.453125</td>\n",
              "      <td>3802</td>\n",
              "    </tr>\n",
              "    <tr>\n",
              "      <th>0</th>\n",
              "      <td>37.155340</td>\n",
              "      <td>43.291262</td>\n",
              "      <td>3476</td>\n",
              "    </tr>\n",
              "    <tr>\n",
              "      <th>0</th>\n",
              "      <td>48.380282</td>\n",
              "      <td>56.000000</td>\n",
              "      <td>40550</td>\n",
              "    </tr>\n",
              "    <tr>\n",
              "      <th>0</th>\n",
              "      <td>40.768421</td>\n",
              "      <td>83.789474</td>\n",
              "      <td>3347</td>\n",
              "    </tr>\n",
              "    <tr>\n",
              "      <th>0</th>\n",
              "      <td>26.299065</td>\n",
              "      <td>25.448598</td>\n",
              "      <td>25397</td>\n",
              "    </tr>\n",
              "    <tr>\n",
              "      <th>0</th>\n",
              "      <td>26.684783</td>\n",
              "      <td>69.195652</td>\n",
              "      <td>3341</td>\n",
              "    </tr>\n",
              "    <tr>\n",
              "      <th>0</th>\n",
              "      <td>40.021978</td>\n",
              "      <td>18.021978</td>\n",
              "      <td>3269</td>\n",
              "    </tr>\n",
              "    <tr>\n",
              "      <th>0</th>\n",
              "      <td>6.836364</td>\n",
              "      <td>40.000000</td>\n",
              "      <td>15008</td>\n",
              "    </tr>\n",
              "  </tbody>\n",
              "</table>\n",
              "</div>"
            ],
            "text/plain": [
              "           x          y  playerId\n",
              "0  67.055556  79.111111    286390\n",
              "0  63.762500  57.412500      3359\n",
              "0  55.157895  47.815789      3291\n",
              "0  60.828125  26.453125      3802\n",
              "0  37.155340  43.291262      3476\n",
              "0  48.380282  56.000000     40550\n",
              "0  40.768421  83.789474      3347\n",
              "0  26.299065  25.448598     25397\n",
              "0  26.684783  69.195652      3341\n",
              "0  40.021978  18.021978      3269\n",
              "0   6.836364  40.000000     15008"
            ]
          },
          "metadata": {
            "tags": []
          },
          "execution_count": 32
        }
      ]
    },
    {
      "cell_type": "code",
      "metadata": {
        "id": "XPRExp7wg1Lh",
        "colab": {
          "base_uri": "https://localhost:8080/",
          "height": 390
        },
        "outputId": "bdd21bbc-045d-4b86-ac86-b5450f33af0a"
      },
      "source": [
        "barcelonaAveragePosition = pd.merge(players,\n",
        "         dembeleMessiAlcacerCoutinhoRakititicPaulinhoRobertoUmtitiPiqueAlbaTerStegen,\n",
        "         left_on='wyId',\n",
        "         right_on='playerId')\n",
        "barcelonaAveragePosition[['shortName', 'x', 'y']]"
      ],
      "execution_count": null,
      "outputs": [
        {
          "output_type": "execute_result",
          "data": {
            "text/html": [
              "<div>\n",
              "<style scoped>\n",
              "    .dataframe tbody tr th:only-of-type {\n",
              "        vertical-align: middle;\n",
              "    }\n",
              "\n",
              "    .dataframe tbody tr th {\n",
              "        vertical-align: top;\n",
              "    }\n",
              "\n",
              "    .dataframe thead th {\n",
              "        text-align: right;\n",
              "    }\n",
              "</style>\n",
              "<table border=\"1\" class=\"dataframe\">\n",
              "  <thead>\n",
              "    <tr style=\"text-align: right;\">\n",
              "      <th></th>\n",
              "      <th>shortName</th>\n",
              "      <th>x</th>\n",
              "      <th>y</th>\n",
              "    </tr>\n",
              "  </thead>\n",
              "  <tbody>\n",
              "    <tr>\n",
              "      <th>0</th>\n",
              "      <td>Jordi Alba</td>\n",
              "      <td>40.021978</td>\n",
              "      <td>18.021978</td>\n",
              "    </tr>\n",
              "    <tr>\n",
              "      <th>1</th>\n",
              "      <td>Paco Alc\\u00e1cer</td>\n",
              "      <td>55.157895</td>\n",
              "      <td>47.815789</td>\n",
              "    </tr>\n",
              "    <tr>\n",
              "      <th>2</th>\n",
              "      <td>Sergi Roberto</td>\n",
              "      <td>40.768421</td>\n",
              "      <td>83.789474</td>\n",
              "    </tr>\n",
              "    <tr>\n",
              "      <th>3</th>\n",
              "      <td>L. Messi</td>\n",
              "      <td>63.762500</td>\n",
              "      <td>57.412500</td>\n",
              "    </tr>\n",
              "    <tr>\n",
              "      <th>4</th>\n",
              "      <td>I. Rakiti\\u0107</td>\n",
              "      <td>37.155340</td>\n",
              "      <td>43.291262</td>\n",
              "    </tr>\n",
              "    <tr>\n",
              "      <th>5</th>\n",
              "      <td>Philippe Coutinho</td>\n",
              "      <td>60.828125</td>\n",
              "      <td>26.453125</td>\n",
              "    </tr>\n",
              "    <tr>\n",
              "      <th>6</th>\n",
              "      <td>Paulinho</td>\n",
              "      <td>48.380282</td>\n",
              "      <td>56.000000</td>\n",
              "    </tr>\n",
              "    <tr>\n",
              "      <th>7</th>\n",
              "      <td>M. ter Stegen</td>\n",
              "      <td>6.836364</td>\n",
              "      <td>40.000000</td>\n",
              "    </tr>\n",
              "    <tr>\n",
              "      <th>8</th>\n",
              "      <td>Piqu\\u00e9</td>\n",
              "      <td>26.684783</td>\n",
              "      <td>69.195652</td>\n",
              "    </tr>\n",
              "    <tr>\n",
              "      <th>9</th>\n",
              "      <td>O. Demb\\u00e9l\\u00e9</td>\n",
              "      <td>67.055556</td>\n",
              "      <td>79.111111</td>\n",
              "    </tr>\n",
              "    <tr>\n",
              "      <th>10</th>\n",
              "      <td>S. Umtiti</td>\n",
              "      <td>26.299065</td>\n",
              "      <td>25.448598</td>\n",
              "    </tr>\n",
              "  </tbody>\n",
              "</table>\n",
              "</div>"
            ],
            "text/plain": [
              "               shortName          x          y\n",
              "0             Jordi Alba  40.021978  18.021978\n",
              "1      Paco Alc\\u00e1cer  55.157895  47.815789\n",
              "2          Sergi Roberto  40.768421  83.789474\n",
              "3               L. Messi  63.762500  57.412500\n",
              "4        I. Rakiti\\u0107  37.155340  43.291262\n",
              "5      Philippe Coutinho  60.828125  26.453125\n",
              "6               Paulinho  48.380282  56.000000\n",
              "7          M. ter Stegen   6.836364  40.000000\n",
              "8             Piqu\\u00e9  26.684783  69.195652\n",
              "9   O. Demb\\u00e9l\\u00e9  67.055556  79.111111\n",
              "10             S. Umtiti  26.299065  25.448598"
            ]
          },
          "metadata": {
            "tags": []
          },
          "execution_count": 33
        }
      ]
    },
    {
      "cell_type": "code",
      "metadata": {
        "id": "dEPTTjFVmnJ5",
        "colab": {
          "base_uri": "https://localhost:8080/",
          "height": 589
        },
        "outputId": "5fe09842-7588-4137-f706-58e451e8eb3a"
      },
      "source": [
        "eventsSpain[eventsSpain['playerId'] == 3310]"
      ],
      "execution_count": null,
      "outputs": [
        {
          "output_type": "execute_result",
          "data": {
            "text/html": [
              "<div>\n",
              "<style scoped>\n",
              "    .dataframe tbody tr th:only-of-type {\n",
              "        vertical-align: middle;\n",
              "    }\n",
              "\n",
              "    .dataframe tbody tr th {\n",
              "        vertical-align: top;\n",
              "    }\n",
              "\n",
              "    .dataframe thead th {\n",
              "        text-align: right;\n",
              "    }\n",
              "</style>\n",
              "<table border=\"1\" class=\"dataframe\">\n",
              "  <thead>\n",
              "    <tr style=\"text-align: right;\">\n",
              "      <th></th>\n",
              "      <th>eventId</th>\n",
              "      <th>subEventName</th>\n",
              "      <th>tags</th>\n",
              "      <th>playerId</th>\n",
              "      <th>positions</th>\n",
              "      <th>matchId</th>\n",
              "      <th>eventName</th>\n",
              "      <th>teamId</th>\n",
              "      <th>matchPeriod</th>\n",
              "      <th>eventSec</th>\n",
              "      <th>subEventId</th>\n",
              "      <th>id</th>\n",
              "    </tr>\n",
              "  </thead>\n",
              "  <tbody>\n",
              "    <tr>\n",
              "      <th>11185</th>\n",
              "      <td>8</td>\n",
              "      <td>Simple pass</td>\n",
              "      <td>[{'id': 1801}]</td>\n",
              "      <td>3310</td>\n",
              "      <td>[{'y': 6, 'x': 55}, {'y': 9, 'x': 46}]</td>\n",
              "      <td>2565555</td>\n",
              "      <td>Pass</td>\n",
              "      <td>675</td>\n",
              "      <td>1H</td>\n",
              "      <td>19.681579</td>\n",
              "      <td>85</td>\n",
              "      <td>180468005</td>\n",
              "    </tr>\n",
              "    <tr>\n",
              "      <th>11195</th>\n",
              "      <td>8</td>\n",
              "      <td>Cross</td>\n",
              "      <td>[{'id': 401}, {'id': 2101}, {'id': 1802}]</td>\n",
              "      <td>3310</td>\n",
              "      <td>[{'y': 8, 'x': 93}, {'y': 100, 'x': 100}]</td>\n",
              "      <td>2565555</td>\n",
              "      <td>Pass</td>\n",
              "      <td>675</td>\n",
              "      <td>1H</td>\n",
              "      <td>41.043261</td>\n",
              "      <td>80</td>\n",
              "      <td>180468022</td>\n",
              "    </tr>\n",
              "    <tr>\n",
              "      <th>11198</th>\n",
              "      <td>3</td>\n",
              "      <td>Throw in</td>\n",
              "      <td>[{'id': 1801}]</td>\n",
              "      <td>3310</td>\n",
              "      <td>[{'y': 0, 'x': 88}, {'y': 21, 'x': 67}]</td>\n",
              "      <td>2565555</td>\n",
              "      <td>Free Kick</td>\n",
              "      <td>675</td>\n",
              "      <td>1H</td>\n",
              "      <td>48.651188</td>\n",
              "      <td>36</td>\n",
              "      <td>180468023</td>\n",
              "    </tr>\n",
              "    <tr>\n",
              "      <th>11203</th>\n",
              "      <td>8</td>\n",
              "      <td>Simple pass</td>\n",
              "      <td>[{'id': 1801}]</td>\n",
              "      <td>3310</td>\n",
              "      <td>[{'y': 10, 'x': 37}, {'y': 28, 'x': 40}]</td>\n",
              "      <td>2565555</td>\n",
              "      <td>Pass</td>\n",
              "      <td>675</td>\n",
              "      <td>1H</td>\n",
              "      <td>69.593401</td>\n",
              "      <td>85</td>\n",
              "      <td>180468026</td>\n",
              "    </tr>\n",
              "    <tr>\n",
              "      <th>11216</th>\n",
              "      <td>8</td>\n",
              "      <td>Simple pass</td>\n",
              "      <td>[{'id': 1801}]</td>\n",
              "      <td>3310</td>\n",
              "      <td>[{'y': 11, 'x': 71}, {'y': 27, 'x': 83}]</td>\n",
              "      <td>2565555</td>\n",
              "      <td>Pass</td>\n",
              "      <td>675</td>\n",
              "      <td>1H</td>\n",
              "      <td>102.320991</td>\n",
              "      <td>85</td>\n",
              "      <td>180468045</td>\n",
              "    </tr>\n",
              "    <tr>\n",
              "      <th>...</th>\n",
              "      <td>...</td>\n",
              "      <td>...</td>\n",
              "      <td>...</td>\n",
              "      <td>...</td>\n",
              "      <td>...</td>\n",
              "      <td>...</td>\n",
              "      <td>...</td>\n",
              "      <td>...</td>\n",
              "      <td>...</td>\n",
              "      <td>...</td>\n",
              "      <td>...</td>\n",
              "      <td>...</td>\n",
              "    </tr>\n",
              "    <tr>\n",
              "      <th>628577</th>\n",
              "      <td>3</td>\n",
              "      <td>Free Kick</td>\n",
              "      <td>[{'id': 1801}]</td>\n",
              "      <td>3310</td>\n",
              "      <td>[{'y': 7, 'x': 10}, {'y': 42, 'x': 31}]</td>\n",
              "      <td>2565927</td>\n",
              "      <td>Free Kick</td>\n",
              "      <td>675</td>\n",
              "      <td>2H</td>\n",
              "      <td>2686.016410</td>\n",
              "      <td>31</td>\n",
              "      <td>253302613</td>\n",
              "    </tr>\n",
              "    <tr>\n",
              "      <th>628592</th>\n",
              "      <td>8</td>\n",
              "      <td>Simple pass</td>\n",
              "      <td>[{'id': 1802}]</td>\n",
              "      <td>3310</td>\n",
              "      <td>[{'y': 8, 'x': 56}, {'y': 0, 'x': 56}]</td>\n",
              "      <td>2565927</td>\n",
              "      <td>Pass</td>\n",
              "      <td>675</td>\n",
              "      <td>2H</td>\n",
              "      <td>2713.765334</td>\n",
              "      <td>85</td>\n",
              "      <td>253302635</td>\n",
              "    </tr>\n",
              "    <tr>\n",
              "      <th>628594</th>\n",
              "      <td>3</td>\n",
              "      <td>Throw in</td>\n",
              "      <td>[{'id': 1801}]</td>\n",
              "      <td>3310</td>\n",
              "      <td>[{'y': 0, 'x': 64}, {'y': 14, 'x': 83}]</td>\n",
              "      <td>2565927</td>\n",
              "      <td>Free Kick</td>\n",
              "      <td>675</td>\n",
              "      <td>2H</td>\n",
              "      <td>2717.546911</td>\n",
              "      <td>36</td>\n",
              "      <td>253302637</td>\n",
              "    </tr>\n",
              "    <tr>\n",
              "      <th>628620</th>\n",
              "      <td>1</td>\n",
              "      <td>Ground defending duel</td>\n",
              "      <td>[{'id': 504}, {'id': 702}, {'id': 1801}]</td>\n",
              "      <td>3310</td>\n",
              "      <td>[{'y': 7, 'x': 58}, {'y': 0, 'x': 54}]</td>\n",
              "      <td>2565927</td>\n",
              "      <td>Duel</td>\n",
              "      <td>675</td>\n",
              "      <td>2H</td>\n",
              "      <td>2793.229781</td>\n",
              "      <td>12</td>\n",
              "      <td>253302666</td>\n",
              "    </tr>\n",
              "    <tr>\n",
              "      <th>628622</th>\n",
              "      <td>3</td>\n",
              "      <td>Throw in</td>\n",
              "      <td>[{'id': 1801}]</td>\n",
              "      <td>3310</td>\n",
              "      <td>[{'y': 0, 'x': 54}, {'y': 11, 'x': 37}]</td>\n",
              "      <td>2565927</td>\n",
              "      <td>Free Kick</td>\n",
              "      <td>675</td>\n",
              "      <td>2H</td>\n",
              "      <td>2806.801410</td>\n",
              "      <td>36</td>\n",
              "      <td>253302668</td>\n",
              "    </tr>\n",
              "  </tbody>\n",
              "</table>\n",
              "<p>2607 rows × 12 columns</p>\n",
              "</div>"
            ],
            "text/plain": [
              "        eventId           subEventName  ... subEventId         id\n",
              "11185         8            Simple pass  ...         85  180468005\n",
              "11195         8                  Cross  ...         80  180468022\n",
              "11198         3               Throw in  ...         36  180468023\n",
              "11203         8            Simple pass  ...         85  180468026\n",
              "11216         8            Simple pass  ...         85  180468045\n",
              "...         ...                    ...  ...        ...        ...\n",
              "628577        3              Free Kick  ...         31  253302613\n",
              "628592        8            Simple pass  ...         85  253302635\n",
              "628594        3               Throw in  ...         36  253302637\n",
              "628620        1  Ground defending duel  ...         12  253302666\n",
              "628622        3               Throw in  ...         36  253302668\n",
              "\n",
              "[2607 rows x 12 columns]"
            ]
          },
          "metadata": {
            "tags": []
          },
          "execution_count": 34
        }
      ]
    },
    {
      "cell_type": "code",
      "metadata": {
        "id": "63cxkpD7bohJ",
        "colab": {
          "base_uri": "https://localhost:8080/",
          "height": 185
        },
        "outputId": "f4703974-5e12-4984-9334-597f2d744c31"
      },
      "source": [
        "barcelonaSuccessfulPassMatch = playerSuccessfulPassMatch[playerSuccessfulPassMatch['teamId'] == 676]\n",
        "barcelonaSuccessfulPassMatch.head(1)"
      ],
      "execution_count": null,
      "outputs": [
        {
          "output_type": "execute_result",
          "data": {
            "text/html": [
              "<div>\n",
              "<style scoped>\n",
              "    .dataframe tbody tr th:only-of-type {\n",
              "        vertical-align: middle;\n",
              "    }\n",
              "\n",
              "    .dataframe tbody tr th {\n",
              "        vertical-align: top;\n",
              "    }\n",
              "\n",
              "    .dataframe thead th {\n",
              "        text-align: right;\n",
              "    }\n",
              "</style>\n",
              "<table border=\"1\" class=\"dataframe\">\n",
              "  <thead>\n",
              "    <tr style=\"text-align: right;\">\n",
              "      <th></th>\n",
              "      <th>shortName</th>\n",
              "      <th>role</th>\n",
              "      <th>currentTeamId</th>\n",
              "      <th>teamId</th>\n",
              "      <th>playerId</th>\n",
              "      <th>eventId</th>\n",
              "      <th>eventName</th>\n",
              "      <th>eventSec</th>\n",
              "      <th>subEventId</th>\n",
              "      <th>subEventName</th>\n",
              "      <th>positions</th>\n",
              "      <th>tags</th>\n",
              "      <th>id</th>\n",
              "      <th>matchId</th>\n",
              "      <th>matchPeriod</th>\n",
              "      <th>gameweek</th>\n",
              "      <th>_id</th>\n",
              "    </tr>\n",
              "  </thead>\n",
              "  <tbody>\n",
              "    <tr>\n",
              "      <th>356183</th>\n",
              "      <td>Jordi Alba</td>\n",
              "      <td>{'code2': 'DF', 'code3': 'DEF', 'name': 'Defen...</td>\n",
              "      <td>676</td>\n",
              "      <td>676</td>\n",
              "      <td>3269</td>\n",
              "      <td>8</td>\n",
              "      <td>Pass</td>\n",
              "      <td>118.476911</td>\n",
              "      <td>85</td>\n",
              "      <td>Simple pass</td>\n",
              "      <td>[{'y': 49, 'x': 47}, {'y': 65, 'x': 35}]</td>\n",
              "      <td>[{'id': 1801}]</td>\n",
              "      <td>235246338</td>\n",
              "      <td>2565830</td>\n",
              "      <td>1H</td>\n",
              "      <td>29</td>\n",
              "      <td>1801</td>\n",
              "    </tr>\n",
              "  </tbody>\n",
              "</table>\n",
              "</div>"
            ],
            "text/plain": [
              "         shortName  ...   _id\n",
              "356183  Jordi Alba  ...  1801\n",
              "\n",
              "[1 rows x 17 columns]"
            ]
          },
          "metadata": {
            "tags": []
          },
          "execution_count": 35
        }
      ]
    },
    {
      "cell_type": "code",
      "metadata": {
        "id": "ZJ1HvlnVfNa7",
        "colab": {
          "base_uri": "https://localhost:8080/",
          "height": 80
        },
        "outputId": "0f70b79d-4702-4d7b-f3d0-d0e89f7f8841"
      },
      "source": [
        "test = barcelonaSuccessfulPassMatch[['shortName',  'eventSec', 'positions']]\n",
        "test.reset_index(drop=True, inplace=True)\n",
        "test.head(1)"
      ],
      "execution_count": null,
      "outputs": [
        {
          "output_type": "execute_result",
          "data": {
            "text/html": [
              "<div>\n",
              "<style scoped>\n",
              "    .dataframe tbody tr th:only-of-type {\n",
              "        vertical-align: middle;\n",
              "    }\n",
              "\n",
              "    .dataframe tbody tr th {\n",
              "        vertical-align: top;\n",
              "    }\n",
              "\n",
              "    .dataframe thead th {\n",
              "        text-align: right;\n",
              "    }\n",
              "</style>\n",
              "<table border=\"1\" class=\"dataframe\">\n",
              "  <thead>\n",
              "    <tr style=\"text-align: right;\">\n",
              "      <th></th>\n",
              "      <th>shortName</th>\n",
              "      <th>eventSec</th>\n",
              "      <th>positions</th>\n",
              "    </tr>\n",
              "  </thead>\n",
              "  <tbody>\n",
              "    <tr>\n",
              "      <th>0</th>\n",
              "      <td>Jordi Alba</td>\n",
              "      <td>118.476911</td>\n",
              "      <td>[{'y': 49, 'x': 47}, {'y': 65, 'x': 35}]</td>\n",
              "    </tr>\n",
              "  </tbody>\n",
              "</table>\n",
              "</div>"
            ],
            "text/plain": [
              "    shortName    eventSec                                 positions\n",
              "0  Jordi Alba  118.476911  [{'y': 49, 'x': 47}, {'y': 65, 'x': 35}]"
            ]
          },
          "metadata": {
            "tags": []
          },
          "execution_count": 36
        }
      ]
    },
    {
      "cell_type": "code",
      "metadata": {
        "id": "T3sXB8-f1XLk",
        "colab": {
          "base_uri": "https://localhost:8080/",
          "height": 80
        },
        "outputId": "9fe24578-e627-4726-c4dc-9ea75ac99ead"
      },
      "source": [
        "barcelonaSuccessfulPassMatchPositions = barcelonaSuccessfulPassMatch['positions'].sum()\n",
        "del barcelonaSuccessfulPassMatchPositions[0::2]\n",
        "barcelonaSuccessfulPassMatchPositions\n",
        "x = pd.Series(barcelonaSuccessfulPassMatchPositions)\n",
        "playerNamePositionsRecepient = pd.concat([test, pd.DataFrame(x)], axis=1)\n",
        "playerNamePositionsRecepient.rename(columns = {0:'Recepient'}, inplace = True) \n",
        "playerNameRecepient = playerNamePositionsRecepient.drop(['positions'], axis=1)\n",
        "playerNameRecepient.head(1)"
      ],
      "execution_count": null,
      "outputs": [
        {
          "output_type": "execute_result",
          "data": {
            "text/html": [
              "<div>\n",
              "<style scoped>\n",
              "    .dataframe tbody tr th:only-of-type {\n",
              "        vertical-align: middle;\n",
              "    }\n",
              "\n",
              "    .dataframe tbody tr th {\n",
              "        vertical-align: top;\n",
              "    }\n",
              "\n",
              "    .dataframe thead th {\n",
              "        text-align: right;\n",
              "    }\n",
              "</style>\n",
              "<table border=\"1\" class=\"dataframe\">\n",
              "  <thead>\n",
              "    <tr style=\"text-align: right;\">\n",
              "      <th></th>\n",
              "      <th>shortName</th>\n",
              "      <th>eventSec</th>\n",
              "      <th>Recepient</th>\n",
              "    </tr>\n",
              "  </thead>\n",
              "  <tbody>\n",
              "    <tr>\n",
              "      <th>0</th>\n",
              "      <td>Jordi Alba</td>\n",
              "      <td>118.476911</td>\n",
              "      <td>{'y': 65, 'x': 35}</td>\n",
              "    </tr>\n",
              "  </tbody>\n",
              "</table>\n",
              "</div>"
            ],
            "text/plain": [
              "    shortName    eventSec           Recepient\n",
              "0  Jordi Alba  118.476911  {'y': 65, 'x': 35}"
            ]
          },
          "metadata": {
            "tags": []
          },
          "execution_count": 37
        }
      ]
    },
    {
      "cell_type": "code",
      "metadata": {
        "id": "JZB-e1Ne7NTA",
        "colab": {
          "base_uri": "https://localhost:8080/",
          "height": 80
        },
        "outputId": "1571de1d-a22b-4386-a686-1cea4c74b707"
      },
      "source": [
        "barcelonaSuccessfulPassMatchPositions2 = barcelonaSuccessfulPassMatch['positions'].sum()\n",
        "del barcelonaSuccessfulPassMatchPositions2[1::2]\n",
        "barcelonaSuccessfulPassMatchPositions2\n",
        "x2 = pd.Series(barcelonaSuccessfulPassMatchPositions2)\n",
        "playerNamePositionsSender = pd.concat([test, pd.DataFrame(x2)], axis=1)\n",
        "playerNamePositionsSender.rename(columns = {0:'Sender'}, inplace = True) \n",
        "playerNameSender = playerNamePositionsSender.drop(['positions'], axis=1)\n",
        "playerNameSender.head(1)"
      ],
      "execution_count": null,
      "outputs": [
        {
          "output_type": "execute_result",
          "data": {
            "text/html": [
              "<div>\n",
              "<style scoped>\n",
              "    .dataframe tbody tr th:only-of-type {\n",
              "        vertical-align: middle;\n",
              "    }\n",
              "\n",
              "    .dataframe tbody tr th {\n",
              "        vertical-align: top;\n",
              "    }\n",
              "\n",
              "    .dataframe thead th {\n",
              "        text-align: right;\n",
              "    }\n",
              "</style>\n",
              "<table border=\"1\" class=\"dataframe\">\n",
              "  <thead>\n",
              "    <tr style=\"text-align: right;\">\n",
              "      <th></th>\n",
              "      <th>shortName</th>\n",
              "      <th>eventSec</th>\n",
              "      <th>Sender</th>\n",
              "    </tr>\n",
              "  </thead>\n",
              "  <tbody>\n",
              "    <tr>\n",
              "      <th>0</th>\n",
              "      <td>Jordi Alba</td>\n",
              "      <td>118.476911</td>\n",
              "      <td>{'y': 49, 'x': 47}</td>\n",
              "    </tr>\n",
              "  </tbody>\n",
              "</table>\n",
              "</div>"
            ],
            "text/plain": [
              "    shortName    eventSec              Sender\n",
              "0  Jordi Alba  118.476911  {'y': 49, 'x': 47}"
            ]
          },
          "metadata": {
            "tags": []
          },
          "execution_count": 38
        }
      ]
    },
    {
      "cell_type": "code",
      "metadata": {
        "id": "JpYc69_qaTrR",
        "colab": {
          "base_uri": "https://localhost:8080/",
          "height": 34
        },
        "outputId": "1cf5255d-c884-4b9e-974a-1a19b437decf"
      },
      "source": [
        "# Create a function which calculate the difference between each x(Recepient) and x(average) for each player and same for y,\n",
        "# and then get the shortest euclidean and distance and return the player who has it.\n",
        "\n",
        "playerNameRecepient['Recepient'][0]['x']\n"
      ],
      "execution_count": null,
      "outputs": [
        {
          "output_type": "execute_result",
          "data": {
            "text/plain": [
              "35"
            ]
          },
          "metadata": {
            "tags": []
          },
          "execution_count": 39
        }
      ]
    },
    {
      "cell_type": "code",
      "metadata": {
        "id": "s3vH-VwroiPn"
      },
      "source": [
        "import math\n",
        "\n",
        "def getRecepientId(passX, passY, team):\n",
        "  min = 9999999\n",
        "  recepientId = 0;\n",
        "  for index, row in team.iterrows():\n",
        "    x = abs(passX - row['x'])\n",
        "    y = abs(passY - row['y'])\n",
        "    eucDistance = math.sqrt(x*x + y*y)\n",
        "    if (eucDistance < min): \n",
        "      min = eucDistance\n",
        "      recepientId = row['playerId']\n",
        "  return recepientId"
      ],
      "execution_count": null,
      "outputs": []
    },
    {
      "cell_type": "code",
      "metadata": {
        "id": "en7YFWNlsbM_",
        "colab": {
          "base_uri": "https://localhost:8080/",
          "height": 34
        },
        "outputId": "f7e91db4-ce70-4c4a-a096-5d309f733997"
      },
      "source": [
        "getRecepientId(7, 41, dembeleMessiAlcacerCoutinhoRakititicPaulinhoRobertoUmtitiPiqueAlbaTerStegen)"
      ],
      "execution_count": null,
      "outputs": [
        {
          "output_type": "execute_result",
          "data": {
            "text/plain": [
              "15008.0"
            ]
          },
          "metadata": {
            "tags": []
          },
          "execution_count": 41
        }
      ]
    },
    {
      "cell_type": "code",
      "metadata": {
        "id": "UdexHiPctrhD"
      },
      "source": [
        "def getRecepientIdSeries(recivingPositionsDataframe, team):\n",
        "  recepientIdSeries = pd.Series([])\n",
        "  for index, row in recivingPositionsDataframe.iterrows():\n",
        "    recepientIdSeries.append(pd.Series(getRecepientId(row['Recepient']['x'], row['Recepient']['y'], team)), ignore_index=True)\n",
        "  return recepientIdSeries"
      ],
      "execution_count": null,
      "outputs": []
    },
    {
      "cell_type": "code",
      "metadata": {
        "id": "eVd2EnWKweQQ",
        "colab": {
          "base_uri": "https://localhost:8080/",
          "height": 88
        },
        "outputId": "45952498-4caa-4938-ad8f-abedac22001a"
      },
      "source": [
        "tarek = getRecepientIdSeries(playerNameRecepient, dembeleMessiAlcacerCoutinhoRakititicPaulinhoRobertoUmtitiPiqueAlbaTerStegen)\n",
        "tarek"
      ],
      "execution_count": null,
      "outputs": [
        {
          "output_type": "stream",
          "text": [
            "/usr/local/lib/python3.6/dist-packages/ipykernel_launcher.py:2: DeprecationWarning: The default dtype for empty Series will be 'object' instead of 'float64' in a future version. Specify a dtype explicitly to silence this warning.\n",
            "  \n"
          ],
          "name": "stderr"
        },
        {
          "output_type": "execute_result",
          "data": {
            "text/plain": [
              "Series([], dtype: float64)"
            ]
          },
          "metadata": {
            "tags": []
          },
          "execution_count": 43
        }
      ]
    },
    {
      "cell_type": "code",
      "metadata": {
        "id": "dLZ50wP4couw",
        "colab": {
          "base_uri": "https://localhost:8080/",
          "height": 185
        },
        "outputId": "56429a17-50e2-4277-c256-184a7d83e8a8"
      },
      "source": [
        "eventsBarcelonaMatchAll = eventsSpain[(eventsSpain['teamId'] == 676) & (eventsSpain['matchId'] == 2565830)]\n",
        "eventsBarcelonaMatchAllPlayer = pd.merge(eventsBarcelonaMatchAll,\n",
        "                                         players,\n",
        "                                         left_on='playerId',\n",
        "                                         right_on='wyId')\n",
        "eventsBarcelonaMatchAllPlayer.reset_index(drop=True, inplace=True)\n",
        "eventsBarcelonaMatchAllPlayer.head(1)"
      ],
      "execution_count": null,
      "outputs": [
        {
          "output_type": "execute_result",
          "data": {
            "text/html": [
              "<div>\n",
              "<style scoped>\n",
              "    .dataframe tbody tr th:only-of-type {\n",
              "        vertical-align: middle;\n",
              "    }\n",
              "\n",
              "    .dataframe tbody tr th {\n",
              "        vertical-align: top;\n",
              "    }\n",
              "\n",
              "    .dataframe thead th {\n",
              "        text-align: right;\n",
              "    }\n",
              "</style>\n",
              "<table border=\"1\" class=\"dataframe\">\n",
              "  <thead>\n",
              "    <tr style=\"text-align: right;\">\n",
              "      <th></th>\n",
              "      <th>eventId</th>\n",
              "      <th>subEventName</th>\n",
              "      <th>tags</th>\n",
              "      <th>playerId</th>\n",
              "      <th>positions</th>\n",
              "      <th>matchId</th>\n",
              "      <th>eventName</th>\n",
              "      <th>teamId</th>\n",
              "      <th>matchPeriod</th>\n",
              "      <th>eventSec</th>\n",
              "      <th>subEventId</th>\n",
              "      <th>id</th>\n",
              "      <th>passportArea</th>\n",
              "      <th>weight</th>\n",
              "      <th>firstName</th>\n",
              "      <th>middleName</th>\n",
              "      <th>lastName</th>\n",
              "      <th>currentTeamId</th>\n",
              "      <th>birthDate</th>\n",
              "      <th>height</th>\n",
              "      <th>role</th>\n",
              "      <th>birthArea</th>\n",
              "      <th>wyId</th>\n",
              "      <th>foot</th>\n",
              "      <th>shortName</th>\n",
              "      <th>currentNationalTeamId</th>\n",
              "    </tr>\n",
              "  </thead>\n",
              "  <tbody>\n",
              "    <tr>\n",
              "      <th>0</th>\n",
              "      <td>1</td>\n",
              "      <td>Ground loose ball duel</td>\n",
              "      <td>[{'id': 702}, {'id': 1801}]</td>\n",
              "      <td>25397</td>\n",
              "      <td>[{'y': 29, 'x': 39}, {'y': 44, 'x': 31}]</td>\n",
              "      <td>2565830</td>\n",
              "      <td>Duel</td>\n",
              "      <td>676</td>\n",
              "      <td>1H</td>\n",
              "      <td>21.472406</td>\n",
              "      <td>13</td>\n",
              "      <td>235246306</td>\n",
              "      <td>{'name': 'France', 'id': '250', 'alpha3code': ...</td>\n",
              "      <td>75</td>\n",
              "      <td>Samuel Yves</td>\n",
              "      <td></td>\n",
              "      <td>Umtiti</td>\n",
              "      <td>676</td>\n",
              "      <td>1993-11-14</td>\n",
              "      <td>182</td>\n",
              "      <td>{'code2': 'DF', 'code3': 'DEF', 'name': 'Defen...</td>\n",
              "      <td>{'name': 'Cameroon', 'id': '120', 'alpha3code'...</td>\n",
              "      <td>25397</td>\n",
              "      <td>left</td>\n",
              "      <td>S. Umtiti</td>\n",
              "      <td>4418</td>\n",
              "    </tr>\n",
              "  </tbody>\n",
              "</table>\n",
              "</div>"
            ],
            "text/plain": [
              "   eventId            subEventName  ...  shortName  currentNationalTeamId\n",
              "0        1  Ground loose ball duel  ...  S. Umtiti                   4418\n",
              "\n",
              "[1 rows x 26 columns]"
            ]
          },
          "metadata": {
            "tags": []
          },
          "execution_count": 44
        }
      ]
    },
    {
      "cell_type": "code",
      "metadata": {
        "id": "yOyGD5rNegtC",
        "colab": {
          "base_uri": "https://localhost:8080/",
          "height": 80
        },
        "outputId": "3e271d47-dfb2-4a2c-a025-ad732fb71541"
      },
      "source": [
        "eventBarcelonaPlayerName = eventsBarcelonaMatchAllPlayer[['shortName', 'eventSec', 'eventName']]\n",
        "eventBarcelonaPlayerName.head(1)"
      ],
      "execution_count": null,
      "outputs": [
        {
          "output_type": "execute_result",
          "data": {
            "text/html": [
              "<div>\n",
              "<style scoped>\n",
              "    .dataframe tbody tr th:only-of-type {\n",
              "        vertical-align: middle;\n",
              "    }\n",
              "\n",
              "    .dataframe tbody tr th {\n",
              "        vertical-align: top;\n",
              "    }\n",
              "\n",
              "    .dataframe thead th {\n",
              "        text-align: right;\n",
              "    }\n",
              "</style>\n",
              "<table border=\"1\" class=\"dataframe\">\n",
              "  <thead>\n",
              "    <tr style=\"text-align: right;\">\n",
              "      <th></th>\n",
              "      <th>shortName</th>\n",
              "      <th>eventSec</th>\n",
              "      <th>eventName</th>\n",
              "    </tr>\n",
              "  </thead>\n",
              "  <tbody>\n",
              "    <tr>\n",
              "      <th>0</th>\n",
              "      <td>S. Umtiti</td>\n",
              "      <td>21.472406</td>\n",
              "      <td>Duel</td>\n",
              "    </tr>\n",
              "  </tbody>\n",
              "</table>\n",
              "</div>"
            ],
            "text/plain": [
              "   shortName   eventSec eventName\n",
              "0  S. Umtiti  21.472406      Duel"
            ]
          },
          "metadata": {
            "tags": []
          },
          "execution_count": 45
        }
      ]
    },
    {
      "cell_type": "code",
      "metadata": {
        "id": "Z_aaEK6jeOIN",
        "colab": {
          "base_uri": "https://localhost:8080/",
          "height": 80
        },
        "outputId": "547ae8e7-c8a1-4916-8e4c-12263a776216"
      },
      "source": [
        "barcelonaPositionSum2 = eventsBarcelonaMatchAllPlayer['positions'].sum()\n",
        "del barcelonaPositionSum2[1::2]\n",
        "seriesSum2 = pd.Series(barcelonaPositionSum2)\n",
        "eventBarcelonaPlayerName.reset_index(drop=True, inplace=True)\n",
        "playerNameAllEventSender = pd.concat([eventBarcelonaPlayerName, pd.DataFrame(seriesSum2)], axis=1)\n",
        "playerNameAllEventSender.rename(columns = {0:'Sender'}, inplace = True) \n",
        "playerNameAllEventSender.head(1)"
      ],
      "execution_count": null,
      "outputs": [
        {
          "output_type": "execute_result",
          "data": {
            "text/html": [
              "<div>\n",
              "<style scoped>\n",
              "    .dataframe tbody tr th:only-of-type {\n",
              "        vertical-align: middle;\n",
              "    }\n",
              "\n",
              "    .dataframe tbody tr th {\n",
              "        vertical-align: top;\n",
              "    }\n",
              "\n",
              "    .dataframe thead th {\n",
              "        text-align: right;\n",
              "    }\n",
              "</style>\n",
              "<table border=\"1\" class=\"dataframe\">\n",
              "  <thead>\n",
              "    <tr style=\"text-align: right;\">\n",
              "      <th></th>\n",
              "      <th>shortName</th>\n",
              "      <th>eventSec</th>\n",
              "      <th>eventName</th>\n",
              "      <th>Sender</th>\n",
              "    </tr>\n",
              "  </thead>\n",
              "  <tbody>\n",
              "    <tr>\n",
              "      <th>0</th>\n",
              "      <td>S. Umtiti</td>\n",
              "      <td>21.472406</td>\n",
              "      <td>Duel</td>\n",
              "      <td>{'y': 29, 'x': 39}</td>\n",
              "    </tr>\n",
              "  </tbody>\n",
              "</table>\n",
              "</div>"
            ],
            "text/plain": [
              "   shortName   eventSec eventName              Sender\n",
              "0  S. Umtiti  21.472406      Duel  {'y': 29, 'x': 39}"
            ]
          },
          "metadata": {
            "tags": []
          },
          "execution_count": 46
        }
      ]
    },
    {
      "cell_type": "code",
      "metadata": {
        "id": "XZ7qgAQJPmKR",
        "colab": {
          "base_uri": "https://localhost:8080/",
          "height": 185
        },
        "outputId": "714975f7-318f-41eb-df66-65efc7ef2573"
      },
      "source": [
        "eventsBarcelona = playerSuccessfulPassMatches[playerSuccessfulPassMatches['teamId'] == 676]\n",
        "eventsBarcelona.head(1)"
      ],
      "execution_count": null,
      "outputs": [
        {
          "output_type": "execute_result",
          "data": {
            "text/html": [
              "<div>\n",
              "<style scoped>\n",
              "    .dataframe tbody tr th:only-of-type {\n",
              "        vertical-align: middle;\n",
              "    }\n",
              "\n",
              "    .dataframe tbody tr th {\n",
              "        vertical-align: top;\n",
              "    }\n",
              "\n",
              "    .dataframe thead th {\n",
              "        text-align: right;\n",
              "    }\n",
              "</style>\n",
              "<table border=\"1\" class=\"dataframe\">\n",
              "  <thead>\n",
              "    <tr style=\"text-align: right;\">\n",
              "      <th></th>\n",
              "      <th>shortName</th>\n",
              "      <th>role</th>\n",
              "      <th>currentTeamId</th>\n",
              "      <th>teamId</th>\n",
              "      <th>playerId</th>\n",
              "      <th>eventId</th>\n",
              "      <th>eventName</th>\n",
              "      <th>eventSec</th>\n",
              "      <th>subEventId</th>\n",
              "      <th>subEventName</th>\n",
              "      <th>positions</th>\n",
              "      <th>tags</th>\n",
              "      <th>id</th>\n",
              "      <th>matchId</th>\n",
              "      <th>matchPeriod</th>\n",
              "      <th>gameweek</th>\n",
              "      <th>_id</th>\n",
              "    </tr>\n",
              "  </thead>\n",
              "  <tbody>\n",
              "    <tr>\n",
              "      <th>4224</th>\n",
              "      <td>J. Cillessen</td>\n",
              "      <td>{'code2': 'GK', 'code3': 'GKP', 'name': 'Goalk...</td>\n",
              "      <td>676</td>\n",
              "      <td>676</td>\n",
              "      <td>33</td>\n",
              "      <td>8</td>\n",
              "      <td>Pass</td>\n",
              "      <td>168.789698</td>\n",
              "      <td>85</td>\n",
              "      <td>Simple pass</td>\n",
              "      <td>[{'y': 55, 'x': 12}, {'y': 75, 'x': 28}]</td>\n",
              "      <td>[{'id': 1801}]</td>\n",
              "      <td>250599497</td>\n",
              "      <td>2565884</td>\n",
              "      <td>1H</td>\n",
              "      <td>34</td>\n",
              "      <td>1801</td>\n",
              "    </tr>\n",
              "  </tbody>\n",
              "</table>\n",
              "</div>"
            ],
            "text/plain": [
              "         shortName  ...   _id\n",
              "4224  J. Cillessen  ...  1801\n",
              "\n",
              "[1 rows x 17 columns]"
            ]
          },
          "metadata": {
            "tags": []
          },
          "execution_count": 47
        }
      ]
    },
    {
      "cell_type": "code",
      "metadata": {
        "id": "0t6TYECgP43h",
        "colab": {
          "base_uri": "https://localhost:8080/",
          "height": 185
        },
        "outputId": "846dad40-7113-4006-9e33-8c13a4fc66f9"
      },
      "source": [
        "eventsBarcelonaMatchPlayer = eventsBarcelona[(eventsBarcelona['matchId'] == 2565830)]\n",
        "eventsBarcelonaMatchPlayer.head(1)"
      ],
      "execution_count": null,
      "outputs": [
        {
          "output_type": "execute_result",
          "data": {
            "text/html": [
              "<div>\n",
              "<style scoped>\n",
              "    .dataframe tbody tr th:only-of-type {\n",
              "        vertical-align: middle;\n",
              "    }\n",
              "\n",
              "    .dataframe tbody tr th {\n",
              "        vertical-align: top;\n",
              "    }\n",
              "\n",
              "    .dataframe thead th {\n",
              "        text-align: right;\n",
              "    }\n",
              "</style>\n",
              "<table border=\"1\" class=\"dataframe\">\n",
              "  <thead>\n",
              "    <tr style=\"text-align: right;\">\n",
              "      <th></th>\n",
              "      <th>shortName</th>\n",
              "      <th>role</th>\n",
              "      <th>currentTeamId</th>\n",
              "      <th>teamId</th>\n",
              "      <th>playerId</th>\n",
              "      <th>eventId</th>\n",
              "      <th>eventName</th>\n",
              "      <th>eventSec</th>\n",
              "      <th>subEventId</th>\n",
              "      <th>subEventName</th>\n",
              "      <th>positions</th>\n",
              "      <th>tags</th>\n",
              "      <th>id</th>\n",
              "      <th>matchId</th>\n",
              "      <th>matchPeriod</th>\n",
              "      <th>gameweek</th>\n",
              "      <th>_id</th>\n",
              "    </tr>\n",
              "  </thead>\n",
              "  <tbody>\n",
              "    <tr>\n",
              "      <th>356183</th>\n",
              "      <td>Jordi Alba</td>\n",
              "      <td>{'code2': 'DF', 'code3': 'DEF', 'name': 'Defen...</td>\n",
              "      <td>676</td>\n",
              "      <td>676</td>\n",
              "      <td>3269</td>\n",
              "      <td>8</td>\n",
              "      <td>Pass</td>\n",
              "      <td>118.476911</td>\n",
              "      <td>85</td>\n",
              "      <td>Simple pass</td>\n",
              "      <td>[{'y': 49, 'x': 47}, {'y': 65, 'x': 35}]</td>\n",
              "      <td>[{'id': 1801}]</td>\n",
              "      <td>235246338</td>\n",
              "      <td>2565830</td>\n",
              "      <td>1H</td>\n",
              "      <td>29</td>\n",
              "      <td>1801</td>\n",
              "    </tr>\n",
              "  </tbody>\n",
              "</table>\n",
              "</div>"
            ],
            "text/plain": [
              "         shortName  ...   _id\n",
              "356183  Jordi Alba  ...  1801\n",
              "\n",
              "[1 rows x 17 columns]"
            ]
          },
          "metadata": {
            "tags": []
          },
          "execution_count": 48
        }
      ]
    },
    {
      "cell_type": "code",
      "metadata": {
        "id": "U5pqKLvv_BRZ",
        "colab": {
          "base_uri": "https://localhost:8080/",
          "height": 80
        },
        "outputId": "b87ce194-0561-4f66-f589-1747c04e28ab"
      },
      "source": [
        "eventPlayerName = eventsBarcelonaMatchPlayer[['shortName', 'eventSec', 'eventName']]\n",
        "eventPlayerName.head(1)"
      ],
      "execution_count": null,
      "outputs": [
        {
          "output_type": "execute_result",
          "data": {
            "text/html": [
              "<div>\n",
              "<style scoped>\n",
              "    .dataframe tbody tr th:only-of-type {\n",
              "        vertical-align: middle;\n",
              "    }\n",
              "\n",
              "    .dataframe tbody tr th {\n",
              "        vertical-align: top;\n",
              "    }\n",
              "\n",
              "    .dataframe thead th {\n",
              "        text-align: right;\n",
              "    }\n",
              "</style>\n",
              "<table border=\"1\" class=\"dataframe\">\n",
              "  <thead>\n",
              "    <tr style=\"text-align: right;\">\n",
              "      <th></th>\n",
              "      <th>shortName</th>\n",
              "      <th>eventSec</th>\n",
              "      <th>eventName</th>\n",
              "    </tr>\n",
              "  </thead>\n",
              "  <tbody>\n",
              "    <tr>\n",
              "      <th>356183</th>\n",
              "      <td>Jordi Alba</td>\n",
              "      <td>118.476911</td>\n",
              "      <td>Pass</td>\n",
              "    </tr>\n",
              "  </tbody>\n",
              "</table>\n",
              "</div>"
            ],
            "text/plain": [
              "         shortName    eventSec eventName\n",
              "356183  Jordi Alba  118.476911      Pass"
            ]
          },
          "metadata": {
            "tags": []
          },
          "execution_count": 49
        }
      ]
    },
    {
      "cell_type": "code",
      "metadata": {
        "id": "9O3GF8O1884Y",
        "colab": {
          "base_uri": "https://localhost:8080/",
          "height": 80
        },
        "outputId": "b6c750ea-f379-4ff8-83cf-b73996594d05"
      },
      "source": [
        "barcelonaPositionSum = eventsBarcelonaMatchPlayer['positions'].sum()\n",
        "del barcelonaPositionSum[1::2]\n",
        "seriesSum = pd.Series(barcelonaPositionSum)\n",
        "eventPlayerName.reset_index(drop=True, inplace=True)\n",
        "playerNameSender2 = pd.concat([eventPlayerName, pd.DataFrame(seriesSum)], axis=1)\n",
        "playerNameSender2.rename(columns = {0:'Sender'}, inplace = True) \n",
        "playerNameSender2.head(1)"
      ],
      "execution_count": null,
      "outputs": [
        {
          "output_type": "execute_result",
          "data": {
            "text/html": [
              "<div>\n",
              "<style scoped>\n",
              "    .dataframe tbody tr th:only-of-type {\n",
              "        vertical-align: middle;\n",
              "    }\n",
              "\n",
              "    .dataframe tbody tr th {\n",
              "        vertical-align: top;\n",
              "    }\n",
              "\n",
              "    .dataframe thead th {\n",
              "        text-align: right;\n",
              "    }\n",
              "</style>\n",
              "<table border=\"1\" class=\"dataframe\">\n",
              "  <thead>\n",
              "    <tr style=\"text-align: right;\">\n",
              "      <th></th>\n",
              "      <th>shortName</th>\n",
              "      <th>eventSec</th>\n",
              "      <th>eventName</th>\n",
              "      <th>Sender</th>\n",
              "    </tr>\n",
              "  </thead>\n",
              "  <tbody>\n",
              "    <tr>\n",
              "      <th>0</th>\n",
              "      <td>Jordi Alba</td>\n",
              "      <td>118.476911</td>\n",
              "      <td>Pass</td>\n",
              "      <td>{'y': 49, 'x': 47}</td>\n",
              "    </tr>\n",
              "  </tbody>\n",
              "</table>\n",
              "</div>"
            ],
            "text/plain": [
              "    shortName    eventSec eventName              Sender\n",
              "0  Jordi Alba  118.476911      Pass  {'y': 49, 'x': 47}"
            ]
          },
          "metadata": {
            "tags": []
          },
          "execution_count": 50
        }
      ]
    },
    {
      "cell_type": "code",
      "metadata": {
        "id": "_eCzZAlvB-iB"
      },
      "source": [
        "def checkZones(dataframe, columnName):\n",
        "  resultSeries = pd.Series([])\n",
        "  i = -1\n",
        "  for index, row in dataframe.iterrows():\n",
        "    x = (row[columnName])['x']\n",
        "    y = (row[columnName])['y']\n",
        "    index = i + 1\n",
        "    resultSeries = resultSeries.append(pd.Series([(y - (y % 10)) + (x // 10)]), ignore_index=True)\n",
        "  return resultSeries"
      ],
      "execution_count": null,
      "outputs": []
    },
    {
      "cell_type": "code",
      "metadata": {
        "id": "Ks5J2NOlFFN8",
        "colab": {
          "base_uri": "https://localhost:8080/",
          "height": 34
        },
        "outputId": "8c18e75a-6b69-4475-c5dc-736cc6cc9739"
      },
      "source": [
        "playerNameSender2.loc[0, :]['Sender']['x']"
      ],
      "execution_count": null,
      "outputs": [
        {
          "output_type": "execute_result",
          "data": {
            "text/plain": [
              "47"
            ]
          },
          "metadata": {
            "tags": []
          },
          "execution_count": 52
        }
      ]
    },
    {
      "cell_type": "code",
      "metadata": {
        "id": "LKJdhW2VE1Xq",
        "colab": {
          "base_uri": "https://localhost:8080/",
          "height": 134
        },
        "outputId": "da171e1d-dc00-489d-d5ae-9f8c2b940037"
      },
      "source": [
        "zoneSeries = checkZones(playerNameSender2, 'Sender')\n",
        "playerNameSenderZone = pd.concat([playerNameSender2, pd.DataFrame(zoneSeries)], axis=1, ignore_index=True)\n",
        "playerNameSenderZone.rename(columns = {0:'PlayerName', 1:'EventSecond', 2:'EventName', 3:'SenderPosition', 4:'Zone'}, inplace = True) \n",
        "playerNameSenderZoneSorted = playerNameSenderZone.sort_values(by=['EventSecond'])\n",
        "playerNameSenderZoneSorted.reset_index(drop=True, inplace=True)\n",
        "playerNameSenderZoneSorted.head(1)"
      ],
      "execution_count": null,
      "outputs": [
        {
          "output_type": "stream",
          "text": [
            "/usr/local/lib/python3.6/dist-packages/ipykernel_launcher.py:2: DeprecationWarning: The default dtype for empty Series will be 'object' instead of 'float64' in a future version. Specify a dtype explicitly to silence this warning.\n",
            "  \n"
          ],
          "name": "stderr"
        },
        {
          "output_type": "execute_result",
          "data": {
            "text/html": [
              "<div>\n",
              "<style scoped>\n",
              "    .dataframe tbody tr th:only-of-type {\n",
              "        vertical-align: middle;\n",
              "    }\n",
              "\n",
              "    .dataframe tbody tr th {\n",
              "        vertical-align: top;\n",
              "    }\n",
              "\n",
              "    .dataframe thead th {\n",
              "        text-align: right;\n",
              "    }\n",
              "</style>\n",
              "<table border=\"1\" class=\"dataframe\">\n",
              "  <thead>\n",
              "    <tr style=\"text-align: right;\">\n",
              "      <th></th>\n",
              "      <th>PlayerName</th>\n",
              "      <th>EventSecond</th>\n",
              "      <th>EventName</th>\n",
              "      <th>SenderPosition</th>\n",
              "      <th>Zone</th>\n",
              "    </tr>\n",
              "  </thead>\n",
              "  <tbody>\n",
              "    <tr>\n",
              "      <th>0</th>\n",
              "      <td>Paco Alc\\u00e1cer</td>\n",
              "      <td>5.628892</td>\n",
              "      <td>Pass</td>\n",
              "      <td>{'y': 49, 'x': 50}</td>\n",
              "      <td>45</td>\n",
              "    </tr>\n",
              "  </tbody>\n",
              "</table>\n",
              "</div>"
            ],
            "text/plain": [
              "          PlayerName  EventSecond EventName      SenderPosition  Zone\n",
              "0  Paco Alc\\u00e1cer     5.628892      Pass  {'y': 49, 'x': 50}    45"
            ]
          },
          "metadata": {
            "tags": []
          },
          "execution_count": 53
        }
      ]
    },
    {
      "cell_type": "code",
      "metadata": {
        "id": "2ztm45862IaI",
        "colab": {
          "base_uri": "https://localhost:8080/",
          "height": 134
        },
        "outputId": "2aa115e5-0942-4070-e2f8-9b8d6a8ce9da"
      },
      "source": [
        "zoneSeries2 = checkZones(playerNameRecepient, 'Recepient')\n",
        "playerNameRecipientZone = pd.concat([playerNameRecepient, pd.DataFrame(zoneSeries2)], axis=1, ignore_index=True)\n",
        "playerNameRecipientZone.rename(columns = {0:'PlayerName', 1:'EventSecond', 2:'RecipientPosition', 3:'Zone'}, inplace = True) \n",
        "playerNameRecipientZoneSorted = playerNameRecipientZone.sort_values(by=['EventSecond'])\n",
        "playerNameRecipientZoneSorted = playerNameRecipientZoneSorted.reset_index(drop=True)\n",
        "playerNameRecipientZoneSorted.head(1)"
      ],
      "execution_count": null,
      "outputs": [
        {
          "output_type": "stream",
          "text": [
            "/usr/local/lib/python3.6/dist-packages/ipykernel_launcher.py:2: DeprecationWarning: The default dtype for empty Series will be 'object' instead of 'float64' in a future version. Specify a dtype explicitly to silence this warning.\n",
            "  \n"
          ],
          "name": "stderr"
        },
        {
          "output_type": "execute_result",
          "data": {
            "text/html": [
              "<div>\n",
              "<style scoped>\n",
              "    .dataframe tbody tr th:only-of-type {\n",
              "        vertical-align: middle;\n",
              "    }\n",
              "\n",
              "    .dataframe tbody tr th {\n",
              "        vertical-align: top;\n",
              "    }\n",
              "\n",
              "    .dataframe thead th {\n",
              "        text-align: right;\n",
              "    }\n",
              "</style>\n",
              "<table border=\"1\" class=\"dataframe\">\n",
              "  <thead>\n",
              "    <tr style=\"text-align: right;\">\n",
              "      <th></th>\n",
              "      <th>PlayerName</th>\n",
              "      <th>EventSecond</th>\n",
              "      <th>RecipientPosition</th>\n",
              "      <th>Zone</th>\n",
              "    </tr>\n",
              "  </thead>\n",
              "  <tbody>\n",
              "    <tr>\n",
              "      <th>0</th>\n",
              "      <td>Paco Alc\\u00e1cer</td>\n",
              "      <td>5.628892</td>\n",
              "      <td>{'y': 41, 'x': 40}</td>\n",
              "      <td>44</td>\n",
              "    </tr>\n",
              "  </tbody>\n",
              "</table>\n",
              "</div>"
            ],
            "text/plain": [
              "          PlayerName  EventSecond   RecipientPosition  Zone\n",
              "0  Paco Alc\\u00e1cer     5.628892  {'y': 41, 'x': 40}    44"
            ]
          },
          "metadata": {
            "tags": []
          },
          "execution_count": 54
        }
      ]
    },
    {
      "cell_type": "code",
      "metadata": {
        "id": "CCsxkIuCyGiS",
        "colab": {
          "base_uri": "https://localhost:8080/",
          "height": 134
        },
        "outputId": "7a74e509-9d35-4dea-8a64-f1a5aeecd3a4"
      },
      "source": [
        "zoneSeries = checkZones(playerNameAllEventSender, 'Sender')\n",
        "playerNameSenderZoneEvent = pd.concat([playerNameAllEventSender, pd.DataFrame(zoneSeries)], axis=1, ignore_index=True)\n",
        "playerNameSenderZoneEvent.rename(columns = {0:'PlayerName', 1:'EventSecond', 2:'EventName', 3:'SenderPosition', 4:'Zone'}, inplace = True) \n",
        "playerNameSenderZoneEventSorted = playerNameSenderZoneEvent.sort_values(by=['EventSecond'])\n",
        "playerNameSenderZoneEventSorted.reset_index(drop=True, inplace=True)\n",
        "playerNameSenderZoneEventSorted.head(1)"
      ],
      "execution_count": null,
      "outputs": [
        {
          "output_type": "stream",
          "text": [
            "/usr/local/lib/python3.6/dist-packages/ipykernel_launcher.py:2: DeprecationWarning: The default dtype for empty Series will be 'object' instead of 'float64' in a future version. Specify a dtype explicitly to silence this warning.\n",
            "  \n"
          ],
          "name": "stderr"
        },
        {
          "output_type": "execute_result",
          "data": {
            "text/html": [
              "<div>\n",
              "<style scoped>\n",
              "    .dataframe tbody tr th:only-of-type {\n",
              "        vertical-align: middle;\n",
              "    }\n",
              "\n",
              "    .dataframe tbody tr th {\n",
              "        vertical-align: top;\n",
              "    }\n",
              "\n",
              "    .dataframe thead th {\n",
              "        text-align: right;\n",
              "    }\n",
              "</style>\n",
              "<table border=\"1\" class=\"dataframe\">\n",
              "  <thead>\n",
              "    <tr style=\"text-align: right;\">\n",
              "      <th></th>\n",
              "      <th>PlayerName</th>\n",
              "      <th>EventSecond</th>\n",
              "      <th>EventName</th>\n",
              "      <th>SenderPosition</th>\n",
              "      <th>Zone</th>\n",
              "    </tr>\n",
              "  </thead>\n",
              "  <tbody>\n",
              "    <tr>\n",
              "      <th>0</th>\n",
              "      <td>Paco Alc\\u00e1cer</td>\n",
              "      <td>5.628892</td>\n",
              "      <td>Pass</td>\n",
              "      <td>{'y': 49, 'x': 50}</td>\n",
              "      <td>45</td>\n",
              "    </tr>\n",
              "  </tbody>\n",
              "</table>\n",
              "</div>"
            ],
            "text/plain": [
              "          PlayerName  EventSecond EventName      SenderPosition  Zone\n",
              "0  Paco Alc\\u00e1cer     5.628892      Pass  {'y': 49, 'x': 50}    45"
            ]
          },
          "metadata": {
            "tags": []
          },
          "execution_count": 55
        }
      ]
    },
    {
      "cell_type": "code",
      "metadata": {
        "id": "tNaFrPJ650Fu"
      },
      "source": [
        "def addPassReceiverName(receiveDataframe, senderDataframe):\n",
        "  receiverNameSeries = pd.Series([])\n",
        "  for index, row in receiveDataframe.iterrows():\n",
        "    receiverEventSecond = row['EventSecond']\n",
        "    receiverZone = row['Zone']\n",
        "    receiverName = ''\n",
        "    for index, row in senderDataframe.iterrows():\n",
        "      senderEventSecond = row['EventSecond']\n",
        "      senderZone = row['Zone']\n",
        "      if(receiverZone == senderZone and senderEventSecond > receiverEventSecond):\n",
        "        receiverName = \"%s\" %(row['PlayerName'])\n",
        "        break\n",
        "    receiverNameSeries = receiverNameSeries.append(pd.Series(receiverName), ignore_index = True)\n",
        "  return receiverNameSeries"
      ],
      "execution_count": null,
      "outputs": []
    },
    {
      "cell_type": "code",
      "metadata": {
        "id": "s_G1p7Pw9IQe",
        "colab": {
          "base_uri": "https://localhost:8080/",
          "height": 134
        },
        "outputId": "e4ee05ba-cc72-49b2-d72c-ded455a440f6"
      },
      "source": [
        "receiverNameSeries = addPassReceiverName(playerNameRecipientZoneSorted, playerNameSenderZoneEventSorted)\n",
        "recipientNameDataframe = pd.DataFrame(receiverNameSeries)\n",
        "recipientNameDataframe.head(1)"
      ],
      "execution_count": null,
      "outputs": [
        {
          "output_type": "stream",
          "text": [
            "/usr/local/lib/python3.6/dist-packages/ipykernel_launcher.py:2: DeprecationWarning: The default dtype for empty Series will be 'object' instead of 'float64' in a future version. Specify a dtype explicitly to silence this warning.\n",
            "  \n"
          ],
          "name": "stderr"
        },
        {
          "output_type": "execute_result",
          "data": {
            "text/html": [
              "<div>\n",
              "<style scoped>\n",
              "    .dataframe tbody tr th:only-of-type {\n",
              "        vertical-align: middle;\n",
              "    }\n",
              "\n",
              "    .dataframe tbody tr th {\n",
              "        vertical-align: top;\n",
              "    }\n",
              "\n",
              "    .dataframe thead th {\n",
              "        text-align: right;\n",
              "    }\n",
              "</style>\n",
              "<table border=\"1\" class=\"dataframe\">\n",
              "  <thead>\n",
              "    <tr style=\"text-align: right;\">\n",
              "      <th></th>\n",
              "      <th>0</th>\n",
              "    </tr>\n",
              "  </thead>\n",
              "  <tbody>\n",
              "    <tr>\n",
              "      <th>0</th>\n",
              "      <td>I. Rakiti\\u0107</td>\n",
              "    </tr>\n",
              "  </tbody>\n",
              "</table>\n",
              "</div>"
            ],
            "text/plain": [
              "                 0\n",
              "0  I. Rakiti\\u0107"
            ]
          },
          "metadata": {
            "tags": []
          },
          "execution_count": 57
        }
      ]
    },
    {
      "cell_type": "code",
      "metadata": {
        "id": "QOlRM8kvUlFF",
        "colab": {
          "base_uri": "https://localhost:8080/",
          "height": 80
        },
        "outputId": "9540f1f0-9a39-45f6-8177-451a242e412b"
      },
      "source": [
        "passSenderReceiver = pd.concat([playerNameSenderZoneSorted, recipientNameDataframe], axis=1)\n",
        "passSenderReceiver.rename(columns = {0:'Receiver'}, inplace = True) \n",
        "passSenderReceiver.head(1)"
      ],
      "execution_count": null,
      "outputs": [
        {
          "output_type": "execute_result",
          "data": {
            "text/html": [
              "<div>\n",
              "<style scoped>\n",
              "    .dataframe tbody tr th:only-of-type {\n",
              "        vertical-align: middle;\n",
              "    }\n",
              "\n",
              "    .dataframe tbody tr th {\n",
              "        vertical-align: top;\n",
              "    }\n",
              "\n",
              "    .dataframe thead th {\n",
              "        text-align: right;\n",
              "    }\n",
              "</style>\n",
              "<table border=\"1\" class=\"dataframe\">\n",
              "  <thead>\n",
              "    <tr style=\"text-align: right;\">\n",
              "      <th></th>\n",
              "      <th>PlayerName</th>\n",
              "      <th>EventSecond</th>\n",
              "      <th>EventName</th>\n",
              "      <th>SenderPosition</th>\n",
              "      <th>Zone</th>\n",
              "      <th>Receiver</th>\n",
              "    </tr>\n",
              "  </thead>\n",
              "  <tbody>\n",
              "    <tr>\n",
              "      <th>0</th>\n",
              "      <td>Paco Alc\\u00e1cer</td>\n",
              "      <td>5.628892</td>\n",
              "      <td>Pass</td>\n",
              "      <td>{'y': 49, 'x': 50}</td>\n",
              "      <td>45</td>\n",
              "      <td>I. Rakiti\\u0107</td>\n",
              "    </tr>\n",
              "  </tbody>\n",
              "</table>\n",
              "</div>"
            ],
            "text/plain": [
              "          PlayerName  EventSecond  ... Zone         Receiver\n",
              "0  Paco Alc\\u00e1cer     5.628892  ...   45  I. Rakiti\\u0107\n",
              "\n",
              "[1 rows x 6 columns]"
            ]
          },
          "metadata": {
            "tags": []
          },
          "execution_count": 58
        }
      ]
    },
    {
      "cell_type": "code",
      "metadata": {
        "id": "aGTTHmRS4xWh",
        "colab": {
          "base_uri": "https://localhost:8080/",
          "height": 80
        },
        "outputId": "54d8fb19-65f9-457f-8427-5d9ae205a755"
      },
      "source": [
        "passSenderReceiver[passSenderReceiver['PlayerName'] == 'O. Demb\\\\u00e9l\\\\u00e9'].head(1)"
      ],
      "execution_count": null,
      "outputs": [
        {
          "output_type": "execute_result",
          "data": {
            "text/html": [
              "<div>\n",
              "<style scoped>\n",
              "    .dataframe tbody tr th:only-of-type {\n",
              "        vertical-align: middle;\n",
              "    }\n",
              "\n",
              "    .dataframe tbody tr th {\n",
              "        vertical-align: top;\n",
              "    }\n",
              "\n",
              "    .dataframe thead th {\n",
              "        text-align: right;\n",
              "    }\n",
              "</style>\n",
              "<table border=\"1\" class=\"dataframe\">\n",
              "  <thead>\n",
              "    <tr style=\"text-align: right;\">\n",
              "      <th></th>\n",
              "      <th>PlayerName</th>\n",
              "      <th>EventSecond</th>\n",
              "      <th>EventName</th>\n",
              "      <th>SenderPosition</th>\n",
              "      <th>Zone</th>\n",
              "      <th>Receiver</th>\n",
              "    </tr>\n",
              "  </thead>\n",
              "  <tbody>\n",
              "    <tr>\n",
              "      <th>37</th>\n",
              "      <td>O. Demb\\u00e9l\\u00e9</td>\n",
              "      <td>128.563546</td>\n",
              "      <td>Pass</td>\n",
              "      <td>{'y': 80, 'x': 44}</td>\n",
              "      <td>84</td>\n",
              "      <td>I. Rakiti\\u0107</td>\n",
              "    </tr>\n",
              "  </tbody>\n",
              "</table>\n",
              "</div>"
            ],
            "text/plain": [
              "              PlayerName  EventSecond  ... Zone         Receiver\n",
              "37  O. Demb\\u00e9l\\u00e9   128.563546  ...   84  I. Rakiti\\u0107\n",
              "\n",
              "[1 rows x 6 columns]"
            ]
          },
          "metadata": {
            "tags": []
          },
          "execution_count": 59
        }
      ]
    },
    {
      "cell_type": "code",
      "metadata": {
        "id": "xFguyB__pCMy",
        "colab": {
          "base_uri": "https://localhost:8080/",
          "height": 241
        },
        "outputId": "ea55674e-3f20-4772-a213-36890c0b3685"
      },
      "source": [
        "rows, cols = (12, 12)\n",
        "arr = [[0 for i in range(cols)] for j in range(rows)] \n",
        "i = -1\n",
        "y = 1\n",
        "for row in arr:\n",
        "  if(i>=0):\n",
        "    row[0] = team['shortName'][i]\n",
        "  else:\n",
        "    while y < len(row):\n",
        "      row[y] = team['shortName'][y-1]\n",
        "      y += 1\n",
        "  i += 1\n",
        "  print(row)"
      ],
      "execution_count": null,
      "outputs": [
        {
          "output_type": "stream",
          "text": [
            "[0, 'O. Demb\\\\u00e9l\\\\u00e9', 'Paco Alc\\\\u00e1cer', 'Philippe Coutinho', 'Sergi Roberto', 'I. Rakiti\\\\u0107', 'Piqu\\\\u00e9', 'L. Messi', 'M. ter Stegen', 'S. Umtiti', 'Jordi Alba', 'Paulinho']\n",
            "['O. Demb\\\\u00e9l\\\\u00e9', 0, 0, 0, 0, 0, 0, 0, 0, 0, 0, 0]\n",
            "['Paco Alc\\\\u00e1cer', 0, 0, 0, 0, 0, 0, 0, 0, 0, 0, 0]\n",
            "['Philippe Coutinho', 0, 0, 0, 0, 0, 0, 0, 0, 0, 0, 0]\n",
            "['Sergi Roberto', 0, 0, 0, 0, 0, 0, 0, 0, 0, 0, 0]\n",
            "['I. Rakiti\\\\u0107', 0, 0, 0, 0, 0, 0, 0, 0, 0, 0, 0]\n",
            "['Piqu\\\\u00e9', 0, 0, 0, 0, 0, 0, 0, 0, 0, 0, 0]\n",
            "['L. Messi', 0, 0, 0, 0, 0, 0, 0, 0, 0, 0, 0]\n",
            "['M. ter Stegen', 0, 0, 0, 0, 0, 0, 0, 0, 0, 0, 0]\n",
            "['S. Umtiti', 0, 0, 0, 0, 0, 0, 0, 0, 0, 0, 0]\n",
            "['Jordi Alba', 0, 0, 0, 0, 0, 0, 0, 0, 0, 0, 0]\n",
            "['Paulinho', 0, 0, 0, 0, 0, 0, 0, 0, 0, 0, 0]\n"
          ],
          "name": "stdout"
        }
      ]
    },
    {
      "cell_type": "code",
      "metadata": {
        "id": "w7MMCZ5nhMCG",
        "colab": {
          "base_uri": "https://localhost:8080/",
          "height": 408
        },
        "outputId": "564b93d0-0cae-48f6-81cf-c6e05674f207"
      },
      "source": [
        "# Filling 2D matrix of Barcelona team with corresponding passes\n",
        "\n",
        "i = 0\n",
        "j = 0\n",
        "passCount = 0\n",
        "for i in range(len(arr)):\n",
        "  for j in range(len(arr[i])):\n",
        "    passCount = 0\n",
        "    if (i>0 and j>0):\n",
        "      for index, row in passSenderReceiver.iterrows():\n",
        "        if(row['PlayerName'] == arr[i][0] and arr[0][j] == row['Receiver']):\n",
        "          passCount += 1\n",
        "      arr[i][j] = passCount    \n",
        "    j += 1\n",
        "  i += 1 \n",
        "arr"
      ],
      "execution_count": null,
      "outputs": [
        {
          "output_type": "execute_result",
          "data": {
            "text/plain": [
              "[[0,\n",
              "  'O. Demb\\\\u00e9l\\\\u00e9',\n",
              "  'Paco Alc\\\\u00e1cer',\n",
              "  'Philippe Coutinho',\n",
              "  'Sergi Roberto',\n",
              "  'I. Rakiti\\\\u0107',\n",
              "  'Piqu\\\\u00e9',\n",
              "  'L. Messi',\n",
              "  'M. ter Stegen',\n",
              "  'S. Umtiti',\n",
              "  'Jordi Alba',\n",
              "  'Paulinho'],\n",
              " ['O. Demb\\\\u00e9l\\\\u00e9', 0, 0, 0, 4, 1, 1, 8, 0, 0, 1, 3],\n",
              " ['Paco Alc\\\\u00e1cer', 0, 1, 4, 5, 2, 0, 2, 0, 1, 2, 1],\n",
              " ['Philippe Coutinho', 1, 1, 0, 3, 3, 0, 7, 0, 4, 8, 2],\n",
              " ['Sergi Roberto', 10, 5, 1, 0, 8, 12, 4, 4, 3, 2, 9],\n",
              " ['I. Rakiti\\\\u0107', 2, 3, 2, 2, 0, 11, 6, 6, 18, 10, 5],\n",
              " ['Piqu\\\\u00e9', 4, 1, 2, 21, 8, 0, 3, 5, 5, 2, 0],\n",
              " ['L. Messi', 4, 2, 5, 3, 5, 1, 0, 0, 0, 3, 6],\n",
              " ['M. ter Stegen', 0, 0, 1, 5, 6, 8, 0, 0, 9, 4, 2],\n",
              " ['S. Umtiti', 0, 5, 10, 1, 16, 4, 0, 18, 0, 10, 4],\n",
              " ['Jordi Alba', 1, 2, 9, 3, 9, 3, 3, 0, 10, 0, 7],\n",
              " ['Paulinho', 2, 2, 2, 13, 5, 3, 7, 0, 3, 1, 0]]"
            ]
          },
          "metadata": {
            "tags": []
          },
          "execution_count": 61
        }
      ]
    },
    {
      "cell_type": "code",
      "metadata": {
        "id": "QbYrIzz7glQp",
        "colab": {
          "base_uri": "https://localhost:8080/",
          "height": 204
        },
        "outputId": "29b6c402-0316-4825-d33c-fa24491367bf"
      },
      "source": [
        "import numpy as np\n",
        "\n",
        "arr2 = np.arange(121).reshape(11,11)\n",
        "for i in range(12):\n",
        "  for j in range(12):\n",
        "    if(i>0 and j>0):\n",
        "      arr2[i-1][j-1] = int(arr[i][j])\n",
        "\n",
        "arr2"
      ],
      "execution_count": null,
      "outputs": [
        {
          "output_type": "execute_result",
          "data": {
            "text/plain": [
              "array([[ 0,  0,  0,  4,  1,  1,  8,  0,  0,  1,  3],\n",
              "       [ 0,  1,  4,  5,  2,  0,  2,  0,  1,  2,  1],\n",
              "       [ 1,  1,  0,  3,  3,  0,  7,  0,  4,  8,  2],\n",
              "       [10,  5,  1,  0,  8, 12,  4,  4,  3,  2,  9],\n",
              "       [ 2,  3,  2,  2,  0, 11,  6,  6, 18, 10,  5],\n",
              "       [ 4,  1,  2, 21,  8,  0,  3,  5,  5,  2,  0],\n",
              "       [ 4,  2,  5,  3,  5,  1,  0,  0,  0,  3,  6],\n",
              "       [ 0,  0,  1,  5,  6,  8,  0,  0,  9,  4,  2],\n",
              "       [ 0,  5, 10,  1, 16,  4,  0, 18,  0, 10,  4],\n",
              "       [ 1,  2,  9,  3,  9,  3,  3,  0, 10,  0,  7],\n",
              "       [ 2,  2,  2, 13,  5,  3,  7,  0,  3,  1,  0]])"
            ]
          },
          "metadata": {
            "tags": []
          },
          "execution_count": 62
        }
      ]
    },
    {
      "cell_type": "code",
      "metadata": {
        "id": "Rhrn_6Hrd6Kl",
        "colab": {
          "base_uri": "https://localhost:8080/",
          "height": 319
        },
        "outputId": "879fabcb-9c52-423e-dbd0-d9dc80ac7cdc"
      },
      "source": [
        "import numpy as np\n",
        "import networkx as nx\n",
        "import pylab as plt\n",
        "\n",
        "A = np.array(arr2)\n",
        "temp = nx.MultiGraph()\n",
        "G = nx.from_numpy_matrix(A, parallel_edges=True, create_using=temp)\n",
        "\n",
        "mapping = {0: 'O. Demb\\\\u00e9l\\\\u00e9', 1: 'Paco Alc\\\\u00e1cer', 2: 'Philippe Coutinho', 3: 'Sergi Roberto', 4:'I. Rakiti\\\\u0107', 5:'Piqu\\\\u00e9', 6:'L. Messi', 7:'M. ter Stegen', 8:'S. Umtiti', 9:'Jordi Alba', 10:'Paulinho'}\n",
        "\n",
        "H = nx.relabel_nodes(G, mapping)\n",
        "\n",
        "nx.draw(H, with_labels = True) "
      ],
      "execution_count": null,
      "outputs": [
        {
          "output_type": "display_data",
          "data": {
            "image/png": "[encoded data removed]",
            "text/plain": [
              "<Figure size 432x288 with 1 Axes>"
            ]
          },
          "metadata": {
            "tags": []
          }
        }
      ]
    },
    {
      "cell_type": "code",
      "metadata": {
        "id": "p0Px3MnW_CMr"
      },
      "source": [
        "def checkZones2(dataframe, columnName):\n",
        "  resultSeries = pd.Series([])\n",
        "  i = -1\n",
        "  for index, row in dataframe.iterrows():\n",
        "    x = (row[columnName])['x']\n",
        "    y = (row[columnName])['y']\n",
        "    index = i + 1\n",
        "    resultSeries = resultSeries.append(pd.Series([int(((x // 33.3) * 5) + 1 + (y // 20))]), ignore_index=True)\n",
        "  return resultSeries"
      ],
      "execution_count": null,
      "outputs": []
    },
    {
      "cell_type": "code",
      "metadata": {
        "id": "XPmtZjYBO4G5",
        "colab": {
          "base_uri": "https://localhost:8080/",
          "height": 134
        },
        "outputId": "768b8ec3-f5cd-4737-ba46-17e95f45b132"
      },
      "source": [
        "zoneSeries = checkZones2(playerNameSender2, 'Sender')\n",
        "playerNameSenderZone = pd.concat([playerNameSender2, pd.DataFrame(zoneSeries)], axis=1, ignore_index=True)\n",
        "playerNameSenderZone.rename(columns = {0:'PlayerName', 1:'EventSecond', 2:'EventName', 3:'SenderPosition', 4:'SenderZone'}, inplace = True) \n",
        "playerNameSenderZoneSorted = playerNameSenderZone.sort_values(by=['EventSecond'])\n",
        "playerNameSenderZoneSorted.reset_index(drop=True, inplace=True)\n",
        "playerNameSenderZoneSorted.head(1)"
      ],
      "execution_count": null,
      "outputs": [
        {
          "output_type": "stream",
          "text": [
            "/usr/local/lib/python3.6/dist-packages/ipykernel_launcher.py:2: DeprecationWarning: The default dtype for empty Series will be 'object' instead of 'float64' in a future version. Specify a dtype explicitly to silence this warning.\n",
            "  \n"
          ],
          "name": "stderr"
        },
        {
          "output_type": "execute_result",
          "data": {
            "text/html": [
              "<div>\n",
              "<style scoped>\n",
              "    .dataframe tbody tr th:only-of-type {\n",
              "        vertical-align: middle;\n",
              "    }\n",
              "\n",
              "    .dataframe tbody tr th {\n",
              "        vertical-align: top;\n",
              "    }\n",
              "\n",
              "    .dataframe thead th {\n",
              "        text-align: right;\n",
              "    }\n",
              "</style>\n",
              "<table border=\"1\" class=\"dataframe\">\n",
              "  <thead>\n",
              "    <tr style=\"text-align: right;\">\n",
              "      <th></th>\n",
              "      <th>PlayerName</th>\n",
              "      <th>EventSecond</th>\n",
              "      <th>EventName</th>\n",
              "      <th>SenderPosition</th>\n",
              "      <th>SenderZone</th>\n",
              "    </tr>\n",
              "  </thead>\n",
              "  <tbody>\n",
              "    <tr>\n",
              "      <th>0</th>\n",
              "      <td>Paco Alc\\u00e1cer</td>\n",
              "      <td>5.628892</td>\n",
              "      <td>Pass</td>\n",
              "      <td>{'y': 49, 'x': 50}</td>\n",
              "      <td>8</td>\n",
              "    </tr>\n",
              "  </tbody>\n",
              "</table>\n",
              "</div>"
            ],
            "text/plain": [
              "          PlayerName  EventSecond EventName      SenderPosition  SenderZone\n",
              "0  Paco Alc\\u00e1cer     5.628892      Pass  {'y': 49, 'x': 50}           8"
            ]
          },
          "metadata": {
            "tags": []
          },
          "execution_count": 65
        }
      ]
    },
    {
      "cell_type": "code",
      "metadata": {
        "id": "lgsKCXb2PPLs",
        "colab": {
          "base_uri": "https://localhost:8080/",
          "height": 134
        },
        "outputId": "c39c639c-8a55-4b72-d632-8b813be7513e"
      },
      "source": [
        "zoneSeries2 = checkZones2(playerNameRecepient, 'Recepient')\n",
        "playerNameRecipientZone = pd.concat([playerNameRecepient, pd.DataFrame(zoneSeries2)], axis=1, ignore_index=True)\n",
        "playerNameRecipientZone.rename(columns = {0:'PlayerName', 1:'EventSecond', 2:'RecipientPosition', 3:'Zone'}, inplace = True) \n",
        "playerNameRecipientZoneSorted = playerNameRecipientZone.sort_values(by=['EventSecond'])\n",
        "playerNameRecipientZoneSorted = playerNameRecipientZoneSorted.reset_index(drop=True)\n",
        "playerNameRecipientZoneSorted.head(1)"
      ],
      "execution_count": null,
      "outputs": [
        {
          "output_type": "stream",
          "text": [
            "/usr/local/lib/python3.6/dist-packages/ipykernel_launcher.py:2: DeprecationWarning: The default dtype for empty Series will be 'object' instead of 'float64' in a future version. Specify a dtype explicitly to silence this warning.\n",
            "  \n"
          ],
          "name": "stderr"
        },
        {
          "output_type": "execute_result",
          "data": {
            "text/html": [
              "<div>\n",
              "<style scoped>\n",
              "    .dataframe tbody tr th:only-of-type {\n",
              "        vertical-align: middle;\n",
              "    }\n",
              "\n",
              "    .dataframe tbody tr th {\n",
              "        vertical-align: top;\n",
              "    }\n",
              "\n",
              "    .dataframe thead th {\n",
              "        text-align: right;\n",
              "    }\n",
              "</style>\n",
              "<table border=\"1\" class=\"dataframe\">\n",
              "  <thead>\n",
              "    <tr style=\"text-align: right;\">\n",
              "      <th></th>\n",
              "      <th>PlayerName</th>\n",
              "      <th>EventSecond</th>\n",
              "      <th>RecipientPosition</th>\n",
              "      <th>Zone</th>\n",
              "    </tr>\n",
              "  </thead>\n",
              "  <tbody>\n",
              "    <tr>\n",
              "      <th>0</th>\n",
              "      <td>Paco Alc\\u00e1cer</td>\n",
              "      <td>5.628892</td>\n",
              "      <td>{'y': 41, 'x': 40}</td>\n",
              "      <td>8</td>\n",
              "    </tr>\n",
              "  </tbody>\n",
              "</table>\n",
              "</div>"
            ],
            "text/plain": [
              "          PlayerName  EventSecond   RecipientPosition  Zone\n",
              "0  Paco Alc\\u00e1cer     5.628892  {'y': 41, 'x': 40}     8"
            ]
          },
          "metadata": {
            "tags": []
          },
          "execution_count": 66
        }
      ]
    },
    {
      "cell_type": "code",
      "metadata": {
        "id": "_MUl4jCAeu3Y",
        "colab": {
          "base_uri": "https://localhost:8080/",
          "height": 80
        },
        "outputId": "c2117fc5-eb4a-43e4-efc2-9248a3c3d54e"
      },
      "source": [
        "receiverZoneSeries = playerNameRecipientZoneSorted.iloc[:,3]\n",
        "recipientZoneDataframe = pd.DataFrame(receiverZoneSeries)\n",
        "recipientZoneDataframe\n",
        "\n",
        "passSenderReceiver = pd.concat([playerNameSenderZoneSorted, recipientZoneDataframe], axis=1)\n",
        "passSenderReceiver.rename(columns = {'Zone':'ReceiverZone'}, inplace = True) \n",
        "passSenderReceiver.head(1)"
      ],
      "execution_count": null,
      "outputs": [
        {
          "output_type": "execute_result",
          "data": {
            "text/html": [
              "<div>\n",
              "<style scoped>\n",
              "    .dataframe tbody tr th:only-of-type {\n",
              "        vertical-align: middle;\n",
              "    }\n",
              "\n",
              "    .dataframe tbody tr th {\n",
              "        vertical-align: top;\n",
              "    }\n",
              "\n",
              "    .dataframe thead th {\n",
              "        text-align: right;\n",
              "    }\n",
              "</style>\n",
              "<table border=\"1\" class=\"dataframe\">\n",
              "  <thead>\n",
              "    <tr style=\"text-align: right;\">\n",
              "      <th></th>\n",
              "      <th>PlayerName</th>\n",
              "      <th>EventSecond</th>\n",
              "      <th>EventName</th>\n",
              "      <th>SenderPosition</th>\n",
              "      <th>SenderZone</th>\n",
              "      <th>ReceiverZone</th>\n",
              "    </tr>\n",
              "  </thead>\n",
              "  <tbody>\n",
              "    <tr>\n",
              "      <th>0</th>\n",
              "      <td>Paco Alc\\u00e1cer</td>\n",
              "      <td>5.628892</td>\n",
              "      <td>Pass</td>\n",
              "      <td>{'y': 49, 'x': 50}</td>\n",
              "      <td>8</td>\n",
              "      <td>8</td>\n",
              "    </tr>\n",
              "  </tbody>\n",
              "</table>\n",
              "</div>"
            ],
            "text/plain": [
              "          PlayerName  EventSecond  ... SenderZone ReceiverZone\n",
              "0  Paco Alc\\u00e1cer     5.628892  ...          8            8\n",
              "\n",
              "[1 rows x 6 columns]"
            ]
          },
          "metadata": {
            "tags": []
          },
          "execution_count": 67
        }
      ]
    },
    {
      "cell_type": "code",
      "metadata": {
        "id": "ExyweI7dhQS2",
        "colab": {
          "base_uri": "https://localhost:8080/",
          "height": 289
        },
        "outputId": "4d960334-d4e8-4d97-b993-443fd56059fd"
      },
      "source": [
        "rows, cols = (16, 16)\n",
        "arr = [[0 for i in range(cols)] for j in range(rows)] \n",
        "i = 0\n",
        "j = 0\n",
        "for row in arr:\n",
        "  j = 0 \n",
        "  if(i==0):\n",
        "    for j in range(cols):\n",
        "      if(j>0):\n",
        "        row[j] = j\n",
        "      j += 1\n",
        "  else:\n",
        "     row[j] = i    \n",
        "  i += 1\n",
        "  \n",
        "arr\n"
      ],
      "execution_count": null,
      "outputs": [
        {
          "output_type": "execute_result",
          "data": {
            "text/plain": [
              "[[0, 1, 2, 3, 4, 5, 6, 7, 8, 9, 10, 11, 12, 13, 14, 15],\n",
              " [1, 0, 0, 0, 0, 0, 0, 0, 0, 0, 0, 0, 0, 0, 0, 0],\n",
              " [2, 0, 0, 0, 0, 0, 0, 0, 0, 0, 0, 0, 0, 0, 0, 0],\n",
              " [3, 0, 0, 0, 0, 0, 0, 0, 0, 0, 0, 0, 0, 0, 0, 0],\n",
              " [4, 0, 0, 0, 0, 0, 0, 0, 0, 0, 0, 0, 0, 0, 0, 0],\n",
              " [5, 0, 0, 0, 0, 0, 0, 0, 0, 0, 0, 0, 0, 0, 0, 0],\n",
              " [6, 0, 0, 0, 0, 0, 0, 0, 0, 0, 0, 0, 0, 0, 0, 0],\n",
              " [7, 0, 0, 0, 0, 0, 0, 0, 0, 0, 0, 0, 0, 0, 0, 0],\n",
              " [8, 0, 0, 0, 0, 0, 0, 0, 0, 0, 0, 0, 0, 0, 0, 0],\n",
              " [9, 0, 0, 0, 0, 0, 0, 0, 0, 0, 0, 0, 0, 0, 0, 0],\n",
              " [10, 0, 0, 0, 0, 0, 0, 0, 0, 0, 0, 0, 0, 0, 0, 0],\n",
              " [11, 0, 0, 0, 0, 0, 0, 0, 0, 0, 0, 0, 0, 0, 0, 0],\n",
              " [12, 0, 0, 0, 0, 0, 0, 0, 0, 0, 0, 0, 0, 0, 0, 0],\n",
              " [13, 0, 0, 0, 0, 0, 0, 0, 0, 0, 0, 0, 0, 0, 0, 0],\n",
              " [14, 0, 0, 0, 0, 0, 0, 0, 0, 0, 0, 0, 0, 0, 0, 0],\n",
              " [15, 0, 0, 0, 0, 0, 0, 0, 0, 0, 0, 0, 0, 0, 0, 0]]"
            ]
          },
          "metadata": {
            "tags": []
          },
          "execution_count": 68
        }
      ]
    },
    {
      "cell_type": "code",
      "metadata": {
        "id": "pFSgmSjTz3V6",
        "colab": {
          "base_uri": "https://localhost:8080/",
          "height": 289
        },
        "outputId": "02c55ae2-48b7-4b82-9ad1-15779ff3493a"
      },
      "source": [
        "# Filling 2D matrix of Barcelona team with corresponding passes\n",
        "\n",
        "i = 0\n",
        "j = 0\n",
        "passCount = 0\n",
        "for i in range(len(arr)):\n",
        "  for j in range(len(arr[i])):\n",
        "    passCount = 0\n",
        "    if (i>0 and j>0):\n",
        "      for index, row in passSenderReceiver.iterrows():\n",
        "        if(row['SenderZone'] == arr[i][0] and arr[0][j] == row['ReceiverZone']):\n",
        "          passCount += 1\n",
        "      arr[i][j] = passCount    \n",
        "    j += 1\n",
        "  i += 1 \n",
        "\n",
        "arr"
      ],
      "execution_count": null,
      "outputs": [
        {
          "output_type": "execute_result",
          "data": {
            "text/plain": [
              "[[0, 1, 2, 3, 4, 5, 6, 7, 8, 9, 10, 11, 12, 13, 14, 15],\n",
              " [1, 11, 12, 4, 0, 0, 6, 0, 0, 0, 0, 0, 0, 0, 0, 0],\n",
              " [2, 10, 7, 21, 6, 3, 5, 5, 3, 1, 1, 0, 0, 0, 0, 0],\n",
              " [3, 7, 10, 11, 5, 10, 4, 1, 4, 6, 2, 0, 0, 0, 0, 0],\n",
              " [4, 2, 3, 8, 3, 13, 0, 2, 2, 2, 2, 0, 0, 0, 0, 0],\n",
              " [5, 1, 4, 3, 9, 15, 0, 0, 1, 3, 5, 0, 0, 0, 0, 0],\n",
              " [6, 1, 1, 1, 1, 0, 7, 9, 0, 0, 0, 2, 6, 0, 0, 1],\n",
              " [7, 2, 5, 2, 0, 0, 5, 16, 6, 3, 0, 4, 4, 3, 1, 0],\n",
              " [8, 1, 2, 1, 2, 0, 2, 3, 9, 7, 2, 2, 4, 1, 2, 0],\n",
              " [9, 0, 1, 3, 3, 2, 2, 3, 7, 10, 7, 0, 0, 2, 3, 6],\n",
              " [10, 0, 0, 1, 2, 5, 0, 0, 1, 4, 9, 0, 0, 0, 1, 4],\n",
              " [11, 0, 1, 0, 0, 0, 1, 5, 1, 0, 0, 2, 3, 1, 0, 0],\n",
              " [12, 0, 0, 0, 0, 0, 0, 2, 1, 0, 0, 6, 6, 4, 0, 0],\n",
              " [13, 0, 0, 0, 0, 0, 0, 0, 0, 0, 0, 0, 1, 3, 1, 0],\n",
              " [14, 0, 0, 0, 0, 0, 0, 0, 0, 4, 0, 0, 2, 3, 4, 5],\n",
              " [15, 0, 0, 0, 0, 0, 0, 0, 1, 5, 2, 0, 1, 2, 5, 8]]"
            ]
          },
          "metadata": {
            "tags": []
          },
          "execution_count": 69
        }
      ]
    },
    {
      "cell_type": "code",
      "metadata": {
        "id": "D6K0OIE77oAg",
        "colab": {
          "base_uri": "https://localhost:8080/",
          "height": 527
        },
        "outputId": "cca20ecb-3249-4266-c708-c68bace2043f"
      },
      "source": [
        "import numpy as np\n",
        "\n",
        "arr2 = np.arange(225).reshape(15,15)\n",
        "for i in range(15):\n",
        "  for j in range(15):\n",
        "    if(i>0 and j>0):\n",
        "      arr2[i-1][j-1] = int(arr[i][j])\n",
        "\n",
        "arr2"
      ],
      "execution_count": null,
      "outputs": [
        {
          "output_type": "execute_result",
          "data": {
            "text/plain": [
              "array([[ 11,  12,   4,   0,   0,   6,   0,   0,   0,   0,   0,   0,   0,\n",
              "          0,  14],\n",
              "       [ 10,   7,  21,   6,   3,   5,   5,   3,   1,   1,   0,   0,   0,\n",
              "          0,  29],\n",
              "       [  7,  10,  11,   5,  10,   4,   1,   4,   6,   2,   0,   0,   0,\n",
              "          0,  44],\n",
              "       [  2,   3,   8,   3,  13,   0,   2,   2,   2,   2,   0,   0,   0,\n",
              "          0,  59],\n",
              "       [  1,   4,   3,   9,  15,   0,   0,   1,   3,   5,   0,   0,   0,\n",
              "          0,  74],\n",
              "       [  1,   1,   1,   1,   0,   7,   9,   0,   0,   0,   2,   6,   0,\n",
              "          0,  89],\n",
              "       [  2,   5,   2,   0,   0,   5,  16,   6,   3,   0,   4,   4,   3,\n",
              "          1, 104],\n",
              "       [  1,   2,   1,   2,   0,   2,   3,   9,   7,   2,   2,   4,   1,\n",
              "          2, 119],\n",
              "       [  0,   1,   3,   3,   2,   2,   3,   7,  10,   7,   0,   0,   2,\n",
              "          3, 134],\n",
              "       [  0,   0,   1,   2,   5,   0,   0,   1,   4,   9,   0,   0,   0,\n",
              "          1, 149],\n",
              "       [  0,   1,   0,   0,   0,   1,   5,   1,   0,   0,   2,   3,   1,\n",
              "          0, 164],\n",
              "       [  0,   0,   0,   0,   0,   0,   2,   1,   0,   0,   6,   6,   4,\n",
              "          0, 179],\n",
              "       [  0,   0,   0,   0,   0,   0,   0,   0,   0,   0,   0,   1,   3,\n",
              "          1, 194],\n",
              "       [  0,   0,   0,   0,   0,   0,   0,   0,   4,   0,   0,   2,   3,\n",
              "          4, 209],\n",
              "       [210, 211, 212, 213, 214, 215, 216, 217, 218, 219, 220, 221, 222,\n",
              "        223, 224]])"
            ]
          },
          "metadata": {
            "tags": []
          },
          "execution_count": 70
        }
      ]
    },
    {
      "cell_type": "code",
      "metadata": {
        "id": "s3OjRi3377Eq",
        "colab": {
          "base_uri": "https://localhost:8080/",
          "height": 319
        },
        "outputId": "de2d1c11-2b55-4b45-debc-f521f808c959"
      },
      "source": [
        "import numpy as np\n",
        "import networkx as nx\n",
        "import pylab as plt\n",
        "\n",
        "A = np.array(arr2)\n",
        "temp = nx.MultiGraph()\n",
        "G = nx.from_numpy_matrix(A, parallel_edges=True, create_using=temp)\n",
        "\n",
        "mapping = {0: 1, 1: 2, 2: 3, 3: 4, 4:5, 5:6, 6:7, 7:8, 8:9, 9:10, 10:11, 11:12, 12:13, 13:14, 14:15}\n",
        "\n",
        "H = nx.relabel_nodes(G, mapping)\n",
        "\n",
        "nx.draw(H, with_labels = True) "
      ],
      "execution_count": null,
      "outputs": [
        {
          "output_type": "display_data",
          "data": {
            "image/png": "[encoded data removed]",
            "text/plain": [
              "<Figure size 432x288 with 1 Axes>"
            ]
          },
          "metadata": {
            "tags": []
          }
        }
      ]
    }
  ]
}