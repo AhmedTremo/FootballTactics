{
  "nbformat": 4,
  "nbformat_minor": 0,
  "metadata": {
    "colab": {
      "name": "matricesReady.ipynb",
      "provenance": [],
      "collapsed_sections": []
    },
    "kernelspec": {
      "name": "python3",
      "display_name": "Python 3"
    }
  },
  "cells": [
    {
      "cell_type": "code",
      "metadata": {
        "id": "Ak7wAox5CTYm"
      },
      "source": [
        "import numpy as np\n",
        "import pickle\n",
        "with open('/content/drive/My Drive/leaguesMatrices/premierLeagueMatricesNEW.pickle', 'rb') as premierLeague:\n",
        "  manCityMatrices, manUtdMatrices, tottenhamMatrices, liverpoolMatrices, chelseaMatrices, arsenalMatrices, burnleyMatrices, evertonMatrices, leicesterMatrices, newcastleMatrices, crystalMatrices, bournemouthMatrices, westHamMatrices, watfordMatrices, brightonMatrices, huddersfieldMatrices, southamptonMatrices, swanseaMatrices, stokeMatrices, westBromMatrices = pickle.load(premierLeague)"
      ],
      "execution_count": null,
      "outputs": []
    },
    {
      "cell_type": "code",
      "metadata": {
        "id": "RRr1v1yYIYvs"
      },
      "source": [
        "with open('/content/drive/My Drive/leaguesMatrices/LaLigaMatricesNEW.pickle', 'rb') as laLiga:\n",
        "  barcelonaMatrices, athleticoMatrices, realMatrices, valenciaMatrices, villarealMatrices, realBetisMatrices, sevillaMatrices, getafeMatrices, eibarMatrices, gironaMatrices, espanyolMatrices, realSociedadMatrices, celtaVigoMatrices, alavesMatrices, levanteMatrices, athleticBilbaoMatrices, leganesMatrices, deportivoMatrices, lasPalmasMatrices, malagaMatrices = pickle.load(laLiga)"
      ],
      "execution_count": null,
      "outputs": []
    },
    {
      "cell_type": "code",
      "metadata": {
        "id": "tLMruK8sIeu7"
      },
      "source": [
        "with open('/content/drive/My Drive/leaguesMatrices/serieAMatricesNEW.pickle', 'rb') as serieA:\n",
        "  juventusMatrices, napoliMatrices, romaMatrices, internazionaleMatrices, lazioMatrices, milanMatrices, atalantaMatrices, fiorentinaMatrices, torinoMatrices, sampadoriaMatrices, sassoloMatrices, genoaMatrices, chievoMatrices, udineseMatrices, bologonaMatrices, cagliariMatrices, spalMatrices, crotoneMatrices, hellasMatrices, beneventoMatrices = pickle.load(serieA)"
      ],
      "execution_count": null,
      "outputs": []
    },
    {
      "cell_type": "code",
      "metadata": {
        "id": "Kc4ihlazLWUC"
      },
      "source": [
        "with open('/content/drive/My Drive/leaguesMatrices/bundesligaNEW.pickle', 'rb') as bundesliga:\n",
        "  bayernMunchenMatrices, schalkeMatrices, hoffenheimMatrices, dortmundMatrices, bayernLeverkusenMatrices, leipzigMatrices, stuttgurtMatrices, frankfurtMatrices, borussiaMGMatrices, herthaMatrices, werderBermenMatrices, augsburgMatrices, hannoverMatrices, mainzMatrices, freiburgMatrices, wolfsburgMatrices, hamburgerMatrices, kolnMatrices = pickle.load(bundesliga)"
      ],
      "execution_count": null,
      "outputs": []
    },
    {
      "cell_type": "code",
      "metadata": {
        "id": "I7MNPsjBrrEE"
      },
      "source": [
        "with open('/content/drive/My Drive/leaguesMatrices/ligue1MatricesNEW.pickle', 'rb') as ligue1:\n",
        " psgMatrices, monacoMatrices, lyonMatrices, marseilleMatrices, rennesMatrices, bordeauxMatrices, saintEtienneMatrices, niceMatrices, nantesMatrices, montpellierMatrices, dijonMatrices, guingumpMatrices, amiensMatrices, angersMatrices, strasburgMatrices, caenMatrices, lilleMatrices, touloseMatrices, troyesMatrices, metzMatrices = pickle.load(ligue1)"
      ],
      "execution_count": null,
      "outputs": []
    },
    {
      "cell_type": "code",
      "metadata": {
        "id": "xRcdn6FJr6Ik"
      },
      "source": [
        "with open('/content/drive/My Drive/eu.pickle', 'rb') as eu:\n",
        " franceMatrices, englandMatrices, czechMatrices, icelandMatrices, austriaMatrices, northenIrelandMatrices, portugalMatrices, spainMatrices, switzerlandMatrices, italyMatrices, belgiumMatrices, walesMatrices, romaniaMatrices, albaniaMatrices, germanyMatrices, polandMatrices, russiaMatrices, slovakiaMatrices, croatiaMatrices, turkeyMatrices, hungaryMatrices, irelandMatrices, swedenMatrices, ukraineMatrices = pickle.load(eu)"
      ],
      "execution_count": null,
      "outputs": []
    },
    {
      "cell_type": "code",
      "metadata": {
        "id": "0uqXyyMnr6kH"
      },
      "source": [
        "with open('/content/drive/My Drive/wc.pickle', 'rb') as wc:\n",
        " australiaMatrices, iranMatrices, koreaMatrices, japanMatrices, saudiArabiaMatrices, tunisiaMatrices, senegalMatrices, moroccoMatrices, egyptMatrices, nigeriaMatrices, mexicoMatrices, costaRicaMatrices, panamaMatrices, brazilMatrices, argentinaMatrices, peruMatrices, uruguayMatrices, colombiaMatrices, belgiumWCMatrices, croatiaWCMatrices, denmarkWCMatrices, englandWCMatrices, franceWCMatrices, germanyWCMatrices, icelandWCMatrices, polandWCMatrices, portugalWCMatrices, russiaWCMatrices, serbiaWCMatrices, spainWCMatrices, swedenWCMatrices, switzerlandWCMatrices = pickle.load(wc)"
      ],
      "execution_count": null,
      "outputs": []
    },
    {
      "cell_type": "code",
      "metadata": {
        "id": "UEybyFO8rqw-"
      },
      "source": [
        "\n",
        "index = [5, 11, 17, 23, 29, 35]\n",
        "BarcelonaTrain = np.delete(barcelonaMatrices, index, axis=0)\n",
        "AthleticoTrain = np.delete(athleticoMatrices, index, axis=0)\n",
        "RealTrain = np.delete(realMatrices, index, axis=0)\n",
        "ValenicaTrain = np.delete(valenciaMatrices, index, axis=0)\n",
        "VillarealTrain = np.delete(villarealMatrices, index, axis=0)\n",
        "RealBetisTrain = np.delete(realBetisMatrices, index, axis=0)\n",
        "SevillaTrain = np.delete(sevillaMatrices, index, axis=0)\n",
        "GetafeTrain = np.delete(getafeMatrices, index, axis=0)\n",
        "EibarTrain = np.delete(eibarMatrices, index, axis=0)\n",
        "GironaTrain = np.delete(gironaMatrices, index, axis=0)\n",
        "EspanyolTrain = np.delete(espanyolMatrices, index, axis=0)\n",
        "RealSociedadTrain = np.delete(realSociedadMatrices, index, axis=0)\n",
        "CeltaVigoTrain = np.delete(celtaVigoMatrices, index, axis=0)\n",
        "AlavesTrain = np.delete(alavesMatrices, index, axis=0)\n",
        "LevanteTrain = np.delete(levanteMatrices, index, axis=0)\n",
        "AthleticBilbaoTrain = np.delete(athleticBilbaoMatrices, index, axis=0)\n",
        "LeganesTrain = np.delete(leganesMatrices, index, axis=0)\n",
        "DeportivoTrain = np.delete(deportivoMatrices, index, axis=0)\n",
        "LasPalmasTrain = np.delete(lasPalmasMatrices, index, axis=0)\n",
        "MalagaTrain = np.delete(malagaMatrices, index, axis=0)\n"
      ],
      "execution_count": null,
      "outputs": []
    },
    {
      "cell_type": "code",
      "metadata": {
        "id": "MW6zuqpG3_N5",
        "colab": {
          "base_uri": "https://localhost:8080/",
          "height": 119
        },
        "outputId": "f3d5bf33-f2ef-49ad-82b7-27f36f7c85c8"
      },
      "source": [
        "testBarcelona = np.array((barcelonaMatrices[5], barcelonaMatrices[11], barcelonaMatrices[17], barcelonaMatrices[23], barcelonaMatrices[29], barcelonaMatrices[35]))\n",
        "testBarcelona"
      ],
      "execution_count": null,
      "outputs": [
        {
          "output_type": "execute_result",
          "data": {
            "text/plain": [
              "array([[ 0.,  4.,  0., ...,  0.,  1.,  1.],\n",
              "       [ 5.,  3.,  1., ...,  0.,  2.,  0.],\n",
              "       [ 0.,  1.,  0., ...,  1.,  1.,  3.],\n",
              "       [10.,  6.,  1., ...,  1.,  0.,  1.],\n",
              "       [ 3.,  3.,  0., ...,  0.,  0.,  4.],\n",
              "       [ 2.,  2.,  1., ...,  0.,  3.,  1.]])"
            ]
          },
          "metadata": {
            "tags": []
          },
          "execution_count": 85
        }
      ]
    },
    {
      "cell_type": "code",
      "metadata": {
        "id": "M_akaMMOKuU0",
        "colab": {
          "base_uri": "https://localhost:8080/",
          "height": 119
        },
        "outputId": "f75a0d48-6f52-4fb4-cf26-ed804ad3265a"
      },
      "source": [
        "testReal = np.array((realMatrices[5], realMatrices[11], realMatrices[17], realMatrices[23], realMatrices[29], realMatrices[35]))\n",
        "testReal"
      ],
      "execution_count": null,
      "outputs": [
        {
          "output_type": "execute_result",
          "data": {
            "text/plain": [
              "array([[1., 0., 0., ..., 1., 1., 1.],\n",
              "       [5., 0., 0., ..., 1., 4., 2.],\n",
              "       [2., 2., 0., ..., 1., 3., 3.],\n",
              "       [0., 1., 0., ..., 0., 4., 2.],\n",
              "       [3., 1., 0., ..., 0., 1., 0.],\n",
              "       [1., 0., 0., ..., 1., 5., 7.]])"
            ]
          },
          "metadata": {
            "tags": []
          },
          "execution_count": 86
        }
      ]
    },
    {
      "cell_type": "code",
      "metadata": {
        "id": "t0NvrQSXwJFr"
      },
      "source": [
        "import numpy as np\n",
        "mixMatricesLaLiga = np.concatenate((barcelonaMatrices, athleticoMatrices, realMatrices, valenciaMatrices, villarealMatrices, realBetisMatrices, sevillaMatrices, getafeMatrices, eibarMatrices, gironaMatrices, espanyolMatrices, realSociedadMatrices, celtaVigoMatrices, alavesMatrices, levanteMatrices, leganesMatrices, deportivoMatrices, lasPalmasMatrices, malagaMatrices))"
      ],
      "execution_count": null,
      "outputs": []
    },
    {
      "cell_type": "code",
      "metadata": {
        "id": "jC33x09z2vaP"
      },
      "source": [
        "mixMatricesPremierLeague = np.concatenate((manCityMatrices, manUtdMatrices, tottenhamMatrices, liverpoolMatrices, chelseaMatrices, arsenalMatrices, burnleyMatrices, evertonMatrices, leicesterMatrices, newcastleMatrices, crystalMatrices, bournemouthMatrices, westHamMatrices, watfordMatrices, brightonMatrices, huddersfieldMatrices, southamptonMatrices, swanseaMatrices, stokeMatrices, westBromMatrices))"
      ],
      "execution_count": null,
      "outputs": []
    },
    {
      "cell_type": "code",
      "metadata": {
        "id": "Mz3RS1_q4hDb"
      },
      "source": [
        "mixMatricesBundesliga = np.concatenate((bayernMunchenMatrices, schalkeMatrices, hoffenheimMatrices, dortmundMatrices, bayernLeverkusenMatrices, leipzigMatrices, stuttgurtMatrices, frankfurtMatrices, borussiaMGMatrices, herthaMatrices, werderBermenMatrices, augsburgMatrices, hannoverMatrices, mainzMatrices, freiburgMatrices, wolfsburgMatrices, hamburgerMatrices, kolnMatrices))"
      ],
      "execution_count": null,
      "outputs": []
    },
    {
      "cell_type": "code",
      "metadata": {
        "id": "uzypE7uB6gcv"
      },
      "source": [
        "mixMatricesLigue1 = np.concatenate((psgMatrices, monacoMatrices, lyonMatrices, marseilleMatrices, rennesMatrices, bordeauxMatrices, saintEtienneMatrices, niceMatrices, nantesMatrices, montpellierMatrices, dijonMatrices, guingumpMatrices, amiensMatrices, angersMatrices, strasburgMatrices, caenMatrices, lilleMatrices, touloseMatrices, troyesMatrices, metzMatrices))"
      ],
      "execution_count": null,
      "outputs": []
    },
    {
      "cell_type": "code",
      "metadata": {
        "id": "_Br8O6PK7qRv"
      },
      "source": [
        "mixMatricesSerieA = np.concatenate((juventusMatrices, napoliMatrices, romaMatrices, internazionaleMatrices, lazioMatrices, milanMatrices, atalantaMatrices, fiorentinaMatrices, torinoMatrices, sampadoriaMatrices, sassoloMatrices, genoaMatrices, chievoMatrices, udineseMatrices, bologonaMatrices, cagliariMatrices, spalMatrices, crotoneMatrices, hellasMatrices, beneventoMatrices))"
      ],
      "execution_count": null,
      "outputs": []
    },
    {
      "cell_type": "code",
      "metadata": {
        "id": "cSTVwySA81Tk"
      },
      "source": [
        "mixMatricesEuro = np.concatenate((franceMatrices, englandMatrices, czechMatrices, icelandMatrices, austriaMatrices, northenIrelandMatrices, portugalMatrices, spainMatrices, switzerlandMatrices, italyMatrices, belgiumMatrices, walesMatrices, romaniaMatrices, albaniaMatrices, germanyMatrices, polandMatrices, russiaMatrices, slovakiaMatrices, croatiaMatrices, turkeyMatrices, hungaryMatrices, irelandMatrices, swedenMatrices, ukraineMatrices))"
      ],
      "execution_count": null,
      "outputs": []
    },
    {
      "cell_type": "code",
      "metadata": {
        "id": "fBZbWJXvN6na"
      },
      "source": [
        "mixMatricesTrain = np.concatenate((BarcelonaTrain, AthleticoTrain, RealTrain, ValenicaTrain, VillarealTrain, RealBetisTrain, SevillaTrain, GetafeTrain, EibarTrain, GironaTrain, EspanyolTrain, RealSociedadTrain, CeltaVigoTrain, AlavesTrain, LevanteTrain, LeganesTrain, DeportivoTrain, LasPalmasTrain, MalagaTrain, testReal))"
      ],
      "execution_count": null,
      "outputs": []
    },
    {
      "cell_type": "code",
      "metadata": {
        "id": "O7WfHlU835Mn"
      },
      "source": [
        "mixMatricesTopTeams = np.concatenate((barcelonaMatrices, realMatrices, athleticoMatrices, manCityMatrices, manUtdMatrices, liverpoolMatrices, tottenhamMatrices, chelseaMatrices, arsenalMatrices, psgMatrices, monacoMatrices, juventusMatrices, napoliMatrices))"
      ],
      "execution_count": null,
      "outputs": []
    },
    {
      "cell_type": "code",
      "metadata": {
        "id": "UewC6BlLUijj",
        "colab": {
          "base_uri": "https://localhost:8080/",
          "height": 34
        },
        "outputId": "9b51d40e-9614-4e46-854d-29c8c5fbac60"
      },
      "source": [
        "mixMatricesAllTeams = np.concatenate((mixMatricesLaLiga, mixMatricesPremierLeague, mixMatricesBundesliga, mixMatricesLigue1, mixMatricesSerieA))\n",
        "len(mixMatricesAllTeams)"
      ],
      "execution_count": null,
      "outputs": [
        {
          "output_type": "execute_result",
          "data": {
            "text/plain": [
              "3614"
            ]
          },
          "metadata": {
            "tags": []
          },
          "execution_count": 95
        }
      ]
    },
    {
      "cell_type": "code",
      "metadata": {
        "id": "2NkakDdJ-GGp",
        "colab": {
          "base_uri": "https://localhost:8080/",
          "height": 102
        },
        "outputId": "1e214ad0-10e8-4d20-ad41-0c7f2238aa3c"
      },
      "source": [
        "print(len(mixMatricesLaLiga))\n",
        "print(len(mixMatricesPremierLeague))\n",
        "print(len(mixMatricesBundesliga))\n",
        "print(len(mixMatricesLigue1))\n",
        "print(len(mixMatricesSerieA))\n"
      ],
      "execution_count": null,
      "outputs": [
        {
          "output_type": "stream",
          "text": [
            "722\n",
            "760\n",
            "612\n",
            "760\n",
            "760\n"
          ],
          "name": "stdout"
        }
      ]
    },
    {
      "cell_type": "code",
      "metadata": {
        "id": "EIdKJWPsudNs",
        "colab": {
          "base_uri": "https://localhost:8080/",
          "height": 204
        },
        "outputId": "0dba078d-f830-4c65-f83a-db8b58bf749d"
      },
      "source": [
        "import pandas as pd\n",
        "#MinMaxScaler\n",
        "from sklearn import preprocessing\n",
        "from sklearn.decomposition import PCA\n",
        "\n",
        "min_max_scaler = preprocessing.MinMaxScaler()\n",
        "pca5 = PCA(n_components = 2)\n",
        "#The fit method to learn the clusters on train data and a function that given train data, return an array of integer labels coressponding to different clusters\n",
        "# mixMatrices_scaled = min_max_scaler.fit_transform(mixMatricesPremierLeague)\n",
        "principalComponents = pca5.fit_transform(mixMatricesSerieA)\n",
        "principalDf5 = pd.DataFrame(data = principalComponents, columns= ['0', '1'])\n",
        "principalDf5.tail()"
      ],
      "execution_count": null,
      "outputs": [
        {
          "output_type": "execute_result",
          "data": {
            "text/html": [
              "<div>\n",
              "<style scoped>\n",
              "    .dataframe tbody tr th:only-of-type {\n",
              "        vertical-align: middle;\n",
              "    }\n",
              "\n",
              "    .dataframe tbody tr th {\n",
              "        vertical-align: top;\n",
              "    }\n",
              "\n",
              "    .dataframe thead th {\n",
              "        text-align: right;\n",
              "    }\n",
              "</style>\n",
              "<table border=\"1\" class=\"dataframe\">\n",
              "  <thead>\n",
              "    <tr style=\"text-align: right;\">\n",
              "      <th></th>\n",
              "      <th>0</th>\n",
              "      <th>1</th>\n",
              "    </tr>\n",
              "  </thead>\n",
              "  <tbody>\n",
              "    <tr>\n",
              "      <th>755</th>\n",
              "      <td>-21.008626</td>\n",
              "      <td>10.275920</td>\n",
              "    </tr>\n",
              "    <tr>\n",
              "      <th>756</th>\n",
              "      <td>-17.566787</td>\n",
              "      <td>-1.877115</td>\n",
              "    </tr>\n",
              "    <tr>\n",
              "      <th>757</th>\n",
              "      <td>4.216558</td>\n",
              "      <td>-15.583971</td>\n",
              "    </tr>\n",
              "    <tr>\n",
              "      <th>758</th>\n",
              "      <td>2.777082</td>\n",
              "      <td>4.244820</td>\n",
              "    </tr>\n",
              "    <tr>\n",
              "      <th>759</th>\n",
              "      <td>45.085634</td>\n",
              "      <td>-46.555238</td>\n",
              "    </tr>\n",
              "  </tbody>\n",
              "</table>\n",
              "</div>"
            ],
            "text/plain": [
              "             0          1\n",
              "755 -21.008626  10.275920\n",
              "756 -17.566787  -1.877115\n",
              "757   4.216558 -15.583971\n",
              "758   2.777082   4.244820\n",
              "759  45.085634 -46.555238"
            ]
          },
          "metadata": {
            "tags": []
          },
          "execution_count": 97
        }
      ]
    },
    {
      "cell_type": "code",
      "metadata": {
        "id": "KVrw3YjSHeSN",
        "colab": {
          "base_uri": "https://localhost:8080/",
          "height": 102
        },
        "outputId": "1bfca8f8-d05a-4c71-b95a-a77b83fa09d5"
      },
      "source": [
        "print(pca5.explained_variance_)\n",
        "print(pca5.explained_variance_ratio_)\n",
        "print(pca5.explained_variance_ratio_.cumsum())\n",
        "print ( \"Components = \", pca5.n_components_ , \";\\nTotal explained variance = \",\n",
        "      round(pca5.explained_variance_ratio_.sum(),5)  )"
      ],
      "execution_count": null,
      "outputs": [
        {
          "output_type": "stream",
          "text": [
            "[417.01158382 109.78955285]\n",
            "[0.3375942  0.08888078]\n",
            "[0.3375942  0.42647498]\n",
            "Components =  2 ;\n",
            "Total explained variance =  0.42647\n"
          ],
          "name": "stdout"
        }
      ]
    },
    {
      "cell_type": "code",
      "metadata": {
        "id": "I7WrjHCC9JNs",
        "colab": {
          "base_uri": "https://localhost:8080/",
          "height": 265
        },
        "outputId": "d48882e9-8412-44df-8d9c-29aee4dd3c99"
      },
      "source": [
        "import numpy as np\n",
        "from sklearn.cluster import MeanShift \n",
        "import matplotlib.pyplot as plt\n",
        "\n",
        "plt.scatter(principalComponents[:,0], principalComponents[:,1])\n",
        "plt.show()"
      ],
      "execution_count": null,
      "outputs": [
        {
          "output_type": "display_data",
          "data": {
            "image/png": "[encoded data removed]",
            "text/plain": [
              "<Figure size 432x288 with 1 Axes>"
            ]
          },
          "metadata": {
            "tags": [],
            "needs_background": "light"
          }
        }
      ]
    },
    {
      "cell_type": "code",
      "metadata": {
        "id": "AT5wx9_P-zqg",
        "colab": {
          "base_uri": "https://localhost:8080/",
          "height": 676
        },
        "outputId": "857f9b43-0551-4015-d5f6-28b0de219632"
      },
      "source": [
        "ms = MeanShift()\n",
        "ms.fit(principalComponents)\n",
        "labels = ms.labels_\n",
        "cluster_centers = ms.cluster_centers_\n",
        "n_clusters_ = len(np.unique(labels))\n",
        "print(\"Number of estimated clusters is \", n_clusters_)\n",
        "\n",
        "colors = 10*['r.','g.','b.','c.','k.','y.','m.']\n",
        "\n",
        "print(colors)\n",
        "print(labels)\n",
        "\n",
        "for i in range(len(principalComponents)):\n",
        "  plt.plot(principalComponents[i][0], principalComponents[i][1], colors[labels[i]], markersize=10)\n",
        "\n",
        "plt.scatter(cluster_centers[:,0], cluster_centers[:,1], marker=\"x\", s=150, linewidths=5, zorder=10)\n",
        "\n",
        "plt.show()"
      ],
      "execution_count": null,
      "outputs": [
        {
          "output_type": "stream",
          "text": [
            "Number of estimated clusters is  6\n",
            "['r.', 'g.', 'b.', 'c.', 'k.', 'y.', 'm.', 'r.', 'g.', 'b.', 'c.', 'k.', 'y.', 'm.', 'r.', 'g.', 'b.', 'c.', 'k.', 'y.', 'm.', 'r.', 'g.', 'b.', 'c.', 'k.', 'y.', 'm.', 'r.', 'g.', 'b.', 'c.', 'k.', 'y.', 'm.', 'r.', 'g.', 'b.', 'c.', 'k.', 'y.', 'm.', 'r.', 'g.', 'b.', 'c.', 'k.', 'y.', 'm.', 'r.', 'g.', 'b.', 'c.', 'k.', 'y.', 'm.', 'r.', 'g.', 'b.', 'c.', 'k.', 'y.', 'm.', 'r.', 'g.', 'b.', 'c.', 'k.', 'y.', 'm.']\n",
            "[1 0 0 1 1 1 0 1 0 1 0 1 0 1 0 0 0 0 0 0 0 1 0 0 0 0 1 0 1 0 1 0 1 0 0 1 0\n",
            " 0 1 2 1 4 3 3 5 2 2 1 3 3 2 2 1 1 1 0 1 3 1 2 1 3 3 1 1 5 2 1 3 2 1 3 0 1\n",
            " 1 1 0 0 0 1 1 1 0 0 0 1 0 0 0 1 1 0 0 0 0 1 0 0 1 0 0 0 0 0 0 1 1 0 0 0 0\n",
            " 0 0 0 0 0 1 0 0 1 1 0 0 0 0 0 0 0 1 0 0 1 0 0 0 1 0 0 1 1 0 0 1 1 0 0 1 0\n",
            " 0 1 1 0 0 0 0 1 0 0 0 0 0 0 2 0 0 0 0 0 0 0 0 0 1 0 2 0 0 0 0 0 1 1 1 0 0\n",
            " 0 0 0 0 0 1 0 1 0 0 0 0 0 0 1 0 0 0 0 0 0 0 0 0 1 0 1 0 0 0 0 0 1 1 0 1 0\n",
            " 0 1 0 1 0 1 0 0 0 0 1 0 0 0 0 1 0 0 0 1 0 0 0 0 1 0 0 0 0 0 0 0 0 0 1 1 0\n",
            " 0 0 0 0 0 0 1 0 0 0 0 0 0 0 1 0 0 0 0 1 0 0 0 1 0 0 0 0 0 0 1 0 0 0 0 0 0\n",
            " 0 0 0 0 0 0 0 0 0 0 0 0 0 0 0 0 0 0 0 0 0 0 0 0 0 0 0 0 0 0 0 0 0 0 1 0 0\n",
            " 0 0 1 0 0 0 0 0 0 1 0 0 0 0 0 1 0 1 0 0 0 1 1 0 0 0 0 1 0 0 0 0 0 0 1 0 0\n",
            " 0 0 0 1 0 0 0 0 0 0 0 0 0 0 0 0 0 0 0 0 0 0 0 0 0 0 0 0 0 0 0 0 0 0 0 0 0\n",
            " 0 0 0 0 0 0 0 0 0 0 0 0 0 0 0 0 0 0 0 0 0 0 0 0 0 0 0 0 0 0 0 0 0 0 0 0 0\n",
            " 0 0 0 0 0 0 0 0 0 0 0 0 0 0 0 0 0 0 0 0 0 0 0 0 0 0 0 0 0 0 0 0 1 0 0 0 0\n",
            " 0 0 0 0 0 0 0 0 0 0 0 0 0 0 0 0 0 0 0 0 0 0 0 0 0 0 0 0 0 0 0 0 0 0 0 0 0\n",
            " 0 0 0 0 0 0 0 0 0 0 0 0 0 0 0 0 0 0 0 0 0 0 0 2 0 2 0 0 0 0 0 0 0 0 0 0 0\n",
            " 0 0 0 0 0 0 0 0 0 0 0 0 0 0 0 0 0 0 0 0 0 0 0 0 0 0 0 0 0 0 0 0 0 0 0 0 0\n",
            " 0 0 0 0 0 0 0 0 0 0 0 0 0 0 0 0 0 0 0 0 0 0 0 0 0 0 0 0 0 0 0 0 0 0 0 0 0\n",
            " 0 0 0 0 0 0 0 0 0 0 0 0 0 0 0 0 0 0 0 0 0 0 0 0 0 0 0 0 0 0 0 0 0 0 0 0 0\n",
            " 0 0 0 0 0 0 0 0 0 0 0 0 0 0 0 0 0 0 0 0 0 0 0 0 0 0 0 0 0 0 0 0 0 0 0 0 0\n",
            " 0 0 0 0 0 0 0 0 0 0 0 0 0 0 0 0 0 0 0 0 0 0 0 0 0 0 0 0 0 1 0 0 0 0 0 0 0\n",
            " 0 0 0 0 0 0 0 0 0 0 0 0 0 0 0 0 0 0 0 1]\n"
          ],
          "name": "stdout"
        },
        {
          "output_type": "display_data",
          "data": {
            "image/png": "[encoded data removed]",
            "text/plain": [
              "<Figure size 432x288 with 1 Axes>"
            ]
          },
          "metadata": {
            "tags": [],
            "needs_background": "light"
          }
        }
      ]
    },
    {
      "cell_type": "code",
      "metadata": {
        "id": "v4I4dtgs5oCs",
        "colab": {
          "base_uri": "https://localhost:8080/",
          "height": 265
        },
        "outputId": "9529d206-b1ae-4a7f-beaa-450e9d1561d9"
      },
      "source": [
        "import numpy as np\n",
        "import matplotlib.pyplot as plt\n",
        "import pandas as pd\n",
        "\n",
        "import scipy.cluster.hierarchy as sch\n",
        "dendrogram = sch.dendrogram(sch.linkage(principalComponents, method='ward'))"
      ],
      "execution_count": null,
      "outputs": [
        {
          "output_type": "display_data",
          "data": {
            "image/png": "[encoded data removed]",
            "text/plain": [
              "<Figure size 432x288 with 1 Axes>"
            ]
          },
          "metadata": {
            "tags": [],
            "needs_background": "light"
          }
        }
      ]
    },
    {
      "cell_type": "code",
      "metadata": {
        "id": "H9yr6FjA7k3c",
        "colab": {
          "base_uri": "https://localhost:8080/",
          "height": 374
        },
        "outputId": "ec873b24-9afa-4f34-f2e9-d6a3fcebff18"
      },
      "source": [
        "from sklearn.cluster import AgglomerativeClustering\n",
        "hc = AgglomerativeClustering(n_clusters = 5, affinity = 'euclidean', linkage='ward')\n",
        "y_hc = hc.fit_predict(principalComponents)\n",
        "print(y_hc)"
      ],
      "execution_count": null,
      "outputs": [
        {
          "output_type": "stream",
          "text": [
            "[3 1 0 3 1 3 1 1 0 3 0 3 1 3 4 1 1 1 1 0 0 3 1 4 1 1 1 1 3 1 1 1 3 0 1 1 1\n",
            " 1 1 2 2 2 2 2 2 2 2 2 2 2 1 2 3 3 1 1 2 2 1 2 2 2 2 2 2 2 2 3 2 2 1 2 1 2\n",
            " 1 2 0 1 0 3 1 1 1 0 0 2 1 0 1 1 3 1 1 1 1 1 0 0 1 1 0 1 0 0 0 3 1 0 1 1 0\n",
            " 1 1 1 1 1 3 1 3 3 2 4 4 0 3 0 1 0 3 0 3 1 1 0 0 1 3 3 3 1 1 0 3 3 1 0 3 3\n",
            " 1 3 2 1 1 1 4 1 4 1 1 0 1 1 2 1 4 1 0 4 0 1 1 0 1 1 2 4 1 1 1 1 1 1 1 4 1\n",
            " 0 1 0 1 0 3 0 2 0 0 0 1 1 0 3 3 0 1 0 0 0 3 0 1 1 1 1 1 3 1 0 1 1 3 3 3 0\n",
            " 1 1 0 3 0 1 1 4 0 3 1 1 0 1 1 3 1 0 1 3 0 1 1 1 1 4 0 1 1 1 1 1 1 1 1 2 0\n",
            " 1 1 0 1 1 1 1 0 4 0 0 1 4 0 1 0 0 1 0 3 1 3 0 3 1 0 0 0 1 0 3 4 4 0 0 0 3\n",
            " 4 3 4 0 0 0 0 0 3 1 1 4 0 0 1 0 4 1 1 0 1 4 0 1 1 0 1 0 1 1 4 4 1 0 1 4 0\n",
            " 0 4 1 0 4 1 0 1 4 1 4 0 0 1 1 3 1 3 0 1 0 1 3 0 0 1 1 1 1 0 4 0 3 0 1 4 0\n",
            " 0 1 1 3 0 0 1 0 0 0 0 4 4 0 0 0 0 0 0 1 4 4 0 1 0 0 4 4 4 0 0 0 0 1 0 0 0\n",
            " 4 0 4 4 0 0 4 0 4 4 0 0 1 1 1 0 0 0 4 0 4 1 0 0 4 0 0 0 0 4 0 1 1 0 1 4 1\n",
            " 0 0 4 1 4 0 4 1 0 0 0 3 0 0 0 0 0 0 1 0 0 0 0 4 0 1 0 4 0 0 0 1 1 4 0 1 1\n",
            " 0 0 0 4 4 4 0 4 0 0 4 0 4 1 1 0 0 1 4 4 0 1 4 0 1 1 0 0 0 4 1 0 0 0 4 0 0\n",
            " 0 4 0 1 0 4 0 0 4 0 0 0 0 0 0 0 4 0 4 1 0 1 0 1 0 1 3 4 1 1 1 0 1 4 1 0 0\n",
            " 4 0 0 4 0 4 4 0 0 0 0 0 1 0 1 1 0 1 0 1 0 4 1 1 0 0 0 0 0 4 4 4 4 4 4 0 4\n",
            " 0 0 4 4 0 4 0 4 0 1 4 0 0 0 4 4 0 4 0 0 0 4 3 0 0 0 0 4 4 0 4 0 0 0 4 1 1\n",
            " 0 0 0 0 0 1 0 0 0 0 4 0 4 1 4 0 0 4 4 4 4 0 0 4 4 0 4 4 4 1 4 1 0 0 0 4 4\n",
            " 1 1 0 4 4 1 4 4 4 0 4 0 4 0 4 0 4 4 4 1 0 0 4 1 4 0 4 4 4 4 0 4 1 4 4 0 4\n",
            " 4 0 4 0 4 0 4 0 4 0 4 0 0 0 0 4 0 0 4 4 0 4 4 0 0 0 4 0 1 3 4 0 4 0 1 0 4\n",
            " 4 4 0 4 0 4 0 0 0 0 0 4 1 0 0 4 0 0 1 3]\n"
          ],
          "name": "stdout"
        }
      ]
    },
    {
      "cell_type": "code",
      "metadata": {
        "id": "P2vf2udH959h",
        "colab": {
          "base_uri": "https://localhost:8080/",
          "height": 295
        },
        "outputId": "f45f9517-43d2-4588-d7d7-fc81cd11a6a5"
      },
      "source": [
        "plt.scatter(principalComponents[y_hc == 0,0], principalComponents[y_hc == 0,1], c='red', label='cluster 1')\n",
        "plt.scatter(principalComponents[y_hc == 1,0], principalComponents[y_hc == 1,1], c='blue', label='cluster 2')\n",
        "plt.scatter(principalComponents[y_hc == 2,0], principalComponents[y_hc == 2,1], c='yellow', label='cluster 3')\n",
        "plt.scatter(principalComponents[y_hc == 3,0], principalComponents[y_hc == 3,1], c='green', label='cluster 4')\n",
        "plt.scatter(principalComponents[y_hc == 4,0], principalComponents[y_hc == 4,1], c='cyan', label='cluster 5')\n",
        "\n",
        "\n",
        "plt.title('Serie A Hierarchical clustering')\n",
        "plt.xlabel('Principal component 1')\n",
        "plt.ylabel('Principal component 2')\n",
        "plt.legend()\n",
        "plt.show()"
      ],
      "execution_count": null,
      "outputs": [
        {
          "output_type": "display_data",
          "data": {
            "image/png": "[encoded data removed]",
            "text/plain": [
              "<Figure size 432x288 with 1 Axes>"
            ]
          },
          "metadata": {
            "tags": [],
            "needs_background": "light"
          }
        }
      ]
    },
    {
      "cell_type": "code",
      "metadata": {
        "id": "sQVC0TzJTU9X",
        "colab": {
          "base_uri": "https://localhost:8080/",
          "height": 442
        },
        "outputId": "a063e60b-fabe-4928-b9a3-35916cb33cf7"
      },
      "source": [
        "cluster1 = np.zeros(20, dtype=int)\n",
        "cluster2 = np.zeros(20, dtype=int)                                                                 \n",
        "cluster3 = np.zeros(20, dtype=int)\n",
        "cluster4 = np.zeros(20, dtype=int)\n",
        "cluster5 = np.zeros(20, dtype=int)\n",
        "\n",
        "i=1\n",
        "x=0\n",
        "y=0\n",
        "train=True\n",
        "\n",
        "x=0\n",
        "\n",
        "for i in range(len(y_hc)):\n",
        "  if(i % 38 == 0 and i != 0):  \n",
        "    x += 1\n",
        "  if(y_hc[i] == 0):\n",
        "    cluster1[x] += 1\n",
        "  else:\n",
        "    if (y_hc[i] == 1):\n",
        "      cluster2[x] += 1\n",
        "    else:\n",
        "      if (y_hc[i] == 2):\n",
        "        cluster3[x] += 1\n",
        "      else:\n",
        "        if (y_hc[i] == 3):\n",
        "          cluster4[x] += 1\n",
        "        else:\n",
        "          if (y_hc[i] == 4):\n",
        "            cluster5[x] += 1  \n",
        "\n",
        "totalCluster = np.transpose([cluster1, cluster2, cluster3, cluster4, cluster5])\n",
        "print(cluster1)\n",
        "print(cluster2)\n",
        "print(cluster3)\n",
        "print(cluster4)\n",
        "print(cluster5)\n",
        "print(totalCluster)"
      ],
      "execution_count": null,
      "outputs": [
        {
          "output_type": "stream",
          "text": [
            "[ 6  0 13  8  7 14  7 20 12 16 22 19 23 22 18 17 24 11 16 19]\n",
            "[21  8 21 12 23 14 25  6 16 14  3 10  6  8 11  6  4  5  3  4]\n",
            "[ 0 27  1  2  2  1  1  0  0  0  0  0  0  0  0  0  0  0  0  0]\n",
            "[ 9  3  3 14  0  9  3  6  1  5  0  1  0  0  1  0  1  0  0  2]\n",
            "[ 2  0  0  2  6  0  2  6  9  3 13  8  9  8  8 15  9 22 19 13]\n",
            "[[ 6 21  0  9  2]\n",
            " [ 0  8 27  3  0]\n",
            " [13 21  1  3  0]\n",
            " [ 8 12  2 14  2]\n",
            " [ 7 23  2  0  6]\n",
            " [14 14  1  9  0]\n",
            " [ 7 25  1  3  2]\n",
            " [20  6  0  6  6]\n",
            " [12 16  0  1  9]\n",
            " [16 14  0  5  3]\n",
            " [22  3  0  0 13]\n",
            " [19 10  0  1  8]\n",
            " [23  6  0  0  9]\n",
            " [22  8  0  0  8]\n",
            " [18 11  0  1  8]\n",
            " [17  6  0  0 15]\n",
            " [24  4  0  1  9]\n",
            " [11  5  0  0 22]\n",
            " [16  3  0  0 19]\n",
            " [19  4  0  2 13]]\n"
          ],
          "name": "stdout"
        }
      ]
    },
    {
      "cell_type": "code",
      "metadata": {
        "id": "lVH3pLz5UzC_",
        "colab": {
          "base_uri": "https://localhost:8080/",
          "height": 357
        },
        "outputId": "cafabc15-377b-471b-b836-8500cc982684"
      },
      "source": [
        "for i in range(len(totalCluster)):\n",
        "  print(i+1, end =\" \")\n",
        "  for j in range(len(totalCluster[i])):\n",
        "    print(\"&\", totalCluster[i][j], end =\" \")\n",
        "  print(\"\\\\\\\\\")"
      ],
      "execution_count": null,
      "outputs": [
        {
          "output_type": "stream",
          "text": [
            "1 & 6 & 21 & 0 & 9 & 2 \\\\\n",
            "2 & 0 & 8 & 27 & 3 & 0 \\\\\n",
            "3 & 13 & 21 & 1 & 3 & 0 \\\\\n",
            "4 & 8 & 12 & 2 & 14 & 2 \\\\\n",
            "5 & 7 & 23 & 2 & 0 & 6 \\\\\n",
            "6 & 14 & 14 & 1 & 9 & 0 \\\\\n",
            "7 & 7 & 25 & 1 & 3 & 2 \\\\\n",
            "8 & 20 & 6 & 0 & 6 & 6 \\\\\n",
            "9 & 12 & 16 & 0 & 1 & 9 \\\\\n",
            "10 & 16 & 14 & 0 & 5 & 3 \\\\\n",
            "11 & 22 & 3 & 0 & 0 & 13 \\\\\n",
            "12 & 19 & 10 & 0 & 1 & 8 \\\\\n",
            "13 & 23 & 6 & 0 & 0 & 9 \\\\\n",
            "14 & 22 & 8 & 0 & 0 & 8 \\\\\n",
            "15 & 18 & 11 & 0 & 1 & 8 \\\\\n",
            "16 & 17 & 6 & 0 & 0 & 15 \\\\\n",
            "17 & 24 & 4 & 0 & 1 & 9 \\\\\n",
            "18 & 11 & 5 & 0 & 0 & 22 \\\\\n",
            "19 & 16 & 3 & 0 & 0 & 19 \\\\\n",
            "20 & 19 & 4 & 0 & 2 & 13 \\\\\n"
          ],
          "name": "stdout"
        }
      ]
    },
    {
      "cell_type": "code",
      "metadata": {
        "id": "VKI1YrFsBFPe",
        "colab": {
          "base_uri": "https://localhost:8080/",
          "height": 102
        },
        "outputId": "272b1edd-0963-4403-9294-02177817da69"
      },
      "source": [
        "cluster1 = np.zeros(5, dtype=int)\n",
        "cluster2 = np.zeros(5, dtype=int)                                                                 \n",
        "cluster3 = np.zeros(5, dtype=int)\n",
        "cluster4 = np.zeros(5, dtype=int)\n",
        "cluster5 = np.zeros(5, dtype=int)\n",
        "\n",
        "\n",
        "x=0\n",
        "y=0\n",
        "isPL = False;\n",
        "isB = False;\n",
        "isL1 = False;\n",
        "isSA = False;\n",
        "\n",
        "for i in range(len(y_hc)):\n",
        "  if (i != 0):\n",
        "    if (i % 722 == 0 and  x==0 and isPL == False):\n",
        "      x = x + 1\n",
        "      isPL = True\n",
        "    else:\n",
        "       if (i % 1482 == 0 and x==1 and isB == False):\n",
        "          x = x + 1\n",
        "          isB = True\n",
        "       else:\n",
        "          if (i % 2094 == 0 and x==2 and isL1 == False):\n",
        "            x = x + 1\n",
        "            isL1 = True\n",
        "          else:\n",
        "             if (i % 2854 == 0 and x==3 and isSA == False):\n",
        "              x = x + 1\n",
        "              isSA = True\n",
        "  if (y_hc[i] == 0):\n",
        "    cluster1[x] += 1\n",
        "  else:\n",
        "    if (y_hc[i] == 1):\n",
        "      cluster2[x] += 1\n",
        "    else:\n",
        "      if (y_hc[i] == 2):\n",
        "        cluster3[x] += 1\n",
        "      else:\n",
        "        if (y_hc[i] == 3):\n",
        "          cluster4[x] += 1\n",
        "        else:\n",
        "          if (y_hc[i] == 4):\n",
        "            cluster5[x] += 1  \n",
        "\n",
        "print(cluster1)  \n",
        "print(cluster2)  \n",
        "print(cluster3)  \n",
        "print(cluster4)  \n",
        "print(cluster5)  \n",
        "totalCluster = np.transpose([cluster1, cluster2, cluster3, cluster4, cluster5])"
      ],
      "execution_count": null,
      "outputs": [
        {
          "output_type": "stream",
          "text": [
            "[275  19   0   0   0]\n",
            "[216   4   0   0   0]\n",
            "[34  0  0  0  0]\n",
            "[56  2  0  0  0]\n",
            "[141  13   0   0   0]\n"
          ],
          "name": "stdout"
        }
      ]
    },
    {
      "cell_type": "code",
      "metadata": {
        "id": "ONjo1pVvaj-R"
      },
      "source": [
        "3614\n",
        "722\n",
        "760\n",
        "612\n",
        "760\n",
        "760\n",
        "cols=[]\n",
        "for i in range(3614):\n",
        "  if i<722:\n",
        "    cols.append('black')\n",
        "  else:\n",
        "    if (i<1482):  \n",
        "      cols.append('red')\n",
        "    else:\n",
        "      if (i<2094):\n",
        "        cols.append('blue')\n",
        "      else:\n",
        "        if (i<2854):\n",
        "          cols.append('green')  \n",
        "        else:\n",
        "            cols.append('yellow')"
      ],
      "execution_count": null,
      "outputs": []
    },
    {
      "cell_type": "code",
      "metadata": {
        "id": "xKTXsMcR99aL"
      },
      "source": [
        "cols=[]\n",
        "for i in range(760):\n",
        "  if i<38:\n",
        "    cols.append('red')\n",
        "  else:\n",
        "    if (i<76):  \n",
        "      cols.append('black')\n",
        "    else:\n",
        "      if (i<114):\n",
        "        cols.append('yellow')\n",
        "      else:\n",
        "        if (i<152):\n",
        "          cols.append('blue')  \n",
        "        else:\n",
        "          if (i<190):\n",
        "            cols.append('purple')\n",
        "          else:\n",
        "           if (i<228):\n",
        "             cols.append('pink')  \n",
        "           else:\n",
        "            if (i<266):\n",
        "              cols.append('navy')\n",
        "            else:\n",
        "              if (i<304):\n",
        "               cols.append('turquoise')\n",
        "              else:\n",
        "                if (i<342):\n",
        "                  cols.append('violet')\n",
        "                else:\n",
        "                  if (i<380):\n",
        "                    cols.append('magenta')\n",
        "                  else:\n",
        "                    if (i<418):\n",
        "                     cols.append('gray')\n",
        "                    else:\n",
        "                      if (i<456):\n",
        "                       cols.append('cyan')\n",
        "                      else:\n",
        "                        if (i<494):\n",
        "                          cols.append('brown')\n",
        "                        else:\n",
        "                          if (i<532):\n",
        "                            cols.append('gold')\n",
        "                          else:\n",
        "                            if (i<570):\n",
        "                              cols.append('orange')\n",
        "                            else:\n",
        "                              if (i<608):\n",
        "                                cols.append('azure')  \n",
        "                              else:\n",
        "                                if (i<646):\n",
        "                                  cols.append('salmon')\n",
        "                                else:\n",
        "                                  if (i<684):\n",
        "                                    cols.append('darkviolet')  \n",
        "                                  else:\n",
        "                                    if (i<722):\n",
        "                                      cols.append('lime')\n",
        "                                    else:\n",
        "                                      cols.append('silver')\n",
        "                                     "
      ],
      "execution_count": null,
      "outputs": []
    },
    {
      "cell_type": "code",
      "metadata": {
        "id": "jAXG4p16vzo2",
        "colab": {
          "base_uri": "https://localhost:8080/",
          "height": 69
        },
        "outputId": "50694952-8eba-4eca-eace-8bb6091d40c9"
      },
      "source": [
        "\"\"\" cols=[]\n",
        "for i in range(3614):\n",
        "  if i<722:\n",
        "    cols.append('red')\n",
        "  else:\n",
        "    if (i<1482):  \n",
        "      cols.append('black')\n",
        "    else:\n",
        "      if (i<2094):\n",
        "        cols.append('yellow')\n",
        "      else:\n",
        "        if (i<2854):\n",
        "          cols.append('blue')  \n",
        "        else:\n",
        "          if (i<3614):\n",
        "            cols.append('purple') \"\"\""
      ],
      "execution_count": null,
      "outputs": [
        {
          "output_type": "execute_result",
          "data": {
            "application/vnd.google.colaboratory.intrinsic+json": {
              "type": "string"
            },
            "text/plain": [
              "\" cols=[]\\nfor i in range(3614):\\n  if i<722:\\n    cols.append('red')\\n  else:\\n    if (i<1482):  \\n      cols.append('black')\\n    else:\\n      if (i<2094):\\n        cols.append('yellow')\\n      else:\\n        if (i<2854):\\n          cols.append('blue')  \\n        else:\\n          if (i<3614):\\n            cols.append('purple') \""
            ]
          },
          "metadata": {
            "tags": []
          },
          "execution_count": 109
        }
      ]
    },
    {
      "cell_type": "code",
      "metadata": {
        "id": "WA9CvYiNvnAB",
        "colab": {
          "base_uri": "https://localhost:8080/",
          "height": 295
        },
        "outputId": "c7311f3f-87bd-4f8d-ff1d-3df28e23e0ba"
      },
      "source": [
        "from matplotlib import pyplot as plt\n",
        "#MinMaxScaler\n",
        "plt.scatter(principalDf5['0'], principalDf5['1'], c=cols)\n",
        "plt.title('All Leagues Matrices')\n",
        "plt.xlabel('Principal component 1')\n",
        "plt.ylabel('Principal component 2')\n",
        "\n",
        "plt.show()\n"
      ],
      "execution_count": null,
      "outputs": [
        {
          "output_type": "display_data",
          "data": {
            "image/png": "[encoded data removed]",
            "text/plain": [
              "<Figure size 432x288 with 1 Axes>"
            ]
          },
          "metadata": {
            "tags": [],
            "needs_background": "light"
          }
        }
      ]
    },
    {
      "cell_type": "code",
      "metadata": {
        "id": "BV3rtuV_O1ZT",
        "colab": {
          "base_uri": "https://localhost:8080/",
          "height": 697
        },
        "outputId": "3118bc66-99e4-4259-cdf0-0dc9e2c95e82"
      },
      "source": [
        "from matplotlib import pyplot as plt\n",
        "## Plot scatter by cluster / color, and centroids\n",
        "colors = [\"red\", \"green\", \"yellow\"]\n",
        "principalDf5['color'] = principalDf5['predicted'].map(lambda p: colors[p])\n",
        "\n",
        "ax = principalDf5.plot(    \n",
        "    kind=\"scatter\", \n",
        "    x=\"0\", y=\"1\",\n",
        "    c = principalDf5['color']\n",
        ")\n",
        "df_new.plot(\n",
        "    kind=\"scatter\", \n",
        "    x=\"Prinicpal Component 1\", y=\"Principal Component 2\", \n",
        "    marker=\"x\", c=[\"black\", \"black\", \"black\"], s=200, ax=ax)\n",
        "\n",
        "plt.title(\"Serie A k-means clustering\")"
      ],
      "execution_count": null,
      "outputs": [
        {
          "output_type": "error",
          "ename": "KeyError",
          "evalue": "ignored",
          "traceback": [
            "\u001b[0;31m---------------------------------------------------------------------------\u001b[0m",
            "\u001b[0;31mKeyError\u001b[0m                                  Traceback (most recent call last)",
            "\u001b[0;32m/usr/local/lib/python3.6/dist-packages/pandas/core/indexes/base.py\u001b[0m in \u001b[0;36mget_loc\u001b[0;34m(self, key, method, tolerance)\u001b[0m\n\u001b[1;32m   2645\u001b[0m             \u001b[0;32mtry\u001b[0m\u001b[0;34m:\u001b[0m\u001b[0;34m\u001b[0m\u001b[0;34m\u001b[0m\u001b[0m\n\u001b[0;32m-> 2646\u001b[0;31m                 \u001b[0;32mreturn\u001b[0m \u001b[0mself\u001b[0m\u001b[0;34m.\u001b[0m\u001b[0m_engine\u001b[0m\u001b[0;34m.\u001b[0m\u001b[0mget_loc\u001b[0m\u001b[0;34m(\u001b[0m\u001b[0mkey\u001b[0m\u001b[0;34m)\u001b[0m\u001b[0;34m\u001b[0m\u001b[0;34m\u001b[0m\u001b[0m\n\u001b[0m\u001b[1;32m   2647\u001b[0m             \u001b[0;32mexcept\u001b[0m \u001b[0mKeyError\u001b[0m\u001b[0;34m:\u001b[0m\u001b[0;34m\u001b[0m\u001b[0;34m\u001b[0m\u001b[0m\n",
            "\u001b[0;32mpandas/_libs/index.pyx\u001b[0m in \u001b[0;36mpandas._libs.index.IndexEngine.get_loc\u001b[0;34m()\u001b[0m\n",
            "\u001b[0;32mpandas/_libs/index.pyx\u001b[0m in \u001b[0;36mpandas._libs.index.IndexEngine.get_loc\u001b[0;34m()\u001b[0m\n",
            "\u001b[0;32mpandas/_libs/hashtable_class_helper.pxi\u001b[0m in \u001b[0;36mpandas._libs.hashtable.PyObjectHashTable.get_item\u001b[0;34m()\u001b[0m\n",
            "\u001b[0;32mpandas/_libs/hashtable_class_helper.pxi\u001b[0m in \u001b[0;36mpandas._libs.hashtable.PyObjectHashTable.get_item\u001b[0;34m()\u001b[0m\n",
            "\u001b[0;31mKeyError\u001b[0m: 'predicted'",
            "\nDuring handling of the above exception, another exception occurred:\n",
            "\u001b[0;31mKeyError\u001b[0m                                  Traceback (most recent call last)",
            "\u001b[0;32m<ipython-input-111-cdb44f7cc399>\u001b[0m in \u001b[0;36m<module>\u001b[0;34m()\u001b[0m\n\u001b[1;32m      2\u001b[0m \u001b[0;31m## Plot scatter by cluster / color, and centroids\u001b[0m\u001b[0;34m\u001b[0m\u001b[0;34m\u001b[0m\u001b[0;34m\u001b[0m\u001b[0m\n\u001b[1;32m      3\u001b[0m \u001b[0mcolors\u001b[0m \u001b[0;34m=\u001b[0m \u001b[0;34m[\u001b[0m\u001b[0;34m\"red\"\u001b[0m\u001b[0;34m,\u001b[0m \u001b[0;34m\"green\"\u001b[0m\u001b[0;34m,\u001b[0m \u001b[0;34m\"yellow\"\u001b[0m\u001b[0;34m]\u001b[0m\u001b[0;34m\u001b[0m\u001b[0;34m\u001b[0m\u001b[0m\n\u001b[0;32m----> 4\u001b[0;31m \u001b[0mprincipalDf5\u001b[0m\u001b[0;34m[\u001b[0m\u001b[0;34m'color'\u001b[0m\u001b[0;34m]\u001b[0m \u001b[0;34m=\u001b[0m \u001b[0mprincipalDf5\u001b[0m\u001b[0;34m[\u001b[0m\u001b[0;34m'predicted'\u001b[0m\u001b[0;34m]\u001b[0m\u001b[0;34m.\u001b[0m\u001b[0mmap\u001b[0m\u001b[0;34m(\u001b[0m\u001b[0;32mlambda\u001b[0m \u001b[0mp\u001b[0m\u001b[0;34m:\u001b[0m \u001b[0mcolors\u001b[0m\u001b[0;34m[\u001b[0m\u001b[0mp\u001b[0m\u001b[0;34m]\u001b[0m\u001b[0;34m)\u001b[0m\u001b[0;34m\u001b[0m\u001b[0;34m\u001b[0m\u001b[0m\n\u001b[0m\u001b[1;32m      5\u001b[0m \u001b[0;34m\u001b[0m\u001b[0m\n\u001b[1;32m      6\u001b[0m ax = principalDf5.plot(    \n",
            "\u001b[0;32m/usr/local/lib/python3.6/dist-packages/pandas/core/frame.py\u001b[0m in \u001b[0;36m__getitem__\u001b[0;34m(self, key)\u001b[0m\n\u001b[1;32m   2798\u001b[0m             \u001b[0;32mif\u001b[0m \u001b[0mself\u001b[0m\u001b[0;34m.\u001b[0m\u001b[0mcolumns\u001b[0m\u001b[0;34m.\u001b[0m\u001b[0mnlevels\u001b[0m \u001b[0;34m>\u001b[0m \u001b[0;36m1\u001b[0m\u001b[0;34m:\u001b[0m\u001b[0;34m\u001b[0m\u001b[0;34m\u001b[0m\u001b[0m\n\u001b[1;32m   2799\u001b[0m                 \u001b[0;32mreturn\u001b[0m \u001b[0mself\u001b[0m\u001b[0;34m.\u001b[0m\u001b[0m_getitem_multilevel\u001b[0m\u001b[0;34m(\u001b[0m\u001b[0mkey\u001b[0m\u001b[0;34m)\u001b[0m\u001b[0;34m\u001b[0m\u001b[0;34m\u001b[0m\u001b[0m\n\u001b[0;32m-> 2800\u001b[0;31m             \u001b[0mindexer\u001b[0m \u001b[0;34m=\u001b[0m \u001b[0mself\u001b[0m\u001b[0;34m.\u001b[0m\u001b[0mcolumns\u001b[0m\u001b[0;34m.\u001b[0m\u001b[0mget_loc\u001b[0m\u001b[0;34m(\u001b[0m\u001b[0mkey\u001b[0m\u001b[0;34m)\u001b[0m\u001b[0;34m\u001b[0m\u001b[0;34m\u001b[0m\u001b[0m\n\u001b[0m\u001b[1;32m   2801\u001b[0m             \u001b[0;32mif\u001b[0m \u001b[0mis_integer\u001b[0m\u001b[0;34m(\u001b[0m\u001b[0mindexer\u001b[0m\u001b[0;34m)\u001b[0m\u001b[0;34m:\u001b[0m\u001b[0;34m\u001b[0m\u001b[0;34m\u001b[0m\u001b[0m\n\u001b[1;32m   2802\u001b[0m                 \u001b[0mindexer\u001b[0m \u001b[0;34m=\u001b[0m \u001b[0;34m[\u001b[0m\u001b[0mindexer\u001b[0m\u001b[0;34m]\u001b[0m\u001b[0;34m\u001b[0m\u001b[0;34m\u001b[0m\u001b[0m\n",
            "\u001b[0;32m/usr/local/lib/python3.6/dist-packages/pandas/core/indexes/base.py\u001b[0m in \u001b[0;36mget_loc\u001b[0;34m(self, key, method, tolerance)\u001b[0m\n\u001b[1;32m   2646\u001b[0m                 \u001b[0;32mreturn\u001b[0m \u001b[0mself\u001b[0m\u001b[0;34m.\u001b[0m\u001b[0m_engine\u001b[0m\u001b[0;34m.\u001b[0m\u001b[0mget_loc\u001b[0m\u001b[0;34m(\u001b[0m\u001b[0mkey\u001b[0m\u001b[0;34m)\u001b[0m\u001b[0;34m\u001b[0m\u001b[0;34m\u001b[0m\u001b[0m\n\u001b[1;32m   2647\u001b[0m             \u001b[0;32mexcept\u001b[0m \u001b[0mKeyError\u001b[0m\u001b[0;34m:\u001b[0m\u001b[0;34m\u001b[0m\u001b[0;34m\u001b[0m\u001b[0m\n\u001b[0;32m-> 2648\u001b[0;31m                 \u001b[0;32mreturn\u001b[0m \u001b[0mself\u001b[0m\u001b[0;34m.\u001b[0m\u001b[0m_engine\u001b[0m\u001b[0;34m.\u001b[0m\u001b[0mget_loc\u001b[0m\u001b[0;34m(\u001b[0m\u001b[0mself\u001b[0m\u001b[0;34m.\u001b[0m\u001b[0m_maybe_cast_indexer\u001b[0m\u001b[0;34m(\u001b[0m\u001b[0mkey\u001b[0m\u001b[0;34m)\u001b[0m\u001b[0;34m)\u001b[0m\u001b[0;34m\u001b[0m\u001b[0;34m\u001b[0m\u001b[0m\n\u001b[0m\u001b[1;32m   2649\u001b[0m         \u001b[0mindexer\u001b[0m \u001b[0;34m=\u001b[0m \u001b[0mself\u001b[0m\u001b[0;34m.\u001b[0m\u001b[0mget_indexer\u001b[0m\u001b[0;34m(\u001b[0m\u001b[0;34m[\u001b[0m\u001b[0mkey\u001b[0m\u001b[0;34m]\u001b[0m\u001b[0;34m,\u001b[0m \u001b[0mmethod\u001b[0m\u001b[0;34m=\u001b[0m\u001b[0mmethod\u001b[0m\u001b[0;34m,\u001b[0m \u001b[0mtolerance\u001b[0m\u001b[0;34m=\u001b[0m\u001b[0mtolerance\u001b[0m\u001b[0;34m)\u001b[0m\u001b[0;34m\u001b[0m\u001b[0;34m\u001b[0m\u001b[0m\n\u001b[1;32m   2650\u001b[0m         \u001b[0;32mif\u001b[0m \u001b[0mindexer\u001b[0m\u001b[0;34m.\u001b[0m\u001b[0mndim\u001b[0m \u001b[0;34m>\u001b[0m \u001b[0;36m1\u001b[0m \u001b[0;32mor\u001b[0m \u001b[0mindexer\u001b[0m\u001b[0;34m.\u001b[0m\u001b[0msize\u001b[0m \u001b[0;34m>\u001b[0m \u001b[0;36m1\u001b[0m\u001b[0;34m:\u001b[0m\u001b[0;34m\u001b[0m\u001b[0;34m\u001b[0m\u001b[0m\n",
            "\u001b[0;32mpandas/_libs/index.pyx\u001b[0m in \u001b[0;36mpandas._libs.index.IndexEngine.get_loc\u001b[0;34m()\u001b[0m\n",
            "\u001b[0;32mpandas/_libs/index.pyx\u001b[0m in \u001b[0;36mpandas._libs.index.IndexEngine.get_loc\u001b[0;34m()\u001b[0m\n",
            "\u001b[0;32mpandas/_libs/hashtable_class_helper.pxi\u001b[0m in \u001b[0;36mpandas._libs.hashtable.PyObjectHashTable.get_item\u001b[0;34m()\u001b[0m\n",
            "\u001b[0;32mpandas/_libs/hashtable_class_helper.pxi\u001b[0m in \u001b[0;36mpandas._libs.hashtable.PyObjectHashTable.get_item\u001b[0;34m()\u001b[0m\n",
            "\u001b[0;31mKeyError\u001b[0m: 'predicted'"
          ]
        }
      ]
    },
    {
      "cell_type": "code",
      "metadata": {
        "id": "MlfrewIG0mC_"
      },
      "source": [
        "cluster1 = np.zeros(5)\n",
        "cluster2 = np.zeros(5)                                                                 \n",
        "cluster3 = np.zeros(5)\n",
        "\n",
        "x=0\n",
        "y=0\n",
        "isPL = False;\n",
        "isB = False;\n",
        "isL1 = False;\n",
        "isSA = False;\n",
        "\n",
        "for i, row in principalDf5.iterrows():\n",
        "  if (i != 0):\n",
        "    if (i % 722 == 0 and  x==0 and isPL == False):\n",
        "      x = x + 1\n",
        "      isPL = True\n",
        "    else:\n",
        "       if (i % 1482 == 0 and x==1 and isB == False):\n",
        "          x = x + 1\n",
        "          isB = True\n",
        "       else:\n",
        "          if (i % 2094 == 0 and x==2 and isL1 == False):\n",
        "            x = x + 1\n",
        "            isL1 = True\n",
        "          else:\n",
        "             if (i % 2854 == 0 and x==3 and isSA == False):\n",
        "              x = x + 1\n",
        "              isSA = True\n",
        "  if (row['predicted'] == 0):\n",
        "    cluster1[x] += 1\n",
        "  else:\n",
        "    if (row['predicted']  == 1):\n",
        "      cluster2[x] += 1\n",
        "    else:\n",
        "      if (row['predicted']  == 2):\n",
        "        cluster3[x] += 1\n",
        "\n",
        "print(cluster1)  \n",
        "print(cluster2)  \n",
        "print(cluster3)"
      ],
      "execution_count": null,
      "outputs": []
    },
    {
      "cell_type": "code",
      "metadata": {
        "id": "-F58V-1nwTy2"
      },
      "source": [
        "cluster1 = np.zeros(21)\n",
        "cluster2 = np.zeros(21)                                                                 \n",
        "cluster3 = np.zeros(21)\n",
        "cluster4 = np.zeros(21)\n",
        "cluster5 = np.zeros(21)\n",
        "cluster6 = np.zeros(21)\n",
        "cluster7 = np.zeros(21)\n",
        "cluster8 = np.zeros(21)\n",
        "cluster9 = np.zeros(21)\n",
        "cluster10 = np.zeros(21)\n",
        "cluster11 = np.zeros(21)\n",
        "cluster12 = np.zeros(21)\n",
        "cluster13 = np.zeros(21)\n",
        "cluster14 = np.zeros(21)\n",
        "cluster15 = np.zeros(21)\n",
        "cluster16 = np.zeros(21)\n",
        "cluster17 = np.zeros(21)\n",
        "cluster18 = np.zeros(21)\n",
        "cluster19 = np.zeros(21)\n",
        "cluster20 = np.zeros(21) \n",
        "\n",
        "i=1\n",
        "x=0\n",
        "y=0\n",
        "train=True\n",
        "\n",
        "for index, row in principalDf5.iterrows():\n",
        "  if(row['predicted'] == 0):\n",
        "    cluster1[x] += 1\n",
        "  else:\n",
        "    if (row['predicted'] == 1):\n",
        "      cluster2[x] += 1\n",
        "    else:\n",
        "      if (row['predicted'] == 2):\n",
        "        cluster3[x] += 1\n",
        "      else:\n",
        "        if (row['predicted'] == 3):\n",
        "          cluster4[x] += 1\n",
        "        else:\n",
        "          if (row['predicted'] == 4):\n",
        "            cluster5[x] += 1\n",
        "          else:\n",
        "            if (row['predicted'] == 5):\n",
        "              cluster6[x] += 1\n",
        "            else:\n",
        "              if (row['predicted'] == 6):\n",
        "                cluster7[x] += 1\n",
        "              else:\n",
        "                if (row['predicted'] == 7):\n",
        "                  cluster8[x] += 1\n",
        "                else:\n",
        "                  if (row['predicted'] == 8):\n",
        "                    cluster9[x] += 1\n",
        "                  else:\n",
        "                    if (row['predicted'] == 9):\n",
        "                      cluster10[x] += 1\n",
        "                    else:\n",
        "                      if (row['predicted'] == 10):\n",
        "                        cluster11[x] += 1\n",
        "                      else:\n",
        "                        if (row['predicted'] == 11):\n",
        "                          cluster12[x] += 1\n",
        "                        else:\n",
        "                          if (row['predicted'] == 12):\n",
        "                            cluster13[x] += 1\n",
        "                          else:\n",
        "                            if (row['predicted'] == 13):\n",
        "                              cluster14[x] += 1\n",
        "                            else:\n",
        "                              if (row['predicted'] == 14):\n",
        "                                cluster15[x] += 1\n",
        "                              else:\n",
        "                                if (row['predicted'] == 15):\n",
        "                                  cluster16[x] += 1\n",
        "                                else:\n",
        "                                  if (row['predicted'] == 16):\n",
        "                                    cluster17[x] += 1\n",
        "                                  else:\n",
        "                                    if (row['predicted'] == 17):\n",
        "                                      cluster18[x] += 1   \n",
        "                                    else:\n",
        "                                      if (row['predicted'] == 18):\n",
        "                                        cluster19[x] += 1 \n",
        "                                      else:\n",
        "                                        if (row['predicted'] == 19):\n",
        "                                          cluster20[x] += 1 \n",
        "  #if(i > 31 and train == True):   \n",
        "  #  x += 1\n",
        "  #  i = 0\n",
        "  #  train = False\n",
        "  if(i > 37):  \n",
        "    x += 1\n",
        "    i = 0\n",
        "  i = i+1\n",
        "  y = y+1\n",
        "\n",
        "print(cluster1)\n",
        "print(cluster2)\n",
        "print(cluster3)\n",
        "print(cluster4)\n",
        "print(cluster5)\n",
        "print(cluster6)\n",
        "print(cluster7)\n",
        "print(cluster8)\n",
        "print(cluster9)\n",
        "print(cluster10)\n",
        "print(cluster11)\n",
        "print(cluster12)\n",
        "print(cluster13)\n",
        "print(cluster14)\n",
        "print(cluster15)\n",
        "print(cluster16)\n",
        "print(cluster17)\n",
        "print(cluster18)\n",
        "print(cluster19)\n",
        "print(cluster20)\n",
        "\n",
        "\n"
      ],
      "execution_count": null,
      "outputs": []
    },
    {
      "cell_type": "code",
      "metadata": {
        "id": "VshUazgSRBW9"
      },
      "source": [
        "np.set_printoptions(suppress=True)\n",
        "from sklearn.cluster import KMeans\n",
        "#MinMaxScaler\n",
        "kmeans = KMeans(n_clusters = 3)\n",
        "model = kmeans.fit(mixMatricesLigue1)\n",
        "labels = model.labels_"
      ],
      "execution_count": null,
      "outputs": []
    },
    {
      "cell_type": "code",
      "metadata": {
        "id": "yiVBxzB-gCNQ",
        "colab": {
          "base_uri": "https://localhost:8080/",
          "height": 408
        },
        "outputId": "41fef13a-0235-4280-b712-b75ddeb7a979"
      },
      "source": [
        "cluster1 = np.zeros(20, dtype=int)\n",
        "cluster2 = np.zeros(20, dtype=int)                                                                 \n",
        "cluster3 = np.zeros(20, dtype=int)\n",
        "\n",
        "i=1\n",
        "x=0\n",
        "y=0\n",
        "train=True\n",
        "\n",
        "x=0\n",
        "\n",
        "for i in range(len(labels)):\n",
        "  #if(i > 31 and train == True):   \n",
        "  #  x += 1\n",
        "  #  i = 0\n",
        "  #  train = False\n",
        "  if(i % 38 == 0 and i != 0):  \n",
        "    x += 1\n",
        "  if(labels[i] == 0):\n",
        "    cluster1[x] += 1\n",
        "  else:\n",
        "    if (labels[i] == 1):\n",
        "      cluster2[x] += 1\n",
        "    else:\n",
        "      if (labels[i] == 2):\n",
        "        cluster3[x] += 1\n",
        "\n",
        "totalCluster = np.transpose([cluster1, cluster2, cluster3])\n",
        "print(cluster1)\n",
        "print(cluster2)\n",
        "print(cluster3)\n",
        "print(totalCluster)"
      ],
      "execution_count": null,
      "outputs": [
        {
          "output_type": "stream",
          "text": [
            "[ 6  8 10 18  3 13 11 21  4  5  3  4  5  7 10  5 15  0  5  2]\n",
            "[ 0 18 10  6 25 18 16  2 30 27 30 25 32 27 26 32 11 33 32 29]\n",
            "[32 12 18 14 10  7 11 15  4  6  5  9  1  4  2  1 12  5  1  7]\n",
            "[[ 6  0 32]\n",
            " [ 8 18 12]\n",
            " [10 10 18]\n",
            " [18  6 14]\n",
            " [ 3 25 10]\n",
            " [13 18  7]\n",
            " [11 16 11]\n",
            " [21  2 15]\n",
            " [ 4 30  4]\n",
            " [ 5 27  6]\n",
            " [ 3 30  5]\n",
            " [ 4 25  9]\n",
            " [ 5 32  1]\n",
            " [ 7 27  4]\n",
            " [10 26  2]\n",
            " [ 5 32  1]\n",
            " [15 11 12]\n",
            " [ 0 33  5]\n",
            " [ 5 32  1]\n",
            " [ 2 29  7]]\n"
          ],
          "name": "stdout"
        }
      ]
    },
    {
      "cell_type": "code",
      "metadata": {
        "id": "Qo4VYmvKLKo8",
        "colab": {
          "base_uri": "https://localhost:8080/",
          "height": 102
        },
        "outputId": "143d4773-df4c-42f2-dd6a-69bfffd3d641"
      },
      "source": [
        "cluster1 = np.zeros(5, dtype=int)\n",
        "cluster2 = np.zeros(5, dtype=int)                                                                 \n",
        "cluster3 = np.zeros(5, dtype=int)\n",
        "cluster4 = np.zeros(5, dtype=int)\n",
        "cluster5 = np.zeros(5, dtype=int)\n",
        "\n",
        "\n",
        "x=0\n",
        "y=0\n",
        "isPL = False;\n",
        "isB = False;\n",
        "isL1 = False;\n",
        "isSA = False;\n",
        "\n",
        "for i in range(len(labels)):\n",
        "  if (i != 0):\n",
        "    if (i % 722 == 0 and  x==0 and isPL == False):\n",
        "      x = x + 1\n",
        "      isPL = True\n",
        "    else:\n",
        "       if (i % 1482 == 0 and x==1 and isB == False):\n",
        "          x = x + 1\n",
        "          isB = True\n",
        "       else:\n",
        "          if (i % 2094 == 0 and x==2 and isL1 == False):\n",
        "            x = x + 1\n",
        "            isL1 = True\n",
        "          else:\n",
        "             if (i % 2854 == 0 and x==3 and isSA == False):\n",
        "              x = x + 1\n",
        "              isSA = True\n",
        "  if (labels[i] == 0):\n",
        "    cluster1[x] += 1\n",
        "  else:\n",
        "    if (labels[i] == 1):\n",
        "      cluster2[x] += 1\n",
        "    else:\n",
        "      if (labels[i] == 2):\n",
        "        cluster3[x] += 1\n",
        "      else:\n",
        "        if (labels[i] == 3):\n",
        "          cluster4[x] += 1\n",
        "        else:\n",
        "          if (labels[i] == 4):\n",
        "            cluster5[x] += 1  \n",
        "\n",
        "print(cluster1)  \n",
        "print(cluster2)  \n",
        "print(cluster3)  \n",
        "print(cluster4)  \n",
        "print(cluster5)  \n",
        "totalCluster = np.transpose([cluster1, cluster2, cluster3])"
      ],
      "execution_count": null,
      "outputs": [
        {
          "output_type": "stream",
          "text": [
            "[153   2   0   0   0]\n",
            "[400  29   0   0   0]\n",
            "[169   7   0   0   0]\n",
            "[0 0 0 0 0]\n",
            "[0 0 0 0 0]\n"
          ],
          "name": "stdout"
        }
      ]
    },
    {
      "cell_type": "code",
      "metadata": {
        "id": "GLFLRJ-anaGK"
      },
      "source": [
        "for i in range(len(totalCluster)):\n",
        "  print(i+1, end =\" \")\n",
        "  for j in range(len(totalCluster[i])):\n",
        "    print(\"&\", totalCluster[i][j], end =\" \")\n",
        "  print(\"\\\\\\\\\")  "
      ],
      "execution_count": null,
      "outputs": []
    },
    {
      "cell_type": "code",
      "metadata": {
        "id": "qxbsq59_yvBW",
        "colab": {
          "base_uri": "https://localhost:8080/",
          "height": 204
        },
        "outputId": "175af613-4cab-4a06-9008-eeedc1c03038"
      },
      "source": [
        "pd.set_option('display.float_format', lambda x: '%.1f' % x)\n",
        "df = pd.DataFrame.from_records(model.cluster_centers_[1].reshape(-1, 15))\n",
        "df2 = df.round(decimals=1)\n",
        "total = (df2.sum(numeric_only=True).sum())\n",
        "print(int(total))\n",
        "first = df2[0] + df2[1] + df2[2]\n",
        "second = df2[3] + df2[4] + df2[5]\n",
        "third = df2[6] + df2[7] + df2[8]\n",
        "fourth = df2[9] + df2[10] + df2[11]\n",
        "fifth = df2[12] + df2[13] + df2[14]\n",
        "print(int(first.sum()))\n",
        "print(int(second.sum()))\n",
        "print(int(third.sum()))\n",
        "print(int(fourth.sum()))\n",
        "print(int(fifth.sum()))\n",
        "print(int((first.sum() / total) * 100))\n",
        "print(int((second.sum() / total) * 100))\n",
        "print(int((third.sum() / total) * 100))\n",
        "print(int((fourth.sum() / total) * 100))\n",
        "print(int((fifth.sum() / total) * 100))"
      ],
      "execution_count": null,
      "outputs": [
        {
          "output_type": "stream",
          "text": [
            "408\n",
            "25\n",
            "146\n",
            "105\n",
            "99\n",
            "31\n",
            "6\n",
            "35\n",
            "25\n",
            "24\n",
            "7\n"
          ],
          "name": "stdout"
        }
      ]
    },
    {
      "cell_type": "code",
      "metadata": {
        "id": "u89rcMitvqH4",
        "colab": {
          "base_uri": "https://localhost:8080/",
          "height": 34
        },
        "outputId": "10b62dc8-0d56-4085-9898-d30763adc5c0"
      },
      "source": [
        "longBalls = (df2.iloc[0:8, 12:15].sum().sum() / df2.iloc[:, 12:15].sum().sum()) * 100\n",
        "print(longBalls)"
      ],
      "execution_count": null,
      "outputs": [
        {
          "output_type": "stream",
          "text": [
            "7.4725274725274735\n"
          ],
          "name": "stdout"
        }
      ]
    },
    {
      "cell_type": "code",
      "metadata": {
        "id": "EruI3YR0nNJc"
      },
      "source": [
        "df2.iloc[:, 12:15].sum().sum()"
      ],
      "execution_count": null,
      "outputs": []
    },
    {
      "cell_type": "code",
      "metadata": {
        "id": "hMHI50Vi3oTJ"
      },
      "source": [
        "def myfunc(x):\n",
        "  if (x == 0):\n",
        "    return 0\n",
        "  else:\n",
        "    if(x < 3):\n",
        "      return 'yellow'\n",
        "    else:\n",
        "      if (x < 6):\n",
        "        return 'blue'\n",
        "      else:\n",
        "        return 'red'\n",
        "def myfunc2(y):\n",
        "  if(y<0.09):\n",
        "    return 0\n",
        "  else :\n",
        "    return y\n",
        "myfunc_vec = np.vectorize(myfunc)\n",
        "myfunc_vec2 = np.vectorize(myfunc2)\n",
        "\n",
        "result2 = myfunc_vec2(df2)\n",
        "result = myfunc_vec(result2)\n",
        "result = result[result != '0']\n",
        "print(result)"
      ],
      "execution_count": null,
      "outputs": []
    },
    {
      "cell_type": "code",
      "metadata": {
        "id": "jrOKmiXOK3WE"
      },
      "source": [
        "result2"
      ],
      "execution_count": null,
      "outputs": []
    },
    {
      "cell_type": "code",
      "metadata": {
        "id": "r99seagiGZWa"
      },
      "source": [
        "for i in range(len(result2)):\n",
        "  print(i+1, end =\" \")\n",
        "  for j in range(len(result2[i])):\n",
        "    print(\"&\", result2[i][j], end =\" \")\n",
        "  print(\"\\\\\\\\\")  "
      ],
      "execution_count": null,
      "outputs": []
    },
    {
      "cell_type": "code",
      "metadata": {
        "id": "yBwVnOD0jtZ0"
      },
      "source": [
        "import numpy as np\n",
        "import networkx as nx\n",
        "import pylab as plt\n",
        "\n",
        "A = np.array(result2)\n",
        "G = nx.from_numpy_matrix(A, create_using=nx.MultiDiGraph())\n",
        "\n",
        "mapping = {0: 1, 1: 2, 2: 3, 3: 4, 4:5, 5:6, 6:7, 7:8, 8:9, 9:10, 10:11, 11:12, 12:13, 13:14, 14:15}\n",
        "pos = {1: (0, 30), 2: (0, 20), 3: (0, 10), 4: (10, 30), 5: (10, 20), 6: (10, 10), 7: (20, 30), 8: (20, 20), 9: (20, 10), 10: (30, 30), 11: (30, 20), 12: (30, 10), 13: (40, 30), 14: (40, 20), 15: (40, 10)} \n",
        "\n",
        "H = nx.relabel_nodes(G, mapping)\n",
        "nx.draw(H, pos, with_labels = True, edge_color=result, node_color='grey') \n"
      ],
      "execution_count": null,
      "outputs": []
    },
    {
      "cell_type": "code",
      "metadata": {
        "id": "Ac9leen9XeVZ"
      },
      "source": [
        "principalDf5['predicted'].head(38)"
      ],
      "execution_count": null,
      "outputs": []
    },
    {
      "cell_type": "code",
      "metadata": {
        "id": "_MkHhye4RXBA"
      },
      "source": [
        "cluster1 = np.zeros(21)\n",
        "cluster2 = np.zeros(21)                                                                 \n",
        "cluster3 = np.zeros(21)\n",
        "cluster4 = np.zeros(21)\n",
        "cluster5 = np.zeros(21)\n",
        "cluster6 = np.zeros(21)\n",
        "cluster7 = np.zeros(21)\n",
        "cluster8 = np.zeros(21)\n",
        "cluster9 = np.zeros(21)\n",
        "cluster10 = np.zeros(21)\n",
        "cluster11 = np.zeros(21)\n",
        "cluster12 = np.zeros(21)\n",
        "cluster13 = np.zeros(21)\n",
        "cluster14 = np.zeros(21)\n",
        "cluster15 = np.zeros(21)\n",
        "cluster16 = np.zeros(21)\n",
        "cluster17 = np.zeros(21)\n",
        "cluster18 = np.zeros(21)\n",
        "cluster19 = np.zeros(21)\n",
        "cluster20 = np.zeros(21) \n",
        "\n",
        "i=1\n",
        "x=0\n",
        "y=0\n",
        "train=True\n",
        "\n",
        "for index, row in df2.iterrows():\n",
        "  if(row['predicted'] == 0):\n",
        "    cluster1[x] += 1\n",
        "  else:\n",
        "    if (row['predicted'] == 1):\n",
        "      cluster2[x] += 1\n",
        "    else:\n",
        "      if (row['predicted'] == 2):\n",
        "        cluster3[x] += 1\n",
        "      else:\n",
        "        if (row['predicted'] == 3):\n",
        "          cluster4[x] += 1\n",
        "        else:\n",
        "          if (row['predicted'] == 4):\n",
        "            cluster5[x] += 1\n",
        "          else:\n",
        "            if (row['predicted'] == 5):\n",
        "              cluster6[x] += 1\n",
        "            else:\n",
        "              if (row['predicted'] == 6):\n",
        "                cluster7[x] += 1\n",
        "              else:\n",
        "                if (row['predicted'] == 7):\n",
        "                  cluster8[x] += 1\n",
        "                else:\n",
        "                  if (row['predicted'] == 8):\n",
        "                    cluster9[x] += 1\n",
        "                  else:\n",
        "                    if (row['predicted'] == 9):\n",
        "                      cluster10[x] += 1\n",
        "                    else:\n",
        "                      if (row['predicted'] == 10):\n",
        "                        cluster11[x] += 1\n",
        "                      else:\n",
        "                        if (row['predicted'] == 11):\n",
        "                          cluster12[x] += 1\n",
        "                        else:\n",
        "                          if (row['predicted'] == 12):\n",
        "                            cluster13[x] += 1\n",
        "                          else:\n",
        "                            if (row['predicted'] == 13):\n",
        "                              cluster14[x] += 1\n",
        "                            else:\n",
        "                              if (row['predicted'] == 14):\n",
        "                                cluster15[x] += 1\n",
        "                              else:\n",
        "                                if (row['predicted'] == 15):\n",
        "                                  cluster16[x] += 1\n",
        "                                else:\n",
        "                                  if (row['predicted'] == 16):\n",
        "                                    cluster17[x] += 1\n",
        "                                  else:\n",
        "                                    if (row['predicted'] == 17):\n",
        "                                      cluster18[x] += 1   \n",
        "                                    else:\n",
        "                                      if (row['predicted'] == 18):\n",
        "                                        cluster19[x] += 1 \n",
        "                                      else:\n",
        "                                        if (row['predicted'] == 19):\n",
        "                                          cluster20[x] += 1 \n",
        "  #if(i > 31 and train == True):   \n",
        "  #  x += 1\n",
        "  #  i = 0\n",
        "  #  train = False\n",
        "  if(i > 37):  \n",
        "    x += 1\n",
        "    i = 0\n",
        "  i = i+1\n",
        "  y = y+1\n",
        "\n",
        "print(cluster1)\n",
        "print(cluster2)\n",
        "print(cluster3)\n",
        "print(cluster4)\n",
        "print(cluster5)\n",
        "print(cluster6)\n",
        "print(cluster7)\n",
        "print(cluster8)\n",
        "print(cluster9)\n",
        "print(cluster10)\n",
        "print(cluster11)\n",
        "print(cluster12)\n",
        "print(cluster13)\n",
        "print(cluster14)\n",
        "print(cluster15)\n",
        "print(cluster16)\n",
        "print(cluster17)\n",
        "print(cluster18)\n",
        "print(cluster19)\n",
        "print(cluster20)"
      ],
      "execution_count": null,
      "outputs": []
    },
    {
      "cell_type": "code",
      "metadata": {
        "id": "YxSdQZk7voSD"
      },
      "source": [
        "barcelonaMatrices, realMatrices, athleticoMatrices, manCityMatrices, manUtdMatrices, liverpoolMatrices, tottenhamMatrices, chelseaMatrices, arsenalMatrices, psgMatrices, monacoMatrices, juventusMatrices, napoliMatrices"
      ],
      "execution_count": null,
      "outputs": []
    },
    {
      "cell_type": "code",
      "metadata": {
        "id": "pqcFwROcvqfl"
      },
      "source": [
        "from sklearn.cluster import KMeans\n",
        "#MinMaxScaler\n",
        "kmeans = KMeans(n_clusters = 3)\n",
        "#The fit method to learn the clusters on train data and a function that given train data, return an array of integer labels coressponding to different clusters\n",
        "model = kmeans.fit(principalDf5[['0', '1']])\n",
        "model.cluster_centers_"
      ],
      "execution_count": null,
      "outputs": []
    },
    {
      "cell_type": "code",
      "metadata": {
        "id": "u4J9gjaRwJlh"
      },
      "source": [
        "#MinMaxScaler\n",
        "centroids = pd.DataFrame(model.cluster_centers_, columns=[\"0\", \"1\"])\n",
        "#for the class the labels over the training data can be found in the labels_ attribute\n",
        "principalDf5['predicted'] = model.labels_"
      ],
      "execution_count": null,
      "outputs": []
    }
  ]
}