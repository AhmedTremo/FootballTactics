{
  "nbformat": 4,
  "nbformat_minor": 0,
  "metadata": {
    "colab": {
      "name": "Serie A.ipynb",
      "provenance": [],
      "collapsed_sections": []
    },
    "kernelspec": {
      "name": "python3",
      "display_name": "Python 3"
    }
  },
  "cells": [
    {
      "cell_type": "code",
      "metadata": {
        "id": "9QUARPXWAAA6",
        "colab": {
          "base_uri": "https://localhost:8080/",
          "height": 51
        },
        "outputId": "50386c15-a2e8-4134-a3cd-73ff5df780f9"
      },
      "source": [
        "import pandas as pd\n",
        "from pandas.io.json import json_normalize\n",
        "import json\n",
        "import numpy as np\n",
        "import networkx as nx\n",
        "import pylab as plt\n",
        "\n",
        "eventsItaly = pd.read_json('/content/drive/My Drive/bachelor data/events/events_Italy.json')\n",
        "matchesItaly = pd.read_json(\"/content/drive/My Drive/bachelor data/matches/matches_Italy.json\")\n",
        "tagsName = pd.read_csv(\"/content/drive/My Drive/bachelor data/tags2name.csv\")\n",
        "with open('/content/drive/My Drive/bachelor data/events/events_Italy.json') as f:\n",
        "    d = json.load(f)\n",
        "tags = json_normalize(data=d, record_path='tags', meta=['id'], record_prefix='_')\n",
        "teams = pd.read_json(\"/content/drive/My Drive/bachelor data/teams.json\")\n",
        "eventsItalyTags = pd.merge(eventsItaly,\n",
        "                       tags,\n",
        "                       on='id')"
      ],
      "execution_count": null,
      "outputs": [
        {
          "output_type": "stream",
          "text": [
            "/usr/local/lib/python3.6/dist-packages/ipykernel_launcher.py:13: FutureWarning: pandas.io.json.json_normalize is deprecated, use pandas.json_normalize instead\n",
            "  del sys.path[0]\n"
          ],
          "name": "stderr"
        }
      ]
    },
    {
      "cell_type": "code",
      "metadata": {
        "id": "_smcmUJNBO6p"
      },
      "source": [
        "def checkZones2(dataframe, columnName):\n",
        "  resultSeries = pd.Series([])\n",
        "  i = -1\n",
        "  for index, row in dataframe.iterrows():\n",
        "    x = (row[columnName])['x']\n",
        "    y = (row[columnName])['y']\n",
        "    index = i + 1\n",
        "    resultSeries = resultSeries.append(pd.Series([int(((x // 20) * 3) + 1 + (y // 33.3))]), ignore_index=True)\n",
        "  return resultSeries"
      ],
      "execution_count": null,
      "outputs": []
    },
    {
      "cell_type": "code",
      "metadata": {
        "id": "mEBH7A6kBQHk"
      },
      "source": [
        "# Filling 2D matrix of Barcelona team with corresponding passes\n",
        "def get2dMatrix(passesDataframe, senderColumnName, RecipientColumnName):\n",
        "  arr = np.arange(225).reshape(15,15)\n",
        "  i = 0\n",
        "  j = 0\n",
        "  passCount = 0\n",
        "  for i in range(15):\n",
        "    for j in range(15):\n",
        "      passCount = 0\n",
        "      for index, row in passesDataframe.iterrows():\n",
        "        if(row[senderColumnName] == i+1 and  row[RecipientColumnName] == j+1):\n",
        "          passCount += 1\n",
        "        arr[i][j] = passCount    \n",
        "      j += 1\n",
        "    i += 1 \n",
        "  return arr"
      ],
      "execution_count": null,
      "outputs": []
    },
    {
      "cell_type": "code",
      "metadata": {
        "id": "G9aCSKumBTA3"
      },
      "source": [
        "def getTeamMatrix(teamId, teamMatchId):\n",
        "  \n",
        "  # Getting Successful passes of specific team in specific match\n",
        "  successfulPasses = eventsItalyTags[(eventsItalyTags['teamId'] == teamId) & (eventsItalyTags['matchId'] == teamMatchId) & (eventsItalyTags['eventId'] == 8) & (eventsItalyTags['_id'] == 1801)]\n",
        "  successfulPasses.reset_index(level=0, inplace=True)\n",
        "\n",
        "  # Adding Sender/Recipient positions\n",
        "  successfulPasses2 = successfulPasses['positions'].sum()\n",
        "  del successfulPasses2[1::2]\n",
        "  x2 = pd.Series(successfulPasses2)\n",
        "  successfulPassesSender = pd.concat([successfulPasses, pd.DataFrame(x2)], axis=1)\n",
        "  successfulPassesSender.rename(columns = {0:'Sender'}, inplace = True)\n",
        "\n",
        "  successfulPasses1 = successfulPassesSender['positions'].sum()\n",
        "  del successfulPasses1[0::2]\n",
        "  x = pd.Series(successfulPasses1)\n",
        "  successfulPassesSenderRecipient = pd.concat([successfulPassesSender, pd.DataFrame(x)], axis=1)\n",
        "  successfulPassesSenderRecipient.rename(columns = {0:'Recepient'}, inplace = True) \n",
        "\n",
        "  # Adding Sender/Recipient zones\n",
        "\n",
        "  zoneSeriesSender = checkZones2(successfulPassesSenderRecipient, 'Sender')\n",
        "  zoneDataframeSender = pd.DataFrame(zoneSeriesSender)\n",
        "  zoneDataframeSender.rename(columns = {0:'SenderZone'}, inplace = True)\n",
        "\n",
        "  zoneSeriesRecipient = checkZones2(successfulPassesSenderRecipient, 'Recepient')\n",
        "  zoneDataframeRecipient = pd.DataFrame(zoneSeriesRecipient)\n",
        "  zoneDataframeRecipient.rename(columns = {0:'RecipientZone'}, inplace = True)\n",
        "\n",
        "  successfulPassesSenderRecipientZ = pd.concat([successfulPassesSenderRecipient, zoneDataframeSender], axis=1)\n",
        "  successfulPassesSenderRecipientZone = pd.concat([successfulPassesSenderRecipientZ, zoneDataframeRecipient], axis=1)\n",
        "  \n",
        "  # returning the 2D passes Matrix\n",
        "  return get2dMatrix(successfulPassesSenderRecipientZone, 'SenderZone', 'RecipientZone').flatten()"
      ],
      "execution_count": null,
      "outputs": []
    },
    {
      "cell_type": "code",
      "metadata": {
        "id": "uMx65QdMBVvI"
      },
      "source": [
        "def getTeamMatches(teamId):\n",
        "  teamMatchesIds = np.array([])\n",
        "  eventsItalyTeam = eventsItaly[eventsItaly['teamId'] == teamId]\n",
        "  teamMatchesIds = eventsItalyTeam.matchId.unique()\n",
        "  return teamMatchesIds"
      ],
      "execution_count": null,
      "outputs": []
    },
    {
      "cell_type": "code",
      "metadata": {
        "id": "UIZNv1KxBviB"
      },
      "source": [
        "def getTeamMatrices(teamId):\n",
        "  teamMatches = getTeamMatches(teamId)\n",
        "  teamMatrices = np.zeros((len(teamMatches), 225))\n",
        "  for i in range(len(teamMatches)):\n",
        "    teamMatrices[i] = getTeamMatrix(teamId, teamMatches[i])\n",
        "  return teamMatrices"
      ],
      "execution_count": null,
      "outputs": []
    },
    {
      "cell_type": "code",
      "metadata": {
        "id": "QLwRhMV6B0pm",
        "colab": {
          "base_uri": "https://localhost:8080/",
          "height": 71
        },
        "outputId": "b3a68398-6335-4343-9f2f-072c100a2370"
      },
      "source": [
        "juventusMatrices = np.zeros((38, 225))\n",
        "napoliMatrices = np.zeros((38, 225))\n",
        "hellasMatrices = np.zeros((38, 225))\n",
        "beneventoMatrices = np.zeros((38, 225))\n",
        "\n",
        "juventusMatrices = getTeamMatrices(3159)\n",
        "napoliMatrices = getTeamMatrices(3187)\n",
        "hellasMatrices = getTeamMatrices(3194)\n",
        "beneventoMatrices = getTeamMatrices(3219)"
      ],
      "execution_count": null,
      "outputs": [
        {
          "output_type": "stream",
          "text": [
            "/usr/local/lib/python3.6/dist-packages/ipykernel_launcher.py:2: DeprecationWarning: The default dtype for empty Series will be 'object' instead of 'float64' in a future version. Specify a dtype explicitly to silence this warning.\n",
            "  \n"
          ],
          "name": "stderr"
        }
      ]
    },
    {
      "cell_type": "code",
      "metadata": {
        "id": "1_MyatQptDHG"
      },
      "source": [
        "eventsItaly[eventsItaly['eventName'] == 'Pass'].head(49)"
      ],
      "execution_count": null,
      "outputs": []
    },
    {
      "cell_type": "code",
      "metadata": {
        "id": "Q9MojftL8bYs",
        "colab": {
          "base_uri": "https://localhost:8080/",
          "height": 71
        },
        "outputId": "4bf94ed5-9542-4981-da6f-555bcea79ae3"
      },
      "source": [
        "romaMatrices = np.zeros((38, 225))\n",
        "romaMatrices = getTeamMatrices(3158)"
      ],
      "execution_count": null,
      "outputs": [
        {
          "output_type": "stream",
          "text": [
            "/usr/local/lib/python3.6/dist-packages/ipykernel_launcher.py:2: DeprecationWarning: The default dtype for empty Series will be 'object' instead of 'float64' in a future version. Specify a dtype explicitly to silence this warning.\n",
            "  \n"
          ],
          "name": "stderr"
        }
      ]
    },
    {
      "cell_type": "code",
      "metadata": {
        "id": "XUyqoySe8ePq",
        "colab": {
          "base_uri": "https://localhost:8080/",
          "height": 136
        },
        "outputId": "eed24579-1a0a-4d2c-ea71-1ec385175fb9"
      },
      "source": [
        "romaMatrices"
      ],
      "execution_count": null,
      "outputs": [
        {
          "output_type": "execute_result",
          "data": {
            "text/plain": [
              "array([[ 5.,  2.,  2., ...,  1.,  7.,  7.],\n",
              "       [ 4.,  5.,  2., ...,  1.,  5.,  3.],\n",
              "       [ 1.,  4.,  1., ...,  4.,  2.,  6.],\n",
              "       ...,\n",
              "       [ 8.,  5.,  1., ...,  2.,  4., 10.],\n",
              "       [ 2.,  6.,  2., ...,  1.,  1.,  9.],\n",
              "       [ 4.,  8.,  2., ...,  0.,  2., 14.]])"
            ]
          },
          "metadata": {
            "tags": []
          },
          "execution_count": 20
        }
      ]
    },
    {
      "cell_type": "code",
      "metadata": {
        "id": "2WxZzi848tfE",
        "colab": {
          "base_uri": "https://localhost:8080/",
          "height": 71
        },
        "outputId": "4130dd7f-970e-4892-ac49-b64eaa859f61"
      },
      "source": [
        "internazionaleMatrices = np.zeros((38, 225))\n",
        "internazionaleMatrices = getTeamMatrices(3161)"
      ],
      "execution_count": null,
      "outputs": [
        {
          "output_type": "stream",
          "text": [
            "/usr/local/lib/python3.6/dist-packages/ipykernel_launcher.py:2: DeprecationWarning: The default dtype for empty Series will be 'object' instead of 'float64' in a future version. Specify a dtype explicitly to silence this warning.\n",
            "  \n"
          ],
          "name": "stderr"
        }
      ]
    },
    {
      "cell_type": "code",
      "metadata": {
        "id": "uojx4wLB8t5X",
        "colab": {
          "base_uri": "https://localhost:8080/",
          "height": 136
        },
        "outputId": "d3041705-c724-4fe7-ecf7-bff8a0368ad6"
      },
      "source": [
        "internazionaleMatrices"
      ],
      "execution_count": null,
      "outputs": [
        {
          "output_type": "execute_result",
          "data": {
            "text/plain": [
              "array([[ 3.,  1.,  0., ...,  2.,  3.,  6.],\n",
              "       [ 4.,  4.,  0., ...,  1.,  8.,  7.],\n",
              "       [ 4.,  2.,  1., ...,  4., 10., 45.],\n",
              "       ...,\n",
              "       [ 3.,  5.,  0., ...,  2.,  6., 26.],\n",
              "       [ 2.,  2.,  6., ...,  2.,  9., 10.],\n",
              "       [ 2.,  1.,  1., ...,  1.,  0.,  2.]])"
            ]
          },
          "metadata": {
            "tags": []
          },
          "execution_count": 22
        }
      ]
    },
    {
      "cell_type": "code",
      "metadata": {
        "id": "w3XrA4uh8fXx",
        "colab": {
          "base_uri": "https://localhost:8080/",
          "height": 71
        },
        "outputId": "cf557806-163c-4479-8a07-2ffc98e0991c"
      },
      "source": [
        "lazioMatrices = np.zeros((38, 225))\n",
        "lazioMatrices = getTeamMatrices(3162)"
      ],
      "execution_count": null,
      "outputs": [
        {
          "output_type": "stream",
          "text": [
            "/usr/local/lib/python3.6/dist-packages/ipykernel_launcher.py:2: DeprecationWarning: The default dtype for empty Series will be 'object' instead of 'float64' in a future version. Specify a dtype explicitly to silence this warning.\n",
            "  \n"
          ],
          "name": "stderr"
        }
      ]
    },
    {
      "cell_type": "code",
      "metadata": {
        "id": "9Jw6UJvt8fqQ",
        "colab": {
          "base_uri": "https://localhost:8080/",
          "height": 136
        },
        "outputId": "a60f42f8-bd83-4cb6-be3d-0e01baf39d5e"
      },
      "source": [
        "lazioMatrices"
      ],
      "execution_count": null,
      "outputs": [
        {
          "output_type": "execute_result",
          "data": {
            "text/plain": [
              "array([[ 0.,  1.,  1., ...,  2.,  3.,  3.],\n",
              "       [ 2.,  4.,  4., ...,  3., 10.,  4.],\n",
              "       [ 9.,  5.,  0., ...,  0.,  2.,  2.],\n",
              "       ...,\n",
              "       [ 1.,  3.,  7., ...,  3.,  3.,  6.],\n",
              "       [ 2.,  5.,  1., ...,  3.,  6.,  7.],\n",
              "       [ 4.,  2.,  1., ...,  1.,  2.,  2.]])"
            ]
          },
          "metadata": {
            "tags": []
          },
          "execution_count": 24
        }
      ]
    },
    {
      "cell_type": "code",
      "metadata": {
        "id": "YLteIQBQBCmS",
        "colab": {
          "base_uri": "https://localhost:8080/",
          "height": 71
        },
        "outputId": "cfed2899-2d8e-457b-f30c-756914b5e61c"
      },
      "source": [
        "milanMatrices = np.zeros((38, 225))\n",
        "milanMatrices = getTeamMatrices(3157)"
      ],
      "execution_count": null,
      "outputs": [
        {
          "output_type": "stream",
          "text": [
            "/usr/local/lib/python3.6/dist-packages/ipykernel_launcher.py:2: DeprecationWarning: The default dtype for empty Series will be 'object' instead of 'float64' in a future version. Specify a dtype explicitly to silence this warning.\n",
            "  \n"
          ],
          "name": "stderr"
        }
      ]
    },
    {
      "cell_type": "code",
      "metadata": {
        "id": "qh1fz3qQBCzp",
        "colab": {
          "base_uri": "https://localhost:8080/",
          "height": 136
        },
        "outputId": "51ccdb1e-265f-4aba-a06b-aa1684ad6438"
      },
      "source": [
        "milanMatrices"
      ],
      "execution_count": null,
      "outputs": [
        {
          "output_type": "execute_result",
          "data": {
            "text/plain": [
              "array([[ 0.,  4.,  3., ...,  3.,  5.,  6.],\n",
              "       [ 2.,  2.,  1., ...,  3.,  5., 10.],\n",
              "       [ 2.,  2.,  1., ...,  1.,  5., 19.],\n",
              "       ...,\n",
              "       [ 8.,  8.,  0., ...,  2., 16., 16.],\n",
              "       [ 4.,  2.,  3., ...,  4.,  4., 14.],\n",
              "       [ 4.,  4.,  1., ...,  3.,  7., 25.]])"
            ]
          },
          "metadata": {
            "tags": []
          },
          "execution_count": 26
        }
      ]
    },
    {
      "cell_type": "code",
      "metadata": {
        "id": "QulMNJb2BE9-",
        "colab": {
          "base_uri": "https://localhost:8080/",
          "height": 71
        },
        "outputId": "838c1005-e1c7-4046-90aa-0174031474ee"
      },
      "source": [
        "atalantaMatrices = np.zeros((38, 225))\n",
        "atalantaMatrices = getTeamMatrices(3172)"
      ],
      "execution_count": null,
      "outputs": [
        {
          "output_type": "stream",
          "text": [
            "/usr/local/lib/python3.6/dist-packages/ipykernel_launcher.py:2: DeprecationWarning: The default dtype for empty Series will be 'object' instead of 'float64' in a future version. Specify a dtype explicitly to silence this warning.\n",
            "  \n"
          ],
          "name": "stderr"
        }
      ]
    },
    {
      "cell_type": "code",
      "metadata": {
        "id": "8uzG9t5bBGeA",
        "colab": {
          "base_uri": "https://localhost:8080/",
          "height": 136
        },
        "outputId": "d27e8df1-f2e9-414a-92f9-3a66c0ba97e9"
      },
      "source": [
        "atalantaMatrices"
      ],
      "execution_count": null,
      "outputs": [
        {
          "output_type": "execute_result",
          "data": {
            "text/plain": [
              "array([[ 4.,  3.,  0., ...,  3.,  4.,  9.],\n",
              "       [ 0.,  6.,  2., ...,  0.,  2.,  6.],\n",
              "       [ 3.,  1.,  0., ...,  0.,  4., 14.],\n",
              "       ...,\n",
              "       [12.,  6.,  2., ...,  2.,  7.,  8.],\n",
              "       [ 2.,  3.,  3., ...,  3.,  4., 12.],\n",
              "       [ 8.,  8.,  3., ...,  0.,  7., 25.]])"
            ]
          },
          "metadata": {
            "tags": []
          },
          "execution_count": 28
        }
      ]
    },
    {
      "cell_type": "code",
      "metadata": {
        "id": "lVIZrrFnBGoZ",
        "colab": {
          "base_uri": "https://localhost:8080/",
          "height": 71
        },
        "outputId": "b204563d-7d37-4792-d9b1-0d99ee9134a5"
      },
      "source": [
        "fiorentinaMatrices = np.zeros((38, 225))\n",
        "fiorentinaMatrices = getTeamMatrices(3176)"
      ],
      "execution_count": null,
      "outputs": [
        {
          "output_type": "stream",
          "text": [
            "/usr/local/lib/python3.6/dist-packages/ipykernel_launcher.py:2: DeprecationWarning: The default dtype for empty Series will be 'object' instead of 'float64' in a future version. Specify a dtype explicitly to silence this warning.\n",
            "  \n"
          ],
          "name": "stderr"
        }
      ]
    },
    {
      "cell_type": "code",
      "metadata": {
        "id": "IquggbrsBG6G",
        "colab": {
          "base_uri": "https://localhost:8080/",
          "height": 136
        },
        "outputId": "dd68c59d-1ab9-4aa1-aeeb-894ccc10b13e"
      },
      "source": [
        "fiorentinaMatrices"
      ],
      "execution_count": null,
      "outputs": [
        {
          "output_type": "execute_result",
          "data": {
            "text/plain": [
              "array([[ 2.,  4.,  3., ...,  1., 16., 15.],\n",
              "       [ 9.,  8.,  1., ...,  1.,  7.,  8.],\n",
              "       [ 1.,  4.,  2., ...,  1.,  2.,  5.],\n",
              "       ...,\n",
              "       [ 0.,  1.,  0., ...,  2.,  8.,  9.],\n",
              "       [ 3.,  2.,  3., ...,  1.,  8., 17.],\n",
              "       [ 6.,  5.,  3., ...,  0.,  2.,  3.]])"
            ]
          },
          "metadata": {
            "tags": []
          },
          "execution_count": 30
        }
      ]
    },
    {
      "cell_type": "code",
      "metadata": {
        "id": "Zn0pFADWBHCQ",
        "colab": {
          "base_uri": "https://localhost:8080/",
          "height": 71
        },
        "outputId": "91de9123-cce9-4b97-c217-1847f6ceea4b"
      },
      "source": [
        "torinoMatrices = np.zeros((38, 225))\n",
        "torinoMatrices = getTeamMatrices(3185)"
      ],
      "execution_count": null,
      "outputs": [
        {
          "output_type": "stream",
          "text": [
            "/usr/local/lib/python3.6/dist-packages/ipykernel_launcher.py:2: DeprecationWarning: The default dtype for empty Series will be 'object' instead of 'float64' in a future version. Specify a dtype explicitly to silence this warning.\n",
            "  \n"
          ],
          "name": "stderr"
        }
      ]
    },
    {
      "cell_type": "code",
      "metadata": {
        "id": "OJXShc8tBHS3",
        "colab": {
          "base_uri": "https://localhost:8080/",
          "height": 136
        },
        "outputId": "e6974df6-19b4-4901-b9f8-a69491281b45"
      },
      "source": [
        "torinoMatrices"
      ],
      "execution_count": null,
      "outputs": [
        {
          "output_type": "execute_result",
          "data": {
            "text/plain": [
              "array([[ 1.,  1.,  3., ...,  0.,  6.,  6.],\n",
              "       [ 2.,  0.,  2., ...,  0.,  3.,  6.],\n",
              "       [ 1.,  2.,  3., ...,  4.,  2.,  6.],\n",
              "       ...,\n",
              "       [ 1.,  4.,  3., ...,  0.,  1.,  8.],\n",
              "       [ 9.,  5.,  2., ...,  2.,  7., 16.],\n",
              "       [19.,  5.,  3., ...,  1.,  3.,  9.]])"
            ]
          },
          "metadata": {
            "tags": []
          },
          "execution_count": 32
        }
      ]
    },
    {
      "cell_type": "code",
      "metadata": {
        "id": "iJtUkcApBHaK",
        "colab": {
          "base_uri": "https://localhost:8080/",
          "height": 71
        },
        "outputId": "35a258a5-d0b5-41b3-f995-95871df81c03"
      },
      "source": [
        "sampadoriaMatrices = np.zeros((38, 225))\n",
        "sampadoriaMatrices = getTeamMatrices(3164)"
      ],
      "execution_count": null,
      "outputs": [
        {
          "output_type": "stream",
          "text": [
            "/usr/local/lib/python3.6/dist-packages/ipykernel_launcher.py:2: DeprecationWarning: The default dtype for empty Series will be 'object' instead of 'float64' in a future version. Specify a dtype explicitly to silence this warning.\n",
            "  \n"
          ],
          "name": "stderr"
        }
      ]
    },
    {
      "cell_type": "code",
      "metadata": {
        "id": "tucJ1TpgBHpr",
        "colab": {
          "base_uri": "https://localhost:8080/",
          "height": 136
        },
        "outputId": "3de52aa7-564f-4cf7-ec26-250403cd9880"
      },
      "source": [
        "sampadoriaMatrices"
      ],
      "execution_count": null,
      "outputs": [
        {
          "output_type": "execute_result",
          "data": {
            "text/plain": [
              "array([[ 5.,  4.,  5., ...,  0.,  6., 15.],\n",
              "       [ 3.,  4.,  1., ...,  1.,  3.,  8.],\n",
              "       [ 5.,  4.,  0., ...,  1.,  6., 11.],\n",
              "       ...,\n",
              "       [ 7.,  8.,  1., ...,  1.,  5.,  8.],\n",
              "       [ 9.,  4.,  1., ...,  1.,  0.,  5.],\n",
              "       [ 2.,  4.,  1., ...,  2.,  3., 13.]])"
            ]
          },
          "metadata": {
            "tags": []
          },
          "execution_count": 34
        }
      ]
    },
    {
      "cell_type": "code",
      "metadata": {
        "id": "Vt8SmgMlBHwb",
        "colab": {
          "base_uri": "https://localhost:8080/",
          "height": 71
        },
        "outputId": "e762a08b-9e95-44c6-e26b-3c82d4ee4a20"
      },
      "source": [
        "sassoloMatrices = np.zeros((38, 225))\n",
        "sassoloMatrices = getTeamMatrices(3315)"
      ],
      "execution_count": null,
      "outputs": [
        {
          "output_type": "stream",
          "text": [
            "/usr/local/lib/python3.6/dist-packages/ipykernel_launcher.py:2: DeprecationWarning: The default dtype for empty Series will be 'object' instead of 'float64' in a future version. Specify a dtype explicitly to silence this warning.\n",
            "  \n"
          ],
          "name": "stderr"
        }
      ]
    },
    {
      "cell_type": "code",
      "metadata": {
        "id": "zNUZ03KBBIFr",
        "colab": {
          "base_uri": "https://localhost:8080/",
          "height": 136
        },
        "outputId": "414101a4-1094-4652-c152-e12a35bebc96"
      },
      "source": [
        "sassoloMatrices"
      ],
      "execution_count": null,
      "outputs": [
        {
          "output_type": "execute_result",
          "data": {
            "text/plain": [
              "array([[1., 0., 3., ..., 0., 5., 1.],\n",
              "       [5., 0., 1., ..., 1., 4., 4.],\n",
              "       [5., 3., 5., ..., 4., 1., 5.],\n",
              "       ...,\n",
              "       [2., 2., 0., ..., 1., 4., 1.],\n",
              "       [4., 2., 1., ..., 0., 2., 4.],\n",
              "       [2., 4., 2., ..., 2., 9., 6.]])"
            ]
          },
          "metadata": {
            "tags": []
          },
          "execution_count": 36
        }
      ]
    },
    {
      "cell_type": "code",
      "metadata": {
        "id": "LdRrMlvpBIO4",
        "colab": {
          "base_uri": "https://localhost:8080/",
          "height": 71
        },
        "outputId": "d8eedcfa-8a12-4408-c3fa-e6a2c426475d"
      },
      "source": [
        "genoaMatrices = np.zeros((38, 225))\n",
        "genoaMatrices = getTeamMatrices(3193)"
      ],
      "execution_count": null,
      "outputs": [
        {
          "output_type": "stream",
          "text": [
            "/usr/local/lib/python3.6/dist-packages/ipykernel_launcher.py:2: DeprecationWarning: The default dtype for empty Series will be 'object' instead of 'float64' in a future version. Specify a dtype explicitly to silence this warning.\n",
            "  \n"
          ],
          "name": "stderr"
        }
      ]
    },
    {
      "cell_type": "code",
      "metadata": {
        "id": "pDLxAQPlBIgp",
        "colab": {
          "base_uri": "https://localhost:8080/",
          "height": 136
        },
        "outputId": "bfe13957-198f-40e0-fe67-3c1e51961efc"
      },
      "source": [
        "genoaMatrices"
      ],
      "execution_count": null,
      "outputs": [
        {
          "output_type": "execute_result",
          "data": {
            "text/plain": [
              "array([[1., 1., 0., ..., 0., 5., 2.],\n",
              "       [1., 0., 0., ..., 0., 3., 1.],\n",
              "       [2., 2., 0., ..., 0., 2., 5.],\n",
              "       ...,\n",
              "       [1., 1., 0., ..., 0., 4., 2.],\n",
              "       [1., 1., 0., ..., 0., 2., 2.],\n",
              "       [0., 1., 0., ..., 1., 2., 5.]])"
            ]
          },
          "metadata": {
            "tags": []
          },
          "execution_count": 20
        }
      ]
    },
    {
      "cell_type": "code",
      "metadata": {
        "id": "lb1vCbQyBIqG",
        "colab": {
          "base_uri": "https://localhost:8080/",
          "height": 71
        },
        "outputId": "4f368133-560e-493f-fa1d-7e287c89788b"
      },
      "source": [
        "chievoMatrices = np.zeros((38, 225))\n",
        "chievoMatrices = getTeamMatrices(3165)"
      ],
      "execution_count": null,
      "outputs": [
        {
          "output_type": "stream",
          "text": [
            "/usr/local/lib/python3.6/dist-packages/ipykernel_launcher.py:2: DeprecationWarning: The default dtype for empty Series will be 'object' instead of 'float64' in a future version. Specify a dtype explicitly to silence this warning.\n",
            "  \n"
          ],
          "name": "stderr"
        }
      ]
    },
    {
      "cell_type": "code",
      "metadata": {
        "id": "UqCMM_yBBI83",
        "colab": {
          "base_uri": "https://localhost:8080/",
          "height": 163
        },
        "outputId": "d3a193dd-7cff-4452-8436-642d77499462"
      },
      "source": [
        "chievoMatrices"
      ],
      "execution_count": null,
      "outputs": [
        {
          "output_type": "error",
          "ename": "NameError",
          "evalue": "ignored",
          "traceback": [
            "\u001b[0;31m---------------------------------------------------------------------------\u001b[0m",
            "\u001b[0;31mNameError\u001b[0m                                 Traceback (most recent call last)",
            "\u001b[0;32m<ipython-input-21-bae1be8dc680>\u001b[0m in \u001b[0;36m<module>\u001b[0;34m()\u001b[0m\n\u001b[0;32m----> 1\u001b[0;31m \u001b[0mchievoMatrices\u001b[0m\u001b[0;34m\u001b[0m\u001b[0;34m\u001b[0m\u001b[0m\n\u001b[0m",
            "\u001b[0;31mNameError\u001b[0m: name 'chievoMatrices' is not defined"
          ]
        }
      ]
    },
    {
      "cell_type": "code",
      "metadata": {
        "id": "1nuhLGoKBJG0",
        "colab": {
          "base_uri": "https://localhost:8080/",
          "height": 71
        },
        "outputId": "21d3bf2a-1e66-499f-953e-4ae6250ac7e3"
      },
      "source": [
        "udineseMatrices = np.zeros((38, 225))\n",
        "udineseMatrices = getTeamMatrices(3163)"
      ],
      "execution_count": null,
      "outputs": [
        {
          "output_type": "stream",
          "text": [
            "/usr/local/lib/python3.6/dist-packages/ipykernel_launcher.py:2: DeprecationWarning: The default dtype for empty Series will be 'object' instead of 'float64' in a future version. Specify a dtype explicitly to silence this warning.\n",
            "  \n"
          ],
          "name": "stderr"
        }
      ]
    },
    {
      "cell_type": "code",
      "metadata": {
        "id": "Hh9AMhW7BJaA",
        "colab": {
          "base_uri": "https://localhost:8080/",
          "height": 136
        },
        "outputId": "5e7226c6-6dc6-4ed7-a1e7-c03e4e9989e1"
      },
      "source": [
        "udineseMatrices"
      ],
      "execution_count": null,
      "outputs": [
        {
          "output_type": "execute_result",
          "data": {
            "text/plain": [
              "array([[ 3.,  2.,  0., ...,  5.,  5.,  7.],\n",
              "       [ 2.,  1.,  2., ...,  2.,  3., 11.],\n",
              "       [ 1.,  1.,  3., ...,  3.,  2.,  2.],\n",
              "       ...,\n",
              "       [ 2.,  4.,  1., ...,  2.,  5., 11.],\n",
              "       [ 0.,  0.,  0., ...,  4.,  2.,  3.],\n",
              "       [ 2.,  3.,  0., ...,  0.,  0.,  3.]])"
            ]
          },
          "metadata": {
            "tags": []
          },
          "execution_count": 42
        }
      ]
    },
    {
      "cell_type": "code",
      "metadata": {
        "id": "RMpytzClBJzA",
        "colab": {
          "base_uri": "https://localhost:8080/",
          "height": 71
        },
        "outputId": "ecbc9d2c-ebcd-4d26-aa23-970215c4ad2e"
      },
      "source": [
        "bologonaMatrices = np.zeros((38, 225))\n",
        "bologonaMatrices = getTeamMatrices(3166)"
      ],
      "execution_count": null,
      "outputs": [
        {
          "output_type": "stream",
          "text": [
            "/usr/local/lib/python3.6/dist-packages/ipykernel_launcher.py:2: DeprecationWarning: The default dtype for empty Series will be 'object' instead of 'float64' in a future version. Specify a dtype explicitly to silence this warning.\n",
            "  \n"
          ],
          "name": "stderr"
        }
      ]
    },
    {
      "cell_type": "code",
      "metadata": {
        "id": "usUbVHPxBKLn",
        "colab": {
          "base_uri": "https://localhost:8080/",
          "height": 136
        },
        "outputId": "e7838375-abce-43b4-d284-cf0c7f8575ce"
      },
      "source": [
        "bologonaMatrices"
      ],
      "execution_count": null,
      "outputs": [
        {
          "output_type": "execute_result",
          "data": {
            "text/plain": [
              "array([[ 4.,  3.,  1., ...,  1.,  6.,  8.],\n",
              "       [ 0.,  1.,  2., ...,  2.,  2.,  3.],\n",
              "       [ 3.,  5.,  1., ...,  0.,  0.,  2.],\n",
              "       ...,\n",
              "       [ 1.,  0.,  3., ...,  0.,  2.,  5.],\n",
              "       [ 5.,  6.,  0., ...,  1.,  4., 13.],\n",
              "       [ 4.,  2.,  1., ...,  1.,  3., 10.]])"
            ]
          },
          "metadata": {
            "tags": []
          },
          "execution_count": 44
        }
      ]
    },
    {
      "cell_type": "code",
      "metadata": {
        "id": "sSQ5gJUoDeUt",
        "colab": {
          "base_uri": "https://localhost:8080/",
          "height": 71
        },
        "outputId": "38a51def-3de2-42bc-df42-33a706739994"
      },
      "source": [
        "cagliariMatrices = np.zeros((38, 225))\n",
        "cagliariMatrices = getTeamMatrices(3173)"
      ],
      "execution_count": null,
      "outputs": [
        {
          "output_type": "stream",
          "text": [
            "/usr/local/lib/python3.6/dist-packages/ipykernel_launcher.py:2: DeprecationWarning: The default dtype for empty Series will be 'object' instead of 'float64' in a future version. Specify a dtype explicitly to silence this warning.\n",
            "  \n"
          ],
          "name": "stderr"
        }
      ]
    },
    {
      "cell_type": "code",
      "metadata": {
        "id": "egY7oDk4Decv",
        "colab": {
          "base_uri": "https://localhost:8080/",
          "height": 136
        },
        "outputId": "ee58f789-0ea5-415b-8845-86871b3a4956"
      },
      "source": [
        "cagliariMatrices"
      ],
      "execution_count": null,
      "outputs": [
        {
          "output_type": "execute_result",
          "data": {
            "text/plain": [
              "array([[ 1.,  2.,  0., ...,  0.,  1.,  4.],\n",
              "       [ 9.,  3.,  3., ...,  3.,  4.,  2.],\n",
              "       [ 4.,  3.,  3., ...,  0.,  1.,  0.],\n",
              "       ...,\n",
              "       [ 1.,  1.,  1., ...,  1.,  3., 17.],\n",
              "       [ 2.,  1.,  0., ...,  1.,  6.,  7.],\n",
              "       [ 0.,  1.,  0., ...,  2.,  4.,  2.]])"
            ]
          },
          "metadata": {
            "tags": []
          },
          "execution_count": 46
        }
      ]
    },
    {
      "cell_type": "code",
      "metadata": {
        "id": "TiW8V3DXDevj",
        "colab": {
          "base_uri": "https://localhost:8080/",
          "height": 71
        },
        "outputId": "e4d84336-4364-4cab-d31d-3e08de4cb5b2"
      },
      "source": [
        "spalMatrices = np.zeros((38, 225))\n",
        "spalMatrices = getTeamMatrices(3204)"
      ],
      "execution_count": null,
      "outputs": [
        {
          "output_type": "stream",
          "text": [
            "/usr/local/lib/python3.6/dist-packages/ipykernel_launcher.py:2: DeprecationWarning: The default dtype for empty Series will be 'object' instead of 'float64' in a future version. Specify a dtype explicitly to silence this warning.\n",
            "  \n"
          ],
          "name": "stderr"
        }
      ]
    },
    {
      "cell_type": "code",
      "metadata": {
        "id": "9AJQ--3iDe3y",
        "colab": {
          "base_uri": "https://localhost:8080/",
          "height": 136
        },
        "outputId": "63823673-78ee-4446-c2f9-4207070a9cb8"
      },
      "source": [
        "spalMatrices"
      ],
      "execution_count": null,
      "outputs": [
        {
          "output_type": "execute_result",
          "data": {
            "text/plain": [
              "array([[ 6.,  4.,  3., ...,  3.,  3.,  3.],\n",
              "       [ 5.,  4.,  0., ...,  1.,  4.,  8.],\n",
              "       [ 4.,  1.,  2., ...,  3.,  8.,  6.],\n",
              "       ...,\n",
              "       [ 1.,  1.,  0., ...,  0.,  3.,  7.],\n",
              "       [ 2.,  3.,  1., ...,  0.,  0., 11.],\n",
              "       [ 2.,  4.,  1., ...,  1.,  4.,  8.]])"
            ]
          },
          "metadata": {
            "tags": []
          },
          "execution_count": 48
        }
      ]
    },
    {
      "cell_type": "code",
      "metadata": {
        "id": "s0TUD4O-DfHq",
        "colab": {
          "base_uri": "https://localhost:8080/",
          "height": 71
        },
        "outputId": "7278c089-5df2-499c-f926-75197fb847b7"
      },
      "source": [
        "crotoneMatrices = np.zeros((38, 225))\n",
        "crotoneMatrices = getTeamMatrices(3197)"
      ],
      "execution_count": null,
      "outputs": [
        {
          "output_type": "stream",
          "text": [
            "/usr/local/lib/python3.6/dist-packages/ipykernel_launcher.py:2: DeprecationWarning: The default dtype for empty Series will be 'object' instead of 'float64' in a future version. Specify a dtype explicitly to silence this warning.\n",
            "  \n"
          ],
          "name": "stderr"
        }
      ]
    },
    {
      "cell_type": "code",
      "metadata": {
        "id": "KfunmjY0DfPX",
        "colab": {
          "base_uri": "https://localhost:8080/",
          "height": 136
        },
        "outputId": "c9262e08-3eff-4540-9e34-bc57b3c594ea"
      },
      "source": [
        "crotoneMatrices"
      ],
      "execution_count": null,
      "outputs": [
        {
          "output_type": "execute_result",
          "data": {
            "text/plain": [
              "array([[3., 2., 0., ..., 0., 0., 1.],\n",
              "       [1., 1., 0., ..., 0., 1., 3.],\n",
              "       [4., 3., 1., ..., 0., 3., 2.],\n",
              "       ...,\n",
              "       [1., 2., 0., ..., 2., 2., 4.],\n",
              "       [3., 2., 0., ..., 0., 2., 0.],\n",
              "       [1., 1., 0., ..., 0., 1., 0.]])"
            ]
          },
          "metadata": {
            "tags": []
          },
          "execution_count": 50
        }
      ]
    },
    {
      "cell_type": "code",
      "metadata": {
        "id": "4k12FSd6EYZz"
      },
      "source": [
        "mixMatrices = np.concatenate((juventusMatrices, napoliMatrices, hellasMatrices, beneventoMatrices))"
      ],
      "execution_count": null,
      "outputs": []
    },
    {
      "cell_type": "code",
      "metadata": {
        "id": "ttHSICKyEgbg"
      },
      "source": [
        "from sklearn.cluster import KMeans\n",
        "kmeans = KMeans(n_clusters=2)"
      ],
      "execution_count": null,
      "outputs": []
    },
    {
      "cell_type": "code",
      "metadata": {
        "id": "tmtQhasREhZw",
        "colab": {
          "base_uri": "https://localhost:8080/",
          "height": 204
        },
        "outputId": "6628c743-018d-45eb-9dd3-019d9c514934"
      },
      "source": [
        "#MinMaxScaler\n",
        "from sklearn import preprocessing\n",
        "from sklearn.decomposition import PCA\n",
        "\n",
        "min_max_scaler = preprocessing.MinMaxScaler()\n",
        "pca5 = PCA(n_components = 2)\n",
        "mixMatrices_scaled = min_max_scaler.fit_transform(mixMatrices)\n",
        "principalComponents = pca5.fit_transform(mixMatrices_scaled)\n",
        "principalDf5 = pd.DataFrame(data = principalComponents, columns= ['0', '1'])\n",
        "principalDf5.head()"
      ],
      "execution_count": null,
      "outputs": [
        {
          "output_type": "execute_result",
          "data": {
            "text/html": [
              "<div>\n",
              "<style scoped>\n",
              "    .dataframe tbody tr th:only-of-type {\n",
              "        vertical-align: middle;\n",
              "    }\n",
              "\n",
              "    .dataframe tbody tr th {\n",
              "        vertical-align: top;\n",
              "    }\n",
              "\n",
              "    .dataframe thead th {\n",
              "        text-align: right;\n",
              "    }\n",
              "</style>\n",
              "<table border=\"1\" class=\"dataframe\">\n",
              "  <thead>\n",
              "    <tr style=\"text-align: right;\">\n",
              "      <th></th>\n",
              "      <th>0</th>\n",
              "      <th>1</th>\n",
              "    </tr>\n",
              "  </thead>\n",
              "  <tbody>\n",
              "    <tr>\n",
              "      <th>0</th>\n",
              "      <td>0.817842</td>\n",
              "      <td>1.003037</td>\n",
              "    </tr>\n",
              "    <tr>\n",
              "      <th>1</th>\n",
              "      <td>0.765015</td>\n",
              "      <td>1.104566</td>\n",
              "    </tr>\n",
              "    <tr>\n",
              "      <th>2</th>\n",
              "      <td>-0.032641</td>\n",
              "      <td>0.761454</td>\n",
              "    </tr>\n",
              "    <tr>\n",
              "      <th>3</th>\n",
              "      <td>0.652891</td>\n",
              "      <td>0.355143</td>\n",
              "    </tr>\n",
              "    <tr>\n",
              "      <th>4</th>\n",
              "      <td>0.636828</td>\n",
              "      <td>0.274675</td>\n",
              "    </tr>\n",
              "  </tbody>\n",
              "</table>\n",
              "</div>"
            ],
            "text/plain": [
              "          0         1\n",
              "0  0.817842  1.003037\n",
              "1  0.765015  1.104566\n",
              "2 -0.032641  0.761454\n",
              "3  0.652891  0.355143\n",
              "4  0.636828  0.274675"
            ]
          },
          "metadata": {
            "tags": []
          },
          "execution_count": 11
        }
      ]
    },
    {
      "cell_type": "code",
      "metadata": {
        "id": "zzECg3AaEk0A"
      },
      "source": [
        "cols=[]\n",
        "for i in range(152):\n",
        "  if i<38:\n",
        "    cols.append('red')\n",
        "  else:\n",
        "    if (i<76):  \n",
        "      cols.append('black')\n",
        "    else:\n",
        "      if (i<114):\n",
        "        cols.append('yellow')\n",
        "      else:\n",
        "        cols.append('blue')  "
      ],
      "execution_count": null,
      "outputs": []
    },
    {
      "cell_type": "code",
      "metadata": {
        "id": "t5iO43AYEo4Q",
        "colab": {
          "base_uri": "https://localhost:8080/",
          "height": 282
        },
        "outputId": "7ab05ef7-0d4f-4e9d-b469-f34dd7165bc3"
      },
      "source": [
        "#MinMaxScaler\n",
        "plt.scatter(principalDf5['0'], principalDf5['1'], c=cols)"
      ],
      "execution_count": null,
      "outputs": [
        {
          "output_type": "execute_result",
          "data": {
            "text/plain": [
              "<matplotlib.collections.PathCollection at 0x7fd95bcccc18>"
            ]
          },
          "metadata": {
            "tags": []
          },
          "execution_count": 13
        },
        {
          "output_type": "display_data",
          "data": {
            "image/png": "[encoded data removed]",
            "text/plain": [
              "<Figure size 432x288 with 1 Axes>"
            ]
          },
          "metadata": {
            "tags": [],
            "needs_background": "light"
          }
        }
      ]
    },
    {
      "cell_type": "code",
      "metadata": {
        "id": "meQZbr8gE2hY",
        "colab": {
          "base_uri": "https://localhost:8080/",
          "height": 51
        },
        "outputId": "5d561845-f49d-48ff-9d1a-e9f5dfda954c"
      },
      "source": [
        "#MinMaxScaler\n",
        "kmeans = KMeans(n_clusters=2)\n",
        "model = kmeans.fit(principalDf5[['0', '1']])\n",
        "model.cluster_centers_"
      ],
      "execution_count": null,
      "outputs": [
        {
          "output_type": "execute_result",
          "data": {
            "text/plain": [
              "array([[-0.75686606,  0.04578615],\n",
              "       [ 1.06922348, -0.06468203]])"
            ]
          },
          "metadata": {
            "tags": []
          },
          "execution_count": 14
        }
      ]
    },
    {
      "cell_type": "code",
      "metadata": {
        "id": "Qem9Lb6tE4lQ",
        "colab": {
          "base_uri": "https://localhost:8080/",
          "height": 204
        },
        "outputId": "d678aba4-288b-4da1-b5c9-98fec3b5b039"
      },
      "source": [
        "#MinMaxScaler\n",
        "centroids = pd.DataFrame(model.cluster_centers_, columns=[\"0\", \"1\"])\n",
        "principalDf5['predicted'] = model.labels_\n",
        "principalDf5.head(5)"
      ],
      "execution_count": null,
      "outputs": [
        {
          "output_type": "execute_result",
          "data": {
            "text/html": [
              "<div>\n",
              "<style scoped>\n",
              "    .dataframe tbody tr th:only-of-type {\n",
              "        vertical-align: middle;\n",
              "    }\n",
              "\n",
              "    .dataframe tbody tr th {\n",
              "        vertical-align: top;\n",
              "    }\n",
              "\n",
              "    .dataframe thead th {\n",
              "        text-align: right;\n",
              "    }\n",
              "</style>\n",
              "<table border=\"1\" class=\"dataframe\">\n",
              "  <thead>\n",
              "    <tr style=\"text-align: right;\">\n",
              "      <th></th>\n",
              "      <th>0</th>\n",
              "      <th>1</th>\n",
              "      <th>predicted</th>\n",
              "    </tr>\n",
              "  </thead>\n",
              "  <tbody>\n",
              "    <tr>\n",
              "      <th>0</th>\n",
              "      <td>0.817842</td>\n",
              "      <td>1.003037</td>\n",
              "      <td>1</td>\n",
              "    </tr>\n",
              "    <tr>\n",
              "      <th>1</th>\n",
              "      <td>0.765015</td>\n",
              "      <td>1.104566</td>\n",
              "      <td>1</td>\n",
              "    </tr>\n",
              "    <tr>\n",
              "      <th>2</th>\n",
              "      <td>-0.032641</td>\n",
              "      <td>0.761454</td>\n",
              "      <td>0</td>\n",
              "    </tr>\n",
              "    <tr>\n",
              "      <th>3</th>\n",
              "      <td>0.652891</td>\n",
              "      <td>0.355143</td>\n",
              "      <td>1</td>\n",
              "    </tr>\n",
              "    <tr>\n",
              "      <th>4</th>\n",
              "      <td>0.636828</td>\n",
              "      <td>0.274675</td>\n",
              "      <td>1</td>\n",
              "    </tr>\n",
              "  </tbody>\n",
              "</table>\n",
              "</div>"
            ],
            "text/plain": [
              "          0         1  predicted\n",
              "0  0.817842  1.003037          1\n",
              "1  0.765015  1.104566          1\n",
              "2 -0.032641  0.761454          0\n",
              "3  0.652891  0.355143          1\n",
              "4  0.636828  0.274675          1"
            ]
          },
          "metadata": {
            "tags": []
          },
          "execution_count": 15
        }
      ]
    },
    {
      "cell_type": "code",
      "metadata": {
        "id": "ls_s4vU9FBrh",
        "colab": {
          "base_uri": "https://localhost:8080/",
          "height": 153
        },
        "outputId": "dcdd7a69-f931-4c55-db6d-6b64b8d5c69e"
      },
      "source": [
        "juveCluster1 = 0\n",
        "juveCluster2 = 0\n",
        "napoliCluster1 = 0 \n",
        "napoliCluster2 = 0\n",
        "hellasCluster1 = 0\n",
        "hellasCluster2 = 0\n",
        "benventoCluster1 = 0\n",
        "benventoCluster2 = 0\n",
        "\n",
        "for index, row in principalDf5.iterrows():\n",
        "  if(index < 38):\n",
        "    if(row['predicted'] == 0):\n",
        "      juveCluster1 += 1\n",
        "    else:\n",
        "      juveCluster2 += 1\n",
        "  else:\n",
        "    if(index < 76):\n",
        "      if(row['predicted'] == 0):\n",
        "        napoliCluster1 += 1\n",
        "      else:\n",
        "        napoliCluster2 += 1\n",
        "    else:\n",
        "      if(index < 114):\n",
        "        if(row['predicted'] == 0):\n",
        "          hellasCluster1 += 1\n",
        "        else:\n",
        "          hellasCluster2 += 1  \n",
        "      else:\n",
        "        if(row['predicted'] == 0):\n",
        "          benventoCluster1 += 1\n",
        "        else:\n",
        "          benventoCluster2 += 1  \n",
        "\n",
        "print(juveCluster1)\n",
        "print(juveCluster2)\n",
        "print(napoliCluster1)\n",
        "print(napoliCluster2)\n",
        "print(hellasCluster1)\n",
        "print(hellasCluster2)\n",
        "print(benventoCluster1)\n",
        "print(benventoCluster2)"
      ],
      "execution_count": null,
      "outputs": [
        {
          "output_type": "stream",
          "text": [
            "13\n",
            "25\n",
            "4\n",
            "34\n",
            "38\n",
            "0\n",
            "34\n",
            "4\n"
          ],
          "name": "stdout"
        }
      ]
    },
    {
      "cell_type": "code",
      "metadata": {
        "id": "8vkA-VyGFgeo",
        "colab": {
          "base_uri": "https://localhost:8080/",
          "height": 313
        },
        "outputId": "84a1fa9f-b7c6-400d-e961-382328992f42"
      },
      "source": [
        "#MinMaxScaler\n",
        "from matplotlib import pyplot as plt\n",
        "plt.figure(figsize=(7,7))\n",
        "## Plot scatter by cluster / color, and centroids\n",
        "colors = [\"red\", \"green\"]\n",
        "principalDf5['color'] = principalDf5['predicted'].map(lambda p: colors[p])\n",
        "ax = principalDf5.plot(    \n",
        "    kind=\"scatter\", \n",
        "    x=\"0\", y=\"1\",\n",
        "    c = principalDf5['color']\n",
        ")\n",
        "centroids.plot(\n",
        "    kind=\"scatter\", \n",
        "    x=\"0\", y=\"1\", \n",
        "    marker=\"*\", c=[\"r\", \"g\"], s=550,\n",
        "    ax=ax\n",
        ")"
      ],
      "execution_count": null,
      "outputs": [
        {
          "output_type": "execute_result",
          "data": {
            "text/plain": [
              "<matplotlib.axes._subplots.AxesSubplot at 0x7fd95bc28780>"
            ]
          },
          "metadata": {
            "tags": []
          },
          "execution_count": 17
        },
        {
          "output_type": "display_data",
          "data": {
            "text/plain": [
              "<Figure size 504x504 with 0 Axes>"
            ]
          },
          "metadata": {
            "tags": []
          }
        },
        {
          "output_type": "display_data",
          "data": {
            "image/png": "[encoded data removed]",
            "text/plain": [
              "<Figure size 432x288 with 1 Axes>"
            ]
          },
          "metadata": {
            "tags": [],
            "needs_background": "light"
          }
        }
      ]
    },
    {
      "cell_type": "code",
      "metadata": {
        "id": "8969jmyQIDbR",
        "colab": {
          "base_uri": "https://localhost:8080/",
          "height": 34
        },
        "outputId": "7e690c66-6dce-4b19-dcba-45774a131a73"
      },
      "source": [
        "from google.colab import files\n",
        "import pickle\n",
        "with open('serieA.pickle', 'wb') as f:\n",
        "  pickle.dump([juventusMatrices, napoliMatrices, romaMatrices, internazionaleMatrices, lazioMatrices, milanMatrices, atalantaMatrices, fiorentinaMatrices, torinoMatrices, sampadoriaMatrices, sassoloMatrices, genoaMatrices, chievoMatrices, udineseMatrices, bologonaMatrices, cagliariMatrices, spalMatrices, crotoneMatrices, hellasMatrices, beneventoMatrices], f)\n",
        "files.download('serieA.pickle')   "
      ],
      "execution_count": null,
      "outputs": [
        {
          "output_type": "display_data",
          "data": {
            "application/javascript": [
              "\n",
              "    async function download(id, filename, size) {\n",
              "      if (!google.colab.kernel.accessAllowed) {\n",
              "        return;\n",
              "      }\n",
              "      const div = document.createElement('div');\n",
              "      const label = document.createElement('label');\n",
              "      label.textContent = `Downloading \"${filename}\": `;\n",
              "      div.appendChild(label);\n",
              "      const progress = document.createElement('progress');\n",
              "      progress.max = size;\n",
              "      div.appendChild(progress);\n",
              "      document.body.appendChild(div);\n",
              "\n",
              "      const buffers = [];\n",
              "      let downloaded = 0;\n",
              "\n",
              "      const channel = await google.colab.kernel.comms.open(id);\n",
              "      // Send a message to notify the kernel that we're ready.\n",
              "      channel.send({})\n",
              "\n",
              "      for await (const message of channel.messages) {\n",
              "        // Send a message to notify the kernel that we're ready.\n",
              "        channel.send({})\n",
              "        if (message.buffers) {\n",
              "          for (const buffer of message.buffers) {\n",
              "            buffers.push(buffer);\n",
              "            downloaded += buffer.byteLength;\n",
              "            progress.value = downloaded;\n",
              "          }\n",
              "        }\n",
              "      }\n",
              "      const blob = new Blob(buffers, {type: 'application/binary'});\n",
              "      const a = document.createElement('a');\n",
              "      a.href = window.URL.createObjectURL(blob);\n",
              "      a.download = filename;\n",
              "      div.appendChild(a);\n",
              "      a.click();\n",
              "      div.remove();\n",
              "    }\n",
              "  "
            ],
            "text/plain": [
              "<IPython.core.display.Javascript object>"
            ]
          },
          "metadata": {
            "tags": []
          }
        },
        {
          "output_type": "display_data",
          "data": {
            "application/javascript": [
              "download(\"download_5ea1a052-2945-4169-82b1-e061467e7c2e\", \"serieA.pickle\", 1368944)"
            ],
            "text/plain": [
              "<IPython.core.display.Javascript object>"
            ]
          },
          "metadata": {
            "tags": []
          }
        }
      ]
    }
  ]
}