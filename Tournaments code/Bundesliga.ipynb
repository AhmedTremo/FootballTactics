{
  "nbformat": 4,
  "nbformat_minor": 0,
  "metadata": {
    "colab": {
      "name": "Bundesliga.ipynb",
      "provenance": [],
      "collapsed_sections": []
    },
    "kernelspec": {
      "name": "python3",
      "display_name": "Python 3"
    }
  },
  "cells": [
    {
      "cell_type": "code",
      "metadata": {
        "id": "8DJ-6d2AJIh2",
        "colab": {
          "base_uri": "https://localhost:8080/",
          "height": 51
        },
        "outputId": "255beb02-dcc3-434e-dc0c-025cf2ae1d0e"
      },
      "source": [
        "import pandas as pd\n",
        "from pandas.io.json import json_normalize\n",
        "import json\n",
        "import numpy as np\n",
        "import networkx as nx\n",
        "import pylab as plt\n",
        "\n",
        "eventsGermany = pd.read_json('/content/drive/My Drive/bachelor data/events/events_Germany.json')\n",
        "matchesGermany = pd.read_json(\"/content/drive/My Drive/bachelor data/matches/matches_Germany.json\")\n",
        "tagsName = pd.read_csv(\"/content/drive/My Drive/bachelor data/tags2name.csv\")\n",
        "with open('/content/drive/My Drive/bachelor data/events/events_Germany.json') as f:\n",
        "    d = json.load(f)\n",
        "tags = json_normalize(data=d, record_path='tags', meta=['id'], record_prefix='_')\n",
        "teams = pd.read_json(\"/content/drive/My Drive/bachelor data/teams.json\")\n",
        "eventsGermanyTags = pd.merge(eventsGermany,\n",
        "                       tags,\n",
        "                       on='id')"
      ],
      "execution_count": null,
      "outputs": [
        {
          "output_type": "stream",
          "text": [
            "/usr/local/lib/python3.6/dist-packages/ipykernel_launcher.py:13: FutureWarning: pandas.io.json.json_normalize is deprecated, use pandas.json_normalize instead\n",
            "  del sys.path[0]\n"
          ],
          "name": "stderr"
        }
      ]
    },
    {
      "cell_type": "code",
      "metadata": {
        "id": "oL99kE-OJ2qR"
      },
      "source": [
        "def checkZones2(dataframe, columnName):\n",
        "  resultSeries = pd.Series([])\n",
        "  i = -1\n",
        "  for index, row in dataframe.iterrows():\n",
        "    x = (row[columnName])['x']\n",
        "    y = (row[columnName])['y']\n",
        "    index = i + 1\n",
        "    resultSeries = resultSeries.append(pd.Series([int(((x // 20) * 3) + 1 + (y // 33.3))]), ignore_index=True)\n",
        "  return resultSeries"
      ],
      "execution_count": null,
      "outputs": []
    },
    {
      "cell_type": "code",
      "metadata": {
        "id": "p4AAHHNZJ5uH"
      },
      "source": [
        "# Filling 2D matrix of Barcelona team with corresponding passes\n",
        "def get2dMatrix(passesDataframe, senderColumnName, RecipientColumnName):\n",
        "  arr = np.arange(225).reshape(15,15)\n",
        "  i = 0\n",
        "  j = 0\n",
        "  passCount = 0\n",
        "  for i in range(15):\n",
        "    for j in range(15):\n",
        "      passCount = 0\n",
        "      for index, row in passesDataframe.iterrows():\n",
        "        if(row[senderColumnName] == i+1 and  row[RecipientColumnName] == j+1):\n",
        "          passCount += 1\n",
        "        arr[i][j] = passCount    \n",
        "      j += 1\n",
        "    i += 1 \n",
        "  return arr"
      ],
      "execution_count": null,
      "outputs": []
    },
    {
      "cell_type": "code",
      "metadata": {
        "id": "H3fLqN2BJ9IW"
      },
      "source": [
        "def getTeamMatrix(teamId, teamMatchId):\n",
        "  \n",
        "  # Getting Successful passes of specific team in specific match\n",
        "  successfulPasses = eventsGermanyTags[(eventsGermanyTags['teamId'] == teamId) & (eventsGermanyTags['matchId'] == teamMatchId) & (eventsGermanyTags['eventId'] == 8) & (eventsGermanyTags['_id'] == 1801)]\n",
        "  successfulPasses.reset_index(level=0, inplace=True)\n",
        "\n",
        "  # Adding Sender/Recipient positions\n",
        "  successfulPasses2 = successfulPasses['positions'].sum()\n",
        "  del successfulPasses2[1::2]\n",
        "  x2 = pd.Series(successfulPasses2)\n",
        "  successfulPassesSender = pd.concat([successfulPasses, pd.DataFrame(x2)], axis=1)\n",
        "  successfulPassesSender.rename(columns = {0:'Sender'}, inplace = True)\n",
        "\n",
        "  successfulPasses1 = successfulPassesSender['positions'].sum()\n",
        "  del successfulPasses1[0::2]\n",
        "  x = pd.Series(successfulPasses1)\n",
        "  successfulPassesSenderRecipient = pd.concat([successfulPassesSender, pd.DataFrame(x)], axis=1)\n",
        "  successfulPassesSenderRecipient.rename(columns = {0:'Recepient'}, inplace = True) \n",
        "\n",
        "  # Adding Sender/Recipient zones\n",
        "\n",
        "  zoneSeriesSender = checkZones2(successfulPassesSenderRecipient, 'Sender')\n",
        "  zoneDataframeSender = pd.DataFrame(zoneSeriesSender)\n",
        "  zoneDataframeSender.rename(columns = {0:'SenderZone'}, inplace = True)\n",
        "\n",
        "  zoneSeriesRecipient = checkZones2(successfulPassesSenderRecipient, 'Recepient')\n",
        "  zoneDataframeRecipient = pd.DataFrame(zoneSeriesRecipient)\n",
        "  zoneDataframeRecipient.rename(columns = {0:'RecipientZone'}, inplace = True)\n",
        "\n",
        "  successfulPassesSenderRecipientZ = pd.concat([successfulPassesSenderRecipient, zoneDataframeSender], axis=1)\n",
        "  successfulPassesSenderRecipientZone = pd.concat([successfulPassesSenderRecipientZ, zoneDataframeRecipient], axis=1)\n",
        "  \n",
        "  # returning the 2D passes Matrix\n",
        "  return get2dMatrix(successfulPassesSenderRecipientZone, 'SenderZone', 'RecipientZone').flatten()"
      ],
      "execution_count": null,
      "outputs": []
    },
    {
      "cell_type": "code",
      "metadata": {
        "id": "_U4Kr-PyKBd_"
      },
      "source": [
        "def getTeamMatches(teamId):\n",
        "  teamMatchesIds = np.array([])\n",
        "  eventsGermanyTeam = eventsGermany[eventsGermany['teamId'] == teamId]\n",
        "  teamMatchesIds = eventsGermanyTeam.matchId.unique()\n",
        "  return teamMatchesIds"
      ],
      "execution_count": null,
      "outputs": []
    },
    {
      "cell_type": "code",
      "metadata": {
        "id": "zYBdLVgLKEAg"
      },
      "source": [
        "def getTeamMatrices(teamId):\n",
        "  teamMatches = getTeamMatches(teamId)\n",
        "  teamMatrices = np.zeros((len(teamMatches), 225))\n",
        "  for i in range(len(teamMatches)):\n",
        "    teamMatrices[i] = getTeamMatrix(teamId, teamMatches[i])\n",
        "  return teamMatrices"
      ],
      "execution_count": null,
      "outputs": []
    },
    {
      "cell_type": "code",
      "metadata": {
        "id": "lUFY6IzSKFpP",
        "colab": {
          "base_uri": "https://localhost:8080/",
          "height": 71
        },
        "outputId": "6bad80f2-9477-4120-efb5-1c505a099011"
      },
      "source": [
        "bayernMunchenMatrices = np.zeros((38, 225))\n",
        "bayernMunchenMatrices = getTeamMatrices(2444)"
      ],
      "execution_count": null,
      "outputs": [
        {
          "output_type": "stream",
          "text": [
            "/usr/local/lib/python3.6/dist-packages/ipykernel_launcher.py:2: DeprecationWarning: The default dtype for empty Series will be 'object' instead of 'float64' in a future version. Specify a dtype explicitly to silence this warning.\n",
            "  \n"
          ],
          "name": "stderr"
        }
      ]
    },
    {
      "cell_type": "code",
      "metadata": {
        "id": "dSgiB6RYK5-Y",
        "colab": {
          "base_uri": "https://localhost:8080/",
          "height": 136
        },
        "outputId": "49fae719-835a-44f4-ed21-221ce28ab85a"
      },
      "source": [
        "bayernMunchenMatrices"
      ],
      "execution_count": null,
      "outputs": [
        {
          "output_type": "execute_result",
          "data": {
            "text/plain": [
              "array([[ 8.,  4.,  4., ...,  1.,  7., 12.],\n",
              "       [ 2.,  2.,  2., ...,  4., 11., 11.],\n",
              "       [ 4.,  2.,  3., ...,  0.,  5., 12.],\n",
              "       ...,\n",
              "       [ 6., 14.,  4., ...,  2.,  3.,  3.],\n",
              "       [ 1.,  5.,  2., ...,  4.,  9., 25.],\n",
              "       [ 5.,  6.,  3., ...,  1.,  8.,  9.]])"
            ]
          },
          "metadata": {
            "tags": []
          },
          "execution_count": 8
        }
      ]
    },
    {
      "cell_type": "code",
      "metadata": {
        "id": "YT-_DF4HK9Az",
        "colab": {
          "base_uri": "https://localhost:8080/",
          "height": 71
        },
        "outputId": "04780c42-9e18-4413-8256-e1ba973e4b46"
      },
      "source": [
        "schalkeMatrices = np.zeros((38, 225))\n",
        "schalkeMatrices = getTeamMatrices(2449)"
      ],
      "execution_count": null,
      "outputs": [
        {
          "output_type": "stream",
          "text": [
            "/usr/local/lib/python3.6/dist-packages/ipykernel_launcher.py:2: DeprecationWarning: The default dtype for empty Series will be 'object' instead of 'float64' in a future version. Specify a dtype explicitly to silence this warning.\n",
            "  \n"
          ],
          "name": "stderr"
        }
      ]
    },
    {
      "cell_type": "code",
      "metadata": {
        "id": "DC_WL1u9K92m",
        "colab": {
          "base_uri": "https://localhost:8080/",
          "height": 136
        },
        "outputId": "7285288a-609b-4a32-9641-0aee00e28491"
      },
      "source": [
        "schalkeMatrices"
      ],
      "execution_count": null,
      "outputs": [
        {
          "output_type": "execute_result",
          "data": {
            "text/plain": [
              "array([[ 4.,  2.,  2., ...,  0.,  0.,  6.],\n",
              "       [ 4.,  3.,  1., ...,  2.,  6.,  8.],\n",
              "       [ 8.,  5.,  1., ...,  2.,  3.,  5.],\n",
              "       ...,\n",
              "       [ 2.,  4.,  1., ...,  0.,  3.,  0.],\n",
              "       [ 2.,  0.,  1., ...,  0.,  4.,  3.],\n",
              "       [ 3.,  4.,  1., ...,  1.,  5., 10.]])"
            ]
          },
          "metadata": {
            "tags": []
          },
          "execution_count": 10
        }
      ]
    },
    {
      "cell_type": "code",
      "metadata": {
        "id": "vUFrBIBKK9-E",
        "colab": {
          "base_uri": "https://localhost:8080/",
          "height": 71
        },
        "outputId": "9edb7856-c3fa-4995-d19f-85485792dca0"
      },
      "source": [
        "hoffenheimMatrices = np.zeros((38, 225))\n",
        "hoffenheimMatrices = getTeamMatrices(2482)"
      ],
      "execution_count": null,
      "outputs": [
        {
          "output_type": "stream",
          "text": [
            "/usr/local/lib/python3.6/dist-packages/ipykernel_launcher.py:2: DeprecationWarning: The default dtype for empty Series will be 'object' instead of 'float64' in a future version. Specify a dtype explicitly to silence this warning.\n",
            "  \n"
          ],
          "name": "stderr"
        }
      ]
    },
    {
      "cell_type": "code",
      "metadata": {
        "id": "E_1K2P0mK-Qn",
        "colab": {
          "base_uri": "https://localhost:8080/",
          "height": 136
        },
        "outputId": "df045fd8-83c3-4781-e11b-12471ca43be4"
      },
      "source": [
        "hoffenheimMatrices"
      ],
      "execution_count": null,
      "outputs": [
        {
          "output_type": "execute_result",
          "data": {
            "text/plain": [
              "array([[ 0.,  2.,  3., ...,  1.,  3., 11.],\n",
              "       [ 1.,  1.,  0., ...,  0.,  2.,  1.],\n",
              "       [ 5.,  4.,  1., ...,  0.,  0.,  1.],\n",
              "       ...,\n",
              "       [ 5.,  5.,  0., ...,  2.,  3.,  3.],\n",
              "       [ 4.,  5.,  0., ...,  3.,  6.,  5.],\n",
              "       [ 6.,  5.,  2., ...,  1.,  0.,  1.]])"
            ]
          },
          "metadata": {
            "tags": []
          },
          "execution_count": 12
        }
      ]
    },
    {
      "cell_type": "code",
      "metadata": {
        "id": "rWD2eIkFK-WA",
        "colab": {
          "base_uri": "https://localhost:8080/",
          "height": 71
        },
        "outputId": "cb327ff4-463d-4182-8374-6a58332d5598"
      },
      "source": [
        "dortmundMatrices = np.zeros((38, 225))\n",
        "dortmundMatrices = getTeamMatrices(2447)"
      ],
      "execution_count": null,
      "outputs": [
        {
          "output_type": "stream",
          "text": [
            "/usr/local/lib/python3.6/dist-packages/ipykernel_launcher.py:2: DeprecationWarning: The default dtype for empty Series will be 'object' instead of 'float64' in a future version. Specify a dtype explicitly to silence this warning.\n",
            "  \n"
          ],
          "name": "stderr"
        }
      ]
    },
    {
      "cell_type": "code",
      "metadata": {
        "id": "0R901ko6K-rM",
        "colab": {
          "base_uri": "https://localhost:8080/",
          "height": 136
        },
        "outputId": "53c22e30-dffa-4be0-bea1-9e2d7f12e1b5"
      },
      "source": [
        "dortmundMatrices"
      ],
      "execution_count": null,
      "outputs": [
        {
          "output_type": "execute_result",
          "data": {
            "text/plain": [
              "array([[ 2.,  2.,  0., ...,  5.,  5., 15.],\n",
              "       [ 2.,  2.,  1., ...,  3.,  5.,  4.],\n",
              "       [ 2.,  7.,  1., ...,  6.,  7.,  7.],\n",
              "       ...,\n",
              "       [ 1.,  6.,  4., ...,  1.,  3., 15.],\n",
              "       [ 6.,  5.,  2., ...,  0.,  7.,  7.],\n",
              "       [ 2.,  0.,  6., ...,  2.,  5.,  8.]])"
            ]
          },
          "metadata": {
            "tags": []
          },
          "execution_count": 14
        }
      ]
    },
    {
      "cell_type": "code",
      "metadata": {
        "id": "VBpNbcqmK-wd",
        "colab": {
          "base_uri": "https://localhost:8080/",
          "height": 71
        },
        "outputId": "c603ec79-762a-408c-9909-e95a933a4785"
      },
      "source": [
        "bayernLeverkusenMatrices = np.zeros((38, 225))\n",
        "bayernLeverkusenMatrices = getTeamMatrices(2446)"
      ],
      "execution_count": null,
      "outputs": [
        {
          "output_type": "stream",
          "text": [
            "/usr/local/lib/python3.6/dist-packages/ipykernel_launcher.py:2: DeprecationWarning: The default dtype for empty Series will be 'object' instead of 'float64' in a future version. Specify a dtype explicitly to silence this warning.\n",
            "  \n"
          ],
          "name": "stderr"
        }
      ]
    },
    {
      "cell_type": "code",
      "metadata": {
        "id": "COqpSEXYK_FE",
        "colab": {
          "base_uri": "https://localhost:8080/",
          "height": 136
        },
        "outputId": "7706dd3c-244b-4a09-c399-d5eae11980d9"
      },
      "source": [
        "bayernLeverkusenMatrices"
      ],
      "execution_count": null,
      "outputs": [
        {
          "output_type": "execute_result",
          "data": {
            "text/plain": [
              "array([[ 8.,  3.,  2., ...,  0.,  9., 13.],\n",
              "       [ 2.,  5.,  4., ...,  2.,  3.,  3.],\n",
              "       [ 6.,  5.,  2., ...,  2.,  4.,  7.],\n",
              "       ...,\n",
              "       [ 2.,  5.,  1., ...,  4.,  6., 20.],\n",
              "       [ 2.,  1.,  3., ...,  4.,  4., 13.],\n",
              "       [ 2.,  5.,  0., ...,  7., 10., 32.]])"
            ]
          },
          "metadata": {
            "tags": []
          },
          "execution_count": 16
        }
      ]
    },
    {
      "cell_type": "code",
      "metadata": {
        "id": "bSZp4Qs9K_Lj",
        "colab": {
          "base_uri": "https://localhost:8080/",
          "height": 71
        },
        "outputId": "9838af88-d7cb-4751-e9df-1136c95c0fd6"
      },
      "source": [
        "leipzigMatrices = np.zeros((38, 225))\n",
        "leipzigMatrices = getTeamMatrices(2975)"
      ],
      "execution_count": null,
      "outputs": [
        {
          "output_type": "stream",
          "text": [
            "/usr/local/lib/python3.6/dist-packages/ipykernel_launcher.py:2: DeprecationWarning: The default dtype for empty Series will be 'object' instead of 'float64' in a future version. Specify a dtype explicitly to silence this warning.\n",
            "  \n"
          ],
          "name": "stderr"
        }
      ]
    },
    {
      "cell_type": "code",
      "metadata": {
        "id": "EHtxla18K_dv",
        "colab": {
          "base_uri": "https://localhost:8080/",
          "height": 136
        },
        "outputId": "1c99d6b0-b9ed-45e5-8597-19b7bb602582"
      },
      "source": [
        "leipzigMatrices"
      ],
      "execution_count": null,
      "outputs": [
        {
          "output_type": "execute_result",
          "data": {
            "text/plain": [
              "array([[ 6.,  0.,  3., ...,  0.,  8., 14.],\n",
              "       [ 3.,  3.,  1., ...,  2.,  3.,  6.],\n",
              "       [ 1.,  0.,  2., ...,  4.,  1., 13.],\n",
              "       ...,\n",
              "       [ 7.,  4.,  0., ...,  1.,  8.,  3.],\n",
              "       [ 3.,  3.,  0., ...,  0.,  0.,  4.],\n",
              "       [ 2.,  0.,  0., ...,  1.,  3., 13.]])"
            ]
          },
          "metadata": {
            "tags": []
          },
          "execution_count": 18
        }
      ]
    },
    {
      "cell_type": "code",
      "metadata": {
        "id": "jKJ_eUpqK_jb",
        "colab": {
          "base_uri": "https://localhost:8080/",
          "height": 71
        },
        "outputId": "b456fa78-dccd-4896-f90a-01afd34ed550"
      },
      "source": [
        "stuttgurtMatrices = np.zeros((38, 225))\n",
        "stuttgurtMatrices = getTeamMatrices(2445)"
      ],
      "execution_count": null,
      "outputs": [
        {
          "output_type": "stream",
          "text": [
            "/usr/local/lib/python3.6/dist-packages/ipykernel_launcher.py:2: DeprecationWarning: The default dtype for empty Series will be 'object' instead of 'float64' in a future version. Specify a dtype explicitly to silence this warning.\n",
            "  \n"
          ],
          "name": "stderr"
        }
      ]
    },
    {
      "cell_type": "code",
      "metadata": {
        "id": "SLUHpMtFK_2U",
        "colab": {
          "base_uri": "https://localhost:8080/",
          "height": 136
        },
        "outputId": "9d5ebe14-e385-4770-96a4-64ef1cd09e99"
      },
      "source": [
        "stuttgurtMatrices"
      ],
      "execution_count": null,
      "outputs": [
        {
          "output_type": "execute_result",
          "data": {
            "text/plain": [
              "array([[ 0.,  0.,  2., ...,  0.,  2.,  5.],\n",
              "       [ 2.,  1.,  0., ...,  0.,  4., 16.],\n",
              "       [ 0.,  2.,  7., ...,  2.,  5., 15.],\n",
              "       ...,\n",
              "       [ 0.,  2.,  1., ...,  0.,  1.,  6.],\n",
              "       [ 2.,  3.,  2., ...,  3.,  1.,  2.],\n",
              "       [ 5.,  1.,  2., ...,  1.,  1.,  2.]])"
            ]
          },
          "metadata": {
            "tags": []
          },
          "execution_count": 20
        }
      ]
    },
    {
      "cell_type": "code",
      "metadata": {
        "id": "xSHqo_WtK_7v",
        "colab": {
          "base_uri": "https://localhost:8080/",
          "height": 71
        },
        "outputId": "b2ff2d23-93e9-4991-f87c-45eb5ea2fd85"
      },
      "source": [
        "frankfurtMatrices = np.zeros((38, 225))\n",
        "frankfurtMatrices = getTeamMatrices(2462)"
      ],
      "execution_count": null,
      "outputs": [
        {
          "output_type": "stream",
          "text": [
            "/usr/local/lib/python3.6/dist-packages/ipykernel_launcher.py:2: DeprecationWarning: The default dtype for empty Series will be 'object' instead of 'float64' in a future version. Specify a dtype explicitly to silence this warning.\n",
            "  \n"
          ],
          "name": "stderr"
        }
      ]
    },
    {
      "cell_type": "code",
      "metadata": {
        "id": "FEDyPpzjLAMd",
        "colab": {
          "base_uri": "https://localhost:8080/",
          "height": 136
        },
        "outputId": "143e794c-cec8-45f2-d99a-94c3307ce875"
      },
      "source": [
        "frankfurtMatrices"
      ],
      "execution_count": null,
      "outputs": [
        {
          "output_type": "execute_result",
          "data": {
            "text/plain": [
              "array([[ 1.,  6.,  3., ...,  4.,  1., 12.],\n",
              "       [ 0.,  1.,  1., ...,  3.,  4.,  6.],\n",
              "       [ 2.,  0.,  0., ...,  2.,  2.,  5.],\n",
              "       ...,\n",
              "       [ 1., 10.,  4., ...,  4.,  2.,  4.],\n",
              "       [ 2.,  1.,  0., ...,  1.,  3.,  6.],\n",
              "       [ 5.,  2.,  1., ...,  1.,  2.,  0.]])"
            ]
          },
          "metadata": {
            "tags": []
          },
          "execution_count": 22
        }
      ]
    },
    {
      "cell_type": "code",
      "metadata": {
        "id": "rcXQmBrhLAQy",
        "colab": {
          "base_uri": "https://localhost:8080/",
          "height": 71
        },
        "outputId": "86eb1356-e87e-4e79-c39e-15ecc5b7d730"
      },
      "source": [
        "borussiaMGMatrices = np.zeros((38, 225))\n",
        "borussiaMGMatrices = getTeamMatrices(2454)"
      ],
      "execution_count": null,
      "outputs": [
        {
          "output_type": "stream",
          "text": [
            "/usr/local/lib/python3.6/dist-packages/ipykernel_launcher.py:2: DeprecationWarning: The default dtype for empty Series will be 'object' instead of 'float64' in a future version. Specify a dtype explicitly to silence this warning.\n",
            "  \n"
          ],
          "name": "stderr"
        }
      ]
    },
    {
      "cell_type": "code",
      "metadata": {
        "id": "DWaO31TxLAnE",
        "colab": {
          "base_uri": "https://localhost:8080/",
          "height": 136
        },
        "outputId": "bbfa0b25-4fa3-44d8-9e3b-1b7aa5854fac"
      },
      "source": [
        "borussiaMGMatrices"
      ],
      "execution_count": null,
      "outputs": [
        {
          "output_type": "execute_result",
          "data": {
            "text/plain": [
              "array([[ 0.,  2.,  2., ...,  0.,  4.,  8.],\n",
              "       [ 0.,  2.,  1., ...,  0.,  3.,  5.],\n",
              "       [ 1.,  3.,  0., ...,  1.,  5., 28.],\n",
              "       ...,\n",
              "       [ 3., 13.,  1., ...,  2.,  5., 34.],\n",
              "       [ 7.,  7.,  4., ...,  1.,  1.,  6.],\n",
              "       [ 0.,  2.,  2., ...,  4.,  5.,  7.]])"
            ]
          },
          "metadata": {
            "tags": []
          },
          "execution_count": 24
        }
      ]
    },
    {
      "cell_type": "code",
      "metadata": {
        "id": "s2_fGiaNLArg",
        "colab": {
          "base_uri": "https://localhost:8080/",
          "height": 71
        },
        "outputId": "11d27047-6f6f-4e99-f6e0-afc1cbcdc50c"
      },
      "source": [
        "herthaMatrices = np.zeros((38, 225))\n",
        "herthaMatrices = getTeamMatrices(2457)"
      ],
      "execution_count": null,
      "outputs": [
        {
          "output_type": "stream",
          "text": [
            "/usr/local/lib/python3.6/dist-packages/ipykernel_launcher.py:2: DeprecationWarning: The default dtype for empty Series will be 'object' instead of 'float64' in a future version. Specify a dtype explicitly to silence this warning.\n",
            "  \n"
          ],
          "name": "stderr"
        }
      ]
    },
    {
      "cell_type": "code",
      "metadata": {
        "id": "m0drxuzgLBB1",
        "colab": {
          "base_uri": "https://localhost:8080/",
          "height": 136
        },
        "outputId": "6f94e990-1222-47cc-ccdf-afcce482e5bf"
      },
      "source": [
        "herthaMatrices"
      ],
      "execution_count": null,
      "outputs": [
        {
          "output_type": "execute_result",
          "data": {
            "text/plain": [
              "array([[ 8.,  4.,  3., ...,  0.,  5.,  3.],\n",
              "       [ 2.,  1.,  0., ...,  1.,  2.,  6.],\n",
              "       [ 2.,  0.,  2., ...,  0.,  5., 12.],\n",
              "       ...,\n",
              "       [ 4.,  6.,  1., ...,  3.,  3.,  8.],\n",
              "       [ 1.,  3.,  2., ...,  5.,  5., 14.],\n",
              "       [ 0.,  4.,  2., ...,  3.,  4.,  7.]])"
            ]
          },
          "metadata": {
            "tags": []
          },
          "execution_count": 26
        }
      ]
    },
    {
      "cell_type": "code",
      "metadata": {
        "id": "Zk1Hnlu8LBGI",
        "colab": {
          "base_uri": "https://localhost:8080/",
          "height": 71
        },
        "outputId": "6cfb90a6-f3a4-40da-b388-c737caf58c25"
      },
      "source": [
        "werderBermenMatrices = np.zeros((38, 225))\n",
        "werderBermenMatrices = getTeamMatrices(2443)"
      ],
      "execution_count": null,
      "outputs": [
        {
          "output_type": "stream",
          "text": [
            "/usr/local/lib/python3.6/dist-packages/ipykernel_launcher.py:2: DeprecationWarning: The default dtype for empty Series will be 'object' instead of 'float64' in a future version. Specify a dtype explicitly to silence this warning.\n",
            "  \n"
          ],
          "name": "stderr"
        }
      ]
    },
    {
      "cell_type": "code",
      "metadata": {
        "id": "dBbObUy4LBiE",
        "colab": {
          "base_uri": "https://localhost:8080/",
          "height": 136
        },
        "outputId": "cfc5de77-9f50-423d-9d24-b9ae94d65d80"
      },
      "source": [
        "werderBermenMatrices"
      ],
      "execution_count": null,
      "outputs": [
        {
          "output_type": "execute_result",
          "data": {
            "text/plain": [
              "array([[ 7.,  1.,  3., ...,  3.,  6.,  9.],\n",
              "       [ 1.,  2.,  1., ...,  1.,  3.,  4.],\n",
              "       [ 0.,  0.,  1., ...,  1.,  1.,  8.],\n",
              "       ...,\n",
              "       [ 2.,  1.,  1., ...,  0.,  3.,  5.],\n",
              "       [ 5.,  3.,  2., ...,  1.,  1.,  5.],\n",
              "       [ 4.,  4.,  0., ...,  2.,  7., 14.]])"
            ]
          },
          "metadata": {
            "tags": []
          },
          "execution_count": 28
        }
      ]
    },
    {
      "cell_type": "code",
      "metadata": {
        "id": "tut9JK5ULE8u",
        "colab": {
          "base_uri": "https://localhost:8080/",
          "height": 71
        },
        "outputId": "5a992781-6fcd-422b-9033-598245d82a0f"
      },
      "source": [
        "augsburgMatrices = np.zeros((38, 225))\n",
        "augsburgMatrices = getTeamMatrices(2481)"
      ],
      "execution_count": null,
      "outputs": [
        {
          "output_type": "stream",
          "text": [
            "/usr/local/lib/python3.6/dist-packages/ipykernel_launcher.py:2: DeprecationWarning: The default dtype for empty Series will be 'object' instead of 'float64' in a future version. Specify a dtype explicitly to silence this warning.\n",
            "  \n"
          ],
          "name": "stderr"
        }
      ]
    },
    {
      "cell_type": "code",
      "metadata": {
        "id": "lhrSBFkxLFZG",
        "colab": {
          "base_uri": "https://localhost:8080/",
          "height": 136
        },
        "outputId": "e087a000-f3fe-4fd7-8040-e985639abb99"
      },
      "source": [
        "augsburgMatrices"
      ],
      "execution_count": null,
      "outputs": [
        {
          "output_type": "execute_result",
          "data": {
            "text/plain": [
              "array([[8., 5., 5., ..., 4., 6., 9.],\n",
              "       [3., 2., 2., ..., 4., 6., 7.],\n",
              "       [0., 0., 1., ..., 1., 2., 5.],\n",
              "       ...,\n",
              "       [5., 6., 5., ..., 0., 0., 9.],\n",
              "       [6., 8., 8., ..., 0., 4., 6.],\n",
              "       [1., 3., 2., ..., 0., 4., 6.]])"
            ]
          },
          "metadata": {
            "tags": []
          },
          "execution_count": 30
        }
      ]
    },
    {
      "cell_type": "code",
      "metadata": {
        "id": "KoA_TcY-LGEi",
        "colab": {
          "base_uri": "https://localhost:8080/",
          "height": 71
        },
        "outputId": "f3e34b99-5fc8-43bf-e544-fb3ed20d3bb9"
      },
      "source": [
        "hannoverMatrices = np.zeros((38, 225))\n",
        "hannoverMatrices = getTeamMatrices(2455)"
      ],
      "execution_count": null,
      "outputs": [
        {
          "output_type": "stream",
          "text": [
            "/usr/local/lib/python3.6/dist-packages/ipykernel_launcher.py:2: DeprecationWarning: The default dtype for empty Series will be 'object' instead of 'float64' in a future version. Specify a dtype explicitly to silence this warning.\n",
            "  \n"
          ],
          "name": "stderr"
        }
      ]
    },
    {
      "cell_type": "code",
      "metadata": {
        "id": "2pY6DmtTLGk4",
        "colab": {
          "base_uri": "https://localhost:8080/",
          "height": 136
        },
        "outputId": "b334c3f6-0a3c-4c2c-dac3-f6288f27348d"
      },
      "source": [
        "hannoverMatrices"
      ],
      "execution_count": null,
      "outputs": [
        {
          "output_type": "execute_result",
          "data": {
            "text/plain": [
              "array([[ 4.,  4.,  2., ...,  0.,  4.,  8.],\n",
              "       [ 3.,  3.,  2., ...,  3.,  1.,  3.],\n",
              "       [ 4.,  5.,  0., ...,  2.,  4., 16.],\n",
              "       ...,\n",
              "       [ 6.,  1.,  1., ...,  0.,  3.,  7.],\n",
              "       [ 8.,  3.,  0., ...,  1.,  1.,  3.],\n",
              "       [ 3.,  9.,  1., ...,  2.,  5.,  8.]])"
            ]
          },
          "metadata": {
            "tags": []
          },
          "execution_count": 32
        }
      ]
    },
    {
      "cell_type": "code",
      "metadata": {
        "id": "_KkSjjirLGtv",
        "colab": {
          "base_uri": "https://localhost:8080/",
          "height": 71
        },
        "outputId": "2af151d0-5226-4dd7-fd38-fa45223a47ca"
      },
      "source": [
        "mainzMatrices = np.zeros((38, 225))\n",
        "mainzMatrices = getTeamMatrices(2460)"
      ],
      "execution_count": null,
      "outputs": [
        {
          "output_type": "stream",
          "text": [
            "/usr/local/lib/python3.6/dist-packages/ipykernel_launcher.py:2: DeprecationWarning: The default dtype for empty Series will be 'object' instead of 'float64' in a future version. Specify a dtype explicitly to silence this warning.\n",
            "  \n"
          ],
          "name": "stderr"
        }
      ]
    },
    {
      "cell_type": "code",
      "metadata": {
        "id": "0Wq5iu7qLG9W",
        "colab": {
          "base_uri": "https://localhost:8080/",
          "height": 136
        },
        "outputId": "651f8821-540d-4565-ebdf-def2520fb5bf"
      },
      "source": [
        "mainzMatrices"
      ],
      "execution_count": null,
      "outputs": [
        {
          "output_type": "execute_result",
          "data": {
            "text/plain": [
              "array([[ 3.,  2.,  3., ...,  0.,  1.,  1.],\n",
              "       [ 5.,  5.,  1., ...,  2.,  1.,  2.],\n",
              "       [ 4.,  5.,  3., ...,  0.,  3.,  1.],\n",
              "       ...,\n",
              "       [ 5.,  2.,  2., ...,  0.,  2.,  6.],\n",
              "       [ 6.,  6.,  0., ...,  1.,  1.,  1.],\n",
              "       [14.,  4.,  3., ...,  3.,  3.,  5.]])"
            ]
          },
          "metadata": {
            "tags": []
          },
          "execution_count": 34
        }
      ]
    },
    {
      "cell_type": "code",
      "metadata": {
        "id": "zgmoLlBBLHFb",
        "colab": {
          "base_uri": "https://localhost:8080/",
          "height": 71
        },
        "outputId": "ad9a6e90-0ad0-4004-f9df-bf583cfc9856"
      },
      "source": [
        "freiburgMatrices = np.zeros((38, 225))\n",
        "freiburgMatrices = getTeamMatrices(2453)"
      ],
      "execution_count": null,
      "outputs": [
        {
          "output_type": "stream",
          "text": [
            "/usr/local/lib/python3.6/dist-packages/ipykernel_launcher.py:2: DeprecationWarning: The default dtype for empty Series will be 'object' instead of 'float64' in a future version. Specify a dtype explicitly to silence this warning.\n",
            "  \n"
          ],
          "name": "stderr"
        }
      ]
    },
    {
      "cell_type": "code",
      "metadata": {
        "id": "-NttLop0LHWb",
        "colab": {
          "base_uri": "https://localhost:8080/",
          "height": 136
        },
        "outputId": "c10339ff-0362-4b1f-831f-7844ae5f1c9d"
      },
      "source": [
        "freiburgMatrices"
      ],
      "execution_count": null,
      "outputs": [
        {
          "output_type": "execute_result",
          "data": {
            "text/plain": [
              "array([[ 3.,  6.,  1., ...,  2.,  0.,  1.],\n",
              "       [ 1.,  2.,  0., ...,  2.,  3.,  0.],\n",
              "       [ 4.,  1.,  0., ...,  0.,  0.,  2.],\n",
              "       ...,\n",
              "       [ 2.,  0.,  1., ...,  2.,  1.,  2.],\n",
              "       [ 5.,  1.,  4., ...,  3.,  5., 19.],\n",
              "       [ 2.,  0.,  0., ...,  3.,  3.,  3.]])"
            ]
          },
          "metadata": {
            "tags": []
          },
          "execution_count": 36
        }
      ]
    },
    {
      "cell_type": "code",
      "metadata": {
        "id": "Yk_fs3jFLHcT",
        "colab": {
          "base_uri": "https://localhost:8080/",
          "height": 71
        },
        "outputId": "25744b85-c816-4804-8ef5-f6decb9b654f"
      },
      "source": [
        "wolfsburgMatrices = np.zeros((38, 225))\n",
        "wolfsburgMatrices = getTeamMatrices(2451)"
      ],
      "execution_count": null,
      "outputs": [
        {
          "output_type": "stream",
          "text": [
            "/usr/local/lib/python3.6/dist-packages/ipykernel_launcher.py:2: DeprecationWarning: The default dtype for empty Series will be 'object' instead of 'float64' in a future version. Specify a dtype explicitly to silence this warning.\n",
            "  \n"
          ],
          "name": "stderr"
        }
      ]
    },
    {
      "cell_type": "code",
      "metadata": {
        "id": "1ARrW_gMLHtI",
        "colab": {
          "base_uri": "https://localhost:8080/",
          "height": 136
        },
        "outputId": "a9d083c6-3bd6-47f0-ad93-f44c4c0ed336"
      },
      "source": [
        "wolfsburgMatrices"
      ],
      "execution_count": null,
      "outputs": [
        {
          "output_type": "execute_result",
          "data": {
            "text/plain": [
              "array([[ 4.,  3.,  0., ...,  1.,  1.,  0.],\n",
              "       [ 8.,  1.,  2., ...,  2.,  3.,  8.],\n",
              "       [ 5.,  3.,  1., ...,  0.,  5., 11.],\n",
              "       ...,\n",
              "       [ 2.,  0.,  3., ...,  1.,  1.,  7.],\n",
              "       [ 1.,  4.,  4., ...,  0.,  0.,  6.],\n",
              "       [ 1.,  1.,  3., ...,  2.,  3., 13.]])"
            ]
          },
          "metadata": {
            "tags": []
          },
          "execution_count": 38
        }
      ]
    },
    {
      "cell_type": "code",
      "metadata": {
        "id": "3OPLSAipLHx_",
        "colab": {
          "base_uri": "https://localhost:8080/",
          "height": 71
        },
        "outputId": "10ec11a9-5d2a-4e9f-db41-d1577d6fd50c"
      },
      "source": [
        "hamburgerMatrices = np.zeros((38, 225))\n",
        "hamburgerMatrices = getTeamMatrices(2450)"
      ],
      "execution_count": null,
      "outputs": [
        {
          "output_type": "stream",
          "text": [
            "/usr/local/lib/python3.6/dist-packages/ipykernel_launcher.py:2: DeprecationWarning: The default dtype for empty Series will be 'object' instead of 'float64' in a future version. Specify a dtype explicitly to silence this warning.\n",
            "  \n"
          ],
          "name": "stderr"
        }
      ]
    },
    {
      "cell_type": "code",
      "metadata": {
        "id": "bw_To6ZhLIDx",
        "colab": {
          "base_uri": "https://localhost:8080/",
          "height": 136
        },
        "outputId": "255e2cb5-e20c-44b9-a5f9-e787c0399f2e"
      },
      "source": [
        "hamburgerMatrices"
      ],
      "execution_count": null,
      "outputs": [
        {
          "output_type": "execute_result",
          "data": {
            "text/plain": [
              "array([[2., 2., 1., ..., 2., 3., 2.],\n",
              "       [1., 2., 0., ..., 1., 0., 4.],\n",
              "       [1., 2., 1., ..., 0., 3., 5.],\n",
              "       ...,\n",
              "       [6., 7., 7., ..., 0., 4., 6.],\n",
              "       [6., 8., 3., ..., 0., 5., 9.],\n",
              "       [6., 2., 3., ..., 1., 3., 4.]])"
            ]
          },
          "metadata": {
            "tags": []
          },
          "execution_count": 40
        }
      ]
    },
    {
      "cell_type": "code",
      "metadata": {
        "id": "WoH5WTvSLIIj",
        "colab": {
          "base_uri": "https://localhost:8080/",
          "height": 71
        },
        "outputId": "9ad5c925-3b03-4cf6-a196-c8e6e54a1525"
      },
      "source": [
        "kolnMatrices = np.zeros((38, 225))\n",
        "kolnMatrices = getTeamMatrices(2463)"
      ],
      "execution_count": null,
      "outputs": [
        {
          "output_type": "stream",
          "text": [
            "/usr/local/lib/python3.6/dist-packages/ipykernel_launcher.py:2: DeprecationWarning: The default dtype for empty Series will be 'object' instead of 'float64' in a future version. Specify a dtype explicitly to silence this warning.\n",
            "  \n"
          ],
          "name": "stderr"
        }
      ]
    },
    {
      "cell_type": "code",
      "metadata": {
        "id": "WvNjumKeLIao",
        "colab": {
          "base_uri": "https://localhost:8080/",
          "height": 136
        },
        "outputId": "43f31822-ba3f-4a92-801e-f1c930421476"
      },
      "source": [
        "kolnMatrices"
      ],
      "execution_count": null,
      "outputs": [
        {
          "output_type": "execute_result",
          "data": {
            "text/plain": [
              "array([[ 0.,  1.,  0., ...,  4.,  3.,  4.],\n",
              "       [ 2.,  3.,  1., ...,  3.,  5.,  3.],\n",
              "       [ 0.,  1.,  0., ...,  3.,  7.,  5.],\n",
              "       ...,\n",
              "       [10.,  5.,  6., ...,  2.,  4., 16.],\n",
              "       [ 5.,  3.,  1., ...,  1.,  3.,  1.],\n",
              "       [ 8.,  6.,  0., ...,  1.,  3.,  1.]])"
            ]
          },
          "metadata": {
            "tags": []
          },
          "execution_count": 42
        }
      ]
    },
    {
      "cell_type": "code",
      "metadata": {
        "id": "6raC_w00LP1B",
        "colab": {
          "base_uri": "https://localhost:8080/",
          "height": 17
        },
        "outputId": "281d9e56-be5e-4210-b2ac-43ffb6fbbca6"
      },
      "source": [
        "from google.colab import files\n",
        "import pickle\n",
        "with open('bundesliga.pickle', 'wb') as f:\n",
        "  pickle.dump([bayernMunchenMatrices, schalkeMatrices, hoffenheimMatrices, dortmundMatrices, bayernLeverkusenMatrices, leipzigMatrices, stuttgurtMatrices, frankfurtMatrices, borussiaMGMatrices, herthaMatrices, werderBermenMatrices, augsburgMatrices, hannoverMatrices, mainzMatrices, freiburgMatrices, wolfsburgMatrices, hamburgerMatrices, kolnMatrices], f)\n",
        "files.download('bundesliga.pickle')  "
      ],
      "execution_count": null,
      "outputs": [
        {
          "output_type": "display_data",
          "data": {
            "application/javascript": [
              "\n",
              "    async function download(id, filename, size) {\n",
              "      if (!google.colab.kernel.accessAllowed) {\n",
              "        return;\n",
              "      }\n",
              "      const div = document.createElement('div');\n",
              "      const label = document.createElement('label');\n",
              "      label.textContent = `Downloading \"${filename}\": `;\n",
              "      div.appendChild(label);\n",
              "      const progress = document.createElement('progress');\n",
              "      progress.max = size;\n",
              "      div.appendChild(progress);\n",
              "      document.body.appendChild(div);\n",
              "\n",
              "      const buffers = [];\n",
              "      let downloaded = 0;\n",
              "\n",
              "      const channel = await google.colab.kernel.comms.open(id);\n",
              "      // Send a message to notify the kernel that we're ready.\n",
              "      channel.send({})\n",
              "\n",
              "      for await (const message of channel.messages) {\n",
              "        // Send a message to notify the kernel that we're ready.\n",
              "        channel.send({})\n",
              "        if (message.buffers) {\n",
              "          for (const buffer of message.buffers) {\n",
              "            buffers.push(buffer);\n",
              "            downloaded += buffer.byteLength;\n",
              "            progress.value = downloaded;\n",
              "          }\n",
              "        }\n",
              "      }\n",
              "      const blob = new Blob(buffers, {type: 'application/binary'});\n",
              "      const a = document.createElement('a');\n",
              "      a.href = window.URL.createObjectURL(blob);\n",
              "      a.download = filename;\n",
              "      div.appendChild(a);\n",
              "      a.click();\n",
              "      div.remove();\n",
              "    }\n",
              "  "
            ],
            "text/plain": [
              "<IPython.core.display.Javascript object>"
            ]
          },
          "metadata": {
            "tags": []
          }
        },
        {
          "output_type": "display_data",
          "data": {
            "application/javascript": [
              "download(\"download_5b9b805d-91d6-4a9d-8361-601586889af1\", \"bundesliga.pickle\", 1102462)"
            ],
            "text/plain": [
              "<IPython.core.display.Javascript object>"
            ]
          },
          "metadata": {
            "tags": []
          }
        }
      ]
    },
    {
      "cell_type": "code",
      "metadata": {
        "id": "lNtaWQ9u_z6N"
      },
      "source": [
        "cols=[]\n",
        "for i in range(612):\n",
        "  if i<34:\n",
        "    cols.append('red')\n",
        "  else:\n",
        "    if (i<68):  \n",
        "      cols.append('black')\n",
        "    else:\n",
        "      if (i<102):\n",
        "        cols.append('yellow')\n",
        "      else:\n",
        "        if (i<136):\n",
        "          cols.append('blue')  \n",
        "        else:\n",
        "          if (i<170):\n",
        "            cols.append('purple')\n",
        "          else:\n",
        "           if (i<204):\n",
        "             cols.append('pink')  \n",
        "           else:\n",
        "            if (i<238):\n",
        "              cols.append('navy')\n",
        "            else:\n",
        "              if (i<272):\n",
        "               cols.append('turquoise')\n",
        "              else:\n",
        "                if (i<306):\n",
        "                  cols.append('violet')\n",
        "                else:\n",
        "                  if (i<340):\n",
        "                    cols.append('magenta')\n",
        "                  else:\n",
        "                    if (i<374):\n",
        "                     cols.append('gray')\n",
        "                    else:\n",
        "                      if (i<408):\n",
        "                       cols.append('cyan')\n",
        "                      else:\n",
        "                        if (i<442):\n",
        "                          cols.append('brown')\n",
        "                        else:\n",
        "                          if (i<476):\n",
        "                            cols.append('gold')\n",
        "                          else:\n",
        "                            if (i<510):\n",
        "                              cols.append('orange')\n",
        "                            else:\n",
        "                              if (i<544):\n",
        "                                cols.append('azure')  \n",
        "                              else:\n",
        "                                if (i<578):\n",
        "                                  cols.append('salmon')\n",
        "                                else:\n",
        "                                  if (i<612):\n",
        "                                    cols.append('darkviolet')  \n",
        "                                  else:\n",
        "                                    if (i<684):\n",
        "                                      cols.append('lime')\n",
        "                                    else:\n",
        "                                      cols.append('silver')\n",
        "                                     "
      ],
      "execution_count": null,
      "outputs": []
    }
  ]
}