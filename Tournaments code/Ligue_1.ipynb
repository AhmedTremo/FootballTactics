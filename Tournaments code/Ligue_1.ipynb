{
  "nbformat": 4,
  "nbformat_minor": 0,
  "metadata": {
    "colab": {
      "name": "Ligue 1.ipynb",
      "provenance": [],
      "collapsed_sections": []
    },
    "kernelspec": {
      "name": "python3",
      "display_name": "Python 3"
    }
  },
  "cells": [
    {
      "cell_type": "code",
      "metadata": {
        "id": "G0DcyguZWEDU",
        "colab": {
          "base_uri": "https://localhost:8080/",
          "height": 51
        },
        "outputId": "1ca0724f-a65a-439c-cd34-01a4df3f67b5"
      },
      "source": [
        "import pandas as pd\n",
        "from pandas.io.json import json_normalize\n",
        "import json\n",
        "import numpy as np\n",
        "import networkx as nx\n",
        "import pylab as plt\n",
        "\n",
        "eventsFrance = pd.read_json('/content/drive/My Drive/bachelor data/events/events_France.json')\n",
        "matchesFrance = pd.read_json(\"/content/drive/My Drive/bachelor data/matches/matches_France.json\")\n",
        "tagsName = pd.read_csv(\"/content/drive/My Drive/bachelor data/tags2name.csv\")\n",
        "with open('/content/drive/My Drive/bachelor data/events/events_France.json') as f:\n",
        "    d = json.load(f)\n",
        "tags = json_normalize(data=d, record_path='tags', meta=['id'], record_prefix='_')\n",
        "teams = pd.read_json(\"/content/drive/My Drive/bachelor data/teams.json\")\n",
        "eventsFranceTags = pd.merge(eventsFrance,\n",
        "                       tags,\n",
        "                       on='id')"
      ],
      "execution_count": null,
      "outputs": [
        {
          "output_type": "stream",
          "text": [
            "/usr/local/lib/python3.6/dist-packages/ipykernel_launcher.py:13: FutureWarning: pandas.io.json.json_normalize is deprecated, use pandas.json_normalize instead\n",
            "  del sys.path[0]\n"
          ],
          "name": "stderr"
        }
      ]
    },
    {
      "cell_type": "code",
      "metadata": {
        "id": "hdb54OfSWv5I"
      },
      "source": [
        "def checkZones2(dataframe, columnName):\n",
        "  resultSeries = pd.Series([])\n",
        "  i = -1\n",
        "  for index, row in dataframe.iterrows():\n",
        "    x = (row[columnName])['x']\n",
        "    y = (row[columnName])['y']\n",
        "    index = i + 1\n",
        "    resultSeries = resultSeries.append(pd.Series([int(((x // 20) * 3) + 1 + (y // 33.3))]), ignore_index=True)\n",
        "  return resultSeries"
      ],
      "execution_count": null,
      "outputs": []
    },
    {
      "cell_type": "code",
      "metadata": {
        "id": "XKG_csoZWwzN"
      },
      "source": [
        "# Filling 2D matrix of Barcelona team with corresponding passes\n",
        "def get2dMatrix(passesDataframe, senderColumnName, RecipientColumnName):\n",
        "  arr = np.arange(225).reshape(15,15)\n",
        "  i = 0\n",
        "  j = 0\n",
        "  passCount = 0\n",
        "  for i in range(15):\n",
        "    for j in range(15):\n",
        "      passCount = 0\n",
        "      for index, row in passesDataframe.iterrows():\n",
        "        if(row[senderColumnName] == i+1 and  row[RecipientColumnName] == j+1):\n",
        "          passCount += 1\n",
        "        arr[i][j] = passCount    \n",
        "      j += 1\n",
        "    i += 1 \n",
        "  return arr"
      ],
      "execution_count": null,
      "outputs": []
    },
    {
      "cell_type": "code",
      "metadata": {
        "id": "UkL-KfHSWzQL"
      },
      "source": [
        "def getTeamMatrix(teamId, teamMatchId):\n",
        "  \n",
        "  # Getting Successful passes of specific team in specific match\n",
        "  successfulPasses = eventsFranceTags[(eventsFranceTags['teamId'] == teamId) & (eventsFranceTags['matchId'] == teamMatchId) & (eventsFranceTags['eventId'] == 8) & (eventsFranceTags['_id'] == 1801)]\n",
        "  successfulPasses.reset_index(level=0, inplace=True)\n",
        "\n",
        "  # Adding Sender/Recipient positions\n",
        "  successfulPasses2 = successfulPasses['positions'].sum()\n",
        "  del successfulPasses2[1::2]\n",
        "  x2 = pd.Series(successfulPasses2)\n",
        "  successfulPassesSender = pd.concat([successfulPasses, pd.DataFrame(x2)], axis=1)\n",
        "  successfulPassesSender.rename(columns = {0:'Sender'}, inplace = True)\n",
        "\n",
        "  successfulPasses1 = successfulPassesSender['positions'].sum()\n",
        "  del successfulPasses1[0::2]\n",
        "  x = pd.Series(successfulPasses1)\n",
        "  successfulPassesSenderRecipient = pd.concat([successfulPassesSender, pd.DataFrame(x)], axis=1)\n",
        "  successfulPassesSenderRecipient.rename(columns = {0:'Recepient'}, inplace = True) \n",
        "\n",
        "  # Adding Sender/Recipient zones\n",
        "\n",
        "  zoneSeriesSender = checkZones2(successfulPassesSenderRecipient, 'Sender')\n",
        "  zoneDataframeSender = pd.DataFrame(zoneSeriesSender)\n",
        "  zoneDataframeSender.rename(columns = {0:'SenderZone'}, inplace = True)\n",
        "\n",
        "  zoneSeriesRecipient = checkZones2(successfulPassesSenderRecipient, 'Recepient')\n",
        "  zoneDataframeRecipient = pd.DataFrame(zoneSeriesRecipient)\n",
        "  zoneDataframeRecipient.rename(columns = {0:'RecipientZone'}, inplace = True)\n",
        "\n",
        "  successfulPassesSenderRecipientZ = pd.concat([successfulPassesSenderRecipient, zoneDataframeSender], axis=1)\n",
        "  successfulPassesSenderRecipientZone = pd.concat([successfulPassesSenderRecipientZ, zoneDataframeRecipient], axis=1)\n",
        "  \n",
        "  # returning the 2D passes Matrix\n",
        "  return get2dMatrix(successfulPassesSenderRecipientZone, 'SenderZone', 'RecipientZone').flatten()"
      ],
      "execution_count": null,
      "outputs": []
    },
    {
      "cell_type": "code",
      "metadata": {
        "id": "bdzeBbg4W31d"
      },
      "source": [
        "def getTeamMatches(teamId):\n",
        "  teamMatchesIds = np.array([])\n",
        "  eventsFranceTeam = eventsFrance[eventsFrance['teamId'] == teamId]\n",
        "  teamMatchesIds = eventsFranceTeam.matchId.unique()\n",
        "  return teamMatchesIds"
      ],
      "execution_count": null,
      "outputs": []
    },
    {
      "cell_type": "code",
      "metadata": {
        "id": "cju2CrgXW6BZ"
      },
      "source": [
        "def getTeamMatrices(teamId):\n",
        "  teamMatches = getTeamMatches(teamId)\n",
        "  teamMatrices = np.zeros((len(teamMatches), 225))\n",
        "  for i in range(len(teamMatches)):\n",
        "    teamMatrices[i] = getTeamMatrix(teamId, teamMatches[i])\n",
        "  return teamMatrices"
      ],
      "execution_count": null,
      "outputs": []
    },
    {
      "cell_type": "code",
      "metadata": {
        "id": "dXFW6SBdW8oo",
        "colab": {
          "base_uri": "https://localhost:8080/",
          "height": 71
        },
        "outputId": "3e31542f-a72f-4dfb-c878-61e4d8d6d312"
      },
      "source": [
        "psgMatrices = np.zeros((38, 225))\n",
        "psgMatrices = getTeamMatrices(3767)"
      ],
      "execution_count": null,
      "outputs": [
        {
          "output_type": "stream",
          "text": [
            "/usr/local/lib/python3.6/dist-packages/ipykernel_launcher.py:2: DeprecationWarning: The default dtype for empty Series will be 'object' instead of 'float64' in a future version. Specify a dtype explicitly to silence this warning.\n",
            "  \n"
          ],
          "name": "stderr"
        }
      ]
    },
    {
      "cell_type": "code",
      "metadata": {
        "id": "TUMZw0ysYARD",
        "colab": {
          "base_uri": "https://localhost:8080/",
          "height": 136
        },
        "outputId": "05258f1c-acee-4bce-d021-9c91a2a26839"
      },
      "source": [
        "psgMatrices"
      ],
      "execution_count": null,
      "outputs": [
        {
          "output_type": "execute_result",
          "data": {
            "text/plain": [
              "array([[ 2.,  4.,  3., ...,  2., 10., 15.],\n",
              "       [ 6.,  4.,  3., ...,  2.,  8.,  8.],\n",
              "       [ 3.,  2.,  1., ...,  3., 11., 16.],\n",
              "       ...,\n",
              "       [ 7.,  5.,  3., ...,  4.,  6., 11.],\n",
              "       [ 3.,  2.,  1., ...,  3.,  3.,  9.],\n",
              "       [ 5.,  3.,  1., ...,  3.,  6.,  8.]])"
            ]
          },
          "metadata": {
            "tags": []
          },
          "execution_count": 9
        }
      ]
    },
    {
      "cell_type": "code",
      "metadata": {
        "id": "E-4RMZP5YDkZ",
        "colab": {
          "base_uri": "https://localhost:8080/",
          "height": 71
        },
        "outputId": "1f07c5cb-da12-4ec2-8db1-30006e9bb624"
      },
      "source": [
        "monacoMatrices = np.zeros((38, 225))\n",
        "monacoMatrices = getTeamMatrices(19830)"
      ],
      "execution_count": null,
      "outputs": [
        {
          "output_type": "stream",
          "text": [
            "/usr/local/lib/python3.6/dist-packages/ipykernel_launcher.py:2: DeprecationWarning: The default dtype for empty Series will be 'object' instead of 'float64' in a future version. Specify a dtype explicitly to silence this warning.\n",
            "  \n"
          ],
          "name": "stderr"
        }
      ]
    },
    {
      "cell_type": "code",
      "metadata": {
        "id": "48s8ZCa_YD7A",
        "colab": {
          "base_uri": "https://localhost:8080/",
          "height": 136
        },
        "outputId": "62d1c2b1-d707-4a0e-bd4f-042e081e0d20"
      },
      "source": [
        "monacoMatrices"
      ],
      "execution_count": null,
      "outputs": [
        {
          "output_type": "execute_result",
          "data": {
            "text/plain": [
              "array([[ 3.,  1.,  1., ...,  7.,  9., 10.],\n",
              "       [ 2.,  0.,  2., ...,  1.,  6., 11.],\n",
              "       [ 0.,  0.,  0., ...,  1.,  8.,  9.],\n",
              "       ...,\n",
              "       [ 4.,  4.,  0., ...,  2.,  6., 17.],\n",
              "       [ 3.,  0.,  1., ...,  3.,  4., 18.],\n",
              "       [ 2.,  3.,  0., ...,  1., 10., 10.]])"
            ]
          },
          "metadata": {
            "tags": []
          },
          "execution_count": 11
        }
      ]
    },
    {
      "cell_type": "code",
      "metadata": {
        "id": "c8peyGb2YEB1",
        "colab": {
          "base_uri": "https://localhost:8080/",
          "height": 71
        },
        "outputId": "07bcad01-38de-4ae2-c060-a2e1cbd77d6e"
      },
      "source": [
        "lyonMatrices = np.zeros((38, 225))\n",
        "lyonMatrices = getTeamMatrices(3766)"
      ],
      "execution_count": null,
      "outputs": [
        {
          "output_type": "stream",
          "text": [
            "/usr/local/lib/python3.6/dist-packages/ipykernel_launcher.py:2: DeprecationWarning: The default dtype for empty Series will be 'object' instead of 'float64' in a future version. Specify a dtype explicitly to silence this warning.\n",
            "  \n"
          ],
          "name": "stderr"
        }
      ]
    },
    {
      "cell_type": "code",
      "metadata": {
        "id": "M-7YU3pdYEXC",
        "colab": {
          "base_uri": "https://localhost:8080/",
          "height": 136
        },
        "outputId": "17b18fce-efe1-4978-9e99-de54ee06888e"
      },
      "source": [
        "lyonMatrices"
      ],
      "execution_count": null,
      "outputs": [
        {
          "output_type": "execute_result",
          "data": {
            "text/plain": [
              "array([[ 0.,  3.,  0., ...,  2., 10., 21.],\n",
              "       [ 3.,  7.,  1., ...,  3.,  3.,  9.],\n",
              "       [ 9.,  4.,  2., ...,  1.,  4.,  3.],\n",
              "       ...,\n",
              "       [ 2.,  2.,  0., ...,  2.,  3., 11.],\n",
              "       [ 2.,  7.,  0., ...,  0.,  3., 10.],\n",
              "       [ 3.,  2.,  2., ...,  5.,  7., 20.]])"
            ]
          },
          "metadata": {
            "tags": []
          },
          "execution_count": 13
        }
      ]
    },
    {
      "cell_type": "code",
      "metadata": {
        "id": "dtqkX7a1YEcD",
        "colab": {
          "base_uri": "https://localhost:8080/",
          "height": 71
        },
        "outputId": "6789c80f-6ff2-4e31-dab3-d659fb941476"
      },
      "source": [
        "marseilleMatrices = np.zeros((38, 225))\n",
        "marseilleMatrices = getTeamMatrices(3771)"
      ],
      "execution_count": null,
      "outputs": [
        {
          "output_type": "stream",
          "text": [
            "/usr/local/lib/python3.6/dist-packages/ipykernel_launcher.py:2: DeprecationWarning: The default dtype for empty Series will be 'object' instead of 'float64' in a future version. Specify a dtype explicitly to silence this warning.\n",
            "  \n"
          ],
          "name": "stderr"
        }
      ]
    },
    {
      "cell_type": "code",
      "metadata": {
        "id": "Bvukp-nQYEuQ",
        "colab": {
          "base_uri": "https://localhost:8080/",
          "height": 136
        },
        "outputId": "d9385f0a-da08-4e58-f470-261587ba14d1"
      },
      "source": [
        "marseilleMatrices"
      ],
      "execution_count": null,
      "outputs": [
        {
          "output_type": "execute_result",
          "data": {
            "text/plain": [
              "array([[ 6.,  6.,  3., ...,  3.,  5.,  2.],\n",
              "       [ 3.,  8.,  3., ...,  2.,  6., 19.],\n",
              "       [ 0.,  3.,  1., ...,  2.,  4.,  9.],\n",
              "       ...,\n",
              "       [ 1.,  3.,  1., ...,  1.,  6., 12.],\n",
              "       [ 8.,  3.,  0., ...,  3.,  2., 10.],\n",
              "       [ 0.,  6.,  0., ...,  2., 16., 21.]])"
            ]
          },
          "metadata": {
            "tags": []
          },
          "execution_count": 15
        }
      ]
    },
    {
      "cell_type": "code",
      "metadata": {
        "id": "YKw845OvYEy-",
        "colab": {
          "base_uri": "https://localhost:8080/",
          "height": 71
        },
        "outputId": "3d18d46c-a253-4d8c-8cb5-9493b7647f41"
      },
      "source": [
        "rennesMatrices = np.zeros((38, 225))\n",
        "rennesMatrices = getTeamMatrices(3774)"
      ],
      "execution_count": null,
      "outputs": [
        {
          "output_type": "stream",
          "text": [
            "/usr/local/lib/python3.6/dist-packages/ipykernel_launcher.py:2: DeprecationWarning: The default dtype for empty Series will be 'object' instead of 'float64' in a future version. Specify a dtype explicitly to silence this warning.\n",
            "  \n"
          ],
          "name": "stderr"
        }
      ]
    },
    {
      "cell_type": "code",
      "metadata": {
        "id": "Wew6u2YkYFC1",
        "colab": {
          "base_uri": "https://localhost:8080/",
          "height": 136
        },
        "outputId": "383a3f5f-e44d-4587-f57a-f2f834c3075e"
      },
      "source": [
        "rennesMatrices"
      ],
      "execution_count": null,
      "outputs": [
        {
          "output_type": "execute_result",
          "data": {
            "text/plain": [
              "array([[ 3.,  4.,  1., ...,  5.,  4.,  9.],\n",
              "       [ 0.,  3.,  0., ...,  2.,  3.,  7.],\n",
              "       [ 2.,  2.,  0., ...,  0.,  2.,  5.],\n",
              "       ...,\n",
              "       [ 4.,  3.,  1., ...,  2.,  3., 14.],\n",
              "       [ 3.,  4.,  0., ...,  2.,  2., 14.],\n",
              "       [ 7.,  3.,  2., ...,  0.,  4., 17.]])"
            ]
          },
          "metadata": {
            "tags": []
          },
          "execution_count": 17
        }
      ]
    },
    {
      "cell_type": "code",
      "metadata": {
        "id": "8dhK82afYFHz",
        "colab": {
          "base_uri": "https://localhost:8080/",
          "height": 71
        },
        "outputId": "edf3b6c8-3d36-4948-9056-0bbc4734b1b6"
      },
      "source": [
        "bordeauxMatrices = np.zeros((38, 225))\n",
        "bordeauxMatrices = getTeamMatrices(3772)"
      ],
      "execution_count": null,
      "outputs": [
        {
          "output_type": "stream",
          "text": [
            "/usr/local/lib/python3.6/dist-packages/ipykernel_launcher.py:2: DeprecationWarning: The default dtype for empty Series will be 'object' instead of 'float64' in a future version. Specify a dtype explicitly to silence this warning.\n",
            "  \n"
          ],
          "name": "stderr"
        }
      ]
    },
    {
      "cell_type": "code",
      "metadata": {
        "id": "lYD0CHoJYFYx",
        "colab": {
          "base_uri": "https://localhost:8080/",
          "height": 136
        },
        "outputId": "8e8c5f01-5752-449d-bba0-1082e9822d42"
      },
      "source": [
        "bordeauxMatrices"
      ],
      "execution_count": null,
      "outputs": [
        {
          "output_type": "execute_result",
          "data": {
            "text/plain": [
              "array([[ 4.,  3.,  1., ...,  2.,  4., 10.],\n",
              "       [ 4.,  3.,  1., ...,  3.,  7., 22.],\n",
              "       [ 1.,  1.,  1., ...,  1.,  4., 22.],\n",
              "       ...,\n",
              "       [ 3.,  6.,  3., ...,  5.,  2., 12.],\n",
              "       [ 0.,  2.,  1., ...,  4.,  3.,  9.],\n",
              "       [ 4.,  7.,  1., ...,  1.,  6.,  9.]])"
            ]
          },
          "metadata": {
            "tags": []
          },
          "execution_count": 19
        }
      ]
    },
    {
      "cell_type": "code",
      "metadata": {
        "id": "GKmizbnJYFd4",
        "colab": {
          "base_uri": "https://localhost:8080/",
          "height": 71
        },
        "outputId": "f9ceb958-5ea6-46e9-b965-f2d7310c2d4f"
      },
      "source": [
        "saintEtienneMatrices = np.zeros((38, 225))\n",
        "saintEtienneMatrices = getTeamMatrices(3782)"
      ],
      "execution_count": null,
      "outputs": [
        {
          "output_type": "stream",
          "text": [
            "/usr/local/lib/python3.6/dist-packages/ipykernel_launcher.py:2: DeprecationWarning: The default dtype for empty Series will be 'object' instead of 'float64' in a future version. Specify a dtype explicitly to silence this warning.\n",
            "  \n"
          ],
          "name": "stderr"
        }
      ]
    },
    {
      "cell_type": "code",
      "metadata": {
        "id": "kxCyNnfAYFv5",
        "colab": {
          "base_uri": "https://localhost:8080/",
          "height": 136
        },
        "outputId": "e47371b4-0079-4557-8f77-85772b5bd98e"
      },
      "source": [
        "saintEtienneMatrices"
      ],
      "execution_count": null,
      "outputs": [
        {
          "output_type": "execute_result",
          "data": {
            "text/plain": [
              "array([[ 9.,  5.,  1., ...,  2.,  2.,  7.],\n",
              "       [ 7.,  3.,  2., ...,  2.,  3.,  9.],\n",
              "       [ 2.,  1.,  4., ...,  0.,  1.,  7.],\n",
              "       ...,\n",
              "       [ 3.,  2.,  3., ...,  0.,  1.,  5.],\n",
              "       [ 4.,  3.,  3., ...,  2.,  3.,  9.],\n",
              "       [ 3., 16.,  1., ...,  2.,  8., 26.]])"
            ]
          },
          "metadata": {
            "tags": []
          },
          "execution_count": 21
        }
      ]
    },
    {
      "cell_type": "code",
      "metadata": {
        "id": "wTggY3BgYF0r",
        "colab": {
          "base_uri": "https://localhost:8080/",
          "height": 71
        },
        "outputId": "3cef9b4c-f0d4-4762-cd11-aae3cea00faf"
      },
      "source": [
        "niceMatrices = np.zeros((38, 225))\n",
        "niceMatrices = getTeamMatrices(3775)"
      ],
      "execution_count": null,
      "outputs": [
        {
          "output_type": "stream",
          "text": [
            "/usr/local/lib/python3.6/dist-packages/ipykernel_launcher.py:2: DeprecationWarning: The default dtype for empty Series will be 'object' instead of 'float64' in a future version. Specify a dtype explicitly to silence this warning.\n",
            "  \n"
          ],
          "name": "stderr"
        }
      ]
    },
    {
      "cell_type": "code",
      "metadata": {
        "id": "jMWfa83wYGE6",
        "colab": {
          "base_uri": "https://localhost:8080/",
          "height": 136
        },
        "outputId": "e05a00c0-b529-41e3-d361-14956cdf7555"
      },
      "source": [
        "niceMatrices"
      ],
      "execution_count": null,
      "outputs": [
        {
          "output_type": "execute_result",
          "data": {
            "text/plain": [
              "array([[ 6.,  5.,  2., ...,  3., 13.,  7.],\n",
              "       [ 3.,  2.,  0., ...,  1.,  8., 21.],\n",
              "       [ 7.,  1.,  3., ...,  1.,  4.,  4.],\n",
              "       ...,\n",
              "       [ 2.,  5.,  3., ...,  2.,  2.,  6.],\n",
              "       [ 9.,  7.,  2., ...,  0.,  9., 11.],\n",
              "       [ 6.,  3.,  1., ...,  0.,  7.,  2.]])"
            ]
          },
          "metadata": {
            "tags": []
          },
          "execution_count": 23
        }
      ]
    },
    {
      "cell_type": "code",
      "metadata": {
        "id": "e37WhzuZYGJ3",
        "colab": {
          "base_uri": "https://localhost:8080/",
          "height": 71
        },
        "outputId": "dce1e3b7-0eff-4169-ed44-6786e87a714a"
      },
      "source": [
        "nantesMatrices = np.zeros((38, 225))\n",
        "nantesMatrices = getTeamMatrices(3770)"
      ],
      "execution_count": null,
      "outputs": [
        {
          "output_type": "stream",
          "text": [
            "/usr/local/lib/python3.6/dist-packages/ipykernel_launcher.py:2: DeprecationWarning: The default dtype for empty Series will be 'object' instead of 'float64' in a future version. Specify a dtype explicitly to silence this warning.\n",
            "  \n"
          ],
          "name": "stderr"
        }
      ]
    },
    {
      "cell_type": "code",
      "metadata": {
        "id": "gKNJa-2OYGY6",
        "colab": {
          "base_uri": "https://localhost:8080/",
          "height": 136
        },
        "outputId": "a0e07ed6-0c36-44e0-d568-82bfdfde7222"
      },
      "source": [
        "nantesMatrices"
      ],
      "execution_count": null,
      "outputs": [
        {
          "output_type": "execute_result",
          "data": {
            "text/plain": [
              "array([[ 6.,  5.,  0., ...,  2.,  1.,  8.],\n",
              "       [ 5.,  1.,  0., ...,  2.,  4.,  3.],\n",
              "       [ 0.,  2.,  1., ...,  2.,  5., 11.],\n",
              "       ...,\n",
              "       [ 2.,  1.,  2., ...,  2.,  3.,  9.],\n",
              "       [ 4.,  0.,  2., ...,  4.,  9., 18.],\n",
              "       [ 3.,  1.,  1., ...,  1.,  4.,  6.]])"
            ]
          },
          "metadata": {
            "tags": []
          },
          "execution_count": 25
        }
      ]
    },
    {
      "cell_type": "code",
      "metadata": {
        "id": "AaXEc0IDYGdz",
        "colab": {
          "base_uri": "https://localhost:8080/",
          "height": 71
        },
        "outputId": "617d90a7-b971-4eed-db69-297ffa3c5831"
      },
      "source": [
        "montpellierMatrices = np.zeros((38, 225))\n",
        "montpellierMatrices = getTeamMatrices(3787)"
      ],
      "execution_count": null,
      "outputs": [
        {
          "output_type": "stream",
          "text": [
            "/usr/local/lib/python3.6/dist-packages/ipykernel_launcher.py:2: DeprecationWarning: The default dtype for empty Series will be 'object' instead of 'float64' in a future version. Specify a dtype explicitly to silence this warning.\n",
            "  \n"
          ],
          "name": "stderr"
        }
      ]
    },
    {
      "cell_type": "code",
      "metadata": {
        "id": "TYbQhCNyYGt8",
        "colab": {
          "base_uri": "https://localhost:8080/",
          "height": 136
        },
        "outputId": "0f3b96fa-7101-447e-b89d-b7dddfffd4ce"
      },
      "source": [
        "montpellierMatrices"
      ],
      "execution_count": null,
      "outputs": [
        {
          "output_type": "execute_result",
          "data": {
            "text/plain": [
              "array([[ 0.,  6.,  1., ...,  3.,  4.,  6.],\n",
              "       [ 2.,  3.,  1., ...,  0.,  1., 10.],\n",
              "       [ 5.,  5.,  0., ...,  3.,  1.,  8.],\n",
              "       ...,\n",
              "       [ 5.,  4.,  2., ...,  1.,  2.,  3.],\n",
              "       [ 4.,  8.,  4., ...,  3., 10.,  6.],\n",
              "       [ 7.,  3.,  2., ...,  2.,  1.,  4.]])"
            ]
          },
          "metadata": {
            "tags": []
          },
          "execution_count": 27
        }
      ]
    },
    {
      "cell_type": "code",
      "metadata": {
        "id": "quR14GXdYGzV",
        "colab": {
          "base_uri": "https://localhost:8080/",
          "height": 71
        },
        "outputId": "fbc57ecf-24c6-470f-dba4-5c800007ec1e"
      },
      "source": [
        "dijonMatrices = np.zeros((38, 225))\n",
        "dijonMatrices = getTeamMatrices(3804)"
      ],
      "execution_count": null,
      "outputs": [
        {
          "output_type": "stream",
          "text": [
            "/usr/local/lib/python3.6/dist-packages/ipykernel_launcher.py:2: DeprecationWarning: The default dtype for empty Series will be 'object' instead of 'float64' in a future version. Specify a dtype explicitly to silence this warning.\n",
            "  \n"
          ],
          "name": "stderr"
        }
      ]
    },
    {
      "cell_type": "code",
      "metadata": {
        "id": "l4wz494uYHKr",
        "colab": {
          "base_uri": "https://localhost:8080/",
          "height": 136
        },
        "outputId": "47fee3f6-f417-4002-c91e-78c76476cbf0"
      },
      "source": [
        "dijonMatrices"
      ],
      "execution_count": null,
      "outputs": [
        {
          "output_type": "execute_result",
          "data": {
            "text/plain": [
              "array([[ 0.,  0.,  1., ...,  0.,  6.,  3.],\n",
              "       [ 2.,  5.,  2., ...,  6.,  4., 13.],\n",
              "       [ 2.,  4.,  2., ...,  2.,  4.,  5.],\n",
              "       ...,\n",
              "       [ 2.,  8.,  1., ...,  1.,  3.,  4.],\n",
              "       [ 0.,  5.,  2., ...,  1.,  3.,  6.],\n",
              "       [ 5.,  3.,  5., ...,  0.,  1.,  1.]])"
            ]
          },
          "metadata": {
            "tags": []
          },
          "execution_count": 29
        }
      ]
    },
    {
      "cell_type": "code",
      "metadata": {
        "id": "LJ6dNX3uYHQL",
        "colab": {
          "base_uri": "https://localhost:8080/",
          "height": 71
        },
        "outputId": "c40d420e-8156-4594-c1c8-ec6f2e32df4a"
      },
      "source": [
        "guingumpMatrices = np.zeros((38, 225))\n",
        "guingumpMatrices = getTeamMatrices(3785)"
      ],
      "execution_count": null,
      "outputs": [
        {
          "output_type": "stream",
          "text": [
            "/usr/local/lib/python3.6/dist-packages/ipykernel_launcher.py:2: DeprecationWarning: The default dtype for empty Series will be 'object' instead of 'float64' in a future version. Specify a dtype explicitly to silence this warning.\n",
            "  \n"
          ],
          "name": "stderr"
        }
      ]
    },
    {
      "cell_type": "code",
      "metadata": {
        "id": "CSYTE6YUYHhi",
        "colab": {
          "base_uri": "https://localhost:8080/",
          "height": 136
        },
        "outputId": "1153cde6-4b8e-4b94-ab4e-c995ee39b476"
      },
      "source": [
        "guingumpMatrices"
      ],
      "execution_count": null,
      "outputs": [
        {
          "output_type": "execute_result",
          "data": {
            "text/plain": [
              "array([[1., 3., 0., ..., 0., 3., 1.],\n",
              "       [0., 1., 0., ..., 1., 1., 1.],\n",
              "       [0., 0., 0., ..., 0., 3., 7.],\n",
              "       ...,\n",
              "       [3., 1., 0., ..., 1., 0., 3.],\n",
              "       [1., 2., 0., ..., 0., 2., 9.],\n",
              "       [0., 0., 0., ..., 0., 2., 2.]])"
            ]
          },
          "metadata": {
            "tags": []
          },
          "execution_count": 20
        }
      ]
    },
    {
      "cell_type": "code",
      "metadata": {
        "id": "osVEadMoYHnI",
        "colab": {
          "base_uri": "https://localhost:8080/",
          "height": 71
        },
        "outputId": "5af807cd-1f70-4101-cf5f-f71c1ec99f0c"
      },
      "source": [
        "amiensMatrices = np.zeros((38, 225))\n",
        "amiensMatrices = getTeamMatrices(3789)"
      ],
      "execution_count": null,
      "outputs": [
        {
          "output_type": "stream",
          "text": [
            "/usr/local/lib/python3.6/dist-packages/ipykernel_launcher.py:2: DeprecationWarning: The default dtype for empty Series will be 'object' instead of 'float64' in a future version. Specify a dtype explicitly to silence this warning.\n",
            "  \n"
          ],
          "name": "stderr"
        }
      ]
    },
    {
      "cell_type": "code",
      "metadata": {
        "id": "Uiakb4gZYH5y",
        "colab": {
          "base_uri": "https://localhost:8080/",
          "height": 136
        },
        "outputId": "684a0853-8fe8-4fd1-d0a6-f29c50a9547b"
      },
      "source": [
        "amiensMatrices"
      ],
      "execution_count": null,
      "outputs": [
        {
          "output_type": "execute_result",
          "data": {
            "text/plain": [
              "array([[ 4.,  4.,  1., ...,  1.,  3.,  3.],\n",
              "       [ 5.,  4.,  2., ...,  0.,  5., 13.],\n",
              "       [ 5.,  4.,  1., ...,  2.,  3.,  5.],\n",
              "       ...,\n",
              "       [ 3.,  4.,  1., ...,  2.,  5.,  7.],\n",
              "       [ 1.,  4.,  2., ...,  0.,  5., 11.],\n",
              "       [ 4.,  5.,  3., ...,  0.,  0.,  4.]])"
            ]
          },
          "metadata": {
            "tags": []
          },
          "execution_count": 33
        }
      ]
    },
    {
      "cell_type": "code",
      "metadata": {
        "id": "6JAegKkfYH-5",
        "colab": {
          "base_uri": "https://localhost:8080/",
          "height": 71
        },
        "outputId": "667d3180-8682-4e88-d040-18d841719aa4"
      },
      "source": [
        "angersMatrices = np.zeros((38, 225))\n",
        "angersMatrices = getTeamMatrices(3799)"
      ],
      "execution_count": null,
      "outputs": [
        {
          "output_type": "stream",
          "text": [
            "/usr/local/lib/python3.6/dist-packages/ipykernel_launcher.py:2: DeprecationWarning: The default dtype for empty Series will be 'object' instead of 'float64' in a future version. Specify a dtype explicitly to silence this warning.\n",
            "  \n"
          ],
          "name": "stderr"
        }
      ]
    },
    {
      "cell_type": "code",
      "metadata": {
        "id": "3XYbowTzYIQ1",
        "colab": {
          "base_uri": "https://localhost:8080/",
          "height": 136
        },
        "outputId": "b5f2425c-08fe-4b4b-b7b0-119c2e6c7e25"
      },
      "source": [
        "angersMatrices"
      ],
      "execution_count": null,
      "outputs": [
        {
          "output_type": "execute_result",
          "data": {
            "text/plain": [
              "array([[ 7.,  6.,  0., ...,  1.,  3.,  3.],\n",
              "       [ 4.,  2.,  1., ...,  0.,  4.,  6.],\n",
              "       [ 6.,  1.,  1., ...,  2.,  2.,  4.],\n",
              "       ...,\n",
              "       [ 3.,  3.,  2., ...,  0.,  4.,  9.],\n",
              "       [ 5.,  3.,  0., ...,  3.,  7.,  5.],\n",
              "       [ 4.,  7.,  3., ...,  2.,  2., 10.]])"
            ]
          },
          "metadata": {
            "tags": []
          },
          "execution_count": 35
        }
      ]
    },
    {
      "cell_type": "code",
      "metadata": {
        "id": "mZbcg87NYIVq",
        "colab": {
          "base_uri": "https://localhost:8080/",
          "height": 71
        },
        "outputId": "309a07e9-37a3-4740-96c8-99151a580810"
      },
      "source": [
        "strasburgMatrices = np.zeros((38, 225))\n",
        "strasburgMatrices = getTeamMatrices(3779)"
      ],
      "execution_count": null,
      "outputs": [
        {
          "output_type": "stream",
          "text": [
            "/usr/local/lib/python3.6/dist-packages/ipykernel_launcher.py:2: DeprecationWarning: The default dtype for empty Series will be 'object' instead of 'float64' in a future version. Specify a dtype explicitly to silence this warning.\n",
            "  \n"
          ],
          "name": "stderr"
        }
      ]
    },
    {
      "cell_type": "code",
      "metadata": {
        "id": "WAbndna5YInS",
        "colab": {
          "base_uri": "https://localhost:8080/",
          "height": 136
        },
        "outputId": "149bd177-7565-4c76-a05c-fe3dda8f1ddf"
      },
      "source": [
        "strasburgMatrices"
      ],
      "execution_count": null,
      "outputs": [
        {
          "output_type": "execute_result",
          "data": {
            "text/plain": [
              "array([[ 5.,  3.,  1., ...,  1.,  3.,  4.],\n",
              "       [ 0.,  1.,  1., ...,  3.,  2.,  7.],\n",
              "       [ 5.,  5.,  1., ...,  1.,  0.,  0.],\n",
              "       ...,\n",
              "       [ 4.,  7.,  1., ...,  1.,  2.,  3.],\n",
              "       [ 2.,  2.,  0., ...,  2.,  3.,  1.],\n",
              "       [11.,  2.,  3., ...,  0.,  3., 17.]])"
            ]
          },
          "metadata": {
            "tags": []
          },
          "execution_count": 37
        }
      ]
    },
    {
      "cell_type": "code",
      "metadata": {
        "id": "q4FoEA3QYItA",
        "colab": {
          "base_uri": "https://localhost:8080/",
          "height": 71
        },
        "outputId": "03be2748-82c9-4598-d7bc-b41fe1b00cc8"
      },
      "source": [
        "caenMatrices = np.zeros((38, 225))\n",
        "caenMatrices = getTeamMatrices(3783)"
      ],
      "execution_count": null,
      "outputs": [
        {
          "output_type": "stream",
          "text": [
            "/usr/local/lib/python3.6/dist-packages/ipykernel_launcher.py:2: DeprecationWarning: The default dtype for empty Series will be 'object' instead of 'float64' in a future version. Specify a dtype explicitly to silence this warning.\n",
            "  \n"
          ],
          "name": "stderr"
        }
      ]
    },
    {
      "cell_type": "code",
      "metadata": {
        "id": "HjWKbUZbYI_D",
        "colab": {
          "base_uri": "https://localhost:8080/",
          "height": 136
        },
        "outputId": "566508d9-1167-4821-b459-02211114abd4"
      },
      "source": [
        "caenMatrices"
      ],
      "execution_count": null,
      "outputs": [
        {
          "output_type": "execute_result",
          "data": {
            "text/plain": [
              "array([[ 6.,  2.,  0., ...,  1.,  1.,  1.],\n",
              "       [ 6.,  3.,  3., ...,  4.,  1., 10.],\n",
              "       [ 8.,  1.,  0., ...,  0.,  3.,  1.],\n",
              "       ...,\n",
              "       [ 4.,  3.,  0., ...,  3.,  2.,  5.],\n",
              "       [ 1.,  3.,  0., ...,  1.,  3.,  7.],\n",
              "       [ 5.,  2.,  0., ...,  1.,  5.,  4.]])"
            ]
          },
          "metadata": {
            "tags": []
          },
          "execution_count": 39
        }
      ]
    },
    {
      "cell_type": "code",
      "metadata": {
        "id": "M7oE31l4YJEX",
        "colab": {
          "base_uri": "https://localhost:8080/",
          "height": 71
        },
        "outputId": "e2dc0909-a5df-43bf-f7d8-abfec9d4365e"
      },
      "source": [
        "lilleMatrices = np.zeros((38, 225))\n",
        "lilleMatrices = getTeamMatrices(3776)"
      ],
      "execution_count": null,
      "outputs": [
        {
          "output_type": "stream",
          "text": [
            "/usr/local/lib/python3.6/dist-packages/ipykernel_launcher.py:2: DeprecationWarning: The default dtype for empty Series will be 'object' instead of 'float64' in a future version. Specify a dtype explicitly to silence this warning.\n",
            "  \n"
          ],
          "name": "stderr"
        }
      ]
    },
    {
      "cell_type": "code",
      "metadata": {
        "id": "pOl1PjoaYJVK",
        "colab": {
          "base_uri": "https://localhost:8080/",
          "height": 136
        },
        "outputId": "f5dc0e98-3e02-44a8-e225-ce6c09779e16"
      },
      "source": [
        "lilleMatrices"
      ],
      "execution_count": null,
      "outputs": [
        {
          "output_type": "execute_result",
          "data": {
            "text/plain": [
              "array([[ 8.,  4.,  5., ...,  1.,  4.,  8.],\n",
              "       [ 7.,  5.,  0., ...,  0.,  5.,  9.],\n",
              "       [ 3.,  1.,  2., ...,  4.,  5.,  8.],\n",
              "       ...,\n",
              "       [ 1.,  3.,  0., ...,  1.,  1.,  9.],\n",
              "       [ 3.,  3.,  1., ...,  2., 11., 19.],\n",
              "       [ 2.,  1.,  4., ...,  1., 17., 25.]])"
            ]
          },
          "metadata": {
            "tags": []
          },
          "execution_count": 41
        }
      ]
    },
    {
      "cell_type": "code",
      "metadata": {
        "id": "ssDsWdvgYJZ7",
        "colab": {
          "base_uri": "https://localhost:8080/",
          "height": 71
        },
        "outputId": "2ad2fe17-77cd-46cf-e3aa-987dff6a93f8"
      },
      "source": [
        "touloseMatrices = np.zeros((38, 225))\n",
        "touloseMatrices = getTeamMatrices(3780)"
      ],
      "execution_count": null,
      "outputs": [
        {
          "output_type": "stream",
          "text": [
            "/usr/local/lib/python3.6/dist-packages/ipykernel_launcher.py:2: DeprecationWarning: The default dtype for empty Series will be 'object' instead of 'float64' in a future version. Specify a dtype explicitly to silence this warning.\n",
            "  \n"
          ],
          "name": "stderr"
        }
      ]
    },
    {
      "cell_type": "code",
      "metadata": {
        "id": "9KTDA-7EYJq7",
        "colab": {
          "base_uri": "https://localhost:8080/",
          "height": 136
        },
        "outputId": "486e2d75-ea0b-4a30-ad3b-1f3dc6f146d1"
      },
      "source": [
        "touloseMatrices"
      ],
      "execution_count": null,
      "outputs": [
        {
          "output_type": "execute_result",
          "data": {
            "text/plain": [
              "array([[ 1.,  2.,  0., ...,  0.,  1.,  6.],\n",
              "       [ 2.,  3.,  0., ...,  3.,  1., 10.],\n",
              "       [ 0.,  0.,  1., ...,  1.,  2.,  3.],\n",
              "       ...,\n",
              "       [ 5.,  1.,  1., ...,  0.,  2.,  2.],\n",
              "       [ 4.,  2.,  1., ...,  1.,  1.,  4.],\n",
              "       [ 3.,  1.,  1., ...,  2.,  3.,  4.]])"
            ]
          },
          "metadata": {
            "tags": []
          },
          "execution_count": 43
        }
      ]
    },
    {
      "cell_type": "code",
      "metadata": {
        "id": "Gr7HlgsEYJwb",
        "colab": {
          "base_uri": "https://localhost:8080/",
          "height": 71
        },
        "outputId": "19ceaf2f-3c9c-4a1c-f5b4-cec3c0b3f232"
      },
      "source": [
        "troyesMatrices = np.zeros((38, 225))\n",
        "troyesMatrices = getTeamMatrices(3795)"
      ],
      "execution_count": null,
      "outputs": [
        {
          "output_type": "stream",
          "text": [
            "/usr/local/lib/python3.6/dist-packages/ipykernel_launcher.py:2: DeprecationWarning: The default dtype for empty Series will be 'object' instead of 'float64' in a future version. Specify a dtype explicitly to silence this warning.\n",
            "  \n"
          ],
          "name": "stderr"
        }
      ]
    },
    {
      "cell_type": "code",
      "metadata": {
        "id": "ngHLCGQcYKBf",
        "colab": {
          "base_uri": "https://localhost:8080/",
          "height": 136
        },
        "outputId": "4be15640-b804-479a-9c65-9d87e9ca4465"
      },
      "source": [
        "troyesMatrices"
      ],
      "execution_count": null,
      "outputs": [
        {
          "output_type": "execute_result",
          "data": {
            "text/plain": [
              "array([[ 7.,  2.,  1., ...,  0.,  1.,  0.],\n",
              "       [ 4.,  2.,  0., ...,  2.,  3.,  8.],\n",
              "       [ 2.,  4.,  2., ...,  0.,  8.,  7.],\n",
              "       ...,\n",
              "       [ 8.,  3.,  1., ...,  2.,  6., 16.],\n",
              "       [ 8.,  7.,  0., ...,  0.,  7., 12.],\n",
              "       [ 4.,  5.,  1., ...,  6.,  6., 21.]])"
            ]
          },
          "metadata": {
            "tags": []
          },
          "execution_count": 45
        }
      ]
    },
    {
      "cell_type": "code",
      "metadata": {
        "id": "76b76463YKF0",
        "colab": {
          "base_uri": "https://localhost:8080/",
          "height": 71
        },
        "outputId": "6b3c71bd-e0b8-417b-e87c-1c774fefa13b"
      },
      "source": [
        "metzMatrices = np.zeros((38, 225))\n",
        "metzMatrices = getTeamMatrices(3777)"
      ],
      "execution_count": null,
      "outputs": [
        {
          "output_type": "stream",
          "text": [
            "/usr/local/lib/python3.6/dist-packages/ipykernel_launcher.py:2: DeprecationWarning: The default dtype for empty Series will be 'object' instead of 'float64' in a future version. Specify a dtype explicitly to silence this warning.\n",
            "  \n"
          ],
          "name": "stderr"
        }
      ]
    },
    {
      "cell_type": "code",
      "metadata": {
        "id": "MI1td_70YKbK",
        "colab": {
          "base_uri": "https://localhost:8080/",
          "height": 136
        },
        "outputId": "f69dc42c-0cd3-4684-e231-b5c1738af4bf"
      },
      "source": [
        "metzMatrices"
      ],
      "execution_count": null,
      "outputs": [
        {
          "output_type": "execute_result",
          "data": {
            "text/plain": [
              "array([[ 1.,  4.,  1., ...,  2.,  4., 14.],\n",
              "       [ 0.,  1.,  0., ...,  2.,  4., 12.],\n",
              "       [ 2.,  4.,  0., ...,  1.,  2., 14.],\n",
              "       ...,\n",
              "       [ 5.,  2.,  1., ...,  1.,  0.,  5.],\n",
              "       [ 6.,  1.,  1., ...,  4.,  7., 13.],\n",
              "       [ 5.,  2.,  1., ...,  0.,  4., 12.]])"
            ]
          },
          "metadata": {
            "tags": []
          },
          "execution_count": 47
        }
      ]
    },
    {
      "cell_type": "code",
      "metadata": {
        "id": "d6efTeXXXIfG",
        "colab": {
          "base_uri": "https://localhost:8080/",
          "height": 17
        },
        "outputId": "18314f42-5bc2-4631-d801-0dada6956f4e"
      },
      "source": [
        "from google.colab import files\n",
        "import pickle\n",
        "with open('Ligue1.pickle', 'wb') as f:\n",
        "  pickle.dump([psgMatrices, monacoMatrices, lyonMatrices, marseilleMatrices, rennesMatrices, bordeauxMatrices, saintEtienneMatrices, niceMatrices, nantesMatrices, montpellierMatrices, dijonMatrices, guingumpMatrices, amiensMatrices, angersMatrices, strasburgMatrices, caenMatrices, lilleMatrices, touloseMatrices, troyesMatrices, metzMatrices], f)\n",
        "files.download('Ligue1.pickle')  "
      ],
      "execution_count": null,
      "outputs": [
        {
          "output_type": "display_data",
          "data": {
            "application/javascript": [
              "\n",
              "    async function download(id, filename, size) {\n",
              "      if (!google.colab.kernel.accessAllowed) {\n",
              "        return;\n",
              "      }\n",
              "      const div = document.createElement('div');\n",
              "      const label = document.createElement('label');\n",
              "      label.textContent = `Downloading \"${filename}\": `;\n",
              "      div.appendChild(label);\n",
              "      const progress = document.createElement('progress');\n",
              "      progress.max = size;\n",
              "      div.appendChild(progress);\n",
              "      document.body.appendChild(div);\n",
              "\n",
              "      const buffers = [];\n",
              "      let downloaded = 0;\n",
              "\n",
              "      const channel = await google.colab.kernel.comms.open(id);\n",
              "      // Send a message to notify the kernel that we're ready.\n",
              "      channel.send({})\n",
              "\n",
              "      for await (const message of channel.messages) {\n",
              "        // Send a message to notify the kernel that we're ready.\n",
              "        channel.send({})\n",
              "        if (message.buffers) {\n",
              "          for (const buffer of message.buffers) {\n",
              "            buffers.push(buffer);\n",
              "            downloaded += buffer.byteLength;\n",
              "            progress.value = downloaded;\n",
              "          }\n",
              "        }\n",
              "      }\n",
              "      const blob = new Blob(buffers, {type: 'application/binary'});\n",
              "      const a = document.createElement('a');\n",
              "      a.href = window.URL.createObjectURL(blob);\n",
              "      a.download = filename;\n",
              "      div.appendChild(a);\n",
              "      a.click();\n",
              "      div.remove();\n",
              "    }\n",
              "  "
            ],
            "text/plain": [
              "<IPython.core.display.Javascript object>"
            ]
          },
          "metadata": {
            "tags": []
          }
        },
        {
          "output_type": "display_data",
          "data": {
            "application/javascript": [
              "download(\"download_06611932-7db9-4fee-a412-eecf61111a19\", \"Ligue1.pickle\", 1368944)"
            ],
            "text/plain": [
              "<IPython.core.display.Javascript object>"
            ]
          },
          "metadata": {
            "tags": []
          }
        }
      ]
    }
  ]
}