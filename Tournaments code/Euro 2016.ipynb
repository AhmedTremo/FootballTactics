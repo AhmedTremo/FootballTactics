{
  "nbformat": 4,
  "nbformat_minor": 0,
  "metadata": {
    "colab": {
      "name": "European Championship.ipynb",
      "provenance": []
    },
    "kernelspec": {
      "name": "python3",
      "display_name": "Python 3"
    }
  },
  "cells": [
    {
      "cell_type": "code",
      "metadata": {
        "id": "V0_hbacSevjA",
        "colab": {
          "base_uri": "https://localhost:8080/",
          "height": 51
        },
        "outputId": "488623bf-f079-4b47-c7aa-d37082016d31"
      },
      "source": [
        "import pandas as pd\n",
        "from pandas.io.json import json_normalize\n",
        "import json\n",
        "import numpy as np\n",
        "import networkx as nx\n",
        "import pylab as plt\n",
        "\n",
        "eventsEuropean_Championship = pd.read_json('/content/drive/My Drive/bachelor data/events/events_European_Championship.json')\n",
        "matchesEuropean_Championship = pd.read_json(\"/content/drive/My Drive/bachelor data/matches/matches_European_Championship.json\")\n",
        "tagsName = pd.read_csv(\"/content/drive/My Drive/bachelor data/tags2name.csv\")\n",
        "with open('/content/drive/My Drive/bachelor data/events/events_European_Championship.json') as f:\n",
        "    d = json.load(f)\n",
        "tags = json_normalize(data=d, record_path='tags', meta=['id'], record_prefix='_')\n",
        "teams = pd.read_json(\"/content/drive/My Drive/bachelor data/teams.json\")\n",
        "eventsEuropean_ChampionshipTags = pd.merge(eventsEuropean_Championship,\n",
        "                       tags,\n",
        "                       on='id')"
      ],
      "execution_count": null,
      "outputs": [
        {
          "output_type": "stream",
          "text": [
            "/usr/local/lib/python3.6/dist-packages/ipykernel_launcher.py:13: FutureWarning: pandas.io.json.json_normalize is deprecated, use pandas.json_normalize instead\n",
            "  del sys.path[0]\n"
          ],
          "name": "stderr"
        }
      ]
    },
    {
      "cell_type": "code",
      "metadata": {
        "id": "_YqhgQm9faQL"
      },
      "source": [
        "def checkZones2(dataframe, columnName):\n",
        "  resultSeries = pd.Series([])\n",
        "  i = -1\n",
        "  for index, row in dataframe.iterrows():\n",
        "    x = (row[columnName])['x']\n",
        "    y = (row[columnName])['y']\n",
        "    index = i + 1\n",
        "    resultSeries = resultSeries.append(pd.Series([int(((x // 33.3) * 5) + 1 + (y // 20))]), ignore_index=True)\n",
        "  return resultSeries"
      ],
      "execution_count": null,
      "outputs": []
    },
    {
      "cell_type": "code",
      "metadata": {
        "id": "0DXvAizWfcqg"
      },
      "source": [
        "# Filling 2D matrix of Barcelona team with corresponding passes\n",
        "def get2dMatrix(passesDataframe, senderColumnName, RecipientColumnName):\n",
        "  arr = np.arange(225).reshape(15,15)\n",
        "  i = 0\n",
        "  j = 0\n",
        "  passCount = 0\n",
        "  for i in range(15):\n",
        "    for j in range(15):\n",
        "      passCount = 0\n",
        "      for index, row in passesDataframe.iterrows():\n",
        "        if(row[senderColumnName] == i+1 and  row[RecipientColumnName] == j+1):\n",
        "          passCount += 1\n",
        "        arr[i][j] = passCount    \n",
        "      j += 1\n",
        "    i += 1 \n",
        "  return arr"
      ],
      "execution_count": null,
      "outputs": []
    },
    {
      "cell_type": "code",
      "metadata": {
        "id": "zTlloO0zfedx"
      },
      "source": [
        "def getTeamMatrix(teamId, teamMatchId):\n",
        "  \n",
        "  # Getting Successful passes of specific team in specific match\n",
        "  successfulPasses = eventsEuropean_ChampionshipTags[(eventsEuropean_ChampionshipTags['teamId'] == teamId) & (eventsEuropean_ChampionshipTags['matchId'] == teamMatchId) & (eventsEuropean_ChampionshipTags['eventId'] == 8) & (eventsEuropean_ChampionshipTags['_id'] == 1801)]\n",
        "  successfulPasses.reset_index(level=0, inplace=True)\n",
        "\n",
        "  # Adding Sender/Recipient positions\n",
        "  successfulPasses2 = successfulPasses['positions'].sum()\n",
        "  del successfulPasses2[1::2]\n",
        "  x2 = pd.Series(successfulPasses2)\n",
        "  successfulPassesSender = pd.concat([successfulPasses, pd.DataFrame(x2)], axis=1)\n",
        "  successfulPassesSender.rename(columns = {0:'Sender'}, inplace = True)\n",
        "\n",
        "  successfulPasses1 = successfulPassesSender['positions'].sum()\n",
        "  del successfulPasses1[0::2]\n",
        "  x = pd.Series(successfulPasses1)\n",
        "  successfulPassesSenderRecipient = pd.concat([successfulPassesSender, pd.DataFrame(x)], axis=1)\n",
        "  successfulPassesSenderRecipient.rename(columns = {0:'Recepient'}, inplace = True) \n",
        "\n",
        "  # Adding Sender/Recipient zones\n",
        "\n",
        "  zoneSeriesSender = checkZones2(successfulPassesSenderRecipient, 'Sender')\n",
        "  zoneDataframeSender = pd.DataFrame(zoneSeriesSender)\n",
        "  zoneDataframeSender.rename(columns = {0:'SenderZone'}, inplace = True)\n",
        "\n",
        "  zoneSeriesRecipient = checkZones2(successfulPassesSenderRecipient, 'Recepient')\n",
        "  zoneDataframeRecipient = pd.DataFrame(zoneSeriesRecipient)\n",
        "  zoneDataframeRecipient.rename(columns = {0:'RecipientZone'}, inplace = True)\n",
        "\n",
        "  successfulPassesSenderRecipientZ = pd.concat([successfulPassesSenderRecipient, zoneDataframeSender], axis=1)\n",
        "  successfulPassesSenderRecipientZone = pd.concat([successfulPassesSenderRecipientZ, zoneDataframeRecipient], axis=1)\n",
        "  \n",
        "  # returning the 2D passes Matrix\n",
        "  return get2dMatrix(successfulPassesSenderRecipientZone, 'SenderZone', 'RecipientZone').flatten()"
      ],
      "execution_count": null,
      "outputs": []
    },
    {
      "cell_type": "code",
      "metadata": {
        "id": "Zx4S3AYRfiJZ"
      },
      "source": [
        "def getTeamMatches(teamId):\n",
        "  teamMatchesIds = np.array([])\n",
        "  eventsEuropean_ChampionshipTeam = eventsEuropean_Championship[eventsEuropean_Championship['teamId'] == teamId]\n",
        "  teamMatchesIds = eventsEuropean_ChampionshipTeam.matchId.unique()\n",
        "  return teamMatchesIds"
      ],
      "execution_count": null,
      "outputs": []
    },
    {
      "cell_type": "code",
      "metadata": {
        "id": "u7VIWN5jflWk"
      },
      "source": [
        "def getTeamMatrices(teamId):\n",
        "  teamMatches = getTeamMatches(teamId)\n",
        "  teamMatrices = np.zeros((len(teamMatches), 225))\n",
        "  for i in range(len(teamMatches)):\n",
        "    teamMatrices[i] = getTeamMatrix(teamId, teamMatches[i])\n",
        "  return teamMatrices"
      ],
      "execution_count": null,
      "outputs": []
    },
    {
      "cell_type": "code",
      "metadata": {
        "id": "eK1PZ_E3gC0p",
        "colab": {
          "base_uri": "https://localhost:8080/",
          "height": 71
        },
        "outputId": "2cee68e4-b367-4eb7-8c32-ae2e653ff130"
      },
      "source": [
        "franceMatrices = np.zeros((38, 225))\n",
        "franceMatrices = getTeamMatrices(4418)"
      ],
      "execution_count": null,
      "outputs": [
        {
          "output_type": "stream",
          "text": [
            "/usr/local/lib/python3.6/dist-packages/ipykernel_launcher.py:2: DeprecationWarning: The default dtype for empty Series will be 'object' instead of 'float64' in a future version. Specify a dtype explicitly to silence this warning.\n",
            "  \n"
          ],
          "name": "stderr"
        }
      ]
    },
    {
      "cell_type": "code",
      "metadata": {
        "id": "n5IncY1Lhi9w",
        "colab": {
          "base_uri": "https://localhost:8080/",
          "height": 136
        },
        "outputId": "a108e0b7-832e-4ecb-bc85-6d0547b847fe"
      },
      "source": [
        "franceMatrices"
      ],
      "execution_count": null,
      "outputs": [
        {
          "output_type": "execute_result",
          "data": {
            "text/plain": [
              "array([[0., 1., 1., ..., 3., 7., 6.],\n",
              "       [0., 0., 0., ..., 2., 3., 2.],\n",
              "       [0., 1., 0., ..., 1., 5., 9.],\n",
              "       ...,\n",
              "       [1., 5., 1., ..., 1., 4., 7.],\n",
              "       [2., 2., 0., ..., 1., 2., 5.],\n",
              "       [1., 7., 1., ..., 3., 5., 4.]])"
            ]
          },
          "metadata": {
            "tags": []
          },
          "execution_count": 8
        }
      ]
    },
    {
      "cell_type": "code",
      "metadata": {
        "id": "bNnepi-qgDaJ",
        "colab": {
          "base_uri": "https://localhost:8080/",
          "height": 71
        },
        "outputId": "f3b7920e-a6e1-42b5-947c-540d13ffecbe"
      },
      "source": [
        "englandMatrices = np.zeros((38, 225))\n",
        "englandMatrices = getTeamMatrices(2413)"
      ],
      "execution_count": null,
      "outputs": [
        {
          "output_type": "stream",
          "text": [
            "/usr/local/lib/python3.6/dist-packages/ipykernel_launcher.py:2: DeprecationWarning: The default dtype for empty Series will be 'object' instead of 'float64' in a future version. Specify a dtype explicitly to silence this warning.\n",
            "  \n"
          ],
          "name": "stderr"
        }
      ]
    },
    {
      "cell_type": "code",
      "metadata": {
        "id": "SAn-7ei6hkT7",
        "colab": {
          "base_uri": "https://localhost:8080/",
          "height": 1000
        },
        "outputId": "70b051f7-adea-41e0-f500-1142e52b3437"
      },
      "source": [
        "englandMatrices"
      ],
      "execution_count": null,
      "outputs": [
        {
          "output_type": "execute_result",
          "data": {
            "text/plain": [
              "array([[ 4.,  4.,  2.,  0.,  0.,  9.,  3.,  0.,  0.,  0.,  0.,  1.,  0.,\n",
              "         0.,  0.,  2.,  4.,  4.,  3.,  0.,  6.,  4.,  2.,  1.,  1.,  0.,\n",
              "         0.,  0.,  0.,  0.,  6.,  2.,  5.,  2.,  5.,  0.,  4.,  2.,  1.,\n",
              "         0.,  0.,  0.,  0.,  0.,  0.,  0.,  3.,  1.,  6.,  0.,  1.,  2.,\n",
              "         2.,  5.,  6.,  0.,  0.,  0.,  0.,  0.,  0.,  0.,  2.,  5.,  2.,\n",
              "         0.,  0.,  2.,  1.,  0.,  0.,  0.,  0.,  0.,  0.,  4.,  1.,  0.,\n",
              "         0.,  0., 14., 14.,  1.,  1.,  2.,  8.,  0.,  2.,  0.,  1.,  1.,\n",
              "         4.,  3.,  0.,  0.,  9.,  9.,  6.,  4.,  1.,  1.,  2.,  4.,  0.,\n",
              "         3.,  0.,  0.,  2.,  2.,  0.,  5.,  3., 11.,  5.,  0.,  2.,  1.,\n",
              "         4.,  1.,  3.,  0.,  0.,  0.,  1.,  0.,  0.,  2.,  5.,  5.,  5.,\n",
              "         0.,  0.,  3.,  3.,  2.,  0.,  1.,  0.,  0.,  1.,  0.,  1.,  2.,\n",
              "         3.,  2.,  1.,  0.,  1.,  2.,  4.,  0.,  0.,  0.,  0.,  0.,  3.,\n",
              "         2.,  0.,  0.,  0.,  4.,  1.,  3.,  0.,  0.,  0.,  0.,  0.,  0.,\n",
              "         0.,  0.,  0.,  1.,  0.,  1.,  1.,  2.,  1.,  0.,  0.,  0.,  0.,\n",
              "         0.,  0.,  0.,  1.,  2.,  0.,  1.,  0.,  1.,  3.,  2.,  2.,  3.,\n",
              "         0.,  0.,  0.,  0.,  0.,  0.,  0.,  1.,  1.,  0.,  0.,  0.,  3.,\n",
              "         4.,  4.,  0.,  0.,  0.,  0.,  0.,  0.,  0.,  0.,  2.,  2.,  0.,\n",
              "         0.,  2.,  5.,  9.],\n",
              "       [ 2.,  5.,  0.,  0.,  0.,  0.,  3.,  0.,  0.,  0.,  1.,  1.,  0.,\n",
              "         0.,  0.,  3.,  6.,  4.,  2.,  0.,  6.,  4.,  1.,  2.,  2.,  0.,\n",
              "         1.,  0.,  0.,  0.,  0.,  6.,  3.,  2.,  0.,  4.,  1.,  2.,  1.,\n",
              "         3.,  1.,  0.,  0.,  0.,  1.,  0.,  0.,  3.,  2.,  1.,  1.,  1.,\n",
              "         1.,  0.,  3.,  0.,  0.,  0.,  0.,  0.,  0.,  0.,  2.,  0.,  0.,\n",
              "         0.,  0.,  0.,  1.,  4.,  0.,  0.,  0.,  0.,  0.,  0.,  3.,  0.,\n",
              "         0.,  0., 15., 15.,  2.,  1.,  0.,  4.,  3.,  1.,  0.,  2.,  0.,\n",
              "         3.,  1.,  0.,  0., 10., 24.,  6.,  2.,  3.,  3.,  6.,  2.,  3.,\n",
              "         1.,  0.,  0.,  2.,  1.,  0.,  3.,  2.,  7.,  9.,  3.,  1.,  1.,\n",
              "         0.,  2.,  1.,  0.,  0.,  0.,  0.,  0.,  1.,  9.,  5., 15.,  6.,\n",
              "         1.,  0.,  3.,  4.,  5.,  0.,  0.,  0.,  1.,  0.,  0.,  1.,  0.,\n",
              "         7.,  8.,  0.,  1.,  1.,  3.,  4.,  0.,  0.,  0.,  0.,  0.,  2.,\n",
              "         1.,  1.,  0.,  0., 19., 11.,  2.,  2.,  0.,  0.,  0.,  0.,  0.,\n",
              "         0.,  0.,  2.,  1.,  0.,  0.,  9.,  3.,  6.,  3.,  1.,  0.,  0.,\n",
              "         0.,  0.,  0.,  0.,  1.,  0.,  1.,  0.,  2.,  3.,  6.,  3.,  2.,\n",
              "         0.,  0.,  0.,  0.,  0.,  0.,  0.,  0.,  3.,  1.,  0.,  1.,  6.,\n",
              "        14.,  8.,  0.,  0.,  0.,  0.,  0.,  1.,  0.,  0.,  3.,  1.,  0.,\n",
              "         0.,  3.,  9.,  7.],\n",
              "       [ 1.,  2.,  1.,  0.,  0.,  1.,  1.,  0.,  0.,  0.,  0.,  0.,  0.,\n",
              "         0.,  0.,  2.,  3.,  6.,  2.,  0.,  3.,  3.,  6.,  5.,  0.,  0.,\n",
              "         0.,  1.,  0.,  0.,  0.,  5.,  3.,  6.,  4.,  0.,  2.,  2.,  3.,\n",
              "         0.,  0.,  1.,  0.,  0.,  0.,  0.,  2.,  4.,  3.,  1.,  1.,  4.,\n",
              "         3.,  4.,  5.,  0.,  1.,  0.,  1.,  1.,  0.,  0.,  2.,  5.,  1.,\n",
              "         0.,  0.,  0.,  1.,  1.,  0.,  0.,  0.,  1.,  0.,  0.,  2.,  0.,\n",
              "         0.,  0.,  1.,  5.,  2.,  0.,  0.,  0.,  5.,  0.,  0.,  0.,  1.,\n",
              "         3.,  1.,  0.,  0.,  0., 14.,  9.,  9.,  0.,  4.,  6.,  4.,  3.,\n",
              "         0.,  0.,  1.,  0.,  1.,  0.,  4., 13., 10., 16.,  3.,  2., 10.,\n",
              "         9.,  6.,  4.,  0.,  1.,  2.,  2.,  0.,  1.,  4., 15.,  5.,  7.,\n",
              "         1.,  1.,  5., 10.,  5.,  0.,  0.,  1.,  3.,  2.,  0.,  1.,  2.,\n",
              "         5.,  1.,  0.,  0.,  1.,  1.,  3.,  1.,  0.,  0.,  0.,  0.,  2.,\n",
              "         4.,  2.,  0.,  0.,  2.,  3.,  3.,  0.,  0.,  0.,  0.,  0.,  0.,\n",
              "         0.,  1.,  5.,  1.,  1.,  0.,  7., 16.,  8.,  6.,  1.,  0.,  0.,\n",
              "         0.,  0.,  0.,  0.,  1.,  5.,  2.,  2.,  1.,  4.,  6.,  8.,  3.,\n",
              "         0.,  0.,  0.,  0.,  0.,  0.,  0.,  8.,  4.,  0.,  0.,  4., 11.,\n",
              "        16., 12.,  0.,  0.,  0.,  0.,  0.,  0.,  2.,  1.,  1.,  2.,  0.,\n",
              "         1.,  5., 12.,  8.],\n",
              "       [ 3.,  2.,  1.,  0.,  0.,  5.,  4.,  0.,  1.,  0.,  0.,  1.,  0.,\n",
              "         0.,  0.,  4.,  2.,  2.,  2.,  0.,  6.,  2.,  4.,  3.,  2.,  0.,\n",
              "         0.,  0.,  0.,  0.,  1.,  0.,  0.,  5.,  0.,  1.,  3.,  1.,  3.,\n",
              "         3.,  0.,  1.,  0.,  1.,  0.,  1.,  3.,  6.,  0.,  0.,  0.,  6.,\n",
              "         0.,  2.,  3.,  0.,  1.,  0.,  0.,  0.,  0.,  1.,  0.,  4.,  3.,\n",
              "         0.,  0.,  1.,  1.,  3.,  0.,  0.,  0.,  0.,  0.,  0.,  4.,  0.,\n",
              "         0.,  0.,  8., 13.,  7.,  1.,  0.,  5.,  4.,  1.,  0.,  0.,  1.,\n",
              "         2.,  0.,  1.,  0.,  9.,  8.,  7.,  3.,  2.,  6.,  6.,  3.,  3.,\n",
              "         2.,  0.,  0.,  0.,  0.,  0.,  6.,  7., 11.,  9.,  6.,  1.,  3.,\n",
              "         3.,  4.,  8.,  2.,  1.,  1.,  2.,  0.,  0.,  8.,  8.,  8.,  8.,\n",
              "         1.,  1.,  1.,  0.,  4.,  0.,  0.,  2.,  2.,  1.,  0.,  2.,  4.,\n",
              "         9., 10.,  0.,  2.,  0.,  5.,  5.,  0.,  0.,  0.,  0.,  0.,  4.,\n",
              "         1.,  0.,  0.,  0.,  9.,  3.,  1.,  3.,  0.,  0.,  0.,  0.,  0.,\n",
              "         0.,  0.,  1.,  2.,  0.,  0.,  4.,  7.,  3.,  2.,  0.,  0.,  0.,\n",
              "         0.,  0.,  0.,  0.,  0.,  2.,  0.,  0.,  0.,  4.,  3.,  7.,  0.,\n",
              "         0.,  0.,  0.,  0.,  0.,  0.,  0.,  2.,  2.,  2.,  0.,  0.,  6.,\n",
              "         6.,  6.,  0.,  0.,  0.,  0.,  0.,  0.,  0.,  0.,  3.,  6.,  1.,\n",
              "         1.,  4.,  7., 12.]])"
            ]
          },
          "metadata": {
            "tags": []
          },
          "execution_count": 10
        }
      ]
    },
    {
      "cell_type": "code",
      "metadata": {
        "id": "UwXbuLzthkhY",
        "colab": {
          "base_uri": "https://localhost:8080/",
          "height": 71
        },
        "outputId": "2142519c-c9ac-47a8-ad2c-c89cad83fa69"
      },
      "source": [
        "czechMatrices = np.zeros((38, 225))\n",
        "czechMatrices = getTeamMatrices(11555)"
      ],
      "execution_count": null,
      "outputs": [
        {
          "output_type": "stream",
          "text": [
            "/usr/local/lib/python3.6/dist-packages/ipykernel_launcher.py:2: DeprecationWarning: The default dtype for empty Series will be 'object' instead of 'float64' in a future version. Specify a dtype explicitly to silence this warning.\n",
            "  \n"
          ],
          "name": "stderr"
        }
      ]
    },
    {
      "cell_type": "code",
      "metadata": {
        "id": "CKGc6MCChk4F",
        "colab": {
          "base_uri": "https://localhost:8080/",
          "height": 935
        },
        "outputId": "9fa39c4d-9d4c-4bba-9f25-fa3075acee79"
      },
      "source": [
        "czechMatrices"
      ],
      "execution_count": null,
      "outputs": [
        {
          "output_type": "execute_result",
          "data": {
            "text/plain": [
              "array([[ 0.,  1.,  0.,  0.,  0.,  2.,  1.,  0.,  0.,  0.,  0.,  1.,  0.,\n",
              "         0.,  0.,  1.,  4.,  0.,  0.,  0.,  4.,  2.,  1.,  2.,  1.,  0.,\n",
              "         0.,  1.,  2.,  1.,  0.,  2.,  1.,  3.,  0.,  2.,  1.,  2.,  2.,\n",
              "         3.,  0.,  0.,  1.,  1.,  0.,  0.,  1.,  8.,  2.,  3.,  0.,  0.,\n",
              "         1.,  2.,  2.,  0.,  0.,  0.,  0.,  0.,  0.,  0.,  2.,  1.,  2.,\n",
              "         0.,  0.,  0.,  0.,  2.,  0.,  0.,  0.,  0.,  0.,  2.,  2.,  1.,\n",
              "         0.,  0.,  2.,  2.,  0.,  0.,  0.,  0.,  2.,  1.,  0.,  0.,  1.,\n",
              "         2.,  2.,  0.,  0.,  2.,  1.,  2.,  0.,  0.,  0.,  0.,  0.,  0.,\n",
              "         0.,  0.,  1.,  0.,  1.,  0.,  3.,  0.,  2.,  3.,  0.,  1.,  0.,\n",
              "         0.,  0.,  0.,  0.,  0.,  0.,  1.,  0.,  0.,  0.,  2.,  0.,  4.,\n",
              "         0.,  2.,  1.,  0.,  0.,  0.,  0.,  0.,  1.,  0.,  0.,  1.,  0.,\n",
              "         1.,  1.,  0.,  0.,  1.,  0.,  2.,  0.,  0.,  0.,  0.,  0.,  1.,\n",
              "         0.,  1.,  0.,  0., 11.,  3.,  0.,  0.,  0.,  0.,  0.,  0.,  0.,\n",
              "         0.,  0.,  0.,  0.,  0.,  0.,  4.,  2.,  1.,  0.,  1.,  0.,  0.,\n",
              "         0.,  0.,  0.,  0.,  1.,  0.,  0.,  0.,  0.,  0.,  0.,  1.,  3.,\n",
              "         0.,  0.,  0.,  0.,  0.,  0.,  0.,  0.,  0.,  1.,  0.,  0.,  0.,\n",
              "         1.,  0.,  0.,  0.,  0.,  0.,  0.,  0.,  0.,  0.,  0.,  2.,  0.,\n",
              "         1.,  1.,  2.,  2.],\n",
              "       [ 2.,  4.,  0.,  0.,  0.,  4.,  1.,  0.,  0.,  0.,  1.,  0.,  1.,\n",
              "         0.,  0.,  1.,  2.,  3.,  3.,  0.,  6.,  5.,  2.,  2.,  0.,  0.,\n",
              "         1.,  0.,  0.,  0.,  3.,  0.,  0.,  2.,  2.,  0.,  1.,  2.,  0.,\n",
              "         0.,  0.,  0.,  4.,  1.,  0.,  1.,  3.,  5.,  4.,  1.,  0.,  0.,\n",
              "         1.,  5.,  2.,  0.,  0.,  0.,  0.,  0.,  0.,  0.,  0.,  1.,  1.,\n",
              "         0.,  0.,  0.,  3.,  3.,  0.,  0.,  0.,  0.,  1.,  1.,  1.,  0.,\n",
              "         0.,  0.,  8.,  1.,  1.,  0.,  0.,  3.,  3.,  0.,  0.,  0.,  1.,\n",
              "         3.,  0.,  1.,  0.,  5.,  1.,  4.,  1.,  1.,  2.,  1.,  0.,  0.,\n",
              "         1.,  0.,  1.,  1.,  2.,  0.,  2.,  5.,  1.,  4.,  3.,  3.,  1.,\n",
              "         0.,  1.,  1.,  0.,  1.,  0.,  4.,  0.,  1.,  1.,  5.,  5.,  5.,\n",
              "         0.,  1.,  3.,  2.,  5.,  0.,  0.,  0.,  1.,  0.,  1.,  1.,  1.,\n",
              "         5.,  4.,  0.,  0.,  0.,  2.,  8.,  0.,  0.,  0.,  0.,  0.,  0.,\n",
              "         2.,  0.,  1.,  0.,  6.,  4.,  2.,  1.,  0.,  0.,  0.,  0.,  0.,\n",
              "         0.,  2.,  0.,  0.,  0.,  0.,  5.,  3.,  1.,  1.,  0.,  0.,  0.,\n",
              "         0.,  0.,  0.,  0.,  1.,  0.,  0.,  0.,  0.,  0.,  0.,  1.,  1.,\n",
              "         0.,  0.,  0.,  0.,  0.,  0.,  0.,  0.,  2.,  0.,  0.,  0.,  2.,\n",
              "         2.,  3.,  0.,  0.,  0.,  0.,  0.,  0.,  0.,  0.,  1.,  1.,  0.,\n",
              "         0.,  0.,  4., 14.],\n",
              "       [ 2.,  1.,  2.,  0.,  0.,  1.,  0.,  0.,  0.,  0.,  0.,  0.,  0.,\n",
              "         0.,  0.,  2.,  1.,  2.,  0.,  0.,  2.,  2.,  3.,  1.,  2.,  0.,\n",
              "         1.,  0.,  1.,  0.,  1.,  2.,  7.,  1.,  3.,  0.,  1.,  1.,  2.,\n",
              "         2.,  3.,  0.,  0.,  1.,  0.,  0.,  3.,  2.,  1.,  1.,  1.,  0.,\n",
              "         2.,  1.,  1.,  0.,  0.,  0.,  0.,  0.,  0.,  1.,  1.,  2.,  0.,\n",
              "         0.,  0.,  0.,  3.,  4.,  0.,  0.,  0.,  2.,  0.,  1.,  1.,  1.,\n",
              "         0.,  0.,  8.,  5.,  0.,  1.,  0.,  6.,  2.,  2.,  0.,  1.,  0.,\n",
              "         0.,  4.,  0.,  0.,  5.,  4.,  5.,  5.,  1.,  4.,  2.,  0.,  0.,\n",
              "         1.,  0.,  0.,  0.,  0.,  0.,  4.,  4.,  6.,  3.,  4.,  0.,  2.,\n",
              "         1.,  0.,  1.,  0.,  1.,  1.,  0.,  0.,  2.,  1.,  6.,  9.,  5.,\n",
              "         1.,  2.,  1.,  2.,  2.,  0.,  0.,  0.,  1.,  2.,  0.,  0.,  0.,\n",
              "         7.,  9.,  1.,  1.,  3.,  5.,  6.,  0.,  0.,  0.,  0.,  0.,  1.,\n",
              "         1.,  0.,  0.,  1.,  6.,  4.,  1.,  0.,  0.,  0.,  0.,  0.,  0.,\n",
              "         0.,  1.,  1.,  0.,  0.,  0.,  1.,  2.,  2.,  3.,  0.,  0.,  0.,\n",
              "         0.,  0.,  0.,  0.,  0.,  0.,  0.,  0.,  0.,  0.,  0.,  2.,  1.,\n",
              "         0.,  0.,  0.,  0.,  0.,  0.,  0.,  0.,  0.,  1.,  0.,  0.,  2.,\n",
              "         4.,  4.,  0.,  0.,  0.,  0.,  0.,  0.,  0.,  0.,  0.,  3.,  0.,\n",
              "         1.,  3.,  4., 17.]])"
            ]
          },
          "metadata": {
            "tags": []
          },
          "execution_count": 12
        }
      ]
    },
    {
      "cell_type": "code",
      "metadata": {
        "id": "lLB9IbSBhlEO",
        "colab": {
          "base_uri": "https://localhost:8080/",
          "height": 71
        },
        "outputId": "efcb23be-66c5-4ecb-e59f-0f7e8a930e66"
      },
      "source": [
        "icelandMatrices = np.zeros((38, 225))\n",
        "icelandMatrices = getTeamMatrices(7839)"
      ],
      "execution_count": null,
      "outputs": [
        {
          "output_type": "stream",
          "text": [
            "/usr/local/lib/python3.6/dist-packages/ipykernel_launcher.py:2: DeprecationWarning: The default dtype for empty Series will be 'object' instead of 'float64' in a future version. Specify a dtype explicitly to silence this warning.\n",
            "  \n"
          ],
          "name": "stderr"
        }
      ]
    },
    {
      "cell_type": "code",
      "metadata": {
        "id": "9VcniBXQhlW0",
        "colab": {
          "base_uri": "https://localhost:8080/",
          "height": 102
        },
        "outputId": "6013f83b-a8f4-4308-9ed8-044d03f8a7ca"
      },
      "source": [
        "icelandMatrices"
      ],
      "execution_count": null,
      "outputs": [
        {
          "output_type": "execute_result",
          "data": {
            "text/plain": [
              "array([[ 2.,  1.,  0., ...,  1.,  2.,  2.],\n",
              "       [ 1.,  3.,  1., ...,  2.,  0.,  2.],\n",
              "       [ 1.,  1.,  1., ...,  0.,  1.,  1.],\n",
              "       [ 7.,  0.,  0., ...,  2.,  1.,  0.],\n",
              "       [12.,  7.,  2., ...,  2.,  3.,  8.]])"
            ]
          },
          "metadata": {
            "tags": []
          },
          "execution_count": 14
        }
      ]
    },
    {
      "cell_type": "code",
      "metadata": {
        "id": "oi6qZtJxmoxK",
        "colab": {
          "base_uri": "https://localhost:8080/",
          "height": 71
        },
        "outputId": "96d4581a-0a8a-4de5-cd51-ce1869a3ce94"
      },
      "source": [
        "austriaMatrices = np.zeros((38, 225))\n",
        "austriaMatrices = getTeamMatrices(9109)"
      ],
      "execution_count": null,
      "outputs": [
        {
          "output_type": "stream",
          "text": [
            "/usr/local/lib/python3.6/dist-packages/ipykernel_launcher.py:2: DeprecationWarning: The default dtype for empty Series will be 'object' instead of 'float64' in a future version. Specify a dtype explicitly to silence this warning.\n",
            "  \n"
          ],
          "name": "stderr"
        }
      ]
    },
    {
      "cell_type": "code",
      "metadata": {
        "id": "SuZDMOADmpAm",
        "colab": {
          "base_uri": "https://localhost:8080/",
          "height": 935
        },
        "outputId": "61e3e288-1df6-4bba-efe1-ff1dd735e8bb"
      },
      "source": [
        "austriaMatrices"
      ],
      "execution_count": null,
      "outputs": [
        {
          "output_type": "execute_result",
          "data": {
            "text/plain": [
              "array([[ 2.,  4.,  3.,  0.,  0.,  4.,  6.,  0.,  0.,  0.,  1.,  0.,  0.,\n",
              "         0.,  0.,  7.,  7.,  3.,  4.,  0.,  7.,  1.,  0.,  1.,  0.,  1.,\n",
              "         0.,  0.,  0.,  0.,  4.,  2.,  0.,  2.,  3.,  2.,  6.,  2.,  2.,\n",
              "         1.,  0.,  0.,  1.,  0.,  0.,  2.,  2.,  1.,  1.,  1.,  3.,  0.,\n",
              "         3.,  0.,  0.,  0.,  1.,  0.,  2.,  0.,  0.,  0.,  3.,  3.,  2.,\n",
              "         1.,  0.,  0.,  1.,  3.,  0.,  0.,  0.,  0.,  0.,  1.,  4.,  0.,\n",
              "         0.,  0.,  8.,  6.,  6.,  0.,  1.,  6.,  1.,  0.,  0.,  0.,  2.,\n",
              "         1.,  0.,  0.,  0.,  5.,  6.,  5.,  3.,  0.,  2.,  1.,  2.,  1.,\n",
              "         0.,  1.,  0.,  0.,  0.,  0.,  3.,  4.,  4.,  5.,  7.,  0.,  0.,\n",
              "         2.,  0.,  5.,  0.,  0.,  1.,  1.,  0.,  0.,  3.,  4.,  3.,  3.,\n",
              "         1.,  1.,  3.,  3.,  5.,  0.,  0.,  0.,  0.,  1.,  0.,  2.,  2.,\n",
              "         3.,  8.,  0.,  0.,  1.,  0.,  6.,  0.,  0.,  1.,  0.,  0.,  0.,\n",
              "         0.,  1.,  1.,  0., 11.,  3.,  2.,  0.,  0.,  0.,  0.,  0.,  0.,\n",
              "         0.,  0.,  0.,  0.,  0.,  0.,  2.,  2.,  3.,  1.,  0.,  0.,  0.,\n",
              "         0.,  0.,  0.,  1.,  0.,  1.,  0.,  0.,  1.,  2.,  2.,  1.,  1.,\n",
              "         0.,  0.,  0.,  0.,  0.,  0.,  0.,  0.,  1.,  1.,  0.,  1.,  2.,\n",
              "         3.,  2.,  0.,  0.,  0.,  0.,  0.,  0.,  0.,  0.,  1.,  1.,  0.,\n",
              "         0.,  2.,  2.,  2.],\n",
              "       [ 2.,  4.,  1.,  0.,  0.,  4.,  3.,  1.,  0.,  0.,  1.,  0.,  0.,\n",
              "         0.,  0.,  2.,  5.,  8.,  0.,  0.,  4.,  4.,  1.,  0.,  0.,  0.,\n",
              "         1.,  0.,  0.,  0.,  3.,  5.,  7.,  3.,  0.,  2.,  1.,  6.,  3.,\n",
              "         0.,  1.,  0.,  0.,  0.,  0.,  0.,  0.,  2.,  5.,  3.,  0.,  2.,\n",
              "         3.,  2.,  9.,  0.,  0.,  0.,  0.,  0.,  0.,  0.,  2.,  3.,  3.,\n",
              "         0.,  0.,  0.,  2.,  5.,  0.,  0.,  0.,  0.,  0.,  2.,  1.,  0.,\n",
              "         0.,  0.,  4.,  8.,  1.,  0.,  0.,  3.,  2.,  0.,  0.,  0.,  2.,\n",
              "         1.,  0.,  1.,  0.,  7.,  5.,  2.,  0.,  0.,  2.,  2.,  1.,  0.,\n",
              "         0.,  0.,  0.,  1.,  2.,  0.,  0.,  2.,  7.,  4.,  3.,  1.,  1.,\n",
              "         0.,  0.,  1.,  0.,  1.,  0.,  2.,  0.,  1.,  1.,  4.,  5.,  6.,\n",
              "         0.,  0.,  1.,  3.,  5.,  0.,  1.,  0.,  3.,  3.,  0.,  0.,  0.,\n",
              "         8.,  3.,  0.,  0.,  0.,  2.,  5.,  0.,  0.,  0.,  0.,  0.,  0.,\n",
              "         0.,  0.,  0.,  0.,  2.,  3.,  2.,  0.,  0.,  0.,  0.,  0.,  0.,\n",
              "         0.,  1.,  1.,  0.,  0.,  0.,  3.,  2.,  2.,  0.,  0.,  0.,  0.,\n",
              "         0.,  0.,  0.,  0.,  0.,  0.,  0.,  0.,  1.,  0.,  0.,  0.,  0.,\n",
              "         0.,  0.,  0.,  0.,  0.,  0.,  0.,  0.,  1.,  0.,  0.,  0.,  1.,\n",
              "         0.,  1.,  0.,  0.,  0.,  0.,  0.,  0.,  0.,  0.,  0.,  0.,  0.,\n",
              "         0.,  1.,  2., 14.],\n",
              "       [ 1.,  2.,  3.,  1.,  0.,  5.,  3.,  0.,  0.,  0.,  0.,  0.,  0.,\n",
              "         0.,  0.,  0.,  0.,  2.,  1.,  0.,  5.,  4.,  1.,  3.,  2.,  0.,\n",
              "         0.,  0.,  0.,  0.,  3.,  1.,  3.,  2.,  3.,  4.,  3.,  1.,  3.,\n",
              "         0.,  0.,  0.,  0.,  0.,  0.,  3.,  4.,  4.,  3.,  1.,  3.,  3.,\n",
              "         3.,  0.,  1.,  0.,  0.,  0.,  0.,  0.,  0.,  0.,  0.,  4.,  3.,\n",
              "         0.,  2.,  1.,  1.,  3.,  0.,  0.,  0.,  1.,  0.,  1.,  4.,  2.,\n",
              "         0.,  0., 29., 18.,  9.,  0.,  0., 19.,  4.,  3.,  2.,  0.,  3.,\n",
              "         0.,  0.,  0.,  0., 17., 11., 15.,  6.,  2.,  6.,  6.,  3.,  2.,\n",
              "         0.,  0.,  2.,  2.,  0.,  0.,  8.,  8., 11., 15.,  5.,  0.,  2.,\n",
              "         4.,  4.,  3.,  0.,  0.,  0.,  0.,  0.,  2.,  5., 10.,  9., 13.,\n",
              "         2.,  2.,  7.,  3.,  7.,  0.,  0.,  1.,  2.,  0.,  0.,  1.,  3.,\n",
              "        14., 14.,  0.,  0.,  1.,  0.,  3.,  0.,  0.,  0.,  0.,  0.,  5.,\n",
              "         0.,  1.,  0.,  0.,  7.,  5.,  6.,  1.,  0.,  0.,  0.,  0.,  0.,\n",
              "         0.,  2.,  1.,  1.,  0.,  0.,  6.,  8.,  7.,  3.,  0.,  0.,  0.,\n",
              "         0.,  0.,  0.,  0.,  3.,  1.,  0.,  0.,  0.,  7.,  5.,  4.,  5.,\n",
              "         0.,  0.,  0.,  0.,  0.,  0.,  0.,  0.,  3.,  0.,  0.,  1.,  6.,\n",
              "         6.,  4.,  0.,  0.,  0.,  0.,  0.,  0.,  1.,  0.,  1.,  1.,  0.,\n",
              "         1.,  4.,  7., 14.]])"
            ]
          },
          "metadata": {
            "tags": []
          },
          "execution_count": 17
        }
      ]
    },
    {
      "cell_type": "code",
      "metadata": {
        "id": "Q41Rgq01m1E4",
        "colab": {
          "base_uri": "https://localhost:8080/",
          "height": 71
        },
        "outputId": "28f7e73d-4efe-4d84-c17f-421bd2362e87"
      },
      "source": [
        "irelandMatrices = np.zeros((38, 225))\n",
        "irelandMatrices = getTeamMatrices(8274)"
      ],
      "execution_count": null,
      "outputs": [
        {
          "output_type": "stream",
          "text": [
            "/usr/local/lib/python3.6/dist-packages/ipykernel_launcher.py:2: DeprecationWarning: The default dtype for empty Series will be 'object' instead of 'float64' in a future version. Specify a dtype explicitly to silence this warning.\n",
            "  \n"
          ],
          "name": "stderr"
        }
      ]
    },
    {
      "cell_type": "code",
      "metadata": {
        "id": "l_VzuzR2m1hH",
        "colab": {
          "base_uri": "https://localhost:8080/",
          "height": 1000
        },
        "outputId": "b7a53f8d-4e25-4730-9bdf-0a95bb35ac9f"
      },
      "source": [
        "irelandMatrices"
      ],
      "execution_count": null,
      "outputs": [
        {
          "output_type": "execute_result",
          "data": {
            "text/plain": [
              "array([[ 1.,  2.,  0.,  0.,  0.,  0.,  1.,  0.,  0.,  0.,  0.,  0.,  0.,\n",
              "         0.,  0.,  0.,  4.,  2.,  0.,  1.,  2.,  7.,  0.,  0.,  1.,  1.,\n",
              "         0.,  1.,  0.,  0.,  4.,  0.,  0.,  0.,  0.,  1.,  1.,  1.,  1.,\n",
              "         2.,  0.,  0.,  1.,  2.,  0.,  0.,  3.,  2.,  3.,  0.,  2.,  1.,\n",
              "         1.,  3.,  1.,  0.,  0.,  0.,  1.,  0.,  0.,  1.,  1.,  2.,  1.,\n",
              "         0.,  0.,  0.,  1.,  0.,  0.,  0.,  0.,  0.,  0.,  2.,  1.,  1.,\n",
              "         0.,  0.,  2.,  4.,  0.,  0.,  0.,  2.,  0.,  0.,  0.,  0.,  0.,\n",
              "         6.,  1.,  1.,  0.,  2.,  3.,  2.,  2.,  1.,  2.,  1.,  1.,  0.,\n",
              "         0.,  0.,  0.,  0.,  0.,  0.,  0.,  1.,  2.,  0.,  0.,  1.,  0.,\n",
              "         0.,  0.,  0.,  0.,  1.,  0.,  3.,  0.,  0.,  1.,  0.,  2.,  4.,\n",
              "         0.,  1.,  0.,  0.,  1.,  0.,  0.,  1.,  0.,  1.,  0.,  1.,  0.,\n",
              "         2.,  4.,  0.,  0.,  0.,  0.,  2.,  0.,  0.,  0.,  0.,  0.,  1.,\n",
              "         2.,  0.,  0.,  0.,  6.,  2.,  1.,  1.,  2.,  0.,  0.,  0.,  0.,\n",
              "         0.,  0.,  0.,  0.,  2.,  0.,  1.,  1.,  1.,  0.,  1.,  0.,  0.,\n",
              "         0.,  0.,  0.,  0.,  0.,  0.,  0.,  0.,  0.,  0.,  1.,  0.,  0.,\n",
              "         0.,  0.,  0.,  0.,  0.,  0.,  0.,  0.,  0.,  0.,  0.,  2.,  2.,\n",
              "         2.,  5.,  0.,  0.,  0.,  0.,  0.,  0.,  0.,  0.,  1.,  0.,  0.,\n",
              "         1.,  2.,  2.,  3.],\n",
              "       [ 1.,  3.,  0.,  0.,  0.,  2.,  2.,  0.,  0.,  0.,  1.,  1.,  0.,\n",
              "         1.,  0.,  1.,  4.,  4.,  3.,  0.,  3.,  3.,  4.,  3.,  0.,  0.,\n",
              "         1.,  0.,  0.,  0.,  3.,  1.,  2.,  2.,  0.,  2.,  1.,  3.,  1.,\n",
              "         2.,  0.,  0.,  2.,  2.,  0.,  0.,  2.,  0.,  3.,  3.,  1.,  1.,\n",
              "         3.,  4.,  2.,  0.,  0.,  0.,  1.,  1.,  0.,  0.,  2.,  1.,  1.,\n",
              "         0.,  0.,  1.,  0.,  1.,  0.,  0.,  1.,  1.,  0.,  2.,  3.,  1.,\n",
              "         0.,  0.,  2.,  3.,  1.,  0.,  0.,  3.,  4.,  1.,  0.,  0.,  0.,\n",
              "         2.,  2.,  1.,  0.,  7.,  4.,  3.,  0.,  0.,  2.,  4.,  4.,  0.,\n",
              "         0.,  0.,  1.,  0.,  2.,  0.,  3.,  5.,  6.,  3.,  2.,  0.,  3.,\n",
              "         2.,  2.,  0.,  1.,  1.,  1.,  3.,  1.,  1.,  0.,  3.,  2.,  3.,\n",
              "         0.,  0.,  0.,  1.,  1.,  0.,  0.,  0.,  2.,  2.,  0.,  0.,  0.,\n",
              "         3.,  2.,  0.,  0.,  0.,  2.,  4.,  0.,  0.,  0.,  0.,  0.,  2.,\n",
              "         2.,  0.,  0.,  0.,  6.,  5.,  5.,  0.,  0.,  0.,  0.,  0.,  0.,\n",
              "         0.,  0.,  1.,  2.,  1.,  0.,  6.,  1.,  3.,  1.,  0.,  0.,  0.,\n",
              "         0.,  0.,  0.,  0.,  0.,  0.,  0.,  2.,  3.,  2.,  3.,  1.,  1.,\n",
              "         0.,  0.,  0.,  0.,  0.,  0.,  0.,  1.,  2.,  0.,  0.,  0.,  0.,\n",
              "         1.,  4.,  0.,  0.,  0.,  0.,  0.,  0.,  0.,  0.,  2.,  2.,  0.,\n",
              "         2.,  1.,  5.,  4.],\n",
              "       [ 1.,  0.,  2.,  0.,  0.,  1.,  0.,  0.,  0.,  0.,  0.,  0.,  0.,\n",
              "         0.,  0.,  0.,  3.,  1.,  0.,  1.,  2.,  2.,  1.,  1.,  0.,  0.,\n",
              "         1.,  0.,  0.,  0.,  0.,  1.,  2.,  0.,  1.,  1.,  2.,  1.,  1.,\n",
              "         1.,  0.,  0.,  3.,  0.,  0.,  1.,  2.,  2.,  3.,  1.,  0.,  0.,\n",
              "         1.,  1.,  3.,  0.,  0.,  0.,  0.,  1.,  0.,  0.,  1.,  5.,  1.,\n",
              "         0.,  0.,  0.,  1.,  3.,  0.,  0.,  0.,  0.,  0.,  1.,  1.,  0.,\n",
              "         0.,  0., 10.,  6.,  2.,  0.,  0.,  5.,  3.,  0.,  0.,  0.,  1.,\n",
              "         2.,  0.,  0.,  0.,  6.,  6.,  3.,  0.,  1.,  3.,  2.,  1.,  0.,\n",
              "         1.,  0.,  0.,  0.,  0.,  2.,  5.,  1.,  3.,  3.,  1.,  0.,  2.,\n",
              "         0.,  1.,  1.,  0.,  0.,  0.,  1.,  0.,  3.,  3.,  1.,  3.,  5.,\n",
              "         0.,  0.,  1.,  0.,  2.,  0.,  0.,  1.,  4.,  5.,  0.,  1.,  1.,\n",
              "         4., 10.,  0.,  0.,  0.,  3.,  2.,  0.,  0.,  0.,  0.,  0.,  1.,\n",
              "         0.,  0.,  0.,  0., 13.,  3.,  1.,  3.,  0.,  0.,  0.,  0.,  0.,\n",
              "         0.,  0.,  0.,  0.,  1.,  0.,  5.,  1.,  2.,  1.,  1.,  0.,  0.,\n",
              "         0.,  0.,  0.,  0.,  0.,  1.,  0.,  0.,  0.,  1.,  5.,  2.,  0.,\n",
              "         0.,  0.,  0.,  0.,  0.,  0.,  1.,  1.,  1.,  0.,  1.,  0.,  2.,\n",
              "         3.,  0.,  0.,  0.,  0.,  0.,  0.,  0.,  0.,  0.,  0.,  0.,  0.,\n",
              "         0.,  1.,  0.,  6.],\n",
              "       [ 1.,  0.,  0.,  0.,  0.,  0.,  0.,  0.,  0.,  0.,  0.,  0.,  0.,\n",
              "         0.,  0.,  0.,  1.,  3.,  1.,  0.,  3.,  3.,  0.,  1.,  1.,  0.,\n",
              "         1.,  0.,  0.,  0.,  1.,  2.,  4.,  2.,  2.,  1.,  0.,  2.,  0.,\n",
              "         2.,  0.,  2.,  0.,  2.,  0.,  0.,  2.,  1.,  3.,  0.,  0.,  0.,\n",
              "         2.,  1.,  4.,  0.,  0.,  1.,  1.,  1.,  0.,  0.,  2.,  1.,  2.,\n",
              "         0.,  0.,  0.,  2.,  2.,  0.,  0.,  0.,  0.,  1.,  0.,  2.,  0.,\n",
              "         0.,  0.,  1.,  2.,  1.,  1.,  0.,  2.,  1.,  0.,  0.,  0.,  0.,\n",
              "         2.,  0.,  1.,  0.,  2.,  2.,  0.,  0.,  0.,  3.,  1.,  0.,  1.,\n",
              "         0.,  0.,  0.,  0.,  2.,  0.,  2.,  3.,  1.,  0.,  1.,  1.,  1.,\n",
              "         0.,  0.,  1.,  0.,  0.,  1.,  1.,  1.,  0.,  2.,  1.,  3.,  1.,\n",
              "         0.,  2.,  0.,  1.,  2.,  0.,  1.,  0.,  3.,  2.,  1.,  0.,  2.,\n",
              "         3.,  7.,  0.,  0.,  0.,  2.,  5.,  0.,  0.,  0.,  0.,  0.,  1.,\n",
              "         1.,  0.,  1.,  0.,  5.,  3.,  1.,  1.,  0.,  0.,  0.,  0.,  0.,\n",
              "         0.,  1.,  0.,  0.,  0.,  0.,  3.,  2.,  1.,  0.,  0.,  0.,  0.,\n",
              "         0.,  0.,  0.,  0.,  0.,  0.,  0.,  0.,  1.,  0.,  0.,  1.,  0.,\n",
              "         0.,  0.,  0.,  0.,  0.,  0.,  0.,  0.,  0.,  1.,  0.,  0.,  1.,\n",
              "         2.,  0.,  0.,  0.,  0.,  0.,  0.,  0.,  0.,  0.,  1.,  4.,  0.,\n",
              "         0.,  1.,  2.,  2.]])"
            ]
          },
          "metadata": {
            "tags": []
          },
          "execution_count": 19
        }
      ]
    },
    {
      "cell_type": "code",
      "metadata": {
        "id": "8OXQt2_Nm1oh",
        "colab": {
          "base_uri": "https://localhost:8080/",
          "height": 71
        },
        "outputId": "1199968a-5669-418b-9bae-fa8601d85751"
      },
      "source": [
        "portugalMatrices = np.zeros((38, 225))\n",
        "portugalMatrices = getTeamMatrices(9905)"
      ],
      "execution_count": null,
      "outputs": [
        {
          "output_type": "stream",
          "text": [
            "/usr/local/lib/python3.6/dist-packages/ipykernel_launcher.py:2: DeprecationWarning: The default dtype for empty Series will be 'object' instead of 'float64' in a future version. Specify a dtype explicitly to silence this warning.\n",
            "  \n"
          ],
          "name": "stderr"
        }
      ]
    },
    {
      "cell_type": "code",
      "metadata": {
        "id": "h1h6WybQm11S",
        "colab": {
          "base_uri": "https://localhost:8080/",
          "height": 136
        },
        "outputId": "d79be36b-17c2-453b-ee79-f823468e00fa"
      },
      "source": [
        "portugalMatrices"
      ],
      "execution_count": null,
      "outputs": [
        {
          "output_type": "execute_result",
          "data": {
            "text/plain": [
              "array([[ 3.,  4.,  4., ...,  7.,  6., 14.],\n",
              "       [ 2.,  4.,  0., ...,  4.,  3.,  6.],\n",
              "       [ 0.,  0.,  1., ...,  6.,  4.,  8.],\n",
              "       ...,\n",
              "       [ 3.,  2.,  0., ...,  1.,  6., 11.],\n",
              "       [ 6.,  5.,  0., ...,  1.,  3.,  5.],\n",
              "       [ 6.,  4.,  3., ...,  1.,  1.,  7.]])"
            ]
          },
          "metadata": {
            "tags": []
          },
          "execution_count": 21
        }
      ]
    },
    {
      "cell_type": "code",
      "metadata": {
        "id": "WatnBxK-m15-",
        "colab": {
          "base_uri": "https://localhost:8080/",
          "height": 71
        },
        "outputId": "46ed0e1c-b83f-46b4-a211-4166215d3f18"
      },
      "source": [
        "spainMatrices = np.zeros((38, 225))\n",
        "spainMatrices = getTeamMatrices(1598)"
      ],
      "execution_count": null,
      "outputs": [
        {
          "output_type": "stream",
          "text": [
            "/usr/local/lib/python3.6/dist-packages/ipykernel_launcher.py:2: DeprecationWarning: The default dtype for empty Series will be 'object' instead of 'float64' in a future version. Specify a dtype explicitly to silence this warning.\n",
            "  \n"
          ],
          "name": "stderr"
        }
      ]
    },
    {
      "cell_type": "code",
      "metadata": {
        "id": "-1Tcvd-em2Oa",
        "colab": {
          "base_uri": "https://localhost:8080/",
          "height": 1000
        },
        "outputId": "b9dc15b0-de92-46fc-b99c-e9bd3d9d800f"
      },
      "source": [
        "spainMatrices"
      ],
      "execution_count": null,
      "outputs": [
        {
          "output_type": "execute_result",
          "data": {
            "text/plain": [
              "array([[ 2.,  1.,  1.,  1.,  0.,  1.,  2.,  2.,  0.,  0.,  0.,  0.,  0.,\n",
              "         0.,  0.,  2.,  6.,  2.,  0.,  0.,  3.,  5.,  0.,  2.,  1.,  0.,\n",
              "         0.,  0.,  0.,  0.,  1.,  3.,  2.,  5.,  1.,  0.,  4.,  0.,  0.,\n",
              "         3.,  0.,  0.,  0.,  0.,  0.,  0.,  1.,  2.,  3.,  2.,  0.,  5.,\n",
              "         0.,  5.,  2.,  0.,  0.,  0.,  0.,  0.,  0.,  1.,  0.,  4.,  4.,\n",
              "         0.,  0.,  1.,  1.,  1.,  0.,  0.,  0.,  0.,  0.,  1.,  1.,  0.,\n",
              "         0.,  0., 14., 16.,  3.,  3.,  1., 11.,  3.,  0.,  1.,  0.,  0.,\n",
              "         1.,  2.,  0.,  0., 14., 22., 14., 15.,  1., 11., 13.,  1.,  5.,\n",
              "         1.,  0.,  1.,  0.,  0.,  0.,  4., 16.,  8., 16.,  1.,  3.,  5.,\n",
              "         3.,  4.,  0.,  0.,  0.,  1.,  0.,  0.,  1., 12., 20., 18.,  6.,\n",
              "         2.,  2.,  3.,  8., 10.,  0.,  1.,  0.,  1.,  0.,  0.,  1.,  2.,\n",
              "        10.,  6.,  0.,  0.,  0.,  0.,  6.,  0.,  0.,  0.,  0.,  0.,  6.,\n",
              "        10.,  0.,  0.,  0., 29., 14.,  5.,  1.,  0.,  0.,  0.,  0.,  0.,\n",
              "         0.,  1.,  6.,  2.,  0.,  0., 17., 12.,  9.,  0.,  1.,  0.,  0.,\n",
              "         0.,  0.,  0.,  0.,  1.,  1.,  1.,  0.,  1.,  7.,  3.,  6.,  2.,\n",
              "         0.,  0.,  0.,  0.,  0.,  0.,  0.,  2.,  2.,  2.,  0.,  3.,  7.,\n",
              "         6.,  7.,  0.,  0.,  0.,  0.,  0.,  0.,  0.,  0.,  5.,  3.,  0.,\n",
              "         1.,  6., 12., 15.],\n",
              "       [ 3.,  6.,  2.,  0.,  0.,  2.,  2.,  0.,  0.,  0.,  0.,  0.,  0.,\n",
              "         0.,  0.,  3.,  8.,  5.,  2.,  2.,  7., 11.,  5.,  3.,  0.,  0.,\n",
              "         0.,  0.,  0.,  0.,  4.,  8.,  3.,  3.,  1.,  0.,  3.,  5.,  4.,\n",
              "         0.,  0.,  0.,  0.,  0.,  0.,  1.,  3.,  1.,  2.,  1.,  0.,  2.,\n",
              "         1.,  2.,  3.,  0.,  0.,  0.,  0.,  0.,  0.,  0.,  4.,  4.,  5.,\n",
              "         0.,  1.,  1.,  1.,  2.,  0.,  0.,  0.,  0.,  0.,  1.,  2.,  1.,\n",
              "         0.,  0., 20., 16.,  4.,  3.,  0., 12.,  4.,  0.,  0.,  0.,  0.,\n",
              "         5.,  0.,  0.,  0., 16., 22., 15., 16.,  0., 15.,  6.,  3.,  0.,\n",
              "         0.,  0.,  1.,  3.,  0.,  0.,  4., 21.,  7., 10.,  1.,  7.,  7.,\n",
              "         2.,  1.,  0.,  0.,  0.,  0.,  1.,  0.,  0.,  8., 16., 18., 12.,\n",
              "         3.,  2.,  0.,  6., 11.,  0.,  0.,  0.,  0.,  4.,  0.,  0.,  4.,\n",
              "        11., 14.,  0.,  0.,  0.,  2.,  2.,  0.,  0.,  0.,  0.,  0., 11.,\n",
              "         7.,  0.,  0.,  0., 23., 16.,  1.,  2.,  0.,  0.,  0.,  0.,  0.,\n",
              "         0.,  1.,  6.,  2.,  0.,  0., 11., 12.,  7.,  1.,  0.,  0.,  0.,\n",
              "         0.,  0.,  0.,  1.,  1.,  2.,  0.,  0.,  1.,  2.,  6.,  2.,  1.,\n",
              "         0.,  0.,  0.,  0.,  0.,  0.,  0.,  0.,  4.,  1.,  0.,  1.,  6.,\n",
              "         6.,  4.,  0.,  0.,  0.,  0.,  0.,  0.,  0.,  0.,  4.,  2.,  0.,\n",
              "         2.,  0.,  5.,  3.],\n",
              "       [ 3.,  6.,  1.,  2.,  1.,  1.,  0.,  0.,  0.,  0.,  0.,  0.,  0.,\n",
              "         0.,  0.,  5.,  5.,  4.,  0.,  0.,  4.,  3.,  2.,  2.,  1.,  1.,\n",
              "         0.,  0.,  0.,  0.,  1.,  6.,  3.,  2.,  0.,  1.,  5.,  0.,  4.,\n",
              "         2.,  0.,  0.,  0.,  0.,  0.,  0.,  1.,  4.,  6.,  5.,  0.,  1.,\n",
              "         1.,  3.,  3.,  0.,  0.,  0.,  2.,  0.,  0.,  0.,  1.,  9.,  6.,\n",
              "         0.,  1.,  0.,  1.,  2.,  0.,  0.,  0.,  0.,  0.,  1.,  2.,  1.,\n",
              "         1.,  0., 31., 21.,  7.,  2.,  0.,  7.,  6.,  3.,  0.,  1.,  0.,\n",
              "         2.,  1.,  0.,  0., 19., 18., 16.,  3.,  1., 13., 11.,  4.,  1.,\n",
              "         2.,  0.,  0.,  2.,  1.,  0.,  4., 17., 15., 10.,  5.,  3.,  2.,\n",
              "         0.,  2.,  1.,  0.,  0.,  1.,  0.,  0.,  4.,  8., 12.,  8.,  5.,\n",
              "         1.,  0.,  4.,  3.,  6.,  0.,  0.,  1.,  1.,  2.,  1.,  2.,  1.,\n",
              "        15., 12.,  0.,  0.,  1.,  2.,  2.,  0.,  0.,  0.,  0.,  0., 12.,\n",
              "         4.,  1.,  0.,  0., 11., 12.,  0.,  2.,  0.,  0.,  0.,  0.,  0.,\n",
              "         0.,  2.,  6.,  0.,  0.,  0.,  9., 10.,  9.,  1.,  1.,  0.,  0.,\n",
              "         0.,  1.,  0.,  2.,  3.,  2.,  1.,  0.,  2.,  3.,  5.,  6.,  3.,\n",
              "         0.,  0.,  0.,  0.,  0.,  0.,  1.,  1.,  1.,  3.,  0.,  2.,  7.,\n",
              "         4.,  3.,  0.,  0.,  0.,  0.,  0.,  0.,  1.,  0.,  2.,  2.,  0.,\n",
              "         0.,  4.,  7., 16.],\n",
              "       [ 3.,  2.,  1.,  0.,  0.,  0.,  2.,  0.,  0.,  0.,  0.,  0.,  0.,\n",
              "         0.,  0.,  1.,  3.,  3.,  3.,  1.,  5.,  4.,  2.,  1.,  0.,  0.,\n",
              "         0.,  0.,  0.,  1.,  3.,  2.,  3.,  5.,  0.,  4.,  1.,  4.,  2.,\n",
              "         3.,  0.,  1.,  2.,  0.,  0.,  0.,  4.,  9.,  7.,  4.,  1.,  2.,\n",
              "         7.,  4.,  5.,  0.,  1.,  0.,  1.,  0.,  0.,  0.,  2.,  2.,  3.,\n",
              "         0.,  0.,  0.,  4.,  4.,  0.,  0.,  0.,  0.,  1.,  0.,  2.,  0.,\n",
              "         0.,  0.,  4.,  6.,  3.,  0.,  0.,  3.,  5.,  0.,  0.,  0.,  1.,\n",
              "         1.,  3.,  1.,  0.,  5.,  7.,  1.,  2.,  0.,  6.,  4.,  1.,  1.,\n",
              "         3.,  1.,  0.,  1.,  1.,  2.,  0.,  2.,  3.,  3.,  1.,  1.,  5.,\n",
              "         2.,  2.,  1.,  0.,  1.,  5.,  4.,  1.,  0.,  6.,  3.,  7.,  9.,\n",
              "         1.,  2.,  2.,  5., 10.,  0.,  0.,  0.,  5.,  3.,  0.,  0.,  1.,\n",
              "         6.,  3.,  0.,  1.,  0.,  2.,  4.,  0.,  0.,  0.,  0.,  0.,  3.,\n",
              "         2.,  1.,  0.,  0., 16., 14.,  2.,  1.,  0.,  0.,  0.,  0.,  0.,\n",
              "         0.,  2.,  2.,  0.,  2.,  1., 13., 11.,  6.,  2.,  1.,  0.,  0.,\n",
              "         0.,  0.,  0.,  1.,  1.,  0.,  3.,  0.,  4.,  4.,  2.,  0.,  3.,\n",
              "         0.,  0.,  0.,  0.,  0.,  0.,  0.,  1.,  3.,  0.,  0.,  4.,  6.,\n",
              "         5., 12.,  0.,  0.,  0.,  0.,  0.,  0.,  0.,  0.,  8.,  0.,  0.,\n",
              "         3.,  3., 12., 20.]])"
            ]
          },
          "metadata": {
            "tags": []
          },
          "execution_count": 23
        }
      ]
    },
    {
      "cell_type": "code",
      "metadata": {
        "id": "MTC72Imnm2TZ",
        "colab": {
          "base_uri": "https://localhost:8080/",
          "height": 71
        },
        "outputId": "7dafb1ee-c22e-45a8-ac0c-196bd6de9943"
      },
      "source": [
        "switzerlandMatrices = np.zeros((38, 225))\n",
        "switzerlandMatrices = getTeamMatrices(6697)"
      ],
      "execution_count": null,
      "outputs": [
        {
          "output_type": "stream",
          "text": [
            "/usr/local/lib/python3.6/dist-packages/ipykernel_launcher.py:2: DeprecationWarning: The default dtype for empty Series will be 'object' instead of 'float64' in a future version. Specify a dtype explicitly to silence this warning.\n",
            "  \n"
          ],
          "name": "stderr"
        }
      ]
    },
    {
      "cell_type": "code",
      "metadata": {
        "id": "ov3WAWrXm2iT",
        "colab": {
          "base_uri": "https://localhost:8080/",
          "height": 1000
        },
        "outputId": "8fb64bf4-2655-4910-a2f2-51205f9ade1f"
      },
      "source": [
        "switzerlandMatrices"
      ],
      "execution_count": null,
      "outputs": [
        {
          "output_type": "execute_result",
          "data": {
            "text/plain": [
              "array([[ 4.,  5.,  5.,  0.,  0.,  0.,  1.,  0.,  0.,  0.,  0.,  0.,  0.,\n",
              "         0.,  0.,  7.,  2.,  7.,  0.,  1.,  4.,  4.,  3.,  2.,  3.,  1.,\n",
              "         1.,  0.,  0.,  0.,  2.,  3.,  1.,  7.,  1.,  2.,  4.,  2.,  3.,\n",
              "         1.,  1.,  0.,  0.,  0.,  0.,  0.,  9.,  2.,  2.,  1.,  1.,  3.,\n",
              "         2.,  4.,  1.,  0.,  0.,  0.,  0.,  0.,  0.,  1.,  1.,  2.,  2.,\n",
              "         0.,  1.,  0.,  2.,  1.,  0.,  0.,  0.,  0.,  0.,  1.,  3.,  0.,\n",
              "         0.,  0., 10., 16.,  2.,  3.,  0.,  4.,  2.,  1.,  0.,  1.,  0.,\n",
              "         2.,  0.,  1.,  0.,  6., 20., 17., 12.,  1.,  5.,  7.,  2.,  3.,\n",
              "         0.,  0.,  0.,  0.,  3.,  0.,  8., 14.,  7., 11.,  2.,  2.,  3.,\n",
              "         1.,  4.,  2.,  0.,  0.,  2.,  3.,  1.,  2., 11., 20., 14.,  8.,\n",
              "         1.,  2.,  1.,  5.,  3.,  0.,  0.,  0.,  3.,  2.,  0.,  2.,  2.,\n",
              "         8.,  6.,  0.,  0.,  1.,  1.,  3.,  0.,  0.,  0.,  0.,  0.,  8.,\n",
              "         1.,  0.,  0.,  0.,  6.,  3.,  0.,  0.,  0.,  0.,  0.,  0.,  0.,\n",
              "         0.,  1.,  0.,  0.,  0.,  0.,  3.,  4.,  4.,  0.,  1.,  0.,  0.,\n",
              "         0.,  0.,  0.,  0.,  0.,  0.,  0.,  0.,  0.,  3.,  3.,  5.,  1.,\n",
              "         0.,  0.,  0.,  0.,  0.,  0.,  0.,  0.,  4.,  1.,  0.,  1.,  3.,\n",
              "        10.,  6.,  0.,  0.,  0.,  0.,  0.,  0.,  0.,  2.,  2.,  1.,  0.,\n",
              "         0.,  0.,  5.,  6.],\n",
              "       [ 2.,  4.,  1.,  0.,  0.,  3.,  2.,  0.,  0.,  0.,  0.,  0.,  0.,\n",
              "         0.,  0.,  3.,  7.,  7.,  1.,  1.,  7.,  9.,  1.,  1.,  1.,  0.,\n",
              "         0.,  0.,  0.,  0.,  1.,  7.,  3.,  6.,  1.,  5.,  6.,  1.,  4.,\n",
              "         5.,  0.,  1.,  0.,  0.,  1.,  1.,  4.,  8.,  4.,  2.,  0.,  1.,\n",
              "         2.,  5.,  2.,  0.,  0.,  0.,  0.,  0.,  0.,  0.,  2.,  6.,  4.,\n",
              "         0.,  0.,  0.,  0.,  3.,  0.,  0.,  0.,  0.,  0.,  1.,  4.,  3.,\n",
              "         1.,  0., 20., 17.,  3.,  0.,  0.,  4.,  0.,  0.,  0.,  1.,  1.,\n",
              "         3.,  1.,  0.,  0., 17., 19.,  8.,  2.,  1.,  3.,  9.,  1.,  0.,\n",
              "         1.,  0.,  0.,  4.,  0.,  0.,  2.,  6.,  7.,  6.,  2.,  0.,  1.,\n",
              "         3.,  1.,  1.,  0.,  1.,  2.,  2.,  0.,  0.,  4.,  7.,  8., 10.,\n",
              "         2.,  1.,  2.,  1.,  4.,  0.,  0.,  1.,  2.,  1.,  0.,  1.,  1.,\n",
              "        14.,  9.,  1.,  0.,  1.,  3.,  7.,  0.,  0.,  0.,  0.,  0.,  0.,\n",
              "         2.,  0.,  0.,  0.,  9.,  6.,  0.,  1.,  0.,  0.,  0.,  0.,  0.,\n",
              "         0.,  0.,  2.,  1.,  1.,  0.,  1.,  6.,  2.,  1.,  1.,  0.,  0.,\n",
              "         0.,  0.,  0.,  0.,  1.,  0.,  0.,  0.,  0.,  2.,  3.,  3.,  0.,\n",
              "         0.,  0.,  0.,  0.,  0.,  0.,  0.,  2.,  1.,  0.,  0.,  0.,  5.,\n",
              "         2.,  3.,  0.,  0.,  0.,  0.,  0.,  0.,  0.,  0.,  1.,  1.,  0.,\n",
              "         2.,  1.,  4., 12.],\n",
              "       [ 7.,  6.,  2.,  0.,  0.,  4.,  3.,  1.,  1.,  0.,  0.,  0.,  0.,\n",
              "         0.,  0.,  6., 12.,  3.,  5.,  0.,  7.,  6.,  4.,  5.,  1.,  2.,\n",
              "         1.,  0.,  0.,  0.,  3.,  8.,  7.,  4.,  1.,  0.,  3.,  4.,  2.,\n",
              "         1.,  1.,  0.,  0.,  0.,  0.,  0.,  5.,  6.,  7.,  1.,  0.,  3.,\n",
              "         4.,  8.,  4.,  0.,  1.,  1.,  0.,  1.,  0.,  1.,  0.,  2.,  1.,\n",
              "         0.,  0.,  0.,  2.,  4.,  0.,  0.,  0.,  0.,  1.,  2.,  3.,  0.,\n",
              "         0.,  0.,  3.,  7.,  0.,  0.,  0.,  4.,  4.,  2.,  0.,  0.,  0.,\n",
              "         5.,  4.,  4.,  0.,  9., 14.,  6.,  2.,  2.,  9.,  3.,  2.,  0.,\n",
              "         4.,  0.,  2.,  2.,  4.,  1.,  2., 11.,  8.,  4.,  2.,  0.,  1.,\n",
              "         0.,  2.,  4.,  0.,  2.,  1.,  2.,  1.,  0.,  3., 10.,  5.,  6.,\n",
              "         0.,  0.,  0.,  2.,  4.,  0.,  0.,  0.,  3.,  0.,  0.,  0.,  2.,\n",
              "         7.,  3.,  0.,  0.,  2.,  3.,  5.,  0.,  0.,  0.,  0.,  0.,  2.,\n",
              "         2.,  0.,  0.,  0.,  8.,  6.,  0.,  1.,  0.,  1.,  0.,  0.,  0.,\n",
              "         0.,  3.,  4.,  0.,  0.,  0.,  3.,  6.,  4.,  0.,  0.,  0.,  0.,\n",
              "         0.,  0.,  0.,  0.,  3.,  1.,  0.,  1.,  0.,  0.,  2.,  2.,  2.,\n",
              "         0.,  0.,  0.,  0.,  0.,  0.,  0.,  0.,  4.,  0.,  0.,  2.,  0.,\n",
              "         1.,  4.,  0.,  0.,  0.,  1.,  0.,  0.,  0.,  0.,  3.,  0.,  0.,\n",
              "         0.,  2.,  8., 11.],\n",
              "       [ 1.,  3.,  2.,  1.,  0.,  4.,  2.,  0.,  1.,  0.,  0.,  0.,  0.,\n",
              "         0.,  0.,  4.,  2.,  6.,  1.,  1., 12., 11.,  2.,  1.,  0.,  0.,\n",
              "         0.,  0.,  3.,  0.,  4.,  4.,  6.,  3.,  1.,  1.,  4.,  0.,  4.,\n",
              "         2.,  0.,  0.,  0.,  0.,  0.,  0.,  7.,  1.,  3.,  1.,  4.,  6.,\n",
              "         3.,  6.,  1.,  0.,  0.,  0.,  1.,  0.,  0.,  1.,  1.,  3.,  1.,\n",
              "         0.,  0.,  0.,  1.,  1.,  0.,  0.,  0.,  0.,  0.,  3.,  8.,  0.,\n",
              "         0.,  0., 17., 20.,  6.,  0.,  0.,  8.,  3.,  1.,  0.,  1.,  0.,\n",
              "         4.,  1.,  1.,  0., 16., 15., 14.,  2.,  1., 10., 10.,  3.,  4.,\n",
              "         4.,  0.,  2.,  1.,  1.,  0.,  4.,  9.,  6.,  6.,  8.,  2.,  1.,\n",
              "         2.,  6.,  1.,  0.,  0.,  2.,  3.,  0.,  2.,  2.,  7.,  4.,  6.,\n",
              "         0.,  3.,  1.,  2.,  3.,  0.,  0.,  2.,  1.,  1.,  0.,  2.,  3.,\n",
              "         6.,  6.,  0.,  0.,  1.,  5.,  9.,  0.,  0.,  0.,  0.,  0.,  1.,\n",
              "         2.,  0.,  0.,  0.,  8.,  4.,  3.,  0.,  0.,  0.,  1.,  0.,  0.,\n",
              "         0.,  1.,  8.,  0.,  0.,  1.,  4.,  8.,  2.,  1.,  0.,  0.,  0.,\n",
              "         0.,  0.,  0.,  0.,  1.,  0.,  0.,  0.,  2.,  3.,  4.,  1.,  2.,\n",
              "         0.,  0.,  0.,  0.,  0.,  2.,  2.,  0.,  1.,  2.,  1.,  0.,  3.,\n",
              "        10.,  5.,  0.,  0.,  0.,  0.,  0.,  0.,  1.,  0.,  1.,  3.,  0.,\n",
              "         3.,  1.,  5., 14.]])"
            ]
          },
          "metadata": {
            "tags": []
          },
          "execution_count": 25
        }
      ]
    },
    {
      "cell_type": "code",
      "metadata": {
        "id": "U-PoOYUPm2mI",
        "colab": {
          "base_uri": "https://localhost:8080/",
          "height": 71
        },
        "outputId": "71e31907-2b12-4c54-e92b-950c7d8b359b"
      },
      "source": [
        "italyMatrices = np.zeros((38, 225))\n",
        "italyMatrices = getTeamMatrices(3757)"
      ],
      "execution_count": null,
      "outputs": [
        {
          "output_type": "stream",
          "text": [
            "/usr/local/lib/python3.6/dist-packages/ipykernel_launcher.py:2: DeprecationWarning: The default dtype for empty Series will be 'object' instead of 'float64' in a future version. Specify a dtype explicitly to silence this warning.\n",
            "  \n"
          ],
          "name": "stderr"
        }
      ]
    },
    {
      "cell_type": "code",
      "metadata": {
        "id": "dLNUmr3mm22U",
        "colab": {
          "base_uri": "https://localhost:8080/",
          "height": 102
        },
        "outputId": "7469783b-788d-4092-ce4b-c05104cceced"
      },
      "source": [
        "italyMatrices"
      ],
      "execution_count": null,
      "outputs": [
        {
          "output_type": "execute_result",
          "data": {
            "text/plain": [
              "array([[ 4.,  2.,  3., ...,  3.,  2., 10.],\n",
              "       [ 3.,  2.,  2., ...,  2.,  1.,  0.],\n",
              "       [ 1.,  3.,  3., ...,  1.,  2.,  2.],\n",
              "       [ 6.,  2.,  3., ...,  2.,  3.,  2.],\n",
              "       [ 2.,  5.,  5., ...,  1.,  1.,  2.]])"
            ]
          },
          "metadata": {
            "tags": []
          },
          "execution_count": 27
        }
      ]
    },
    {
      "cell_type": "code",
      "metadata": {
        "id": "_J76pNhSm27H",
        "colab": {
          "base_uri": "https://localhost:8080/",
          "height": 71
        },
        "outputId": "6f684be0-1931-42e2-ea5f-19d81dad1426"
      },
      "source": [
        "belgiumMatrices = np.zeros((38, 225))\n",
        "belgiumMatrices = getTeamMatrices(5629)"
      ],
      "execution_count": null,
      "outputs": [
        {
          "output_type": "stream",
          "text": [
            "/usr/local/lib/python3.6/dist-packages/ipykernel_launcher.py:2: DeprecationWarning: The default dtype for empty Series will be 'object' instead of 'float64' in a future version. Specify a dtype explicitly to silence this warning.\n",
            "  \n"
          ],
          "name": "stderr"
        }
      ]
    },
    {
      "cell_type": "code",
      "metadata": {
        "id": "k65zBSSSm3JT",
        "colab": {
          "base_uri": "https://localhost:8080/",
          "height": 102
        },
        "outputId": "a27ebac9-1543-4522-e3c8-af3c88b89622"
      },
      "source": [
        "belgiumMatrices"
      ],
      "execution_count": null,
      "outputs": [
        {
          "output_type": "execute_result",
          "data": {
            "text/plain": [
              "array([[ 2.,  3.,  0., ...,  4.,  5., 12.],\n",
              "       [ 1.,  1.,  0., ...,  4.,  8., 14.],\n",
              "       [ 0.,  0.,  0., ...,  0.,  5.,  3.],\n",
              "       [ 1.,  1.,  0., ...,  2.,  3., 10.],\n",
              "       [ 4.,  4.,  1., ...,  7., 10., 15.]])"
            ]
          },
          "metadata": {
            "tags": []
          },
          "execution_count": 29
        }
      ]
    },
    {
      "cell_type": "code",
      "metadata": {
        "id": "wTFmpHWUm3NP",
        "colab": {
          "base_uri": "https://localhost:8080/",
          "height": 71
        },
        "outputId": "bf096e61-4bf4-4f52-b767-e0d082aaf424"
      },
      "source": [
        "walesMatrices = np.zeros((38, 225))\n",
        "walesMatrices = getTeamMatrices(10682)"
      ],
      "execution_count": null,
      "outputs": [
        {
          "output_type": "stream",
          "text": [
            "/usr/local/lib/python3.6/dist-packages/ipykernel_launcher.py:2: DeprecationWarning: The default dtype for empty Series will be 'object' instead of 'float64' in a future version. Specify a dtype explicitly to silence this warning.\n",
            "  \n"
          ],
          "name": "stderr"
        }
      ]
    },
    {
      "cell_type": "code",
      "metadata": {
        "id": "7Ds1eLYlm3bp",
        "colab": {
          "base_uri": "https://localhost:8080/",
          "height": 119
        },
        "outputId": "5f0eab10-95da-4643-f287-58f2006588e8"
      },
      "source": [
        "walesMatrices"
      ],
      "execution_count": null,
      "outputs": [
        {
          "output_type": "execute_result",
          "data": {
            "text/plain": [
              "array([[ 0.,  2.,  3., ...,  2.,  4.,  8.],\n",
              "       [ 2.,  1.,  1., ...,  0.,  0.,  2.],\n",
              "       [ 3.,  2.,  1., ...,  2.,  6.,  5.],\n",
              "       [ 2.,  1.,  3., ...,  1.,  2.,  8.],\n",
              "       [ 5.,  6.,  1., ...,  1.,  6., 14.],\n",
              "       [ 1.,  2.,  4., ...,  1.,  3.,  3.]])"
            ]
          },
          "metadata": {
            "tags": []
          },
          "execution_count": 31
        }
      ]
    },
    {
      "cell_type": "code",
      "metadata": {
        "id": "OpVD4nA9m3gD",
        "colab": {
          "base_uri": "https://localhost:8080/",
          "height": 71
        },
        "outputId": "9cb0db92-e71a-4249-eca9-befedf810d4a"
      },
      "source": [
        "romaniaMatrices = np.zeros((38, 225))\n",
        "romaniaMatrices = getTeamMatrices(11944)"
      ],
      "execution_count": null,
      "outputs": [
        {
          "output_type": "stream",
          "text": [
            "/usr/local/lib/python3.6/dist-packages/ipykernel_launcher.py:2: DeprecationWarning: The default dtype for empty Series will be 'object' instead of 'float64' in a future version. Specify a dtype explicitly to silence this warning.\n",
            "  \n"
          ],
          "name": "stderr"
        }
      ]
    },
    {
      "cell_type": "code",
      "metadata": {
        "id": "ppu7ssD8m3ul",
        "colab": {
          "base_uri": "https://localhost:8080/",
          "height": 935
        },
        "outputId": "f489667a-c9a2-4e46-9216-2dab3b83040b"
      },
      "source": [
        "romaniaMatrices"
      ],
      "execution_count": null,
      "outputs": [
        {
          "output_type": "execute_result",
          "data": {
            "text/plain": [
              "array([[ 1.,  2.,  0.,  0.,  0.,  5.,  1.,  0.,  0.,  0.,  1.,  0.,  0.,\n",
              "         0.,  0.,  2.,  0.,  2.,  0.,  0.,  4.,  1.,  1.,  0.,  0.,  0.,\n",
              "         0.,  0.,  0.,  0.,  1.,  3.,  1.,  4.,  2.,  2.,  2.,  1.,  0.,\n",
              "         0.,  0.,  0.,  1.,  0.,  0.,  0.,  1.,  0.,  0.,  0.,  1.,  0.,\n",
              "         1.,  2.,  1.,  0.,  0.,  0.,  0.,  0.,  0.,  0.,  0.,  0.,  2.,\n",
              "         0.,  0.,  0.,  3.,  1.,  0.,  0.,  0.,  0.,  0.,  2.,  1.,  1.,\n",
              "         0.,  0., 16., 11.,  0.,  0.,  0., 14.,  5.,  0.,  0.,  0.,  1.,\n",
              "         1.,  1.,  0.,  0.,  6.,  7.,  0.,  0.,  2.,  4.,  2.,  1.,  0.,\n",
              "         1.,  0.,  0.,  1.,  0.,  0.,  1.,  1.,  2.,  2.,  0.,  2.,  1.,\n",
              "         0.,  0.,  0.,  0.,  0.,  0.,  0.,  0.,  0.,  1.,  0.,  5.,  1.,\n",
              "         0.,  0.,  0.,  0.,  1.,  0.,  0.,  0.,  0.,  1.,  1.,  0.,  1.,\n",
              "         5.,  7.,  0.,  1.,  0.,  2.,  2.,  0.,  0.,  0.,  0.,  0.,  4.,\n",
              "         0.,  0.,  0.,  0., 10.,  2.,  0.,  1.,  1.,  0.,  0.,  0.,  0.,\n",
              "         0.,  1.,  0.,  1.,  0.,  0.,  3.,  1.,  0.,  0.,  0.,  0.,  0.,\n",
              "         0.,  0.,  0.,  0.,  0.,  0.,  0.,  0.,  0.,  0.,  1.,  0.,  0.,\n",
              "         0.,  0.,  0.,  0.,  0.,  0.,  0.,  1.,  0.,  0.,  0.,  0.,  1.,\n",
              "         0.,  0.,  0.,  0.,  0.,  0.,  0.,  0.,  0.,  0.,  0.,  1.,  0.,\n",
              "         0.,  0.,  1., 15.],\n",
              "       [ 3.,  1.,  0.,  0.,  0.,  2.,  0.,  1.,  0.,  0.,  1.,  0.,  0.,\n",
              "         0.,  0.,  3.,  0.,  2.,  2.,  0.,  3.,  5.,  0.,  1.,  0.,  0.,\n",
              "         0.,  0.,  0.,  0.,  1.,  4.,  0.,  4.,  0.,  2.,  1.,  1.,  1.,\n",
              "         0.,  0.,  1.,  0.,  0.,  0.,  0.,  2.,  2.,  3.,  1.,  0.,  1.,\n",
              "         1.,  1.,  3.,  0.,  1.,  1.,  1.,  0.,  0.,  0.,  0.,  4.,  1.,\n",
              "         0.,  0.,  0.,  1.,  3.,  0.,  0.,  0.,  0.,  0.,  1.,  0.,  0.,\n",
              "         0.,  0.,  9.,  2.,  0.,  0.,  0.,  8.,  2.,  0.,  1.,  0.,  0.,\n",
              "         0.,  1.,  0.,  0.,  3.,  3.,  0.,  1.,  0.,  4.,  3.,  0.,  0.,\n",
              "         1.,  0.,  0.,  0.,  0.,  0.,  3.,  3.,  1.,  0.,  0.,  0.,  0.,\n",
              "         1.,  0.,  0.,  0.,  0.,  1.,  0.,  1.,  0.,  0.,  1.,  1.,  6.,\n",
              "         1.,  0.,  0.,  2.,  0.,  0.,  0.,  0.,  0.,  1.,  0.,  0.,  0.,\n",
              "         4.,  4.,  2.,  0.,  0.,  0.,  3.,  0.,  0.,  0.,  0.,  0.,  3.,\n",
              "         1.,  0.,  0.,  0., 12.,  5.,  2.,  0.,  0.,  0.,  0.,  0.,  0.,\n",
              "         0.,  1.,  0.,  0.,  0.,  0.,  1.,  8.,  1.,  2.,  0.,  0.,  0.,\n",
              "         0.,  0.,  0.,  0.,  0.,  0.,  0.,  0.,  1.,  2.,  1.,  1.,  0.,\n",
              "         0.,  0.,  0.,  0.,  0.,  0.,  0.,  0.,  0.,  0.,  0.,  0.,  2.,\n",
              "         2.,  1.,  0.,  0.,  0.,  0.,  0.,  0.,  0.,  0.,  0.,  1.,  0.,\n",
              "         2.,  0.,  1.,  3.],\n",
              "       [ 3.,  0.,  2.,  0.,  0.,  1.,  5.,  1.,  0.,  0.,  0.,  0.,  0.,\n",
              "         0.,  0.,  0.,  3.,  4.,  1.,  0.,  3.,  5.,  6.,  1.,  0.,  0.,\n",
              "         1.,  0.,  0.,  0.,  4.,  0.,  2.,  5.,  0.,  2.,  4.,  3.,  6.,\n",
              "         2.,  0.,  0.,  0.,  0.,  0.,  0.,  1.,  2.,  4.,  3.,  0.,  3.,\n",
              "         2.,  7.,  1.,  0.,  0.,  0.,  0.,  0.,  0.,  0.,  1.,  5.,  1.,\n",
              "         0.,  0.,  0.,  1.,  1.,  0.,  0.,  0.,  0.,  0.,  2.,  3.,  2.,\n",
              "         0.,  0., 13., 12.,  2.,  0.,  0.,  6.,  4.,  0.,  0.,  1.,  0.,\n",
              "         2.,  3.,  0.,  0., 12., 11., 13.,  4.,  2.,  2.,  4.,  3.,  2.,\n",
              "         1.,  0.,  0.,  2.,  1.,  0.,  3.,  9., 13., 11.,  1.,  0.,  6.,\n",
              "         4.,  0.,  0.,  0.,  3.,  2.,  1.,  0.,  1.,  3., 10., 13., 11.,\n",
              "         1.,  0.,  3.,  5.,  4.,  0.,  0.,  0.,  2.,  0.,  0.,  1.,  1.,\n",
              "         7.,  9.,  0.,  0.,  0.,  5.,  8.,  0.,  0.,  0.,  0.,  0.,  3.,\n",
              "         3.,  1.,  1.,  0.,  6.,  0.,  0.,  0.,  0.,  0.,  0.,  0.,  0.,\n",
              "         0.,  0.,  0.,  0.,  1.,  0.,  3.,  8.,  5.,  2.,  0.,  0.,  0.,\n",
              "         0.,  0.,  0.,  0.,  0.,  0.,  1.,  0.,  0.,  5.,  4.,  1.,  1.,\n",
              "         0.,  0.,  0.,  0.,  0.,  0.,  0.,  1.,  2.,  3.,  1.,  0.,  4.,\n",
              "         5.,  3.,  0.,  0.,  0.,  0.,  0.,  0.,  0.,  0.,  2.,  3.,  0.,\n",
              "         1.,  2.,  4.,  6.]])"
            ]
          },
          "metadata": {
            "tags": []
          },
          "execution_count": 33
        }
      ]
    },
    {
      "cell_type": "code",
      "metadata": {
        "id": "bCWmPCWom3zK",
        "colab": {
          "base_uri": "https://localhost:8080/",
          "height": 71
        },
        "outputId": "7c81ee94-a0e9-4eb9-b158-7bf02132163c"
      },
      "source": [
        "albaniaMatrices = np.zeros((38, 225))\n",
        "albaniaMatrices = getTeamMatrices(8731)"
      ],
      "execution_count": null,
      "outputs": [
        {
          "output_type": "stream",
          "text": [
            "/usr/local/lib/python3.6/dist-packages/ipykernel_launcher.py:2: DeprecationWarning: The default dtype for empty Series will be 'object' instead of 'float64' in a future version. Specify a dtype explicitly to silence this warning.\n",
            "  \n"
          ],
          "name": "stderr"
        }
      ]
    },
    {
      "cell_type": "code",
      "metadata": {
        "id": "3GZ4eRMqm4BJ",
        "colab": {
          "base_uri": "https://localhost:8080/",
          "height": 935
        },
        "outputId": "b793bef6-80f1-44bd-b603-2737569c10f4"
      },
      "source": [
        "albaniaMatrices"
      ],
      "execution_count": null,
      "outputs": [
        {
          "output_type": "execute_result",
          "data": {
            "text/plain": [
              "array([[ 4.,  1.,  0.,  0.,  0.,  1.,  2.,  0.,  1.,  0.,  0.,  0.,  0.,\n",
              "         0.,  0.,  1.,  4.,  8.,  1.,  0.,  2.,  2.,  0.,  1.,  1.,  1.,\n",
              "         0.,  1.,  0.,  0.,  2.,  6.,  7.,  5.,  1.,  4.,  2.,  4.,  1.,\n",
              "         5.,  0.,  0.,  0.,  0.,  0.,  0.,  1.,  7.,  9.,  9.,  1.,  1.,\n",
              "         2.,  2.,  3.,  0.,  0.,  0.,  0.,  0.,  0.,  0.,  4.,  4.,  9.,\n",
              "         0.,  0.,  0.,  3.,  3.,  0.,  0.,  0.,  0.,  0.,  0.,  4.,  0.,\n",
              "         0.,  0.,  5.,  6.,  1.,  0.,  0.,  7.,  1.,  2.,  0.,  0.,  0.,\n",
              "         1.,  0.,  0.,  0., 12.,  8.,  7.,  1.,  0.,  3.,  1.,  2.,  0.,\n",
              "         0.,  0.,  0.,  0.,  0.,  0.,  5.,  6., 14.,  6.,  2.,  0.,  0.,\n",
              "         0.,  0.,  1.,  0.,  1.,  1.,  2.,  2.,  0.,  3.,  2., 10.,  6.,\n",
              "         2.,  1.,  3.,  2.,  3.,  0.,  0.,  2.,  3.,  0.,  0.,  0.,  0.,\n",
              "         7., 11.,  0.,  0.,  1.,  1.,  5.,  0.,  0.,  0.,  0.,  0.,  2.,\n",
              "         1.,  0.,  0.,  0., 13.,  2.,  0.,  0.,  0.,  0.,  0.,  0.,  0.,\n",
              "         0.,  0.,  0.,  0.,  0.,  0.,  1.,  3.,  2.,  0.,  0.,  0.,  0.,\n",
              "         0.,  0.,  0.,  1.,  0.,  0.,  0.,  0.,  0.,  0.,  0.,  1.,  0.,\n",
              "         0.,  0.,  0.,  0.,  0.,  0.,  0.,  0.,  0.,  0.,  1.,  0.,  0.,\n",
              "         1.,  3.,  0.,  0.,  0.,  0.,  0.,  0.,  0.,  0.,  1.,  0.,  0.,\n",
              "         0.,  1.,  2.,  6.],\n",
              "       [ 0.,  2.,  0.,  0.,  0.,  4.,  1.,  0.,  0.,  0.,  0.,  1.,  0.,\n",
              "         0.,  0.,  1.,  2.,  3.,  2.,  0.,  3.,  2.,  0.,  0.,  0.,  0.,\n",
              "         0.,  0.,  0.,  0.,  0.,  2.,  4.,  3.,  1.,  2.,  3.,  1.,  0.,\n",
              "         4.,  0.,  0.,  0.,  0.,  0.,  0.,  2.,  3.,  5.,  5.,  0.,  2.,\n",
              "         2.,  3.,  4.,  0.,  0.,  0.,  0.,  0.,  0.,  0.,  2.,  3.,  5.,\n",
              "         0.,  0.,  0.,  3.,  5.,  0.,  0.,  0.,  0.,  0.,  0.,  1.,  0.,\n",
              "         0.,  0., 16.,  6.,  4.,  0.,  0.,  1.,  0.,  0.,  0.,  0.,  0.,\n",
              "         1.,  2.,  1.,  0.,  6.,  3.,  4.,  3.,  1.,  2.,  0.,  0.,  1.,\n",
              "         1.,  0.,  0.,  0.,  1.,  2.,  4.,  4.,  4.,  5.,  3.,  1.,  0.,\n",
              "         1.,  1.,  3.,  0.,  0.,  2.,  1.,  0.,  0.,  2.,  5.,  8.,  7.,\n",
              "         0.,  0.,  0.,  0.,  4.,  0.,  0.,  0.,  1.,  0.,  0.,  1.,  2.,\n",
              "         6., 15.,  1.,  0.,  1.,  3.,  4.,  0.,  0.,  0.,  0.,  0.,  1.,\n",
              "         1.,  0.,  0.,  0.,  3.,  2.,  2.,  0.,  0.,  0.,  0.,  0.,  0.,\n",
              "         0.,  0.,  1.,  0.,  0.,  0.,  0.,  1.,  0.,  0.,  0.,  0.,  0.,\n",
              "         0.,  0.,  0.,  0.,  0.,  0.,  0.,  0.,  0.,  0.,  0.,  0.,  0.,\n",
              "         0.,  0.,  0.,  0.,  0.,  0.,  0.,  0.,  1.,  0.,  0.,  0.,  0.,\n",
              "         0.,  0.,  0.,  0.,  0.,  0.,  0.,  0.,  0.,  0.,  1.,  2.,  1.,\n",
              "         0.,  2.,  2.,  9.],\n",
              "       [ 6.,  2.,  0.,  0.,  0.,  1.,  0.,  0.,  0.,  0.,  1.,  0.,  0.,\n",
              "         0.,  0.,  4.,  2.,  3.,  0.,  0.,  4.,  2.,  0.,  1.,  0.,  0.,\n",
              "         1.,  0.,  0.,  1.,  2.,  2.,  2.,  3.,  0.,  0.,  3.,  1.,  1.,\n",
              "         2.,  1.,  0.,  0.,  0.,  0.,  0.,  0.,  3.,  4.,  5.,  0.,  1.,\n",
              "         1.,  1.,  4.,  0.,  0.,  0.,  0.,  0.,  0.,  0.,  2.,  2.,  5.,\n",
              "         0.,  1.,  0.,  3.,  4.,  0.,  0.,  0.,  0.,  0.,  0.,  1.,  0.,\n",
              "         0.,  0.,  4.,  2.,  1.,  0.,  0.,  4.,  1.,  1.,  0.,  0.,  0.,\n",
              "         2.,  1.,  1.,  0.,  5.,  5.,  4.,  0.,  0.,  3.,  0.,  0.,  0.,\n",
              "         0.,  0.,  3.,  0.,  1.,  0.,  0.,  1.,  2.,  1.,  0.,  1.,  0.,\n",
              "         0.,  0.,  0.,  0.,  0.,  0.,  2.,  0.,  0.,  0.,  4.,  6.,  4.,\n",
              "         2.,  0.,  0.,  1.,  2.,  0.,  0.,  0.,  0.,  2.,  0.,  0.,  0.,\n",
              "         4.,  3.,  0.,  0.,  0.,  3.,  4.,  0.,  0.,  0.,  0.,  0.,  2.,\n",
              "         2.,  0.,  0.,  0., 10.,  1.,  1.,  0.,  0.,  0.,  0.,  0.,  0.,\n",
              "         0.,  0.,  0.,  0.,  0.,  0.,  0.,  1.,  0.,  1.,  0.,  0.,  0.,\n",
              "         0.,  0.,  0.,  0.,  0.,  0.,  0.,  0.,  0.,  1.,  0.,  1.,  0.,\n",
              "         0.,  0.,  0.,  0.,  0.,  0.,  0.,  0.,  0.,  1.,  0.,  2.,  0.,\n",
              "         1.,  4.,  0.,  0.,  0.,  0.,  0.,  0.,  0.,  0.,  0.,  2.,  0.,\n",
              "         0.,  0.,  2.,  9.]])"
            ]
          },
          "metadata": {
            "tags": []
          },
          "execution_count": 35
        }
      ]
    },
    {
      "cell_type": "code",
      "metadata": {
        "id": "smV8uydfm4FH",
        "colab": {
          "base_uri": "https://localhost:8080/",
          "height": 71
        },
        "outputId": "6fec0d34-05ab-4ef5-b7fc-14199c9735a1"
      },
      "source": [
        "germanyMatrices = np.zeros((38, 225))\n",
        "germanyMatrices = getTeamMatrices(3148)"
      ],
      "execution_count": null,
      "outputs": [
        {
          "output_type": "stream",
          "text": [
            "/usr/local/lib/python3.6/dist-packages/ipykernel_launcher.py:2: DeprecationWarning: The default dtype for empty Series will be 'object' instead of 'float64' in a future version. Specify a dtype explicitly to silence this warning.\n",
            "  \n"
          ],
          "name": "stderr"
        }
      ]
    },
    {
      "cell_type": "code",
      "metadata": {
        "id": "SqGUHZP4m4UA",
        "colab": {
          "base_uri": "https://localhost:8080/",
          "height": 119
        },
        "outputId": "dcee49ab-10ae-4fb8-92ed-c16dbb774077"
      },
      "source": [
        "germanyMatrices"
      ],
      "execution_count": null,
      "outputs": [
        {
          "output_type": "execute_result",
          "data": {
            "text/plain": [
              "array([[ 1.,  2.,  1., ...,  5.,  6., 12.],\n",
              "       [ 1.,  7.,  0., ...,  1.,  6.,  1.],\n",
              "       [ 7.,  3.,  3., ...,  5., 10., 11.],\n",
              "       [ 4.,  4.,  0., ...,  3., 13., 16.],\n",
              "       [ 4.,  7.,  3., ...,  5., 22., 36.],\n",
              "       [ 0.,  8.,  1., ...,  6., 11., 16.]])"
            ]
          },
          "metadata": {
            "tags": []
          },
          "execution_count": 37
        }
      ]
    },
    {
      "cell_type": "code",
      "metadata": {
        "id": "IeakwqJkm4Xi",
        "colab": {
          "base_uri": "https://localhost:8080/",
          "height": 71
        },
        "outputId": "27f3b941-d113-40ad-e741-955c999ce4a8"
      },
      "source": [
        "polandMatrices = np.zeros((38, 225))\n",
        "polandMatrices = getTeamMatrices(13869)"
      ],
      "execution_count": null,
      "outputs": [
        {
          "output_type": "stream",
          "text": [
            "/usr/local/lib/python3.6/dist-packages/ipykernel_launcher.py:2: DeprecationWarning: The default dtype for empty Series will be 'object' instead of 'float64' in a future version. Specify a dtype explicitly to silence this warning.\n",
            "  \n"
          ],
          "name": "stderr"
        }
      ]
    },
    {
      "cell_type": "code",
      "metadata": {
        "id": "roHO4Qwhm4k6",
        "colab": {
          "base_uri": "https://localhost:8080/",
          "height": 102
        },
        "outputId": "3199b1d2-8238-4c0d-cda6-fc93963bb311"
      },
      "source": [
        "polandMatrices"
      ],
      "execution_count": null,
      "outputs": [
        {
          "output_type": "execute_result",
          "data": {
            "text/plain": [
              "array([[ 0.,  3.,  0., ...,  2.,  4., 21.],\n",
              "       [ 0.,  1.,  1., ...,  1.,  2.,  4.],\n",
              "       [ 3.,  1.,  0., ...,  2.,  1.,  8.],\n",
              "       [ 1.,  2.,  2., ...,  1.,  1.,  2.],\n",
              "       [ 7.,  5.,  2., ...,  2.,  3., 16.]])"
            ]
          },
          "metadata": {
            "tags": []
          },
          "execution_count": 39
        }
      ]
    },
    {
      "cell_type": "code",
      "metadata": {
        "id": "4n3mqovCm4p8",
        "colab": {
          "base_uri": "https://localhost:8080/",
          "height": 71
        },
        "outputId": "6e2fc66b-837f-4722-be3d-7d38c051e004"
      },
      "source": [
        "russiaMatrices = np.zeros((38, 225))\n",
        "russiaMatrices = getTeamMatrices(14358)"
      ],
      "execution_count": null,
      "outputs": [
        {
          "output_type": "stream",
          "text": [
            "/usr/local/lib/python3.6/dist-packages/ipykernel_launcher.py:2: DeprecationWarning: The default dtype for empty Series will be 'object' instead of 'float64' in a future version. Specify a dtype explicitly to silence this warning.\n",
            "  \n"
          ],
          "name": "stderr"
        }
      ]
    },
    {
      "cell_type": "code",
      "metadata": {
        "id": "kCdQb4-gm46i",
        "colab": {
          "base_uri": "https://localhost:8080/",
          "height": 935
        },
        "outputId": "e9407a39-469c-43d7-da63-7ab4530ea1c2"
      },
      "source": [
        "russiaMatrices"
      ],
      "execution_count": null,
      "outputs": [
        {
          "output_type": "execute_result",
          "data": {
            "text/plain": [
              "array([[ 3.,  2.,  1.,  0.,  0.,  0.,  1.,  0.,  0.,  0.,  0.,  0.,  0.,\n",
              "         0.,  0.,  2.,  2.,  4.,  9.,  1.,  3.,  0.,  2.,  5.,  0.,  0.,\n",
              "         0.,  0.,  1.,  1.,  1.,  4.,  3.,  3.,  0.,  2.,  0.,  4.,  2.,\n",
              "         1.,  1.,  0.,  1.,  0.,  0.,  0.,  3.,  1.,  0.,  1.,  1.,  3.,\n",
              "         2.,  0.,  5.,  1.,  0.,  0.,  1.,  1.,  0.,  0.,  3.,  1.,  3.,\n",
              "         0.,  0.,  0.,  1.,  1.,  0.,  0.,  0.,  1.,  0.,  0.,  4.,  1.,\n",
              "         0.,  0.,  9.,  9.,  2.,  1.,  0.,  0.,  1.,  1.,  0.,  0.,  1.,\n",
              "         2.,  0.,  1.,  0.,  9.,  5.,  3.,  9.,  1.,  3.,  2.,  1.,  0.,\n",
              "         2.,  0.,  2.,  0.,  1.,  0.,  5.,  6.,  6.,  5.,  3.,  1.,  1.,\n",
              "         1.,  1.,  0.,  0.,  0.,  3.,  0.,  1.,  0.,  6.,  3., 11., 10.,\n",
              "         1.,  1.,  4.,  3.,  6.,  0.,  0.,  1.,  2.,  1.,  0.,  1.,  3.,\n",
              "         9.,  9.,  0.,  0.,  1.,  2.,  2.,  0.,  0.,  0.,  0.,  0.,  1.,\n",
              "         2.,  0.,  0.,  0.,  2.,  3.,  1.,  1.,  0.,  0.,  0.,  0.,  0.,\n",
              "         0.,  2.,  0.,  0.,  0.,  0.,  1.,  0.,  1.,  0.,  1.,  0.,  0.,\n",
              "         0.,  0.,  0.,  0.,  0.,  2.,  1.,  0.,  0.,  0.,  1.,  2.,  1.,\n",
              "         0.,  0.,  0.,  0.,  0.,  0.,  1.,  1.,  3.,  1.,  0.,  1.,  5.,\n",
              "         3.,  1.,  0.,  0.,  0.,  0.,  0.,  0.,  0.,  0.,  4.,  0.,  0.,\n",
              "         0.,  2.,  1.,  4.],\n",
              "       [ 1.,  4.,  0.,  2.,  0.,  1.,  0.,  1.,  0.,  0.,  0.,  0.,  1.,\n",
              "         0.,  0.,  0.,  3.,  4.,  4.,  2.,  2.,  3.,  3.,  5.,  3.,  0.,\n",
              "         0.,  0.,  0.,  0.,  1.,  3.,  5.,  7.,  2.,  2.,  3.,  4.,  3.,\n",
              "         7.,  0.,  0.,  1.,  0.,  0.,  2.,  6.,  5.,  4.,  2.,  0.,  0.,\n",
              "         5.,  5.,  3.,  0.,  0.,  0.,  1.,  1.,  0.,  0.,  1.,  1.,  1.,\n",
              "         0.,  0.,  3.,  5.,  2.,  0.,  0.,  0.,  1.,  0.,  0.,  2.,  0.,\n",
              "         0.,  0.,  4.,  7., 10.,  1.,  0.,  4.,  4.,  1.,  0.,  0.,  0.,\n",
              "         0.,  1.,  0.,  0.,  9.,  5.,  9.,  3.,  2.,  0.,  5.,  2.,  2.,\n",
              "         3.,  0.,  1.,  2.,  0.,  1.,  5.,  5.,  7., 10., 20.,  1.,  2.,\n",
              "         4.,  0.,  1.,  0.,  1.,  1.,  7.,  1.,  1.,  6.,  5., 11., 12.,\n",
              "         2.,  2.,  1.,  7.,  5.,  0.,  1.,  2.,  2.,  3.,  2.,  4., 11.,\n",
              "        14., 11.,  0.,  0.,  4.,  6., 11.,  0.,  0.,  0.,  0.,  0.,  1.,\n",
              "         0.,  0.,  0.,  0.,  2.,  3.,  1.,  0.,  0.,  0.,  0.,  0.,  0.,\n",
              "         0.,  1.,  0.,  0.,  1.,  0.,  3.,  9.,  5.,  2.,  1.,  0.,  0.,\n",
              "         0.,  0.,  0.,  0.,  0.,  1.,  0.,  0.,  1.,  0.,  4.,  1.,  2.,\n",
              "         0.,  0.,  0.,  0.,  0.,  1.,  1.,  1.,  0.,  2.,  0.,  3.,  0.,\n",
              "         3.,  4.,  0.,  0.,  0.,  0.,  0.,  0.,  0.,  1.,  3.,  5.,  0.,\n",
              "         1.,  2.,  4.,  9.],\n",
              "       [ 2.,  0.,  3.,  1.,  0.,  0.,  1.,  0.,  0.,  0.,  0.,  0.,  0.,\n",
              "         0.,  0.,  0.,  3.,  2.,  1.,  0.,  1.,  4.,  0.,  0.,  0.,  0.,\n",
              "         0.,  0.,  0.,  0.,  0.,  2.,  3.,  1.,  0.,  4.,  3.,  3.,  3.,\n",
              "         2.,  0.,  1.,  0.,  0.,  0.,  0.,  0.,  3.,  0.,  3.,  0.,  2.,\n",
              "         2.,  2.,  2.,  0.,  0.,  1.,  0.,  1.,  0.,  0.,  1.,  0.,  1.,\n",
              "         0.,  0.,  1.,  1.,  5.,  0.,  0.,  0.,  0.,  0.,  0.,  0.,  2.,\n",
              "         0.,  0.,  7.,  9.,  4.,  0.,  0.,  3.,  0.,  3.,  0.,  0.,  0.,\n",
              "         2.,  4.,  0.,  0., 10.,  9.,  7.,  1.,  2.,  2.,  4.,  1.,  2.,\n",
              "         0.,  0.,  1.,  1.,  1.,  0.,  6.,  3., 10.,  4., 10.,  1.,  1.,\n",
              "         1.,  1.,  3.,  0.,  0.,  0.,  3.,  0.,  0.,  8.,  2.,  8.,  5.,\n",
              "         0.,  3.,  3.,  3.,  5.,  0.,  0.,  0.,  1.,  1.,  0.,  1.,  3.,\n",
              "        11., 17.,  1.,  1.,  1.,  5.,  5.,  0.,  0.,  0.,  0.,  0.,  0.,\n",
              "         0.,  0.,  0.,  0.,  8.,  5.,  2.,  0.,  1.,  0.,  0.,  0.,  0.,\n",
              "         0.,  0.,  0.,  0.,  0.,  0.,  6.,  8.,  4.,  2.,  0.,  0.,  0.,\n",
              "         0.,  0.,  0.,  0.,  0.,  2.,  0.,  0.,  1.,  4.,  5.,  4.,  3.,\n",
              "         0.,  0.,  0.,  0.,  0.,  0.,  0.,  0.,  0.,  0.,  0.,  1.,  2.,\n",
              "         6.,  9.,  0.,  0.,  0.,  0.,  0.,  0.,  0.,  0.,  1.,  5.,  0.,\n",
              "         0.,  3.,  8., 17.]])"
            ]
          },
          "metadata": {
            "tags": []
          },
          "execution_count": 41
        }
      ]
    },
    {
      "cell_type": "code",
      "metadata": {
        "id": "sNALnkedm49t",
        "colab": {
          "base_uri": "https://localhost:8080/",
          "height": 71
        },
        "outputId": "56ea1bb0-9175-40ea-ba1a-5e4ee0895683"
      },
      "source": [
        "slovakiaMatrices = np.zeros((38, 225))\n",
        "slovakiaMatrices = getTeamMatrices(14496)"
      ],
      "execution_count": null,
      "outputs": [
        {
          "output_type": "stream",
          "text": [
            "/usr/local/lib/python3.6/dist-packages/ipykernel_launcher.py:2: DeprecationWarning: The default dtype for empty Series will be 'object' instead of 'float64' in a future version. Specify a dtype explicitly to silence this warning.\n",
            "  \n"
          ],
          "name": "stderr"
        }
      ]
    },
    {
      "cell_type": "code",
      "metadata": {
        "id": "Q62bfRj_m5NK",
        "colab": {
          "base_uri": "https://localhost:8080/",
          "height": 1000
        },
        "outputId": "abadd6da-2441-4f06-ea9f-bdac646bbef6"
      },
      "source": [
        "slovakiaMatrices"
      ],
      "execution_count": null,
      "outputs": [
        {
          "output_type": "execute_result",
          "data": {
            "text/plain": [
              "array([[ 5.,  5.,  0.,  0.,  0.,  4.,  3.,  0.,  0.,  0.,  0.,  0.,  0.,\n",
              "         0.,  0.,  6.,  7.,  3.,  5.,  0.,  3.,  7.,  2.,  6.,  1.,  1.,\n",
              "         1.,  0.,  0.,  0.,  2.,  5.,  0.,  2.,  1.,  1.,  2.,  2.,  1.,\n",
              "         0.,  0.,  0.,  0.,  0.,  0.,  1.,  6.,  0.,  4.,  2.,  0.,  1.,\n",
              "         6.,  7.,  7.,  1.,  0.,  0.,  0.,  0.,  0.,  1.,  1.,  6.,  3.,\n",
              "         1.,  0.,  0.,  3.,  1.,  0.,  0.,  0.,  0.,  1.,  3.,  4.,  2.,\n",
              "         0.,  0.,  7.,  9.,  1.,  1.,  0.,  6.,  1.,  0.,  0.,  0.,  1.,\n",
              "         3.,  0.,  2.,  0.,  4., 11.,  3.,  7.,  2.,  2.,  7.,  2.,  2.,\n",
              "         0.,  1.,  1.,  0.,  3.,  0.,  3.,  6.,  6.,  9.,  1.,  1.,  4.,\n",
              "         5.,  0.,  1.,  0.,  3.,  0.,  3.,  1.,  2.,  7.,  7.,  8., 10.,\n",
              "         0.,  0.,  0., 10.,  5.,  0.,  0.,  0.,  5.,  2.,  0.,  1.,  3.,\n",
              "         7.,  3.,  0.,  0.,  0.,  6.,  3.,  0.,  0.,  0.,  0.,  0.,  3.,\n",
              "         2.,  0.,  0.,  1.,  3.,  5.,  1.,  0.,  1.,  0.,  0.,  0.,  0.,\n",
              "         0.,  1.,  1.,  1.,  0.,  0.,  4.,  4.,  3.,  1.,  0.,  0.,  0.,\n",
              "         0.,  0.,  0.,  0.,  0.,  1.,  0.,  0.,  0.,  2.,  0.,  1.,  0.,\n",
              "         0.,  0.,  0.,  0.,  0.,  1.,  0.,  0.,  6.,  0.,  0.,  0.,  2.,\n",
              "         4.,  3.,  0.,  0.,  0.,  0.,  0.,  0.,  0.,  0.,  2.,  0.,  0.,\n",
              "         1.,  2.,  6.,  6.],\n",
              "       [ 0.,  3.,  0.,  0.,  0.,  4.,  2.,  1.,  0.,  0.,  0.,  0.,  0.,\n",
              "         0.,  0.,  3.,  4.,  1.,  0.,  1.,  5.,  5.,  4.,  0.,  1.,  0.,\n",
              "         0.,  0.,  0.,  0.,  1.,  2.,  2.,  1.,  2.,  1.,  0.,  2.,  2.,\n",
              "         1.,  0.,  0.,  0.,  0.,  0.,  0.,  1.,  2.,  5.,  1.,  0.,  1.,\n",
              "         1.,  3.,  2.,  0.,  0.,  0.,  0.,  0.,  0.,  0.,  1.,  1.,  5.,\n",
              "         0.,  0.,  0.,  3.,  6.,  0.,  0.,  0.,  0.,  0.,  2.,  1.,  0.,\n",
              "         0.,  0., 10.,  6.,  1.,  0.,  0.,  0.,  1.,  0.,  0.,  0.,  0.,\n",
              "         0.,  0.,  1.,  0.,  4.,  8.,  2.,  0.,  2.,  0.,  2.,  3.,  0.,\n",
              "         0.,  0.,  0.,  0.,  1.,  0.,  3.,  2.,  3.,  4.,  1.,  0.,  1.,\n",
              "         2.,  0.,  0.,  0.,  0.,  0.,  1.,  1.,  1.,  0.,  1.,  1.,  3.,\n",
              "         0.,  2.,  1.,  0.,  2.,  0.,  0.,  0.,  0.,  1.,  0.,  1.,  1.,\n",
              "         2.,  8.,  0.,  0.,  0.,  3.,  6.,  0.,  0.,  0.,  0.,  0.,  0.,\n",
              "         0.,  0.,  0.,  0.,  4.,  2.,  1.,  0.,  0.,  0.,  0.,  0.,  0.,\n",
              "         0.,  0.,  2.,  0.,  0.,  0.,  2.,  1.,  1.,  0.,  0.,  0.,  0.,\n",
              "         0.,  0.,  0.,  0.,  1.,  0.,  0.,  1.,  1.,  3.,  1.,  0.,  1.,\n",
              "         0.,  0.,  0.,  0.,  0.,  0.,  0.,  0.,  0.,  1.,  0.,  1.,  0.,\n",
              "         1.,  1.,  0.,  0.,  0.,  0.,  0.,  0.,  0.,  0.,  2.,  3.,  0.,\n",
              "         0.,  1.,  3.,  9.],\n",
              "       [ 3.,  1.,  2.,  0.,  0.,  0.,  2.,  0.,  0.,  0.,  0.,  0.,  0.,\n",
              "         0.,  0.,  2.,  7.,  2.,  3.,  1.,  5.,  4.,  0.,  3.,  0.,  0.,\n",
              "         0.,  0.,  0.,  0.,  0.,  3.,  0.,  3.,  1.,  1.,  1.,  1.,  2.,\n",
              "         0.,  1.,  0.,  1.,  0.,  0.,  0.,  7.,  2.,  4.,  2.,  0.,  1.,\n",
              "         2.,  3.,  3.,  0.,  0.,  0.,  1.,  1.,  0.,  0.,  1.,  6.,  6.,\n",
              "         0.,  0.,  0.,  3.,  2.,  0.,  0.,  0.,  0.,  0.,  1.,  3.,  0.,\n",
              "         0.,  0.,  7.,  7.,  2.,  2.,  0.,  2.,  2.,  2.,  0.,  0.,  1.,\n",
              "         1.,  0.,  0.,  0.,  8., 11.,  4.,  5.,  1.,  3.,  0.,  0.,  2.,\n",
              "         3.,  0.,  1.,  0.,  2.,  0.,  1.,  2.,  6.,  4.,  0.,  0.,  1.,\n",
              "         0.,  1.,  1.,  0.,  0.,  2.,  5.,  1.,  2.,  9.,  3., 10.,  7.,\n",
              "         0.,  0.,  1.,  3.,  2.,  0.,  0.,  0.,  3.,  2.,  0.,  0.,  0.,\n",
              "         9.,  7.,  0.,  0.,  0.,  1.,  2.,  0.,  0.,  0.,  0.,  0.,  0.,\n",
              "         3.,  0.,  0.,  0.,  3.,  0.,  1.,  0.,  0.,  0.,  0.,  0.,  0.,\n",
              "         0.,  1.,  0.,  1.,  0.,  0.,  1.,  1.,  0.,  0.,  0.,  0.,  0.,\n",
              "         0.,  0.,  0.,  0.,  1.,  0.,  0.,  0.,  1.,  1.,  0.,  0.,  1.,\n",
              "         0.,  0.,  0.,  0.,  0.,  0.,  0.,  1.,  3.,  0.,  0.,  0.,  2.,\n",
              "         3.,  1.,  0.,  0.,  0.,  0.,  0.,  0.,  0.,  0.,  4.,  2.,  0.,\n",
              "         0.,  0.,  1.,  3.],\n",
              "       [ 2.,  5.,  2.,  0.,  0.,  6.,  1.,  0.,  0.,  0.,  0.,  1.,  0.,\n",
              "         0.,  0.,  6.,  8.,  4.,  4.,  1.,  1.,  8.,  1.,  2.,  0.,  0.,\n",
              "         1.,  0.,  0.,  0.,  2.,  3.,  0.,  4.,  3.,  1.,  1.,  4.,  2.,\n",
              "         0.,  0.,  0.,  0.,  0.,  0.,  0.,  5.,  4.,  6.,  5.,  0.,  2.,\n",
              "         1.,  6.,  8.,  0.,  0.,  0.,  0.,  0.,  0.,  0.,  2.,  3.,  4.,\n",
              "         0.,  0.,  1.,  2.,  3.,  0.,  0.,  0.,  0.,  2.,  3.,  4.,  1.,\n",
              "         1.,  0.,  5.,  5.,  1.,  0.,  0.,  3.,  0.,  0.,  0.,  0.,  0.,\n",
              "         3.,  1.,  2.,  0.,  3.,  3.,  5.,  3.,  1.,  1.,  0.,  2.,  1.,\n",
              "         3.,  0.,  1.,  1.,  4.,  0.,  3.,  6.,  4.,  3.,  0.,  4.,  0.,\n",
              "         0.,  1.,  1.,  0.,  0.,  1.,  4.,  1.,  0.,  3.,  4.,  4.,  1.,\n",
              "         0.,  0.,  1.,  1.,  2.,  0.,  0.,  0.,  0.,  4.,  1.,  0.,  0.,\n",
              "         5.,  6.,  0.,  0.,  0.,  4.,  5.,  0.,  0.,  0.,  0.,  0.,  1.,\n",
              "         0.,  0.,  0.,  0.,  2.,  4.,  0.,  0.,  0.,  0.,  0.,  0.,  0.,\n",
              "         0.,  1.,  0.,  0.,  0.,  0.,  0.,  2.,  1.,  0.,  0.,  0.,  0.,\n",
              "         0.,  0.,  0.,  0.,  0.,  0.,  0.,  1.,  0.,  0.,  0.,  0.,  0.,\n",
              "         0.,  0.,  0.,  0.,  0.,  0.,  0.,  1.,  0.,  1.,  0.,  1.,  2.,\n",
              "         2.,  1.,  0.,  0.,  0.,  0.,  0.,  0.,  0.,  1.,  4.,  3.,  0.,\n",
              "         1.,  1.,  5.,  9.]])"
            ]
          },
          "metadata": {
            "tags": []
          },
          "execution_count": 43
        }
      ]
    },
    {
      "cell_type": "code",
      "metadata": {
        "id": "hDbRiuTTm5Q-",
        "colab": {
          "base_uri": "https://localhost:8080/",
          "height": 71
        },
        "outputId": "75ea2265-c8ff-4629-9f4b-c63334dad623"
      },
      "source": [
        "croatiaMatrices = np.zeros((38, 225))\n",
        "croatiaMatrices = getTeamMatrices(9598)"
      ],
      "execution_count": null,
      "outputs": [
        {
          "output_type": "stream",
          "text": [
            "/usr/local/lib/python3.6/dist-packages/ipykernel_launcher.py:2: DeprecationWarning: The default dtype for empty Series will be 'object' instead of 'float64' in a future version. Specify a dtype explicitly to silence this warning.\n",
            "  \n"
          ],
          "name": "stderr"
        }
      ]
    },
    {
      "cell_type": "code",
      "metadata": {
        "id": "WMEdU-Ohm5gU",
        "colab": {
          "base_uri": "https://localhost:8080/",
          "height": 1000
        },
        "outputId": "665349e0-c1d9-4e0d-a693-705ddd3390d5"
      },
      "source": [
        "croatiaMatrices"
      ],
      "execution_count": null,
      "outputs": [
        {
          "output_type": "execute_result",
          "data": {
            "text/plain": [
              "array([[ 2.,  1.,  0.,  0.,  1.,  2.,  0.,  0.,  0.,  0.,  0.,  0.,  0.,\n",
              "         0.,  0.,  1.,  3.,  1.,  2.,  1.,  3.,  2.,  1.,  0.,  1.,  0.,\n",
              "         0.,  0.,  0.,  0.,  1.,  0.,  2.,  2.,  2.,  3.,  2.,  3.,  3.,\n",
              "         1.,  1.,  0.,  1.,  0.,  0.,  0.,  3.,  4.,  3.,  3.,  1.,  2.,\n",
              "         4.,  0.,  5.,  0.,  0.,  1.,  1.,  1.,  0.,  0.,  1.,  4.,  2.,\n",
              "         0.,  0.,  0.,  2.,  5.,  0.,  0.,  0.,  1.,  1.,  2.,  1.,  0.,\n",
              "         0.,  0.,  5.,  3.,  1.,  1.,  0.,  4.,  2.,  0.,  0.,  0.,  1.,\n",
              "         2.,  1.,  0.,  1.,  1.,  3.,  2.,  1.,  0.,  1.,  1.,  0.,  0.,\n",
              "         0.,  0.,  1.,  2.,  0.,  0.,  4.,  1.,  3.,  5.,  2.,  1.,  0.,\n",
              "         2.,  2.,  2.,  0.,  0.,  1.,  1.,  0.,  0.,  0.,  4.,  2.,  8.,\n",
              "         0.,  0.,  0.,  3.,  8.,  0.,  0.,  2.,  4.,  0.,  0.,  0.,  1.,\n",
              "         6.,  8.,  0.,  0.,  0.,  3.,  7.,  0.,  0.,  0.,  0.,  0.,  1.,\n",
              "         1.,  0.,  0.,  0.,  5.,  1.,  4.,  0.,  1.,  0.,  0.,  0.,  0.,\n",
              "         0.,  1.,  1.,  0.,  0.,  0.,  1.,  0.,  2.,  1.,  0.,  0.,  0.,\n",
              "         0.,  0.,  0.,  0.,  0.,  1.,  0.,  0.,  1.,  0.,  3.,  3.,  4.,\n",
              "         0.,  0.,  0.,  0.,  0.,  0.,  0.,  0.,  4.,  0.,  0.,  1.,  0.,\n",
              "         2.,  8.,  0.,  0.,  0.,  0.,  0.,  0.,  0.,  0.,  4.,  4.,  0.,\n",
              "         1.,  4.,  6.,  7.],\n",
              "       [ 7.,  5.,  1.,  1.,  0.,  2.,  2.,  1.,  0.,  0.,  0.,  1.,  0.,\n",
              "         0.,  0.,  5.,  3.,  1.,  4.,  0.,  2.,  2.,  2.,  2.,  1.,  1.,\n",
              "         0.,  0.,  0.,  0.,  0.,  1.,  3.,  2.,  1.,  2.,  2.,  4.,  1.,\n",
              "         2.,  1.,  1.,  0.,  0.,  1.,  1.,  3.,  2.,  4.,  3.,  0.,  3.,\n",
              "         2.,  4.,  5.,  0.,  1.,  0.,  1.,  0.,  0.,  0.,  2.,  3.,  3.,\n",
              "         0.,  0.,  0.,  1.,  1.,  0.,  0.,  0.,  0.,  0.,  1.,  3.,  0.,\n",
              "         1.,  0.,  6., 10.,  2.,  0.,  0.,  3.,  2.,  1.,  0.,  0.,  0.,\n",
              "         0.,  0.,  2.,  0., 10.,  7.,  9.,  8.,  1.,  2.,  2.,  1.,  2.,\n",
              "         1.,  0.,  1.,  1.,  2.,  0.,  0.,  7.,  3.,  3.,  2.,  1.,  1.,\n",
              "         2.,  3.,  0.,  0.,  1.,  2.,  1.,  1.,  1.,  4.,  7., 10.,  4.,\n",
              "         0.,  0.,  1.,  2.,  4.,  0.,  0.,  0.,  2.,  3.,  0.,  1.,  3.,\n",
              "         4.,  3.,  0.,  0.,  0.,  1.,  5.,  0.,  0.,  0.,  0.,  0.,  5.,\n",
              "         1.,  0.,  0.,  0.,  3.,  3.,  1.,  0.,  0.,  0.,  0.,  0.,  0.,\n",
              "         0.,  4.,  0.,  0.,  0.,  0.,  2.,  0.,  4.,  1.,  1.,  0.,  0.,\n",
              "         0.,  0.,  0.,  0.,  0.,  1.,  0.,  1.,  0.,  1.,  4.,  1.,  1.,\n",
              "         0.,  0.,  0.,  0.,  0.,  0.,  0.,  0.,  0.,  0.,  0.,  0.,  6.,\n",
              "         1.,  5.,  0.,  0.,  0.,  0.,  0.,  0.,  0.,  0.,  2.,  3.,  1.,\n",
              "         1.,  2.,  2.,  5.],\n",
              "       [ 4.,  3.,  1.,  0.,  0.,  2.,  0.,  1.,  0.,  0.,  0.,  0.,  0.,\n",
              "         0.,  0.,  5.,  1.,  5.,  3.,  1.,  4.,  2.,  0.,  1.,  1.,  0.,\n",
              "         0.,  0.,  0.,  0.,  1.,  3.,  4.,  7.,  3.,  2.,  1.,  5.,  1.,\n",
              "         3.,  0.,  0.,  0.,  1.,  0.,  1.,  1.,  3.,  5.,  1.,  1.,  2.,\n",
              "         5.,  5.,  3.,  0.,  0.,  0.,  0.,  0.,  0.,  0.,  1.,  2.,  2.,\n",
              "         0.,  0.,  1.,  2.,  2.,  0.,  0.,  1.,  0.,  0.,  0.,  1.,  0.,\n",
              "         0.,  0.,  7.,  4.,  1.,  0.,  0.,  2.,  2.,  1.,  0.,  0.,  0.,\n",
              "         1.,  0.,  2.,  0.,  6.,  3.,  3.,  5.,  0.,  1.,  1.,  0.,  0.,\n",
              "         1.,  1.,  4.,  1.,  0.,  2.,  5.,  2.,  7.,  3.,  2.,  0.,  1.,\n",
              "         0.,  1.,  1.,  0.,  2.,  2.,  1.,  1.,  1.,  6.,  2.,  5.,  2.,\n",
              "         0.,  0.,  0.,  2.,  2.,  0.,  0.,  3.,  1.,  0.,  0.,  2.,  2.,\n",
              "         4.,  3.,  0.,  0.,  0.,  0.,  6.,  0.,  0.,  0.,  0.,  0.,  1.,\n",
              "         1.,  1.,  0.,  1.,  2.,  1.,  1.,  0.,  1.,  0.,  0.,  0.,  0.,\n",
              "         0.,  0.,  0.,  0.,  0.,  0.,  1.,  1.,  2.,  1.,  0.,  0.,  0.,\n",
              "         0.,  0.,  0.,  0.,  0.,  0.,  0.,  0.,  0.,  0.,  0.,  0.,  0.,\n",
              "         0.,  0.,  0.,  0.,  0.,  0.,  0.,  1.,  0.,  0.,  0.,  0.,  1.,\n",
              "         0.,  0.,  0.,  0.,  0.,  0.,  0.,  0.,  0.,  0.,  0.,  2.,  0.,\n",
              "         1.,  1.,  1.,  4.],\n",
              "       [ 3.,  3.,  0.,  0.,  0.,  2.,  7.,  0.,  0.,  0.,  0.,  0.,  0.,\n",
              "         0.,  0.,  6., 10., 15.,  7.,  0., 11., 13.,  6.,  3.,  1.,  0.,\n",
              "         2.,  1.,  0.,  0.,  3., 16., 11.,  5.,  6.,  7.,  5.,  3.,  3.,\n",
              "         6.,  1.,  0.,  0.,  0.,  1.,  1.,  7., 10.,  6.,  1.,  0.,  1.,\n",
              "         7.,  5.,  7.,  0.,  0.,  0.,  0.,  1.,  0.,  3.,  6.,  3.,  1.,\n",
              "         0.,  0.,  0.,  1.,  1.,  0.,  0.,  0.,  1.,  0.,  0.,  8.,  0.,\n",
              "         1.,  0., 11., 11.,  3.,  0.,  0.,  9.,  2.,  0.,  0.,  0.,  1.,\n",
              "        11.,  2.,  3.,  0.,  8.,  8.,  9.,  4.,  4.,  3.,  1.,  0.,  1.,\n",
              "         1.,  0.,  2.,  3.,  6.,  1.,  3.,  4.,  5.,  4.,  4.,  2.,  1.,\n",
              "         2.,  3.,  5.,  0.,  3.,  0.,  2.,  0.,  1.,  3.,  4., 10., 10.,\n",
              "         2.,  0.,  2.,  7.,  5.,  0.,  0.,  4.,  2.,  1.,  0.,  1.,  0.,\n",
              "        12.,  9.,  0.,  1.,  3.,  6.,  7.,  0.,  0.,  0.,  0.,  0.,  1.,\n",
              "         2.,  0.,  0.,  0.,  9.,  9.,  1.,  0.,  0.,  0.,  0.,  0.,  0.,\n",
              "         0.,  2.,  3.,  0.,  0.,  0.,  4.,  7.,  1.,  0.,  1.,  0.,  0.,\n",
              "         1.,  0.,  0.,  0.,  2.,  2.,  1.,  0.,  1.,  2.,  0.,  0.,  0.,\n",
              "         0.,  0.,  0.,  0.,  0.,  0.,  0.,  1.,  0.,  2.,  0.,  1.,  1.,\n",
              "         1.,  7.,  0.,  0.,  0.,  0.,  0.,  0.,  0.,  0.,  3.,  4.,  0.,\n",
              "         2.,  4.,  4., 22.]])"
            ]
          },
          "metadata": {
            "tags": []
          },
          "execution_count": 47
        }
      ]
    },
    {
      "cell_type": "code",
      "metadata": {
        "id": "xI3TREDcm5jg",
        "colab": {
          "base_uri": "https://localhost:8080/",
          "height": 71
        },
        "outputId": "6fe2e2cc-3e3d-42d0-bfd1-06842ab24d6e"
      },
      "source": [
        "turkeyMatrices = np.zeros((38, 225))\n",
        "turkeyMatrices = getTeamMatrices(4687)"
      ],
      "execution_count": null,
      "outputs": [
        {
          "output_type": "stream",
          "text": [
            "/usr/local/lib/python3.6/dist-packages/ipykernel_launcher.py:2: DeprecationWarning: The default dtype for empty Series will be 'object' instead of 'float64' in a future version. Specify a dtype explicitly to silence this warning.\n",
            "  \n"
          ],
          "name": "stderr"
        }
      ]
    },
    {
      "cell_type": "code",
      "metadata": {
        "id": "ZN_5Q8Agm5zq",
        "colab": {
          "base_uri": "https://localhost:8080/",
          "height": 935
        },
        "outputId": "9d0fa9c1-44ae-49bb-cd09-af3a428334a9"
      },
      "source": [
        "turkeyMatrices"
      ],
      "execution_count": null,
      "outputs": [
        {
          "output_type": "execute_result",
          "data": {
            "text/plain": [
              "array([[ 3.,  0.,  1.,  1.,  0.,  4.,  1.,  0.,  0.,  0.,  0.,  1.,  0.,\n",
              "         0.,  0.,  3.,  2.,  0.,  1.,  0.,  3.,  2.,  4.,  1.,  0.,  0.,\n",
              "         1.,  0.,  0.,  0.,  7.,  3.,  5.,  0.,  1.,  2.,  3.,  3.,  2.,\n",
              "         0.,  0.,  0.,  2.,  0.,  0.,  1.,  2.,  3.,  4.,  4.,  1.,  0.,\n",
              "         0.,  4.,  2.,  0.,  0.,  0.,  2.,  0.,  0.,  2.,  0.,  2.,  1.,\n",
              "         0.,  0.,  0.,  2.,  1.,  0.,  0.,  0.,  0.,  0.,  2.,  1.,  0.,\n",
              "         0.,  0., 14.,  9.,  2.,  0.,  0.,  2.,  2.,  0.,  0.,  1.,  0.,\n",
              "         2.,  1.,  1.,  0.,  9.,  9.,  6.,  3.,  4.,  3.,  0.,  3.,  0.,\n",
              "         2.,  1.,  0.,  0.,  1.,  0.,  4.,  7.,  8.,  5.,  4.,  2.,  1.,\n",
              "         4.,  1.,  0.,  0.,  0.,  0.,  3.,  1.,  2.,  4.,  5.,  9.,  6.,\n",
              "         0.,  1.,  0.,  2.,  6.,  0.,  0.,  0.,  0.,  0.,  0.,  1.,  4.,\n",
              "         8., 10.,  0.,  0.,  1.,  4.,  4.,  0.,  0.,  0.,  0.,  0.,  1.,\n",
              "         1.,  1.,  0.,  0.,  3.,  1.,  1.,  0.,  0.,  0.,  0.,  0.,  0.,\n",
              "         0.,  1.,  1.,  0.,  0.,  0.,  2.,  0.,  1.,  0.,  0.,  0.,  0.,\n",
              "         0.,  0.,  0.,  0.,  0.,  1.,  1.,  0.,  0.,  0.,  0.,  2.,  0.,\n",
              "         0.,  0.,  0.,  0.,  0.,  0.,  0.,  1.,  0.,  0.,  0.,  0.,  0.,\n",
              "         1.,  2.,  0.,  0.,  0.,  0.,  0.,  0.,  0.,  0.,  2.,  3.,  0.,\n",
              "         0.,  2.,  5.,  6.],\n",
              "       [ 2.,  4.,  3.,  0.,  0.,  1.,  4.,  0.,  0.,  0.,  1.,  0.,  0.,\n",
              "         0.,  0.,  4.,  3.,  3.,  0.,  1.,  5.,  5.,  1.,  1.,  0.,  0.,\n",
              "         0.,  0.,  0.,  0.,  3.,  4.,  8.,  5.,  1.,  2.,  5.,  1.,  3.,\n",
              "         0.,  0.,  0.,  0.,  0.,  0.,  1.,  1.,  3.,  4.,  4.,  0.,  2.,\n",
              "         3.,  4.,  2.,  0.,  0.,  0.,  2.,  0.,  0.,  2.,  1.,  3.,  3.,\n",
              "         0.,  0.,  0.,  0.,  1.,  0.,  0.,  0.,  0.,  0.,  1.,  0.,  0.,\n",
              "         1.,  0., 18., 14.,  2.,  1.,  0.,  6.,  2.,  2.,  0.,  0.,  4.,\n",
              "         3.,  2.,  1.,  0., 21., 14.,  3.,  3.,  0.,  6.,  4.,  3.,  1.,\n",
              "         0.,  0.,  1.,  1.,  0.,  0.,  2.,  9.,  9.,  4.,  1.,  0.,  0.,\n",
              "         0.,  0.,  1.,  0.,  0.,  1.,  0.,  0.,  1.,  5.,  4., 10.,  6.,\n",
              "         0.,  1.,  1.,  1.,  2.,  0.,  0.,  1.,  3.,  0.,  0.,  0.,  2.,\n",
              "         3.,  5.,  0.,  0.,  0.,  0.,  1.,  0.,  0.,  0.,  0.,  0.,  2.,\n",
              "         0.,  0.,  0.,  0., 10.,  3.,  2.,  0.,  0.,  0.,  0.,  0.,  0.,\n",
              "         0.,  0.,  0.,  0.,  1.,  0.,  3.,  4.,  1.,  0.,  2.,  0.,  0.,\n",
              "         0.,  0.,  0.,  0.,  1.,  0.,  0.,  0.,  1.,  0.,  2.,  1.,  1.,\n",
              "         0.,  0.,  0.,  0.,  0.,  0.,  0.,  0.,  3.,  0.,  0.,  1.,  3.,\n",
              "         3.,  0.,  0.,  0.,  0.,  0.,  0.,  0.,  0.,  1.,  1.,  1.,  0.,\n",
              "         0.,  1.,  1., 12.],\n",
              "       [ 4.,  1.,  0.,  0.,  0.,  8.,  1.,  1.,  0.,  0.,  1.,  0.,  0.,\n",
              "         0.,  0.,  2.,  5.,  1.,  3.,  1.,  2.,  3.,  1.,  0.,  1.,  0.,\n",
              "         0.,  1.,  1.,  0.,  2.,  4.,  3.,  4.,  0.,  1.,  2.,  2.,  2.,\n",
              "         2.,  0.,  1.,  0.,  0.,  0.,  0.,  2.,  3.,  1.,  4.,  0.,  0.,\n",
              "         0.,  3.,  5.,  1.,  1.,  0.,  0.,  1.,  0.,  0.,  0.,  1.,  0.,\n",
              "         0.,  0.,  1.,  3.,  2.,  0.,  0.,  0.,  0.,  0.,  2.,  1.,  0.,\n",
              "         0.,  0.,  9.,  5.,  2.,  2.,  0.,  2.,  0.,  0.,  1.,  0.,  2.,\n",
              "         1.,  2.,  1.,  0.,  9.,  4.,  3.,  1.,  2.,  1.,  2.,  2.,  0.,\n",
              "         0.,  1.,  1.,  0.,  1.,  0.,  0.,  7.,  6.,  6.,  0.,  1.,  0.,\n",
              "         2.,  0.,  3.,  1.,  0.,  1.,  1.,  1.,  1.,  2.,  2.,  1.,  4.,\n",
              "         0.,  0.,  3.,  2.,  5.,  0.,  0.,  1.,  4.,  2.,  0.,  1.,  1.,\n",
              "         2.,  9.,  0.,  0.,  0.,  1.,  3.,  0.,  0.,  0.,  0.,  0.,  1.,\n",
              "         1.,  1.,  0.,  0.,  3.,  1.,  0.,  0.,  0.,  0.,  0.,  0.,  0.,\n",
              "         0.,  0.,  0.,  0.,  0.,  0.,  2.,  1.,  1.,  0.,  0.,  0.,  0.,\n",
              "         0.,  0.,  0.,  0.,  0.,  2.,  0.,  0.,  0.,  1.,  3.,  1.,  0.,\n",
              "         0.,  0.,  0.,  0.,  0.,  0.,  0.,  1.,  2.,  0.,  0.,  0.,  2.,\n",
              "         0.,  1.,  0.,  0.,  0.,  0.,  0.,  0.,  1.,  0.,  2.,  3.,  0.,\n",
              "         0.,  3.,  4.,  4.]])"
            ]
          },
          "metadata": {
            "tags": []
          },
          "execution_count": 49
        }
      ]
    },
    {
      "cell_type": "code",
      "metadata": {
        "id": "sDDi3MfopG46",
        "colab": {
          "base_uri": "https://localhost:8080/",
          "height": 71
        },
        "outputId": "daf76fd4-59a0-4145-b40d-1d8c2aceb705"
      },
      "source": [
        "hungaryMatrices = np.zeros((38, 225))\n",
        "hungaryMatrices = getTeamMatrices(10451)"
      ],
      "execution_count": null,
      "outputs": [
        {
          "output_type": "stream",
          "text": [
            "/usr/local/lib/python3.6/dist-packages/ipykernel_launcher.py:2: DeprecationWarning: The default dtype for empty Series will be 'object' instead of 'float64' in a future version. Specify a dtype explicitly to silence this warning.\n",
            "  \n"
          ],
          "name": "stderr"
        }
      ]
    },
    {
      "cell_type": "code",
      "metadata": {
        "id": "7x7nHDEApHRd",
        "colab": {
          "base_uri": "https://localhost:8080/",
          "height": 1000
        },
        "outputId": "26d7741e-64a0-4c1d-fe59-1602cf92ee7c"
      },
      "source": [
        "hungaryMatrices"
      ],
      "execution_count": null,
      "outputs": [
        {
          "output_type": "execute_result",
          "data": {
            "text/plain": [
              "array([[10.,  5.,  5.,  0.,  0.,  2.,  1.,  0.,  0.,  0.,  1.,  0.,  0.,\n",
              "         0.,  0.,  5.,  3.,  2.,  0.,  1.,  5.,  6.,  0.,  1.,  0.,  1.,\n",
              "         0.,  0.,  1.,  0., 10.,  3.,  3.,  2.,  2.,  2.,  1.,  1.,  1.,\n",
              "         4.,  1.,  1.,  0.,  0.,  1.,  0.,  1.,  4.,  3.,  4.,  0.,  0.,\n",
              "         2.,  2.,  2.,  1.,  0.,  0.,  0.,  0.,  0.,  0.,  0.,  4.,  5.,\n",
              "         0.,  0.,  1.,  4.,  4.,  0.,  0.,  0.,  2.,  0.,  1.,  1.,  0.,\n",
              "         1.,  0.,  7.,  9.,  1.,  0.,  0.,  3.,  1.,  1.,  0.,  0.,  1.,\n",
              "         1.,  1.,  0.,  1.,  6.,  6.,  5.,  4.,  0.,  3.,  3.,  0.,  0.,\n",
              "         0.,  0.,  0.,  1.,  1.,  0.,  2.,  4.,  0.,  2.,  1.,  1.,  1.,\n",
              "         4.,  0.,  2.,  0.,  0.,  2.,  0.,  0.,  1.,  2.,  1.,  1.,  5.,\n",
              "         1.,  1.,  0.,  3.,  2.,  0.,  0.,  0.,  2.,  2.,  0.,  0.,  1.,\n",
              "         4.,  3.,  0.,  0.,  1.,  3.,  4.,  0.,  0.,  0.,  0.,  0.,  1.,\n",
              "         0.,  0.,  0.,  0.,  4.,  6.,  1.,  1.,  0.,  0.,  0.,  0.,  0.,\n",
              "         0.,  1.,  4.,  0.,  1.,  0.,  5.,  1.,  0.,  1.,  0.,  0.,  0.,\n",
              "         0.,  0.,  0.,  0.,  0.,  0.,  0.,  0.,  2.,  0.,  4.,  2.,  0.,\n",
              "         0.,  0.,  0.,  0.,  0.,  0.,  0.,  0.,  1.,  1.,  0.,  1.,  5.,\n",
              "         2.,  2.,  0.,  0.,  0.,  0.,  0.,  0.,  0.,  0.,  0.,  1.,  0.,\n",
              "         1.,  1.,  3., 10.],\n",
              "       [10.,  5.,  3.,  0.,  0.,  7.,  0.,  2.,  0.,  0.,  0.,  0.,  0.,\n",
              "         0.,  0.,  5.,  3.,  7.,  1.,  4., 10.,  2.,  1.,  4.,  2.,  0.,\n",
              "         0.,  0.,  0.,  0.,  2.,  7.,  2.,  3.,  2.,  3.,  2.,  2.,  3.,\n",
              "         6.,  0.,  0.,  0.,  0.,  0.,  0.,  9.,  0.,  2.,  0.,  3.,  2.,\n",
              "         1.,  0.,  6.,  0.,  0.,  0.,  0.,  1.,  0.,  0.,  5.,  7.,  8.,\n",
              "         0.,  0.,  0.,  4.,  2.,  0.,  0.,  0.,  0.,  1.,  1.,  6.,  2.,\n",
              "         0.,  0., 40., 15.,  2.,  1.,  0., 10.,  7.,  0.,  0.,  0.,  0.,\n",
              "         0.,  0.,  1.,  0., 17.,  9.,  2., 12.,  3.,  6.,  3.,  1.,  2.,\n",
              "         0.,  1.,  0.,  0.,  0.,  0.,  8.,  7.,  5.,  6.,  5.,  0.,  0.,\n",
              "         0.,  0.,  1.,  0.,  0.,  2.,  0.,  0.,  1.,  8.,  5.,  9., 17.,\n",
              "         2.,  1.,  1.,  1.,  1.,  0.,  1.,  4.,  4.,  5.,  0.,  1.,  1.,\n",
              "         8., 33.,  0.,  2.,  3.,  4.,  9.,  0.,  0.,  0.,  0.,  0.,  3.,\n",
              "         2.,  1.,  0.,  0., 21.,  7.,  4.,  0.,  1.,  0.,  0.,  0.,  0.,\n",
              "         0.,  2.,  0.,  1.,  1.,  0.,  4.,  4.,  7.,  1.,  1.,  0.,  0.,\n",
              "         0.,  0.,  0.,  0.,  0.,  0.,  0.,  0.,  0.,  3.,  3.,  0.,  1.,\n",
              "         0.,  0.,  0.,  0.,  0.,  0.,  0.,  0.,  0.,  0.,  0.,  0.,  2.,\n",
              "         6.,  2.,  0.,  0.,  0.,  0.,  0.,  0.,  0.,  0.,  1.,  3.,  0.,\n",
              "         0.,  4.,  2., 14.],\n",
              "       [ 1.,  1.,  4.,  0.,  0.,  2.,  1.,  1.,  0.,  0.,  1.,  0.,  0.,\n",
              "         0.,  0.,  7.,  4.,  6.,  1.,  1.,  3.,  3.,  3.,  0.,  0.,  0.,\n",
              "         0.,  0.,  0.,  0.,  6.,  4.,  3.,  4.,  5.,  0.,  1.,  1.,  2.,\n",
              "         0.,  1.,  1.,  0.,  1.,  0.,  1.,  1.,  6., 10.,  6.,  0.,  1.,\n",
              "         4.,  9.,  0.,  1.,  0.,  0.,  0.,  0.,  0.,  0.,  4.,  8.,  3.,\n",
              "         0.,  0.,  0.,  2.,  6.,  0.,  0.,  0.,  0.,  1.,  1.,  1.,  0.,\n",
              "         0.,  0.,  0.,  2.,  0.,  0.,  0.,  2.,  2.,  0.,  0.,  0.,  1.,\n",
              "         3.,  0.,  0.,  0.,  4.,  2.,  0.,  0.,  0.,  1.,  1.,  0.,  0.,\n",
              "         1.,  0.,  1.,  1.,  1.,  0.,  0.,  1.,  1.,  3.,  3.,  0.,  0.,\n",
              "         0.,  1.,  0.,  0.,  0.,  0.,  4.,  3.,  0.,  0.,  1.,  6.,  7.,\n",
              "         0.,  0.,  0.,  1.,  4.,  0.,  1.,  0.,  1.,  2.,  0.,  0.,  1.,\n",
              "         3.,  1.,  0.,  0.,  0.,  3.,  2.,  1.,  0.,  0.,  0.,  0.,  1.,\n",
              "         0.,  0.,  0.,  0.,  1.,  0.,  1.,  0.,  0.,  0.,  0.,  0.,  0.,\n",
              "         0.,  0.,  0.,  0.,  0.,  0.,  0.,  1.,  1.,  0.,  0.,  0.,  0.,\n",
              "         0.,  0.,  0.,  0.,  0.,  0.,  0.,  0.,  0.,  0.,  0.,  0.,  0.,\n",
              "         0.,  0.,  0.,  0.,  0.,  0.,  0.,  0.,  0.,  1.,  0.,  0.,  0.,\n",
              "         0.,  1.,  0.,  0.,  0.,  0.,  0.,  0.,  0.,  0.,  0.,  1.,  1.,\n",
              "         0.,  1.,  1.,  2.],\n",
              "       [ 3., 10.,  1.,  0.,  0.,  7.,  6.,  0.,  0.,  0.,  0.,  0.,  0.,\n",
              "         0.,  0.,  7.,  3.,  5.,  4.,  1.,  3.,  4.,  1.,  2.,  1.,  0.,\n",
              "         0.,  0.,  0.,  0.,  5.,  3.,  1.,  8.,  4.,  0.,  2.,  3.,  3.,\n",
              "         4.,  0.,  0.,  1.,  1.,  0.,  1.,  4.,  6.,  6.,  6.,  0.,  0.,\n",
              "         1.,  5., 10.,  0.,  0.,  0.,  0.,  0.,  0.,  0.,  2.,  9.,  3.,\n",
              "         0.,  0.,  1.,  2.,  5.,  2.,  0.,  0.,  1.,  0.,  3.,  1.,  1.,\n",
              "         1.,  0., 18.,  9.,  3.,  1.,  0.,  7.,  4.,  0.,  1.,  0.,  0.,\n",
              "         2.,  2.,  1.,  0., 12.,  4.,  2.,  2.,  0., 12.,  5.,  1.,  1.,\n",
              "         1.,  2.,  0.,  2.,  0.,  1.,  2.,  5.,  6.,  1.,  4.,  1.,  0.,\n",
              "         2.,  0.,  1.,  0.,  0.,  2.,  2.,  3.,  2.,  2.,  4.,  4.,  4.,\n",
              "         1.,  1.,  3.,  1.,  3.,  0.,  0.,  4.,  2.,  4.,  0.,  2.,  4.,\n",
              "         7.,  6.,  0.,  0.,  0.,  4.,  1.,  0.,  0.,  0.,  0.,  0.,  7.,\n",
              "         4.,  0.,  1.,  0.,  4.,  3.,  1.,  0.,  0.,  0.,  0.,  0.,  0.,\n",
              "         0.,  0.,  0.,  2.,  0.,  0.,  1.,  4.,  1.,  0.,  0.,  0.,  0.,\n",
              "         0.,  0.,  0.,  0.,  1.,  0.,  1.,  0.,  2.,  0.,  6.,  2.,  1.,\n",
              "         0.,  0.,  0.,  0.,  0.,  0.,  2.,  0.,  2.,  0.,  0.,  0.,  1.,\n",
              "         2.,  3.,  0.,  0.,  0.,  0.,  0.,  0.,  0.,  0.,  0.,  0.,  1.,\n",
              "         1.,  0.,  4.,  1.]])"
            ]
          },
          "metadata": {
            "tags": []
          },
          "execution_count": 51
        }
      ]
    },
    {
      "cell_type": "code",
      "metadata": {
        "id": "ImXfXlLbpHnc",
        "colab": {
          "base_uri": "https://localhost:8080/",
          "height": 71
        },
        "outputId": "77a47c15-671e-4474-a75d-2344b0b2f2d8"
      },
      "source": [
        "northenIrelandMatrices = np.zeros((38, 225))\n",
        "northenIrelandMatrices = getTeamMatrices(10962)"
      ],
      "execution_count": null,
      "outputs": [
        {
          "output_type": "stream",
          "text": [
            "/usr/local/lib/python3.6/dist-packages/ipykernel_launcher.py:2: DeprecationWarning: The default dtype for empty Series will be 'object' instead of 'float64' in a future version. Specify a dtype explicitly to silence this warning.\n",
            "  \n"
          ],
          "name": "stderr"
        }
      ]
    },
    {
      "cell_type": "code",
      "metadata": {
        "id": "z-muFO9_pH8j",
        "colab": {
          "base_uri": "https://localhost:8080/",
          "height": 1000
        },
        "outputId": "f472a3e6-4f6f-45cf-92bc-1620c4991825"
      },
      "source": [
        "northenIrelandMatrices"
      ],
      "execution_count": null,
      "outputs": [
        {
          "output_type": "execute_result",
          "data": {
            "text/plain": [
              "array([[ 3.,  6.,  0.,  0.,  0.,  0.,  1.,  1.,  0.,  0.,  0.,  1.,  0.,\n",
              "         0.,  0.,  6.,  6.,  5.,  8.,  2.,  4.,  3.,  0.,  1.,  0.,  0.,\n",
              "         1.,  0.,  0.,  0.,  3.,  7.,  1.,  1.,  1.,  2.,  3.,  1.,  0.,\n",
              "         1.,  0.,  2.,  1.,  0.,  1.,  0.,  4.,  2.,  3.,  1.,  0.,  1.,\n",
              "         3.,  2.,  2.,  1.,  1.,  0.,  0.,  1.,  0.,  0.,  0.,  2.,  0.,\n",
              "         0.,  0.,  0.,  1.,  1.,  0.,  0.,  1.,  0.,  1.,  1.,  1.,  0.,\n",
              "         0.,  0.,  2.,  3.,  1.,  0.,  0.,  8.,  1.,  0.,  0.,  1.,  1.,\n",
              "         2.,  3.,  0.,  0.,  5.,  3.,  3.,  1.,  0.,  0.,  1.,  0.,  1.,\n",
              "         0.,  0.,  0.,  0.,  1.,  2.,  1.,  2.,  3.,  2.,  1.,  1.,  1.,\n",
              "         0.,  0.,  1.,  0.,  0.,  0.,  0.,  1.,  1.,  1.,  1.,  0.,  1.,\n",
              "         0.,  0.,  1.,  1.,  2.,  0.,  0.,  0.,  0.,  0.,  0.,  0.,  0.,\n",
              "         1.,  1.,  0.,  0.,  0.,  1.,  1.,  0.,  0.,  0.,  0.,  0.,  1.,\n",
              "         3.,  0.,  0.,  0.,  8.,  3.,  0.,  1.,  0.,  0.,  0.,  0.,  0.,\n",
              "         0.,  1.,  0.,  1.,  0.,  0.,  4.,  1.,  0.,  1.,  0.,  0.,  0.,\n",
              "         0.,  0.,  0.,  0.,  1.,  0.,  0.,  0.,  0.,  0.,  0.,  0.,  1.,\n",
              "         0.,  0.,  0.,  0.,  0.,  0.,  0.,  0.,  1.,  0.,  0.,  0.,  1.,\n",
              "         1.,  0.,  0.,  0.,  1.,  0.,  0.,  0.,  0.,  0.,  0.,  2.,  0.,\n",
              "         0.,  1.,  0.,  5.],\n",
              "       [ 2.,  1.,  0.,  0.,  0.,  1.,  2.,  0.,  0.,  0.,  0.,  0.,  0.,\n",
              "         0.,  0.,  2.,  5.,  2.,  1.,  0.,  3.,  0.,  0.,  0.,  0.,  0.,\n",
              "         0.,  0.,  0.,  0.,  0.,  0.,  2.,  0.,  2.,  0.,  2.,  0.,  0.,\n",
              "         0.,  0.,  0.,  0.,  1.,  0.,  0.,  1.,  0.,  2.,  2.,  0.,  0.,\n",
              "         0.,  2.,  1.,  0.,  0.,  0.,  0.,  0.,  0.,  0.,  0.,  0.,  3.,\n",
              "         0.,  0.,  0.,  1.,  3.,  0.,  0.,  0.,  0.,  0.,  0.,  0.,  0.,\n",
              "         1.,  0.,  4.,  4.,  0.,  0.,  0.,  4.,  0.,  0.,  0.,  0.,  1.,\n",
              "         0.,  3.,  0.,  0.,  2.,  2.,  4.,  1.,  0.,  1.,  0.,  0.,  0.,\n",
              "         0.,  0.,  1.,  0.,  0.,  0.,  3.,  0.,  3.,  3.,  0.,  0.,  1.,\n",
              "         1.,  1.,  2.,  0.,  0.,  0.,  0.,  0.,  0.,  1.,  2.,  0.,  5.,\n",
              "         0.,  1.,  0.,  1.,  0.,  0.,  0.,  0.,  0.,  0.,  0.,  0.,  0.,\n",
              "         2.,  3.,  0.,  1.,  0.,  1.,  4.,  0.,  0.,  0.,  0.,  0.,  1.,\n",
              "         0.,  0.,  0.,  1., 14.,  2.,  2.,  2.,  0.,  0.,  0.,  0.,  0.,\n",
              "         0.,  0.,  0.,  0.,  0.,  0.,  1.,  1.,  1.,  0.,  0.,  0.,  0.,\n",
              "         0.,  0.,  0.,  0.,  0.,  0.,  0.,  0.,  0.,  0.,  0.,  0.,  0.,\n",
              "         0.,  0.,  0.,  0.,  0.,  0.,  0.,  0.,  0.,  0.,  0.,  0.,  0.,\n",
              "         2.,  2.,  0.,  0.,  0.,  0.,  0.,  0.,  0.,  0.,  0.,  1.,  0.,\n",
              "         0.,  2.,  2.,  4.],\n",
              "       [ 1.,  1.,  0.,  0.,  0.,  1.,  0.,  0.,  0.,  0.,  0.,  0.,  0.,\n",
              "         0.,  0.,  3.,  3.,  4.,  0.,  0.,  2.,  3.,  0.,  0.,  0.,  0.,\n",
              "         0.,  0.,  0.,  0.,  1.,  3.,  1.,  2.,  1.,  1.,  3.,  0.,  1.,\n",
              "         0.,  1.,  1.,  0.,  0.,  1.,  0.,  0.,  2.,  4.,  1.,  0.,  0.,\n",
              "         0.,  2.,  0.,  0.,  0.,  0.,  1.,  0.,  0.,  0.,  0.,  0.,  1.,\n",
              "         0.,  0.,  0.,  0.,  2.,  0.,  0.,  0.,  0.,  0.,  0.,  1.,  2.,\n",
              "         0.,  0.,  8.,  7.,  0.,  0.,  0.,  1.,  0.,  0.,  0.,  0.,  0.,\n",
              "         0.,  0.,  0.,  0.,  6.,  3.,  2.,  2.,  2.,  0.,  0.,  0.,  1.,\n",
              "         2.,  0.,  0.,  1.,  0.,  0.,  1.,  1.,  1.,  1.,  0.,  1.,  1.,\n",
              "         0.,  0.,  0.,  0.,  0.,  0.,  0.,  0.,  0.,  0.,  1.,  1.,  1.,\n",
              "         1.,  1.,  0.,  1.,  1.,  0.,  0.,  0.,  1.,  0.,  0.,  0.,  1.,\n",
              "         0.,  2.,  0.,  0.,  0.,  0.,  2.,  0.,  0.,  0.,  0.,  0.,  0.,\n",
              "         0.,  0.,  1.,  0.,  2.,  1.,  0.,  0.,  0.,  0.,  0.,  0.,  0.,\n",
              "         0.,  0.,  1.,  0.,  0.,  0.,  0.,  0.,  0.,  0.,  0.,  0.,  0.,\n",
              "         0.,  0.,  0.,  0.,  0.,  0.,  0.,  0.,  0.,  0.,  0.,  0.,  0.,\n",
              "         0.,  0.,  0.,  0.,  0.,  0.,  0.,  0.,  0.,  0.,  0.,  0.,  0.,\n",
              "         0.,  0.,  0.,  0.,  0.,  0.,  0.,  0.,  0.,  0.,  0.,  0.,  1.,\n",
              "         0.,  0.,  0.,  0.],\n",
              "       [ 2.,  1.,  1.,  0.,  0.,  6.,  3.,  0.,  0.,  0.,  0.,  1.,  1.,\n",
              "         0.,  0.,  0.,  1.,  2.,  1.,  0.,  2.,  1.,  0.,  1.,  0.,  0.,\n",
              "         2.,  1.,  0.,  0.,  3.,  1.,  1.,  1.,  0.,  1.,  3.,  0.,  1.,\n",
              "         0.,  0.,  1.,  1.,  0.,  1.,  1.,  0.,  3.,  6.,  2.,  0.,  0.,\n",
              "         1.,  4.,  1.,  0.,  0.,  1.,  1.,  0.,  0.,  0.,  0.,  2.,  2.,\n",
              "         0.,  0.,  1.,  0.,  1.,  0.,  0.,  0.,  0.,  0.,  2.,  1.,  2.,\n",
              "         0.,  0., 11.,  3.,  0.,  0.,  0.,  2.,  0.,  0.,  0.,  0.,  0.,\n",
              "         1.,  3.,  1.,  0.,  4.,  3.,  5.,  0.,  1.,  2.,  3.,  0.,  1.,\n",
              "         1.,  0.,  0.,  0.,  0.,  0.,  1.,  2.,  1.,  2.,  2.,  3.,  0.,\n",
              "         0.,  1.,  1.,  0.,  1.,  0.,  1.,  1.,  1.,  4.,  0.,  2.,  3.,\n",
              "         0.,  1.,  1.,  1.,  1.,  0.,  0.,  2.,  1.,  0.,  0.,  0.,  1.,\n",
              "         3.,  9.,  0.,  0.,  1.,  3.,  6.,  0.,  0.,  0.,  0.,  0.,  0.,\n",
              "         0.,  0.,  0.,  0., 17.,  2.,  1.,  0.,  0.,  0.,  0.,  0.,  0.,\n",
              "         0.,  0.,  0.,  2.,  0.,  0.,  2.,  2.,  2.,  1.,  0.,  0.,  0.,\n",
              "         0.,  0.,  0.,  0.,  1.,  1.,  0.,  0.,  0.,  2.,  2.,  3.,  0.,\n",
              "         0.,  0.,  0.,  0.,  0.,  0.,  0.,  0.,  0.,  0.,  0.,  1.,  1.,\n",
              "         0.,  3.,  0.,  0.,  0.,  0.,  0.,  0.,  0.,  0.,  1.,  7.,  0.,\n",
              "         0.,  0.,  0.,  1.]])"
            ]
          },
          "metadata": {
            "tags": []
          },
          "execution_count": 53
        }
      ]
    },
    {
      "cell_type": "code",
      "metadata": {
        "id": "SK0ihF8-pIKI",
        "colab": {
          "base_uri": "https://localhost:8080/",
          "height": 71
        },
        "outputId": "64019a61-fa64-440e-9aa6-9b56487a4fa9"
      },
      "source": [
        "swedenMatrices = np.zeros((38, 225))\n",
        "swedenMatrices = getTeamMatrices(7047)"
      ],
      "execution_count": null,
      "outputs": [
        {
          "output_type": "stream",
          "text": [
            "/usr/local/lib/python3.6/dist-packages/ipykernel_launcher.py:2: DeprecationWarning: The default dtype for empty Series will be 'object' instead of 'float64' in a future version. Specify a dtype explicitly to silence this warning.\n",
            "  \n"
          ],
          "name": "stderr"
        }
      ]
    },
    {
      "cell_type": "code",
      "metadata": {
        "id": "_V78WNJ6pIb-",
        "colab": {
          "base_uri": "https://localhost:8080/",
          "height": 935
        },
        "outputId": "46f92d15-221f-424b-de5c-ac120131b571"
      },
      "source": [
        "swedenMatrices"
      ],
      "execution_count": null,
      "outputs": [
        {
          "output_type": "execute_result",
          "data": {
            "text/plain": [
              "array([[ 1.,  2.,  0.,  0.,  0.,  1.,  2.,  0.,  0.,  0.,  1.,  0.,  0.,\n",
              "         0.,  0.,  1.,  2.,  3.,  1.,  0.,  3.,  5.,  2.,  0.,  0.,  0.,\n",
              "         0.,  0.,  0.,  0.,  1.,  1.,  1.,  1.,  0.,  1.,  5.,  1.,  2.,\n",
              "         0.,  0.,  0.,  0.,  1.,  0.,  1.,  1.,  1.,  4.,  3.,  0.,  0.,\n",
              "         2.,  2.,  2.,  0.,  0.,  0.,  0.,  0.,  0.,  0.,  0.,  1.,  3.,\n",
              "         0.,  0.,  0.,  4.,  2.,  0.,  0.,  0.,  0.,  0.,  3.,  0.,  1.,\n",
              "         0.,  0., 12., 12.,  1.,  1.,  0.,  7.,  0.,  2.,  0.,  0.,  1.,\n",
              "         1.,  1.,  1.,  0., 15., 10.,  1.,  2.,  2.,  3.,  4.,  2.,  0.,\n",
              "         0.,  0.,  0.,  0.,  1.,  0.,  0.,  4.,  5.,  2.,  5.,  1.,  0.,\n",
              "         0.,  0.,  0.,  0.,  0.,  1.,  0.,  0.,  2.,  6.,  3.,  7.,  7.,\n",
              "         2.,  2.,  1.,  1.,  2.,  0.,  0.,  1.,  0.,  1.,  1.,  0.,  0.,\n",
              "        10., 17.,  0.,  2.,  0.,  3.,  5.,  0.,  0.,  0.,  0.,  0.,  4.,\n",
              "         1.,  0.,  0.,  0., 15.,  3.,  4.,  3.,  0.,  0.,  0.,  0.,  0.,\n",
              "         0.,  0.,  2.,  0.,  0.,  0.,  2.,  6.,  1.,  1.,  1.,  0.,  0.,\n",
              "         0.,  0.,  0.,  0.,  0.,  0.,  0.,  0.,  1.,  3.,  1.,  1.,  1.,\n",
              "         0.,  0.,  0.,  0.,  0.,  0.,  1.,  0.,  0.,  0.,  1.,  0.,  1.,\n",
              "         3.,  1.,  0.,  0.,  0.,  0.,  0.,  0.,  0.,  0.,  2.,  3.,  1.,\n",
              "         0.,  1.,  3., 18.],\n",
              "       [ 4.,  5.,  2.,  0.,  0.,  2.,  3.,  0.,  0.,  0.,  0.,  0.,  0.,\n",
              "         0.,  0.,  4.,  1.,  4., 10.,  1.,  7.,  2.,  1.,  1.,  5.,  1.,\n",
              "         0.,  0.,  0.,  0.,  1.,  6.,  4.,  5.,  1.,  4.,  3.,  4.,  4.,\n",
              "         4.,  0.,  0.,  2.,  1.,  0.,  1.,  9.,  6.,  2.,  4.,  1.,  1.,\n",
              "         5.,  8.,  2.,  0.,  0.,  0.,  0.,  2.,  1.,  0.,  0.,  7.,  4.,\n",
              "         0.,  1.,  1.,  0.,  4.,  0.,  0.,  0.,  0.,  0.,  3.,  6.,  2.,\n",
              "         0.,  0.,  7.,  5.,  2.,  1.,  0.,  4.,  4.,  0.,  0.,  0.,  1.,\n",
              "         4.,  2.,  1.,  0.,  6.,  5.,  0.,  4.,  2.,  2.,  4.,  1.,  1.,\n",
              "         0.,  2.,  2.,  2.,  0.,  1.,  1.,  1.,  1.,  1.,  1.,  1.,  1.,\n",
              "         1.,  0.,  1.,  0.,  1.,  3.,  2.,  4.,  1.,  5.,  0.,  4., 15.,\n",
              "         0.,  1.,  0.,  5.,  6.,  0.,  1.,  0., 12.,  1.,  0.,  0.,  1.,\n",
              "        10.,  7.,  0.,  0.,  1.,  3.,  3.,  0.,  1.,  0.,  0.,  0.,  1.,\n",
              "         2.,  0.,  0.,  0.,  1.,  1.,  1.,  1.,  0.,  0.,  0.,  0.,  0.,\n",
              "         0.,  2.,  1.,  0.,  0.,  1.,  2.,  2.,  2.,  0.,  0.,  0.,  0.,\n",
              "         0.,  0.,  0.,  1.,  0.,  1.,  1.,  0.,  1.,  1.,  1.,  0.,  1.,\n",
              "         0.,  0.,  0.,  1.,  0.,  1.,  0.,  0.,  1.,  1.,  0.,  3.,  2.,\n",
              "         1.,  2.,  0.,  0.,  0.,  0.,  0.,  0.,  0.,  0.,  4.,  1.,  0.,\n",
              "         0.,  0.,  2.,  6.],\n",
              "       [ 2.,  3.,  2.,  0.,  0.,  6.,  2.,  0.,  0.,  0.,  0.,  0.,  0.,\n",
              "         0.,  0.,  1.,  2.,  1.,  0.,  1.,  2.,  2.,  2.,  1.,  1.,  0.,\n",
              "         0.,  0.,  0.,  0.,  3.,  0.,  3.,  1.,  0.,  2.,  4.,  1.,  1.,\n",
              "         2.,  0.,  0.,  2.,  0.,  0.,  0.,  0.,  4.,  4.,  4.,  0.,  0.,\n",
              "         0.,  1.,  2.,  0.,  0.,  0.,  1.,  0.,  0.,  0.,  1.,  0.,  5.,\n",
              "         0.,  0.,  3.,  3.,  0.,  0.,  0.,  0.,  0.,  0.,  1.,  2.,  0.,\n",
              "         0.,  0., 10.,  9.,  0.,  0.,  0.,  5.,  2.,  0.,  1.,  0.,  1.,\n",
              "         0.,  0.,  0.,  0.,  5.,  6.,  2.,  3.,  1.,  1.,  5.,  0.,  1.,\n",
              "         0.,  0.,  0.,  0.,  1.,  0.,  1.,  4.,  0.,  5.,  2.,  3.,  1.,\n",
              "         1.,  2.,  0.,  0.,  0.,  1.,  2.,  0.,  2.,  8.,  7.,  9.,  8.,\n",
              "         0.,  1.,  0.,  6.,  2.,  0.,  0.,  0.,  1.,  0.,  0.,  1.,  0.,\n",
              "        11., 11.,  0.,  0.,  1.,  1.,  6.,  0.,  0.,  0.,  0.,  0.,  2.,\n",
              "         0.,  0.,  0.,  0., 10.,  5.,  2.,  1.,  0.,  0.,  0.,  0.,  0.,\n",
              "         0.,  0.,  0.,  1.,  0.,  0.,  2.,  3.,  1.,  1.,  1.,  0.,  0.,\n",
              "         0.,  0.,  0.,  0.,  0.,  1.,  0.,  0.,  0.,  0.,  4.,  2.,  0.,\n",
              "         0.,  0.,  0.,  0.,  0.,  0.,  0.,  2.,  1.,  0.,  1.,  0.,  4.,\n",
              "         6.,  3.,  0.,  0.,  0.,  0.,  0.,  0.,  0.,  0.,  1.,  1.,  0.,\n",
              "         0.,  2.,  5.,  9.]])"
            ]
          },
          "metadata": {
            "tags": []
          },
          "execution_count": 55
        }
      ]
    },
    {
      "cell_type": "code",
      "metadata": {
        "id": "hr7opL0kpJ_c",
        "colab": {
          "base_uri": "https://localhost:8080/",
          "height": 71
        },
        "outputId": "628445cb-6e7d-44ab-db3e-cd28f8be4625"
      },
      "source": [
        "ukraineMatrices = np.zeros((38, 225))\n",
        "ukraineMatrices = getTeamMatrices(14622)"
      ],
      "execution_count": null,
      "outputs": [
        {
          "output_type": "stream",
          "text": [
            "/usr/local/lib/python3.6/dist-packages/ipykernel_launcher.py:2: DeprecationWarning: The default dtype for empty Series will be 'object' instead of 'float64' in a future version. Specify a dtype explicitly to silence this warning.\n",
            "  \n"
          ],
          "name": "stderr"
        }
      ]
    },
    {
      "cell_type": "code",
      "metadata": {
        "id": "7EWKhS3fpKXT",
        "colab": {
          "base_uri": "https://localhost:8080/",
          "height": 935
        },
        "outputId": "abe53ae5-e718-4fc5-82b4-a24dab810da0"
      },
      "source": [
        "ukraineMatrices"
      ],
      "execution_count": null,
      "outputs": [
        {
          "output_type": "execute_result",
          "data": {
            "text/plain": [
              "array([[ 4.,  2.,  0.,  0.,  0.,  1.,  2.,  1.,  0.,  0.,  0.,  0.,  0.,\n",
              "         0.,  0.,  3.,  3.,  4.,  1.,  0.,  4.,  0.,  1.,  1.,  0.,  0.,\n",
              "         0.,  0.,  1.,  0.,  2.,  5.,  1.,  4.,  1.,  3.,  2.,  1.,  0.,\n",
              "         0.,  0.,  0.,  0.,  1.,  2.,  0.,  3.,  5.,  6.,  5.,  0.,  1.,\n",
              "         2.,  2.,  3.,  0.,  0.,  0.,  0.,  0.,  0.,  0.,  2.,  6.,  1.,\n",
              "         0.,  0.,  0.,  3.,  4.,  0.,  0.,  0.,  1.,  0.,  1.,  0.,  0.,\n",
              "         1.,  0.,  5.,  2.,  2.,  0.,  0.,  2.,  2.,  0.,  0.,  0.,  2.,\n",
              "         2.,  0.,  0.,  0.,  1.,  0.,  2.,  1.,  1.,  0.,  0.,  1.,  0.,\n",
              "         1.,  0.,  1.,  0.,  1.,  1.,  1.,  1.,  1.,  1.,  1.,  1.,  0.,\n",
              "         1.,  0.,  2.,  0.,  0.,  1.,  0.,  0.,  0.,  0.,  2.,  2.,  3.,\n",
              "         0.,  0.,  0.,  1.,  3.,  0.,  1.,  0.,  2.,  4.,  0.,  1.,  0.,\n",
              "         1.,  9.,  0.,  0.,  0.,  0.,  2.,  0.,  0.,  0.,  0.,  0.,  2.,\n",
              "         1.,  0.,  0.,  0.,  5.,  1.,  0.,  0.,  1.,  0.,  0.,  0.,  0.,\n",
              "         0.,  1.,  3.,  1.,  0.,  0.,  3.,  2.,  1.,  1.,  0.,  0.,  0.,\n",
              "         0.,  0.,  0.,  0.,  0.,  0.,  0.,  0.,  0.,  1.,  0.,  1.,  1.,\n",
              "         0.,  0.,  0.,  0.,  0.,  0.,  0.,  0.,  0.,  0.,  0.,  0.,  1.,\n",
              "         0.,  2.,  0.,  0.,  0.,  0.,  0.,  0.,  0.,  0.,  0.,  2.,  1.,\n",
              "         1.,  2.,  1., 10.],\n",
              "       [ 2.,  3.,  4.,  0.,  0.,  2.,  1.,  0.,  0.,  1.,  0.,  0.,  0.,\n",
              "         0.,  0.,  1.,  2.,  3.,  5.,  1.,  3.,  7.,  2.,  2.,  0.,  2.,\n",
              "         0.,  0.,  1.,  2.,  0.,  4.,  0.,  2.,  2.,  0.,  5.,  1.,  2.,\n",
              "         0.,  0.,  0.,  0.,  0.,  0.,  2.,  5.,  2.,  5.,  7.,  0.,  5.,\n",
              "         2.,  5.,  5.,  0.,  0.,  0.,  0.,  0.,  1.,  0.,  3.,  7.,  6.,\n",
              "         1.,  0.,  0.,  2.,  7.,  0.,  0.,  0.,  1.,  0.,  1.,  7.,  0.,\n",
              "         1.,  0., 13., 12.,  3.,  2.,  0.,  4.,  1.,  0.,  1.,  2.,  0.,\n",
              "         0.,  0.,  1.,  0., 15.,  7.,  6.,  7.,  2.,  7.,  4.,  1.,  2.,\n",
              "         1.,  0.,  1.,  0.,  0.,  1.,  7.,  7.,  1.,  4.,  3.,  2.,  0.,\n",
              "         1.,  0.,  4.,  0.,  2.,  1.,  3.,  2.,  1.,  7.,  8.,  7.,  7.,\n",
              "         0.,  4.,  1.,  3.,  4.,  0.,  1.,  0.,  3.,  2.,  0.,  3.,  4.,\n",
              "         9., 10.,  0.,  0.,  0.,  0.,  2.,  0.,  0.,  0.,  0.,  0.,  6.,\n",
              "         2.,  1.,  0.,  0., 15.,  6.,  2.,  0.,  0.,  0.,  0.,  0.,  0.,\n",
              "         0.,  0.,  1.,  0.,  0.,  0.,  6.,  2.,  2.,  2.,  0.,  0.,  0.,\n",
              "         0.,  0.,  0.,  0.,  1.,  1.,  0.,  0.,  2.,  0.,  2.,  1.,  2.,\n",
              "         0.,  0.,  0.,  0.,  0.,  0.,  1.,  0.,  1.,  1.,  2.,  1.,  2.,\n",
              "         2.,  2.,  0.,  0.,  0.,  0.,  0.,  0.,  0.,  0.,  4.,  3.,  1.,\n",
              "         1.,  1.,  2.,  7.],\n",
              "       [10.,  5.,  5.,  0.,  0.,  4.,  5.,  0.,  0.,  0.,  0.,  1.,  0.,\n",
              "         0.,  0.,  4.,  6.,  5.,  0.,  0.,  5.,  9.,  1.,  0.,  0.,  0.,\n",
              "         0.,  0.,  0.,  0.,  4.,  2.,  3.,  2.,  1.,  1.,  5.,  1.,  7.,\n",
              "         5.,  0.,  0.,  0.,  0.,  1.,  0.,  1.,  2.,  3.,  2.,  1.,  1.,\n",
              "         1.,  2.,  1.,  0.,  0.,  0.,  0.,  1.,  0.,  2.,  2.,  3.,  3.,\n",
              "         0.,  0.,  0.,  4.,  5.,  0.,  0.,  0.,  0.,  0.,  1.,  1.,  2.,\n",
              "         0.,  0., 23., 11.,  2.,  2.,  0., 10.,  0.,  0.,  0.,  1.,  3.,\n",
              "         4.,  3.,  1.,  0., 16., 21.,  6.,  4.,  0., 11.,  3.,  2.,  1.,\n",
              "         2.,  0.,  0.,  2.,  0.,  0.,  0.,  8.,  4.,  8.,  1.,  3.,  1.,\n",
              "         0.,  3.,  1.,  0.,  0.,  2.,  0.,  0.,  1.,  7.,  4., 12.,  9.,\n",
              "         1.,  4.,  5.,  5.,  2.,  0.,  0.,  1.,  1.,  3.,  0.,  0.,  1.,\n",
              "        11., 14.,  0.,  1.,  0.,  0.,  7.,  0.,  0.,  0.,  0.,  0.,  4.,\n",
              "         3.,  0.,  0.,  1., 26., 11.,  3.,  2.,  0.,  0.,  0.,  0.,  0.,\n",
              "         0.,  1.,  0.,  2.,  0.,  0.,  6.,  6.,  6.,  0.,  2.,  0.,  0.,\n",
              "         0.,  0.,  0.,  0.,  0.,  1.,  1.,  0.,  2.,  4.,  3.,  0.,  0.,\n",
              "         0.,  0.,  0.,  0.,  0.,  0.,  1.,  0.,  0.,  0.,  0.,  1.,  2.,\n",
              "         1.,  4.,  0.,  0.,  0.,  0.,  0.,  0.,  0.,  0.,  2.,  1.,  0.,\n",
              "         0.,  3.,  1., 10.]])"
            ]
          },
          "metadata": {
            "tags": []
          },
          "execution_count": 57
        }
      ]
    },
    {
      "cell_type": "code",
      "metadata": {
        "id": "QHrI7fM2sc2T"
      },
      "source": [
        "from google.colab import files\n",
        "import pickle\n",
        "with open('eu.pickle', 'wb') as f:\n",
        "  pickle.dump([franceMatrices, englandMatrices, czechMatrices, icelandMatrices, austriaMatrices, northenIrelandMatrices, portugalMatrices, spainMatrices, switzerlandMatrices, italyMatrices, belgiumMatrices, walesMatrices, romaniaMatrices, albaniaMatrices, germanyMatrices, polandMatrices, russiaMatrices, slovakiaMatrices, croatiaMatrices, turkeyMatrices, hungaryMatrices, irelandMatrices, swedenMatrices, ukraineMatrices], f)\n",
        "files.download('eu.pickle')  "
      ],
      "execution_count": null,
      "outputs": []
    }
  ]
}