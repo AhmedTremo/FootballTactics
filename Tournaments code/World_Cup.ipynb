{
  "nbformat": 4,
  "nbformat_minor": 0,
  "metadata": {
    "colab": {
      "name": "World Cup.ipynb",
      "provenance": []
    },
    "kernelspec": {
      "name": "python3",
      "display_name": "Python 3"
    }
  },
  "cells": [
    {
      "cell_type": "code",
      "metadata": {
        "id": "4m-QLB2j08jP",
        "colab": {
          "base_uri": "https://localhost:8080/",
          "height": 51
        },
        "outputId": "14df5b08-3789-460a-ea0b-e2b50cb2f0b7"
      },
      "source": [
        "import pandas as pd\n",
        "from pandas.io.json import json_normalize\n",
        "import json\n",
        "import numpy as np\n",
        "import networkx as nx\n",
        "import pylab as plt\n",
        "\n",
        "eventsWorld_Cup = pd.read_json('/content/drive/My Drive/bachelor data/events/events_World_Cup.json')\n",
        "matchesWorld_Cup = pd.read_json(\"/content/drive/My Drive/bachelor data/matches/matches_World_Cup.json\")\n",
        "tagsName = pd.read_csv(\"/content/drive/My Drive/bachelor data/tags2name.csv\")\n",
        "with open('/content/drive/My Drive/bachelor data/events/events_World_Cup.json') as f:\n",
        "    d = json.load(f)\n",
        "tags = json_normalize(data=d, record_path='tags', meta=['id'], record_prefix='_')\n",
        "teams = pd.read_json(\"/content/drive/My Drive/bachelor data/teams.json\")\n",
        "eventsWorld_CupTags = pd.merge(eventsWorld_Cup,\n",
        "                       tags,\n",
        "                       on='id')"
      ],
      "execution_count": null,
      "outputs": [
        {
          "output_type": "stream",
          "text": [
            "/usr/local/lib/python3.6/dist-packages/ipykernel_launcher.py:13: FutureWarning: pandas.io.json.json_normalize is deprecated, use pandas.json_normalize instead\n",
            "  del sys.path[0]\n"
          ],
          "name": "stderr"
        }
      ]
    },
    {
      "cell_type": "code",
      "metadata": {
        "id": "9EI3W9Y25ne1"
      },
      "source": [
        "def checkZones2(dataframe, columnName):\n",
        "  resultSeries = pd.Series([])\n",
        "  i = -1\n",
        "  for index, row in dataframe.iterrows():\n",
        "    x = (row[columnName])['x']\n",
        "    y = (row[columnName])['y']\n",
        "    index = i + 1\n",
        "    resultSeries = resultSeries.append(pd.Series([int(((x // 33.3) * 5) + 1 + (y // 20))]), ignore_index=True)\n",
        "  return resultSeries"
      ],
      "execution_count": null,
      "outputs": []
    },
    {
      "cell_type": "code",
      "metadata": {
        "id": "WlUGBH7K5ofB"
      },
      "source": [
        "# Filling 2D matrix of Barcelona team with corresponding passes\n",
        "def get2dMatrix(passesDataframe, senderColumnName, RecipientColumnName):\n",
        "  arr = np.arange(225).reshape(15,15)\n",
        "  i = 0\n",
        "  j = 0\n",
        "  passCount = 0\n",
        "  for i in range(15):\n",
        "    for j in range(15):\n",
        "      passCount = 0\n",
        "      for index, row in passesDataframe.iterrows():\n",
        "        if(row[senderColumnName] == i+1 and  row[RecipientColumnName] == j+1):\n",
        "          passCount += 1\n",
        "        arr[i][j] = passCount    \n",
        "      j += 1\n",
        "    i += 1 \n",
        "  return arr"
      ],
      "execution_count": null,
      "outputs": []
    },
    {
      "cell_type": "code",
      "metadata": {
        "id": "Fn_8T1zf5qr6"
      },
      "source": [
        "def getTeamMatrix(teamId, teamMatchId):\n",
        "  \n",
        "  # Getting Successful passes of specific team in specific match\n",
        "  successfulPasses = eventsWorld_CupTags[(eventsWorld_CupTags['teamId'] == teamId) & (eventsWorld_CupTags['matchId'] == teamMatchId) & (eventsWorld_CupTags['eventId'] == 8) & (eventsWorld_CupTags['_id'] == 1801)]\n",
        "  successfulPasses.reset_index(level=0, inplace=True)\n",
        "\n",
        "  # Adding Sender/Recipient positions\n",
        "  successfulPasses2 = successfulPasses['positions'].sum()\n",
        "  del successfulPasses2[1::2]\n",
        "  x2 = pd.Series(successfulPasses2)\n",
        "  successfulPassesSender = pd.concat([successfulPasses, pd.DataFrame(x2)], axis=1)\n",
        "  successfulPassesSender.rename(columns = {0:'Sender'}, inplace = True)\n",
        "\n",
        "  successfulPasses1 = successfulPassesSender['positions'].sum()\n",
        "  del successfulPasses1[0::2]\n",
        "  x = pd.Series(successfulPasses1)\n",
        "  successfulPassesSenderRecipient = pd.concat([successfulPassesSender, pd.DataFrame(x)], axis=1)\n",
        "  successfulPassesSenderRecipient.rename(columns = {0:'Recepient'}, inplace = True) \n",
        "\n",
        "  # Adding Sender/Recipient zones\n",
        "\n",
        "  zoneSeriesSender = checkZones2(successfulPassesSenderRecipient, 'Sender')\n",
        "  zoneDataframeSender = pd.DataFrame(zoneSeriesSender)\n",
        "  zoneDataframeSender.rename(columns = {0:'SenderZone'}, inplace = True)\n",
        "\n",
        "  zoneSeriesRecipient = checkZones2(successfulPassesSenderRecipient, 'Recepient')\n",
        "  zoneDataframeRecipient = pd.DataFrame(zoneSeriesRecipient)\n",
        "  zoneDataframeRecipient.rename(columns = {0:'RecipientZone'}, inplace = True)\n",
        "\n",
        "  successfulPassesSenderRecipientZ = pd.concat([successfulPassesSenderRecipient, zoneDataframeSender], axis=1)\n",
        "  successfulPassesSenderRecipientZone = pd.concat([successfulPassesSenderRecipientZ, zoneDataframeRecipient], axis=1)\n",
        "  \n",
        "  # returning the 2D passes Matrix\n",
        "  return get2dMatrix(successfulPassesSenderRecipientZone, 'SenderZone', 'RecipientZone').flatten()"
      ],
      "execution_count": null,
      "outputs": []
    },
    {
      "cell_type": "code",
      "metadata": {
        "id": "YqlB_MMn5vvS"
      },
      "source": [
        "def getTeamMatches(teamId):\n",
        "  teamMatchesIds = np.array([])\n",
        "  eventsWorld_CupTeam = eventsWorld_Cup[eventsWorld_Cup['teamId'] == teamId]\n",
        "  teamMatchesIds = eventsWorld_CupTeam.matchId.unique()\n",
        "  return teamMatchesIds"
      ],
      "execution_count": null,
      "outputs": []
    },
    {
      "cell_type": "code",
      "metadata": {
        "id": "Kk73jzEp5x9L"
      },
      "source": [
        "def getTeamMatrices(teamId):\n",
        "  teamMatches = getTeamMatches(teamId)\n",
        "  teamMatrices = np.zeros((len(teamMatches), 225))\n",
        "  for i in range(len(teamMatches)):\n",
        "    teamMatrices[i] = getTeamMatrix(teamId, teamMatches[i])\n",
        "  return teamMatrices"
      ],
      "execution_count": null,
      "outputs": []
    },
    {
      "cell_type": "code",
      "metadata": {
        "id": "wzxL_kYd53Ix",
        "colab": {
          "base_uri": "https://localhost:8080/",
          "height": 71
        },
        "outputId": "0fb7123e-c931-4015-e031-6a512be34942"
      },
      "source": [
        "australiaMatrices = np.zeros((38, 225))\n",
        "australiaMatrices = getTeamMatrices(8493)"
      ],
      "execution_count": null,
      "outputs": [
        {
          "output_type": "stream",
          "text": [
            "/usr/local/lib/python3.6/dist-packages/ipykernel_launcher.py:2: DeprecationWarning: The default dtype for empty Series will be 'object' instead of 'float64' in a future version. Specify a dtype explicitly to silence this warning.\n",
            "  \n"
          ],
          "name": "stderr"
        }
      ]
    },
    {
      "cell_type": "code",
      "metadata": {
        "id": "GMFnZyPp8q1E",
        "colab": {
          "base_uri": "https://localhost:8080/",
          "height": 935
        },
        "outputId": "715905b0-bbba-4dc5-9f09-4d1bc5429fba"
      },
      "source": [
        "australiaMatrices"
      ],
      "execution_count": null,
      "outputs": [
        {
          "output_type": "execute_result",
          "data": {
            "text/plain": [
              "array([[15.,  7.,  8.,  1.,  0.,  1.,  0.,  0.,  0.,  0.,  0.,  1.,  0.,\n",
              "         0.,  0.,  4.,  5.,  4.,  8.,  0.,  4.,  2.,  2.,  1.,  3.,  0.,\n",
              "         0.,  0.,  0.,  0.,  4.,  5.,  7.,  6.,  6.,  4.,  1.,  1.,  2.,\n",
              "         2.,  0.,  0.,  0.,  0.,  0.,  0.,  4.,  4.,  2.,  6.,  1.,  1.,\n",
              "         0.,  5.,  6.,  0.,  0.,  0.,  0.,  0.,  0.,  0.,  0.,  6.,  3.,\n",
              "         0.,  0.,  0.,  2.,  2.,  0.,  0.,  0.,  0.,  0.,  5.,  4.,  0.,\n",
              "         0.,  0., 22., 14.,  2.,  0.,  0.,  3.,  2.,  1.,  0.,  0.,  1.,\n",
              "         1.,  2.,  1.,  0., 12.,  3.,  2.,  3.,  1.,  0.,  2.,  0.,  0.,\n",
              "         2.,  0.,  1.,  2.,  1.,  0.,  1.,  4.,  2.,  1.,  2.,  0.,  0.,\n",
              "         1.,  0.,  0.,  1.,  0.,  1.,  0.,  1.,  1.,  1.,  3.,  1.,  7.,\n",
              "         0.,  0.,  0.,  2.,  2.,  0.,  0.,  4.,  2.,  0.,  0.,  1.,  2.,\n",
              "         6., 19.,  1.,  0.,  1.,  1.,  5.,  0.,  0.,  0.,  0.,  0.,  2.,\n",
              "         0.,  0.,  0.,  0.,  7.,  0.,  0.,  0.,  0.,  0.,  0.,  0.,  0.,\n",
              "         0.,  0.,  0.,  0.,  0.,  0.,  0.,  1.,  1.,  0.,  0.,  0.,  0.,\n",
              "         0.,  0.,  0.,  0.,  0.,  0.,  0.,  0.,  1.,  1.,  1.,  1.,  0.,\n",
              "         0.,  0.,  0.,  0.,  0.,  0.,  0.,  0.,  0.,  0.,  0.,  0.,  0.,\n",
              "         1.,  0.,  0.,  0.,  0.,  0.,  0.,  0.,  0.,  0.,  0.,  2.,  0.,\n",
              "         0.,  1.,  0.,  8.],\n",
              "       [ 9., 12.,  3.,  0.,  0.,  6.,  2.,  0.,  0.,  0.,  0.,  0.,  0.,\n",
              "         0.,  0.,  8.,  8.,  7.,  4.,  0., 11.,  7.,  5.,  2.,  0.,  0.,\n",
              "         0.,  0.,  0.,  0.,  2.,  6.,  3.,  3.,  1.,  1.,  3.,  3.,  6.,\n",
              "         4.,  0.,  0.,  0.,  0.,  0.,  0.,  3.,  6.,  0.,  3.,  0.,  1.,\n",
              "         0.,  6.,  0.,  0.,  0.,  0.,  0.,  4.,  0.,  0.,  0.,  0.,  3.,\n",
              "         0.,  0.,  0.,  1.,  2.,  0.,  0.,  0.,  0.,  1.,  4., 11.,  3.,\n",
              "         0.,  0.,  9., 10.,  1.,  0.,  0.,  5.,  2.,  0.,  0.,  0.,  1.,\n",
              "         3.,  3.,  0.,  0., 14., 10.,  6.,  3.,  0.,  6.,  2.,  0.,  1.,\n",
              "         0.,  0.,  3.,  2.,  4.,  0.,  3.,  3.,  5.,  4.,  1.,  1.,  0.,\n",
              "         1.,  0.,  1.,  0.,  1.,  1.,  0.,  1.,  0.,  6.,  5.,  9.,  8.,\n",
              "         1.,  0.,  5.,  5.,  5.,  0.,  0.,  0.,  2.,  0.,  0.,  0.,  1.,\n",
              "         9.,  8.,  0.,  1.,  0.,  1.,  5.,  0.,  0.,  0.,  0.,  0.,  4.,\n",
              "         2.,  0.,  0.,  0.,  5.,  3.,  4.,  0.,  0.,  0.,  0.,  0.,  0.,\n",
              "         0.,  0.,  1.,  0.,  0.,  0.,  1.,  4.,  1.,  0.,  0.,  0.,  0.,\n",
              "         0.,  0.,  0.,  1.,  0.,  0.,  0.,  0.,  2.,  2.,  0.,  4.,  1.,\n",
              "         0.,  0.,  0.,  0.,  0.,  0.,  0.,  1.,  1.,  2.,  0.,  0.,  3.,\n",
              "         5.,  6.,  0.,  0.,  0.,  0.,  0.,  0.,  0.,  0.,  4.,  2.,  1.,\n",
              "         0.,  1.,  4., 10.],\n",
              "       [ 4.,  3.,  0.,  1.,  0.,  1.,  1.,  0.,  0.,  0.,  0.,  0.,  0.,\n",
              "         0.,  0.,  2.,  5.,  6.,  5.,  0.,  9.,  3.,  3.,  5.,  1.,  0.,\n",
              "         0.,  0.,  0.,  1.,  0.,  7.,  4.,  3.,  1.,  3.,  2.,  6.,  6.,\n",
              "         2.,  0.,  0.,  0.,  0.,  0.,  1.,  6.,  6.,  6.,  3.,  1.,  2.,\n",
              "         1.,  6.,  4.,  0.,  0.,  0.,  0.,  0.,  0.,  2.,  0.,  3.,  2.,\n",
              "         0.,  0.,  0.,  5.,  3.,  0.,  0.,  0.,  0.,  0.,  1.,  8.,  1.,\n",
              "         0.,  0.,  6., 16.,  2.,  0.,  0.,  6.,  1.,  1.,  0.,  0.,  0.,\n",
              "         2.,  1.,  1.,  0., 10.,  4.,  5.,  4.,  0.,  5.,  5.,  2.,  1.,\n",
              "         1.,  0.,  0.,  5.,  1.,  0.,  1.,  7.,  4.,  6.,  3.,  1.,  2.,\n",
              "         2.,  0.,  2.,  0.,  1.,  2.,  4.,  1.,  2.,  4., 12., 19.,  8.,\n",
              "         0.,  0.,  1.,  4.,  9.,  0.,  0.,  1.,  2.,  2.,  0.,  0.,  1.,\n",
              "         9., 10.,  0.,  0.,  1.,  3.,  7.,  0.,  0.,  0.,  0.,  0.,  5.,\n",
              "         2.,  1.,  0.,  0., 14.,  3.,  1.,  0.,  0.,  0.,  0.,  0.,  0.,\n",
              "         0.,  0.,  3.,  1.,  0.,  0.,  4.,  8.,  2.,  1.,  0.,  0.,  0.,\n",
              "         0.,  0.,  0.,  0.,  0.,  0.,  0.,  0.,  0.,  2.,  3.,  2.,  2.,\n",
              "         0.,  0.,  0.,  0.,  0.,  0.,  0.,  0.,  2.,  1.,  1.,  1.,  2.,\n",
              "         3.,  4.,  0.,  0.,  0.,  0.,  0.,  0.,  0.,  0.,  6.,  1.,  0.,\n",
              "         0.,  2.,  3., 11.]])"
            ]
          },
          "metadata": {
            "tags": []
          },
          "execution_count": 15
        }
      ]
    },
    {
      "cell_type": "code",
      "metadata": {
        "id": "m5rfBppm8r4M",
        "colab": {
          "base_uri": "https://localhost:8080/",
          "height": 71
        },
        "outputId": "69151b3b-69e0-409b-b3f9-465aa06dc75e"
      },
      "source": [
        "iranMatrices = np.zeros((38, 225))\n",
        "iranMatrices = getTeamMatrices(10840)"
      ],
      "execution_count": null,
      "outputs": [
        {
          "output_type": "stream",
          "text": [
            "/usr/local/lib/python3.6/dist-packages/ipykernel_launcher.py:2: DeprecationWarning: The default dtype for empty Series will be 'object' instead of 'float64' in a future version. Specify a dtype explicitly to silence this warning.\n",
            "  \n"
          ],
          "name": "stderr"
        }
      ]
    },
    {
      "cell_type": "code",
      "metadata": {
        "id": "qfkUTlnk8sJc",
        "colab": {
          "base_uri": "https://localhost:8080/",
          "height": 782
        },
        "outputId": "abbc59fb-6f09-4630-93f7-11106420e5cf"
      },
      "source": [
        "iranMatrices"
      ],
      "execution_count": null,
      "outputs": [
        {
          "output_type": "execute_result",
          "data": {
            "text/plain": [
              "array([[4., 2., 0., 0., 0., 4., 1., 0., 1., 0., 0., 0., 0., 0., 0., 2.,\n",
              "        0., 0., 0., 0., 2., 1., 0., 0., 0., 0., 0., 0., 0., 0., 2., 3.,\n",
              "        0., 0., 0., 1., 1., 0., 2., 0., 0., 1., 0., 0., 1., 1., 0., 1.,\n",
              "        0., 2., 0., 0., 1., 0., 0., 0., 0., 0., 0., 0., 0., 0., 2., 1.,\n",
              "        9., 0., 0., 0., 2., 2., 0., 0., 1., 1., 0., 2., 0., 0., 0., 0.,\n",
              "        4., 1., 0., 0., 1., 2., 1., 0., 0., 0., 0., 0., 1., 0., 0., 6.,\n",
              "        3., 1., 2., 0., 1., 1., 2., 0., 0., 0., 0., 1., 0., 0., 0., 4.,\n",
              "        3., 0., 1., 0., 0., 0., 0., 0., 0., 0., 2., 1., 0., 0., 1., 3.,\n",
              "        2., 4., 1., 0., 0., 1., 2., 0., 1., 0., 0., 1., 0., 0., 0., 5.,\n",
              "        1., 0., 0., 0., 1., 0., 0., 0., 0., 0., 0., 2., 1., 0., 0., 0.,\n",
              "        3., 0., 0., 0., 0., 0., 0., 0., 0., 0., 0., 0., 0., 0., 0., 1.,\n",
              "        0., 0., 1., 0., 0., 0., 0., 0., 0., 0., 0., 1., 0., 0., 0., 0.,\n",
              "        0., 0., 0., 0., 0., 0., 0., 0., 0., 0., 0., 0., 0., 1., 1., 1.,\n",
              "        4., 2., 0., 0., 0., 0., 0., 0., 0., 1., 0., 1., 0., 0., 0., 0.,\n",
              "        1.],\n",
              "       [0., 1., 0., 0., 0., 1., 2., 0., 0., 0., 0., 0., 0., 0., 0., 3.,\n",
              "        3., 0., 1., 0., 2., 1., 1., 1., 0., 0., 1., 0., 0., 0., 0., 0.,\n",
              "        1., 1., 0., 0., 0., 0., 1., 1., 0., 0., 0., 1., 1., 1., 3., 1.,\n",
              "        4., 4., 1., 0., 0., 0., 5., 0., 0., 0., 0., 0., 0., 1., 0., 2.,\n",
              "        9., 0., 0., 0., 0., 5., 0., 0., 0., 0., 0., 1., 2., 0., 0., 0.,\n",
              "        4., 4., 0., 0., 1., 2., 0., 1., 0., 0., 1., 0., 1., 1., 0., 1.,\n",
              "        3., 0., 1., 0., 5., 2., 1., 1., 1., 0., 0., 1., 1., 0., 1., 0.,\n",
              "        4., 3., 0., 0., 2., 1., 0., 1., 1., 1., 1., 1., 0., 0., 1., 3.,\n",
              "        0., 1., 0., 1., 2., 0., 0., 0., 1., 0., 1., 0., 0., 0., 0., 2.,\n",
              "        3., 0., 1., 0., 0., 0., 0., 0., 0., 0., 0., 1., 1., 0., 0., 0.,\n",
              "        2., 1., 1., 0., 0., 0., 0., 0., 0., 0., 0., 1., 0., 0., 0., 2.,\n",
              "        2., 2., 1., 1., 0., 0., 0., 0., 0., 0., 0., 0., 0., 0., 0., 1.,\n",
              "        0., 0., 0., 0., 0., 0., 0., 0., 0., 0., 0., 0., 0., 0., 0., 1.,\n",
              "        0., 0., 0., 0., 0., 0., 0., 0., 0., 0., 0., 0., 0., 0., 2., 0.,\n",
              "        0.],\n",
              "       [1., 1., 1., 1., 0., 4., 0., 0., 1., 0., 1., 0., 0., 0., 0., 1.,\n",
              "        2., 2., 1., 0., 0., 2., 0., 0., 1., 0., 0., 0., 0., 0., 3., 4.,\n",
              "        3., 0., 1., 0., 2., 1., 0., 0., 0., 1., 0., 0., 0., 0., 0., 2.,\n",
              "        2., 3., 0., 0., 1., 1., 2., 1., 0., 1., 1., 0., 0., 0., 1., 1.,\n",
              "        1., 0., 0., 0., 2., 1., 0., 0., 1., 0., 0., 1., 0., 0., 1., 0.,\n",
              "        9., 2., 0., 0., 0., 2., 0., 1., 0., 0., 0., 0., 0., 0., 0., 2.,\n",
              "        1., 4., 0., 0., 1., 0., 1., 0., 1., 0., 1., 1., 1., 0., 3., 0.,\n",
              "        3., 3., 2., 0., 2., 0., 0., 2., 0., 0., 0., 2., 0., 0., 0., 4.,\n",
              "        0., 4., 0., 1., 0., 1., 1., 0., 0., 0., 0., 0., 0., 0., 0., 2.,\n",
              "        5., 0., 0., 2., 1., 4., 0., 0., 0., 0., 0., 0., 0., 0., 0., 0.,\n",
              "        1., 2., 0., 0., 0., 0., 0., 0., 0., 0., 0., 0., 1., 0., 0., 1.,\n",
              "        3., 1., 1., 0., 0., 0., 0., 0., 0., 0., 0., 0., 0., 0., 0., 1.,\n",
              "        0., 0., 1., 0., 0., 0., 0., 0., 0., 0., 0., 0., 0., 0., 1., 1.,\n",
              "        1., 2., 0., 0., 0., 0., 0., 0., 0., 0., 0., 0., 0., 1., 2., 3.,\n",
              "        4.]])"
            ]
          },
          "metadata": {
            "tags": []
          },
          "execution_count": 17
        }
      ]
    },
    {
      "cell_type": "code",
      "metadata": {
        "id": "pGZlHDz18sSz",
        "colab": {
          "base_uri": "https://localhost:8080/",
          "height": 71
        },
        "outputId": "efd28aef-27d3-43bb-dc6e-59edc7137853"
      },
      "source": [
        "koreaMatrices = np.zeros((38, 225))\n",
        "koreaMatrices = getTeamMatrices(14855)"
      ],
      "execution_count": null,
      "outputs": [
        {
          "output_type": "stream",
          "text": [
            "/usr/local/lib/python3.6/dist-packages/ipykernel_launcher.py:2: DeprecationWarning: The default dtype for empty Series will be 'object' instead of 'float64' in a future version. Specify a dtype explicitly to silence this warning.\n",
            "  \n"
          ],
          "name": "stderr"
        }
      ]
    },
    {
      "cell_type": "code",
      "metadata": {
        "id": "RJwhsgFy8shs",
        "colab": {
          "base_uri": "https://localhost:8080/",
          "height": 935
        },
        "outputId": "a76e61c9-6da6-430d-f67c-04a0dc8d4302"
      },
      "source": [
        "koreaMatrices"
      ],
      "execution_count": null,
      "outputs": [
        {
          "output_type": "execute_result",
          "data": {
            "text/plain": [
              "array([[ 0.,  2.,  2.,  0.,  0.,  4.,  0.,  0.,  0.,  0.,  0.,  0.,  1.,\n",
              "         0.,  0.,  1.,  2.,  5.,  0.,  0.,  3.,  1.,  1.,  0.,  0.,  0.,\n",
              "         0.,  0.,  0.,  0.,  2.,  3.,  1.,  0.,  7.,  3.,  2.,  1.,  2.,\n",
              "         0.,  0.,  1.,  0.,  0.,  1.,  1.,  1.,  2.,  5.,  4.,  0.,  0.,\n",
              "         2.,  1.,  2.,  0.,  0.,  0.,  0.,  0.,  0.,  0.,  2.,  5.,  4.,\n",
              "         0.,  0.,  0.,  5.,  2.,  0.,  0.,  0.,  0.,  0.,  1.,  0.,  0.,\n",
              "         0.,  0.,  3.,  6.,  5.,  0.,  0.,  3.,  2.,  0.,  0.,  0.,  1.,\n",
              "         0.,  0.,  0.,  0.,  4.,  8.,  7.,  4.,  1.,  1.,  1.,  0.,  0.,\n",
              "         0.,  0.,  2.,  2.,  0.,  0.,  3.,  2.,  2., 10.,  2.,  1.,  1.,\n",
              "         2.,  1.,  1.,  0.,  0.,  1.,  1.,  0.,  1.,  2.,  6.,  8.,  5.,\n",
              "         0.,  0.,  0.,  3.,  5.,  0.,  0.,  0.,  0.,  1.,  0.,  3.,  0.,\n",
              "         2., 12.,  0.,  0.,  0.,  0.,  2.,  0.,  0.,  0.,  0.,  0.,  0.,\n",
              "         0.,  0.,  0.,  0.,  8.,  2.,  0.,  1.,  1.,  0.,  0.,  0.,  0.,\n",
              "         0.,  0.,  0.,  1.,  0.,  0.,  0.,  3.,  1.,  1.,  0.,  0.,  0.,\n",
              "         0.,  0.,  0.,  0.,  0.,  0.,  0.,  0.,  0.,  1.,  2.,  1.,  0.,\n",
              "         0.,  0.,  0.,  0.,  0.,  0.,  0.,  1.,  0.,  1.,  0.,  0.,  3.,\n",
              "         3.,  4.,  0.,  0.,  0.,  0.,  0.,  0.,  0.,  0.,  3.,  2.,  0.,\n",
              "         0.,  1., 10.,  8.],\n",
              "       [ 5.,  8.,  2.,  0.,  0.,  3.,  0.,  0.,  0.,  0.,  0.,  1.,  0.,\n",
              "         1.,  0.,  5.,  2.,  2.,  3.,  1.,  2.,  3.,  1.,  0.,  1.,  0.,\n",
              "         0.,  0.,  0.,  0.,  2.,  2.,  2.,  3.,  1.,  1.,  1.,  2.,  2.,\n",
              "         0.,  0.,  1.,  0.,  0.,  0.,  0.,  2.,  3.,  5.,  2.,  0.,  1.,\n",
              "         1.,  2.,  3.,  0.,  0.,  0.,  0.,  0.,  0.,  0.,  0.,  3.,  5.,\n",
              "         0.,  0.,  0.,  0.,  3.,  0.,  0.,  0.,  0.,  1.,  2.,  0.,  0.,\n",
              "         0.,  0.,  7.,  2.,  1.,  0.,  0.,  5.,  2.,  0.,  0.,  0.,  0.,\n",
              "         0.,  0.,  0.,  0.,  5.,  8.,  4.,  2.,  1.,  0.,  2.,  2.,  0.,\n",
              "         0.,  0.,  0.,  2.,  0.,  0.,  0.,  2.,  1.,  1.,  2.,  2.,  3.,\n",
              "         1.,  0.,  0.,  0.,  0.,  0.,  0.,  0.,  0.,  2.,  2.,  8.,  4.,\n",
              "         0.,  0.,  0.,  1.,  4.,  0.,  1.,  0.,  3.,  1.,  0.,  1.,  1.,\n",
              "         5., 13.,  1.,  0.,  0.,  1.,  5.,  0.,  0.,  0.,  0.,  0.,  3.,\n",
              "         2.,  0.,  0.,  0.,  9.,  3.,  1.,  0.,  0.,  0.,  0.,  0.,  0.,\n",
              "         0.,  0.,  2.,  0.,  0.,  0.,  2.,  2.,  5.,  2.,  0.,  0.,  0.,\n",
              "         0.,  0.,  0.,  0.,  0.,  0.,  0.,  0.,  2.,  1.,  1.,  1.,  1.,\n",
              "         0.,  0.,  0.,  0.,  0.,  0.,  0.,  0.,  0.,  0.,  1.,  0.,  3.,\n",
              "         6.,  4.,  0.,  0.,  0.,  0.,  0.,  0.,  0.,  2.,  1.,  1.,  0.,\n",
              "         0.,  0.,  4., 10.],\n",
              "       [ 5.,  3.,  0.,  0.,  0.,  1.,  2.,  0.,  0.,  0.,  0.,  1.,  0.,\n",
              "         0.,  0.,  3.,  9.,  3.,  1.,  0.,  0.,  1.,  1.,  1.,  0.,  0.,\n",
              "         0.,  0.,  0.,  0.,  3.,  2.,  0.,  3.,  1.,  1.,  1.,  0.,  0.,\n",
              "         1.,  0.,  0.,  0.,  1.,  1.,  1.,  0.,  2.,  2.,  4.,  1.,  1.,\n",
              "         1.,  0.,  5.,  0.,  0.,  0.,  1.,  0.,  0.,  0.,  1.,  1.,  5.,\n",
              "         0.,  0.,  0.,  0.,  4.,  0.,  1.,  0.,  0.,  0.,  0.,  2.,  0.,\n",
              "         0.,  0.,  3.,  1.,  1.,  0.,  0.,  2.,  0.,  1.,  0.,  0.,  1.,\n",
              "         0.,  0.,  0.,  0.,  2.,  7.,  3.,  1.,  0.,  0.,  1.,  1.,  0.,\n",
              "         0.,  0.,  1.,  0.,  0.,  0.,  1.,  0.,  2.,  1.,  2.,  1.,  1.,\n",
              "         1.,  0.,  1.,  0.,  1.,  0.,  1.,  0.,  1.,  0.,  0.,  2.,  5.,\n",
              "         0.,  0.,  0.,  0.,  1.,  0.,  1.,  0.,  1.,  1.,  0.,  0.,  2.,\n",
              "         3.,  9.,  0.,  1.,  0.,  5.,  0.,  0.,  0.,  0.,  0.,  0.,  0.,\n",
              "         0.,  0.,  0.,  0.,  1.,  1.,  1.,  0.,  0.,  0.,  0.,  0.,  0.,\n",
              "         0.,  0.,  0.,  1.,  0.,  0.,  2.,  1.,  3.,  1.,  0.,  0.,  0.,\n",
              "         0.,  0.,  0.,  0.,  0.,  2.,  0.,  0.,  0.,  0.,  1.,  2.,  1.,\n",
              "         0.,  0.,  0.,  0.,  0.,  0.,  0.,  0.,  0.,  0.,  0.,  0.,  3.,\n",
              "         7.,  1.,  0.,  0.,  0.,  0.,  0.,  0.,  0.,  0.,  0.,  0.,  0.,\n",
              "         0.,  2.,  3.,  2.]])"
            ]
          },
          "metadata": {
            "tags": []
          },
          "execution_count": 19
        }
      ]
    },
    {
      "cell_type": "code",
      "metadata": {
        "id": "Nwia4s7m8smZ",
        "colab": {
          "base_uri": "https://localhost:8080/",
          "height": 71
        },
        "outputId": "d575a7da-a3a9-4538-9e3d-28f1c0d8ca87"
      },
      "source": [
        "japanMatrices = np.zeros((38, 225))\n",
        "japanMatrices = getTeamMatrices(12913)"
      ],
      "execution_count": null,
      "outputs": [
        {
          "output_type": "stream",
          "text": [
            "/usr/local/lib/python3.6/dist-packages/ipykernel_launcher.py:2: DeprecationWarning: The default dtype for empty Series will be 'object' instead of 'float64' in a future version. Specify a dtype explicitly to silence this warning.\n",
            "  \n"
          ],
          "name": "stderr"
        }
      ]
    },
    {
      "cell_type": "code",
      "metadata": {
        "id": "X-PO7Tm18szF",
        "colab": {
          "base_uri": "https://localhost:8080/",
          "height": 1000
        },
        "outputId": "454f01fb-ca31-4370-a0d3-401bd10ce1ba"
      },
      "source": [
        "japanMatrices"
      ],
      "execution_count": null,
      "outputs": [
        {
          "output_type": "execute_result",
          "data": {
            "text/plain": [
              "array([[ 4.,  2.,  5.,  1.,  0.,  2.,  1.,  1.,  0.,  0.,  0.,  0.,  0.,\n",
              "         0.,  0.,  2.,  3.,  1.,  1.,  0.,  2.,  7.,  2.,  0.,  0.,  0.,\n",
              "         0.,  0.,  0.,  0.,  0.,  3.,  5.,  5.,  3.,  1.,  6.,  1.,  7.,\n",
              "         3.,  0.,  0.,  0.,  0.,  0.,  0.,  5.,  5.,  1.,  1.,  0.,  1.,\n",
              "         4.,  3.,  4.,  0.,  1.,  0.,  0.,  0.,  0.,  0.,  0.,  1.,  1.,\n",
              "         0.,  1.,  0.,  3.,  1.,  0.,  1.,  0.,  0.,  0.,  3.,  0.,  0.,\n",
              "         1.,  0.,  7., 15.,  2.,  0.,  0.,  9.,  2.,  0.,  0.,  0.,  0.,\n",
              "         1.,  2.,  2.,  0., 14., 14., 12.,  9.,  0.,  8.,  5.,  3.,  0.,\n",
              "         1.,  0.,  0.,  5.,  1.,  2.,  4.,  9.,  6., 10.,  3.,  2.,  1.,\n",
              "         0.,  3.,  2.,  0.,  1.,  1.,  4.,  0.,  1.,  7.,  8., 24., 14.,\n",
              "         1.,  0.,  1.,  4.,  6.,  0.,  1.,  1.,  2.,  0.,  0.,  1.,  7.,\n",
              "        11., 10.,  0.,  0.,  0.,  3., 13.,  1.,  0.,  0.,  0.,  0.,  5.,\n",
              "         4.,  0.,  0.,  0., 14.,  6.,  2.,  0.,  0.,  0.,  0.,  0.,  0.,\n",
              "         0.,  0.,  4.,  0.,  0.,  0.,  6.,  1.,  2.,  1.,  0.,  0.,  0.,\n",
              "         0.,  0.,  0.,  0.,  1.,  1.,  2.,  0.,  1.,  3.,  5.,  3.,  2.,\n",
              "         0.,  0.,  0.,  0.,  0.,  0.,  1.,  3.,  0.,  2.,  1.,  0.,  2.,\n",
              "         4.,  4.,  0.,  0.,  0.,  0.,  0.,  0.,  0.,  0.,  5., 10.,  0.,\n",
              "         1.,  1.,  6., 24.],\n",
              "       [ 3.,  4.,  1.,  0.,  0.,  2.,  3.,  0.,  0.,  0.,  0.,  1.,  0.,\n",
              "         0.,  0.,  2.,  8.,  8.,  7.,  0.,  5.,  8.,  4.,  1.,  0.,  0.,\n",
              "         1.,  2.,  0.,  0.,  0.,  7.,  2.,  4.,  4.,  2.,  1.,  3.,  3.,\n",
              "         1.,  0.,  1.,  1.,  1.,  0.,  0.,  3.,  7.,  8.,  6.,  0.,  4.,\n",
              "         9.,  4.,  3.,  0.,  1.,  0.,  0.,  1.,  0.,  0.,  0.,  0.,  2.,\n",
              "         0.,  0.,  1.,  0.,  3.,  0.,  0.,  0.,  0.,  0.,  4.,  2.,  1.,\n",
              "         0.,  0.,  7.,  5.,  1.,  0.,  0.,  2.,  1.,  0.,  0.,  0.,  2.,\n",
              "         2.,  0.,  2.,  0.,  6.,  5.,  8.,  3.,  0.,  3.,  4.,  2.,  1.,\n",
              "         1.,  0.,  6.,  3.,  1.,  0.,  1.,  4.,  7.,  9.,  0.,  0.,  3.,\n",
              "         3.,  1.,  3.,  0.,  1.,  1.,  6.,  0.,  0.,  0.,  4.,  3.,  4.,\n",
              "         1.,  1.,  0.,  4.,  1.,  0.,  0.,  0.,  6.,  0.,  0.,  0.,  0.,\n",
              "         1.,  9.,  0.,  0.,  0.,  2.,  3.,  0.,  0.,  0.,  0.,  0.,  1.,\n",
              "         1.,  1.,  0.,  0.,  3.,  2.,  0.,  0.,  0.,  0.,  0.,  0.,  0.,\n",
              "         0.,  3.,  1.,  0.,  1.,  0.,  2.,  8.,  6.,  0.,  1.,  0.,  0.,\n",
              "         0.,  0.,  0.,  0.,  0.,  2.,  0.,  0.,  0.,  4.,  2.,  2.,  3.,\n",
              "         0.,  0.,  0.,  0.,  0.,  0.,  0.,  2.,  1.,  0.,  1.,  0.,  2.,\n",
              "         5.,  4.,  0.,  0.,  0.,  0.,  0.,  0.,  1.,  0.,  2.,  1.,  0.,\n",
              "         0.,  1.,  5.,  4.],\n",
              "       [ 3.,  4.,  2.,  2.,  0.,  4.,  2.,  0.,  0.,  0.,  0.,  0.,  0.,\n",
              "         0.,  0.,  1., 10.,  3.,  5.,  0.,  5.,  9.,  5.,  3.,  0.,  0.,\n",
              "         0.,  0.,  0.,  0.,  1.,  2.,  2.,  5.,  0.,  1.,  3.,  1.,  4.,\n",
              "         1.,  0.,  0.,  0.,  0.,  0.,  0.,  7.,  5.,  8.,  6.,  0.,  2.,\n",
              "         1.,  6.,  3.,  0.,  0.,  1.,  1.,  0.,  0.,  0.,  0.,  2.,  6.,\n",
              "         0.,  0.,  0.,  1.,  5.,  0.,  0.,  0.,  1.,  0.,  5.,  6.,  2.,\n",
              "         0.,  1., 35., 20.,  0.,  1.,  0.,  6.,  3.,  0.,  0.,  0.,  3.,\n",
              "         6.,  0.,  1.,  0., 24., 18., 13.,  7.,  0.,  5.,  1.,  0.,  0.,\n",
              "         0.,  0.,  2.,  0.,  5.,  0.,  1., 12.,  3.,  5.,  4.,  2.,  1.,\n",
              "         0.,  0.,  1.,  0.,  1.,  2.,  4.,  1.,  1.,  4., 10., 13.,  9.,\n",
              "         1.,  1.,  0.,  0.,  6.,  0.,  1.,  1.,  3.,  2.,  0.,  4.,  1.,\n",
              "         6.,  9.,  0.,  0.,  1.,  1.,  6.,  0.,  0.,  0.,  0.,  0.,  2.,\n",
              "         1.,  0.,  0.,  0., 14.,  7.,  4.,  0.,  0.,  0.,  0.,  0.,  0.,\n",
              "         0.,  0.,  0.,  1.,  1.,  0.,  3.,  3.,  1.,  2.,  0.,  0.,  0.,\n",
              "         0.,  0.,  0.,  0.,  0.,  0.,  1.,  0.,  1.,  0.,  0.,  0.,  1.,\n",
              "         0.,  0.,  0.,  0.,  0.,  0.,  0.,  0.,  1.,  1.,  1.,  0.,  1.,\n",
              "         0.,  0.,  0.,  0.,  0.,  0.,  0.,  0.,  0.,  0.,  0.,  4.,  0.,\n",
              "         1.,  0.,  2.,  7.],\n",
              "       [ 7.,  4.,  0.,  0.,  0.,  5.,  1.,  0.,  0.,  0.,  0.,  0.,  0.,\n",
              "         0.,  0.,  6.,  2.,  2.,  1.,  0.,  1.,  1.,  3.,  2.,  0.,  0.,\n",
              "         0.,  0.,  0.,  0.,  1.,  3.,  3.,  7.,  0.,  3.,  0.,  1.,  4.,\n",
              "         1.,  1.,  1.,  0.,  0.,  0.,  1.,  1.,  2.,  3.,  3.,  0.,  1.,\n",
              "         2.,  4.,  4.,  0.,  0.,  0.,  0.,  0.,  0.,  0.,  1.,  3.,  2.,\n",
              "         0.,  0.,  0.,  0.,  2.,  0.,  0.,  0.,  0.,  0.,  1.,  4.,  3.,\n",
              "         1.,  0., 23.,  9.,  3.,  0.,  1.,  5.,  0.,  0.,  0.,  0.,  0.,\n",
              "         1.,  1.,  0.,  0.,  8., 17.,  6.,  3.,  2.,  3.,  2.,  1.,  0.,\n",
              "         0.,  0.,  0.,  1.,  2.,  0.,  5.,  4.,  8.,  1.,  1.,  2.,  2.,\n",
              "         1.,  0.,  2.,  0.,  0.,  2.,  0.,  0.,  4.,  2.,  4., 13., 18.,\n",
              "         1.,  0.,  1.,  1.,  1.,  0.,  0.,  1.,  1.,  2.,  0.,  0.,  0.,\n",
              "        21., 18.,  0.,  1.,  0.,  3.,  1.,  0.,  0.,  0.,  0.,  0.,  5.,\n",
              "         4.,  0.,  0.,  0., 14.,  5.,  0.,  0.,  0.,  0.,  0.,  0.,  0.,\n",
              "         0.,  0.,  3.,  0.,  0.,  0.,  4.,  6.,  3.,  1.,  0.,  0.,  0.,\n",
              "         0.,  0.,  0.,  0.,  0.,  1.,  0.,  0.,  1.,  2.,  3.,  0.,  1.,\n",
              "         0.,  0.,  0.,  0.,  0.,  0.,  0.,  0.,  2.,  0.,  1.,  1.,  2.,\n",
              "         0.,  0.,  0.,  0.,  0.,  0.,  0.,  0.,  0.,  0.,  1.,  1.,  0.,\n",
              "         0.,  0.,  2.,  7.]])"
            ]
          },
          "metadata": {
            "tags": []
          },
          "execution_count": 21
        }
      ]
    },
    {
      "cell_type": "code",
      "metadata": {
        "id": "-4LFOlxe8s3Z",
        "colab": {
          "base_uri": "https://localhost:8080/",
          "height": 71
        },
        "outputId": "6c6826e6-d9f2-428c-8875-53cd530f2e71"
      },
      "source": [
        "saudiArabiaMatrices = np.zeros((38, 225))\n",
        "saudiArabiaMatrices = getTeamMatrices(16521)"
      ],
      "execution_count": null,
      "outputs": [
        {
          "output_type": "stream",
          "text": [
            "/usr/local/lib/python3.6/dist-packages/ipykernel_launcher.py:2: DeprecationWarning: The default dtype for empty Series will be 'object' instead of 'float64' in a future version. Specify a dtype explicitly to silence this warning.\n",
            "  \n"
          ],
          "name": "stderr"
        }
      ]
    },
    {
      "cell_type": "code",
      "metadata": {
        "id": "_aK__oOC8tD2",
        "colab": {
          "base_uri": "https://localhost:8080/",
          "height": 935
        },
        "outputId": "eddde013-d076-4c95-dfdc-0c3b5a32e15f"
      },
      "source": [
        "saudiArabiaMatrices"
      ],
      "execution_count": null,
      "outputs": [
        {
          "output_type": "execute_result",
          "data": {
            "text/plain": [
              "array([[ 5.,  2.,  1.,  1.,  1.,  6.,  3.,  0.,  0.,  1.,  0.,  0.,  0.,\n",
              "         0.,  0.,  5.,  4.,  7.,  6.,  0.,  3.,  3.,  2.,  2.,  3.,  0.,\n",
              "         0.,  1.,  0.,  0.,  2.,  6.,  1.,  2.,  1.,  1.,  7.,  1.,  1.,\n",
              "         2.,  1.,  0.,  0.,  0.,  0.,  0.,  0.,  3.,  6.,  5.,  5.,  1.,\n",
              "         5.,  5.,  7.,  0.,  0.,  1.,  0.,  0.,  0.,  0.,  1.,  2.,  1.,\n",
              "         0.,  0.,  1.,  5.,  5.,  0.,  0.,  0.,  0.,  0.,  2.,  5.,  1.,\n",
              "         0.,  0., 11., 17.,  1.,  2.,  0.,  5.,  0.,  0.,  0.,  0.,  1.,\n",
              "         6.,  4.,  5.,  0., 16., 10.,  6.,  3.,  3.,  0.,  3.,  2.,  0.,\n",
              "         2.,  0.,  2.,  2.,  0.,  0.,  5.,  7.,  8.,  4.,  5.,  1.,  0.,\n",
              "         0.,  1.,  2.,  0.,  2.,  1.,  3.,  1.,  1.,  3.,  8., 15., 12.,\n",
              "         0.,  1.,  0.,  3.,  7.,  0.,  0.,  2.,  8.,  4.,  0.,  1.,  1.,\n",
              "        17., 26.,  0.,  0.,  0.,  1.,  7.,  0.,  0.,  0.,  0.,  0.,  2.,\n",
              "         2.,  1.,  0.,  0.,  7.,  5.,  0.,  0.,  0.,  0.,  0.,  0.,  0.,\n",
              "         0.,  1.,  1.,  0.,  0.,  0.,  1.,  1.,  1.,  0.,  0.,  0.,  0.,\n",
              "         0.,  0.,  0.,  1.,  0.,  1.,  1.,  1.,  0.,  0.,  1.,  0.,  1.,\n",
              "         0.,  0.,  0.,  0.,  0.,  0.,  0.,  0.,  1.,  1.,  1.,  1.,  1.,\n",
              "         0.,  0.,  0.,  0.,  0.,  1.,  0.,  0.,  0.,  1.,  3.,  8.,  0.,\n",
              "         0.,  0.,  3.,  6.],\n",
              "       [14.,  5.,  1.,  0.,  0.,  4.,  2.,  0.,  0.,  0.,  0.,  0.,  1.,\n",
              "         0.,  0.,  4.,  1.,  2.,  0.,  0.,  2.,  3.,  0.,  0.,  2.,  0.,\n",
              "         0.,  0.,  0.,  0.,  3.,  6.,  4.,  2.,  2.,  4.,  3.,  4.,  1.,\n",
              "         1.,  0.,  0.,  0.,  0.,  0.,  0.,  0.,  3.,  4.,  5.,  0.,  0.,\n",
              "         1.,  1.,  3.,  0.,  0.,  0.,  0.,  0.,  0.,  0.,  1.,  5.,  9.,\n",
              "         1.,  0.,  0.,  1.,  2.,  0.,  0.,  0.,  0.,  0.,  1.,  0.,  2.,\n",
              "         1.,  1., 29., 12.,  3.,  3.,  2.,  3.,  3.,  0.,  0.,  0.,  0.,\n",
              "         1.,  0.,  0.,  0.,  8.,  8., 13.,  1.,  1.,  2.,  3.,  5.,  1.,\n",
              "         2.,  0.,  1.,  1.,  1.,  0.,  7.,  6., 11.,  5.,  8.,  4.,  2.,\n",
              "         5.,  1.,  3.,  0.,  1.,  0.,  1.,  0.,  2.,  3.,  8.,  7.,  6.,\n",
              "         0.,  0.,  2.,  0.,  4.,  0.,  0.,  1.,  2.,  1.,  0.,  2.,  3.,\n",
              "        12., 32.,  0.,  0.,  1.,  3.,  3.,  0.,  0.,  0.,  0.,  0.,  4.,\n",
              "         2.,  0.,  0.,  0., 18.,  3.,  1.,  1.,  0.,  0.,  0.,  0.,  0.,\n",
              "         0.,  0.,  0.,  1.,  0.,  0.,  1.,  4.,  4.,  0.,  1.,  0.,  0.,\n",
              "         0.,  0.,  0.,  0.,  2.,  1.,  0.,  0.,  1.,  1.,  2.,  6.,  3.,\n",
              "         0.,  0.,  0.,  0.,  0.,  0.,  0.,  2.,  1.,  1.,  1.,  0.,  7.,\n",
              "         3.,  6.,  0.,  0.,  1.,  0.,  0.,  0.,  0.,  1.,  5.,  3.,  0.,\n",
              "         0.,  1., 10., 21.],\n",
              "       [ 0.,  4.,  1.,  0.,  0.,  2.,  5.,  0.,  0.,  0.,  0.,  0.,  0.,\n",
              "         0.,  0.,  3.,  4.,  1.,  1.,  1.,  2.,  9.,  2.,  0.,  0.,  0.,\n",
              "         0.,  0.,  0.,  0.,  1.,  2.,  2.,  2.,  1.,  2.,  0.,  1.,  2.,\n",
              "         1.,  0.,  0.,  0.,  0.,  0.,  0.,  1.,  1.,  2.,  2.,  0.,  1.,\n",
              "         0.,  5.,  4.,  1.,  0.,  0.,  1.,  0.,  0.,  0.,  1.,  3.,  3.,\n",
              "         0.,  0.,  0.,  2.,  2.,  0.,  0.,  0.,  0.,  0.,  1.,  2.,  1.,\n",
              "         0.,  0., 11.,  9.,  2.,  0.,  0.,  3.,  0.,  0.,  0.,  0.,  3.,\n",
              "         2.,  1.,  1.,  0., 13., 14., 17.,  4.,  0.,  9.,  5.,  5.,  1.,\n",
              "         2.,  0.,  2.,  0.,  0.,  0.,  0., 13., 12., 18.,  3.,  3.,  1.,\n",
              "         1.,  4.,  3.,  0.,  0.,  0.,  2.,  3.,  0., 11., 19., 16., 24.,\n",
              "         2.,  2.,  3., 11.,  2.,  0.,  0.,  0.,  3.,  2.,  0.,  0.,  1.,\n",
              "        22.,  6.,  0.,  0.,  0.,  4.,  2.,  0.,  0.,  0.,  0.,  0.,  3.,\n",
              "         5.,  1.,  0.,  0., 17., 10.,  0.,  1.,  0.,  0.,  0.,  0.,  0.,\n",
              "         0.,  0.,  3.,  1.,  1.,  0., 11.,  9.,  8.,  0.,  2.,  0.,  0.,\n",
              "         0.,  0.,  0.,  0.,  2.,  1.,  1.,  0.,  1.,  4.,  4.,  3.,  3.,\n",
              "         0.,  0.,  0.,  0.,  0.,  0.,  0.,  1.,  6.,  1.,  0.,  4.,  2.,\n",
              "        17., 17.,  0.,  0.,  0.,  0.,  0.,  0.,  0.,  1.,  6.,  4.,  1.,\n",
              "         0.,  0., 19., 10.]])"
            ]
          },
          "metadata": {
            "tags": []
          },
          "execution_count": 24
        }
      ]
    },
    {
      "cell_type": "code",
      "metadata": {
        "id": "L-VRSjDU8tH2"
      },
      "source": [
        "tunisiaMatrices = np.zeros((38, 225))\n",
        "tunisiaMatrices = getTeamMatrices(16276)"
      ],
      "execution_count": null,
      "outputs": []
    },
    {
      "cell_type": "code",
      "metadata": {
        "id": "PZVIHbch8tWu",
        "colab": {
          "base_uri": "https://localhost:8080/",
          "height": 935
        },
        "outputId": "4c0d21d1-ed56-42fa-ff81-6209185beafe"
      },
      "source": [
        "tunisiaMatrices"
      ],
      "execution_count": null,
      "outputs": [
        {
          "output_type": "execute_result",
          "data": {
            "text/plain": [
              "array([[ 7.,  5.,  2.,  0.,  0.,  3.,  4.,  1.,  0.,  0.,  0.,  0.,  0.,\n",
              "         0.,  0.,  9.,  7.,  2.,  2.,  2.,  4.,  2.,  1.,  0.,  0.,  0.,\n",
              "         0.,  0.,  0.,  0.,  4.,  4.,  1.,  2.,  1.,  0.,  0.,  2.,  3.,\n",
              "         4.,  0.,  0.,  0.,  0.,  0.,  4.,  0.,  5.,  7.,  8.,  0.,  0.,\n",
              "         0.,  2.,  1.,  0.,  0.,  0.,  0.,  0.,  1.,  0.,  1.,  7., 11.,\n",
              "         0.,  0.,  0.,  3.,  6.,  0.,  0.,  0.,  0.,  0.,  2.,  7.,  0.,\n",
              "         0.,  0.,  4.,  5.,  1.,  0.,  0.,  3.,  1.,  0.,  0.,  0.,  1.,\n",
              "         1.,  1.,  1.,  1.,  8.,  2.,  1.,  0.,  0.,  1.,  1.,  1.,  0.,\n",
              "         0.,  0.,  2.,  1.,  0.,  0.,  1.,  2.,  1.,  2.,  3.,  0.,  1.,\n",
              "         0.,  0.,  0.,  0.,  0.,  1.,  0.,  1.,  1.,  2.,  3., 11.,  4.,\n",
              "         0.,  0.,  0.,  3.,  1.,  0.,  1.,  1.,  2.,  3.,  0.,  0.,  1.,\n",
              "         9., 10.,  0.,  0.,  1.,  1.,  0.,  0.,  0.,  0.,  0.,  0.,  3.,\n",
              "         2.,  0.,  0.,  0.,  5.,  0.,  1.,  0.,  0.,  0.,  0.,  0.,  0.,\n",
              "         0.,  0.,  0.,  1.,  0.,  0.,  1.,  0.,  2.,  0.,  0.,  0.,  0.,\n",
              "         0.,  0.,  0.,  0.,  0.,  0.,  0.,  0.,  0.,  1.,  1.,  1.,  1.,\n",
              "         0.,  0.,  0.,  0.,  0.,  0.,  0.,  0.,  2.,  1.,  0.,  0.,  1.,\n",
              "         2.,  2.,  0.,  0.,  0.,  0.,  0.,  0.,  0.,  0.,  0.,  1.,  0.,\n",
              "         1.,  0.,  3.,  1.],\n",
              "       [ 3.,  6.,  1.,  0.,  0.,  2.,  0.,  0.,  0.,  0.,  1.,  0.,  0.,\n",
              "         0.,  0.,  6.,  9., 10.,  4.,  1.,  6.,  6.,  0.,  2.,  0.,  0.,\n",
              "         0.,  0.,  0.,  0.,  0., 11.,  5.,  4.,  0.,  1.,  2.,  0.,  5.,\n",
              "         0.,  0.,  0.,  0.,  0.,  0.,  2.,  4.,  6., 10.,  5.,  0.,  0.,\n",
              "         1.,  4.,  4.,  0.,  0.,  0.,  1.,  1.,  0.,  1.,  0.,  3.,  4.,\n",
              "         0.,  0.,  1.,  0.,  6.,  0.,  0.,  0.,  0.,  0.,  0.,  3.,  0.,\n",
              "         0.,  0., 10.,  9.,  2.,  0.,  0.,  2.,  2.,  1.,  0.,  0.,  1.,\n",
              "         1.,  0.,  3.,  0.,  6.,  5.,  7.,  0.,  2.,  2.,  5.,  3.,  0.,\n",
              "         0.,  0.,  1.,  0.,  0.,  0.,  4.,  1.,  5.,  2.,  6.,  0.,  0.,\n",
              "         2.,  1.,  1.,  0.,  1.,  1.,  1.,  0.,  0.,  1.,  2.,  2.,  2.,\n",
              "         0.,  0.,  2.,  0.,  2.,  0.,  0.,  0.,  3.,  2.,  0.,  0.,  0.,\n",
              "         4.,  4.,  0.,  0.,  0.,  2.,  3.,  0.,  0.,  0.,  0.,  0.,  0.,\n",
              "         1.,  0.,  0.,  0.,  7.,  5.,  2.,  0.,  0.,  0.,  0.,  0.,  0.,\n",
              "         0.,  2.,  1.,  2.,  0.,  0.,  5.,  0.,  2.,  0.,  1.,  0.,  0.,\n",
              "         0.,  0.,  0.,  0.,  2.,  1.,  1.,  0.,  1.,  4.,  2.,  2.,  1.,\n",
              "         0.,  0.,  0.,  0.,  0.,  0.,  1.,  1.,  1.,  2.,  1.,  0.,  6.,\n",
              "         4.,  7.,  0.,  0.,  0.,  0.,  0.,  1.,  0.,  0.,  1.,  1.,  0.,\n",
              "         2.,  1.,  7., 15.],\n",
              "       [ 2.,  4.,  1.,  3.,  0.,  2.,  0.,  1.,  0.,  0.,  0.,  0.,  0.,\n",
              "         0.,  0.,  2.,  5.,  7.,  2.,  1.,  3.,  5.,  6.,  1.,  0.,  0.,\n",
              "         0.,  0.,  0.,  0.,  2.,  6.,  6.,  6.,  2.,  1.,  1.,  6.,  3.,\n",
              "         3.,  0.,  0.,  0.,  0.,  1.,  0.,  1.,  8.,  2.,  7.,  1.,  2.,\n",
              "         3.,  4.,  2.,  0.,  0.,  0.,  0.,  0.,  0.,  2.,  2.,  7.,  8.,\n",
              "         0.,  0.,  0.,  3.,  4.,  0.,  0.,  0.,  0.,  0.,  1.,  2.,  1.,\n",
              "         0.,  0.,  3.,  9.,  1.,  0.,  0.,  1.,  1.,  0.,  0.,  0.,  0.,\n",
              "         2.,  2.,  0.,  0.,  8., 28., 14.,  7.,  2.,  4.,  9.,  0.,  2.,\n",
              "         4.,  0.,  2.,  2.,  3.,  0.,  2., 17., 12., 18.,  3.,  3.,  4.,\n",
              "         3.,  1.,  2.,  1.,  2.,  0.,  1.,  2.,  0., 11., 12.,  7., 13.,\n",
              "         0.,  1.,  3.,  5.,  8.,  0.,  0.,  1.,  2.,  0.,  0.,  1.,  6.,\n",
              "        10., 19.,  0.,  0.,  0.,  4.,  3.,  0.,  0.,  0.,  0.,  0.,  0.,\n",
              "         5.,  0.,  0.,  0.,  5.,  4.,  2.,  1.,  1.,  0.,  0.,  0.,  0.,\n",
              "         0.,  2.,  4.,  1.,  0.,  0.,  3.,  8.,  4.,  0.,  0.,  0.,  0.,\n",
              "         0.,  0.,  0.,  0.,  0.,  1.,  0.,  1.,  0.,  1.,  4.,  2.,  1.,\n",
              "         0.,  0.,  0.,  0.,  0.,  0.,  0.,  1.,  3.,  2.,  0.,  1.,  2.,\n",
              "         7.,  3.,  0.,  0.,  0.,  0.,  0.,  0.,  0.,  0.,  6.,  2.,  0.,\n",
              "         2.,  2.,  3.,  7.]])"
            ]
          },
          "metadata": {
            "tags": []
          },
          "execution_count": 26
        }
      ]
    },
    {
      "cell_type": "code",
      "metadata": {
        "id": "3w_83In08tc5",
        "colab": {
          "base_uri": "https://localhost:8080/",
          "height": 71
        },
        "outputId": "12da01ac-ce29-41ee-a87f-53923c340d4a"
      },
      "source": [
        "senegalMatrices = np.zeros((38, 225))\n",
        "senegalMatrices = getTeamMatrices(19314)"
      ],
      "execution_count": null,
      "outputs": [
        {
          "output_type": "stream",
          "text": [
            "/usr/local/lib/python3.6/dist-packages/ipykernel_launcher.py:2: DeprecationWarning: The default dtype for empty Series will be 'object' instead of 'float64' in a future version. Specify a dtype explicitly to silence this warning.\n",
            "  \n"
          ],
          "name": "stderr"
        }
      ]
    },
    {
      "cell_type": "code",
      "metadata": {
        "id": "nXhatGVK8tq6",
        "colab": {
          "base_uri": "https://localhost:8080/",
          "height": 935
        },
        "outputId": "060a2936-2c09-4a53-9b5d-e9770f496e44"
      },
      "source": [
        "senegalMatrices"
      ],
      "execution_count": null,
      "outputs": [
        {
          "output_type": "execute_result",
          "data": {
            "text/plain": [
              "array([[11.,  0.,  2.,  0.,  0.,  4.,  1.,  0.,  0.,  0.,  0.,  0.,  0.,\n",
              "         0.,  0.,  1.,  3.,  2.,  0.,  0.,  1.,  1.,  0.,  0.,  0.,  0.,\n",
              "         0.,  0.,  0.,  0.,  0.,  0.,  4.,  2.,  2.,  2.,  0.,  3.,  2.,\n",
              "         2.,  0.,  0.,  0.,  1.,  0.,  0.,  0.,  2.,  3.,  3.,  1.,  2.,\n",
              "         1.,  1.,  2.,  0.,  1.,  1.,  1.,  0.,  0.,  1.,  0.,  1.,  3.,\n",
              "         0.,  0.,  0.,  1.,  6.,  0.,  0.,  0.,  0.,  0.,  2.,  0.,  2.,\n",
              "         0.,  0., 11.,  8.,  3.,  1.,  0.,  5.,  3.,  0.,  0.,  0.,  0.,\n",
              "         0.,  1.,  3.,  0.,  7.,  7.,  4.,  1.,  3.,  3.,  2.,  0.,  1.,\n",
              "         0.,  0.,  0.,  1.,  1.,  0.,  2.,  5.,  3.,  1.,  5.,  2.,  1.,\n",
              "         0.,  0.,  1.,  0.,  0.,  0.,  1.,  0.,  1.,  0.,  0.,  1.,  3.,\n",
              "         0.,  0.,  0.,  0.,  2.,  0.,  0.,  1.,  1.,  3.,  0.,  3.,  3.,\n",
              "         3., 14.,  0.,  1.,  1.,  1.,  5.,  0.,  0.,  0.,  0.,  0.,  3.,\n",
              "         0.,  1.,  0.,  2., 15.,  7.,  0.,  1.,  1.,  0.,  0.,  0.,  0.,\n",
              "         0.,  2.,  1.,  0.,  2.,  0.,  2.,  2.,  4.,  0.,  1.,  0.,  0.,\n",
              "         0.,  0.,  0.,  0.,  0.,  0.,  0.,  0.,  1.,  1.,  0.,  0.,  0.,\n",
              "         0.,  0.,  0.,  0.,  0.,  0.,  0.,  0.,  0.,  0.,  0.,  0.,  2.,\n",
              "         2.,  2.,  0.,  0.,  0.,  0.,  0.,  0.,  0.,  0.,  0.,  5.,  2.,\n",
              "         0.,  1.,  2., 11.],\n",
              "       [ 3.,  3.,  1.,  1.,  0.,  4.,  1.,  0.,  0.,  0.,  0.,  0.,  1.,\n",
              "         0.,  0.,  0.,  2.,  1.,  5.,  0.,  1.,  2.,  2.,  0.,  2.,  0.,\n",
              "         0.,  0.,  0.,  0.,  0.,  1.,  2.,  5.,  1.,  0.,  1.,  0.,  1.,\n",
              "         0.,  0.,  0.,  0.,  1.,  0.,  0.,  5.,  4.,  4.,  2.,  1.,  3.,\n",
              "         0.,  1.,  1.,  1.,  1.,  0.,  3.,  2.,  0.,  0.,  2.,  1.,  2.,\n",
              "         0.,  0.,  0.,  1.,  3.,  0.,  0.,  0.,  1.,  0.,  0.,  1.,  1.,\n",
              "         0.,  0., 11.,  1.,  0.,  1.,  0.,  2.,  1.,  0.,  0.,  0.,  0.,\n",
              "         1.,  0.,  0.,  0.,  4.,  4.,  0.,  1.,  1.,  1.,  1.,  0.,  0.,\n",
              "         1.,  1.,  1.,  2.,  0.,  1.,  1.,  2.,  1.,  1.,  1.,  0.,  1.,\n",
              "         0.,  1.,  1.,  0.,  0.,  1.,  1.,  1.,  0.,  3.,  4.,  5.,  7.,\n",
              "         1.,  2.,  1.,  2.,  2.,  0.,  0.,  0.,  5.,  2.,  0.,  0.,  1.,\n",
              "         4.,  9.,  0.,  0.,  0.,  2.,  3.,  0.,  0.,  0.,  0.,  0.,  0.,\n",
              "         0.,  0.,  0.,  0.,  6.,  4.,  0.,  1.,  0.,  0.,  0.,  0.,  0.,\n",
              "         0.,  0.,  1.,  0.,  0.,  2.,  0.,  5.,  2.,  1.,  1.,  0.,  0.,\n",
              "         0.,  0.,  0.,  0.,  0.,  0.,  0.,  0.,  0.,  0.,  2.,  4.,  0.,\n",
              "         0.,  0.,  0.,  0.,  0.,  0.,  0.,  0.,  0.,  1.,  1.,  2.,  2.,\n",
              "         4.,  8.,  0.,  0.,  0.,  0.,  0.,  0.,  0.,  0.,  3.,  2.,  0.,\n",
              "         0.,  5.,  4., 15.],\n",
              "       [ 2.,  1.,  1.,  0.,  0.,  6.,  1.,  0.,  0.,  0.,  0.,  1.,  0.,\n",
              "         0.,  0.,  2.,  3.,  2.,  2.,  2.,  2.,  1.,  0.,  0.,  0.,  0.,\n",
              "         0.,  0.,  0.,  0.,  1.,  0.,  3.,  2.,  2.,  1.,  1.,  3.,  1.,\n",
              "         2.,  0.,  2.,  0.,  1.,  0.,  1.,  1.,  2.,  2.,  1.,  0.,  0.,\n",
              "         1.,  1.,  6.,  0.,  1.,  0.,  0.,  0.,  0.,  0.,  2.,  1.,  5.,\n",
              "         0.,  0.,  0.,  4.,  4.,  0.,  0.,  1.,  2.,  1.,  5.,  2.,  0.,\n",
              "         0.,  0., 13.,  6.,  0.,  0.,  0.,  5.,  2.,  0.,  0.,  1.,  1.,\n",
              "         0.,  0.,  0.,  0.,  2.,  2.,  3.,  0.,  0.,  1.,  1.,  0.,  0.,\n",
              "         0.,  0.,  0.,  1.,  1.,  0.,  4.,  0.,  3.,  2.,  3.,  0.,  0.,\n",
              "         1.,  1.,  1.,  0.,  1.,  2.,  1.,  0.,  1.,  3.,  4.,  1.,  2.,\n",
              "         1.,  0.,  0.,  1.,  2.,  0.,  0.,  1.,  4.,  1.,  0.,  0.,  0.,\n",
              "         6., 11.,  0.,  0.,  0.,  0.,  4.,  0.,  0.,  0.,  0.,  0.,  2.,\n",
              "         1.,  0.,  0.,  0.,  2.,  2.,  0.,  1.,  0.,  0.,  0.,  0.,  0.,\n",
              "         0.,  0.,  0.,  0.,  0.,  0.,  2.,  0.,  1.,  1.,  1.,  0.,  0.,\n",
              "         0.,  0.,  0.,  0.,  0.,  0.,  0.,  0.,  0.,  0.,  1.,  0.,  0.,\n",
              "         0.,  0.,  0.,  0.,  0.,  0.,  0.,  0.,  1.,  1.,  0.,  0.,  1.,\n",
              "         0.,  0.,  0.,  0.,  0.,  0.,  0.,  0.,  0.,  0.,  2.,  0.,  0.,\n",
              "         0.,  1.,  5.,  6.]])"
            ]
          },
          "metadata": {
            "tags": []
          },
          "execution_count": 28
        }
      ]
    },
    {
      "cell_type": "code",
      "metadata": {
        "id": "OgoswRdh8tu_",
        "colab": {
          "base_uri": "https://localhost:8080/",
          "height": 71
        },
        "outputId": "3dc3aa98-39f3-4977-d300-2ac4bed8ea07"
      },
      "source": [
        "moroccoMatrices = np.zeros((38, 225))\n",
        "moroccoMatrices = getTeamMatrices(16216)"
      ],
      "execution_count": null,
      "outputs": [
        {
          "output_type": "stream",
          "text": [
            "/usr/local/lib/python3.6/dist-packages/ipykernel_launcher.py:2: DeprecationWarning: The default dtype for empty Series will be 'object' instead of 'float64' in a future version. Specify a dtype explicitly to silence this warning.\n",
            "  \n"
          ],
          "name": "stderr"
        }
      ]
    },
    {
      "cell_type": "code",
      "metadata": {
        "id": "3O0pU7Lc8t9h",
        "colab": {
          "base_uri": "https://localhost:8080/",
          "height": 935
        },
        "outputId": "290b675c-9168-44b0-ee45-151da6f2db71"
      },
      "source": [
        "moroccoMatrices"
      ],
      "execution_count": null,
      "outputs": [
        {
          "output_type": "execute_result",
          "data": {
            "text/plain": [
              "array([[ 1.,  2.,  1.,  0.,  0.,  1.,  4.,  0.,  0.,  0.,  0.,  0.,  0.,\n",
              "         0.,  0.,  0.,  4.,  3.,  4.,  0.,  2.,  4.,  1.,  1.,  0.,  0.,\n",
              "         0.,  0.,  0.,  0.,  2.,  2.,  3.,  3.,  1.,  1.,  2.,  3.,  3.,\n",
              "         1.,  0.,  0.,  0.,  0.,  0.,  0.,  3.,  3.,  2.,  0.,  2.,  2.,\n",
              "         2.,  3.,  3.,  0.,  0.,  0.,  0.,  0.,  0.,  1.,  1.,  2.,  1.,\n",
              "         0.,  1.,  1.,  1.,  3.,  0.,  0.,  0.,  0.,  0.,  3.,  0.,  1.,\n",
              "         1.,  0., 21., 13.,  3.,  0.,  0.,  6.,  1.,  0.,  0.,  0.,  1.,\n",
              "         2.,  1.,  1.,  1., 14., 14., 11., 11.,  0.,  3.,  6.,  1.,  0.,\n",
              "         2.,  0.,  0.,  0.,  1.,  0.,  2., 16.,  4.,  5.,  2.,  0.,  0.,\n",
              "         1.,  1.,  4.,  2.,  2.,  1.,  2.,  0.,  1.,  8.,  8., 16., 13.,\n",
              "         1.,  0.,  1.,  4.,  2.,  1.,  0.,  0.,  1.,  0.,  0.,  1.,  4.,\n",
              "        10.,  7.,  0.,  0.,  0.,  3.,  3.,  0.,  0.,  0.,  0.,  0.,  0.,\n",
              "         1.,  0.,  0.,  0.,  4.,  7.,  1.,  0.,  0.,  0.,  0.,  0.,  0.,\n",
              "         0.,  0.,  2.,  1.,  0.,  0.,  7.,  3.,  2.,  0.,  0.,  0.,  0.,\n",
              "         0.,  0.,  0.,  0.,  0.,  0.,  0.,  0.,  1.,  0.,  0.,  2.,  0.,\n",
              "         0.,  0.,  0.,  0.,  0.,  0.,  0.,  0.,  1.,  0.,  1.,  1.,  0.,\n",
              "         1.,  4.,  0.,  0.,  0.,  0.,  0.,  0.,  0.,  0.,  1.,  1.,  0.,\n",
              "         2.,  1.,  3.,  7.],\n",
              "       [ 4.,  2.,  2.,  0.,  0.,  1.,  2.,  0.,  0.,  0.,  0.,  0.,  0.,\n",
              "         0.,  0.,  3.,  0.,  2.,  1.,  0.,  2.,  2.,  0.,  0.,  0.,  0.,\n",
              "         0.,  0.,  0.,  1.,  1.,  1.,  2.,  3.,  1.,  2.,  0.,  2.,  3.,\n",
              "         0.,  0.,  0.,  0.,  0.,  0.,  1.,  0.,  2.,  6.,  5.,  0.,  0.,\n",
              "         0.,  6.,  3.,  0.,  0.,  1.,  0.,  0.,  0.,  0.,  1.,  6.,  9.,\n",
              "         0.,  0.,  1.,  3.,  4.,  0.,  0.,  0.,  0.,  0.,  2.,  4.,  0.,\n",
              "         0.,  0., 19.,  4.,  0.,  0.,  0.,  5.,  3.,  0.,  0.,  1.,  0.,\n",
              "         2.,  0.,  0.,  0.,  6.,  8.,  2.,  0.,  0.,  2.,  1.,  1.,  0.,\n",
              "         2.,  1.,  1.,  1.,  0.,  0.,  2.,  1.,  7.,  4.,  3.,  0.,  0.,\n",
              "         0.,  2.,  2.,  0.,  0.,  1.,  1.,  0.,  0.,  1.,  6.,  6.,  6.,\n",
              "         1.,  1.,  0.,  0.,  5.,  0.,  0.,  1.,  2.,  1.,  0.,  0.,  1.,\n",
              "         6., 25.,  1.,  0.,  0.,  5.,  9.,  0.,  0.,  0.,  0.,  0.,  2.,\n",
              "         1.,  0.,  0.,  0., 20., 10.,  3.,  1.,  0.,  0.,  0.,  0.,  0.,\n",
              "         0.,  0.,  0.,  0.,  0.,  0.,  8., 13.,  4.,  0.,  0.,  0.,  0.,\n",
              "         0.,  0.,  0.,  0.,  1.,  0.,  1.,  0.,  3.,  0.,  2.,  3.,  0.,\n",
              "         0.,  0.,  0.,  0.,  0.,  0.,  0.,  0.,  0.,  0.,  0.,  0.,  3.,\n",
              "         1.,  4.,  0.,  0.,  0.,  0.,  0.,  0.,  0.,  0.,  1.,  2.,  0.,\n",
              "         0.,  4.,  8., 20.],\n",
              "       [ 8.,  2.,  0.,  0.,  1.,  2.,  3.,  0.,  0.,  1.,  0.,  0.,  0.,\n",
              "         0.,  0.,  4.,  2.,  1.,  4.,  1.,  1.,  1.,  0.,  0.,  0.,  0.,\n",
              "         0.,  0.,  0.,  0.,  1.,  0.,  1.,  2.,  1.,  0.,  1.,  1.,  2.,\n",
              "         0.,  0.,  0.,  0.,  0.,  0.,  0.,  1.,  4., 10.,  3.,  1.,  0.,\n",
              "         1.,  4.,  5.,  0.,  0.,  0.,  0.,  0.,  0.,  0.,  2.,  7.,  5.,\n",
              "         0.,  0.,  0.,  1.,  3.,  0.,  0.,  0.,  0.,  0.,  3.,  1.,  0.,\n",
              "         1.,  0., 12.,  2.,  1.,  0.,  0.,  1.,  1.,  1.,  0.,  0.,  0.,\n",
              "         1.,  1.,  0.,  1.,  3.,  3.,  1.,  0.,  1.,  1.,  0.,  0.,  0.,\n",
              "         0.,  0.,  2.,  1.,  0.,  0.,  3.,  1.,  3.,  0.,  0.,  2.,  0.,\n",
              "         0.,  0.,  0.,  0.,  2.,  0.,  0.,  0.,  0.,  2.,  3.,  6.,  5.,\n",
              "         0.,  0.,  0.,  1.,  2.,  0.,  0.,  0.,  0.,  3.,  0.,  0.,  1.,\n",
              "         2., 13.,  0.,  0.,  1.,  0.,  2.,  0.,  0.,  0.,  0.,  0.,  1.,\n",
              "         0.,  0.,  0.,  0.,  7.,  1.,  0.,  1.,  0.,  0.,  0.,  0.,  0.,\n",
              "         0.,  0.,  0.,  0.,  0.,  0.,  0.,  1.,  0.,  0.,  0.,  0.,  0.,\n",
              "         0.,  0.,  0.,  0.,  0.,  0.,  0.,  0.,  0.,  0.,  0.,  0.,  0.,\n",
              "         0.,  0.,  0.,  0.,  0.,  0.,  0.,  0.,  0.,  1.,  0.,  0.,  0.,\n",
              "         0.,  0.,  0.,  0.,  0.,  0.,  0.,  0.,  0.,  0.,  0.,  0.,  0.,\n",
              "         0.,  0.,  2.,  2.]])"
            ]
          },
          "metadata": {
            "tags": []
          },
          "execution_count": 30
        }
      ]
    },
    {
      "cell_type": "code",
      "metadata": {
        "id": "PaHyMLA38uCU",
        "colab": {
          "base_uri": "https://localhost:8080/",
          "height": 71
        },
        "outputId": "4eea81e4-494b-4900-9b8a-76c32f9c455f"
      },
      "source": [
        "egyptMatrices = np.zeros((38, 225))\n",
        "egyptMatrices = getTeamMatrices(16129)"
      ],
      "execution_count": null,
      "outputs": [
        {
          "output_type": "stream",
          "text": [
            "/usr/local/lib/python3.6/dist-packages/ipykernel_launcher.py:2: DeprecationWarning: The default dtype for empty Series will be 'object' instead of 'float64' in a future version. Specify a dtype explicitly to silence this warning.\n",
            "  \n"
          ],
          "name": "stderr"
        }
      ]
    },
    {
      "cell_type": "code",
      "metadata": {
        "id": "ZLDFz8lx8uRn",
        "colab": {
          "base_uri": "https://localhost:8080/",
          "height": 935
        },
        "outputId": "387a45e9-b214-4f0c-98b6-7a1a6d4d41c5"
      },
      "source": [
        "egyptMatrices"
      ],
      "execution_count": null,
      "outputs": [
        {
          "output_type": "execute_result",
          "data": {
            "text/plain": [
              "array([[ 7.,  3.,  1.,  0.,  0.,  7.,  1.,  1.,  0.,  0.,  1.,  0.,  0.,\n",
              "         0.,  0.,  5.,  4.,  2.,  4.,  0.,  5.,  1.,  3.,  0.,  1.,  0.,\n",
              "         0.,  0.,  0.,  0.,  2.,  3.,  4.,  2.,  0.,  1.,  4.,  4.,  1.,\n",
              "         1.,  1.,  0.,  0.,  0.,  0.,  0.,  1.,  3.,  3.,  2.,  0.,  0.,\n",
              "         2.,  3.,  3.,  0.,  1.,  0.,  2.,  0.,  0.,  0.,  0.,  1.,  2.,\n",
              "         0.,  0.,  0.,  1.,  4.,  0.,  0.,  0.,  0.,  0.,  1.,  6.,  2.,\n",
              "         0.,  0., 24., 10.,  0.,  0.,  0.,  4.,  1.,  0.,  0.,  1.,  0.,\n",
              "         0.,  1.,  0.,  0., 12., 11.,  5.,  1.,  0.,  3.,  1.,  0.,  2.,\n",
              "         1.,  0.,  1.,  1.,  1.,  0.,  5.,  3.,  6.,  3.,  1.,  0.,  1.,\n",
              "         0.,  0.,  4.,  0.,  1.,  1.,  0.,  0.,  0.,  1.,  3.,  3.,  8.,\n",
              "         0.,  1.,  0.,  1.,  1.,  0.,  0.,  0.,  2.,  1.,  0.,  0.,  1.,\n",
              "         6., 13.,  0.,  0.,  0.,  1.,  4.,  0.,  0.,  0.,  0.,  0.,  1.,\n",
              "         0.,  0.,  0.,  0., 19.,  6.,  1.,  0.,  0.,  0.,  0.,  0.,  0.,\n",
              "         0.,  0.,  2.,  1.,  0.,  0.,  3.,  6.,  1.,  1.,  2.,  0.,  0.,\n",
              "         0.,  0.,  0.,  0.,  0.,  0.,  0.,  0.,  0.,  1.,  2.,  2.,  0.,\n",
              "         0.,  0.,  0.,  0.,  0.,  0.,  1.,  1.,  0.,  0.,  0.,  0.,  3.,\n",
              "         1.,  4.,  0.,  0.,  0.,  0.,  0.,  0.,  0.,  0.,  2.,  2.,  0.,\n",
              "         1.,  2.,  6., 17.],\n",
              "       [ 0.,  4.,  1.,  0.,  0.,  6.,  1.,  0.,  0.,  0.,  0.,  1.,  0.,\n",
              "         0.,  0.,  1.,  2.,  2.,  3.,  2.,  4.,  3.,  0.,  3.,  1.,  2.,\n",
              "         0.,  0.,  0.,  0.,  2.,  2.,  1.,  1.,  2.,  0.,  2.,  0.,  2.,\n",
              "         0.,  0.,  0.,  0.,  0.,  0.,  2.,  2.,  4.,  1.,  3.,  0.,  2.,\n",
              "         4.,  2.,  4.,  0.,  0.,  0.,  0.,  0.,  0.,  0.,  1.,  4.,  6.,\n",
              "         0.,  0.,  1.,  3.,  1.,  0.,  0.,  0.,  2.,  0.,  1.,  3.,  0.,\n",
              "         0.,  0.,  8.,  6.,  4.,  0.,  1.,  6.,  3.,  0.,  1.,  0.,  0.,\n",
              "         1.,  0.,  1.,  0.,  7.,  2.,  6.,  2.,  2.,  4.,  2.,  0.,  1.,\n",
              "         2.,  0.,  2.,  0.,  1.,  1.,  6.,  5.,  1.,  2.,  6.,  2.,  1.,\n",
              "         1.,  1.,  3.,  1.,  0.,  0.,  2.,  0.,  2.,  3.,  6.,  1.,  7.,\n",
              "         1.,  0.,  1.,  1.,  3.,  1.,  1.,  0.,  5.,  2.,  0.,  0.,  0.,\n",
              "         7., 11.,  0.,  0.,  0.,  3.,  8.,  0.,  0.,  0.,  0.,  0.,  6.,\n",
              "         3.,  1.,  0.,  0.,  6.,  6.,  1.,  0.,  1.,  0.,  0.,  0.,  0.,\n",
              "         0.,  0.,  1.,  2.,  0.,  0.,  3.,  7.,  8.,  1.,  0.,  0.,  0.,\n",
              "         0.,  0.,  0.,  0.,  0.,  0.,  0.,  0.,  2.,  2.,  4.,  0.,  1.,\n",
              "         0.,  0.,  0.,  0.,  0.,  0.,  0.,  1.,  4.,  4.,  0.,  2.,  4.,\n",
              "         1.,  4.,  0.,  0.,  0.,  0.,  0.,  0.,  0.,  0.,  0.,  3.,  0.,\n",
              "         0.,  4., 10.,  5.],\n",
              "       [ 4.,  3.,  1.,  1.,  0.,  1.,  4.,  0.,  0.,  0.,  0.,  0.,  0.,\n",
              "         0.,  0.,  4.,  4.,  5.,  1.,  1.,  4.,  1.,  4.,  1.,  1.,  1.,\n",
              "         0.,  0.,  1.,  0.,  3.,  3.,  1.,  2.,  3.,  0.,  0.,  1.,  2.,\n",
              "         1.,  1.,  0.,  0.,  0.,  0.,  0.,  5.,  2., 10.,  5.,  0.,  0.,\n",
              "         3.,  0.,  5.,  0.,  0.,  0.,  0.,  0.,  0.,  0.,  1.,  4.,  6.,\n",
              "         0.,  0.,  2.,  2.,  2.,  0.,  0.,  0.,  1.,  1.,  0.,  3.,  0.,\n",
              "         0.,  0., 10.,  5.,  2.,  0.,  0.,  5.,  0.,  0.,  0.,  0.,  0.,\n",
              "         1.,  1.,  1.,  0.,  9.,  2.,  3.,  2.,  1.,  1.,  1.,  1.,  0.,\n",
              "         0.,  0.,  1.,  0.,  1.,  1.,  3.,  6.,  5.,  6.,  3.,  2.,  0.,\n",
              "         2.,  0.,  2.,  0.,  0.,  1.,  2.,  1.,  1.,  2.,  4.,  4.,  5.,\n",
              "         0.,  0.,  0.,  3.,  3.,  0.,  0.,  1.,  2.,  1.,  0.,  0.,  2.,\n",
              "         5.,  4.,  0.,  0.,  0.,  2.,  1.,  0.,  0.,  0.,  0.,  0.,  0.,\n",
              "         1.,  1.,  0.,  0.,  4.,  2.,  1.,  0.,  0.,  0.,  0.,  0.,  0.,\n",
              "         0.,  0.,  0.,  0.,  0.,  0.,  1.,  4.,  1.,  0.,  0.,  0.,  0.,\n",
              "         0.,  0.,  0.,  0.,  0.,  1.,  0.,  0.,  1.,  1.,  5.,  1.,  0.,\n",
              "         0.,  0.,  0.,  0.,  0.,  0.,  0.,  1.,  0.,  1.,  0.,  0.,  5.,\n",
              "         6.,  0.,  0.,  0.,  0.,  0.,  0.,  0.,  0.,  0.,  0.,  0.,  0.,\n",
              "         0.,  1.,  2.,  5.]])"
            ]
          },
          "metadata": {
            "tags": []
          },
          "execution_count": 32
        }
      ]
    },
    {
      "cell_type": "code",
      "metadata": {
        "id": "GdAGeiYI8uUw",
        "colab": {
          "base_uri": "https://localhost:8080/",
          "height": 71
        },
        "outputId": "c2f5d762-db13-4189-8dbe-e81a9e6eb9a1"
      },
      "source": [
        "nigeriaMatrices = np.zeros((38, 225))\n",
        "nigeriaMatrices = getTeamMatrices(16823)"
      ],
      "execution_count": null,
      "outputs": [
        {
          "output_type": "stream",
          "text": [
            "/usr/local/lib/python3.6/dist-packages/ipykernel_launcher.py:2: DeprecationWarning: The default dtype for empty Series will be 'object' instead of 'float64' in a future version. Specify a dtype explicitly to silence this warning.\n",
            "  \n"
          ],
          "name": "stderr"
        }
      ]
    },
    {
      "cell_type": "code",
      "metadata": {
        "id": "Ic1OHCBh8uk8",
        "colab": {
          "base_uri": "https://localhost:8080/",
          "height": 935
        },
        "outputId": "ba61aca1-877e-4b72-a6c6-05f932c941fb"
      },
      "source": [
        "nigeriaMatrices"
      ],
      "execution_count": null,
      "outputs": [
        {
          "output_type": "execute_result",
          "data": {
            "text/plain": [
              "array([[ 1.,  4.,  0.,  0.,  0.,  1.,  2.,  0.,  0.,  0.,  1.,  0.,  0.,\n",
              "         0.,  0.,  3.,  6.,  3.,  6.,  0.,  1.,  7.,  2.,  4.,  0.,  0.,\n",
              "         0.,  0.,  0.,  0.,  2.,  7.,  1.,  3.,  1.,  1.,  3.,  4.,  3.,\n",
              "         2.,  0.,  0.,  0.,  1.,  1.,  1.,  4.,  8.,  5.,  5.,  1.,  3.,\n",
              "         1.,  1.,  3.,  0.,  1.,  0.,  0.,  0.,  0.,  0.,  5.,  3.,  4.,\n",
              "         0.,  0.,  0.,  3.,  2.,  0.,  0.,  0.,  0.,  0.,  1.,  1.,  0.,\n",
              "         0.,  0.,  2.,  4.,  0.,  0.,  0.,  1.,  2.,  0.,  0.,  0.,  2.,\n",
              "         4.,  0.,  1.,  0.,  3., 12., 11.,  4.,  0.,  2.,  0.,  2.,  1.,\n",
              "         0.,  0.,  0.,  1.,  2.,  0.,  1.,  6.,  8., 10.,  2.,  0.,  1.,\n",
              "         1.,  3.,  1.,  0.,  2.,  1.,  2.,  0.,  1.,  5.,  9.,  8.,  7.,\n",
              "         2.,  0.,  2.,  4.,  8.,  0.,  0.,  0.,  4.,  1.,  0.,  0.,  1.,\n",
              "         6.,  7.,  0.,  0.,  0.,  1.,  2.,  0.,  0.,  0.,  0.,  0.,  0.,\n",
              "         1.,  0.,  0.,  0.,  2.,  0.,  3.,  0.,  0.,  0.,  0.,  0.,  0.,\n",
              "         0.,  0.,  0.,  0.,  0.,  0.,  1.,  4.,  2.,  1.,  1.,  0.,  0.,\n",
              "         0.,  0.,  0.,  1.,  0.,  0.,  0.,  0.,  0.,  2.,  1.,  1.,  0.,\n",
              "         0.,  0.,  0.,  0.,  0.,  0.,  0.,  2.,  0.,  1.,  0.,  0.,  0.,\n",
              "         2.,  2.,  0.,  0.,  0.,  0.,  0.,  0.,  0.,  1.,  2.,  1.,  0.,\n",
              "         0.,  0.,  2.,  7.],\n",
              "       [ 3.,  4.,  0.,  0.,  0.,  3.,  0.,  0.,  0.,  0.,  1.,  0.,  0.,\n",
              "         0.,  0.,  5.,  5.,  1.,  1.,  0.,  1.,  3.,  0.,  1.,  0.,  0.,\n",
              "         0.,  0.,  0.,  0.,  2.,  2.,  2.,  2.,  1.,  2.,  3.,  3.,  3.,\n",
              "         2.,  0.,  0.,  0.,  0.,  0.,  0.,  0.,  2.,  3.,  2.,  1.,  1.,\n",
              "         2.,  2.,  2.,  0.,  0.,  0.,  0.,  0.,  0.,  0.,  2.,  1.,  2.,\n",
              "         0.,  0.,  2.,  2.,  3.,  0.,  0.,  0.,  0.,  1.,  0.,  2.,  0.,\n",
              "         0.,  0.,  4., 17.,  4.,  0.,  0.,  4.,  2.,  0.,  1.,  1.,  0.,\n",
              "         1.,  2.,  0.,  0.,  7., 12., 10.,  4.,  5.,  5.,  3.,  1.,  2.,\n",
              "         0.,  0.,  0.,  2.,  0.,  0.,  1.,  4.,  7., 13.,  3.,  1.,  0.,\n",
              "         2.,  1.,  5.,  0.,  0.,  1.,  1.,  1.,  0.,  4.,  7., 15., 14.,\n",
              "         2.,  0.,  0.,  7.,  4.,  0.,  0.,  3.,  5.,  5.,  0.,  0.,  3.,\n",
              "        11.,  7.,  0.,  0.,  1.,  1.,  8.,  0.,  0.,  0.,  0.,  0.,  5.,\n",
              "         5.,  0.,  0.,  0., 14.,  2.,  1.,  1.,  0.,  0.,  0.,  0.,  0.,\n",
              "         0.,  0.,  1.,  1.,  0.,  0.,  2.,  4.,  2.,  0.,  0.,  0.,  0.,\n",
              "         0.,  0.,  0.,  0.,  1.,  0.,  2.,  0.,  1.,  0.,  1.,  2.,  1.,\n",
              "         0.,  0.,  0.,  0.,  0.,  0.,  0.,  1.,  1.,  1.,  0.,  0.,  1.,\n",
              "         6.,  8.,  0.,  0.,  0.,  0.,  0.,  0.,  0.,  0.,  1.,  6.,  0.,\n",
              "         1.,  3.,  7.,  8.],\n",
              "       [ 7.,  2.,  1.,  0.,  0.,  4.,  2.,  0.,  0.,  0.,  0.,  0.,  0.,\n",
              "         0.,  0.,  1.,  3.,  3.,  0.,  0.,  3.,  3.,  1.,  0.,  0.,  0.,\n",
              "         0.,  0.,  0.,  0.,  0.,  3.,  1.,  1.,  1.,  0.,  2.,  0.,  0.,\n",
              "         0.,  0.,  0.,  0.,  2.,  0.,  0.,  0.,  0.,  2.,  3.,  1.,  0.,\n",
              "         1.,  2.,  0.,  0.,  0.,  0.,  1.,  0.,  1.,  0.,  1.,  3.,  5.,\n",
              "         0.,  0.,  0.,  1.,  3.,  0.,  0.,  0.,  0.,  1.,  2.,  1.,  0.,\n",
              "         0.,  0.,  9.,  9.,  2.,  0.,  0.,  4.,  0.,  0.,  0.,  0.,  0.,\n",
              "         2.,  0.,  0.,  0.,  5.,  3.,  4.,  1.,  1.,  1.,  1.,  1.,  1.,\n",
              "         0.,  1.,  0.,  1.,  1.,  0.,  3.,  2.,  5.,  3.,  1.,  1.,  1.,\n",
              "         1.,  2.,  0.,  0.,  0.,  0.,  1.,  1.,  0.,  1.,  4.,  3.,  4.,\n",
              "         0.,  0.,  2.,  3.,  1.,  0.,  0.,  0.,  0.,  3.,  0.,  0.,  2.,\n",
              "         3.,  3.,  0.,  0.,  0.,  0.,  0.,  0.,  0.,  0.,  0.,  0.,  0.,\n",
              "         1.,  0.,  0.,  0.,  2.,  2.,  0.,  0.,  0.,  0.,  0.,  0.,  0.,\n",
              "         0.,  0.,  2.,  0.,  0.,  0.,  1.,  4.,  0.,  0.,  0.,  0.,  0.,\n",
              "         0.,  0.,  0.,  0.,  0.,  0.,  1.,  0.,  0.,  0.,  1.,  2.,  0.,\n",
              "         0.,  0.,  0.,  0.,  0.,  0.,  0.,  0.,  0.,  0.,  1.,  1.,  0.,\n",
              "         0.,  3.,  0.,  0.,  0.,  0.,  0.,  0.,  0.,  0.,  0.,  0.,  0.,\n",
              "         0.,  1.,  0.,  4.]])"
            ]
          },
          "metadata": {
            "tags": []
          },
          "execution_count": 34
        }
      ]
    },
    {
      "cell_type": "code",
      "metadata": {
        "id": "U3dyoJZO8up6",
        "colab": {
          "base_uri": "https://localhost:8080/",
          "height": 71
        },
        "outputId": "4d505496-2069-4d45-b5df-797697c5ceec"
      },
      "source": [
        "mexicoMatrices = np.zeros((38, 225))\n",
        "mexicoMatrices = getTeamMatrices(15473)"
      ],
      "execution_count": null,
      "outputs": [
        {
          "output_type": "stream",
          "text": [
            "/usr/local/lib/python3.6/dist-packages/ipykernel_launcher.py:2: DeprecationWarning: The default dtype for empty Series will be 'object' instead of 'float64' in a future version. Specify a dtype explicitly to silence this warning.\n",
            "  \n"
          ],
          "name": "stderr"
        }
      ]
    },
    {
      "cell_type": "code",
      "metadata": {
        "id": "rECDRgBT8u4L",
        "colab": {
          "base_uri": "https://localhost:8080/",
          "height": 1000
        },
        "outputId": "9187563c-2876-48ef-f192-a8d0781033c2"
      },
      "source": [
        "mexicoMatrices"
      ],
      "execution_count": null,
      "outputs": [
        {
          "output_type": "execute_result",
          "data": {
            "text/plain": [
              "array([[ 4.,  3.,  1.,  1.,  0.,  1.,  1.,  0.,  1.,  0.,  0.,  0.,  0.,\n",
              "         0.,  0.,  4.,  3.,  4.,  1.,  0.,  0.,  2.,  3.,  0.,  0.,  0.,\n",
              "         0.,  0.,  0.,  0.,  1.,  3.,  5.,  2.,  3.,  3.,  1.,  1.,  1.,\n",
              "         3.,  1.,  0.,  0.,  0.,  0.,  0.,  1.,  1.,  3.,  3.,  1.,  0.,\n",
              "         1.,  3.,  3.,  0.,  1.,  0.,  0.,  0.,  0.,  0.,  0.,  1.,  1.,\n",
              "         0.,  0.,  1.,  2.,  1.,  0.,  0.,  0.,  0.,  0.,  2.,  0.,  2.,\n",
              "         0.,  0.,  9.,  8.,  1.,  0.,  0.,  3.,  0.,  0.,  0.,  0.,  0.,\n",
              "         3.,  1.,  0.,  0.,  5.,  7.,  0.,  2.,  0.,  2.,  2.,  2.,  0.,\n",
              "         0.,  1.,  0.,  0.,  0.,  0.,  1.,  7.,  3.,  1.,  1.,  1.,  1.,\n",
              "         1.,  0.,  1.,  0.,  0.,  1.,  1.,  1.,  0.,  2.,  0.,  2.,  6.,\n",
              "         0.,  0.,  1.,  0.,  2.,  0.,  0.,  1.,  2.,  1.,  0.,  0.,  1.,\n",
              "         2.,  1.,  0.,  1.,  1.,  0.,  1.,  0.,  0.,  0.,  0.,  0.,  3.,\n",
              "         1.,  0.,  0.,  0.,  7.,  4.,  0.,  0.,  0.,  0.,  0.,  0.,  0.,\n",
              "         0.,  3.,  1.,  1.,  0.,  0.,  1., 12.,  5.,  1.,  0.,  0.,  0.,\n",
              "         0.,  0.,  0.,  0.,  0.,  0.,  0.,  0.,  1.,  6.,  0.,  0.,  1.,\n",
              "         0.,  0.,  0.,  0.,  0.,  0.,  0.,  1.,  1.,  1.,  0.,  1.,  0.,\n",
              "         2.,  0.,  0.,  0.,  0.,  0.,  0.,  0.,  0.,  0.,  1.,  1.,  0.,\n",
              "         0.,  0.,  2.,  0.],\n",
              "       [ 0.,  2.,  5.,  0.,  0.,  2.,  1.,  3.,  0.,  0.,  0.,  0.,  0.,\n",
              "         0.,  0.,  1.,  3.,  4.,  2.,  0.,  5.,  2.,  0.,  1.,  1.,  0.,\n",
              "         0.,  0.,  1.,  0.,  4.,  2.,  4.,  5.,  2.,  1.,  4.,  2.,  2.,\n",
              "         3.,  0.,  0.,  0.,  0.,  0.,  0.,  3.,  3.,  0.,  2.,  0.,  2.,\n",
              "         1.,  1.,  9.,  0.,  0.,  0.,  0.,  0.,  0.,  0.,  0.,  2.,  2.,\n",
              "         0.,  0.,  0.,  1.,  2.,  0.,  0.,  0.,  0.,  0.,  3.,  7.,  1.,\n",
              "         0.,  0., 10., 11.,  0.,  0.,  0.,  4.,  1.,  0.,  0.,  0.,  0.,\n",
              "         1.,  3.,  2.,  0.,  9.,  6.,  6.,  4.,  0.,  3.,  1.,  2.,  0.,\n",
              "         2.,  0.,  1.,  0.,  0.,  1.,  4.,  3.,  5.,  7.,  5.,  2.,  0.,\n",
              "         1.,  1.,  2.,  0.,  0.,  1.,  3.,  2.,  5.,  6.,  6., 19., 21.,\n",
              "         2.,  2.,  1.,  5.,  1.,  0.,  0.,  3.,  8.,  0.,  0.,  0.,  4.,\n",
              "        19., 14.,  0.,  0.,  1.,  3.,  4.,  0.,  0.,  0.,  0.,  0.,  2.,\n",
              "         2.,  1.,  0.,  0.,  5.,  3.,  0.,  1.,  0.,  0.,  0.,  0.,  0.,\n",
              "         0.,  0.,  1.,  1.,  2.,  0.,  3.,  7.,  1.,  0.,  1.,  0.,  0.,\n",
              "         0.,  0.,  0.,  0.,  0.,  0.,  0.,  0.,  2.,  2.,  2.,  1.,  0.,\n",
              "         0.,  0.,  0.,  0.,  0.,  0.,  0.,  1.,  3.,  0.,  1.,  1.,  1.,\n",
              "         2.,  6.,  0.,  0.,  0.,  0.,  0.,  0.,  0.,  1.,  6.,  0.,  0.,\n",
              "         1.,  0.,  3., 10.],\n",
              "       [ 0.,  1.,  1.,  0.,  0.,  1.,  1.,  0.,  0.,  0.,  0.,  0.,  0.,\n",
              "         0.,  0.,  0.,  2.,  2.,  5.,  0.,  0.,  2.,  1.,  4.,  0.,  0.,\n",
              "         0.,  0.,  0.,  0.,  1.,  1.,  0.,  3.,  1.,  1.,  1.,  3.,  2.,\n",
              "         2.,  0.,  1.,  0.,  0.,  0.,  0.,  4.,  3.,  5.,  3.,  1.,  2.,\n",
              "         2.,  4.,  5.,  0.,  0.,  0.,  1.,  1.,  0.,  0.,  0.,  2.,  1.,\n",
              "         0.,  0.,  0.,  3.,  2.,  0.,  0.,  0.,  0.,  0.,  0.,  2.,  2.,\n",
              "         0.,  0.,  6., 11.,  1.,  4.,  1.,  4.,  1.,  0.,  0.,  1.,  0.,\n",
              "         2.,  0.,  1.,  0.,  8., 13.,  6.,  8.,  1.,  4.,  2.,  3.,  0.,\n",
              "         2.,  1.,  0.,  0.,  1.,  0.,  9.,  6.,  4.,  8.,  1.,  1.,  0.,\n",
              "         0.,  0.,  0.,  0.,  1.,  2.,  5.,  0.,  3.,  2.,  8.,  6.,  5.,\n",
              "         4.,  0.,  3.,  4.,  8.,  0.,  1.,  0.,  2.,  0.,  0.,  1.,  2.,\n",
              "        11., 15.,  1.,  0.,  1.,  2.,  2.,  0.,  0.,  0.,  0.,  0.,  1.,\n",
              "         1.,  0.,  0.,  0.,  2., 10.,  3.,  0.,  1.,  0.,  0.,  0.,  0.,\n",
              "         0.,  1.,  0.,  0.,  1.,  0.,  6.,  7.,  5.,  4.,  0.,  0.,  0.,\n",
              "         0.,  0.,  0.,  0.,  0.,  1.,  0.,  0.,  2.,  3.,  6.,  4.,  1.,\n",
              "         0.,  0.,  0.,  0.,  0.,  0.,  0.,  0.,  4.,  1.,  1.,  1.,  5.,\n",
              "         8.,  7.,  0.,  0.,  0.,  0.,  0.,  0.,  1.,  0.,  1.,  3.,  0.,\n",
              "         2.,  2.,  4.,  5.],\n",
              "       [ 2.,  4.,  1.,  1.,  0.,  4.,  1.,  0.,  0.,  0.,  1.,  0.,  1.,\n",
              "         0.,  0.,  3.,  2.,  3.,  7.,  0.,  4.,  3.,  1.,  1.,  1.,  0.,\n",
              "         0.,  0.,  0.,  0.,  0.,  3.,  2.,  2.,  1.,  2.,  0.,  0.,  0.,\n",
              "         2.,  0.,  0.,  0.,  0.,  1.,  0.,  8.,  2.,  6.,  1.,  0.,  2.,\n",
              "         0.,  1.,  4.,  0.,  0.,  0.,  0.,  0.,  0.,  0.,  0.,  2.,  2.,\n",
              "         0.,  1.,  0.,  2.,  4.,  0.,  0.,  0.,  0.,  0.,  1.,  7.,  0.,\n",
              "         0.,  0., 11., 10.,  3.,  1.,  0.,  6.,  1.,  1.,  0.,  0.,  3.,\n",
              "         2.,  1.,  0.,  0., 14., 19.,  6.,  5.,  2.,  6.,  3.,  1.,  1.,\n",
              "         3.,  0.,  1.,  0.,  1.,  0.,  2.,  3.,  4.,  3.,  2.,  2.,  2.,\n",
              "         0.,  0.,  3.,  0.,  2.,  0.,  1.,  2.,  1.,  9.,  4.,  8.,  0.,\n",
              "         2.,  1.,  1.,  0.,  3.,  0.,  0.,  0.,  2.,  0.,  0.,  1.,  0.,\n",
              "         8., 13.,  0.,  0.,  0.,  0.,  2.,  0.,  0.,  0.,  0.,  0.,  1.,\n",
              "         3.,  0.,  0.,  0., 11.,  5.,  3.,  0.,  0.,  0.,  0.,  0.,  0.,\n",
              "         0.,  0.,  1.,  2.,  0.,  0.,  7.,  4.,  2.,  2.,  0.,  0.,  0.,\n",
              "         0.,  0.,  0.,  0.,  0.,  0.,  0.,  0.,  0.,  2.,  0.,  1.,  0.,\n",
              "         0.,  0.,  0.,  0.,  0.,  0.,  0.,  0.,  0.,  2.,  1.,  2.,  1.,\n",
              "         2.,  2.,  0.,  0.,  0.,  0.,  0.,  1.,  0.,  0.,  1.,  1.,  0.,\n",
              "         0.,  1.,  4.,  8.]])"
            ]
          },
          "metadata": {
            "tags": []
          },
          "execution_count": 36
        }
      ]
    },
    {
      "cell_type": "code",
      "metadata": {
        "id": "W41UvKVy8u87",
        "colab": {
          "base_uri": "https://localhost:8080/",
          "height": 71
        },
        "outputId": "0bb930aa-dbec-47e2-de1b-36738b37548c"
      },
      "source": [
        "costaRicaMatrices = np.zeros((38, 225))\n",
        "costaRicaMatrices = getTeamMatrices(16871)"
      ],
      "execution_count": null,
      "outputs": [
        {
          "output_type": "stream",
          "text": [
            "/usr/local/lib/python3.6/dist-packages/ipykernel_launcher.py:2: DeprecationWarning: The default dtype for empty Series will be 'object' instead of 'float64' in a future version. Specify a dtype explicitly to silence this warning.\n",
            "  \n"
          ],
          "name": "stderr"
        }
      ]
    },
    {
      "cell_type": "code",
      "metadata": {
        "id": "dH3hcnEF8vMy",
        "colab": {
          "base_uri": "https://localhost:8080/",
          "height": 935
        },
        "outputId": "b9cbfc95-d22a-4411-b997-a1f9268602b4"
      },
      "source": [
        "costaRicaMatrices"
      ],
      "execution_count": null,
      "outputs": [
        {
          "output_type": "execute_result",
          "data": {
            "text/plain": [
              "array([[ 0.,  5.,  2.,  0.,  0.,  4.,  0.,  0.,  0.,  0.,  0.,  0.,  1.,\n",
              "         0.,  0.,  3.,  6.,  5.,  2.,  1.,  4.,  5.,  1.,  2.,  0.,  0.,\n",
              "         0.,  1.,  0.,  1.,  2.,  6.,  3.,  3.,  0.,  3.,  2.,  2.,  4.,\n",
              "         1.,  1.,  2.,  0.,  2.,  0.,  1.,  3.,  3.,  5.,  3.,  0.,  0.,\n",
              "         3.,  2.,  3.,  0.,  0.,  2.,  0.,  0.,  0.,  0.,  1.,  4.,  3.,\n",
              "         0.,  0.,  0.,  3.,  0.,  0.,  1.,  0.,  1.,  0.,  1.,  4.,  1.,\n",
              "         0.,  0., 12.,  8.,  4.,  2.,  0.,  4.,  4.,  1.,  0.,  0.,  0.,\n",
              "         2.,  4.,  2.,  0.,  8.,  2.,  8.,  0.,  0.,  2.,  6.,  3.,  2.,\n",
              "         0.,  0.,  0.,  2.,  1.,  0.,  4.,  8.,  6.,  7.,  3.,  1.,  1.,\n",
              "         1.,  2.,  1.,  0.,  0.,  2.,  1.,  3.,  1.,  3.,  4.,  0.,  9.,\n",
              "         1.,  1.,  2.,  0.,  3.,  0.,  0.,  2.,  2.,  0.,  0.,  0.,  3.,\n",
              "         5.,  5.,  0.,  0.,  1.,  4.,  4.,  0.,  0.,  0.,  0.,  0.,  2.,\n",
              "         0.,  1.,  0.,  0.,  9.,  5.,  2.,  1.,  1.,  0.,  0.,  0.,  0.,\n",
              "         0.,  2.,  2.,  2.,  0.,  0.,  3.,  2.,  2.,  0.,  0.,  0.,  0.,\n",
              "         0.,  0.,  0.,  1.,  0.,  0.,  2.,  1.,  1.,  1.,  2.,  1.,  0.,\n",
              "         0.,  0.,  0.,  0.,  0.,  0.,  2.,  2.,  1.,  3.,  0.,  1.,  1.,\n",
              "         2.,  3.,  0.,  0.,  0.,  0.,  0.,  0.,  0.,  0.,  2.,  1.,  0.,\n",
              "         1.,  0.,  8.,  8.],\n",
              "       [ 5.,  4.,  0.,  0.,  0.,  2.,  1.,  0.,  0.,  0.,  1.,  0.,  0.,\n",
              "         0.,  0.,  3.,  3.,  4.,  1.,  0.,  0.,  2.,  3.,  0.,  2.,  0.,\n",
              "         1.,  0.,  0.,  0.,  3.,  4.,  2.,  1.,  2.,  2.,  0.,  1.,  0.,\n",
              "         2.,  1.,  0.,  0.,  1.,  0.,  0.,  1.,  2.,  4.,  5.,  1.,  0.,\n",
              "         1.,  1.,  2.,  0.,  1.,  1.,  0.,  0.,  0.,  0.,  2.,  2.,  1.,\n",
              "         0.,  0.,  0.,  2.,  1.,  0.,  0.,  0.,  0.,  1.,  2.,  0.,  0.,\n",
              "         0.,  0.,  4.,  3.,  1.,  1.,  0.,  1.,  0.,  0.,  0.,  0.,  1.,\n",
              "         2.,  2.,  0.,  0.,  1.,  1.,  1.,  0.,  2.,  2.,  0.,  0.,  0.,\n",
              "         0.,  0.,  2.,  3.,  2.,  1.,  1.,  0.,  3.,  4.,  1.,  0.,  1.,\n",
              "         0.,  0.,  3.,  0.,  0.,  0.,  1.,  0.,  0.,  0.,  7.,  7.,  9.,\n",
              "         1.,  0.,  1.,  1.,  1.,  0.,  0.,  0.,  0.,  0.,  0.,  0.,  0.,\n",
              "         7.,  2.,  0.,  0.,  1.,  0.,  4.,  0.,  0.,  0.,  0.,  0.,  1.,\n",
              "         2.,  0.,  0.,  0.,  5.,  2.,  0.,  0.,  0.,  0.,  0.,  0.,  0.,\n",
              "         0.,  2.,  0.,  0.,  0.,  0.,  0.,  2.,  0.,  0.,  0.,  0.,  0.,\n",
              "         0.,  0.,  0.,  0.,  0.,  0.,  0.,  0.,  0.,  0.,  1.,  1.,  0.,\n",
              "         0.,  0.,  0.,  0.,  0.,  0.,  0.,  1.,  0.,  0.,  0.,  1.,  3.,\n",
              "         2.,  0.,  0.,  0.,  0.,  0.,  0.,  1.,  0.,  0.,  2.,  2.,  0.,\n",
              "         0.,  1.,  0.,  7.],\n",
              "       [ 0.,  5.,  3.,  1.,  0.,  3.,  1.,  1.,  0.,  0.,  0.,  0.,  0.,\n",
              "         0.,  0.,  7.,  4.,  6.,  2.,  0.,  4.,  3.,  2.,  0.,  0.,  0.,\n",
              "         0.,  0.,  0.,  0.,  3.,  4.,  0.,  4.,  1.,  3.,  1.,  0.,  3.,\n",
              "         1.,  0.,  0.,  0.,  0.,  0.,  0.,  2.,  2.,  0.,  0.,  0.,  1.,\n",
              "         1.,  1.,  5.,  0.,  0.,  0.,  2.,  0.,  0.,  1.,  1.,  1.,  8.,\n",
              "         0.,  0.,  0.,  0.,  0.,  0.,  0.,  1.,  0.,  0.,  1.,  1.,  2.,\n",
              "         0.,  0.,  6.,  6.,  4.,  0.,  0.,  4.,  1.,  0.,  0.,  0.,  1.,\n",
              "         0.,  2.,  0.,  0.,  4.,  4.,  3.,  2.,  1.,  1.,  3.,  0.,  1.,\n",
              "         0.,  0.,  1.,  0.,  1.,  0.,  3.,  4.,  4.,  5.,  4.,  1.,  0.,\n",
              "         2.,  0.,  1.,  0.,  2.,  0.,  0.,  1.,  1.,  2.,  8.,  7.,  4.,\n",
              "         1.,  1.,  0.,  3.,  4.,  0.,  0.,  2.,  1.,  0.,  0.,  1.,  1.,\n",
              "         7.,  8.,  0.,  1.,  0.,  0.,  5.,  0.,  0.,  0.,  0.,  0.,  0.,\n",
              "         2.,  0.,  0.,  0.,  9.,  1.,  1.,  2.,  0.,  0.,  0.,  0.,  0.,\n",
              "         0.,  0.,  0.,  0.,  0.,  0.,  4.,  4.,  2.,  0.,  0.,  0.,  0.,\n",
              "         0.,  0.,  0.,  0.,  0.,  0.,  0.,  0.,  0.,  0.,  2.,  1.,  1.,\n",
              "         0.,  0.,  0.,  0.,  0.,  0.,  0.,  0.,  0.,  0.,  0.,  1.,  2.,\n",
              "         4.,  1.,  0.,  0.,  0.,  0.,  0.,  0.,  0.,  0.,  3.,  0.,  0.,\n",
              "         0.,  1.,  2.,  8.]])"
            ]
          },
          "metadata": {
            "tags": []
          },
          "execution_count": 38
        }
      ]
    },
    {
      "cell_type": "code",
      "metadata": {
        "id": "qV_hc1ba8vQS",
        "colab": {
          "base_uri": "https://localhost:8080/",
          "height": 71
        },
        "outputId": "5c0d985e-0b66-44f5-f0d5-d52d253e6eea"
      },
      "source": [
        "panamaMatrices = np.zeros((38, 225))\n",
        "panamaMatrices = getTeamMatrices(17929)"
      ],
      "execution_count": null,
      "outputs": [
        {
          "output_type": "stream",
          "text": [
            "/usr/local/lib/python3.6/dist-packages/ipykernel_launcher.py:2: DeprecationWarning: The default dtype for empty Series will be 'object' instead of 'float64' in a future version. Specify a dtype explicitly to silence this warning.\n",
            "  \n"
          ],
          "name": "stderr"
        }
      ]
    },
    {
      "cell_type": "code",
      "metadata": {
        "id": "Ltw0lKDB8vgN",
        "colab": {
          "base_uri": "https://localhost:8080/",
          "height": 935
        },
        "outputId": "1ab862fe-0cd9-4da2-f9ed-8e0bdf56ec9c"
      },
      "source": [
        "panamaMatrices"
      ],
      "execution_count": null,
      "outputs": [
        {
          "output_type": "execute_result",
          "data": {
            "text/plain": [
              "array([[ 3.,  0.,  0.,  1.,  0.,  2.,  2.,  0.,  0.,  0.,  0.,  0.,  0.,\n",
              "         0.,  0.,  2.,  1.,  4.,  1.,  0.,  4.,  2.,  0.,  0.,  1.,  0.,\n",
              "         1.,  1.,  0.,  0.,  0.,  2.,  4.,  0.,  1.,  2.,  0.,  0.,  1.,\n",
              "         1.,  1.,  0.,  0.,  0.,  0.,  0.,  2.,  3.,  1.,  0.,  1.,  1.,\n",
              "         1.,  4.,  3.,  0.,  0.,  0.,  0.,  0.,  0.,  0.,  0.,  3.,  7.,\n",
              "         0.,  0.,  1.,  1.,  3.,  0.,  0.,  0.,  0.,  0.,  1.,  2.,  0.,\n",
              "         1.,  0., 17.,  8.,  0.,  1.,  0.,  6.,  2.,  1.,  0.,  0.,  0.,\n",
              "         2.,  1.,  2.,  0.,  8.,  6.,  2.,  1.,  1.,  0.,  2.,  0.,  1.,\n",
              "         1.,  0.,  2.,  0.,  1.,  0.,  4.,  0.,  6.,  4.,  4.,  0.,  0.,\n",
              "         3.,  1.,  1.,  0.,  0.,  0.,  1.,  1.,  1.,  3.,  6.,  3.,  6.,\n",
              "         2.,  0.,  0.,  0.,  1.,  0.,  0.,  0.,  2.,  1.,  0.,  0.,  0.,\n",
              "         3., 21.,  1.,  1.,  0.,  1., 10.,  0.,  0.,  0.,  0.,  0.,  2.,\n",
              "         1.,  0.,  0.,  0.,  6.,  4.,  1.,  0.,  0.,  0.,  0.,  0.,  0.,\n",
              "         0.,  0.,  0.,  0.,  0.,  0.,  2.,  1.,  3.,  1.,  0.,  0.,  0.,\n",
              "         0.,  0.,  0.,  0.,  0.,  0.,  0.,  0.,  1.,  2.,  3.,  2.,  0.,\n",
              "         0.,  0.,  0.,  0.,  0.,  0.,  0.,  2.,  2.,  0.,  0.,  0.,  0.,\n",
              "         0.,  0.,  0.,  0.,  0.,  0.,  0.,  0.,  0.,  0.,  1.,  2.,  0.,\n",
              "         0.,  0.,  3.,  6.],\n",
              "       [ 3.,  5.,  0.,  0.,  0.,  3.,  0.,  0.,  0.,  0.,  0.,  0.,  0.,\n",
              "         0.,  0.,  2.,  1.,  0.,  2.,  1.,  7.,  0.,  0.,  0.,  0.,  0.,\n",
              "         0.,  0.,  0.,  0.,  1.,  0.,  1.,  2.,  1.,  4.,  5.,  2.,  2.,\n",
              "         0.,  0.,  0.,  1.,  0.,  0.,  1.,  1.,  3.,  1.,  1.,  0.,  1.,\n",
              "         3.,  1.,  3.,  0.,  0.,  0.,  0.,  0.,  0.,  0.,  0.,  1.,  2.,\n",
              "         0.,  0.,  0.,  2.,  4.,  0.,  0.,  0.,  0.,  0.,  2.,  2.,  0.,\n",
              "         0.,  0., 26.,  9.,  6.,  2.,  0., 12.,  0.,  0.,  0.,  0.,  1.,\n",
              "         0.,  2.,  0.,  0., 13., 10.,  7.,  1.,  3.,  6.,  4.,  0.,  0.,\n",
              "         1.,  1.,  2.,  3.,  3.,  0.,  1.,  8., 10.,  2.,  7.,  0.,  1.,\n",
              "         1.,  0.,  3.,  0.,  1.,  1.,  1.,  0.,  1.,  3.,  2.,  5.,  6.,\n",
              "         1.,  0.,  0.,  1.,  4.,  0.,  0.,  3.,  2.,  3.,  2.,  0.,  2.,\n",
              "         7.,  6.,  0.,  0.,  0.,  0.,  2.,  0.,  0.,  0.,  0.,  0.,  6.,\n",
              "         7.,  1.,  0.,  0., 19.,  1.,  2.,  0.,  0.,  0.,  0.,  0.,  0.,\n",
              "         0.,  0.,  0.,  1.,  1.,  0.,  3.,  0.,  1.,  0.,  0.,  0.,  0.,\n",
              "         0.,  0.,  0.,  0.,  0.,  0.,  1.,  0.,  0.,  0.,  0.,  0.,  1.,\n",
              "         0.,  0.,  0.,  0.,  0.,  0.,  0.,  1.,  0.,  0.,  0.,  1.,  2.,\n",
              "         0.,  1.,  0.,  0.,  0.,  0.,  0.,  0.,  1.,  0.,  3.,  3.,  0.,\n",
              "         0.,  1.,  4.,  4.],\n",
              "       [ 1.,  2.,  0.,  0.,  0.,  2.,  3.,  1.,  0.,  0.,  0.,  0.,  0.,\n",
              "         0.,  0.,  0.,  2.,  1.,  0.,  0.,  4.,  3.,  0.,  1.,  0.,  0.,\n",
              "         0.,  0.,  1.,  0.,  0.,  3.,  4.,  0.,  3.,  0.,  2.,  0.,  1.,\n",
              "         3.,  0.,  0.,  1.,  0.,  1.,  1.,  0.,  2.,  8.,  2.,  0.,  0.,\n",
              "         1.,  4.,  1.,  0.,  0.,  1.,  0.,  0.,  0.,  0.,  0.,  0.,  1.,\n",
              "         0.,  0.,  0.,  0.,  2.,  0.,  0.,  0.,  1.,  0.,  0.,  1.,  0.,\n",
              "         0.,  0.,  2.,  3.,  1.,  0.,  0.,  2.,  1.,  0.,  0.,  0.,  1.,\n",
              "         0.,  2.,  0.,  0.,  5.,  3.,  2.,  2.,  3.,  1.,  4.,  0.,  0.,\n",
              "         0.,  0.,  1.,  1.,  4.,  0.,  1.,  3.,  1.,  4.,  5.,  3.,  0.,\n",
              "         0.,  0.,  0.,  0.,  1.,  1.,  1.,  0.,  0.,  4.,  7.,  8.,  4.,\n",
              "         0.,  0.,  0.,  3.,  0.,  0.,  0.,  0.,  1.,  0.,  0.,  0.,  1.,\n",
              "         5.,  3.,  0.,  0.,  0.,  0.,  8.,  0.,  0.,  0.,  0.,  0.,  0.,\n",
              "         1.,  0.,  1.,  0.,  0.,  2.,  0.,  0.,  0.,  0.,  0.,  0.,  0.,\n",
              "         0.,  0.,  0.,  1.,  0.,  0.,  2.,  2.,  3.,  0.,  1.,  0.,  0.,\n",
              "         0.,  0.,  0.,  1.,  1.,  0.,  0.,  0.,  0.,  1.,  3.,  0.,  0.,\n",
              "         0.,  0.,  0.,  0.,  0.,  0.,  0.,  0.,  1.,  1.,  0.,  0.,  2.,\n",
              "         3.,  1.,  0.,  0.,  0.,  0.,  0.,  0.,  0.,  0.,  1.,  2.,  0.,\n",
              "         0.,  0.,  2.,  2.]])"
            ]
          },
          "metadata": {
            "tags": []
          },
          "execution_count": 40
        }
      ]
    },
    {
      "cell_type": "code",
      "metadata": {
        "id": "xHFxVOb68vjw",
        "colab": {
          "base_uri": "https://localhost:8080/",
          "height": 71
        },
        "outputId": "3d2e8530-d24c-4e29-b832-7f7d627a4f2b"
      },
      "source": [
        "brazilMatrices = np.zeros((38, 225))\n",
        "brazilMatrices = getTeamMatrices(6380)"
      ],
      "execution_count": null,
      "outputs": [
        {
          "output_type": "stream",
          "text": [
            "/usr/local/lib/python3.6/dist-packages/ipykernel_launcher.py:2: DeprecationWarning: The default dtype for empty Series will be 'object' instead of 'float64' in a future version. Specify a dtype explicitly to silence this warning.\n",
            "  \n"
          ],
          "name": "stderr"
        }
      ]
    },
    {
      "cell_type": "code",
      "metadata": {
        "id": "nFLsX_NK8v1e",
        "colab": {
          "base_uri": "https://localhost:8080/",
          "height": 102
        },
        "outputId": "8516d3a4-c1ae-4b39-fe63-083dbc832e36"
      },
      "source": [
        "brazilMatrices"
      ],
      "execution_count": null,
      "outputs": [
        {
          "output_type": "execute_result",
          "data": {
            "text/plain": [
              "array([[ 5.,  3.,  0., ...,  0.,  4.,  8.],\n",
              "       [ 7.,  3.,  3., ...,  4.,  5.,  8.],\n",
              "       [ 7.,  1.,  2., ...,  2.,  6.,  8.],\n",
              "       [ 2.,  4.,  0., ...,  0.,  2., 15.],\n",
              "       [ 4.,  3.,  2., ...,  1.,  6.,  8.]])"
            ]
          },
          "metadata": {
            "tags": []
          },
          "execution_count": 42
        }
      ]
    },
    {
      "cell_type": "code",
      "metadata": {
        "id": "BGBVi98H8v4-",
        "colab": {
          "base_uri": "https://localhost:8080/",
          "height": 71
        },
        "outputId": "bb085b35-249f-4327-af83-ac45458ac224"
      },
      "source": [
        "argentinaMatrices = np.zeros((38, 225))\n",
        "argentinaMatrices = getTeamMatrices(12274)"
      ],
      "execution_count": null,
      "outputs": [
        {
          "output_type": "stream",
          "text": [
            "/usr/local/lib/python3.6/dist-packages/ipykernel_launcher.py:2: DeprecationWarning: The default dtype for empty Series will be 'object' instead of 'float64' in a future version. Specify a dtype explicitly to silence this warning.\n",
            "  \n"
          ],
          "name": "stderr"
        }
      ]
    },
    {
      "cell_type": "code",
      "metadata": {
        "id": "G8to2Dod8wJu",
        "colab": {
          "base_uri": "https://localhost:8080/",
          "height": 1000
        },
        "outputId": "d70423ce-1496-458b-ec81-ecab5530ae14"
      },
      "source": [
        "argentinaMatrices"
      ],
      "execution_count": null,
      "outputs": [
        {
          "output_type": "execute_result",
          "data": {
            "text/plain": [
              "array([[ 3.,  1.,  2.,  0.,  0.,  1.,  1.,  0.,  0.,  0.,  0.,  0.,  0.,\n",
              "         0.,  0.,  3.,  3.,  3.,  1.,  0.,  0.,  4.,  4.,  2.,  0.,  0.,\n",
              "         0.,  0.,  0.,  0.,  1.,  5.,  6.,  3.,  3.,  0.,  3.,  2.,  1.,\n",
              "         1.,  0.,  0.,  0.,  0.,  0.,  0.,  2.,  5.,  2.,  5.,  0.,  2.,\n",
              "         4.,  2.,  0.,  0.,  0.,  0.,  0.,  0.,  0.,  0.,  3.,  6.,  4.,\n",
              "         0.,  1.,  0.,  1.,  1.,  0.,  0.,  0.,  0.,  0.,  1.,  1.,  0.,\n",
              "         0.,  0.,  7., 25.,  4.,  1.,  0.,  5.,  2.,  0.,  0.,  0.,  0.,\n",
              "         1.,  0.,  1.,  0., 15., 23., 27., 11.,  1., 10., 15.,  8.,  3.,\n",
              "         3.,  0.,  0.,  1.,  0.,  0.,  9., 17., 10., 19.,  6.,  4.,  4.,\n",
              "         1.,  5.,  2.,  0.,  1.,  0.,  0.,  1.,  1., 14., 14., 15.,  9.,\n",
              "         0.,  2.,  1., 13.,  5.,  0.,  1.,  1.,  1.,  0.,  0.,  3.,  2.,\n",
              "        15.,  5.,  0.,  0.,  1.,  3.,  6.,  0.,  0.,  0.,  0.,  0.,  4.,\n",
              "         9.,  0.,  1.,  0., 11., 18.,  1.,  2.,  1.,  0.,  0.,  0.,  0.,\n",
              "         0.,  2.,  8.,  2.,  1.,  1., 15., 28., 11.,  2.,  5.,  0.,  0.,\n",
              "         0.,  0.,  0.,  0.,  0.,  0.,  1.,  0.,  3., 10.,  8.,  4.,  2.,\n",
              "         0.,  0.,  0.,  0.,  0.,  0.,  2.,  1.,  5.,  2.,  0.,  4.,  7.,\n",
              "        13.,  8.,  0.,  0.,  0.,  0.,  0.,  0.,  2.,  2.,  2.,  2.,  0.,\n",
              "         0.,  2., 16., 10.],\n",
              "       [ 1.,  2.,  1.,  1.,  0.,  1.,  0.,  0.,  0.,  0.,  0.,  0.,  0.,\n",
              "         0.,  0.,  2.,  4.,  7.,  2.,  0.,  2.,  1.,  1.,  2.,  0.,  0.,\n",
              "         0.,  0.,  0.,  0.,  2.,  4.,  5.,  2.,  4.,  2.,  3.,  1.,  2.,\n",
              "         3.,  0.,  0.,  0.,  0.,  1.,  0.,  2.,  5.,  4.,  2.,  0.,  0.,\n",
              "         1.,  1.,  3.,  0.,  0.,  0.,  0.,  0.,  0.,  0.,  3.,  6.,  4.,\n",
              "         0.,  0.,  0.,  0.,  2.,  0.,  0.,  0.,  0.,  0.,  0.,  3.,  2.,\n",
              "         0.,  0., 13., 12.,  2.,  1.,  0.,  6.,  1.,  0.,  0.,  0.,  0.,\n",
              "         0.,  2.,  0.,  1., 13., 11., 14.,  8.,  1.,  6.,  3.,  1.,  0.,\n",
              "         1.,  0.,  1.,  0.,  0.,  0., 11., 13.,  8., 11.,  4.,  0.,  2.,\n",
              "         0.,  3.,  3.,  0.,  2.,  3.,  1.,  1.,  2., 13.,  9., 14., 10.,\n",
              "         0.,  0.,  1.,  1.,  2.,  0.,  0.,  2.,  0.,  3.,  0.,  1.,  4.,\n",
              "         9.,  0.,  0.,  0.,  0.,  1.,  3.,  0.,  0.,  0.,  0.,  0.,  2.,\n",
              "         3.,  0.,  0.,  0., 14.,  8.,  1.,  0.,  0.,  0.,  0.,  0.,  0.,\n",
              "         0.,  0.,  2.,  1.,  0.,  0.,  4.,  2.,  2.,  1.,  0.,  0.,  0.,\n",
              "         0.,  0.,  0.,  0.,  0.,  0.,  0.,  0.,  0.,  0.,  2.,  1.,  0.,\n",
              "         0.,  0.,  1.,  0.,  0.,  0.,  0.,  0.,  0.,  1.,  0.,  1.,  2.,\n",
              "         1.,  0.,  0.,  0.,  0.,  0.,  0.,  0.,  0.,  0.,  2.,  4.,  0.,\n",
              "         1.,  0.,  2.,  7.],\n",
              "       [ 4.,  4.,  2.,  0.,  0.,  1.,  3.,  1.,  0.,  0.,  0.,  0.,  0.,\n",
              "         0.,  0.,  0.,  3.,  4.,  0.,  2.,  5.,  4.,  3.,  3.,  1.,  3.,\n",
              "         0.,  0.,  0.,  0.,  3.,  1.,  2.,  1.,  2.,  1.,  4.,  6.,  0.,\n",
              "         4.,  0.,  0.,  0.,  0.,  0.,  1.,  2.,  3.,  1.,  0.,  1.,  0.,\n",
              "         2.,  1.,  0.,  0.,  0.,  0.,  0.,  0.,  0.,  0.,  1.,  3.,  0.,\n",
              "         0.,  0.,  0.,  1.,  3.,  0.,  0.,  0.,  0.,  0.,  2.,  4.,  0.,\n",
              "         0.,  0., 13., 12.,  2.,  0.,  1.,  6.,  0.,  1.,  0.,  0.,  1.,\n",
              "         2.,  0.,  1.,  0., 10., 15., 11.,  7.,  0.,  5.,  4.,  3.,  3.,\n",
              "         0.,  1.,  0.,  4.,  0.,  1.,  9., 11., 12.,  9., 10.,  2.,  2.,\n",
              "         0.,  4.,  1.,  0.,  3.,  2.,  1.,  2.,  1.,  4., 10., 12., 10.,\n",
              "         1.,  0.,  1.,  4.,  4.,  0.,  0.,  2.,  2.,  0.,  0.,  1.,  5.,\n",
              "        15., 22.,  0.,  0.,  0.,  0.,  6.,  0.,  1.,  0.,  0.,  0.,  4.,\n",
              "         5.,  0.,  0.,  0.,  8.,  5.,  2.,  0.,  0.,  0.,  0.,  0.,  0.,\n",
              "         0.,  0.,  3.,  1.,  0.,  0.,  3.,  5.,  2.,  0.,  1.,  0.,  0.,\n",
              "         0.,  0.,  0.,  0.,  0.,  2.,  1.,  0.,  1.,  4.,  4.,  2.,  0.,\n",
              "         0.,  0.,  0.,  0.,  0.,  0.,  0.,  1.,  3.,  1.,  0.,  0.,  4.,\n",
              "         3.,  5.,  0.,  0.,  0.,  0.,  0.,  0.,  0.,  0.,  3.,  4.,  0.,\n",
              "         0.,  2.,  7.,  8.],\n",
              "       [ 2.,  1.,  3.,  0.,  0.,  0.,  0.,  0.,  0.,  0.,  0.,  0.,  0.,\n",
              "         0.,  0.,  1.,  1.,  7.,  3.,  0.,  2.,  3.,  0.,  1.,  1.,  0.,\n",
              "         0.,  0.,  1.,  0.,  0.,  5.,  8.,  8.,  5.,  1.,  4.,  3.,  8.,\n",
              "         5.,  0.,  0.,  0.,  0.,  0.,  0.,  2.,  3.,  3.,  2.,  0.,  2.,\n",
              "         1.,  4.,  5.,  0.,  0.,  0.,  0.,  0.,  0.,  0.,  1.,  4.,  0.,\n",
              "         0.,  0.,  1.,  3.,  2.,  0.,  0.,  0.,  0.,  0.,  0.,  1.,  0.,\n",
              "         0.,  0.,  7.,  4.,  4.,  0.,  0.,  3.,  0.,  0.,  0.,  0.,  0.,\n",
              "         3.,  2.,  0.,  0.,  8., 11.,  2.,  5.,  3.,  0.,  1.,  2.,  0.,\n",
              "         1.,  0.,  1.,  3.,  0.,  0.,  0.,  9.,  5.,  5.,  5.,  2.,  1.,\n",
              "         2.,  0.,  4.,  0.,  0.,  3.,  3.,  0.,  1.,  8.,  3.,  6., 11.,\n",
              "         0.,  0.,  1.,  1., 10.,  0.,  0.,  3.,  3.,  4.,  0.,  1.,  4.,\n",
              "        13., 28.,  1.,  0.,  0.,  0., 11.,  0.,  0.,  0.,  0.,  0.,  1.,\n",
              "         0.,  0.,  0.,  0.,  7.,  1.,  0.,  0.,  0.,  0.,  0.,  0.,  0.,\n",
              "         0.,  0.,  2.,  1.,  0.,  0.,  2.,  9.,  2.,  0.,  0.,  0.,  0.,\n",
              "         1.,  0.,  0.,  0.,  0.,  0.,  0.,  0.,  0.,  2.,  3.,  3.,  2.,\n",
              "         0.,  0.,  0.,  0.,  0.,  0.,  0.,  2.,  0.,  0.,  0.,  2.,  1.,\n",
              "         3.,  5.,  0.,  0.,  0.,  0.,  0.,  0.,  0.,  1.,  6.,  5.,  0.,\n",
              "         0.,  1.,  7., 36.]])"
            ]
          },
          "metadata": {
            "tags": []
          },
          "execution_count": 44
        }
      ]
    },
    {
      "cell_type": "code",
      "metadata": {
        "id": "V10Fr5io8wNQ",
        "colab": {
          "base_uri": "https://localhost:8080/",
          "height": 71
        },
        "outputId": "f390d86f-16e9-4924-a2a6-825ab7f91d4c"
      },
      "source": [
        "peruMatrices = np.zeros((38, 225))\n",
        "peruMatrices = getTeamMatrices(15594)"
      ],
      "execution_count": null,
      "outputs": [
        {
          "output_type": "stream",
          "text": [
            "/usr/local/lib/python3.6/dist-packages/ipykernel_launcher.py:2: DeprecationWarning: The default dtype for empty Series will be 'object' instead of 'float64' in a future version. Specify a dtype explicitly to silence this warning.\n",
            "  \n"
          ],
          "name": "stderr"
        }
      ]
    },
    {
      "cell_type": "code",
      "metadata": {
        "id": "Z_LTg7LW8weN",
        "colab": {
          "base_uri": "https://localhost:8080/",
          "height": 935
        },
        "outputId": "4a702711-5879-4977-ee3f-f38d1253a74f"
      },
      "source": [
        "peruMatrices"
      ],
      "execution_count": null,
      "outputs": [
        {
          "output_type": "execute_result",
          "data": {
            "text/plain": [
              "array([[ 6.,  2.,  2.,  0.,  0., 11.,  1.,  0.,  0.,  0.,  0.,  1.,  0.,\n",
              "         0.,  0.,  4.,  1.,  1.,  0.,  0.,  3.,  1.,  0.,  1.,  0.,  0.,\n",
              "         0.,  0.,  0.,  0.,  1.,  2.,  3.,  4.,  3.,  3.,  2.,  3.,  3.,\n",
              "         2.,  0.,  1.,  0.,  1.,  0.,  0.,  2.,  2.,  2.,  1.,  0.,  2.,\n",
              "         1.,  4.,  0.,  0.,  0.,  0.,  0.,  1.,  0.,  0.,  2.,  3.,  4.,\n",
              "         0.,  0.,  0.,  3.,  1.,  0.,  0.,  1.,  0.,  0.,  1.,  1.,  2.,\n",
              "         1.,  0., 19.,  1.,  1.,  0.,  2.,  2.,  1.,  0.,  1.,  0.,  0.,\n",
              "         0.,  0.,  0.,  0.,  5.,  2.,  5.,  1.,  0.,  0.,  0.,  0.,  1.,\n",
              "         0.,  1.,  0.,  1.,  1.,  0.,  1.,  0.,  6.,  2.,  3.,  0.,  2.,\n",
              "         2.,  2.,  1.,  0.,  1.,  0.,  1.,  1.,  1.,  0.,  2.,  2.,  1.,\n",
              "         2.,  0.,  1.,  6.,  1.,  0.,  0.,  0.,  1.,  0.,  0.,  0.,  0.,\n",
              "         4.,  8.,  1.,  1.,  0.,  1.,  4.,  0.,  0.,  0.,  0.,  0.,  2.,\n",
              "         2.,  0.,  0.,  0., 12.,  4.,  2.,  3.,  0.,  0.,  0.,  0.,  0.,\n",
              "         0.,  0.,  1.,  0.,  0.,  0.,  7., 11.,  4.,  1.,  0.,  0.,  0.,\n",
              "         0.,  0.,  0.,  0.,  1.,  1.,  1.,  1.,  2.,  7.,  5.,  8.,  1.,\n",
              "         0.,  0.,  0.,  0.,  0.,  0.,  0.,  1.,  2.,  2.,  0.,  5.,  5.,\n",
              "         5.,  5.,  0.,  0.,  0.,  0.,  0.,  0.,  0.,  0.,  0.,  2.,  0.,\n",
              "         1.,  4.,  9., 15.],\n",
              "       [ 9.,  3.,  0.,  0.,  0.,  5.,  2.,  0.,  0.,  0.,  1.,  1.,  0.,\n",
              "         0.,  0.,  8.,  4.,  1.,  3.,  2.,  5.,  5.,  2.,  0.,  0.,  0.,\n",
              "         1.,  0.,  0.,  0.,  1.,  8.,  2.,  2.,  1.,  0.,  2.,  2.,  0.,\n",
              "         2.,  0.,  0.,  0.,  1.,  0.,  0.,  2.,  6.,  5.,  5.,  0.,  0.,\n",
              "         0.,  4.,  3.,  0.,  0.,  1.,  0.,  0.,  0.,  0.,  2.,  3.,  4.,\n",
              "         0.,  0.,  0.,  4.,  4.,  0.,  0.,  1.,  0.,  0.,  1.,  2.,  1.,\n",
              "         0.,  0., 14.,  6.,  2.,  0.,  1.,  4.,  5.,  0.,  0.,  0.,  2.,\n",
              "         1.,  3.,  1.,  0., 14., 18.,  5.,  4.,  1.,  4.,  7.,  0.,  1.,\n",
              "         1.,  0.,  0.,  3.,  1.,  1.,  2.,  9.,  7.,  4.,  1.,  0.,  0.,\n",
              "         1.,  1.,  1.,  0.,  1.,  2.,  1.,  1.,  1.,  7.,  7.,  9., 11.,\n",
              "         0.,  0.,  0.,  1.,  1.,  0.,  0.,  1.,  1.,  2.,  0.,  1.,  2.,\n",
              "         7., 15.,  0.,  0.,  0.,  2., 11.,  0.,  0.,  0.,  0.,  0.,  2.,\n",
              "         2.,  0.,  0.,  0., 13., 12.,  2.,  0.,  0.,  0.,  0.,  0.,  0.,\n",
              "         0.,  0.,  4.,  0.,  0.,  0.,  4.,  5.,  2.,  3.,  0.,  0.,  0.,\n",
              "         0.,  0.,  0.,  0.,  0.,  1.,  0.,  0.,  1.,  1.,  0.,  2.,  0.,\n",
              "         0.,  0.,  0.,  0.,  0.,  0.,  0.,  1.,  3.,  0.,  0.,  1.,  2.,\n",
              "         2.,  6.,  0.,  0.,  0.,  0.,  0.,  0.,  0.,  0.,  2.,  4.,  1.,\n",
              "         0.,  0.,  4.,  8.],\n",
              "       [20.,  2.,  0.,  0.,  0.,  7.,  0.,  0.,  0.,  0.,  0.,  0.,  0.,\n",
              "         0.,  0.,  4.,  3.,  3.,  0.,  0.,  1.,  5.,  2.,  0.,  1.,  0.,\n",
              "         0.,  0.,  0.,  0.,  1.,  2.,  2.,  4.,  0.,  1.,  3.,  4.,  1.,\n",
              "         0.,  0.,  2.,  0.,  0.,  0.,  0.,  3.,  1.,  2.,  3.,  0.,  4.,\n",
              "         0.,  1.,  2.,  0.,  0.,  0.,  0.,  0.,  0.,  1.,  2.,  3.,  9.,\n",
              "         0.,  1.,  0.,  1.,  1.,  0.,  0.,  0.,  0.,  0.,  1.,  1.,  0.,\n",
              "         1.,  0., 21., 11.,  4.,  1.,  0.,  5.,  2.,  0.,  0.,  0.,  0.,\n",
              "         0.,  2.,  0.,  0., 12.,  8.,  3.,  5.,  4.,  4.,  1.,  1.,  0.,\n",
              "         1.,  0.,  1.,  0.,  1.,  0.,  4.,  4.,  2.,  2.,  4.,  1.,  0.,\n",
              "         1.,  1.,  0.,  0.,  0.,  0.,  1.,  1.,  0.,  6.,  3.,  4.,  8.,\n",
              "         0.,  0.,  1.,  0.,  2.,  0.,  1.,  0.,  4.,  3.,  0.,  0.,  3.,\n",
              "         8., 11.,  0.,  0.,  0.,  0.,  2.,  0.,  0.,  0.,  0.,  0.,  5.,\n",
              "         2.,  0.,  0.,  0., 19.,  3.,  1.,  0.,  0.,  0.,  0.,  1.,  0.,\n",
              "         0.,  0.,  0.,  0.,  0.,  0.,  1.,  2.,  1.,  1.,  1.,  0.,  0.,\n",
              "         0.,  0.,  0.,  0.,  0.,  0.,  1.,  0.,  0.,  0.,  1.,  1.,  1.,\n",
              "         0.,  0.,  0.,  0.,  0.,  0.,  0.,  0.,  0.,  0.,  0.,  0.,  1.,\n",
              "         1.,  2.,  0.,  0.,  0.,  0.,  0.,  0.,  0.,  0.,  1.,  1.,  0.,\n",
              "         0.,  0.,  3., 10.]])"
            ]
          },
          "metadata": {
            "tags": []
          },
          "execution_count": 46
        }
      ]
    },
    {
      "cell_type": "code",
      "metadata": {
        "id": "fWxVyyUk8wh1",
        "colab": {
          "base_uri": "https://localhost:8080/",
          "height": 71
        },
        "outputId": "c2b9487c-44a8-4588-ca6a-21b7545e6c8e"
      },
      "source": [
        "uruguayMatrices = np.zeros((38, 225))\n",
        "uruguayMatrices = getTeamMatrices(15670)"
      ],
      "execution_count": null,
      "outputs": [
        {
          "output_type": "stream",
          "text": [
            "/usr/local/lib/python3.6/dist-packages/ipykernel_launcher.py:2: DeprecationWarning: The default dtype for empty Series will be 'object' instead of 'float64' in a future version. Specify a dtype explicitly to silence this warning.\n",
            "  \n"
          ],
          "name": "stderr"
        }
      ]
    },
    {
      "cell_type": "code",
      "metadata": {
        "id": "41DIDmCt8w5W",
        "colab": {
          "base_uri": "https://localhost:8080/",
          "height": 102
        },
        "outputId": "12734c07-8a2f-4716-d747-d59392a74b8d"
      },
      "source": [
        "uruguayMatrices"
      ],
      "execution_count": null,
      "outputs": [
        {
          "output_type": "execute_result",
          "data": {
            "text/plain": [
              "array([[ 2.,  1.,  1., ...,  0.,  8., 14.],\n",
              "       [ 3.,  1.,  1., ...,  1.,  3.,  4.],\n",
              "       [ 4.,  1.,  0., ...,  1.,  5.,  5.],\n",
              "       [ 0.,  3.,  1., ...,  3.,  1., 11.],\n",
              "       [ 0.,  1.,  0., ...,  3.,  6., 11.]])"
            ]
          },
          "metadata": {
            "tags": []
          },
          "execution_count": 48
        }
      ]
    },
    {
      "cell_type": "code",
      "metadata": {
        "id": "yoZA943T8w9H",
        "colab": {
          "base_uri": "https://localhost:8080/",
          "height": 71
        },
        "outputId": "6225e37d-1428-4735-fe86-250a748f26d5"
      },
      "source": [
        "colombiaMatrices = np.zeros((38, 225))\n",
        "colombiaMatrices = getTeamMatrices(12430)"
      ],
      "execution_count": null,
      "outputs": [
        {
          "output_type": "stream",
          "text": [
            "/usr/local/lib/python3.6/dist-packages/ipykernel_launcher.py:2: DeprecationWarning: The default dtype for empty Series will be 'object' instead of 'float64' in a future version. Specify a dtype explicitly to silence this warning.\n",
            "  \n"
          ],
          "name": "stderr"
        }
      ]
    },
    {
      "cell_type": "code",
      "metadata": {
        "id": "NGcaBNkU8xU_",
        "colab": {
          "base_uri": "https://localhost:8080/",
          "height": 1000
        },
        "outputId": "a06f3f78-a95b-4f7a-bfdf-46872c0edc8e"
      },
      "source": [
        "colombiaMatrices"
      ],
      "execution_count": null,
      "outputs": [
        {
          "output_type": "execute_result",
          "data": {
            "text/plain": [
              "array([[ 2.,  4.,  1.,  0.,  0.,  6.,  7.,  0.,  0.,  1.,  0.,  0.,  0.,\n",
              "         0.,  0.,  7.,  3.,  2.,  3.,  0.,  6.,  4.,  3.,  0.,  2.,  0.,\n",
              "         0.,  0.,  0.,  0.,  2.,  1.,  1.,  1.,  1.,  0.,  2.,  0.,  2.,\n",
              "         2.,  0.,  0.,  0.,  0.,  0.,  2.,  4.,  4.,  1.,  2.,  0.,  1.,\n",
              "         3.,  6.,  3.,  0.,  0.,  0.,  2.,  0.,  0.,  1.,  0.,  6.,  5.,\n",
              "         0.,  0.,  0.,  1.,  0.,  0.,  0.,  0.,  0.,  0.,  4.,  4.,  1.,\n",
              "         0.,  0.,  8.,  8.,  1.,  0.,  0.,  7.,  3.,  0.,  1.,  0.,  2.,\n",
              "         2.,  0.,  1.,  0.,  9.,  7.,  6.,  0.,  1.,  3.,  1.,  0.,  0.,\n",
              "         0.,  0.,  0.,  1.,  3.,  0.,  3.,  4.,  3.,  4.,  2.,  1.,  0.,\n",
              "         1.,  3.,  0.,  0.,  2.,  1.,  1.,  0.,  0.,  1.,  2.,  4.,  2.,\n",
              "         1.,  0.,  1.,  6.,  6.,  0.,  1.,  0.,  4.,  0.,  0.,  0.,  2.,\n",
              "         3.,  7.,  0.,  0.,  1.,  2.,  3.,  0.,  0.,  0.,  0.,  0.,  2.,\n",
              "         1.,  0.,  0.,  0.,  5.,  1.,  3.,  0.,  0.,  0.,  0.,  0.,  0.,\n",
              "         0.,  1.,  2.,  0.,  1.,  0.,  2.,  0.,  1.,  1.,  0.,  0.,  0.,\n",
              "         0.,  0.,  0.,  0.,  0.,  1.,  0.,  0.,  0.,  0.,  0.,  2.,  0.,\n",
              "         0.,  0.,  0.,  0.,  0.,  0.,  0.,  0.,  2.,  2.,  0.,  0.,  2.,\n",
              "         4.,  1.,  0.,  0.,  0.,  0.,  0.,  0.,  0.,  0.,  3.,  3.,  0.,\n",
              "         0.,  1.,  2.,  3.],\n",
              "       [ 3.,  3.,  4.,  0.,  1.,  2.,  1.,  0.,  0.,  0.,  0.,  0.,  0.,\n",
              "         0.,  0.,  3.,  5.,  3.,  1.,  0.,  1.,  5.,  2.,  3.,  0.,  0.,\n",
              "         1.,  0.,  0.,  0.,  1.,  0.,  1.,  7.,  3.,  2.,  1.,  2.,  6.,\n",
              "         2.,  0.,  0.,  0.,  1.,  0.,  1.,  2.,  4.,  2.,  4.,  0.,  0.,\n",
              "         4.,  3.,  2.,  0.,  0.,  0.,  0.,  0.,  0.,  0.,  0.,  6.,  0.,\n",
              "         0.,  0.,  0.,  4.,  5.,  0.,  0.,  0.,  0.,  0.,  1.,  1.,  0.,\n",
              "         0.,  0.,  4.,  8.,  4.,  0.,  0.,  1.,  1.,  0.,  0.,  0.,  1.,\n",
              "         1.,  3.,  0.,  0.,  7., 17., 10.,  4.,  1.,  7.,  1.,  0.,  1.,\n",
              "         1.,  0.,  1.,  1.,  1.,  0.,  2.,  9., 13.,  5.,  1.,  0.,  1.,\n",
              "         1.,  4.,  2.,  0.,  3.,  0.,  1.,  0.,  0.,  3.,  9., 15., 17.,\n",
              "         1.,  1.,  2.,  0.,  9.,  0.,  2.,  1.,  3.,  2.,  1.,  0.,  2.,\n",
              "        11., 10.,  1.,  0.,  0.,  4.,  1.,  0.,  0.,  0.,  0.,  0.,  2.,\n",
              "         4.,  0.,  0.,  0.,  4.,  2.,  2.,  0.,  0.,  0.,  0.,  0.,  0.,\n",
              "         0.,  2.,  1.,  0.,  0.,  0.,  2.,  0.,  4.,  0.,  0.,  0.,  0.,\n",
              "         0.,  0.,  0.,  0.,  0.,  1.,  0.,  0.,  0.,  4.,  0.,  2.,  0.,\n",
              "         0.,  0.,  0.,  0.,  0.,  0.,  0.,  1.,  1.,  2.,  0.,  0.,  3.,\n",
              "         6., 10.,  0.,  0.,  0.,  0.,  0.,  0.,  0.,  1.,  4.,  5.,  0.,\n",
              "         0.,  4., 10., 24.],\n",
              "       [11.,  4.,  5.,  0.,  0.,  4.,  3.,  0.,  0.,  0.,  1.,  0.,  0.,\n",
              "         0.,  0.,  6.,  3.,  2.,  6.,  1.,  1.,  4.,  3.,  2.,  3.,  0.,\n",
              "         0.,  0.,  0.,  0.,  4.,  8.,  3.,  5.,  5.,  0.,  2.,  1.,  2.,\n",
              "         1.,  1.,  0.,  0.,  0.,  0.,  2.,  8.,  6.,  4.,  9.,  0.,  0.,\n",
              "         0.,  3.,  4.,  0.,  0.,  0.,  0.,  0.,  0.,  2.,  3.,  5.,  7.,\n",
              "         0.,  1.,  1.,  4.,  6.,  0.,  0.,  0.,  0.,  0.,  1.,  1.,  0.,\n",
              "         0.,  0.,  5.,  3.,  0.,  0.,  0.,  3.,  0.,  0.,  0.,  0.,  1.,\n",
              "         3.,  1.,  1.,  0.,  3., 13.,  7.,  1.,  1.,  3.,  2.,  1.,  0.,\n",
              "         1.,  2.,  0.,  0.,  0.,  0.,  0.,  4.,  4.,  8.,  2.,  2.,  0.,\n",
              "         1.,  2.,  1.,  0.,  1.,  0.,  2.,  1.,  1.,  3.,  6.,  5., 10.,\n",
              "         0.,  0.,  2.,  2.,  0.,  0.,  0.,  2.,  2.,  2.,  0.,  1.,  0.,\n",
              "         4., 16.,  0.,  0.,  1.,  2.,  5.,  0.,  0.,  0.,  0.,  0.,  0.,\n",
              "         1.,  0.,  0.,  1.,  3.,  0.,  0.,  0.,  0.,  0.,  0.,  0.,  0.,\n",
              "         0.,  0.,  0.,  0.,  0.,  0.,  1.,  3.,  2.,  0.,  1.,  0.,  0.,\n",
              "         0.,  0.,  0.,  0.,  0.,  0.,  0.,  0.,  0.,  1.,  1.,  2.,  0.,\n",
              "         0.,  0.,  0.,  0.,  0.,  0.,  0.,  0.,  0.,  1.,  1.,  2.,  1.,\n",
              "         2.,  5.,  0.,  0.,  0.,  0.,  0.,  0.,  0.,  0.,  2.,  1.,  0.,\n",
              "         1.,  0.,  6., 10.],\n",
              "       [ 6.,  5.,  3.,  0.,  0.,  7.,  2.,  1.,  0.,  0.,  0.,  0.,  0.,\n",
              "         0.,  0.,  5.,  7.,  2.,  4.,  2.,  5.,  4.,  4.,  2.,  1.,  0.,\n",
              "         0.,  0.,  1.,  0.,  3.,  4.,  2.,  4.,  5.,  2.,  3.,  4.,  2.,\n",
              "         2.,  0.,  0.,  0.,  0.,  0.,  1.,  8.,  4.,  1.,  5.,  0.,  2.,\n",
              "         2.,  2.,  5.,  0.,  0.,  0.,  1.,  0.,  0.,  1.,  3.,  3.,  5.,\n",
              "         0.,  1.,  1.,  5.,  5.,  0.,  0.,  0.,  0.,  1.,  4.,  2.,  1.,\n",
              "         0.,  0.,  6.,  9.,  1.,  1.,  0.,  6.,  3.,  0.,  0.,  0.,  0.,\n",
              "         1.,  1.,  0.,  0., 10.,  6.,  5.,  4.,  3.,  5.,  2.,  1.,  0.,\n",
              "         0.,  0.,  2.,  2.,  0.,  0.,  2.,  3.,  4.,  5.,  4.,  0.,  0.,\n",
              "         1.,  2.,  2.,  0.,  0.,  0.,  3.,  0.,  1.,  8.,  2., 10., 13.,\n",
              "         0.,  0.,  1.,  1.,  4.,  0.,  0.,  1.,  6.,  2.,  1.,  2.,  4.,\n",
              "         9.,  8.,  1.,  0.,  1.,  6.,  7.,  0.,  0.,  0.,  0.,  0.,  2.,\n",
              "         3.,  1.,  0.,  0.,  8.,  3.,  2.,  0.,  1.,  0.,  0.,  0.,  0.,\n",
              "         0.,  0.,  0.,  0.,  0.,  0.,  3.,  2.,  2.,  1.,  0.,  0.,  0.,\n",
              "         0.,  0.,  0.,  1.,  2.,  0.,  0.,  0.,  0.,  1.,  1.,  3.,  1.,\n",
              "         0.,  0.,  0.,  0.,  0.,  0.,  0.,  1.,  0.,  1.,  1.,  0.,  4.,\n",
              "         5.,  4.,  0.,  0.,  0.,  0.,  0.,  0.,  0.,  0.,  3.,  1.,  0.,\n",
              "         1.,  1.,  7.,  3.]])"
            ]
          },
          "metadata": {
            "tags": []
          },
          "execution_count": 50
        }
      ]
    },
    {
      "cell_type": "code",
      "metadata": {
        "id": "N8_HvaDD8xYV",
        "colab": {
          "base_uri": "https://localhost:8080/",
          "height": 71
        },
        "outputId": "ad42a690-37d7-4a83-fc69-b6813bb3c586"
      },
      "source": [
        "belgiumMatrices = np.zeros((38, 225))\n",
        "belgiumMatrices = getTeamMatrices(5629)"
      ],
      "execution_count": null,
      "outputs": [
        {
          "output_type": "stream",
          "text": [
            "/usr/local/lib/python3.6/dist-packages/ipykernel_launcher.py:2: DeprecationWarning: The default dtype for empty Series will be 'object' instead of 'float64' in a future version. Specify a dtype explicitly to silence this warning.\n",
            "  \n"
          ],
          "name": "stderr"
        }
      ]
    },
    {
      "cell_type": "code",
      "metadata": {
        "id": "c5T_6ap08xqu",
        "colab": {
          "base_uri": "https://localhost:8080/",
          "height": 136
        },
        "outputId": "09101a30-a364-4d0e-ac8a-7ef1cbc64e33"
      },
      "source": [
        "belgiumMatrices"
      ],
      "execution_count": null,
      "outputs": [
        {
          "output_type": "execute_result",
          "data": {
            "text/plain": [
              "array([[ 0.,  3.,  1., ...,  2.,  4., 11.],\n",
              "       [ 1.,  6.,  0., ...,  3.,  3.,  9.],\n",
              "       [ 0.,  6.,  0., ...,  2.,  3.,  1.],\n",
              "       ...,\n",
              "       [ 1.,  5.,  2., ...,  1.,  1.,  0.],\n",
              "       [ 0.,  3.,  1., ...,  2.,  8., 11.],\n",
              "       [ 3.,  3.,  0., ...,  0.,  4.,  2.]])"
            ]
          },
          "metadata": {
            "tags": []
          },
          "execution_count": 52
        }
      ]
    },
    {
      "cell_type": "code",
      "metadata": {
        "id": "D_9T-lb58xuF",
        "colab": {
          "base_uri": "https://localhost:8080/",
          "height": 71
        },
        "outputId": "c874b130-0bc1-440d-a1cc-9bedf1ec157d"
      },
      "source": [
        "denmarkMatrices = np.zeros((38, 225))\n",
        "denmarkMatrices = getTeamMatrices(7712)"
      ],
      "execution_count": null,
      "outputs": [
        {
          "output_type": "stream",
          "text": [
            "/usr/local/lib/python3.6/dist-packages/ipykernel_launcher.py:2: DeprecationWarning: The default dtype for empty Series will be 'object' instead of 'float64' in a future version. Specify a dtype explicitly to silence this warning.\n",
            "  \n"
          ],
          "name": "stderr"
        }
      ]
    },
    {
      "cell_type": "code",
      "metadata": {
        "id": "zXWo892Y8x9P",
        "colab": {
          "base_uri": "https://localhost:8080/",
          "height": 1000
        },
        "outputId": "e98a53ca-6ad1-42b0-f904-7a47e3ed6922"
      },
      "source": [
        "denmarkMatrices"
      ],
      "execution_count": null,
      "outputs": [
        {
          "output_type": "execute_result",
          "data": {
            "text/plain": [
              "array([[ 7.,  1.,  0.,  0.,  0.,  1.,  2.,  0.,  0.,  1.,  0.,  0.,  0.,\n",
              "         0.,  0.,  4.,  6.,  2.,  1.,  0.,  1.,  2.,  0.,  1.,  0.,  0.,\n",
              "         1.,  0.,  0.,  0.,  1.,  2.,  3.,  0.,  2.,  0.,  2.,  2.,  6.,\n",
              "         1.,  0.,  0.,  0.,  1.,  2.,  0.,  0.,  1.,  2.,  0.,  0.,  0.,\n",
              "         0.,  1.,  2.,  1.,  0.,  0.,  0.,  1.,  0.,  0.,  2.,  1.,  0.,\n",
              "         0.,  0.,  0.,  1.,  1.,  0.,  0.,  0.,  0.,  2.,  1.,  0.,  0.,\n",
              "         0.,  0.,  2.,  7.,  1.,  0.,  0.,  1.,  2.,  0.,  0.,  0.,  0.,\n",
              "         0.,  3.,  0.,  0.,  5.,  9.,  6.,  6.,  0.,  2.,  2.,  0.,  1.,\n",
              "         1.,  0.,  0.,  3.,  0.,  0.,  2.,  8.,  4.,  6.,  4.,  0.,  0.,\n",
              "         0.,  0.,  1.,  0.,  0.,  2.,  1.,  1.,  0.,  4.,  9.,  6.,  9.,\n",
              "         2.,  0.,  2.,  2.,  0.,  0.,  0.,  1.,  1.,  0.,  0.,  0.,  1.,\n",
              "        11., 11.,  1.,  0.,  0.,  3.,  3.,  0.,  0.,  0.,  0.,  0.,  3.,\n",
              "         0.,  0.,  0.,  0.,  9.,  5.,  1.,  0.,  0.,  0.,  0.,  0.,  0.,\n",
              "         0.,  0.,  1.,  0.,  0.,  0.,  4.,  8.,  2.,  1.,  0.,  0.,  0.,\n",
              "         0.,  0.,  0.,  0.,  0.,  1.,  0.,  0.,  0.,  2.,  0.,  1.,  2.,\n",
              "         0.,  0.,  0.,  0.,  0.,  0.,  0.,  0.,  0.,  1.,  0.,  1.,  0.,\n",
              "         5.,  6.,  0.,  0.,  0.,  0.,  0.,  0.,  0.,  0.,  0.,  1.,  0.,\n",
              "         0.,  3.,  1., 11.],\n",
              "       [ 2.,  3.,  1.,  0.,  0.,  1.,  1.,  2.,  0.,  0.,  0.,  0.,  0.,\n",
              "         0.,  0.,  4.,  2.,  4.,  9.,  1.,  1.,  2.,  2.,  1.,  1.,  0.,\n",
              "         0.,  0.,  0.,  0.,  0.,  3.,  1.,  1.,  1.,  0.,  2.,  0.,  2.,\n",
              "         1.,  0.,  0.,  0.,  0.,  0.,  0.,  5.,  0.,  4.,  3.,  0.,  3.,\n",
              "         5.,  6.,  4.,  0.,  1.,  0.,  2.,  0.,  0.,  2.,  1.,  3.,  0.,\n",
              "         0.,  1.,  0.,  0.,  1.,  0.,  0.,  0.,  0.,  0.,  0.,  4.,  0.,\n",
              "         0.,  0.,  4., 11.,  3.,  0.,  0.,  4.,  1.,  1.,  0.,  0.,  0.,\n",
              "         0.,  1.,  1.,  0., 10.,  6., 11.,  8.,  1.,  4.,  2.,  1.,  0.,\n",
              "         0.,  0.,  2.,  1.,  0.,  0.,  4., 10.,  9., 10.,  4.,  5.,  2.,\n",
              "         1.,  1.,  2.,  0.,  0.,  2.,  2.,  0.,  1.,  2.,  9.,  8., 15.,\n",
              "         2.,  1.,  4.,  0.,  4.,  0.,  0.,  1.,  1.,  0.,  0.,  0.,  1.,\n",
              "        12., 10.,  0.,  0.,  0.,  6.,  7.,  0.,  0.,  0.,  0.,  0.,  4.,\n",
              "         2.,  0.,  0.,  0., 11.,  9.,  1.,  1.,  0.,  0.,  0.,  0.,  0.,\n",
              "         0.,  0.,  0.,  1.,  0.,  0.,  4.,  5.,  3.,  0.,  0.,  0.,  0.,\n",
              "         0.,  0.,  0.,  0.,  1.,  0.,  1.,  0.,  3.,  1.,  2.,  2.,  1.,\n",
              "         0.,  0.,  0.,  0.,  0.,  0.,  1.,  1.,  0.,  0.,  2.,  1.,  2.,\n",
              "         4.,  2.,  0.,  0.,  0.,  0.,  0.,  0.,  0.,  0.,  2.,  3.,  0.,\n",
              "         2.,  2.,  5.,  7.],\n",
              "       [ 2.,  1.,  0.,  0.,  0.,  1.,  0.,  0.,  0.,  0.,  1.,  0.,  0.,\n",
              "         0.,  0.,  3.,  4.,  4.,  4.,  1.,  0.,  2.,  1.,  1.,  0.,  0.,\n",
              "         0.,  0.,  0.,  0.,  1.,  3.,  0.,  2.,  2.,  1.,  1.,  0.,  0.,\n",
              "         0.,  0.,  1.,  4.,  1.,  1.,  0.,  6.,  3.,  3.,  1.,  0.,  0.,\n",
              "         0.,  4.,  4.,  0.,  0.,  2.,  3.,  0.,  0.,  0.,  0.,  3.,  5.,\n",
              "         1.,  0.,  0.,  0.,  6.,  0.,  0.,  0.,  0.,  1.,  0.,  1.,  1.,\n",
              "         1.,  0.,  7.,  2.,  0.,  0.,  0.,  4.,  3.,  0.,  0.,  0.,  0.,\n",
              "         1.,  1.,  3.,  0.,  6.,  8.,  1.,  2.,  0.,  0.,  0.,  0.,  0.,\n",
              "         0.,  0.,  0.,  1.,  2.,  0.,  0.,  3.,  7.,  7.,  3.,  0.,  0.,\n",
              "         0.,  0.,  0.,  0.,  0.,  2.,  1.,  0.,  0.,  3.,  7.,  4.,  1.,\n",
              "         0.,  0.,  0.,  2.,  1.,  0.,  1.,  0.,  1.,  4.,  0.,  0.,  1.,\n",
              "         4., 10.,  0.,  0.,  0.,  0.,  5.,  0.,  0.,  0.,  0.,  0.,  0.,\n",
              "         1.,  0.,  0.,  0.,  3.,  0.,  1.,  0.,  0.,  0.,  0.,  0.,  0.,\n",
              "         0.,  0.,  1.,  0.,  0.,  0.,  2.,  0.,  1.,  0.,  0.,  0.,  0.,\n",
              "         0.,  0.,  0.,  0.,  0.,  0.,  0.,  0.,  0.,  1.,  0.,  0.,  0.,\n",
              "         0.,  0.,  0.,  0.,  0.,  0.,  0.,  1.,  2.,  0.,  0.,  1.,  0.,\n",
              "         6.,  4.,  0.,  0.,  0.,  0.,  0.,  0.,  0.,  0.,  0.,  3.,  0.,\n",
              "         0.,  0.,  6.,  3.],\n",
              "       [ 3.,  4.,  6.,  0.,  0.,  4.,  1.,  0.,  0.,  0.,  0.,  1.,  0.,\n",
              "         0.,  0.,  1.,  2.,  5.,  1.,  0.,  4.,  6.,  3.,  0.,  3.,  0.,\n",
              "         0.,  0.,  0.,  1.,  4.,  2.,  2.,  6.,  4.,  2.,  3.,  0.,  5.,\n",
              "         3.,  0.,  0.,  0.,  2.,  1.,  0.,  5.,  4.,  2.,  1.,  0.,  2.,\n",
              "         2., 13.,  8.,  0.,  0.,  1.,  0.,  4.,  0.,  1.,  1.,  5.,  3.,\n",
              "         0.,  0.,  0.,  2.,  5.,  0.,  0.,  0.,  1.,  0.,  1.,  3.,  3.,\n",
              "         2.,  0.,  5.,  8.,  0.,  1.,  0.,  2.,  4.,  0.,  0.,  0.,  0.,\n",
              "         2.,  1.,  2.,  0.,  7.,  9.,  7.,  7.,  0.,  1.,  5.,  1.,  2.,\n",
              "         1.,  0.,  3.,  1.,  2.,  0.,  2., 11.,  9.,  7.,  0.,  2.,  1.,\n",
              "         0.,  0.,  1.,  0.,  1.,  4.,  7.,  3.,  0.,  6., 13., 13., 11.,\n",
              "         0.,  1.,  1.,  4.,  5.,  0.,  0.,  1.,  6.,  2.,  0.,  0.,  1.,\n",
              "        13.,  9.,  0.,  0.,  0.,  3.,  5.,  0.,  0.,  0.,  0.,  0.,  3.,\n",
              "         0.,  0.,  0.,  0.,  1.,  2.,  0.,  1.,  0.,  0.,  0.,  0.,  0.,\n",
              "         0.,  1.,  2.,  0.,  0.,  0.,  2.,  1.,  3.,  0.,  0.,  0.,  0.,\n",
              "         0.,  0.,  0.,  0.,  1.,  0.,  0.,  1.,  0.,  1.,  3.,  1.,  1.,\n",
              "         0.,  0.,  0.,  0.,  0.,  0.,  0.,  0.,  0.,  0.,  1.,  0.,  5.,\n",
              "        11.,  4.,  0.,  0.,  0.,  0.,  0.,  0.,  0.,  0.,  1.,  2.,  0.,\n",
              "         0.,  0.,  4., 10.]])"
            ]
          },
          "metadata": {
            "tags": []
          },
          "execution_count": 54
        }
      ]
    },
    {
      "cell_type": "code",
      "metadata": {
        "id": "tgxBculc8yBA",
        "colab": {
          "base_uri": "https://localhost:8080/",
          "height": 71
        },
        "outputId": "cb2b1e53-612a-4ee9-8b34-f73efe476832"
      },
      "source": [
        "englandMatrices = np.zeros((38, 225))\n",
        "englandMatrices = getTeamMatrices(2413)"
      ],
      "execution_count": null,
      "outputs": [
        {
          "output_type": "stream",
          "text": [
            "/usr/local/lib/python3.6/dist-packages/ipykernel_launcher.py:2: DeprecationWarning: The default dtype for empty Series will be 'object' instead of 'float64' in a future version. Specify a dtype explicitly to silence this warning.\n",
            "  \n"
          ],
          "name": "stderr"
        }
      ]
    },
    {
      "cell_type": "code",
      "metadata": {
        "id": "6hEoboe-8yRm",
        "colab": {
          "base_uri": "https://localhost:8080/",
          "height": 136
        },
        "outputId": "e7f50626-71aa-4f0f-f623-0de43d7a35bc"
      },
      "source": [
        "englandMatrices"
      ],
      "execution_count": null,
      "outputs": [
        {
          "output_type": "execute_result",
          "data": {
            "text/plain": [
              "array([[ 2.,  5.,  1., ...,  0.,  8.,  7.],\n",
              "       [ 2.,  2.,  2., ...,  0.,  3.,  4.],\n",
              "       [ 1.,  8.,  3., ...,  1.,  2.,  2.],\n",
              "       ...,\n",
              "       [ 6.,  3.,  1., ...,  0., 10., 13.],\n",
              "       [ 8.,  1.,  2., ...,  1.,  5.,  8.],\n",
              "       [ 1.,  3.,  1., ...,  0., 13., 14.]])"
            ]
          },
          "metadata": {
            "tags": []
          },
          "execution_count": 56
        }
      ]
    },
    {
      "cell_type": "code",
      "metadata": {
        "id": "tEf1z9Sk8yVE",
        "colab": {
          "base_uri": "https://localhost:8080/",
          "height": 71
        },
        "outputId": "5e7da2a5-658d-402c-bd17-ae920bb31ec6"
      },
      "source": [
        "franceMatrices = np.zeros((38, 225))\n",
        "franceMatrices = getTeamMatrices(4418)"
      ],
      "execution_count": null,
      "outputs": [
        {
          "output_type": "stream",
          "text": [
            "/usr/local/lib/python3.6/dist-packages/ipykernel_launcher.py:2: DeprecationWarning: The default dtype for empty Series will be 'object' instead of 'float64' in a future version. Specify a dtype explicitly to silence this warning.\n",
            "  \n"
          ],
          "name": "stderr"
        }
      ]
    },
    {
      "cell_type": "code",
      "metadata": {
        "id": "BZNq0Lwy8yjn",
        "colab": {
          "base_uri": "https://localhost:8080/",
          "height": 136
        },
        "outputId": "9589c4e0-6055-4313-d233-2c76b0ddc2cd"
      },
      "source": [
        "franceMatrices"
      ],
      "execution_count": null,
      "outputs": [
        {
          "output_type": "execute_result",
          "data": {
            "text/plain": [
              "array([[ 2.,  1.,  2., ...,  1.,  5., 20.],\n",
              "       [ 3.,  4.,  1., ...,  0.,  4.,  1.],\n",
              "       [ 5.,  2.,  3., ...,  4., 13., 25.],\n",
              "       ...,\n",
              "       [ 5.,  3.,  2., ...,  2.,  4., 25.],\n",
              "       [ 4.,  4.,  1., ...,  3.,  2.,  9.],\n",
              "       [12.,  2.,  0., ...,  0.,  0.,  5.]])"
            ]
          },
          "metadata": {
            "tags": []
          },
          "execution_count": 58
        }
      ]
    },
    {
      "cell_type": "code",
      "metadata": {
        "id": "-kxYCHsA8ynD",
        "colab": {
          "base_uri": "https://localhost:8080/",
          "height": 71
        },
        "outputId": "73d77bb3-4a7d-40be-cbf6-17a036858701"
      },
      "source": [
        "croatiaMatrices = np.zeros((38, 225))\n",
        "croatiaMatrices = getTeamMatrices(9598)"
      ],
      "execution_count": null,
      "outputs": [
        {
          "output_type": "stream",
          "text": [
            "/usr/local/lib/python3.6/dist-packages/ipykernel_launcher.py:2: DeprecationWarning: The default dtype for empty Series will be 'object' instead of 'float64' in a future version. Specify a dtype explicitly to silence this warning.\n",
            "  \n"
          ],
          "name": "stderr"
        }
      ]
    },
    {
      "cell_type": "code",
      "metadata": {
        "id": "gz4pMHk08y33",
        "colab": {
          "base_uri": "https://localhost:8080/",
          "height": 136
        },
        "outputId": "9dafda9f-5939-4a1e-8d9d-bc9ff1405be0"
      },
      "source": [
        "croatiaMatrices"
      ],
      "execution_count": null,
      "outputs": [
        {
          "output_type": "execute_result",
          "data": {
            "text/plain": [
              "array([[ 3.,  1.,  3., ...,  0.,  2.,  8.],\n",
              "       [ 4.,  5.,  2., ...,  2.,  0.,  4.],\n",
              "       [ 5.,  2.,  1., ...,  3.,  1.,  8.],\n",
              "       ...,\n",
              "       [ 3.,  3.,  5., ...,  4.,  6., 14.],\n",
              "       [ 6.,  1.,  0., ...,  4.,  5., 20.],\n",
              "       [ 8.,  1.,  0., ...,  2.,  6.,  9.]])"
            ]
          },
          "metadata": {
            "tags": []
          },
          "execution_count": 60
        }
      ]
    },
    {
      "cell_type": "code",
      "metadata": {
        "id": "GySycjP28zCx",
        "colab": {
          "base_uri": "https://localhost:8080/",
          "height": 71
        },
        "outputId": "4b6ef0fc-ad76-4644-c380-ef1af5550868"
      },
      "source": [
        "germanyMatrices = np.zeros((38, 225))\n",
        "germanyMatrices = getTeamMatrices(3148)"
      ],
      "execution_count": null,
      "outputs": [
        {
          "output_type": "stream",
          "text": [
            "/usr/local/lib/python3.6/dist-packages/ipykernel_launcher.py:2: DeprecationWarning: The default dtype for empty Series will be 'object' instead of 'float64' in a future version. Specify a dtype explicitly to silence this warning.\n",
            "  \n"
          ],
          "name": "stderr"
        }
      ]
    },
    {
      "cell_type": "code",
      "metadata": {
        "id": "JWsOnpNs8zUo",
        "colab": {
          "base_uri": "https://localhost:8080/",
          "height": 935
        },
        "outputId": "28c972bc-4615-4cf9-8899-c7b0c181ad33"
      },
      "source": [
        "germanyMatrices"
      ],
      "execution_count": null,
      "outputs": [
        {
          "output_type": "execute_result",
          "data": {
            "text/plain": [
              "array([[ 2.,  2.,  1.,  1.,  0.,  1.,  0.,  0.,  0.,  0.,  0.,  0.,  0.,\n",
              "         0.,  0.,  2.,  3.,  3.,  3.,  1.,  1.,  2.,  1.,  1.,  0.,  0.,\n",
              "         0.,  0.,  0.,  0.,  1.,  1.,  2.,  2.,  0.,  1.,  5.,  1.,  1.,\n",
              "         2.,  0.,  0.,  0.,  0.,  0.,  0.,  3.,  3.,  4.,  2.,  0.,  0.,\n",
              "         1.,  4.,  4.,  0.,  0.,  0.,  0.,  0.,  0.,  0.,  1.,  1.,  3.,\n",
              "         0.,  0.,  0.,  0.,  0.,  0.,  0.,  0.,  0.,  0.,  0.,  1.,  1.,\n",
              "         0.,  0.,  6.,  6.,  3.,  0.,  0.,  4.,  0.,  2.,  0.,  0.,  0.,\n",
              "         1.,  1.,  1.,  0.,  4.,  7.,  4.,  6.,  2.,  4.,  1.,  0.,  1.,\n",
              "         1.,  0.,  0.,  0.,  0.,  0.,  2.,  3.,  3.,  9.,  6.,  4.,  0.,\n",
              "         3.,  1.,  4.,  0.,  0.,  0.,  6.,  0.,  1.,  2.,  9., 20., 21.,\n",
              "         3.,  1.,  5.,  8., 13.,  0.,  0.,  0.,  1.,  1.,  0.,  0.,  2.,\n",
              "        18., 16.,  1.,  0.,  2.,  3., 14.,  0.,  0.,  0.,  0.,  0.,  4.,\n",
              "         2.,  1.,  0.,  1., 16., 11.,  4.,  1.,  0.,  0.,  0.,  0.,  0.,\n",
              "         0.,  1.,  1.,  0.,  0.,  0.,  3.,  8.,  3.,  3.,  2.,  0.,  0.,\n",
              "         0.,  0.,  0.,  0.,  0.,  1.,  2.,  0.,  2.,  8.,  2.,  8.,  2.,\n",
              "         0.,  0.,  0.,  0.,  0.,  0.,  0.,  0.,  4.,  2.,  2.,  3.,  8.,\n",
              "        16., 14.,  0.,  0.,  0.,  0.,  0.,  0.,  0.,  0.,  4., 12.,  0.,\n",
              "         1.,  8., 14., 20.],\n",
              "       [10.,  5.,  2.,  3.,  0.,  0.,  1.,  0.,  0.,  0.,  0.,  0.,  0.,\n",
              "         0.,  0.,  4.,  5.,  6.,  3.,  0.,  2.,  3.,  0.,  2.,  0.,  0.,\n",
              "         0.,  0.,  0.,  0.,  0.,  3.,  2.,  4.,  3.,  0.,  4.,  1.,  3.,\n",
              "         4.,  0.,  0.,  0.,  0.,  0.,  0.,  1.,  4.,  1.,  1.,  0.,  4.,\n",
              "         2.,  3.,  7.,  0.,  0.,  0.,  0.,  0.,  0.,  0.,  0.,  3.,  0.,\n",
              "         0.,  0.,  0.,  1.,  0.,  0.,  0.,  0.,  0.,  0.,  1.,  2.,  0.,\n",
              "         0.,  0.,  7., 12.,  3.,  1.,  0.,  5.,  0.,  0.,  0.,  0.,  0.,\n",
              "         0.,  3.,  0.,  0., 10., 18., 12., 15.,  3., 12.,  7.,  1.,  1.,\n",
              "         6.,  0.,  0.,  0.,  0.,  0.,  1., 20.,  7., 13.,  4.,  4.,  0.,\n",
              "         1.,  1.,  4.,  0.,  1.,  2.,  2.,  0.,  0., 10., 12.,  3., 12.,\n",
              "         4.,  4.,  2.,  0., 11.,  0.,  0.,  1.,  1.,  0.,  0.,  3.,  7.,\n",
              "        16.,  8.,  0.,  0.,  0.,  1., 10.,  0.,  0.,  0.,  0.,  0.,  3.,\n",
              "         5.,  2.,  1.,  0., 31., 15.,  3.,  0.,  1.,  0.,  0.,  0.,  0.,\n",
              "         0.,  0.,  2.,  1.,  0.,  0., 10.,  9.,  6.,  4.,  3.,  0.,  0.,\n",
              "         0.,  0.,  0.,  0.,  1.,  3.,  1.,  0.,  0.,  3.,  3.,  2.,  2.,\n",
              "         0.,  0.,  0.,  0.,  0.,  0.,  0.,  3.,  2.,  1.,  0.,  1.,  5.,\n",
              "         5., 15.,  0.,  0.,  0.,  0.,  0.,  0.,  0.,  1.,  5.,  3.,  1.,\n",
              "         2.,  9., 20., 37.],\n",
              "       [ 8.,  4.,  8.,  0.,  0.,  6.,  1.,  0.,  0.,  0.,  0.,  0.,  0.,\n",
              "         0.,  0.,  1.,  2.,  5.,  2.,  2.,  1.,  7.,  5.,  1.,  1.,  0.,\n",
              "         0.,  0.,  0.,  0.,  2.,  8.,  6.,  3.,  6.,  0.,  1.,  3.,  5.,\n",
              "         3.,  0.,  1.,  0.,  0.,  0.,  0.,  3.,  3.,  7.,  2.,  0.,  0.,\n",
              "         4.,  2.,  2.,  0.,  0.,  1.,  0.,  0.,  0.,  0.,  5.,  1.,  5.,\n",
              "         1.,  1.,  2.,  1.,  5.,  0.,  0.,  0.,  0.,  0.,  1.,  1.,  2.,\n",
              "         0.,  0.,  7., 10.,  4.,  0.,  0.,  4.,  1.,  1.,  0.,  0.,  0.,\n",
              "         1.,  1.,  0.,  0.,  5., 14.,  8., 10.,  0.,  6.,  3.,  6.,  1.,\n",
              "         1.,  0.,  1.,  1.,  4.,  0.,  2., 10., 16.,  6.,  7.,  4.,  1.,\n",
              "         2.,  6.,  8.,  0.,  1.,  2.,  1.,  0.,  0.,  3.,  9.,  4.,  8.,\n",
              "         2.,  0.,  2.,  5., 12.,  0.,  0.,  2.,  1.,  5.,  0.,  1.,  6.,\n",
              "        10., 13.,  0.,  0.,  0.,  1.,  5.,  0.,  0.,  0.,  0.,  0.,  5.,\n",
              "         4.,  1.,  0.,  0., 20., 17.,  2.,  0.,  0.,  0.,  0.,  0.,  0.,\n",
              "         0.,  2.,  1.,  2.,  1.,  0.,  8.,  9.,  4.,  4.,  2.,  0.,  0.,\n",
              "         0.,  0.,  0.,  0.,  4.,  1.,  1.,  0.,  4.,  5.,  7., 12.,  4.,\n",
              "         0.,  0.,  0.,  0.,  0.,  0.,  2.,  4.,  2.,  0.,  1.,  4.,  6.,\n",
              "         6., 13.,  0.,  0.,  0.,  0.,  0.,  0.,  0.,  1.,  7.,  4.,  0.,\n",
              "         0.,  8., 13., 29.]])"
            ]
          },
          "metadata": {
            "tags": []
          },
          "execution_count": 62
        }
      ]
    },
    {
      "cell_type": "code",
      "metadata": {
        "id": "2tjFmKvh8zaI",
        "colab": {
          "base_uri": "https://localhost:8080/",
          "height": 71
        },
        "outputId": "64911a4e-aa06-4901-a251-79ac237da00a"
      },
      "source": [
        "icelandMatrices = np.zeros((38, 225))\n",
        "icelandMatrices = getTeamMatrices(7839)"
      ],
      "execution_count": null,
      "outputs": [
        {
          "output_type": "stream",
          "text": [
            "/usr/local/lib/python3.6/dist-packages/ipykernel_launcher.py:2: DeprecationWarning: The default dtype for empty Series will be 'object' instead of 'float64' in a future version. Specify a dtype explicitly to silence this warning.\n",
            "  \n"
          ],
          "name": "stderr"
        }
      ]
    },
    {
      "cell_type": "code",
      "metadata": {
        "id": "ebkjmSHQ8zxi",
        "colab": {
          "base_uri": "https://localhost:8080/",
          "height": 935
        },
        "outputId": "16aa2ce9-3eec-411f-fa8b-43c82243d255"
      },
      "source": [
        "icelandMatrices"
      ],
      "execution_count": null,
      "outputs": [
        {
          "output_type": "execute_result",
          "data": {
            "text/plain": [
              "array([[ 0.,  0.,  0.,  0.,  0.,  1.,  1.,  1.,  0.,  0.,  0.,  0.,  0.,\n",
              "         0.,  0.,  1.,  3.,  1.,  1.,  0.,  1.,  0.,  0.,  0.,  0.,  1.,\n",
              "         2.,  0.,  0.,  0.,  1.,  2.,  5.,  5.,  2.,  0.,  1.,  2.,  0.,\n",
              "         1.,  0.,  2.,  0.,  1.,  0.,  0.,  0.,  2.,  4.,  2.,  0.,  1.,\n",
              "         0.,  3.,  1.,  0.,  0.,  1.,  0.,  0.,  0.,  0.,  0.,  1.,  0.,\n",
              "         0.,  0.,  0.,  1.,  2.,  1.,  0.,  0.,  1.,  1.,  0.,  1.,  2.,\n",
              "         0.,  0.,  2.,  3.,  0.,  1.,  0.,  0.,  1.,  0.,  0.,  0.,  1.,\n",
              "         0.,  2.,  0.,  0.,  5.,  2.,  1.,  0.,  0.,  4.,  0.,  0.,  0.,\n",
              "         0.,  0.,  0.,  1.,  0.,  0.,  2.,  4.,  1.,  1.,  0.,  2.,  2.,\n",
              "         0.,  1.,  0.,  0.,  0.,  0.,  0.,  1.,  0.,  0.,  4.,  2.,  0.,\n",
              "         0.,  0.,  2.,  1.,  1.,  0.,  0.,  0.,  0.,  0.,  0.,  0.,  0.,\n",
              "         1.,  4.,  1.,  0.,  0.,  0.,  1.,  0.,  0.,  0.,  0.,  0.,  1.,\n",
              "         0.,  0.,  1.,  1.,  5.,  3.,  0.,  0.,  0.,  0.,  0.,  0.,  0.,\n",
              "         0.,  0.,  1.,  0.,  0.,  0.,  1.,  3.,  1.,  0.,  0.,  0.,  0.,\n",
              "         0.,  0.,  0.,  0.,  0.,  1.,  0.,  0.,  0.,  1.,  1.,  0.,  0.,\n",
              "         0.,  0.,  0.,  0.,  0.,  0.,  0.,  0.,  1.,  0.,  0.,  1.,  1.,\n",
              "         2.,  1.,  0.,  0.,  0.,  0.,  0.,  0.,  0.,  0.,  0.,  1.,  0.,\n",
              "         0.,  1.,  0.,  0.],\n",
              "       [ 1.,  0.,  1.,  0.,  0.,  3.,  1.,  0.,  0.,  0.,  0.,  0.,  1.,\n",
              "         0.,  0.,  1.,  0.,  1.,  0.,  0.,  1.,  1.,  1.,  0.,  0.,  0.,\n",
              "         0.,  0.,  0.,  0.,  1.,  2.,  4.,  1.,  0.,  3.,  1.,  1.,  4.,\n",
              "         1.,  0.,  2.,  2.,  0.,  0.,  0.,  0.,  1.,  1.,  0.,  0.,  0.,\n",
              "         0.,  0.,  2.,  0.,  0.,  0.,  0.,  0.,  0.,  0.,  0.,  0.,  2.,\n",
              "         0.,  0.,  1.,  0.,  1.,  0.,  0.,  0.,  0.,  0.,  1.,  0.,  0.,\n",
              "         0.,  0., 11.,  8.,  1.,  1.,  1.,  2.,  2.,  1.,  0.,  0.,  2.,\n",
              "         0.,  4.,  0.,  0.,  4.,  6.,  4.,  0.,  1.,  4.,  2.,  1.,  1.,\n",
              "         2.,  0.,  0.,  0.,  0.,  1.,  1.,  6.,  5.,  5.,  2.,  1.,  0.,\n",
              "         0.,  2.,  0.,  0.,  0.,  2.,  0.,  0.,  0.,  0.,  0.,  8.,  4.,\n",
              "         0.,  0.,  0.,  4.,  7.,  0.,  0.,  0.,  1.,  0.,  0.,  0.,  1.,\n",
              "         5.,  6.,  0.,  0.,  0.,  4.,  5.,  0.,  0.,  0.,  0.,  0.,  0.,\n",
              "         0.,  0.,  0.,  0.,  9.,  0.,  0.,  0.,  1.,  0.,  0.,  0.,  0.,\n",
              "         0.,  0.,  1.,  0.,  0.,  0.,  0.,  1.,  0.,  0.,  1.,  0.,  0.,\n",
              "         0.,  0.,  0.,  0.,  0.,  0.,  2.,  0.,  0.,  1.,  3.,  1.,  0.,\n",
              "         0.,  0.,  0.,  0.,  0.,  0.,  0.,  0.,  0.,  0.,  0.,  1.,  3.,\n",
              "         4.,  0.,  0.,  0.,  0.,  0.,  0.,  0.,  0.,  0.,  1.,  4.,  1.,\n",
              "         0.,  1.,  5., 14.],\n",
              "       [ 2.,  2.,  0.,  0.,  0.,  1.,  1.,  0.,  0.,  0.,  0.,  0.,  0.,\n",
              "         0.,  0.,  2.,  1.,  0.,  0.,  0.,  0.,  4.,  1.,  0.,  1.,  0.,\n",
              "         0.,  0.,  0.,  0.,  0.,  1.,  3.,  1.,  1.,  3.,  1.,  2.,  2.,\n",
              "         2.,  2.,  0.,  0.,  0.,  0.,  0.,  0.,  4.,  2.,  3.,  2.,  0.,\n",
              "         0.,  2.,  2.,  0.,  0.,  0.,  0.,  0.,  0.,  0.,  0.,  0.,  2.,\n",
              "         0.,  0.,  1.,  2.,  3.,  0.,  0.,  0.,  0.,  0.,  0.,  0.,  2.,\n",
              "         0.,  0.,  9.,  2.,  1.,  0.,  0.,  2.,  0.,  2.,  0.,  0.,  0.,\n",
              "         0.,  1.,  2.,  0.,  5.,  7.,  3.,  2.,  1.,  0.,  1.,  1.,  0.,\n",
              "         1.,  0.,  0.,  0.,  0.,  0.,  2.,  5.,  6.,  6.,  2.,  1.,  0.,\n",
              "         0.,  2.,  0.,  0.,  0.,  2.,  0.,  0.,  1.,  1.,  4.,  9.,  7.,\n",
              "         1.,  0.,  1.,  3.,  5.,  0.,  0.,  1.,  4.,  1.,  0.,  0.,  1.,\n",
              "         6.,  4.,  0.,  1.,  0.,  0.,  5.,  0.,  0.,  0.,  0.,  0.,  0.,\n",
              "         0.,  0.,  0.,  0.,  7.,  1.,  2.,  0.,  0.,  0.,  0.,  0.,  0.,\n",
              "         0.,  0.,  0.,  0.,  0.,  0.,  2.,  1.,  1.,  0.,  0.,  0.,  0.,\n",
              "         0.,  0.,  0.,  0.,  0.,  0.,  1.,  0.,  2.,  0.,  0.,  2.,  0.,\n",
              "         0.,  0.,  0.,  0.,  0.,  0.,  0.,  0.,  0.,  0.,  0.,  2.,  3.,\n",
              "         4.,  1.,  0.,  0.,  0.,  0.,  0.,  0.,  0.,  0.,  0.,  1.,  1.,\n",
              "         1.,  1.,  3.,  7.]])"
            ]
          },
          "metadata": {
            "tags": []
          },
          "execution_count": 64
        }
      ]
    },
    {
      "cell_type": "code",
      "metadata": {
        "id": "lT4K1RAk8z01",
        "colab": {
          "base_uri": "https://localhost:8080/",
          "height": 71
        },
        "outputId": "b0745458-5f4b-4c03-98f6-68d4ad1c6652"
      },
      "source": [
        "polandMatrices = np.zeros((38, 225))\n",
        "polandMatrices = getTeamMatrices(13869)"
      ],
      "execution_count": null,
      "outputs": [
        {
          "output_type": "stream",
          "text": [
            "/usr/local/lib/python3.6/dist-packages/ipykernel_launcher.py:2: DeprecationWarning: The default dtype for empty Series will be 'object' instead of 'float64' in a future version. Specify a dtype explicitly to silence this warning.\n",
            "  \n"
          ],
          "name": "stderr"
        }
      ]
    },
    {
      "cell_type": "code",
      "metadata": {
        "id": "I9Sec_gF80Lf",
        "colab": {
          "base_uri": "https://localhost:8080/",
          "height": 935
        },
        "outputId": "9a971b77-c5c4-4a46-b578-d603081e2243"
      },
      "source": [
        "polandMatrices"
      ],
      "execution_count": null,
      "outputs": [
        {
          "output_type": "execute_result",
          "data": {
            "text/plain": [
              "array([[ 1.,  2.,  5.,  0.,  0.,  2.,  2.,  0.,  0.,  0.,  0.,  0.,  0.,\n",
              "         0.,  0.,  2.,  6.,  7.,  5.,  0.,  6.,  8.,  8.,  3.,  0.,  0.,\n",
              "         0.,  0.,  0.,  0.,  2., 10.,  1.,  3.,  1.,  2., 11.,  5.,  3.,\n",
              "         3.,  0.,  0.,  0.,  0.,  0.,  0.,  6.,  7.,  3.,  5.,  0.,  3.,\n",
              "         6.,  0.,  5.,  0.,  0.,  0.,  0.,  0.,  0.,  1.,  2.,  4.,  2.,\n",
              "         0.,  0.,  0.,  0.,  2.,  0.,  0.,  0.,  0.,  0.,  2.,  6.,  1.,\n",
              "         0.,  0.,  9., 15.,  7.,  0.,  0.,  3.,  2.,  1.,  0.,  1.,  0.,\n",
              "         4.,  1.,  3.,  0., 16.,  8., 18.,  7.,  2.,  2.,  7.,  1.,  0.,\n",
              "         2.,  0.,  3.,  1.,  3.,  0., 10., 13.,  6., 11.,  5.,  3.,  4.,\n",
              "         2.,  0.,  1.,  0.,  0.,  4.,  5.,  1.,  1.,  8.,  7.,  6.,  4.,\n",
              "         1.,  1.,  0.,  4.,  2.,  0.,  0.,  1.,  1.,  1.,  0.,  0.,  2.,\n",
              "        13.,  3.,  0.,  0.,  0.,  2.,  1.,  0.,  0.,  0.,  0.,  0.,  1.,\n",
              "         3.,  0.,  0.,  0.,  3.,  4.,  1.,  2.,  0.,  0.,  0.,  0.,  0.,\n",
              "         0.,  1.,  1.,  0.,  0.,  0.,  4.,  5.,  4.,  2.,  1.,  0.,  0.,\n",
              "         0.,  0.,  0.,  1.,  0.,  0.,  0.,  0.,  0.,  1.,  1.,  0.,  2.,\n",
              "         0.,  0.,  0.,  0.,  0.,  0.,  0.,  2.,  0.,  0.,  0.,  2.,  1.,\n",
              "         3.,  3.,  0.,  0.,  0.,  0.,  0.,  0.,  0.,  0.,  3.,  1.,  0.,\n",
              "         1.,  1.,  2.,  7.],\n",
              "       [ 1.,  2.,  2.,  1.,  0.,  4.,  1.,  0.,  0.,  0.,  0.,  0.,  1.,\n",
              "         0.,  0.,  2.,  1.,  5.,  2.,  0.,  4.,  3.,  3.,  1.,  0.,  0.,\n",
              "         0.,  0.,  0.,  0.,  3.,  3.,  4.,  3.,  4.,  1.,  0.,  3.,  4.,\n",
              "         4.,  0.,  2.,  0.,  0.,  4.,  1.,  2.,  4.,  4.,  2.,  1.,  0.,\n",
              "         0.,  2.,  3.,  0.,  0.,  0.,  1.,  0.,  0.,  0.,  3.,  2.,  1.,\n",
              "         0.,  0.,  3.,  2.,  0.,  0.,  0.,  0.,  1.,  0.,  0.,  3.,  3.,\n",
              "         0.,  0., 13.,  2.,  6.,  1.,  0.,  3.,  2.,  0.,  1.,  0.,  1.,\n",
              "         1.,  4.,  1.,  0.,  6.,  7.,  5.,  2.,  0.,  0.,  2.,  2.,  0.,\n",
              "         0.,  0.,  2.,  4.,  1.,  1.,  4.,  5.,  7.,  6.,  5.,  0.,  0.,\n",
              "         0.,  4.,  0.,  0.,  1.,  0.,  3.,  1.,  0.,  4.,  2.,  3.,  7.,\n",
              "         1.,  1.,  0.,  2.,  7.,  0.,  1.,  0.,  2.,  0.,  0.,  1.,  3.,\n",
              "         8.,  8.,  0.,  0.,  2.,  5.,  5.,  0.,  0.,  0.,  0.,  0.,  3.,\n",
              "         1.,  0.,  0.,  0.,  7.,  1.,  0.,  1.,  0.,  0.,  0.,  0.,  0.,\n",
              "         0.,  0.,  1.,  0.,  0.,  0.,  0.,  2.,  1.,  0.,  0.,  0.,  0.,\n",
              "         0.,  0.,  0.,  0.,  0.,  0.,  1.,  0.,  0.,  1.,  6.,  0.,  0.,\n",
              "         0.,  0.,  0.,  0.,  0.,  0.,  1.,  3.,  1.,  1.,  0.,  1.,  2.,\n",
              "         3.,  3.,  0.,  0.,  0.,  0.,  0.,  0.,  0.,  0.,  1.,  2.,  0.,\n",
              "         0.,  2.,  4., 10.],\n",
              "       [ 0.,  3.,  1.,  1.,  1.,  0.,  1.,  0.,  0.,  1.,  0.,  0.,  0.,\n",
              "         0.,  0.,  2.,  1.,  3.,  2.,  8.,  8.,  3.,  2.,  1.,  0.,  1.,\n",
              "         0.,  0.,  0.,  1.,  2.,  3.,  2.,  7.,  7.,  1.,  1.,  1.,  2.,\n",
              "         2.,  1.,  0.,  0.,  1.,  0.,  1.,  3.,  0.,  0.,  1.,  1.,  5.,\n",
              "         0.,  2.,  5.,  0.,  0.,  0.,  0.,  0.,  1.,  8.,  3.,  2.,  6.,\n",
              "         0.,  0.,  1.,  4.,  6.,  0.,  0.,  0.,  0.,  0.,  1.,  7.,  1.,\n",
              "         1.,  0., 12., 12.,  3.,  3.,  0.,  2.,  3.,  0.,  1.,  1.,  0.,\n",
              "         3.,  1.,  1.,  3., 11.,  8.,  3.,  3.,  1.,  6.,  2.,  0.,  1.,\n",
              "         1.,  0.,  0.,  2.,  2.,  1.,  1.,  3.,  5.,  1.,  1.,  2.,  0.,\n",
              "         2.,  2.,  2.,  0.,  3.,  2.,  2.,  1.,  3.,  3.,  2.,  4.,  9.,\n",
              "         1.,  1.,  0.,  1.,  2.,  0.,  2.,  2.,  3.,  6.,  1.,  4.,  0.,\n",
              "         7., 17.,  0.,  0.,  0.,  1.,  6.,  0.,  0.,  0.,  0.,  0.,  7.,\n",
              "         1.,  0.,  0.,  0.,  5.,  3.,  2.,  0.,  0.,  0.,  0.,  0.,  0.,\n",
              "         0.,  1.,  0.,  1.,  1.,  0.,  1.,  1.,  1.,  0.,  0.,  0.,  0.,\n",
              "         0.,  0.,  0.,  0.,  1.,  0.,  0.,  0.,  2.,  0.,  1.,  1.,  0.,\n",
              "         0.,  0.,  0.,  0.,  0.,  0.,  0.,  0.,  0.,  0.,  0.,  1.,  2.,\n",
              "         0.,  4.,  0.,  0.,  0.,  0.,  0.,  0.,  0.,  0.,  1.,  4.,  0.,\n",
              "         0.,  1.,  3.,  8.]])"
            ]
          },
          "metadata": {
            "tags": []
          },
          "execution_count": 66
        }
      ]
    },
    {
      "cell_type": "code",
      "metadata": {
        "id": "W9jeu_yR80PM",
        "colab": {
          "base_uri": "https://localhost:8080/",
          "height": 71
        },
        "outputId": "80f6512c-0625-4ce6-e719-dcf3ae40dca3"
      },
      "source": [
        "portugalMatrices = np.zeros((38, 225))\n",
        "portugalMatrices = getTeamMatrices(9905)"
      ],
      "execution_count": null,
      "outputs": [
        {
          "output_type": "stream",
          "text": [
            "/usr/local/lib/python3.6/dist-packages/ipykernel_launcher.py:2: DeprecationWarning: The default dtype for empty Series will be 'object' instead of 'float64' in a future version. Specify a dtype explicitly to silence this warning.\n",
            "  \n"
          ],
          "name": "stderr"
        }
      ]
    },
    {
      "cell_type": "code",
      "metadata": {
        "id": "re4QjGaxG83r",
        "colab": {
          "base_uri": "https://localhost:8080/",
          "height": 1000
        },
        "outputId": "82d52c42-5f52-4eb4-d13c-a9e1097a1167"
      },
      "source": [
        "portugalMatrices"
      ],
      "execution_count": null,
      "outputs": [
        {
          "output_type": "execute_result",
          "data": {
            "text/plain": [
              "array([[ 1.,  1.,  3.,  0.,  0.,  4.,  2.,  0.,  0.,  0.,  0.,  0.,  0.,\n",
              "         0.,  0.,  0.,  2.,  4.,  1.,  0.,  7.,  2.,  1.,  1.,  0.,  0.,\n",
              "         0.,  1.,  0.,  0.,  3.,  2.,  3.,  1.,  1.,  3.,  0.,  3.,  1.,\n",
              "         1.,  0.,  0.,  0.,  0.,  0.,  0.,  0.,  3.,  2.,  3.,  1.,  0.,\n",
              "         1.,  3.,  3.,  0.,  0.,  0.,  0.,  0.,  0.,  0.,  1.,  3.,  1.,\n",
              "         1.,  0.,  0.,  1.,  0.,  0.,  0.,  0.,  0.,  0.,  2.,  4.,  0.,\n",
              "         0.,  0., 10.,  9.,  3.,  0.,  0., 11.,  0.,  1.,  1.,  0.,  2.,\n",
              "         1.,  0.,  0.,  0.,  9., 10.,  6.,  5.,  0.,  6.,  1.,  1.,  1.,\n",
              "         0.,  1.,  2.,  0.,  0.,  0.,  6.,  4., 11.,  4.,  5.,  1.,  0.,\n",
              "         2.,  1.,  1.,  0.,  0.,  0.,  2.,  1.,  0.,  3.,  8.,  3.,  4.,\n",
              "         3.,  2.,  1.,  1.,  2.,  0.,  0.,  1.,  2.,  1.,  0.,  0.,  0.,\n",
              "         2.,  2.,  1.,  2.,  1.,  3.,  2.,  0.,  0.,  0.,  0.,  0.,  8.,\n",
              "         3.,  0.,  0.,  0.,  4.,  5.,  1.,  0.,  2.,  0.,  0.,  0.,  0.,\n",
              "         0.,  1.,  0.,  2.,  0.,  0.,  3.,  2.,  3.,  0.,  0.,  0.,  0.,\n",
              "         0.,  0.,  0.,  0.,  2.,  0.,  0.,  0.,  3.,  0.,  1.,  0.,  1.,\n",
              "         0.,  0.,  0.,  0.,  0.,  0.,  0.,  1.,  0.,  0.,  0.,  1.,  0.,\n",
              "         0.,  3.,  0.,  0.,  0.,  0.,  0.,  0.,  0.,  1.,  3.,  2.,  1.,\n",
              "         0.,  2.,  1.,  5.],\n",
              "       [11.,  5.,  1.,  1.,  0.,  7.,  2.,  1.,  1.,  1.,  0.,  0.,  0.,\n",
              "         0.,  0.,  6.,  3.,  5.,  4.,  1.,  6.,  3.,  0.,  0.,  0.,  0.,\n",
              "         1.,  0.,  0.,  0.,  4.,  2.,  4.,  2.,  1.,  2.,  2.,  4.,  4.,\n",
              "         2.,  0.,  0.,  0.,  0.,  0.,  1.,  2.,  0.,  1.,  3.,  0.,  0.,\n",
              "         3.,  5.,  3.,  0.,  0.,  0.,  0.,  0.,  0.,  0.,  1.,  1.,  3.,\n",
              "         0.,  1.,  0.,  2.,  1.,  0.,  1.,  0.,  0.,  1.,  2.,  1.,  0.,\n",
              "         0.,  0., 10.,  4.,  0.,  0.,  0.,  4.,  2.,  0.,  0.,  0.,  0.,\n",
              "         3.,  3.,  0.,  0.,  3.,  5.,  6.,  1.,  0.,  1.,  0.,  1.,  0.,\n",
              "         0.,  0.,  0.,  0.,  0.,  1.,  0.,  8.,  9.,  3.,  3.,  1.,  1.,\n",
              "         0.,  0.,  0.,  0.,  0.,  2.,  2.,  2.,  1.,  0.,  3.,  4., 11.,\n",
              "         0.,  0.,  0.,  0.,  1.,  0.,  0.,  0.,  2.,  2.,  0.,  0.,  0.,\n",
              "        11.,  5.,  0.,  1.,  0.,  1.,  4.,  0.,  0.,  0.,  0.,  0.,  2.,\n",
              "         0.,  0.,  0.,  0.,  0.,  2.,  1.,  0.,  0.,  0.,  0.,  0.,  0.,\n",
              "         0.,  1.,  0.,  1.,  0.,  0.,  0.,  2.,  3.,  1.,  0.,  0.,  0.,\n",
              "         0.,  0.,  0.,  1.,  0.,  0.,  0.,  0.,  0.,  1.,  2.,  2.,  0.,\n",
              "         0.,  0.,  0.,  0.,  0.,  0.,  0.,  0.,  1.,  1.,  0.,  0.,  1.,\n",
              "         1.,  1.,  0.,  0.,  0.,  0.,  0.,  0.,  0.,  1.,  0.,  4.,  0.,\n",
              "         0.,  1.,  3., 14.],\n",
              "       [ 4.,  5.,  1.,  0.,  0.,  2.,  4.,  0.,  1.,  0.,  0.,  0.,  0.,\n",
              "         0.,  0.,  2.,  8.,  6.,  4.,  0.,  4.,  6.,  0.,  1.,  1.,  0.,\n",
              "         0.,  0.,  0.,  0.,  2.,  4.,  2.,  4.,  0.,  1.,  3.,  2.,  2.,\n",
              "         4.,  0.,  0.,  0.,  0.,  0.,  0.,  5.,  4.,  4.,  3.,  1.,  1.,\n",
              "         0.,  3.,  3.,  0.,  0.,  0.,  0.,  0.,  0.,  0.,  0.,  2.,  4.,\n",
              "         0.,  0.,  0.,  1.,  0.,  0.,  0.,  0.,  0.,  0.,  2.,  5.,  2.,\n",
              "         0.,  0., 11., 15.,  2.,  1.,  0.,  8.,  1.,  0.,  0.,  0.,  2.,\n",
              "         1.,  1.,  0.,  0., 17., 20., 13.,  4.,  1., 10.,  7.,  2.,  0.,\n",
              "         0.,  0.,  1.,  0.,  0.,  0.,  4.,  7., 14., 14.,  3.,  2.,  2.,\n",
              "         0.,  2.,  2.,  0.,  0.,  1.,  2.,  0.,  4., 10.,  5.,  9., 11.,\n",
              "         2.,  3.,  1.,  4.,  9.,  0.,  0.,  1.,  2.,  0.,  0.,  1.,  3.,\n",
              "        14., 11.,  0.,  0.,  0.,  1., 10.,  0.,  0.,  0.,  0.,  0.,  5.,\n",
              "         7.,  0.,  0.,  0., 24., 15.,  1.,  0.,  0.,  0.,  0.,  0.,  0.,\n",
              "         0.,  0.,  5.,  3.,  0.,  0.,  8., 11.,  2.,  3.,  3.,  0.,  0.,\n",
              "         0.,  0.,  0.,  0.,  1.,  0.,  1.,  1.,  0.,  2.,  0.,  0.,  1.,\n",
              "         0.,  0.,  0.,  0.,  0.,  0.,  1.,  1.,  2.,  0.,  0.,  3.,  2.,\n",
              "         2.,  4.,  0.,  0.,  0.,  0.,  0.,  0.,  0.,  1.,  5.,  3.,  0.,\n",
              "         0.,  0.,  5., 14.],\n",
              "       [ 5.,  5.,  2.,  0.,  0.,  0.,  1.,  0.,  0.,  0.,  0.,  0.,  0.,\n",
              "         0.,  0.,  0.,  4.,  4.,  1.,  0.,  4.,  4.,  2.,  2.,  1.,  1.,\n",
              "         0.,  0.,  0.,  0.,  1.,  1.,  0.,  3.,  0.,  1.,  1.,  1.,  3.,\n",
              "         5.,  0.,  0.,  0.,  0.,  0.,  0.,  1.,  1.,  3.,  1.,  0.,  1.,\n",
              "         1.,  1.,  4.,  0.,  0.,  0.,  0.,  0.,  0.,  0.,  0.,  1.,  2.,\n",
              "         1.,  0.,  2.,  1.,  4.,  0.,  0.,  0.,  0.,  0.,  2.,  3.,  0.,\n",
              "         0.,  0., 12.,  9.,  3.,  0.,  0., 12.,  2.,  0.,  0.,  1.,  0.,\n",
              "         0.,  0.,  0.,  0.,  7.,  4.,  8.,  3.,  3.,  4.,  1.,  3.,  1.,\n",
              "         2.,  1.,  0.,  0.,  0.,  0.,  8.,  2.,  8.,  1.,  6.,  1.,  1.,\n",
              "         1.,  2.,  1.,  0.,  0.,  1.,  0.,  1.,  2.,  5.,  5.,  1.,  3.,\n",
              "         1.,  1.,  0.,  1.,  6.,  0.,  0.,  0.,  2.,  1.,  0.,  2.,  3.,\n",
              "         7., 18.,  0.,  0.,  0.,  1.,  9.,  0.,  0.,  0.,  0.,  0.,  3.,\n",
              "         2.,  0.,  0.,  0., 26.,  9.,  7.,  3.,  1.,  0.,  0.,  0.,  0.,\n",
              "         0.,  0.,  1.,  0.,  0.,  0.,  8.,  7.,  0.,  2.,  1.,  0.,  0.,\n",
              "         0.,  0.,  0.,  1.,  1.,  1.,  0.,  0.,  2.,  7.,  8.,  6.,  3.,\n",
              "         0.,  0.,  0.,  0.,  0.,  1.,  0.,  0.,  2.,  1.,  4.,  1.,  7.,\n",
              "        10.,  9.,  0.,  0.,  0.,  0.,  0.,  0.,  0.,  0.,  3.,  5.,  0.,\n",
              "         2.,  4., 17., 32.]])"
            ]
          },
          "metadata": {
            "tags": []
          },
          "execution_count": 68
        }
      ]
    },
    {
      "cell_type": "code",
      "metadata": {
        "id": "I01JkwSF80gd",
        "colab": {
          "base_uri": "https://localhost:8080/",
          "height": 71
        },
        "outputId": "9d1e5722-edd6-4813-8944-d21c0b48f280"
      },
      "source": [
        "russiaMatrices = np.zeros((38, 225))\n",
        "russiaMatrices = getTeamMatrices(14358)"
      ],
      "execution_count": null,
      "outputs": [
        {
          "output_type": "stream",
          "text": [
            "/usr/local/lib/python3.6/dist-packages/ipykernel_launcher.py:2: DeprecationWarning: The default dtype for empty Series will be 'object' instead of 'float64' in a future version. Specify a dtype explicitly to silence this warning.\n",
            "  \n"
          ],
          "name": "stderr"
        }
      ]
    },
    {
      "cell_type": "code",
      "metadata": {
        "id": "jciGVunM80xD",
        "colab": {
          "base_uri": "https://localhost:8080/",
          "height": 102
        },
        "outputId": "8f779bcb-5642-4b12-ebb8-cdcd459e89b2"
      },
      "source": [
        "russiaMatrices"
      ],
      "execution_count": null,
      "outputs": [
        {
          "output_type": "execute_result",
          "data": {
            "text/plain": [
              "array([[ 2.,  0.,  1., ...,  0.,  2., 11.],\n",
              "       [ 2.,  0.,  0., ...,  1.,  9., 18.],\n",
              "       [ 5.,  1.,  1., ...,  1.,  5., 19.],\n",
              "       [17.,  5.,  0., ...,  0.,  0., 10.],\n",
              "       [ 2.,  1.,  2., ...,  3.,  5.,  8.]])"
            ]
          },
          "metadata": {
            "tags": []
          },
          "execution_count": 70
        }
      ]
    },
    {
      "cell_type": "code",
      "metadata": {
        "id": "gVMqngJS8003",
        "colab": {
          "base_uri": "https://localhost:8080/",
          "height": 71
        },
        "outputId": "2e389458-b4e4-4be4-e626-a9d2c8e5ac0f"
      },
      "source": [
        "serbiaMatrices = np.zeros((38, 225))\n",
        "serbiaMatrices = getTeamMatrices(17322)"
      ],
      "execution_count": null,
      "outputs": [
        {
          "output_type": "stream",
          "text": [
            "/usr/local/lib/python3.6/dist-packages/ipykernel_launcher.py:2: DeprecationWarning: The default dtype for empty Series will be 'object' instead of 'float64' in a future version. Specify a dtype explicitly to silence this warning.\n",
            "  \n"
          ],
          "name": "stderr"
        }
      ]
    },
    {
      "cell_type": "code",
      "metadata": {
        "id": "GQLdvQEn81M6",
        "colab": {
          "base_uri": "https://localhost:8080/",
          "height": 935
        },
        "outputId": "f688b5a1-6698-4b09-9ef5-d878b4c0a22e"
      },
      "source": [
        "serbiaMatrices"
      ],
      "execution_count": null,
      "outputs": [
        {
          "output_type": "execute_result",
          "data": {
            "text/plain": [
              "array([[ 0.,  1.,  1.,  0.,  0.,  1.,  2.,  0.,  1.,  0.,  1.,  0.,  0.,\n",
              "         0.,  0.,  1.,  0.,  2.,  2.,  1.,  4.,  3.,  0.,  3.,  0.,  0.,\n",
              "         1.,  0.,  0.,  0.,  1.,  6.,  0.,  0.,  1.,  1.,  0.,  0.,  0.,\n",
              "         0.,  0.,  0.,  1.,  0.,  0.,  0.,  7.,  1.,  2.,  1.,  0.,  1.,\n",
              "         1.,  4.,  4.,  1.,  0.,  0.,  3.,  0.,  0.,  0.,  0.,  1.,  2.,\n",
              "         0.,  0.,  0.,  1.,  2.,  0.,  0.,  0.,  0.,  0.,  0.,  1.,  0.,\n",
              "         0.,  0.,  7., 10.,  1.,  4.,  0.,  2.,  3.,  1.,  1.,  0.,  1.,\n",
              "         3.,  0.,  4.,  0.,  9.,  9.,  2.,  9.,  1.,  2.,  4.,  2.,  1.,\n",
              "         0.,  0.,  2.,  0.,  1.,  0.,  2.,  5.,  1.,  3.,  3.,  0.,  0.,\n",
              "         1.,  0.,  1.,  0.,  1.,  0.,  3.,  0.,  1.,  4.,  5.,  1., 18.,\n",
              "         2.,  1.,  5.,  3.,  2.,  0.,  0.,  0.,  5.,  0.,  0.,  0.,  1.,\n",
              "        12., 10.,  0.,  0.,  1.,  1.,  9.,  0.,  0.,  0.,  0.,  0.,  5.,\n",
              "         1.,  0.,  0.,  0.,  1.,  2.,  0.,  0.,  1.,  0.,  0.,  0.,  0.,\n",
              "         0.,  1.,  0.,  2.,  0.,  0.,  0.,  4.,  4.,  0.,  0.,  0.,  0.,\n",
              "         0.,  0.,  0.,  0.,  0.,  1.,  1.,  0.,  0.,  0.,  2.,  3.,  3.,\n",
              "         0.,  0.,  0.,  0.,  0.,  0.,  0.,  1.,  1.,  1.,  0.,  2.,  4.,\n",
              "         3.,  5.,  0.,  0.,  0.,  0.,  0.,  0.,  0.,  0.,  3.,  4.,  0.,\n",
              "         2.,  1.,  5.,  4.],\n",
              "       [ 2.,  2.,  4.,  1.,  1.,  0.,  1.,  0.,  0.,  0.,  2.,  0.,  1.,\n",
              "         0.,  0.,  1.,  1.,  4.,  1.,  0.,  1.,  2.,  0.,  1.,  0.,  0.,\n",
              "         0.,  2.,  0.,  0.,  7.,  1.,  4.,  6.,  1.,  2.,  1.,  1.,  2.,\n",
              "         1.,  0.,  1.,  0.,  0.,  0.,  3.,  2.,  2.,  2.,  2.,  1.,  2.,\n",
              "         0.,  2.,  6.,  0.,  1.,  0.,  0.,  0.,  0.,  0.,  2.,  3.,  1.,\n",
              "         0.,  0.,  0.,  0.,  3.,  0.,  0.,  0.,  0.,  0.,  0.,  2.,  2.,\n",
              "         1.,  0.,  4.,  8.,  0.,  0.,  0.,  2.,  0.,  1.,  1.,  0.,  0.,\n",
              "         1.,  0.,  0.,  0.,  6.,  5.,  2.,  0.,  1.,  0.,  4.,  2.,  1.,\n",
              "         0.,  0.,  1.,  0.,  2.,  0.,  2.,  1.,  1.,  0.,  0.,  1.,  0.,\n",
              "         0.,  0.,  2.,  0.,  0.,  0.,  1.,  1.,  0.,  1.,  1.,  2.,  2.,\n",
              "         1.,  0.,  0.,  0.,  2.,  0.,  0.,  0.,  2.,  1.,  1.,  0.,  0.,\n",
              "         3.,  1.,  0.,  0.,  2.,  2.,  2.,  0.,  0.,  0.,  0.,  0.,  2.,\n",
              "         0.,  0.,  0.,  0., 16.,  2.,  0.,  1.,  1.,  0.,  0.,  0.,  0.,\n",
              "         0.,  1.,  0.,  0.,  0.,  0.,  1.,  5.,  2.,  1.,  0.,  0.,  0.,\n",
              "         0.,  0.,  0.,  0.,  0.,  1.,  0.,  0.,  0.,  0.,  2.,  4.,  0.,\n",
              "         0.,  0.,  0.,  0.,  0.,  0.,  0.,  0.,  0.,  0.,  1.,  0.,  3.,\n",
              "         5.,  2.,  0.,  0.,  0.,  0.,  0.,  0.,  0.,  0.,  0.,  2.,  0.,\n",
              "         0.,  6.,  2.,  4.],\n",
              "       [ 1.,  2.,  1.,  0.,  0.,  2.,  2.,  0.,  0.,  0.,  0.,  0.,  0.,\n",
              "         0.,  0.,  2.,  4.,  5.,  2.,  0.,  3.,  5.,  1.,  0.,  0.,  0.,\n",
              "         0.,  0.,  0.,  0.,  1.,  2.,  1.,  3.,  0.,  0.,  4.,  3.,  1.,\n",
              "         1.,  0.,  3.,  1.,  1.,  0.,  0.,  4.,  6.,  5.,  2.,  0.,  1.,\n",
              "         4.,  2.,  2.,  0.,  0.,  0.,  0.,  0.,  0.,  0.,  1.,  0.,  1.,\n",
              "         0.,  1.,  0.,  3.,  5.,  0.,  0.,  0.,  1.,  1.,  1.,  0.,  1.,\n",
              "         0.,  0.,  4.,  3.,  2.,  0.,  0.,  1.,  0.,  1.,  0.,  0.,  1.,\n",
              "         3.,  3.,  0.,  0.,  2., 10.,  5.,  4.,  0.,  8.,  4.,  1.,  1.,\n",
              "         0.,  0.,  1.,  1.,  2.,  1.,  4.,  9., 10.,  5.,  3.,  4.,  0.,\n",
              "         0.,  1.,  2.,  1.,  0.,  1.,  1.,  1.,  1.,  2.,  6.,  5.,  3.,\n",
              "         0.,  0.,  1.,  3.,  3.,  0.,  0.,  0.,  1.,  1.,  0.,  1.,  3.,\n",
              "         6.,  2.,  0.,  0.,  0.,  3.,  4.,  0.,  0.,  0.,  0.,  0.,  2.,\n",
              "         0.,  0.,  0.,  0., 17., 17.,  3.,  0.,  0.,  0.,  0.,  0.,  0.,\n",
              "         0.,  0.,  4.,  0.,  0.,  0., 16.,  8.,  5.,  3.,  0.,  0.,  0.,\n",
              "         0.,  0.,  0.,  0.,  0.,  0.,  0.,  0.,  0.,  1.,  0.,  0.,  1.,\n",
              "         0.,  0.,  0.,  0.,  0.,  0.,  0.,  1.,  1.,  0.,  1.,  1.,  4.,\n",
              "         9.,  5.,  0.,  0.,  0.,  0.,  0.,  0.,  0.,  1.,  1.,  1.,  0.,\n",
              "         0.,  2.,  6.,  9.]])"
            ]
          },
          "metadata": {
            "tags": []
          },
          "execution_count": 72
        }
      ]
    },
    {
      "cell_type": "code",
      "metadata": {
        "id": "UxM5XNCO81Q1",
        "colab": {
          "base_uri": "https://localhost:8080/",
          "height": 71
        },
        "outputId": "2c20ddc4-6afa-4c1a-c2de-8f6cdab340b7"
      },
      "source": [
        "spainMatrices = np.zeros((38, 225))\n",
        "spainMatrices = getTeamMatrices(1598)"
      ],
      "execution_count": null,
      "outputs": [
        {
          "output_type": "stream",
          "text": [
            "/usr/local/lib/python3.6/dist-packages/ipykernel_launcher.py:2: DeprecationWarning: The default dtype for empty Series will be 'object' instead of 'float64' in a future version. Specify a dtype explicitly to silence this warning.\n",
            "  \n"
          ],
          "name": "stderr"
        }
      ]
    },
    {
      "cell_type": "code",
      "metadata": {
        "id": "-2hKb81x81o3",
        "colab": {
          "base_uri": "https://localhost:8080/",
          "height": 1000
        },
        "outputId": "56896a4f-c202-4551-c6ed-b6e99b854163"
      },
      "source": [
        "spainMatrices"
      ],
      "execution_count": null,
      "outputs": [
        {
          "output_type": "execute_result",
          "data": {
            "text/plain": [
              "array([[ 6.,  1.,  2.,  2.,  0.,  3.,  3.,  0.,  1.,  0.,  0.,  0.,  0.,\n",
              "         0.,  0.,  3.,  3.,  2.,  2.,  1.,  8.,  5.,  0.,  2.,  3.,  0.,\n",
              "         0.,  0.,  0.,  0.,  1.,  4.,  2.,  0.,  2.,  2.,  5.,  2.,  1.,\n",
              "         3.,  0.,  0.,  0.,  0.,  0.,  0.,  4.,  3.,  4.,  1.,  0.,  1.,\n",
              "         3.,  5.,  0.,  0.,  1.,  0.,  0.,  0.,  0.,  0.,  5.,  2.,  3.,\n",
              "         0.,  0.,  0.,  1.,  1.,  0.,  0.,  0.,  0.,  0.,  3.,  5.,  0.,\n",
              "         1.,  0., 51., 37.,  5.,  1.,  1.,  8.,  0.,  0.,  0.,  0.,  0.,\n",
              "         4.,  1.,  4.,  0., 35., 36., 14.,  9.,  3.,  7.,  6.,  0.,  0.,\n",
              "         3.,  0.,  1.,  1.,  0.,  0.,  3., 19., 12.,  4.,  4.,  4.,  0.,\n",
              "         1.,  2.,  1.,  0.,  2.,  2.,  4.,  1.,  1., 14.,  9., 17., 14.,\n",
              "         1.,  1.,  1.,  7.,  7.,  0.,  0.,  0.,  5.,  3.,  0.,  0.,  7.,\n",
              "        21., 35.,  1.,  0.,  0.,  6.,  8.,  0.,  0.,  0.,  0.,  0., 11.,\n",
              "         1.,  0.,  0.,  1., 22., 10.,  0.,  3.,  0.,  0.,  0.,  0.,  1.,\n",
              "         0.,  1.,  0.,  1.,  0.,  0., 10.,  4.,  3.,  1.,  0.,  0.,  0.,\n",
              "         0.,  0.,  0.,  0.,  1.,  0.,  2.,  0.,  0.,  4.,  3.,  0.,  1.,\n",
              "         0.,  0.,  0.,  0.,  0.,  0.,  0.,  0.,  2.,  3.,  0.,  2.,  1.,\n",
              "         3.,  5.,  0.,  0.,  0.,  0.,  0.,  0.,  0.,  1.,  3.,  9.,  0.,\n",
              "         0.,  0.,  5., 19.],\n",
              "       [11.,  4.,  1.,  0.,  0.,  5.,  3.,  0.,  0.,  1.,  0.,  0.,  0.,\n",
              "         0.,  0.,  4.,  3.,  2.,  2.,  0.,  1.,  2.,  1.,  2.,  1.,  0.,\n",
              "         0.,  0.,  0.,  0.,  2.,  4.,  3.,  5.,  3.,  2.,  1.,  1.,  0.,\n",
              "         1.,  0.,  0.,  0.,  0.,  0.,  1.,  1.,  7.,  6.,  0.,  1.,  3.,\n",
              "         6.,  1.,  4.,  0.,  0.,  0.,  0.,  0.,  0.,  0.,  0.,  8.,  7.,\n",
              "         0.,  0.,  3.,  1.,  1.,  0.,  0.,  0.,  0.,  0.,  4.,  2.,  0.,\n",
              "         0.,  0., 25., 23.,  4.,  0.,  0.,  8.,  1.,  0.,  0.,  0.,  0.,\n",
              "         1.,  1.,  2.,  0., 20., 19., 15.,  9.,  1.,  7.,  3.,  0.,  0.,\n",
              "         2.,  0.,  1.,  2.,  0.,  0.,  4.,  9.,  4., 11.,  3.,  3.,  5.,\n",
              "         1.,  6.,  5.,  0.,  0.,  0.,  2.,  0.,  0., 12., 11., 18.,  6.,\n",
              "         1.,  4.,  0.,  3.,  8.,  0.,  1.,  0.,  1.,  2.,  0.,  0.,  2.,\n",
              "        17.,  8.,  0.,  0.,  0.,  2.,  4.,  0.,  0.,  0.,  0.,  0.,  5.,\n",
              "         4.,  1.,  0.,  0., 41., 21.,  5.,  2.,  0.,  0.,  0.,  0.,  0.,\n",
              "         0.,  0.,  4.,  1.,  1.,  1., 15., 17.,  7.,  4.,  1.,  0.,  0.,\n",
              "         0.,  0.,  0.,  1.,  0.,  0.,  0.,  0.,  4.,  7.,  6.,  4.,  2.,\n",
              "         0.,  0.,  0.,  0.,  0.,  0.,  1.,  4.,  2.,  1.,  2.,  3.,  6.,\n",
              "        12., 13.,  0.,  0.,  0.,  0.,  0.,  0.,  0.,  1.,  4.,  3.,  0.,\n",
              "         0.,  4., 18., 37.],\n",
              "       [ 3.,  5.,  1.,  0.,  1.,  1.,  3.,  0.,  0.,  0.,  0.,  0.,  0.,\n",
              "         0.,  0.,  3.,  5.,  6.,  2.,  0.,  4.,  1.,  1.,  1.,  0.,  0.,\n",
              "         0.,  0.,  0.,  0.,  2.,  2.,  4.,  6.,  2.,  0.,  7.,  2.,  5.,\n",
              "         1.,  0.,  0.,  0.,  0.,  0.,  0.,  3.,  5.,  2.,  3.,  0.,  1.,\n",
              "         1.,  1.,  1.,  0.,  0.,  0.,  0.,  0.,  0.,  1.,  1.,  4.,  2.,\n",
              "         0.,  0.,  0.,  0.,  1.,  1.,  0.,  0.,  0.,  0.,  0.,  1.,  2.,\n",
              "         0.,  0., 20., 15.,  0.,  4.,  0., 11.,  3.,  0.,  0.,  1.,  0.,\n",
              "         2.,  1.,  0.,  0., 20., 37., 15.,  8.,  0., 17.,  7.,  0.,  2.,\n",
              "         1.,  0.,  1.,  2.,  1.,  0.,  7., 13.,  7.,  9.,  2.,  8.,  4.,\n",
              "         3.,  2.,  5.,  0.,  1.,  1.,  0.,  1.,  0., 14., 20., 10.,  9.,\n",
              "         1.,  0.,  1.,  2., 11.,  0.,  0.,  2.,  2.,  1.,  0.,  1.,  2.,\n",
              "         7., 11.,  0.,  0.,  1.,  1.,  6.,  0.,  0.,  0.,  0.,  0.,  9.,\n",
              "        13.,  0.,  3.,  0., 29., 12.,  4.,  0.,  1.,  0.,  0.,  0.,  0.,\n",
              "         0.,  0.,  1.,  2.,  5.,  0., 13., 11.,  4.,  3.,  2.,  0.,  0.,\n",
              "         0.,  0.,  0.,  0.,  2.,  1.,  0.,  0.,  3.,  8.,  5.,  2.,  2.,\n",
              "         0.,  0.,  0.,  0.,  0.,  0.,  0.,  3.,  2.,  0.,  0.,  1.,  7.,\n",
              "        12., 10.,  0.,  0.,  0.,  0.,  0.,  0.,  2.,  0.,  7.,  5.,  0.,\n",
              "         1.,  5., 14., 26.],\n",
              "       [ 5., 11.,  3.,  0.,  0.,  4.,  2.,  1.,  0.,  1.,  0.,  1.,  0.,\n",
              "         0.,  0.,  5.,  8.,  8.,  9.,  2.,  3.,  7.,  0.,  0.,  1.,  0.,\n",
              "         0.,  0.,  0.,  0.,  3.,  6.,  5.,  1.,  1.,  2.,  4.,  7.,  2.,\n",
              "         3.,  0.,  0.,  1.,  0.,  0.,  1.,  2.,  5.,  2.,  2.,  1.,  4.,\n",
              "         1.,  1.,  2.,  0.,  0.,  0.,  0.,  0.,  0.,  0.,  1.,  3.,  0.,\n",
              "         0.,  0.,  0.,  1.,  2.,  0.,  0.,  0.,  0.,  0.,  3.,  3.,  1.,\n",
              "         1.,  0., 21., 21.,  4.,  4.,  2., 29.,  2.,  0.,  2.,  0.,  0.,\n",
              "         2.,  1.,  2.,  0., 26., 31., 29., 22.,  5., 38., 10.,  4.,  4.,\n",
              "         3.,  0.,  0.,  0.,  0.,  0.,  9., 24., 19., 20.,  8.,  3.,  5.,\n",
              "         7.,  2., 12.,  0.,  1.,  0.,  1.,  0.,  6., 31., 18., 19., 14.,\n",
              "         0.,  2.,  6.,  6., 16.,  0.,  2.,  2.,  2.,  0.,  0.,  2.,  5.,\n",
              "        26.,  6.,  0.,  0.,  0.,  1.,  6.,  0.,  0.,  0.,  1.,  0., 11.,\n",
              "        30.,  3.,  0.,  0., 45., 29.,  5.,  1.,  0.,  0.,  1.,  1.,  0.,\n",
              "         0.,  2.,  8.,  3.,  0.,  0., 11., 12., 10.,  0.,  3.,  0.,  0.,\n",
              "         0.,  0.,  0.,  1.,  6.,  5.,  2.,  0.,  7.,  4.,  5.,  6.,  4.,\n",
              "         0.,  0.,  0.,  0.,  0.,  1.,  4.,  2.,  4.,  1.,  2.,  3.,  6.,\n",
              "         3.,  8.,  0.,  0.,  0.,  0.,  0.,  1.,  0.,  2., 15.,  6.,  1.,\n",
              "         1.,  4., 13., 16.]])"
            ]
          },
          "metadata": {
            "tags": []
          },
          "execution_count": 74
        }
      ]
    },
    {
      "cell_type": "code",
      "metadata": {
        "id": "Oqv59bME81t_",
        "colab": {
          "base_uri": "https://localhost:8080/",
          "height": 71
        },
        "outputId": "f3b2c7fb-78f8-411b-e188-90ce735730b6"
      },
      "source": [
        "swedenMatrices = np.zeros((38, 225))\n",
        "swedenMatrices = getTeamMatrices(7047)"
      ],
      "execution_count": null,
      "outputs": [
        {
          "output_type": "stream",
          "text": [
            "/usr/local/lib/python3.6/dist-packages/ipykernel_launcher.py:2: DeprecationWarning: The default dtype for empty Series will be 'object' instead of 'float64' in a future version. Specify a dtype explicitly to silence this warning.\n",
            "  \n"
          ],
          "name": "stderr"
        }
      ]
    },
    {
      "cell_type": "code",
      "metadata": {
        "id": "nJhVux5w82B0",
        "colab": {
          "base_uri": "https://localhost:8080/",
          "height": 102
        },
        "outputId": "5b8414dc-4999-4e44-f957-6315ba25d39d"
      },
      "source": [
        "swedenMatrices"
      ],
      "execution_count": null,
      "outputs": [
        {
          "output_type": "execute_result",
          "data": {
            "text/plain": [
              "array([[1., 2., 0., ..., 2., 5., 4.],\n",
              "       [0., 2., 0., ..., 1., 3., 5.],\n",
              "       [2., 1., 3., ..., 1., 2., 3.],\n",
              "       [0., 1., 0., ..., 0., 2., 2.],\n",
              "       [4., 0., 2., ..., 1., 4., 7.]])"
            ]
          },
          "metadata": {
            "tags": []
          },
          "execution_count": 76
        }
      ]
    },
    {
      "cell_type": "code",
      "metadata": {
        "id": "zfYjC6-I82IH",
        "colab": {
          "base_uri": "https://localhost:8080/",
          "height": 71
        },
        "outputId": "e5dceed8-6bad-4344-cd39-7111b674ca85"
      },
      "source": [
        "switzerlandMatrices = np.zeros((38, 225))\n",
        "switzerlandMatrices = getTeamMatrices(6697)"
      ],
      "execution_count": null,
      "outputs": [
        {
          "output_type": "stream",
          "text": [
            "/usr/local/lib/python3.6/dist-packages/ipykernel_launcher.py:2: DeprecationWarning: The default dtype for empty Series will be 'object' instead of 'float64' in a future version. Specify a dtype explicitly to silence this warning.\n",
            "  \n"
          ],
          "name": "stderr"
        }
      ]
    },
    {
      "cell_type": "code",
      "metadata": {
        "id": "YZo-rzY282eU",
        "colab": {
          "base_uri": "https://localhost:8080/",
          "height": 1000
        },
        "outputId": "b893247f-10f6-40e6-8aab-3832a84a0496"
      },
      "source": [
        "switzerlandMatrices"
      ],
      "execution_count": null,
      "outputs": [
        {
          "output_type": "execute_result",
          "data": {
            "text/plain": [
              "array([[ 6.,  3.,  2.,  0.,  0.,  0.,  1.,  0.,  0.,  0.,  1.,  0.,  0.,\n",
              "         0.,  0.,  1.,  4.,  6.,  1.,  0.,  1.,  2.,  4.,  0.,  0.,  0.,\n",
              "         0.,  0.,  0.,  0.,  1.,  2.,  6.,  3.,  1.,  2.,  4.,  5.,  5.,\n",
              "         0.,  0.,  0.,  0.,  0.,  0.,  0.,  3.,  2.,  0.,  2.,  0.,  3.,\n",
              "         1.,  1.,  2.,  0.,  0.,  0.,  0.,  0.,  0.,  0.,  2.,  4.,  6.,\n",
              "         0.,  0.,  0.,  1.,  4.,  0.,  0.,  0.,  0.,  1.,  1.,  2.,  2.,\n",
              "         0.,  0.,  7.,  9.,  6.,  0.,  0.,  6.,  3.,  0.,  0.,  0.,  0.,\n",
              "         1.,  3.,  0.,  0., 11., 10., 14.,  1.,  0.,  4.,  3.,  2.,  0.,\n",
              "         0.,  0.,  3.,  3.,  1.,  0.,  8., 13., 13.,  7.,  5.,  2.,  0.,\n",
              "         1.,  0.,  0.,  0.,  1.,  0.,  2.,  2.,  0.,  2.,  1.,  4.,  6.,\n",
              "         1.,  0.,  1.,  2.,  3.,  0.,  0.,  0.,  0.,  0.,  0.,  2.,  1.,\n",
              "         5., 13.,  0.,  0.,  0.,  4.,  4.,  0.,  0.,  0.,  0.,  0.,  2.,\n",
              "         3.,  0.,  0.,  0.,  7.,  6.,  0.,  1.,  0.,  0.,  0.,  0.,  0.,\n",
              "         0.,  2.,  0.,  0.,  0.,  0.,  0.,  3.,  3.,  0.,  1.,  0.,  0.,\n",
              "         0.,  0.,  0.,  0.,  0.,  1.,  1.,  0.,  1.,  0.,  1.,  1.,  1.,\n",
              "         0.,  0.,  0.,  0.,  0.,  0.,  0.,  0.,  0.,  0.,  0.,  1.,  0.,\n",
              "         8.,  2.,  0.,  0.,  0.,  0.,  0.,  0.,  0.,  0.,  2.,  1.,  0.,\n",
              "         0.,  3.,  2., 11.],\n",
              "       [ 7.,  5.,  1.,  0.,  0.,  4.,  2.,  0.,  1.,  0.,  1.,  1.,  0.,\n",
              "         0.,  0.,  5.,  5.,  9.,  8.,  1.,  2.,  2.,  2.,  2.,  1.,  1.,\n",
              "         0.,  0.,  0.,  0.,  2.,  3.,  5.,  2.,  4.,  4.,  2.,  1.,  1.,\n",
              "         2.,  1.,  0.,  0.,  0.,  0.,  1.,  5.,  6.,  2.,  3.,  1.,  5.,\n",
              "         4.,  3.,  5.,  1.,  0.,  0.,  0.,  0.,  0.,  1.,  3.,  5.,  7.,\n",
              "         0.,  0.,  0.,  5.,  0.,  0.,  0.,  0.,  0.,  1.,  2.,  6.,  0.,\n",
              "         0.,  0.,  5., 12.,  5.,  0.,  0.,  1.,  6.,  0.,  1.,  0.,  1.,\n",
              "         3.,  0.,  1.,  0.,  7.,  7.,  9.,  6.,  1.,  6.,  2.,  2.,  2.,\n",
              "         1.,  1.,  2.,  0.,  1.,  0.,  8.,  9., 12.,  7.,  4.,  1.,  1.,\n",
              "         2.,  0.,  0.,  1.,  0.,  2.,  2.,  2.,  1.,  2.,  7.,  8., 10.,\n",
              "         2.,  2.,  1.,  2.,  2.,  0.,  2.,  0.,  7.,  0.,  1.,  0.,  1.,\n",
              "         6., 11.,  0.,  0.,  1.,  0.,  2.,  0.,  0.,  0.,  0.,  0.,  2.,\n",
              "         5.,  4.,  0.,  0.,  7.,  6.,  2.,  2.,  0.,  0.,  0.,  0.,  0.,\n",
              "         0.,  0.,  3.,  0.,  0.,  0.,  7.,  3.,  1.,  3.,  2.,  0.,  0.,\n",
              "         0.,  0.,  0.,  0.,  0.,  3.,  0.,  0.,  0.,  2.,  2.,  0.,  0.,\n",
              "         0.,  0.,  0.,  0.,  0.,  0.,  0.,  0.,  1.,  0.,  0.,  3.,  1.,\n",
              "         1.,  0.,  0.,  0.,  0.,  0.,  0.,  0.,  0.,  0.,  2.,  0.,  0.,\n",
              "         1.,  0.,  3.,  9.],\n",
              "       [ 5.,  6.,  3.,  0.,  0.,  3.,  3.,  0.,  0.,  0.,  0.,  0.,  0.,\n",
              "         0.,  0.,  3., 10., 10.,  5.,  1.,  6.,  7.,  4.,  0.,  2.,  0.,\n",
              "         0.,  0.,  0.,  0.,  6., 12., 10.,  9.,  2.,  3.,  1.,  3.,  3.,\n",
              "         5.,  0.,  0.,  0.,  0.,  0.,  0.,  3., 13.,  4.,  5.,  3.,  1.,\n",
              "         1.,  4.,  3.,  0.,  0.,  0.,  0.,  0.,  0.,  0.,  3.,  9.,  2.,\n",
              "         0.,  0.,  0.,  0.,  3.,  0.,  0.,  0.,  0.,  0.,  2.,  3.,  1.,\n",
              "         0.,  0., 13., 14.,  5.,  1.,  0.,  4.,  0.,  0.,  0.,  1.,  0.,\n",
              "         5.,  5.,  1.,  0.,  7., 15.,  9.,  2.,  1.,  3.,  2.,  1.,  0.,\n",
              "         0.,  0.,  1.,  5.,  0.,  0.,  8.,  6.,  9.,  9.,  9.,  2.,  2.,\n",
              "         0.,  1.,  2.,  0.,  1.,  3.,  2.,  1.,  2.,  7., 10.,  8.,  6.,\n",
              "         1.,  0.,  0.,  2.,  6.,  0.,  1.,  0.,  5.,  1.,  0.,  0.,  6.,\n",
              "        11., 18.,  1.,  1.,  0.,  1.,  5.,  0.,  0.,  0.,  0.,  0.,  3.,\n",
              "         1.,  0.,  0.,  0.,  8.,  5.,  1.,  0.,  0.,  0.,  0.,  0.,  0.,\n",
              "         0.,  0.,  1.,  0.,  0.,  0.,  1.,  1.,  1.,  0.,  1.,  0.,  0.,\n",
              "         0.,  0.,  0.,  0.,  0.,  0.,  0.,  0.,  0.,  0.,  2.,  1.,  1.,\n",
              "         0.,  0.,  0.,  0.,  0.,  0.,  0.,  1.,  0.,  0.,  1.,  1.,  1.,\n",
              "         1.,  2.,  0.,  0.,  0.,  0.,  0.,  0.,  0.,  0.,  1.,  0.,  0.,\n",
              "         1.,  4.,  6., 11.],\n",
              "       [ 4.,  1.,  4.,  0.,  0.,  2.,  1.,  0.,  0.,  0.,  0.,  0.,  0.,\n",
              "         0.,  0.,  1.,  4.,  5.,  7.,  0.,  3.,  5.,  1.,  3.,  3.,  1.,\n",
              "         0.,  0.,  0.,  0.,  1.,  2.,  5.,  5.,  4.,  4.,  5.,  2.,  1.,\n",
              "         3.,  0.,  0.,  0.,  0.,  0.,  0.,  5.,  3.,  3.,  2.,  0.,  3.,\n",
              "         2.,  3.,  7.,  0.,  0.,  0.,  0.,  0.,  0.,  0.,  1.,  3.,  6.,\n",
              "         0.,  0.,  0.,  1.,  1.,  0.,  0.,  0.,  0.,  0.,  1.,  5.,  3.,\n",
              "         0.,  0.,  5., 11.,  8.,  0.,  0.,  2.,  2.,  0.,  0.,  0.,  0.,\n",
              "         8.,  2.,  1.,  0., 10., 11.,  9.,  3.,  3., 11.,  2.,  0.,  0.,\n",
              "         0.,  1.,  2.,  1.,  1.,  0.,  6., 12.,  2., 11.,  5.,  1.,  4.,\n",
              "         0.,  2.,  3.,  0.,  2.,  3.,  1.,  1.,  3.,  9.,  8.,  7., 11.,\n",
              "         2.,  0.,  1.,  2.,  4.,  0.,  0.,  1.,  2.,  1.,  1.,  0.,  6.,\n",
              "        14., 15.,  0.,  1.,  2.,  1.,  6.,  0.,  0.,  0.,  0.,  0.,  3.,\n",
              "         1.,  2.,  0.,  0., 17.,  8.,  3.,  1.,  1.,  0.,  0.,  0.,  0.,\n",
              "         0.,  1.,  0.,  0.,  0.,  1.,  5.,  8.,  0.,  3.,  2.,  0.,  0.,\n",
              "         0.,  0.,  0.,  0.,  0.,  2.,  0.,  0.,  3.,  1.,  1.,  1.,  1.,\n",
              "         0.,  0.,  0.,  0.,  0.,  0.,  0.,  0.,  1.,  0.,  0.,  3.,  2.,\n",
              "         2.,  3.,  0.,  0.,  0.,  0.,  0.,  0.,  0.,  2.,  3.,  2.,  0.,\n",
              "         1.,  2.,  4., 17.]])"
            ]
          },
          "metadata": {
            "tags": []
          },
          "execution_count": 78
        }
      ]
    },
    {
      "cell_type": "code",
      "metadata": {
        "id": "F7QzR-Gi82iU"
      },
      "source": [
        "Matrices = np.zeros((38, 225))\n",
        "Matrices = getTeamMatrices()"
      ],
      "execution_count": null,
      "outputs": []
    },
    {
      "cell_type": "code",
      "metadata": {
        "id": "Ip-AIvQw8225"
      },
      "source": [
        ""
      ],
      "execution_count": null,
      "outputs": []
    },
    {
      "cell_type": "code",
      "metadata": {
        "id": "zzpnFGsJ826x"
      },
      "source": [
        "Matrices = np.zeros((38, 225))\n",
        "Matrices = getTeamMatrices()"
      ],
      "execution_count": null,
      "outputs": []
    },
    {
      "cell_type": "code",
      "metadata": {
        "id": "i2vsxJUs83jJ"
      },
      "source": [
        ""
      ],
      "execution_count": null,
      "outputs": []
    },
    {
      "cell_type": "code",
      "metadata": {
        "id": "AqRQRkVN80dq"
      },
      "source": [
        "from google.colab import files\n",
        "import pickle\n",
        "with open('wc.pickle', 'wb') as f:\n",
        "  pickle.dump([australiaMatrices, iranMatrices, koreaMatrices, japanMatrices, saudiArabiaMatrices, tunisiaMatrices, senegalMatrices, moroccoMatrices, egyptMatrices, nigeriaMatrices, mexicoMatrices, costaRicaMatrices, panamaMatrices, brazilMatrices, argentinaMatrices, peruMatrices, uruguayMatrices, colombiaMatrices, belgiumMatrices, croatiaMatrices, denmarkMatrices, englandMatrices, franceMatrices, germanyMatrices, icelandMatrices, polandMatrices, portugalMatrices, russiaMatrices, serbiaMatrices, spainMatrices, swedenMatrices, switzerlandMatrices], f)\n",
        "files.download('wc.pickle')  "
      ],
      "execution_count": null,
      "outputs": []
    }
  ]
}